{
 "cells": [
  {
   "cell_type": "code",
   "execution_count": 32,
   "metadata": {},
   "outputs": [
    {
     "name": "stdout",
     "output_type": "stream",
     "text": [
      "The autoreload extension is already loaded. To reload it, use:\n",
      "  %reload_ext autoreload\n"
     ]
    }
   ],
   "source": [
    "%load_ext autoreload\n",
    "%autoreload 2\n",
    "%matplotlib qt5\n",
    "# Add modules to the path\n",
    "import sys\n",
    "sys.path.append('C:\\\\Users\\\\francescag\\\\Documents\\\\SourceTree_repos\\\\Python_git\\\\')\n",
    "sys.path.insert(0, 'C:\\\\Users\\\\francescag\\\\Documents\\\\SourceTree_repos')\n",
    "sys.path.insert(0, 'C:\\\\Users\\\\francescag\\\\Documents\\\\SourceTree_repos\\\\Python_git\\\\freely_moving_photometry_analysis')\n",
    "import matplotlib.pyplot as plt\n",
    "from hernando_behavioural_analysis_dev.BehaviouralAnalysis.utils import custom_functions as cuf\n",
    "import matplotlib.cm as cm\n",
    "import numpy as np\n",
    "import os\n",
    "import matplotlib\n",
    "import pandas as pd\n",
    "import pickle\n",
    "from utils.post_processing_utils import *\n",
    "from utils.plotting import calculate_error_bars\n",
    "import seaborn as sns"
   ]
  },
  {
   "cell_type": "code",
   "execution_count": 33,
   "metadata": {},
   "outputs": [],
   "source": [
    "def moving_average(x, window=50):\n",
    "    rolling_average = np.empty(len(x))\n",
    "    rolling_average[:] = np.nan\n",
    "    for i in range(window, len(x)):\n",
    "        win = range((i - window), i)\n",
    "        rolling_average[i] = np.mean(x[win])\n",
    "    return rolling_average"
   ]
  },
  {
   "cell_type": "code",
   "execution_count": 34,
   "metadata": {},
   "outputs": [],
   "source": [
    "processed_data_dir = os.path.join('T:\\\\photometry_2AC\\\\processed_data\\\\state_change_data')\n",
    "state_change_data_file = os.path.join(processed_data_dir, 'value_switch_nacc_mice.csv')\n",
    "pre_pc = []\n",
    "post_pc = []\n",
    "mice = [ 'SNL_photo30', 'SNL_photo31', 'SNL_photo32', 'SNL_photo34', 'SNL_photo35']\n",
    "mouse_ids = []\n",
    "session_ids = []\n",
    "moving_avs = []\n",
    "reward_blocks = []\n",
    "performance_to_delvalued_tone = []\n",
    "#mice = ['SNL_photo28', 'SNL_photo30', 'SNL_photo31', 'SNL_photo32', 'SNL_photo33', 'SNL_photo34', 'SNL_photo35']\n",
    "for mouse_num, mouse_id in enumerate(mice):\n",
    "    all_experiments = get_all_experimental_records()\n",
    "    sessions = all_experiments[(all_experiments['mouse_id'] == mouse_id) & (all_experiments['experiment_notes'] == 'value switch')]['date'].values\n",
    "    for date in sessions:\n",
    "        experiment_to_process = all_experiments[(all_experiments['date'] == date) & (all_experiments['mouse_id'] == mouse_id)]\n",
    "        traces, trial_data = open_experiment(experiment_to_process)\n",
    "        trial_data.loc[trial_data['Trial outcome'] == 3, 'Trial outcome'] = 0\n",
    "        red_trial_data = trial_data[trial_data['State name'] == 'TrialStart']\n",
    "        post_trials = red_trial_data[red_trial_data['Trial num'] >= 100]\n",
    "        pre_trials = red_trial_data[red_trial_data['Trial num'] < 100]\n",
    "        post_reward_side = post_trials['Reward block'].unique()[0]\n",
    "        if post_reward_side == 1:\n",
    "            side = -1\n",
    "            devalued_trial_type = 7\n",
    "        elif post_reward_side == 5:\n",
    "            side = 1\n",
    "            devalued_trial_type = 1\n",
    "        devalued_trials = post_trials[post_trials['Trial type'] == devalued_trial_type]\n",
    "        performance = np.mean(devalued_trials['Trial outcome'].values) * 100\n",
    "        pre_bias = cuf.RBias(pre_trials['First response'], pre_trials['First choice correct'])* side\n",
    "        post_bias = cuf.RBias(post_trials['First response'], post_trials['First choice correct']) *side\n",
    "        post_pc.append(post_bias)\n",
    "        pre_pc.append(pre_bias)\n",
    "        session_ids.append(date)\n",
    "        mouse_ids.append(mouse_id)\n",
    "        reward_blocks.append(post_reward_side)\n",
    "        performance_to_delvalued_tone.append(performance)\n",
    "        \n"
   ]
  },
  {
   "cell_type": "code",
   "execution_count": 35,
   "metadata": {},
   "outputs": [],
   "source": [
    "mice=['SNL_photo70', 'SNL_photo72', 'SNL_photo37', 'SNL_photo44', 'SNL_photo43']\n",
    "state_change_data_file = os.path.join(processed_data_dir,'value_switch_all_tail_mice_test.csv')\n",
    "for mouse_num, mouse_id in enumerate(mice):\n",
    "    all_experiments = get_all_experimental_records()\n",
    "    sessions = all_experiments[(all_experiments['mouse_id'] == mouse_id) & (all_experiments['experiment_notes'] == 'value switch')]['date'].values\n",
    "    for date in sessions:\n",
    "        experiment_to_process = all_experiments[(all_experiments['date'] == date) & (all_experiments['mouse_id'] == mouse_id)]\n",
    "        traces, trial_data = open_experiment(experiment_to_process)\n",
    "        trial_data.loc[trial_data['Trial outcome'] == 3, 'Trial outcome'] = 0\n",
    "        red_trial_data = trial_data[trial_data['State name'] == 'TrialStart']\n",
    "        post_trials = red_trial_data[red_trial_data['Trial num'] >= 100]\n",
    "        pre_trials = red_trial_data[red_trial_data['Trial num'] < 100]\n",
    "        post_reward_side = post_trials['Reward block'].unique()[0]\n",
    "        if post_reward_side == 1:\n",
    "            side = -1\n",
    "            devalued_trial_type = 7\n",
    "        elif post_reward_side == 5:\n",
    "            side = 1\n",
    "            devalued_trial_type = 1\n",
    "        devalued_trials = post_trials[post_trials['Trial type'] == devalued_trial_type]\n",
    "        performance = np.mean(devalued_trials['Trial outcome'].values) * 100\n",
    "        pre_bias = cuf.RBias(pre_trials['First response'], pre_trials['First choice correct'])* side\n",
    "        post_bias = cuf.RBias(post_trials['First response'], post_trials['First choice correct']) *side\n",
    "        post_pc.append(post_bias)\n",
    "        pre_pc.append(pre_bias)\n",
    "        session_ids.append(date)\n",
    "        mouse_ids.append(mouse_id)\n",
    "        reward_blocks.append(post_reward_side)\n",
    "        performance_to_delvalued_tone.append(performance)\n"
   ]
  },
  {
   "cell_type": "code",
   "execution_count": 36,
   "metadata": {},
   "outputs": [
    {
     "name": "stderr",
     "output_type": "stream",
     "text": [
      "C:\\Users\\francescag\\AppData\\Local\\Continuum\\miniconda3\\envs\\py38\\lib\\site-packages\\numpy\\core\\fromnumeric.py:3438: FutureWarning: In a future version, DataFrame.mean(axis=None) will return a scalar mean over the entire DataFrame. To retain the old behavior, use 'frame.mean(axis=0)' or just 'frame.mean()'\n",
      "  return mean(axis=axis, dtype=dtype, out=out, **kwargs)\n"
     ]
    }
   ],
   "source": [
    "behavioural_change_performance = {}\n",
    "behavioural_change_performance['mouse'] = mouse_ids\n",
    "behavioural_change_performance['session'] = session_ids\n",
    "behavioural_change_performance['performance to devalued tone'] = performance_to_delvalued_tone \n",
    "behavioural_change_performance_df = pd.DataFrame(behavioural_change_performance)\n",
    "\n",
    "per_mouse_performance = behavioural_change_performance_df.groupby(['mouse'])[['performance to devalued tone']].apply(np.mean)\n",
    "per_mouse_performance = per_mouse_performance.reset_index()"
   ]
  },
  {
   "cell_type": "code",
   "execution_count": 37,
   "metadata": {},
   "outputs": [
    {
     "data": {
      "text/plain": [
       "81.9938010150495"
      ]
     },
     "execution_count": 37,
     "metadata": {},
     "output_type": "execute_result"
    }
   ],
   "source": [
    "np.mean(per_mouse_performance['performance to devalued tone'])"
   ]
  },
  {
   "cell_type": "code",
   "execution_count": 38,
   "metadata": {},
   "outputs": [
    {
     "data": {
      "text/plain": [
       "6.239987618045049"
      ]
     },
     "execution_count": 38,
     "metadata": {},
     "output_type": "execute_result"
    }
   ],
   "source": [
    "np.std(per_mouse_performance['performance to devalued tone'])"
   ]
  },
  {
   "cell_type": "code",
   "execution_count": 39,
   "metadata": {},
   "outputs": [
    {
     "data": {
      "text/html": [
       "<div>\n",
       "<style scoped>\n",
       "    .dataframe tbody tr th:only-of-type {\n",
       "        vertical-align: middle;\n",
       "    }\n",
       "\n",
       "    .dataframe tbody tr th {\n",
       "        vertical-align: top;\n",
       "    }\n",
       "\n",
       "    .dataframe thead th {\n",
       "        text-align: right;\n",
       "    }\n",
       "</style>\n",
       "<table border=\"1\" class=\"dataframe\">\n",
       "  <thead>\n",
       "    <tr style=\"text-align: right;\">\n",
       "      <th></th>\n",
       "      <th>Trial num</th>\n",
       "      <th>Trial type</th>\n",
       "      <th>State type</th>\n",
       "      <th>Instance in state</th>\n",
       "      <th>Max times in state</th>\n",
       "      <th>State name</th>\n",
       "      <th>Time start</th>\n",
       "      <th>Time end</th>\n",
       "      <th>Response</th>\n",
       "      <th>Last response</th>\n",
       "      <th>Last outcome</th>\n",
       "      <th>Trial start</th>\n",
       "      <th>Trial end</th>\n",
       "      <th>Trial outcome</th>\n",
       "      <th>First response</th>\n",
       "      <th>Reward block</th>\n",
       "      <th>First choice correct</th>\n",
       "    </tr>\n",
       "  </thead>\n",
       "  <tbody>\n",
       "    <tr>\n",
       "      <th>944</th>\n",
       "      <td>100.0</td>\n",
       "      <td>7.0</td>\n",
       "      <td>1.0</td>\n",
       "      <td>1.0</td>\n",
       "      <td>1.0</td>\n",
       "      <td>TrialStart</td>\n",
       "      <td>936.2984</td>\n",
       "      <td>936.3084</td>\n",
       "      <td>1.0</td>\n",
       "      <td>1.0</td>\n",
       "      <td>0.0</td>\n",
       "      <td>936.2984</td>\n",
       "      <td>938.9149</td>\n",
       "      <td>0.0</td>\n",
       "      <td>1.0</td>\n",
       "      <td>5.0</td>\n",
       "      <td>0.0</td>\n",
       "    </tr>\n",
       "    <tr>\n",
       "      <th>951</th>\n",
       "      <td>101.0</td>\n",
       "      <td>1.0</td>\n",
       "      <td>1.0</td>\n",
       "      <td>1.0</td>\n",
       "      <td>1.0</td>\n",
       "      <td>TrialStart</td>\n",
       "      <td>939.1054</td>\n",
       "      <td>939.1154</td>\n",
       "      <td>1.0</td>\n",
       "      <td>1.0</td>\n",
       "      <td>0.0</td>\n",
       "      <td>939.1054</td>\n",
       "      <td>940.6004</td>\n",
       "      <td>1.0</td>\n",
       "      <td>1.0</td>\n",
       "      <td>5.0</td>\n",
       "      <td>1.0</td>\n",
       "    </tr>\n",
       "    <tr>\n",
       "      <th>959</th>\n",
       "      <td>102.0</td>\n",
       "      <td>7.0</td>\n",
       "      <td>1.0</td>\n",
       "      <td>1.0</td>\n",
       "      <td>1.0</td>\n",
       "      <td>TrialStart</td>\n",
       "      <td>940.7612</td>\n",
       "      <td>940.7712</td>\n",
       "      <td>2.0</td>\n",
       "      <td>1.0</td>\n",
       "      <td>1.0</td>\n",
       "      <td>940.7612</td>\n",
       "      <td>950.2004</td>\n",
       "      <td>1.0</td>\n",
       "      <td>2.0</td>\n",
       "      <td>5.0</td>\n",
       "      <td>1.0</td>\n",
       "    </tr>\n",
       "    <tr>\n",
       "      <th>972</th>\n",
       "      <td>103.0</td>\n",
       "      <td>1.0</td>\n",
       "      <td>1.0</td>\n",
       "      <td>1.0</td>\n",
       "      <td>1.0</td>\n",
       "      <td>TrialStart</td>\n",
       "      <td>950.3738</td>\n",
       "      <td>950.3838</td>\n",
       "      <td>1.0</td>\n",
       "      <td>2.0</td>\n",
       "      <td>1.0</td>\n",
       "      <td>950.3738</td>\n",
       "      <td>957.8357</td>\n",
       "      <td>1.0</td>\n",
       "      <td>1.0</td>\n",
       "      <td>5.0</td>\n",
       "      <td>1.0</td>\n",
       "    </tr>\n",
       "    <tr>\n",
       "      <th>985</th>\n",
       "      <td>104.0</td>\n",
       "      <td>7.0</td>\n",
       "      <td>1.0</td>\n",
       "      <td>1.0</td>\n",
       "      <td>1.0</td>\n",
       "      <td>TrialStart</td>\n",
       "      <td>957.9962</td>\n",
       "      <td>958.0062</td>\n",
       "      <td>2.0</td>\n",
       "      <td>1.0</td>\n",
       "      <td>1.0</td>\n",
       "      <td>957.9962</td>\n",
       "      <td>962.0884</td>\n",
       "      <td>1.0</td>\n",
       "      <td>2.0</td>\n",
       "      <td>5.0</td>\n",
       "      <td>1.0</td>\n",
       "    </tr>\n",
       "    <tr>\n",
       "      <th>...</th>\n",
       "      <td>...</td>\n",
       "      <td>...</td>\n",
       "      <td>...</td>\n",
       "      <td>...</td>\n",
       "      <td>...</td>\n",
       "      <td>...</td>\n",
       "      <td>...</td>\n",
       "      <td>...</td>\n",
       "      <td>...</td>\n",
       "      <td>...</td>\n",
       "      <td>...</td>\n",
       "      <td>...</td>\n",
       "      <td>...</td>\n",
       "      <td>...</td>\n",
       "      <td>...</td>\n",
       "      <td>...</td>\n",
       "      <td>...</td>\n",
       "    </tr>\n",
       "    <tr>\n",
       "      <th>2855</th>\n",
       "      <td>307.0</td>\n",
       "      <td>1.0</td>\n",
       "      <td>1.0</td>\n",
       "      <td>1.0</td>\n",
       "      <td>1.0</td>\n",
       "      <td>TrialStart</td>\n",
       "      <td>2164.2924</td>\n",
       "      <td>2164.3024</td>\n",
       "      <td>2.0</td>\n",
       "      <td>2.0</td>\n",
       "      <td>1.0</td>\n",
       "      <td>2164.2924</td>\n",
       "      <td>2229.3704</td>\n",
       "      <td>0.0</td>\n",
       "      <td>2.0</td>\n",
       "      <td>5.0</td>\n",
       "      <td>0.0</td>\n",
       "    </tr>\n",
       "    <tr>\n",
       "      <th>2872</th>\n",
       "      <td>308.0</td>\n",
       "      <td>1.0</td>\n",
       "      <td>1.0</td>\n",
       "      <td>1.0</td>\n",
       "      <td>1.0</td>\n",
       "      <td>TrialStart</td>\n",
       "      <td>2229.5529</td>\n",
       "      <td>2229.5629</td>\n",
       "      <td>1.0</td>\n",
       "      <td>2.0</td>\n",
       "      <td>0.0</td>\n",
       "      <td>2229.5529</td>\n",
       "      <td>2243.7099</td>\n",
       "      <td>1.0</td>\n",
       "      <td>1.0</td>\n",
       "      <td>5.0</td>\n",
       "      <td>1.0</td>\n",
       "    </tr>\n",
       "    <tr>\n",
       "      <th>2880</th>\n",
       "      <td>309.0</td>\n",
       "      <td>1.0</td>\n",
       "      <td>1.0</td>\n",
       "      <td>1.0</td>\n",
       "      <td>1.0</td>\n",
       "      <td>TrialStart</td>\n",
       "      <td>2243.8720</td>\n",
       "      <td>2243.8820</td>\n",
       "      <td>1.0</td>\n",
       "      <td>1.0</td>\n",
       "      <td>1.0</td>\n",
       "      <td>2243.8720</td>\n",
       "      <td>2247.5658</td>\n",
       "      <td>1.0</td>\n",
       "      <td>1.0</td>\n",
       "      <td>5.0</td>\n",
       "      <td>1.0</td>\n",
       "    </tr>\n",
       "    <tr>\n",
       "      <th>2887</th>\n",
       "      <td>310.0</td>\n",
       "      <td>1.0</td>\n",
       "      <td>1.0</td>\n",
       "      <td>1.0</td>\n",
       "      <td>1.0</td>\n",
       "      <td>TrialStart</td>\n",
       "      <td>2247.7889</td>\n",
       "      <td>2247.7989</td>\n",
       "      <td>NaN</td>\n",
       "      <td>1.0</td>\n",
       "      <td>1.0</td>\n",
       "      <td>2247.7889</td>\n",
       "      <td>2291.2642</td>\n",
       "      <td>0.0</td>\n",
       "      <td>NaN</td>\n",
       "      <td>5.0</td>\n",
       "      <td>0.0</td>\n",
       "    </tr>\n",
       "    <tr>\n",
       "      <th>2894</th>\n",
       "      <td>311.0</td>\n",
       "      <td>1.0</td>\n",
       "      <td>1.0</td>\n",
       "      <td>1.0</td>\n",
       "      <td>1.0</td>\n",
       "      <td>TrialStart</td>\n",
       "      <td>2291.4255</td>\n",
       "      <td>2291.4355</td>\n",
       "      <td>1.0</td>\n",
       "      <td>NaN</td>\n",
       "      <td>3.0</td>\n",
       "      <td>2291.4255</td>\n",
       "      <td>2590.8506</td>\n",
       "      <td>1.0</td>\n",
       "      <td>1.0</td>\n",
       "      <td>5.0</td>\n",
       "      <td>1.0</td>\n",
       "    </tr>\n",
       "  </tbody>\n",
       "</table>\n",
       "<p>212 rows × 17 columns</p>\n",
       "</div>"
      ],
      "text/plain": [
       "      Trial num  Trial type  State type  Instance in state  \\\n",
       "944       100.0         7.0         1.0                1.0   \n",
       "951       101.0         1.0         1.0                1.0   \n",
       "959       102.0         7.0         1.0                1.0   \n",
       "972       103.0         1.0         1.0                1.0   \n",
       "985       104.0         7.0         1.0                1.0   \n",
       "...         ...         ...         ...                ...   \n",
       "2855      307.0         1.0         1.0                1.0   \n",
       "2872      308.0         1.0         1.0                1.0   \n",
       "2880      309.0         1.0         1.0                1.0   \n",
       "2887      310.0         1.0         1.0                1.0   \n",
       "2894      311.0         1.0         1.0                1.0   \n",
       "\n",
       "      Max times in state  State name  Time start   Time end  Response  \\\n",
       "944                  1.0  TrialStart    936.2984   936.3084       1.0   \n",
       "951                  1.0  TrialStart    939.1054   939.1154       1.0   \n",
       "959                  1.0  TrialStart    940.7612   940.7712       2.0   \n",
       "972                  1.0  TrialStart    950.3738   950.3838       1.0   \n",
       "985                  1.0  TrialStart    957.9962   958.0062       2.0   \n",
       "...                  ...         ...         ...        ...       ...   \n",
       "2855                 1.0  TrialStart   2164.2924  2164.3024       2.0   \n",
       "2872                 1.0  TrialStart   2229.5529  2229.5629       1.0   \n",
       "2880                 1.0  TrialStart   2243.8720  2243.8820       1.0   \n",
       "2887                 1.0  TrialStart   2247.7889  2247.7989       NaN   \n",
       "2894                 1.0  TrialStart   2291.4255  2291.4355       1.0   \n",
       "\n",
       "      Last response  Last outcome  Trial start  Trial end  Trial outcome  \\\n",
       "944             1.0           0.0     936.2984   938.9149            0.0   \n",
       "951             1.0           0.0     939.1054   940.6004            1.0   \n",
       "959             1.0           1.0     940.7612   950.2004            1.0   \n",
       "972             2.0           1.0     950.3738   957.8357            1.0   \n",
       "985             1.0           1.0     957.9962   962.0884            1.0   \n",
       "...             ...           ...          ...        ...            ...   \n",
       "2855            2.0           1.0    2164.2924  2229.3704            0.0   \n",
       "2872            2.0           0.0    2229.5529  2243.7099            1.0   \n",
       "2880            1.0           1.0    2243.8720  2247.5658            1.0   \n",
       "2887            1.0           1.0    2247.7889  2291.2642            0.0   \n",
       "2894            NaN           3.0    2291.4255  2590.8506            1.0   \n",
       "\n",
       "      First response  Reward block  First choice correct  \n",
       "944              1.0           5.0                   0.0  \n",
       "951              1.0           5.0                   1.0  \n",
       "959              2.0           5.0                   1.0  \n",
       "972              1.0           5.0                   1.0  \n",
       "985              2.0           5.0                   1.0  \n",
       "...              ...           ...                   ...  \n",
       "2855             2.0           5.0                   0.0  \n",
       "2872             1.0           5.0                   1.0  \n",
       "2880             1.0           5.0                   1.0  \n",
       "2887             NaN           5.0                   0.0  \n",
       "2894             1.0           5.0                   1.0  \n",
       "\n",
       "[212 rows x 17 columns]"
      ]
     },
     "execution_count": 39,
     "metadata": {},
     "output_type": "execute_result"
    }
   ],
   "source": [
    "post_trials"
   ]
  },
  {
   "cell_type": "code",
   "execution_count": 10,
   "metadata": {},
   "outputs": [
    {
     "data": {
      "text/plain": [
       "5.0"
      ]
     },
     "execution_count": 10,
     "metadata": {},
     "output_type": "execute_result"
    }
   ],
   "source": [
    "post_reward_side"
   ]
  },
  {
   "cell_type": "code",
   "execution_count": 103,
   "metadata": {},
   "outputs": [
    {
     "ename": "NameError",
     "evalue": "name 'all_reward_block_data' is not defined",
     "output_type": "error",
     "traceback": [
      "\u001b[1;31m---------------------------------------------------------------------------\u001b[0m",
      "\u001b[1;31mNameError\u001b[0m                                 Traceback (most recent call last)",
      "Input \u001b[1;32mIn [103]\u001b[0m, in \u001b[0;36m<cell line: 1>\u001b[1;34m()\u001b[0m\n\u001b[1;32m----> 1\u001b[0m timepoints \u001b[38;5;241m=\u001b[39m \u001b[43mall_reward_block_data\u001b[49m[\u001b[38;5;124m'\u001b[39m\u001b[38;5;124mtime points\u001b[39m\u001b[38;5;124m'\u001b[39m]\u001b[38;5;241m.\u001b[39miloc[\u001b[38;5;241m0\u001b[39m]\n\u001b[0;32m      2\u001b[0m font \u001b[38;5;241m=\u001b[39m {\u001b[38;5;124m'\u001b[39m\u001b[38;5;124msize\u001b[39m\u001b[38;5;124m'\u001b[39m   : \u001b[38;5;241m12\u001b[39m}\n\u001b[0;32m      4\u001b[0m matplotlib\u001b[38;5;241m.\u001b[39mrc(\u001b[38;5;124m'\u001b[39m\u001b[38;5;124mfont\u001b[39m\u001b[38;5;124m'\u001b[39m, \u001b[38;5;241m*\u001b[39m\u001b[38;5;241m*\u001b[39mfont)\n",
      "\u001b[1;31mNameError\u001b[0m: name 'all_reward_block_data' is not defined"
     ]
    }
   ],
   "source": [
    "timepoints = all_reward_block_data['time points'].iloc[0]\n",
    "font = {'size'   : 12}\n",
    "\n",
    "matplotlib.rc('font', **font)\n",
    "\n",
    "mouse_name = 'SNL_photo32'\n",
    "\n",
    "fig, ax = plt.subplots(2,1) #, figsize=(10,16))\n",
    "plot_mean_trace_for_condition(ax[0], all_reward_block_data[all_reward_block_data['mouse'] == mouse_name], timepoints,\n",
    "                              'contra reward amount', error_bar_method='ci', save_location=processed_data_dir)\n",
    "lg1 = ax[0].legend(title='Absolute value (ul)',bbox_to_anchor=(1., .8, .15,.2), loc='upper left')\n",
    "plot_mean_trace_for_condition(ax[1], all_reward_block_data[all_reward_block_data['mouse'] == mouse_name], timepoints,\n",
    "                              'relative reward amount', error_bar_method = 'ci', save_location=processed_data_dir)\n",
    "lg2 = ax[1].legend(title='Relative value (ul)',bbox_to_anchor=(1., .8, .15,.2), loc='upper left')\n",
    "\n",
    "plt.tight_layout()\n"
   ]
  },
  {
   "cell_type": "code",
   "execution_count": 40,
   "metadata": {},
   "outputs": [],
   "source": [
    "behavioural_change = {}\n",
    "behavioural_change['mouse'] = mouse_ids\n",
    "behavioural_change['session'] = session_ids\n",
    "behavioural_change['pre bias'] = pre_pc \n",
    "behavioural_change['post bias'] = post_pc\n",
    "behavioural_change_df = pd.DataFrame(behavioural_change)"
   ]
  },
  {
   "cell_type": "code",
   "execution_count": 41,
   "metadata": {},
   "outputs": [
    {
     "name": "stderr",
     "output_type": "stream",
     "text": [
      "C:\\Users\\francescag\\AppData\\Local\\Continuum\\miniconda3\\envs\\py38\\lib\\site-packages\\numpy\\core\\fromnumeric.py:3438: FutureWarning: In a future version, DataFrame.mean(axis=None) will return a scalar mean over the entire DataFrame. To retain the old behavior, use 'frame.mean(axis=0)' or just 'frame.mean()'\n",
      "  return mean(axis=axis, dtype=dtype, out=out, **kwargs)\n"
     ]
    }
   ],
   "source": [
    "df_for_plot = behavioural_change_df.groupby(['mouse'])[['pre bias', 'post bias']].apply(np.mean)*100\n",
    "df_for_plot = df_for_plot.reset_index()"
   ]
  },
  {
   "cell_type": "code",
   "execution_count": 42,
   "metadata": {},
   "outputs": [],
   "source": [
    "df_for_plot1 = df_for_plot.set_index('mouse').transpose()\n"
   ]
  },
  {
   "cell_type": "code",
   "execution_count": 43,
   "metadata": {},
   "outputs": [],
   "source": [
    "def francescas_plot(ax, data, show_err_bar=False, mean_linewidth=4, mean_line_color='blue', legend=False):\n",
    "    \"\"\"Plot lines for all mice from early to late.\n",
    "    \"\"\"\n",
    "    data.plot(ax=ax, color='gray', legend=False)\n",
    "    data.mean(1).plot(ax=ax,linewidth=mean_linewidth,color=mean_line_color, alpha=0.7)\n",
    "\n",
    "    if show_err_bar:\n",
    "        yerr = data.std(axis=1)\n",
    "\n",
    "        plt.errorbar(np.array([0,1]), data.mean(1), yerr, color=mean_line_color, linewidth=4)\n",
    "\n",
    "    # drop the left and bottom spine for cool looking effect\n",
    "    ax.spines['left'].set_position(('outward', 10))\n",
    "    ax.spines['bottom'].set_position(('outward', 10))\n",
    "    # Hide the right and top spines\n",
    "    ax.spines['right'].set_visible(False)\n",
    "    ax.spines['top'].set_visible(False)"
   ]
  },
  {
   "cell_type": "code",
   "execution_count": 44,
   "metadata": {},
   "outputs": [],
   "source": [
    "font = {'size': 7}\n",
    "matplotlib.rc('font', **font)\n",
    "matplotlib.rcParams['pdf.fonttype'] = 42\n",
    "matplotlib.rcParams['font.sans-serif'] = 'Arial'\n",
    "matplotlib.rcParams['font.family']\n",
    "\n",
    "\n",
    "fig, ax = plt.subplots(figsize=[2,2])\n",
    "francescas_plot(ax, df_for_plot1, mean_line_color='#7FB5B5', mean_linewidth=6, show_err_bar=False)\n",
    "plt.xticks([0, 1], ['equal\\nrewards', 'unequal\\nrewards'])\n",
    "plt.ylabel('Bias towards BIG side (%)')\n",
    "\n",
    "y = df_for_plot1.to_numpy().max() + .2\n",
    "h = 1\n",
    "plt.plot([0, 0, 1, 1], [y, y+h, y+h, y],c='k',lw=1)\n",
    "ax.text(.5, y+h, '**', ha='center', fontsize=8)\n",
    "plt.tight_layout()\n",
    "figure_dir = r'T:\\paper\\revisions\\value switch behaviour'\n",
    "plt.tight_layout()\n",
    "#plt.savefig(os.path.join(figure_dir, 'bias before and after with added mice.pdf'))\n",
    "\n",
    "plt.show()"
   ]
  },
  {
   "cell_type": "code",
   "execution_count": 45,
   "metadata": {},
   "outputs": [
    {
     "data": {
      "text/plain": [
       "0.0017325467666258832"
      ]
     },
     "execution_count": 45,
     "metadata": {},
     "output_type": "execute_result"
    }
   ],
   "source": [
    "import scipy.stats as stats\n",
    "pre_data = df_for_plot1.T['pre bias'].values\n",
    "post_data = df_for_plot1.T['post bias'].values\n",
    "stat, pval = stats.ttest_rel(pre_data, post_data)\n",
    "#pval *= .5 # multiply by .5 bc doing a one-sided t-test! we have a hypothesis that it's going a certain way \n",
    "pval"
   ]
  },
  {
   "cell_type": "code",
   "execution_count": 46,
   "metadata": {},
   "outputs": [
    {
     "data": {
      "text/html": [
       "<div>\n",
       "<style scoped>\n",
       "    .dataframe tbody tr th:only-of-type {\n",
       "        vertical-align: middle;\n",
       "    }\n",
       "\n",
       "    .dataframe tbody tr th {\n",
       "        vertical-align: top;\n",
       "    }\n",
       "\n",
       "    .dataframe thead th {\n",
       "        text-align: right;\n",
       "    }\n",
       "</style>\n",
       "<table border=\"1\" class=\"dataframe\">\n",
       "  <thead>\n",
       "    <tr style=\"text-align: right;\">\n",
       "      <th>mouse</th>\n",
       "      <th>SNL_photo30</th>\n",
       "      <th>SNL_photo31</th>\n",
       "      <th>SNL_photo32</th>\n",
       "      <th>SNL_photo34</th>\n",
       "      <th>SNL_photo35</th>\n",
       "      <th>SNL_photo37</th>\n",
       "      <th>SNL_photo43</th>\n",
       "      <th>SNL_photo44</th>\n",
       "      <th>SNL_photo70</th>\n",
       "      <th>SNL_photo72</th>\n",
       "    </tr>\n",
       "  </thead>\n",
       "  <tbody>\n",
       "    <tr>\n",
       "      <th>pre bias</th>\n",
       "      <td>-0.666667</td>\n",
       "      <td>-2.000000</td>\n",
       "      <td>-3.333333</td>\n",
       "      <td>-0.166667</td>\n",
       "      <td>-0.428571</td>\n",
       "      <td>2.250000</td>\n",
       "      <td>-6.000000</td>\n",
       "      <td>-4.750000</td>\n",
       "      <td>5.800000</td>\n",
       "      <td>-1.600000</td>\n",
       "    </tr>\n",
       "    <tr>\n",
       "      <th>post bias</th>\n",
       "      <td>3.676233</td>\n",
       "      <td>11.497722</td>\n",
       "      <td>3.787264</td>\n",
       "      <td>3.342535</td>\n",
       "      <td>4.634689</td>\n",
       "      <td>5.836747</td>\n",
       "      <td>5.127002</td>\n",
       "      <td>8.636544</td>\n",
       "      <td>3.924516</td>\n",
       "      <td>6.417621</td>\n",
       "    </tr>\n",
       "  </tbody>\n",
       "</table>\n",
       "</div>"
      ],
      "text/plain": [
       "mouse      SNL_photo30  SNL_photo31  SNL_photo32  SNL_photo34  SNL_photo35  \\\n",
       "pre bias     -0.666667    -2.000000    -3.333333    -0.166667    -0.428571   \n",
       "post bias     3.676233    11.497722     3.787264     3.342535     4.634689   \n",
       "\n",
       "mouse      SNL_photo37  SNL_photo43  SNL_photo44  SNL_photo70  SNL_photo72  \n",
       "pre bias      2.250000    -6.000000    -4.750000     5.800000    -1.600000  \n",
       "post bias     5.836747     5.127002     8.636544     3.924516     6.417621  "
      ]
     },
     "execution_count": 46,
     "metadata": {},
     "output_type": "execute_result"
    }
   ],
   "source": [
    "df_for_plot1"
   ]
  },
  {
   "cell_type": "code",
   "execution_count": 18,
   "metadata": {},
   "outputs": [
    {
     "data": {
      "text/plain": [
       "5.688087278321691"
      ]
     },
     "execution_count": 18,
     "metadata": {},
     "output_type": "execute_result"
    }
   ],
   "source": [
    "np.mean(df_for_plot1.T['post bias'].values)"
   ]
  },
  {
   "cell_type": "code",
   "execution_count": 17,
   "metadata": {},
   "outputs": [
    {
     "data": {
      "text/plain": [
       "44.31191272167831"
      ]
     },
     "execution_count": 17,
     "metadata": {},
     "output_type": "execute_result"
    }
   ],
   "source": [
    "np.mean(100 - (df_for_plot1.T['post bias'].values + 50))"
   ]
  },
  {
   "cell_type": "code",
   "execution_count": 110,
   "metadata": {},
   "outputs": [
    {
     "data": {
      "text/plain": [
       "ShapiroResult(statistic=0.9447067379951477, pvalue=0.6064687371253967)"
      ]
     },
     "execution_count": 110,
     "metadata": {},
     "output_type": "execute_result"
    }
   ],
   "source": [
    "differences = pre_data - post_data\n",
    "stats.shapiro(differences)\n"
   ]
  },
  {
   "cell_type": "code",
   "execution_count": 56,
   "metadata": {},
   "outputs": [
    {
     "data": {
      "text/plain": [
       "11.697722384256606"
      ]
     },
     "execution_count": 56,
     "metadata": {},
     "output_type": "execute_result"
    }
   ],
   "source": [
    "df_for_plot1.to_numpy().max() + .2"
   ]
  },
  {
   "cell_type": "code",
   "execution_count": 5,
   "metadata": {},
   "outputs": [],
   "source": [
    "def calc_per_mouse_mean(mouse_moving_avs):\n",
    "    num_sessions = len(mouse_moving_avs)\n",
    "    num_trials = [len(m) for m in mouse_moving_avs]\n",
    "    min_num_trials = min(num_trials)\n",
    "    all_sessions = np.empty((num_sessions, min_num_trials))\n",
    "    all_sessions[:] = np.nan\n",
    "    for i, session_data in enumerate(mouse_moving_avs):\n",
    "        all_sessions[i, :min_num_trials] = session_data[:min_num_trials]\n",
    "    moving_av = np.nanmean(all_sessions, axis=0)\n",
    "    return moving_av"
   ]
  },
  {
   "cell_type": "code",
   "execution_count": 6,
   "metadata": {},
   "outputs": [],
   "source": [
    "def align_mulitple_mice_moving_avs(mice, moving_avs):\n",
    "    num_mice = len(mice)\n",
    "    num_trials = [len(m) for m in moving_avs]\n",
    "    min_num_trials = min([len(m) for m in moving_avs])\n",
    "    all_mice = np.empty((num_mice, min_num_trials))\n",
    "    all_mice[:] = np.nan\n",
    "    for i, mouse_data in enumerate(moving_avs):\n",
    "        all_mice[i, :min_num_trials] = mouse_data[:min_num_trials]\n",
    "    return all_mice, min_num_trials"
   ]
  },
  {
   "cell_type": "code",
   "execution_count": 15,
   "metadata": {},
   "outputs": [
    {
     "name": "stderr",
     "output_type": "stream",
     "text": [
      "C:\\Users\\francescag\\AppData\\Local\\Temp\\ipykernel_5416\\421496107.py:9: RuntimeWarning: Mean of empty slice\n",
      "  moving_av = np.nanmean(all_sessions, axis=0)\n",
      "C:\\Users\\francescag\\AppData\\Local\\Temp\\ipykernel_5416\\421496107.py:9: RuntimeWarning: Mean of empty slice\n",
      "  moving_av = np.nanmean(all_sessions, axis=0)\n",
      "C:\\Users\\francescag\\AppData\\Local\\Temp\\ipykernel_5416\\421496107.py:9: RuntimeWarning: Mean of empty slice\n",
      "  moving_av = np.nanmean(all_sessions, axis=0)\n",
      "C:\\Users\\francescag\\AppData\\Local\\Temp\\ipykernel_5416\\421496107.py:9: RuntimeWarning: Mean of empty slice\n",
      "  moving_av = np.nanmean(all_sessions, axis=0)\n",
      "C:\\Users\\francescag\\AppData\\Local\\Temp\\ipykernel_5416\\421496107.py:9: RuntimeWarning: Mean of empty slice\n",
      "  moving_av = np.nanmean(all_sessions, axis=0)\n",
      "C:\\Users\\francescag\\AppData\\Local\\Temp\\ipykernel_5416\\421496107.py:9: RuntimeWarning: Mean of empty slice\n",
      "  moving_av = np.nanmean(all_sessions, axis=0)\n",
      "C:\\Users\\francescag\\AppData\\Local\\Temp\\ipykernel_5416\\421496107.py:9: RuntimeWarning: Mean of empty slice\n",
      "  moving_av = np.nanmean(all_sessions, axis=0)\n",
      "C:\\Users\\francescag\\AppData\\Local\\Temp\\ipykernel_5416\\421496107.py:9: RuntimeWarning: Mean of empty slice\n",
      "  moving_av = np.nanmean(all_sessions, axis=0)\n",
      "C:\\Users\\francescag\\AppData\\Local\\Temp\\ipykernel_5416\\421496107.py:9: RuntimeWarning: Mean of empty slice\n",
      "  moving_av = np.nanmean(all_sessions, axis=0)\n",
      "C:\\Users\\francescag\\AppData\\Local\\Temp\\ipykernel_5416\\421496107.py:9: RuntimeWarning: Mean of empty slice\n",
      "  moving_av = np.nanmean(all_sessions, axis=0)\n"
     ]
    }
   ],
   "source": [
    "\n",
    "moving_avs = []\n",
    "response_times = []\n",
    "missed_trials = []\n",
    "performance = []\n",
    "\n",
    "mice=['SNL_photo70', 'SNL_photo72', 'SNL_photo37', 'SNL_photo44', 'SNL_photo43','SNL_photo30', 'SNL_photo31', 'SNL_photo32', 'SNL_photo34', 'SNL_photo35']\n",
    "for mouse_num, mouse_id in enumerate(mice):\n",
    "    all_experiments = get_all_experimental_records()\n",
    "    sessions = all_experiments[(all_experiments['mouse_id'] == mouse_id) & (all_experiments['experiment_notes'] == 'value switch')]['date'].values\n",
    "    mouse_moving_avs = []\n",
    "    mouse_response_times = []\n",
    "    mouse_missed_trials = []\n",
    "    mouse_performance = []\n",
    "    for date in sessions:\n",
    "        experiment_to_process = all_experiments[(all_experiments['date'] == date) & (all_experiments['mouse_id'] == mouse_id)]\n",
    "        traces, trial_data = open_experiment(experiment_to_process)\n",
    "        red_trial_data = trial_data[trial_data['State name'] == 'TrialStart']\n",
    "        red_trial_data_for_missed_trials = trial_data[trial_data['State name'] == 'TrialStart']\n",
    "        red_trial_data_for_missed_trials.loc[trial_data['Trial outcome'] == 1, 'Trial outcome'] = 0\n",
    "        red_trial_data_for_missed_trials.loc[trial_data['Trial outcome'] == 3, 'Trial outcome'] = 1\n",
    "        red_trial_data.loc[trial_data['Trial outcome'] == 3, 'Trial outcome'] = 0\n",
    "        response_trial_data = trial_data[trial_data['State name'] == 'WaitForResponse']\n",
    "        post_trials = red_trial_data[red_trial_data['Trial num'] >= 100]\n",
    "        pre_trials = red_trial_data[red_trial_data['Trial num'] < 100]\n",
    "        post_reward_side = post_trials['Reward block'].unique()[0]\n",
    "        if post_reward_side == 1: #left\n",
    "            side = -1\n",
    "            #trial_data.loc[trial_data['First response'] == 2, 'Trial outcome'] = 0\n",
    "        elif post_reward_side == 5: #right\n",
    "            side = 1\n",
    "            #trial_data.loc[trial_data['First response'] == 1, 'Trial outcome'] = 0\n",
    "        mouse_moving_avs.append(cuf.CalculateRBiasWindow(red_trial_data['First response'].reset_index(drop=True), red_trial_data['First choice correct'].reset_index(drop=True), 20) *side*100)\n",
    "        mouse_response_times.append(moving_average(response_trial_data['Time end'].values - response_trial_data['Time start'].values, window=20))\n",
    "        mouse_missed_trials.append(moving_average(red_trial_data_for_missed_trials['Trial outcome'].values, window=20) * 100, )\n",
    "        mouse_performance.append(moving_average(red_trial_data['Trial outcome'].values, window=20) * 100)\n",
    "    response_times.append(calc_per_mouse_mean(mouse_response_times))\n",
    "    moving_avs.append(calc_per_mouse_mean(mouse_moving_avs))\n",
    "    performance.append(calc_per_mouse_mean(mouse_performance))\n",
    "    missed_trials.append(calc_per_mouse_mean(mouse_missed_trials))\n",
    "    \n",
    "        \n",
    "\n",
    "\n"
   ]
  },
  {
   "cell_type": "code",
   "execution_count": 218,
   "metadata": {},
   "outputs": [
    {
     "data": {
      "text/plain": [
       "0.9366197183098591"
      ]
     },
     "execution_count": 218,
     "metadata": {},
     "output_type": "execute_result"
    }
   ],
   "source": [
    "post_trials['Trial outcome'].mean()"
   ]
  },
  {
   "cell_type": "code",
   "execution_count": 220,
   "metadata": {},
   "outputs": [
    {
     "data": {
      "text/plain": [
       "0.98"
      ]
     },
     "execution_count": 220,
     "metadata": {},
     "output_type": "execute_result"
    }
   ],
   "source": [
    "pre_trials['Trial outcome'].mean()"
   ]
  },
  {
   "cell_type": "code",
   "execution_count": 12,
   "metadata": {},
   "outputs": [],
   "source": [
    "def plot_rolling_mean(var, mice, moving_avs, y_axis_label='% bias to big reward side'):\n",
    "    \n",
    "    all_mice, min_num_trials = align_mulitple_mice_moving_avs(mice, moving_avs)\n",
    "    error_bar_lower, error_bar_upper = calculate_error_bars(np.nanmean(all_mice, axis=0),\n",
    "                                                                     all_mice,\n",
    "                                                                    error_bar_method='sem')\n",
    "    font = {'size': 8}\n",
    "    matplotlib.rc('font', **font)\n",
    "    matplotlib.rcParams['pdf.fonttype'] = 42\n",
    "    matplotlib.rcParams['font.sans-serif'] = 'Arial'\n",
    "    matplotlib.rcParams['font.family']\n",
    "\n",
    "\n",
    "    fig, axs = plt.subplots(1, 1, figsize=[2.5, 2])\n",
    "    [axs.plot(m[:min_num_trials], alpha=0.5, c='gray', lw=0.5) for m in moving_avs]\n",
    "    axs.plot(np.nanmean(all_mice,axis=0), c='#5e8c89', lw=1)\n",
    "    axs.fill_between(np.arange(0, min_num_trials), error_bar_lower, error_bar_upper, alpha=0.5,\n",
    "                                facecolor='#7FB5B5', linewidth=0)\n",
    "\n",
    "    axs.axvline(100, color='k')\n",
    "    axs.set_xlabel('trial number')\n",
    "    axs.set_ylabel(y_axis_label)\n",
    "    axs.spines['right'].set_visible(False)\n",
    "    axs.spines['top'].set_visible(False)\n",
    "    plt.tight_layout()\n",
    "    figure_dir = r'T:\\paper\\revisions\\value switch behaviour'\n",
    "    plt.tight_layout()\n",
    "    plt.savefig(os.path.join(figure_dir, '{} developing over trials.pdf'.format(var)))\n",
    "\n",
    "    plt.show()"
   ]
  },
  {
   "cell_type": "markdown",
   "metadata": {},
   "source": [
    "# Rolling mean bias"
   ]
  },
  {
   "cell_type": "code",
   "execution_count": 23,
   "metadata": {},
   "outputs": [
    {
     "name": "stderr",
     "output_type": "stream",
     "text": [
      "C:\\Users\\francescag\\AppData\\Local\\Temp\\ipykernel_5416\\2414900081.py:4: RuntimeWarning: Mean of empty slice\n",
      "  error_bar_lower, error_bar_upper = calculate_error_bars(np.nanmean(all_mice, axis=0),\n",
      "C:\\Users\\francescag\\AppData\\Local\\Temp\\ipykernel_5416\\2414900081.py:16: RuntimeWarning: Mean of empty slice\n",
      "  axs.plot(np.nanmean(all_mice,axis=0), c='#5e8c89', lw=1)\n"
     ]
    }
   ],
   "source": [
    "plot_rolling_mean('bias', mice, moving_avs, y_axis_label='% bias to big reward side')\n"
   ]
  },
  {
   "cell_type": "markdown",
   "metadata": {},
   "source": [
    "# Rolling mean response time"
   ]
  },
  {
   "cell_type": "code",
   "execution_count": 18,
   "metadata": {},
   "outputs": [
    {
     "name": "stderr",
     "output_type": "stream",
     "text": [
      "C:\\Users\\francescag\\AppData\\Local\\Temp\\ipykernel_5416\\2414900081.py:4: RuntimeWarning: Mean of empty slice\n",
      "  error_bar_lower, error_bar_upper = calculate_error_bars(np.nanmean(all_mice, axis=0),\n",
      "C:\\Users\\francescag\\AppData\\Local\\Temp\\ipykernel_5416\\2414900081.py:16: RuntimeWarning: Mean of empty slice\n",
      "  axs.plot(np.nanmean(all_mice,axis=0), c='#5e8c89', lw=1)\n"
     ]
    }
   ],
   "source": [
    "plot_rolling_mean('response time', mice, response_times, y_axis_label='response time (s)')\n"
   ]
  },
  {
   "cell_type": "code",
   "execution_count": 22,
   "metadata": {},
   "outputs": [
    {
     "name": "stderr",
     "output_type": "stream",
     "text": [
      "C:\\Users\\francescag\\AppData\\Local\\Temp\\ipykernel_5416\\2414900081.py:4: RuntimeWarning: Mean of empty slice\n",
      "  error_bar_lower, error_bar_upper = calculate_error_bars(np.nanmean(all_mice, axis=0),\n",
      "C:\\Users\\francescag\\AppData\\Local\\Temp\\ipykernel_5416\\2414900081.py:16: RuntimeWarning: Mean of empty slice\n",
      "  axs.plot(np.nanmean(all_mice,axis=0), c='#5e8c89', lw=1)\n"
     ]
    }
   ],
   "source": [
    "plot_rolling_mean('performance', mice, performance, y_axis_label='% correct')\n"
   ]
  },
  {
   "cell_type": "code",
   "execution_count": 21,
   "metadata": {},
   "outputs": [
    {
     "name": "stderr",
     "output_type": "stream",
     "text": [
      "C:\\Users\\francescag\\AppData\\Local\\Temp\\ipykernel_5416\\2414900081.py:4: RuntimeWarning: Mean of empty slice\n",
      "  error_bar_lower, error_bar_upper = calculate_error_bars(np.nanmean(all_mice, axis=0),\n",
      "C:\\Users\\francescag\\AppData\\Local\\Temp\\ipykernel_5416\\2414900081.py:16: RuntimeWarning: Mean of empty slice\n",
      "  axs.plot(np.nanmean(all_mice,axis=0), c='#5e8c89', lw=1)\n"
     ]
    }
   ],
   "source": [
    "plot_rolling_mean('missed trials', mice, missed_trials, y_axis_label='% missed trials')\n"
   ]
  },
  {
   "cell_type": "code",
   "execution_count": null,
   "metadata": {},
   "outputs": [],
   "source": []
  }
 ],
 "metadata": {
  "kernelspec": {
   "display_name": "Python 3 (ipykernel)",
   "language": "python",
   "name": "python3"
  },
  "language_info": {
   "codemirror_mode": {
    "name": "ipython",
    "version": 3
   },
   "file_extension": ".py",
   "mimetype": "text/x-python",
   "name": "python",
   "nbconvert_exporter": "python",
   "pygments_lexer": "ipython3",
   "version": "3.8.13"
  }
 },
 "nbformat": 4,
 "nbformat_minor": 4
}
