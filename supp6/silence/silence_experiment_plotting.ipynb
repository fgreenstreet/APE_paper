{
 "cells": [
  {
   "cell_type": "code",
   "execution_count": 151,
   "id": "0600f698",
   "metadata": {},
   "outputs": [
    {
     "name": "stdout",
     "output_type": "stream",
     "text": [
      "The autoreload extension is already loaded. To reload it, use:\n",
      "  %reload_ext autoreload\n"
     ]
    }
   ],
   "source": [
    "%load_ext autoreload\n",
    "%autoreload 2\n",
    "%matplotlib qt5\n",
    "# Add modules to the path\n",
    "import sys\n",
    "sys.path.append('..\\..')\n",
    "import matplotlib.pyplot as plt\n",
    "import numpy as np\n",
    "import matplotlib.cm as cm\n",
    "import pandas as pd\n",
    "import pickle\n",
    "from scipy.signal import decimate\n",
    "from utils.plotting import HeatMapParams\n",
    "from utils.plotting import heat_map_and_mean, plot_one_side, calculate_error_bars\n",
    "from utils.plotting import get_photometry_around_event\n",
    "from utils.individual_trial_analysis_utils import ZScoredTraces, SessionData, CueAlignedData, CueAlignedSidedData, ChoiceAlignedData\n",
    "from set_global_params import processed_data_path, experiment_record_path"
   ]
  },
  {
   "cell_type": "code",
   "execution_count": 2,
   "id": "97879f8d",
   "metadata": {},
   "outputs": [],
   "source": [
    "def get_all_experimental_records():\n",
    "    experiment_record = pd.read_csv(experiment_record_path)\n",
    "    experiment_record['date'] = experiment_record['date'].astype(str)\n",
    "    return experiment_record"
   ]
  },
  {
   "cell_type": "code",
   "execution_count": 3,
   "id": "b2c2e3e6",
   "metadata": {},
   "outputs": [],
   "source": [
    "def open_experiment(experiment_to_add):\n",
    "    for index, experiment in experiment_to_add.iterrows():\n",
    "        session_traces = SessionData(experiment['fiber_side'], experiment['recording_site'], experiment['mouse_id'], experiment['date'])\n",
    "    return session_traces"
   ]
  },
  {
   "cell_type": "code",
   "execution_count": 205,
   "id": "3a8b01e1",
   "metadata": {},
   "outputs": [],
   "source": [
    "class CustomAlignedData(object):\n",
    "    def __init__(self, session_data, params):\n",
    "        saving_folder = processed_data_path + session_data.mouse + '\\\\'\n",
    "        restructured_data_filename = session_data.mouse + '_' + session_data.date + '_' + 'restructured_data.pkl'\n",
    "        trial_data = pd.read_pickle(saving_folder + restructured_data_filename)\n",
    "        dff_trace_filename = session_data.mouse + '_' + session_data.date + '_' + 'smoothed_signal.npy'\n",
    "        dff = np.load(saving_folder + dff_trace_filename)\n",
    "\n",
    "        fiber_options = np.array(['left', 'right'])\n",
    "        fiber_side_numeric = (np.where(fiber_options == session_data.fiber_side)[0] + 1)[0]\n",
    "        contra_fiber_side_numeric = (np.where(fiber_options != session_data.fiber_side)[0] + 1)[0]\n",
    "\n",
    "        self.ipsi_data = ZScoredTraces(trial_data, dff, params, fiber_side_numeric, 0)\n",
    "        self.ipsi_data.get_peaks()\n",
    "        self.contra_data = ZScoredTraces(trial_data, dff,params, contra_fiber_side_numeric, 0)\n",
    "        self.contra_data.get_peaks()"
   ]
  },
  {
   "cell_type": "code",
   "execution_count": 212,
   "id": "2408b361",
   "metadata": {},
   "outputs": [],
   "source": [
    "mouse_id = 'SNL_photo70'\n",
    "date = '20220408'\n",
    "all_experiments = get_all_experimental_records()\n",
    "experiment_to_process = all_experiments[(all_experiments['date'] == date) & (all_experiments['mouse_id'] == mouse_id)]\n",
    "session_data = open_experiment(experiment_to_process)"
   ]
  },
  {
   "cell_type": "code",
   "execution_count": 213,
   "id": "2d420e97",
   "metadata": {},
   "outputs": [],
   "source": [
    "saving_folder = processed_data_path + mouse_id + '\\\\'\n",
    "restructured_data_filename = mouse_id + '_' + date + '_' + 'restructured_data.pkl'\n",
    "trial_data = pd.read_pickle(saving_folder + restructured_data_filename)"
   ]
  },
  {
   "cell_type": "code",
   "execution_count": 214,
   "id": "0caba728",
   "metadata": {},
   "outputs": [],
   "source": [
    "cot_trials = trial_data[trial_data['Sound type'] == 0]"
   ]
  },
  {
   "cell_type": "code",
   "execution_count": 215,
   "id": "0ffd51c3",
   "metadata": {},
   "outputs": [],
   "source": [
    "silence_trials = trial_data[trial_data['Sound type'] == 1]"
   ]
  },
  {
   "cell_type": "code",
   "execution_count": 216,
   "id": "42324a92",
   "metadata": {},
   "outputs": [
    {
     "name": "stdout",
     "output_type": "stream",
     "text": [
      "(5095, 18)\n",
      "(5095, 18)\n"
     ]
    }
   ],
   "source": [
    "params = {'state_type_of_interest': 5,\n",
    "    'outcome': 2,\n",
    "    'last_outcome': 0,  # NOT USED CURRENTLY\n",
    "    'no_repeats' : 1,\n",
    "    'last_response': 0,\n",
    "    'align_to' : 'Time start',\n",
    "    'instance': 0,\n",
    "    'plot_range': [-6, 6],\n",
    "    'first_choice_correct': 0,\n",
    "    'cue': None}\n",
    "aligned_data = CustomAlignedData(session_data, params)"
   ]
  },
  {
   "cell_type": "code",
   "execution_count": 217,
   "id": "02e68b62",
   "metadata": {},
   "outputs": [],
   "source": [
    "_, cot_inds, _ = np.intersect1d(aligned_data.contra_data.trial_nums, cot_trials['Trial num'], return_indices=True)\n",
    "_, silence_inds, _ = np.intersect1d(aligned_data.contra_data.trial_nums, silence_trials['Trial num'], return_indices=True)"
   ]
  },
  {
   "cell_type": "code",
   "execution_count": 218,
   "id": "ecf9ec11",
   "metadata": {},
   "outputs": [],
   "source": [
    "peaks = aligned_data.contra_data.trial_peaks\n",
    "cot_peaks = [peaks[trial] for trial in cot_inds if peaks[trial].size > 0]\n",
    "silence_peaks = [peaks[trial] for trial in silence_inds  if peaks[trial].size > 0]"
   ]
  },
  {
   "cell_type": "code",
   "execution_count": 219,
   "id": "813a5786",
   "metadata": {},
   "outputs": [],
   "source": [
    "cot_traces = aligned_data.contra_data.sorted_traces[cot_inds, :]\n",
    "silence_traces = aligned_data.contra_data.sorted_traces[silence_inds, :]"
   ]
  },
  {
   "cell_type": "code",
   "execution_count": 220,
   "id": "01023ae7",
   "metadata": {},
   "outputs": [],
   "source": [
    "mean_cot_trace = np.mean(aligned_data.contra_data.sorted_traces[cot_inds, :], axis=0)\n",
    "cot_error_bar_lower, cot_error_bar_upper = calculate_error_bars(mean_cot_trace,\n",
    "                                                        cot_traces,\n",
    "                                                        error_bar_method='sem')\n",
    "                 \n",
    "mean_silence_trace = np.mean(aligned_data.contra_data.sorted_traces[silence_inds, :], axis=0)\n",
    "silence_error_bar_lower, silence_error_bar_upper = calculate_error_bars(mean_silence_trace,\n",
    "                                                        silence_traces,\n",
    "                                                        error_bar_method='sem')\n",
    "                 "
   ]
  },
  {
   "cell_type": "code",
   "execution_count": 221,
   "id": "4da7843c",
   "metadata": {},
   "outputs": [],
   "source": [
    "mouse_silence_data = {'mouse': mouse_id, 'tone': [mean_cot_trace], 'tone error bar lower': [cot_error_bar_lower], 'tone error  bar upper': [cot_error_bar_upper], \n",
    "                     'silence': [mean_silence_trace], 'silence error bar lower': [silence_error_bar_lower], 'silence error bar upper': [silence_error_bar_upper], \n",
    "                     'mean tone peak': np.mean(cot_peaks), 'mean silence peak': np.mean(silence_peaks)}"
   ]
  },
  {
   "cell_type": "code",
   "execution_count": 222,
   "id": "f46cd9a1",
   "metadata": {},
   "outputs": [],
   "source": [
    "all_mouse_silence_df = pd.DataFrame(mouse_silence_data)"
   ]
  },
  {
   "cell_type": "code",
   "execution_count": 223,
   "id": "bf0993a3",
   "metadata": {},
   "outputs": [],
   "source": [
    "mouse_id = 'SNL_photo43'\n",
    "date = '20210603'\n",
    "all_experiments = get_all_experimental_records()\n",
    "experiment_to_process = all_experiments[(all_experiments['date'] == date) & (all_experiments['mouse_id'] == mouse_id)]\n",
    "session_data = open_experiment(experiment_to_process)"
   ]
  },
  {
   "cell_type": "code",
   "execution_count": 224,
   "id": "59e09cc1",
   "metadata": {},
   "outputs": [
    {
     "name": "stdout",
     "output_type": "stream",
     "text": [
      "(5730, 17)\n",
      "(5730, 17)\n"
     ]
    }
   ],
   "source": [
    "params = {'state_type_of_interest': 5,\n",
    "    'outcome': 2,\n",
    "    'last_outcome': 0,  # NOT USED CURRENTLY\n",
    "    'no_repeats' : 1,\n",
    "    'last_response': 0,\n",
    "    'align_to' : 'Time start',\n",
    "    'instance': 0,\n",
    "    'plot_range': [-6, 6],\n",
    "    'first_choice_correct': 0,\n",
    "    'cue': None}\n",
    "aligned_data = CustomAlignedData(session_data, params)\n",
    "cot_inds = np.where(aligned_data.contra_data.trial_nums <=149)[0]\n",
    "silence_inds = np.where(aligned_data.contra_data.trial_nums >149)[0]\n",
    "cot_traces = aligned_data.contra_data.sorted_traces[cot_inds, :]\n",
    "silence_traces = aligned_data.contra_data.sorted_traces[silence_inds, :]\n",
    "peaks = aligned_data.contra_data.trial_peaks\n",
    "cot_peaks = [peaks[trial] for trial in cot_inds if peaks[trial].size > 0]\n",
    "silence_peaks = [peaks[trial] for trial in silence_inds  if peaks[trial].size > 0]\n",
    "mean_cot_trace = np.mean(aligned_data.contra_data.sorted_traces[cot_inds, :], axis=0)\n",
    "cot_error_bar_lower, cot_error_bar_upper = calculate_error_bars(mean_cot_trace,\n",
    "                                                        cot_traces,\n",
    "                                                        error_bar_method='sem')\n",
    "                 \n",
    "mean_silence_trace = np.mean(aligned_data.contra_data.sorted_traces[silence_inds, :], axis=0)\n",
    "silence_error_bar_lower, silence_error_bar_upper = calculate_error_bars(mean_silence_trace,\n",
    "                                                        silence_traces,\n",
    "                                                        error_bar_method='sem')\n",
    "mouse_silence_data = {'mouse': mouse_id, 'tone': [mean_cot_trace], 'tone error bar lower': [cot_error_bar_lower], 'tone error  bar upper': [cot_error_bar_upper], \n",
    "                     'silence': [mean_silence_trace], 'silence error bar lower': [silence_error_bar_lower], 'silence error bar upper': [silence_error_bar_upper], \n",
    "                     'mean tone peak': np.mean(cot_peaks), 'mean silence peak': np.mean(silence_peaks)}"
   ]
  },
  {
   "cell_type": "code",
   "execution_count": 225,
   "id": "d9a89a04",
   "metadata": {},
   "outputs": [],
   "source": [
    "mouse_silence_df = pd.DataFrame(mouse_silence_data)"
   ]
  },
  {
   "cell_type": "code",
   "execution_count": 226,
   "id": "c68e3229",
   "metadata": {},
   "outputs": [],
   "source": [
    "all_mouse_silence_df = pd.concat([all_mouse_silence_df, mouse_silence_df])"
   ]
  },
  {
   "cell_type": "code",
   "execution_count": 227,
   "id": "a024f54e",
   "metadata": {},
   "outputs": [],
   "source": [
    "mouse_id = 'SNL_photo37'\n",
    "date = '20210603'\n",
    "all_experiments = get_all_experimental_records()\n",
    "experiment_to_process = all_experiments[(all_experiments['date'] == date) & (all_experiments['mouse_id'] == mouse_id)]\n",
    "session_data = open_experiment(experiment_to_process)"
   ]
  },
  {
   "cell_type": "code",
   "execution_count": 228,
   "id": "3b59d860",
   "metadata": {},
   "outputs": [
    {
     "name": "stdout",
     "output_type": "stream",
     "text": [
      "(5178, 17)\n",
      "(5178, 17)\n"
     ]
    }
   ],
   "source": [
    "params = {'state_type_of_interest': 5,\n",
    "    'outcome': 2,\n",
    "    'last_outcome': 0,  # NOT USED CURRENTLY\n",
    "    'no_repeats' : 1,\n",
    "    'last_response': 0,\n",
    "    'align_to' : 'Time start',\n",
    "    'instance': 0,\n",
    "    'plot_range': [-6, 6],\n",
    "    'first_choice_correct': 0,\n",
    "    'cue': None}\n",
    "aligned_data = CustomAlignedData(session_data, params)\n",
    "\n",
    "cot_inds = np.where(aligned_data.contra_data.trial_nums <=149)[0]\n",
    "silence_inds = np.where(aligned_data.contra_data.trial_nums >149)[0]\n",
    "peaks = aligned_data.contra_data.trial_peaks\n",
    "cot_peaks = [peaks[trial] for trial in cot_inds if peaks[trial].size > 0]\n",
    "silence_peaks = [peaks[trial] for trial in silence_inds  if peaks[trial].size > 0]\n",
    "\n",
    "cot_traces = aligned_data.contra_data.sorted_traces[cot_inds, :]\n",
    "silence_traces = aligned_data.contra_data.sorted_traces[silence_inds, :]\n",
    "mean_cot_trace = np.mean(aligned_data.contra_data.sorted_traces[cot_inds, :], axis=0)\n",
    "cot_error_bar_lower, cot_error_bar_upper = calculate_error_bars(mean_cot_trace,\n",
    "                                                        cot_traces,\n",
    "                                                        error_bar_method='sem')\n",
    "                 \n",
    "mean_silence_trace = np.mean(aligned_data.contra_data.sorted_traces[silence_inds, :], axis=0)\n",
    "silence_error_bar_lower, silence_error_bar_upper = calculate_error_bars(mean_silence_trace,\n",
    "                                                        silence_traces,\n",
    "                                                        error_bar_method='sem')\n",
    "mouse_silence_data = {'mouse': mouse_id, 'tone': [mean_cot_trace], 'tone error bar lower': [cot_error_bar_lower], 'tone error  bar upper': [cot_error_bar_upper], \n",
    "                     'silence': [mean_silence_trace], 'silence error bar lower': [silence_error_bar_lower], 'silence error bar upper': [silence_error_bar_upper], \n",
    "                     'mean tone peak': np.mean(cot_peaks), 'mean silence peak': np.mean(silence_peaks)}"
   ]
  },
  {
   "cell_type": "code",
   "execution_count": 229,
   "id": "09a7fda2",
   "metadata": {},
   "outputs": [],
   "source": [
    "mouse_silence_df = pd.DataFrame(mouse_silence_data)"
   ]
  },
  {
   "cell_type": "code",
   "execution_count": 230,
   "id": "85b0ea2e",
   "metadata": {},
   "outputs": [],
   "source": [
    "all_mouse_silence_df = pd.concat([all_mouse_silence_df, mouse_silence_df])"
   ]
  },
  {
   "cell_type": "code",
   "execution_count": 231,
   "id": "0095117a",
   "metadata": {},
   "outputs": [],
   "source": [
    "all_mouse_silence_df = all_mouse_silence_df.reset_index(drop=True)"
   ]
  },
  {
   "cell_type": "code",
   "execution_count": 232,
   "id": "4a26a579",
   "metadata": {},
   "outputs": [],
   "source": [
    "concatenated_tone_traces = np.array([all_mouse_silence_df['tone'].values[i] for i in all_mouse_silence_df.index.values])\n"
   ]
  },
  {
   "cell_type": "code",
   "execution_count": null,
   "outputs": [],
   "source": [
    "all_time_points = decimate(aligned_data.contra_data.time_points, 10)\n",
    "start_plot = int(all_time_points.shape[0]/2 - 2*1000)\n",
    "end_plot = int(all_time_points.shape[0]/2 + 2*1000)\n",
    "time_points = all_time_points[start_plot: end_plot]"
   ],
   "metadata": {
    "collapsed": false,
    "pycharm": {
     "name": "#%%\n"
    }
   }
  },
  {
   "cell_type": "code",
   "execution_count": 233,
   "id": "92c39ea3",
   "metadata": {},
   "outputs": [],
   "source": [
    "mean_cot_traces = decimate(np.mean(concatenated_tone_traces, axis=0), 10)[start_plot: end_plot]"
   ]
  },
  {
   "cell_type": "code",
   "execution_count": 234,
   "id": "d483a181",
   "metadata": {},
   "outputs": [],
   "source": [
    "concatenated_silence_traces = np.array([all_mouse_silence_df['silence'].values[i] for i in all_mouse_silence_df.index.values])\n",
    "mean_silence_traces = decimate(np.mean(concatenated_silence_traces, axis=0), 10)[start_plot: end_plot]"
   ]
  },
  {
   "cell_type": "code",
   "execution_count": 236,
   "id": "b89a55d8",
   "metadata": {},
   "outputs": [],
   "source": [
    "all_mice_silence_error_bar_lower, all_mice_silence_error_bar_upper = calculate_error_bars(mean_silence_traces,\n",
    "                                                        decimate(concatenated_silence_traces, 10)[:, start_plot: end_plot],\n",
    "                                                        error_bar_method='sem')\n",
    "all_mice_cot_error_bar_lower, all_mice_cot_error_bar_upper = calculate_error_bars(mean_cot_traces,\n",
    "                                                        decimate(concatenated_tone_traces, 10)[:, start_plot: end_plot],\n",
    "                                                        error_bar_method='sem')               "
   ]
  },
  {
   "cell_type": "code",
   "execution_count": 237,
   "id": "41af47d6",
   "metadata": {},
   "outputs": [],
   "source": [
    "import matplotlib\n",
    "import os"
   ]
  },
  {
   "cell_type": "code",
   "execution_count": 238,
   "id": "21d8b9ff",
   "metadata": {},
   "outputs": [],
   "source": [
    "font = {'size': 7}\n",
    "matplotlib.rc('font', **font)\n",
    "matplotlib.rcParams['pdf.fonttype'] = 42\n",
    "matplotlib.rcParams['font.sans-serif'] = 'Arial'\n",
    "matplotlib.rcParams['font.family']\n",
    "\n",
    "fig, axs1 = plt.subplots(1,1, figsize=[2.5,2])\n",
    "colours = cm.viridis(np.linspace(0.2, 0.7, 2))\n",
    "axs1.plot(time_points, mean_cot_traces, label='normal cue', color=colours[0])\n",
    "axs1.fill_between(time_points, all_mice_cot_error_bar_lower, all_mice_cot_error_bar_upper, alpha=0.4, linewidth=0, color=colours[0])\n",
    "axs1.plot(time_points, mean_silence_traces, label='silence', color=colours[1])\n",
    "axs1.fill_between(time_points, all_mice_silence_error_bar_lower, all_mice_silence_error_bar_upper, alpha=0.4, linewidth=0, color=colours[1])\n",
    "axs1.set_xlim([-2,2])\n",
    "axs1.axvline([0], color='k')\n",
    "axs1.set_ylabel('z-scored fluorescence', fontsize=8)\n",
    "axs1.set_xlabel('Time (s)', fontsize=8)\n",
    "\n",
    "axs1.spines['right'].set_visible(False)\n",
    "axs1.spines['top'].set_visible(False)\n",
    "axs1.legend(loc='lower left', bbox_to_anchor=(0.7, 0.8),\n",
    "            borderaxespad=0, frameon=False,prop={'size': 6 })\n",
    "plt.tight_layout()\n"
   ]
  },
  {
   "cell_type": "code",
   "execution_count": 149,
   "id": "1aa05fd8",
   "metadata": {},
   "outputs": [
    {
     "data": {
      "text/plain": [
       "[<matplotlib.lines.Line2D at 0xd8e8cc0>]"
      ]
     },
     "execution_count": 149,
     "metadata": {},
     "output_type": "execute_result"
    }
   ],
   "source": [
    "plt.plot(mean_cot_traces, color='b')\n",
    "plt.plot(mean_silence_traces, color='orange')\n"
   ]
  },
  {
   "cell_type": "code",
   "execution_count": 144,
   "id": "f20a6232",
   "metadata": {},
   "outputs": [
    {
     "data": {
      "text/plain": [
       "array([0, 1, 2], dtype=int64)"
      ]
     },
     "execution_count": 144,
     "metadata": {},
     "output_type": "execute_result"
    }
   ],
   "source": [
    "all_mouse_silence_df.index.values"
   ]
  },
  {
   "cell_type": "code",
   "execution_count": 241,
   "id": "2d4475b1",
   "metadata": {},
   "outputs": [],
   "source": [
    "cot_peaks = all_mouse_silence_df['mean tone peak'].values"
   ]
  },
  {
   "cell_type": "code",
   "execution_count": 243,
   "id": "31838bc4",
   "metadata": {},
   "outputs": [],
   "source": [
    "silence_peaks = all_mouse_silence_df['mean silence peak'].values"
   ]
  },
  {
   "cell_type": "code",
   "execution_count": 244,
   "id": "ee88c9a3",
   "metadata": {},
   "outputs": [],
   "source": [
    "from scipy.stats import ttest_rel"
   ]
  },
  {
   "cell_type": "code",
   "execution_count": 245,
   "id": "b401de59",
   "metadata": {},
   "outputs": [
    {
     "data": {
      "text/plain": [
       "Ttest_relResult(statistic=1.3609088145280699, pvalue=0.3066032786828079)"
      ]
     },
     "execution_count": 245,
     "metadata": {},
     "output_type": "execute_result"
    }
   ],
   "source": [
    "ttest_rel(cot_peaks, silence_peaks)"
   ]
  },
  {
   "cell_type": "code",
   "execution_count": 253,
   "id": "b924ddb0",
   "metadata": {},
   "outputs": [],
   "source": [
    "df_for_plot = all_mouse_silence_df[['mouse', 'mean tone peak', 'mean silence peak']].set_index('mouse').T"
   ]
  },
  {
   "cell_type": "code",
   "execution_count": 254,
   "id": "5874849c",
   "metadata": {},
   "outputs": [],
   "source": [
    "def francescas_plot(ax, data, show_err_bar=False, mean_linewidth=4, mean_line_color='blue', legend=False):\n",
    "    \"\"\"Plot lines for all mice from early to late.\n",
    "    \"\"\"\n",
    "    data.plot(ax=ax,  legend=False, color='grey')\n",
    "    data.mean(1).plot(ax=ax,linewidth=mean_linewidth,color=mean_line_color, alpha=0.7)\n",
    "\n",
    "    if show_err_bar:\n",
    "        yerr = data.std(axis=1)\n",
    "\n",
    "        plt.errorbar(np.array([0,1]), data.mean(1), yerr, color=mean_line_color, linewidth=4)\n",
    "\n",
    "    # drop the left and bottom spine for cool looking effect\n",
    "    ax.spines['left'].set_position(('outward', 10))\n",
    "    ax.spines['bottom'].set_position(('outward', 10))\n",
    "    # Hide the right and top spines\n",
    "    ax.spines['right'].set_visible(False)\n",
    "    ax.spines['top'].set_visible(False)\n"
   ]
  },
  {
   "cell_type": "code",
   "execution_count": 258,
   "id": "b712ee13",
   "metadata": {},
   "outputs": [],
   "source": [
    "font = {'size': 7}\n",
    "matplotlib.rc('font', **font)\n",
    "matplotlib.rcParams['pdf.fonttype'] = 42\n",
    "matplotlib.rcParams['font.sans-serif'] = 'Arial'\n",
    "matplotlib.rcParams['font.family']\n",
    "\n",
    "\n",
    "fig, ax = plt.subplots(figsize=[2,2])\n",
    "francescas_plot(ax, df_for_plot, mean_line_color='#7FB5B5', mean_linewidth=0, show_err_bar=False)\n",
    "plt.xticks([0, 1], ['tone', 'silence'], fontsize=8)\n",
    "plt.ylabel('Z-scored fluorescence', fontsize=8)\n",
    "#ax.text(0.9, 1.9, 'p-value = {0:.3f}'.format(pval))\n",
    "ax.set_xlabel(' ')\n",
    "\n",
    "#significance stars\n",
    "y = df_for_plot.to_numpy().max() + .2\n",
    "h = .1\n",
    "plt.plot([0, 0, 1, 1], [y, y+h, y+h, y],c='k',lw=1)\n",
    "ax.text(.5, y+h, 'n.s.', ha='center', fontsize=10)\n",
    "\n",
    "plt.tight_layout()"
   ]
  },
  {
   "cell_type": "code",
   "execution_count": 259,
   "id": "51152386",
   "metadata": {},
   "outputs": [],
   "source": [
    "example_mouse_data = all_mouse_silence_df[all_mouse_silence_df['mouse']== 'SNL_photo70']"
   ]
  },
  {
   "cell_type": "code",
   "execution_count": null,
   "id": "7ee36cc1",
   "metadata": {},
   "outputs": [],
   "source": [
    "all_time_points = decimate(aligned_data.contra_data.time_points, 10)\n",
    "start_plot = int(all_time_points.shape[0]/2 - 2*1000)\n",
    "end_plot = int(all_time_points.shape[0]/2 + 2*1000)\n",
    "time_points = all_time_points[start_plot: end_plot]"
   ]
  },
  {
   "cell_type": "code",
   "execution_count": 269,
   "id": "050d2bad",
   "metadata": {},
   "outputs": [],
   "source": [
    "example_tone_mean_trace = decimate(example_mouse_data['tone'][0], 10)[start_plot:end_plot]\n",
    "example_tone_upper_error = decimate(example_mouse_data['tone error  bar upper'][0], 10)[start_plot:end_plot]\n",
    "example_tone_lower_error = decimate(example_mouse_data['tone error bar lower'][0], 10)[start_plot:end_plot]"
   ]
  },
  {
   "cell_type": "code",
   "execution_count": 270,
   "id": "a4616002",
   "metadata": {},
   "outputs": [],
   "source": [
    "example_silence_mean_trace = decimate(example_mouse_data['silence'][0], 10)[start_plot:end_plot]\n",
    "example_silence_upper_error = decimate(example_mouse_data['silence error bar upper'][0], 10)[start_plot:end_plot]\n",
    "example_silence_lower_error = decimate(example_mouse_data['silence error bar lower'][0], 10)[start_plot:end_plot]"
   ]
  },
  {
   "cell_type": "code",
   "execution_count": 271,
   "id": "c2f93374",
   "metadata": {},
   "outputs": [],
   "source": [
    "font = {'size': 7}\n",
    "matplotlib.rc('font', **font)\n",
    "matplotlib.rcParams['pdf.fonttype'] = 42\n",
    "matplotlib.rcParams['font.sans-serif'] = 'Arial'\n",
    "matplotlib.rcParams['font.family']\n",
    "\n",
    "fig, axs1 = plt.subplots(1,1, figsize=[2.5,2])\n",
    "colours = cm.viridis(np.linspace(0.2, 0.7, 2))\n",
    "axs1.plot(time_points, example_tone_mean_trace, label='normal cue', color=colours[0])\n",
    "axs1.fill_between(time_points, example_tone_lower_error, example_tone_upper_error, alpha=0.4, linewidth=0, color=colours[0])\n",
    "axs1.plot(time_points, example_silence_mean_trace, label='silence', color=colours[1])\n",
    "axs1.fill_between(time_points, example_silence_lower_error, example_silence_upper_error, alpha=0.4, linewidth=0, color=colours[1])\n",
    "axs1.set_xlim([-2,2])\n",
    "axs1.axvline([0], color='k')\n",
    "axs1.set_ylabel('z-scored fluorescence', fontsize=8)\n",
    "axs1.set_xlabel('Time (s)', fontsize=8)\n",
    "\n",
    "axs1.spines['right'].set_visible(False)\n",
    "axs1.spines['top'].set_visible(False)\n",
    "axs1.legend(loc='lower left', bbox_to_anchor=(0.7, 0.8),\n",
    "            borderaxespad=0, frameon=False,prop={'size': 6 })\n",
    "plt.tight_layout()"
   ]
  },
  {
   "cell_type": "code",
   "execution_count": null,
   "id": "e6d73276",
   "metadata": {},
   "outputs": [],
   "source": []
  }
 ],
 "metadata": {
  "kernelspec": {
   "display_name": "Python 3",
   "language": "python",
   "name": "python3"
  },
  "language_info": {
   "codemirror_mode": {
    "name": "ipython",
    "version": 3
   },
   "file_extension": ".py",
   "mimetype": "text/x-python",
   "name": "python",
   "nbconvert_exporter": "python",
   "pygments_lexer": "ipython3",
   "version": "3.6.13"
  }
 },
 "nbformat": 4,
 "nbformat_minor": 5
}