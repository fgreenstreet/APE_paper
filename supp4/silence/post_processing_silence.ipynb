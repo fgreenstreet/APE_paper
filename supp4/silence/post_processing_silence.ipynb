{
 "cells": [
  {
   "cell_type": "code",
   "execution_count": 1,
   "id": "aa9df1da",
   "metadata": {},
   "outputs": [],
   "source": [
    "%load_ext autoreload\n",
    "%autoreload 2\n",
    "%matplotlib qt5\n",
    "# Add modules to the path\n",
    "import sys\n",
    "sys.path.insert(0, 'C:\\\\Users\\\\francescag\\\\Documents\\\\SourceTree_repos\\\\Python_git')\n",
    "sys.path.insert(0, 'C:\\\\Users\\\\francescag\\\\Documents\\\\SourceTree_repos')\n",
    "sys.path.insert(0, 'C:\\\\Users\\\\francescag\\\\Documents\\\\SourceTree_repos\\\\Python_git\\\\freely_moving_photometry_analysis' )\n",
    "\n",
    "import matplotlib\n",
    "import copy\n",
    "import matplotlib.pyplot as plt\n",
    "import numpy as np\n",
    "import matplotlib.cm as cm\n",
    "import pandas as pd\n",
    "import pickle\n",
    "from scipy.signal import decimate\n",
    "from utils.plotting import HeatMapParams\n",
    "from utils.plotting import heat_map_and_mean, plot_one_side, calculate_error_bars\n",
    "from utils.plotting import get_photometry_around_event\n",
    "from scipy import stats\n",
    "from utils.individual_trial_analysis_utils import ZScoredTraces, SessionData, CueAlignedData, CueAlignedSidedData, ChoiceAlignedData"
   ]
  },
  {
   "cell_type": "code",
   "execution_count": 2,
   "id": "7c1dba34",
   "metadata": {},
   "outputs": [],
   "source": [
    "def get_all_experimental_records():\n",
    "    experiment_record = pd.read_csv('T:\\\\photometry_2AC\\\\experimental_record.csv', dtype='str')\n",
    "    experiment_record['date'] = experiment_record['date'].astype(str)\n",
    "    return experiment_record"
   ]
  },
  {
   "cell_type": "code",
   "execution_count": 3,
   "id": "e168a4fc",
   "metadata": {},
   "outputs": [],
   "source": [
    "def open_experiment(experiment_to_add):\n",
    "    for index, experiment in experiment_to_add.iterrows():\n",
    "        #saving_folder = 'S:\\\\users\\\\Yvonne\\\\photometry_2AC\\\\processed_data\\\\' + experiment['mouse_id'] + '\\\\'\n",
    "        saving_folder = 'T:\\\\photometry_2AC\\\\processed_data\\\\' + experiment['mouse_id'] + '\\\\'\n",
    "        #saving_folder = 'C:\\\\Users\\\\francescag\\\\Documents\\\\PhD_Project\\\\SNL_photo_photometry\\\\processed_data' + experiment['mouse_id']  + '\\\\'\n",
    "        restructured_data_filename = experiment['mouse_id'] + '_' + experiment['date'] + '_' + 'restructured_data.pkl'\n",
    "        trial_data = pd.read_pickle(saving_folder + restructured_data_filename)\n",
    "        dff_trace_filename = experiment['mouse_id'] + '_' + experiment['date'] + '_' + 'smoothed_signal.npy'\n",
    "        dff = np.load(saving_folder + dff_trace_filename)\n",
    "        session_traces = SessionData(experiment['fiber_side'], experiment['recording_site'], experiment['mouse_id'], experiment['date'])\n",
    "    return session_traces"
   ]
  },
  {
   "cell_type": "code",
   "execution_count": 4,
   "id": "0962c399",
   "metadata": {},
   "outputs": [],
   "source": [
    "class CustomAlignedData(object):\n",
    "    def __init__(self, session_data, params):\n",
    "        #saving_folder = 'S:\\\\users\\\\Yvonne\\\\photometry_2AC\\\\processed_data\\\\' + session_data.mouse + '\\\\'\n",
    "        saving_folder = 'T:\\\\photometry_2AC\\\\processed_data\\\\' + session_data.mouse + '\\\\'\n",
    "        #saving_folder = 'C:\\\\Users\\\\francescag\\\\Documents\\\\PhD_Project\\\\SNL_photo_photometry\\\\processed_data' + session_data.mouse + '\\\\'\n",
    "        restructured_data_filename = session_data.mouse + '_' + session_data.date + '_' + 'restructured_data.pkl'\n",
    "        trial_data = pd.read_pickle(saving_folder + restructured_data_filename)\n",
    "        dff_trace_filename = session_data.mouse + '_' + session_data.date + '_' + 'smoothed_signal.npy'\n",
    "        dff = np.load(saving_folder + dff_trace_filename)\n",
    "\n",
    "        fiber_options = np.array(['left', 'right'])\n",
    "        fiber_side_numeric = (np.where(fiber_options == session_data.fiber_side)[0] + 1)[0]\n",
    "        contra_fiber_side_numeric = (np.where(fiber_options != session_data.fiber_side)[0] + 1)[0]\n",
    "\n",
    "        self.ipsi_data = ZScoredTraces(trial_data, dff, params, fiber_side_numeric, 0)\n",
    "        self.ipsi_data.get_peaks()\n",
    "        self.contra_data = ZScoredTraces(trial_data, dff,params, contra_fiber_side_numeric, 0)\n",
    "        self.contra_data.get_peaks()"
   ]
  },
  {
   "cell_type": "code",
   "execution_count": 5,
   "id": "2acc82a8",
   "metadata": {},
   "outputs": [],
   "source": [
    "mouse_id = 'SNL_photo70'\n",
    "date = '20220408'\n",
    "all_experiments = get_all_experimental_records()\n",
    "experiment_to_process = all_experiments[(all_experiments['date'] == date) & (all_experiments['mouse_id'] == mouse_id)]\n",
    "session_data = open_experiment(experiment_to_process)"
   ]
  },
  {
   "cell_type": "code",
   "execution_count": 6,
   "id": "98274e17",
   "metadata": {},
   "outputs": [],
   "source": [
    "saving_folder = 'T:\\\\photometry_2AC\\\\processed_data\\\\' + mouse_id + '\\\\'\n",
    "#saving_folder = 'C:\\\\Users\\\\francescag\\\\Documents\\\\PhD_Project\\\\SNL_photo_photometry\\\\processed_data' + session_data.mouse + '\\\\'\n",
    "restructured_data_filename = mouse_id + '_' + date + '_' + 'restructured_data.pkl'\n",
    "trial_data = pd.read_pickle(saving_folder + restructured_data_filename)"
   ]
  },
  {
   "cell_type": "code",
   "execution_count": 7,
   "id": "79279cfd",
   "metadata": {},
   "outputs": [],
   "source": [
    "cot_trials = trial_data[trial_data['Sound type'] == 0]"
   ]
  },
  {
   "cell_type": "code",
   "execution_count": 8,
   "id": "52c29c48",
   "metadata": {},
   "outputs": [],
   "source": [
    "silence_trials = trial_data[trial_data['Sound type'] == 1]"
   ]
  },
  {
   "cell_type": "code",
   "execution_count": 9,
   "id": "c919131d",
   "metadata": {},
   "outputs": [],
   "source": [
    "num_silence_trials = silence_trials.shape[0]\n",
    "per_missed_trials = silence_trials[silence_trials['Trial outcome']==3].shape[0]/num_silence_trials\n",
    "per_correct_trials = silence_trials[silence_trials['Trial outcome']==1].shape[0]/num_silence_trials\n",
    "per_incorrect_trials = silence_trials[silence_trials['Trial outcome']==0].shape[0]/num_silence_trials\n",
    "silence_data_behavioural = pd.DataFrame({'mouse': [mouse_id], 'missed': [per_missed_trials], 'correct':[per_correct_trials], 'incorrect': [per_incorrect_trials], 'stimulus': ['silence']})"
   ]
  },
  {
   "cell_type": "code",
   "execution_count": 10,
   "id": "ecccc059",
   "metadata": {},
   "outputs": [],
   "source": [
    "num_cot_trials_trials = cot_trials.shape[0]\n",
    "per_missed_trials = cot_trials[cot_trials['Trial outcome']==3].shape[0]/num_cot_trials_trials\n",
    "per_correct_trials = cot_trials[cot_trials['Trial outcome']==1].shape[0]/num_cot_trials_trials\n",
    "per_incorrect_trials = cot_trials[cot_trials['Trial outcome']==0].shape[0]/num_cot_trials_trials\n",
    "cot_data_behavioural = pd.DataFrame({'mouse': [mouse_id], 'missed': [per_missed_trials], 'correct':[per_correct_trials], 'incorrect': [per_incorrect_trials], 'stimulus': ['tone']})"
   ]
  },
  {
   "cell_type": "code",
   "execution_count": 11,
   "id": "291268ff",
   "metadata": {},
   "outputs": [],
   "source": [
    "behavioural_data0 = pd.concat([silence_data_behavioural, cot_data_behavioural]).reset_index(drop=True)"
   ]
  },
  {
   "cell_type": "code",
   "execution_count": 12,
   "id": "4d227a09",
   "metadata": {},
   "outputs": [
    {
     "name": "stdout",
     "output_type": "stream",
     "text": [
      "(5095, 18)\n",
      "(5095, 18)\n"
     ]
    }
   ],
   "source": [
    "params = {'state_type_of_interest': 5,\n",
    "    'outcome': 1,\n",
    "    'last_outcome': 0,  # NOT USED CURRENTLY\n",
    "    'no_repeats' : 1,\n",
    "    'last_response': 0,\n",
    "    'align_to' : 'Time start',\n",
    "    'instance': 0,\n",
    "    'plot_range': [-6, 6],\n",
    "    'first_choice_correct': 0,\n",
    "    'cue': None}\n",
    "test = CustomAlignedData(session_data, params)"
   ]
  },
  {
   "cell_type": "code",
   "execution_count": 13,
   "id": "0c0b3f15",
   "metadata": {},
   "outputs": [],
   "source": [
    "_, cot_inds, _ = np.intersect1d(test.contra_data.trial_nums, cot_trials['Trial num'], return_indices=True)\n",
    "_, silence_inds, _ = np.intersect1d(test.contra_data.trial_nums, silence_trials['Trial num'], return_indices=True)"
   ]
  },
  {
   "cell_type": "code",
   "execution_count": 14,
   "id": "960cdb13",
   "metadata": {},
   "outputs": [],
   "source": [
    "peaks = test.contra_data.trial_peaks\n",
    "cot_peaks = [peaks[trial] for trial in cot_inds if peaks[trial].size > 0]\n",
    "silence_peaks = [peaks[trial] for trial in silence_inds  if peaks[trial].size > 0]"
   ]
  },
  {
   "cell_type": "code",
   "execution_count": 15,
   "id": "aa285b74",
   "metadata": {},
   "outputs": [],
   "source": [
    "cot_traces = test.contra_data.sorted_traces[cot_inds, :]\n",
    "silence_traces = test.contra_data.sorted_traces[silence_inds, :]"
   ]
  },
  {
   "cell_type": "code",
   "execution_count": 16,
   "id": "53bf3acb",
   "metadata": {},
   "outputs": [],
   "source": [
    "mean_cot_trace = np.mean(test.contra_data.sorted_traces[cot_inds, :], axis=0)\n",
    "cot_error_bar_lower, cot_error_bar_upper = calculate_error_bars(mean_cot_trace,\n",
    "                                                        cot_traces,\n",
    "                                                        error_bar_method='sem')\n",
    "                 \n",
    "mean_silence_trace = np.mean(test.contra_data.sorted_traces[silence_inds, :], axis=0)\n",
    "silence_error_bar_lower, silence_error_bar_upper = calculate_error_bars(mean_silence_trace,\n",
    "                                                        silence_traces,\n",
    "                                                        error_bar_method='sem')\n",
    "                 "
   ]
  },
  {
   "cell_type": "code",
   "execution_count": 17,
   "id": "51fe09ac",
   "metadata": {},
   "outputs": [],
   "source": [
    "mouse_silence_data = {'mouse': mouse_id, 'tone': [mean_cot_trace], 'tone error bar lower': [cot_error_bar_lower], 'tone error  bar upper': [cot_error_bar_upper], \n",
    "                     'silence': [mean_silence_trace], 'silence error bar lower': [silence_error_bar_lower], 'silence error bar upper': [silence_error_bar_upper], \n",
    "                     'mean tone peak': np.mean(cot_peaks), 'mean silence peak': np.mean(silence_peaks)}"
   ]
  },
  {
   "cell_type": "code",
   "execution_count": 18,
   "id": "9b1f9437",
   "metadata": {},
   "outputs": [],
   "source": [
    "mouse_silence_df = pd.DataFrame(mouse_silence_data)\n",
    "all_mouse_silence_df = mouse_silence_df"
   ]
  },
  {
   "cell_type": "code",
   "execution_count": 19,
   "id": "f5845098",
   "metadata": {},
   "outputs": [],
   "source": [
    "mouse_id = 'SNL_photo43'\n",
    "date = '20210603'\n",
    "\n",
    "all_experiments = get_all_experimental_records()\n",
    "experiment_to_process = all_experiments[(all_experiments['date'] == date) & (all_experiments['mouse_id'] == mouse_id)]\n",
    "session_data = open_experiment(experiment_to_process)\n",
    "fiber_options = ['left', 'right']\n",
    "fiber_side = experiment_to_process['fiber_side'].values[0]\n",
    "contra_choice_ind = np.where(np.array(fiber_options) != fiber_side)[0][0] + 1\n"
   ]
  },
  {
   "cell_type": "code",
   "execution_count": 20,
   "id": "85b82c45",
   "metadata": {},
   "outputs": [],
   "source": [
    "def get_trial_data(session_data):\n",
    "    saving_folder = 'T:\\\\photometry_2AC\\\\processed_data\\\\' + session_data.mouse + '\\\\'\n",
    "    restructured_data_filename = session_data.mouse + '_' + session_data.date + '_' + 'restructured_data.pkl'\n",
    "    trial_data = pd.read_pickle(saving_folder + restructured_data_filename)\n",
    "    return trial_data"
   ]
  },
  {
   "cell_type": "code",
   "execution_count": 21,
   "id": "d712ead5",
   "metadata": {},
   "outputs": [],
   "source": [
    "trial_data = get_trial_data(session_data)"
   ]
  },
  {
   "cell_type": "code",
   "execution_count": 22,
   "id": "5a8b8b84",
   "metadata": {},
   "outputs": [],
   "source": [
    "post_change_trials = trial_data[(trial_data['Trial num']>149) & (trial_data['State type'] == 1)]\n",
    "silence_correct_trials =  post_change_trials[(post_change_trials['Response'] == contra_choice_ind) & (post_change_trials['Trial outcome'] == 1)] \n",
    "silence_trial_type = silence_correct_trials['Trial type'].unique()[0]\n",
    "silence_trials = post_change_trials[post_change_trials['Trial type'] == silence_trial_type]\n",
    "cot_trials = trial_data[(trial_data['Trial num']<=149) & (trial_data['State type'] == 1)]"
   ]
  },
  {
   "cell_type": "code",
   "execution_count": 23,
   "id": "4c5420fe",
   "metadata": {},
   "outputs": [],
   "source": [
    "num_silence_trials = silence_trials.shape[0]\n",
    "per_missed_trials = silence_trials[silence_trials['Trial outcome']==3].shape[0]/num_silence_trials\n",
    "per_correct_trials = silence_trials[silence_trials['Trial outcome']==1].shape[0]/num_silence_trials\n",
    "per_incorrect_trials = silence_trials[silence_trials['Trial outcome']==0].shape[0]/num_silence_trials\n",
    "silence_data_behavioural = pd.DataFrame({'mouse': [mouse_id], 'missed': [per_missed_trials], 'correct':[per_correct_trials], 'incorrect': [per_incorrect_trials], 'stimulus': ['silence']})"
   ]
  },
  {
   "cell_type": "code",
   "execution_count": 24,
   "id": "311fa9a8",
   "metadata": {},
   "outputs": [],
   "source": [
    "num_cot_trials_trials = cot_trials.shape[0]\n",
    "per_missed_trials = cot_trials[cot_trials['Trial outcome']==3].shape[0]/num_cot_trials_trials\n",
    "per_correct_trials = cot_trials[cot_trials['Trial outcome']==1].shape[0]/num_cot_trials_trials\n",
    "per_incorrect_trials = cot_trials[cot_trials['Trial outcome']==0].shape[0]/num_cot_trials_trials\n",
    "cot_data_behavioural = pd.DataFrame({'mouse': [mouse_id], 'missed': [per_missed_trials], 'correct':[per_correct_trials], 'incorrect': [per_incorrect_trials], 'stimulus': ['tone']})"
   ]
  },
  {
   "cell_type": "code",
   "execution_count": 25,
   "id": "d96f6d86",
   "metadata": {},
   "outputs": [],
   "source": [
    "behavioural_data1 = pd.concat([silence_data_behavioural, cot_data_behavioural]).reset_index(drop=True)"
   ]
  },
  {
   "cell_type": "code",
   "execution_count": 26,
   "id": "986015e8",
   "metadata": {},
   "outputs": [],
   "source": [
    "behavioural_data = pd.concat([behavioural_data0, behavioural_data1])"
   ]
  },
  {
   "cell_type": "code",
   "execution_count": 27,
   "id": "93284131",
   "metadata": {},
   "outputs": [
    {
     "data": {
      "text/html": [
       "<div>\n",
       "<style scoped>\n",
       "    .dataframe tbody tr th:only-of-type {\n",
       "        vertical-align: middle;\n",
       "    }\n",
       "\n",
       "    .dataframe tbody tr th {\n",
       "        vertical-align: top;\n",
       "    }\n",
       "\n",
       "    .dataframe thead th {\n",
       "        text-align: right;\n",
       "    }\n",
       "</style>\n",
       "<table border=\"1\" class=\"dataframe\">\n",
       "  <thead>\n",
       "    <tr style=\"text-align: right;\">\n",
       "      <th></th>\n",
       "      <th>mouse</th>\n",
       "      <th>missed</th>\n",
       "      <th>correct</th>\n",
       "      <th>incorrect</th>\n",
       "      <th>stimulus</th>\n",
       "    </tr>\n",
       "  </thead>\n",
       "  <tbody>\n",
       "    <tr>\n",
       "      <th>0</th>\n",
       "      <td>SNL_photo70</td>\n",
       "      <td>0.00000</td>\n",
       "      <td>0.611601</td>\n",
       "      <td>0.388399</td>\n",
       "      <td>silence</td>\n",
       "    </tr>\n",
       "    <tr>\n",
       "      <th>1</th>\n",
       "      <td>SNL_photo70</td>\n",
       "      <td>0.00000</td>\n",
       "      <td>0.789445</td>\n",
       "      <td>0.210555</td>\n",
       "      <td>tone</td>\n",
       "    </tr>\n",
       "    <tr>\n",
       "      <th>0</th>\n",
       "      <td>SNL_photo43</td>\n",
       "      <td>0.01227</td>\n",
       "      <td>0.957055</td>\n",
       "      <td>0.030675</td>\n",
       "      <td>silence</td>\n",
       "    </tr>\n",
       "    <tr>\n",
       "      <th>1</th>\n",
       "      <td>SNL_photo43</td>\n",
       "      <td>0.00000</td>\n",
       "      <td>0.926667</td>\n",
       "      <td>0.073333</td>\n",
       "      <td>tone</td>\n",
       "    </tr>\n",
       "  </tbody>\n",
       "</table>\n",
       "</div>"
      ],
      "text/plain": [
       "         mouse   missed   correct  incorrect stimulus\n",
       "0  SNL_photo70  0.00000  0.611601   0.388399  silence\n",
       "1  SNL_photo70  0.00000  0.789445   0.210555     tone\n",
       "0  SNL_photo43  0.01227  0.957055   0.030675  silence\n",
       "1  SNL_photo43  0.00000  0.926667   0.073333     tone"
      ]
     },
     "execution_count": 27,
     "metadata": {},
     "output_type": "execute_result"
    }
   ],
   "source": [
    "behavioural_data"
   ]
  },
  {
   "cell_type": "code",
   "execution_count": 28,
   "id": "b0787901",
   "metadata": {},
   "outputs": [
    {
     "name": "stdout",
     "output_type": "stream",
     "text": [
      "(5730, 17)\n",
      "(5730, 17)\n"
     ]
    }
   ],
   "source": [
    "params = {'state_type_of_interest': 5,\n",
    "    'outcome': 1,\n",
    "    'last_outcome': 0,  # NOT USED CURRENTLY\n",
    "    'no_repeats' : 1,\n",
    "    'last_response': 0,\n",
    "    'align_to' : 'Time start',\n",
    "    'instance': 0,\n",
    "    'plot_range': [-6, 6],\n",
    "    'first_choice_correct': 0,\n",
    "    'cue': None}\n",
    "test = CustomAlignedData(session_data, params)\n",
    "cot_inds = np.where(test.contra_data.trial_nums <=149)[0]\n",
    "silence_inds = np.where(test.contra_data.trial_nums >149)[0]\n",
    "cot_traces = test.contra_data.sorted_traces[cot_inds, :]\n",
    "silence_traces = test.contra_data.sorted_traces[silence_inds, :]\n",
    "peaks = test.contra_data.trial_peaks\n",
    "cot_peaks = [peaks[trial] for trial in cot_inds if peaks[trial].size > 0]\n",
    "silence_peaks = [peaks[trial] for trial in silence_inds  if peaks[trial].size > 0]\n",
    "mean_cot_trace = np.mean(test.contra_data.sorted_traces[cot_inds, :], axis=0)\n",
    "cot_error_bar_lower, cot_error_bar_upper = calculate_error_bars(mean_cot_trace,\n",
    "                                                        cot_traces,\n",
    "                                                        error_bar_method='sem')\n",
    "                 \n",
    "mean_silence_trace = np.mean(test.contra_data.sorted_traces[silence_inds, :], axis=0)\n",
    "silence_error_bar_lower, silence_error_bar_upper = calculate_error_bars(mean_silence_trace,\n",
    "                                                        silence_traces,\n",
    "                                                        error_bar_method='sem')\n",
    "mouse_silence_data = {'mouse': mouse_id, 'tone': [mean_cot_trace], 'tone error bar lower': [cot_error_bar_lower], 'tone error  bar upper': [cot_error_bar_upper], \n",
    "                     'silence': [mean_silence_trace], 'silence error bar lower': [silence_error_bar_lower], 'silence error bar upper': [silence_error_bar_upper], \n",
    "                     'mean tone peak': np.mean(cot_peaks), 'mean silence peak': np.mean(silence_peaks)}"
   ]
  },
  {
   "cell_type": "code",
   "execution_count": 29,
   "id": "a6033678",
   "metadata": {},
   "outputs": [],
   "source": [
    "mouse_silence_df = pd.DataFrame(mouse_silence_data)"
   ]
  },
  {
   "cell_type": "code",
   "execution_count": 30,
   "id": "a1a2225b",
   "metadata": {},
   "outputs": [],
   "source": [
    "all_mouse_silence_df = pd.concat([all_mouse_silence_df, mouse_silence_df])"
   ]
  },
  {
   "cell_type": "code",
   "execution_count": 31,
   "id": "486b9b0f",
   "metadata": {},
   "outputs": [
    {
     "data": {
      "text/html": [
       "<div>\n",
       "<style scoped>\n",
       "    .dataframe tbody tr th:only-of-type {\n",
       "        vertical-align: middle;\n",
       "    }\n",
       "\n",
       "    .dataframe tbody tr th {\n",
       "        vertical-align: top;\n",
       "    }\n",
       "\n",
       "    .dataframe thead th {\n",
       "        text-align: right;\n",
       "    }\n",
       "</style>\n",
       "<table border=\"1\" class=\"dataframe\">\n",
       "  <thead>\n",
       "    <tr style=\"text-align: right;\">\n",
       "      <th></th>\n",
       "      <th>mouse</th>\n",
       "      <th>tone</th>\n",
       "      <th>tone error bar lower</th>\n",
       "      <th>tone error  bar upper</th>\n",
       "      <th>silence</th>\n",
       "      <th>silence error bar lower</th>\n",
       "      <th>silence error bar upper</th>\n",
       "      <th>mean tone peak</th>\n",
       "      <th>mean silence peak</th>\n",
       "    </tr>\n",
       "  </thead>\n",
       "  <tbody>\n",
       "    <tr>\n",
       "      <th>0</th>\n",
       "      <td>SNL_photo70</td>\n",
       "      <td>[0.323979892287553, 0.32390756566394446, 0.323...</td>\n",
       "      <td>[0.19396445647993743, 0.19390492822560362, 0.1...</td>\n",
       "      <td>[0.4539953280951685, 0.4539102031022853, 0.453...</td>\n",
       "      <td>[0.12205941570870465, 0.1221071823232717, 0.12...</td>\n",
       "      <td>[0.0034222032018319526, 0.0034841321110106876,...</td>\n",
       "      <td>[0.24069662821557736, 0.24073023253553272, 0.2...</td>\n",
       "      <td>1.348320</td>\n",
       "      <td>1.137857</td>\n",
       "    </tr>\n",
       "    <tr>\n",
       "      <th>0</th>\n",
       "      <td>SNL_photo43</td>\n",
       "      <td>[0.04908578924340603, 0.049037602641820964, 0....</td>\n",
       "      <td>[-0.051768274351719996, -0.05182109124293623, ...</td>\n",
       "      <td>[0.14993985283853206, 0.14989629652657815, 0.1...</td>\n",
       "      <td>[-0.042925987331389893, -0.042956382395298476,...</td>\n",
       "      <td>[-0.12836532616307567, -0.12838506216320644, -...</td>\n",
       "      <td>[0.042513351500295886, 0.042472297372609505, 0...</td>\n",
       "      <td>0.683896</td>\n",
       "      <td>0.803515</td>\n",
       "    </tr>\n",
       "  </tbody>\n",
       "</table>\n",
       "</div>"
      ],
      "text/plain": [
       "         mouse                                               tone  \\\n",
       "0  SNL_photo70  [0.323979892287553, 0.32390756566394446, 0.323...   \n",
       "0  SNL_photo43  [0.04908578924340603, 0.049037602641820964, 0....   \n",
       "\n",
       "                                tone error bar lower  \\\n",
       "0  [0.19396445647993743, 0.19390492822560362, 0.1...   \n",
       "0  [-0.051768274351719996, -0.05182109124293623, ...   \n",
       "\n",
       "                               tone error  bar upper  \\\n",
       "0  [0.4539953280951685, 0.4539102031022853, 0.453...   \n",
       "0  [0.14993985283853206, 0.14989629652657815, 0.1...   \n",
       "\n",
       "                                             silence  \\\n",
       "0  [0.12205941570870465, 0.1221071823232717, 0.12...   \n",
       "0  [-0.042925987331389893, -0.042956382395298476,...   \n",
       "\n",
       "                             silence error bar lower  \\\n",
       "0  [0.0034222032018319526, 0.0034841321110106876,...   \n",
       "0  [-0.12836532616307567, -0.12838506216320644, -...   \n",
       "\n",
       "                             silence error bar upper  mean tone peak  \\\n",
       "0  [0.24069662821557736, 0.24073023253553272, 0.2...        1.348320   \n",
       "0  [0.042513351500295886, 0.042472297372609505, 0...        0.683896   \n",
       "\n",
       "   mean silence peak  \n",
       "0           1.137857  \n",
       "0           0.803515  "
      ]
     },
     "execution_count": 31,
     "metadata": {},
     "output_type": "execute_result"
    }
   ],
   "source": [
    "all_mouse_silence_df"
   ]
  },
  {
   "cell_type": "code",
   "execution_count": 32,
   "id": "624d9c9b",
   "metadata": {},
   "outputs": [],
   "source": [
    "mouse_id = 'SNL_photo37'\n",
    "date = '20210603'\n",
    "all_experiments = get_all_experimental_records()\n",
    "experiment_to_process = all_experiments[(all_experiments['date'] == date) & (all_experiments['mouse_id'] == mouse_id)]\n",
    "session_data = open_experiment(experiment_to_process)\n",
    "\n",
    "fiber_options = ['left', 'right']\n",
    "fiber_side = experiment_to_process['fiber_side'].values[0]\n",
    "contra_choice_ind = np.where(np.array(fiber_options) != fiber_side)[0][0] + 1\n"
   ]
  },
  {
   "cell_type": "code",
   "execution_count": 33,
   "id": "4ee95802",
   "metadata": {},
   "outputs": [],
   "source": [
    "trial_data = get_trial_data(session_data)\n",
    "\n",
    "post_change_trials = trial_data[(trial_data['Trial num']>149) & (trial_data['State type'] == 1)]\n",
    "silence_correct_trials =  post_change_trials[(post_change_trials['Response'] == contra_choice_ind) & (post_change_trials['Trial outcome'] == 1)] \n",
    "silence_trial_type = silence_correct_trials['Trial type'].unique()[0]\n",
    "silence_trials = post_change_trials[post_change_trials['Trial type'] == silence_trial_type]\n",
    "cot_trials = trial_data[(trial_data['Trial num']<=149) & (trial_data['State type'] == 1)]\n",
    "\n",
    "num_silence_trials = silence_trials.shape[0]\n",
    "per_missed_trials = silence_trials[silence_trials['Trial outcome']==3].shape[0]/num_silence_trials\n",
    "per_correct_trials = silence_trials[silence_trials['Trial outcome']==1].shape[0]/num_silence_trials\n",
    "per_incorrect_trials = silence_trials[silence_trials['Trial outcome']==0].shape[0]/num_silence_trials\n",
    "silence_data_behavioural = pd.DataFrame({'mouse': [mouse_id], 'missed': [per_missed_trials], 'correct':[per_correct_trials], 'incorrect': [per_incorrect_trials], 'stimulus': ['silence']})\n",
    "\n",
    "num_cot_trials_trials = cot_trials.shape[0]\n",
    "per_missed_trials = cot_trials[cot_trials['Trial outcome']==3].shape[0]/num_cot_trials_trials\n",
    "per_correct_trials = cot_trials[cot_trials['Trial outcome']==1].shape[0]/num_cot_trials_trials\n",
    "per_incorrect_trials = cot_trials[cot_trials['Trial outcome']==0].shape[0]/num_cot_trials_trials\n",
    "cot_data_behavioural = pd.DataFrame({'mouse': [mouse_id], 'missed': [per_missed_trials], 'correct':[per_correct_trials], 'incorrect': [per_incorrect_trials], 'stimulus': ['tone']})"
   ]
  },
  {
   "cell_type": "code",
   "execution_count": 34,
   "id": "aaa672d9",
   "metadata": {},
   "outputs": [],
   "source": [
    "behavioural_data1 = pd.concat([silence_data_behavioural, cot_data_behavioural]).reset_index(drop=True)\n",
    "behavioural_data = pd.concat([behavioural_data, behavioural_data1])"
   ]
  },
  {
   "cell_type": "code",
   "execution_count": 35,
   "id": "0a1c7e66",
   "metadata": {},
   "outputs": [
    {
     "data": {
      "text/html": [
       "<div>\n",
       "<style scoped>\n",
       "    .dataframe tbody tr th:only-of-type {\n",
       "        vertical-align: middle;\n",
       "    }\n",
       "\n",
       "    .dataframe tbody tr th {\n",
       "        vertical-align: top;\n",
       "    }\n",
       "\n",
       "    .dataframe thead th {\n",
       "        text-align: right;\n",
       "    }\n",
       "</style>\n",
       "<table border=\"1\" class=\"dataframe\">\n",
       "  <thead>\n",
       "    <tr style=\"text-align: right;\">\n",
       "      <th></th>\n",
       "      <th>mouse</th>\n",
       "      <th>missed</th>\n",
       "      <th>correct</th>\n",
       "      <th>incorrect</th>\n",
       "      <th>stimulus</th>\n",
       "    </tr>\n",
       "  </thead>\n",
       "  <tbody>\n",
       "    <tr>\n",
       "      <th>0</th>\n",
       "      <td>SNL_photo70</td>\n",
       "      <td>0.000000</td>\n",
       "      <td>0.611601</td>\n",
       "      <td>0.388399</td>\n",
       "      <td>silence</td>\n",
       "    </tr>\n",
       "    <tr>\n",
       "      <th>1</th>\n",
       "      <td>SNL_photo70</td>\n",
       "      <td>0.000000</td>\n",
       "      <td>0.789445</td>\n",
       "      <td>0.210555</td>\n",
       "      <td>tone</td>\n",
       "    </tr>\n",
       "    <tr>\n",
       "      <th>0</th>\n",
       "      <td>SNL_photo43</td>\n",
       "      <td>0.012270</td>\n",
       "      <td>0.957055</td>\n",
       "      <td>0.030675</td>\n",
       "      <td>silence</td>\n",
       "    </tr>\n",
       "    <tr>\n",
       "      <th>1</th>\n",
       "      <td>SNL_photo43</td>\n",
       "      <td>0.000000</td>\n",
       "      <td>0.926667</td>\n",
       "      <td>0.073333</td>\n",
       "      <td>tone</td>\n",
       "    </tr>\n",
       "    <tr>\n",
       "      <th>0</th>\n",
       "      <td>SNL_photo37</td>\n",
       "      <td>0.011429</td>\n",
       "      <td>0.908571</td>\n",
       "      <td>0.080000</td>\n",
       "      <td>silence</td>\n",
       "    </tr>\n",
       "    <tr>\n",
       "      <th>1</th>\n",
       "      <td>SNL_photo37</td>\n",
       "      <td>0.000000</td>\n",
       "      <td>0.826667</td>\n",
       "      <td>0.173333</td>\n",
       "      <td>tone</td>\n",
       "    </tr>\n",
       "  </tbody>\n",
       "</table>\n",
       "</div>"
      ],
      "text/plain": [
       "         mouse    missed   correct  incorrect stimulus\n",
       "0  SNL_photo70  0.000000  0.611601   0.388399  silence\n",
       "1  SNL_photo70  0.000000  0.789445   0.210555     tone\n",
       "0  SNL_photo43  0.012270  0.957055   0.030675  silence\n",
       "1  SNL_photo43  0.000000  0.926667   0.073333     tone\n",
       "0  SNL_photo37  0.011429  0.908571   0.080000  silence\n",
       "1  SNL_photo37  0.000000  0.826667   0.173333     tone"
      ]
     },
     "execution_count": 35,
     "metadata": {},
     "output_type": "execute_result"
    }
   ],
   "source": [
    "behavioural_data"
   ]
  },
  {
   "cell_type": "code",
   "execution_count": 36,
   "id": "9209fa41",
   "metadata": {},
   "outputs": [
    {
     "name": "stdout",
     "output_type": "stream",
     "text": [
      "(5178, 17)\n",
      "(5178, 17)\n"
     ]
    }
   ],
   "source": [
    "params = {'state_type_of_interest': 5,\n",
    "    'outcome': 1,\n",
    "    'last_outcome': 0,  # NOT USED CURRENTLY\n",
    "    'no_repeats' : 1,\n",
    "    'last_response': 0,\n",
    "    'align_to' : 'Time start',\n",
    "    'instance': 0,\n",
    "    'plot_range': [-6, 6],\n",
    "    'first_choice_correct': 0,\n",
    "    'cue': None}\n",
    "test = CustomAlignedData(session_data, params)\n",
    "\n",
    "cot_inds = np.where(test.contra_data.trial_nums <=149)[0]\n",
    "silence_inds = np.where(test.contra_data.trial_nums >149)[0]\n",
    "peaks = test.contra_data.trial_peaks\n",
    "cot_peaks = [peaks[trial] for trial in cot_inds if peaks[trial].size > 0]\n",
    "silence_peaks = [peaks[trial] for trial in silence_inds  if peaks[trial].size > 0]\n",
    "\n",
    "cot_traces = test.contra_data.sorted_traces[cot_inds, :]\n",
    "silence_traces = test.contra_data.sorted_traces[silence_inds, :]\n",
    "mean_cot_trace = np.mean(test.contra_data.sorted_traces[cot_inds, :], axis=0)\n",
    "cot_error_bar_lower, cot_error_bar_upper = calculate_error_bars(mean_cot_trace,\n",
    "                                                        cot_traces,\n",
    "                                                        error_bar_method='sem')\n",
    "                 \n",
    "mean_silence_trace = np.mean(test.contra_data.sorted_traces[silence_inds, :], axis=0)\n",
    "silence_error_bar_lower, silence_error_bar_upper = calculate_error_bars(mean_silence_trace,\n",
    "                                                        silence_traces,\n",
    "                                                        error_bar_method='sem')\n",
    "mouse_silence_data = {'mouse': mouse_id, 'tone': [mean_cot_trace], 'tone error bar lower': [cot_error_bar_lower], 'tone error  bar upper': [cot_error_bar_upper], \n",
    "                     'silence': [mean_silence_trace], 'silence error bar lower': [silence_error_bar_lower], 'silence error bar upper': [silence_error_bar_upper], \n",
    "                     'mean tone peak': np.mean(cot_peaks), 'mean silence peak': np.mean(silence_peaks)}"
   ]
  },
  {
   "cell_type": "code",
   "execution_count": 37,
   "id": "f41f6447",
   "metadata": {},
   "outputs": [],
   "source": [
    "mouse_silence_df = pd.DataFrame(mouse_silence_data)"
   ]
  },
  {
   "cell_type": "code",
   "execution_count": 38,
   "id": "f9cbaf3a",
   "metadata": {},
   "outputs": [],
   "source": [
    "all_mouse_silence_df = pd.concat([all_mouse_silence_df, mouse_silence_df])"
   ]
  },
  {
   "cell_type": "code",
   "execution_count": 39,
   "id": "2d01f5e3",
   "metadata": {},
   "outputs": [],
   "source": [
    "all_mouse_silence_df = all_mouse_silence_df.reset_index(drop=True)"
   ]
  },
  {
   "cell_type": "code",
   "execution_count": 40,
   "id": "8b22a99d",
   "metadata": {},
   "outputs": [
    {
     "data": {
      "text/html": [
       "<div>\n",
       "<style scoped>\n",
       "    .dataframe tbody tr th:only-of-type {\n",
       "        vertical-align: middle;\n",
       "    }\n",
       "\n",
       "    .dataframe tbody tr th {\n",
       "        vertical-align: top;\n",
       "    }\n",
       "\n",
       "    .dataframe thead th {\n",
       "        text-align: right;\n",
       "    }\n",
       "</style>\n",
       "<table border=\"1\" class=\"dataframe\">\n",
       "  <thead>\n",
       "    <tr style=\"text-align: right;\">\n",
       "      <th></th>\n",
       "      <th>mouse</th>\n",
       "      <th>tone</th>\n",
       "      <th>tone error bar lower</th>\n",
       "      <th>tone error  bar upper</th>\n",
       "      <th>silence</th>\n",
       "      <th>silence error bar lower</th>\n",
       "      <th>silence error bar upper</th>\n",
       "      <th>mean tone peak</th>\n",
       "      <th>mean silence peak</th>\n",
       "    </tr>\n",
       "  </thead>\n",
       "  <tbody>\n",
       "    <tr>\n",
       "      <th>0</th>\n",
       "      <td>SNL_photo70</td>\n",
       "      <td>[0.323979892287553, 0.32390756566394446, 0.323...</td>\n",
       "      <td>[0.19396445647993743, 0.19390492822560362, 0.1...</td>\n",
       "      <td>[0.4539953280951685, 0.4539102031022853, 0.453...</td>\n",
       "      <td>[0.12205941570870465, 0.1221071823232717, 0.12...</td>\n",
       "      <td>[0.0034222032018319526, 0.0034841321110106876,...</td>\n",
       "      <td>[0.24069662821557736, 0.24073023253553272, 0.2...</td>\n",
       "      <td>1.348320</td>\n",
       "      <td>1.137857</td>\n",
       "    </tr>\n",
       "    <tr>\n",
       "      <th>1</th>\n",
       "      <td>SNL_photo43</td>\n",
       "      <td>[0.04908578924340603, 0.049037602641820964, 0....</td>\n",
       "      <td>[-0.051768274351719996, -0.05182109124293623, ...</td>\n",
       "      <td>[0.14993985283853206, 0.14989629652657815, 0.1...</td>\n",
       "      <td>[-0.042925987331389893, -0.042956382395298476,...</td>\n",
       "      <td>[-0.12836532616307567, -0.12838506216320644, -...</td>\n",
       "      <td>[0.042513351500295886, 0.042472297372609505, 0...</td>\n",
       "      <td>0.683896</td>\n",
       "      <td>0.803515</td>\n",
       "    </tr>\n",
       "    <tr>\n",
       "      <th>2</th>\n",
       "      <td>SNL_photo37</td>\n",
       "      <td>[-0.08827216780229113, -0.08827726241329434, -...</td>\n",
       "      <td>[-0.22503286724982569, -0.2250359791604583, -0...</td>\n",
       "      <td>[0.048488531645243416, 0.048481454333869634, 0...</td>\n",
       "      <td>[-0.0010413843402279647, -0.001142962026786660...</td>\n",
       "      <td>[-0.08053625297024745, -0.08063092748853151, -...</td>\n",
       "      <td>[0.07845348428979153, 0.07834500343495818, 0.0...</td>\n",
       "      <td>1.080463</td>\n",
       "      <td>0.952484</td>\n",
       "    </tr>\n",
       "  </tbody>\n",
       "</table>\n",
       "</div>"
      ],
      "text/plain": [
       "         mouse                                               tone  \\\n",
       "0  SNL_photo70  [0.323979892287553, 0.32390756566394446, 0.323...   \n",
       "1  SNL_photo43  [0.04908578924340603, 0.049037602641820964, 0....   \n",
       "2  SNL_photo37  [-0.08827216780229113, -0.08827726241329434, -...   \n",
       "\n",
       "                                tone error bar lower  \\\n",
       "0  [0.19396445647993743, 0.19390492822560362, 0.1...   \n",
       "1  [-0.051768274351719996, -0.05182109124293623, ...   \n",
       "2  [-0.22503286724982569, -0.2250359791604583, -0...   \n",
       "\n",
       "                               tone error  bar upper  \\\n",
       "0  [0.4539953280951685, 0.4539102031022853, 0.453...   \n",
       "1  [0.14993985283853206, 0.14989629652657815, 0.1...   \n",
       "2  [0.048488531645243416, 0.048481454333869634, 0...   \n",
       "\n",
       "                                             silence  \\\n",
       "0  [0.12205941570870465, 0.1221071823232717, 0.12...   \n",
       "1  [-0.042925987331389893, -0.042956382395298476,...   \n",
       "2  [-0.0010413843402279647, -0.001142962026786660...   \n",
       "\n",
       "                             silence error bar lower  \\\n",
       "0  [0.0034222032018319526, 0.0034841321110106876,...   \n",
       "1  [-0.12836532616307567, -0.12838506216320644, -...   \n",
       "2  [-0.08053625297024745, -0.08063092748853151, -...   \n",
       "\n",
       "                             silence error bar upper  mean tone peak  \\\n",
       "0  [0.24069662821557736, 0.24073023253553272, 0.2...        1.348320   \n",
       "1  [0.042513351500295886, 0.042472297372609505, 0...        0.683896   \n",
       "2  [0.07845348428979153, 0.07834500343495818, 0.0...        1.080463   \n",
       "\n",
       "   mean silence peak  \n",
       "0           1.137857  \n",
       "1           0.803515  \n",
       "2           0.952484  "
      ]
     },
     "execution_count": 40,
     "metadata": {},
     "output_type": "execute_result"
    }
   ],
   "source": [
    "all_mouse_silence_df"
   ]
  },
  {
   "cell_type": "code",
   "execution_count": 41,
   "id": "6f01d5ef",
   "metadata": {},
   "outputs": [],
   "source": [
    "concatenated_tone_traces = np.array([all_mouse_silence_df['tone'].values[i] for i in all_mouse_silence_df.index.values])"
   ]
  },
  {
   "cell_type": "code",
   "execution_count": 42,
   "id": "67079b4a",
   "metadata": {},
   "outputs": [],
   "source": [
    "all_time_points = decimate(test.contra_data.time_points, 10)\n",
    "start_plot = int(all_time_points.shape[0]/2 - 2*1000)\n",
    "end_plot = int(all_time_points.shape[0]/2 + 2*1000)\n",
    "time_points = all_time_points[start_plot: end_plot]\n",
    "mean_cot_traces = decimate(np.mean(concatenated_tone_traces, axis=0), 10)[start_plot: end_plot]"
   ]
  },
  {
   "cell_type": "code",
   "execution_count": 43,
   "id": "8390e011",
   "metadata": {},
   "outputs": [],
   "source": [
    "concatenated_silence_traces = np.array([all_mouse_silence_df['silence'].values[i] for i in all_mouse_silence_df.index.values])\n",
    "mean_silence_traces = decimate(np.mean(concatenated_silence_traces, axis=0), 10)[start_plot: end_plot]"
   ]
  },
  {
   "cell_type": "code",
   "execution_count": null,
   "id": "c3da187f",
   "metadata": {},
   "outputs": [],
   "source": []
  },
  {
   "cell_type": "code",
   "execution_count": 44,
   "id": "9da05462",
   "metadata": {},
   "outputs": [],
   "source": [
    "all_mice_silence_error_bar_lower, all_mice_silence_error_bar_upper = calculate_error_bars(mean_silence_traces,\n",
    "                                                        decimate(concatenated_silence_traces, 10)[:, start_plot: end_plot],\n",
    "                                                        error_bar_method='sem')\n",
    "all_mice_cot_error_bar_lower, all_mice_cot_error_bar_upper = calculate_error_bars(mean_cot_traces,\n",
    "                                                        decimate(concatenated_tone_traces, 10)[:, start_plot: end_plot],\n",
    "                                                        error_bar_method='sem')               "
   ]
  },
  {
   "cell_type": "code",
   "execution_count": 95,
   "id": "111b80aa",
   "metadata": {},
   "outputs": [],
   "source": [
    "import matplotlib\n",
    "import os"
   ]
  },
  {
   "cell_type": "code",
   "execution_count": 96,
   "id": "cd51711e",
   "metadata": {},
   "outputs": [],
   "source": [
    "font = {'size': 7}\n",
    "matplotlib.rc('font', **font)\n",
    "matplotlib.rcParams['pdf.fonttype'] = 42\n",
    "matplotlib.rcParams['font.sans-serif'] = 'Arial'\n",
    "matplotlib.rcParams['font.family']\n",
    "\n",
    "fig, axs1 = plt.subplots(1,1, figsize=[2.5,2])\n",
    "colours = cm.viridis(np.linspace(0.2, 0.7, 2))\n",
    "axs1.plot(time_points, mean_cot_traces, label='normal cue', color=colours[0])\n",
    "axs1.fill_between(time_points, all_mice_cot_error_bar_lower, all_mice_cot_error_bar_upper, alpha=0.4, linewidth=0, color=colours[0])\n",
    "axs1.plot(time_points, mean_silence_traces, label='silence', color=colours[1])\n",
    "axs1.fill_between(time_points, all_mice_silence_error_bar_lower, all_mice_silence_error_bar_upper, alpha=0.4, linewidth=0, color=colours[1])\n",
    "axs1.set_xlim([-2,2])\n",
    "axs1.axvline([0], color='k')\n",
    "axs1.set_ylabel('z-scored fluorescence', fontsize=8)\n",
    "axs1.set_xlabel('Time (s)', fontsize=8)\n",
    "\n",
    "axs1.spines['right'].set_visible(False)\n",
    "axs1.spines['top'].set_visible(False)\n",
    "axs1.legend(loc='lower left', bbox_to_anchor=(0.7, 0.8),\n",
    "            borderaxespad=0, frameon=False,prop={'size': 6 })\n",
    "plt.tight_layout()\n",
    "#filepath=os.path.join('W:\\\\paper', 'silence_across_mice_traces.pdf')\n",
    "#fig.savefig(filepath)"
   ]
  },
  {
   "cell_type": "code",
   "execution_count": 67,
   "id": "b291ab39",
   "metadata": {},
   "outputs": [
    {
     "data": {
      "text/plain": [
       "[<matplotlib.lines.Line2D at 0xc8795f8>]"
      ]
     },
     "execution_count": 67,
     "metadata": {},
     "output_type": "execute_result"
    }
   ],
   "source": [
    "plt.plot(mean_cot_traces, color='b')\n",
    "plt.plot(mean_silence_traces, color='orange')"
   ]
  },
  {
   "cell_type": "code",
   "execution_count": 139,
   "id": "e8182f3b",
   "metadata": {},
   "outputs": [
    {
     "data": {
      "text/plain": [
       "(3, 160000)"
      ]
     },
     "execution_count": 139,
     "metadata": {},
     "output_type": "execute_result"
    }
   ],
   "source": [
    "concatenated_traces"
   ]
  },
  {
   "cell_type": "code",
   "execution_count": 144,
   "id": "69ada5a9",
   "metadata": {},
   "outputs": [
    {
     "data": {
      "text/plain": [
       "array([0, 1, 2], dtype=int64)"
      ]
     },
     "execution_count": 144,
     "metadata": {},
     "output_type": "execute_result"
    }
   ],
   "source": [
    "all_mouse_silence_df.index.values"
   ]
  },
  {
   "cell_type": "code",
   "execution_count": 177,
   "id": "aea11ae0",
   "metadata": {},
   "outputs": [],
   "source": [
    "cot_peaks = all_mouse_silence_df['mean tone peak'].values"
   ]
  },
  {
   "cell_type": "code",
   "execution_count": 178,
   "id": "b63113d6",
   "metadata": {},
   "outputs": [],
   "source": [
    "silence_peaks = all_mouse_silence_df['mean silence peak'].values"
   ]
  },
  {
   "cell_type": "code",
   "execution_count": 179,
   "id": "437394d4",
   "metadata": {},
   "outputs": [],
   "source": [
    "from scipy.stats import ttest_rel, shapiro"
   ]
  },
  {
   "cell_type": "code",
   "execution_count": 180,
   "id": "405dfb90",
   "metadata": {},
   "outputs": [
    {
     "data": {
      "text/plain": [
       "ShapiroResult(statistic=0.9230131506919861, pvalue=0.4630334675312042)"
      ]
     },
     "execution_count": 180,
     "metadata": {},
     "output_type": "execute_result"
    }
   ],
   "source": [
    "differences = cot_peaks - silence_peaks\n",
    "shapiro(differences)"
   ]
  },
  {
   "cell_type": "code",
   "execution_count": 181,
   "id": "1051f7bd",
   "metadata": {},
   "outputs": [
    {
     "data": {
      "text/plain": [
       "Ttest_relResult(statistic=0.7354353598866584, pvalue=0.5386253835905292)"
      ]
     },
     "execution_count": 181,
     "metadata": {},
     "output_type": "execute_result"
    }
   ],
   "source": [
    "ttest_rel(cot_peaks, silence_peaks)"
   ]
  },
  {
   "cell_type": "code",
   "execution_count": 45,
   "id": "f729ad85",
   "metadata": {},
   "outputs": [],
   "source": [
    "df_for_plot_behavioural = behavioural_data.pivot(index='mouse', columns='stimulus', values='missed')"
   ]
  },
  {
   "cell_type": "code",
   "execution_count": 46,
   "id": "a49ff1a1",
   "metadata": {},
   "outputs": [],
   "source": [
    "cols = df_for_plot_behavioural.columns.tolist()"
   ]
  },
  {
   "cell_type": "code",
   "execution_count": 47,
   "id": "c1fb2a7b",
   "metadata": {},
   "outputs": [],
   "source": [
    "cols = cols[-1:] + cols[:-1]"
   ]
  },
  {
   "cell_type": "code",
   "execution_count": 48,
   "id": "a5d7e47b",
   "metadata": {},
   "outputs": [],
   "source": [
    "df_for_plot_behavioural = 100 - (df_for_plot_behavioural[cols] *100)"
   ]
  },
  {
   "cell_type": "code",
   "execution_count": 49,
   "id": "c3e9ccbf",
   "metadata": {},
   "outputs": [
    {
     "data": {
      "text/html": [
       "<div>\n",
       "<style scoped>\n",
       "    .dataframe tbody tr th:only-of-type {\n",
       "        vertical-align: middle;\n",
       "    }\n",
       "\n",
       "    .dataframe tbody tr th {\n",
       "        vertical-align: top;\n",
       "    }\n",
       "\n",
       "    .dataframe thead th {\n",
       "        text-align: right;\n",
       "    }\n",
       "</style>\n",
       "<table border=\"1\" class=\"dataframe\">\n",
       "  <thead>\n",
       "    <tr style=\"text-align: right;\">\n",
       "      <th>stimulus</th>\n",
       "      <th>tone</th>\n",
       "      <th>silence</th>\n",
       "    </tr>\n",
       "    <tr>\n",
       "      <th>mouse</th>\n",
       "      <th></th>\n",
       "      <th></th>\n",
       "    </tr>\n",
       "  </thead>\n",
       "  <tbody>\n",
       "    <tr>\n",
       "      <th>SNL_photo37</th>\n",
       "      <td>100.0</td>\n",
       "      <td>98.857143</td>\n",
       "    </tr>\n",
       "    <tr>\n",
       "      <th>SNL_photo43</th>\n",
       "      <td>100.0</td>\n",
       "      <td>98.773006</td>\n",
       "    </tr>\n",
       "    <tr>\n",
       "      <th>SNL_photo70</th>\n",
       "      <td>100.0</td>\n",
       "      <td>100.000000</td>\n",
       "    </tr>\n",
       "  </tbody>\n",
       "</table>\n",
       "</div>"
      ],
      "text/plain": [
       "stimulus      tone     silence\n",
       "mouse                         \n",
       "SNL_photo37  100.0   98.857143\n",
       "SNL_photo43  100.0   98.773006\n",
       "SNL_photo70  100.0  100.000000"
      ]
     },
     "execution_count": 49,
     "metadata": {},
     "output_type": "execute_result"
    }
   ],
   "source": [
    "df_for_plot_behavioural"
   ]
  },
  {
   "cell_type": "code",
   "execution_count": 50,
   "id": "d61df0db",
   "metadata": {},
   "outputs": [
    {
     "data": {
      "text/plain": [
       "99.2100496640374"
      ]
     },
     "execution_count": 50,
     "metadata": {},
     "output_type": "execute_result"
    }
   ],
   "source": [
    "np.mean(df_for_plot_behavioural['silence'])"
   ]
  },
  {
   "cell_type": "code",
   "execution_count": 51,
   "id": "ac563472",
   "metadata": {},
   "outputs": [
    {
     "data": {
      "text/plain": [
       "0.5596343431027693"
      ]
     },
     "execution_count": 51,
     "metadata": {},
     "output_type": "execute_result"
    }
   ],
   "source": [
    "np.std(df_for_plot_behavioural['silence'])"
   ]
  },
  {
   "cell_type": "code",
   "execution_count": 331,
   "id": "44d06f37",
   "metadata": {},
   "outputs": [
    {
     "data": {
      "text/plain": [
       "ShapiroResult(statistic=0.8011702299118042, pvalue=0.11729390174150467)"
      ]
     },
     "execution_count": 331,
     "metadata": {},
     "output_type": "execute_result"
    }
   ],
   "source": [
    "differences = df_for_plot_behavioural['tone'].values - df_for_plot_behavioural['silence'].values\n",
    "shapiro(differences)"
   ]
  },
  {
   "cell_type": "code",
   "execution_count": 332,
   "id": "8468b142",
   "metadata": {},
   "outputs": [
    {
     "data": {
      "text/plain": [
       "Ttest_relResult(statistic=1.9962293102415072, pvalue=0.18401751379431722)"
      ]
     },
     "execution_count": 332,
     "metadata": {},
     "output_type": "execute_result"
    }
   ],
   "source": [
    "ttest_rel(df_for_plot_behavioural['tone'],df_for_plot_behavioural['silence'])"
   ]
  },
  {
   "cell_type": "code",
   "execution_count": 127,
   "id": "658102eb",
   "metadata": {},
   "outputs": [
    {
     "data": {
      "text/plain": [
       "<AxesSubplot:xlabel='stimulus'>"
      ]
     },
     "execution_count": 127,
     "metadata": {},
     "output_type": "execute_result"
    }
   ],
   "source": [
    "fig, ax = plt.subplots(figsize=[2,2])\n",
    "df_for_plot_behavioural.T.plot(ax=ax)"
   ]
  },
  {
   "cell_type": "code",
   "execution_count": 333,
   "id": "68aa8776",
   "metadata": {},
   "outputs": [],
   "source": [
    "def francescas_plot(ax, data, show_err_bar=False, mean_linewidth=4, mean_line_color='blue', legend=False):\n",
    "    \"\"\"Plot lines for all mice from early to late.\n",
    "    \"\"\"\n",
    "    data.plot(ax=ax,  legend=False, color='grey')\n",
    "    data.mean(1).plot(ax=ax,linewidth=mean_linewidth,color=mean_line_color, alpha=0.7)\n",
    "\n",
    "    if show_err_bar:\n",
    "        yerr = data.std(axis=1)\n",
    "\n",
    "        plt.errorbar(np.array([0,1]), data.mean(1), yerr, color=mean_line_color, linewidth=4)\n",
    "\n",
    "    # drop the left and bottom spine for cool looking effect\n",
    "    ax.spines['left'].set_position(('outward', 10))\n",
    "    ax.spines['bottom'].set_position(('outward', 10))\n",
    "    # Hide the right and top spines\n",
    "    ax.spines['right'].set_visible(False)\n",
    "    ax.spines['top'].set_visible(False)\n"
   ]
  },
  {
   "cell_type": "code",
   "execution_count": 342,
   "id": "654b017a",
   "metadata": {},
   "outputs": [],
   "source": [
    "peak_size_df = all_mouse_silence_df[['mouse', 'mean tone peak', 'mean silence peak']].set_index('mouse')\n",
    "font = {'size': 7}\n",
    "matplotlib.rc('font', **font)\n",
    "matplotlib.rcParams['pdf.fonttype'] = 42\n",
    "matplotlib.rcParams['font.sans-serif'] = 'Arial'\n",
    "matplotlib.rcParams['font.family']\n",
    "\n",
    "\n",
    "fig, ax = plt.subplots(figsize=[1.3,2])\n",
    "\n",
    "francescas_plot(ax, peak_size_df.T, mean_line_color='#7FB5B5', mean_linewidth=0, show_err_bar=False)\n",
    "plt.xticks([0, 1], ['tone', 'silence'], fontsize=8)\n",
    "plt.xticks([0, 1], ['tone', 'silence'], fontsize=8)\n",
    "plt.ylabel('dLight z-score', fontsize=8)\n",
    "#ax.text(0.9, 1.9, 'p-value = {0:.3f}'.format(pval))\n",
    "ax.set_xlabel(' ')\n",
    "\n",
    "#significance stars\n",
    "y = peak_size_df.T.to_numpy().max() + .2\n",
    "h = .001\n",
    "\n",
    "ax.text(.5, y+h, 'n.s.', ha='center', fontsize=8)\n",
    "\n",
    "plt.tight_layout()"
   ]
  },
  {
   "cell_type": "code",
   "execution_count": 341,
   "id": "77ba896d",
   "metadata": {},
   "outputs": [],
   "source": [
    "font = {'size': 7}\n",
    "matplotlib.rc('font', **font)\n",
    "matplotlib.rcParams['pdf.fonttype'] = 42\n",
    "matplotlib.rcParams['font.sans-serif'] = 'Arial'\n",
    "matplotlib.rcParams['font.family']\n",
    "\n",
    "\n",
    "fig, ax = plt.subplots(figsize=[1.5,2])\n",
    "\n",
    "francescas_plot(ax, df_for_plot_behavioural.T, mean_line_color='#7FB5B5', mean_linewidth=0, show_err_bar=False)\n",
    "plt.xticks([0, 1], ['tone', 'silence'], fontsize=8)\n",
    "plt.ylabel('Missed trials (%)', fontsize=8)\n",
    "#ax.text(0.9, 1.9, 'p-value = {0:.3f}'.format(pval))\n",
    "ax.set_xlabel(' ')\n",
    "\n",
    "#significance stars\n",
    "y = df_for_plot_behavioural.T.to_numpy().max() + .2\n",
    "h = .1\n",
    "plt.plot([0, 0, 1, 1], [y, y+h, y+h, y],c='k',lw=1)\n",
    "ax.text(.5, y+h, 'n.s.', ha='center', fontsize=8)\n",
    "ax.set_ylim([95, 100])\n",
    "plt.tight_layout()\n",
    "#filepath=os.path.join('W:\\\\paper', 'silence_across_completed_trials_mice_peaks_with_stats.pdf')\n",
    "#fig.savefig(filepath)"
   ]
  },
  {
   "cell_type": "code",
   "execution_count": 218,
   "id": "8349b3ce",
   "metadata": {},
   "outputs": [],
   "source": [
    "example_mouse_data = all_mouse_silence_df[all_mouse_silence_df['mouse']== 'SNL_photo70']"
   ]
  },
  {
   "cell_type": "code",
   "execution_count": 219,
   "id": "ee1a3814",
   "metadata": {},
   "outputs": [
    {
     "data": {
      "text/plain": [
       "array([array([0.04908579, 0.0490376 , 0.04898933, ..., 0.060728  , 0.0607879 ,\n",
       "              0.06084786])                                                    ],\n",
       "      dtype=object)"
      ]
     },
     "execution_count": 219,
     "metadata": {},
     "output_type": "execute_result"
    }
   ],
   "source": [
    "example_mouse_data['tone'].values"
   ]
  },
  {
   "cell_type": "code",
   "execution_count": 220,
   "id": "52d9be73",
   "metadata": {},
   "outputs": [],
   "source": [
    "all_time_points = decimate(test.contra_data.time_points, 10)\n",
    "start_plot = int(all_time_points.shape[0]/2 - 2*1000)\n",
    "end_plot = int(all_time_points.shape[0]/2 + 2*1000)\n",
    "time_points = all_time_points[start_plot: end_plot]"
   ]
  },
  {
   "cell_type": "code",
   "execution_count": 221,
   "id": "1dad86b5",
   "metadata": {},
   "outputs": [],
   "source": [
    "example_tone_mean_trace = decimate(example_mouse_data['tone'][0], 10)[start_plot:end_plot]\n",
    "example_tone_upper_error = decimate(example_mouse_data['tone error  bar upper'][0], 10)[start_plot:end_plot]\n",
    "example_tone_lower_error = decimate(example_mouse_data['tone error bar lower'][0], 10)[start_plot:end_plot]"
   ]
  },
  {
   "cell_type": "code",
   "execution_count": 222,
   "id": "84019dd9",
   "metadata": {},
   "outputs": [],
   "source": [
    "example_silence_mean_trace = decimate(example_mouse_data['silence'][0], 10)[start_plot:end_plot]\n",
    "example_silence_upper_error = decimate(example_mouse_data['silence error bar upper'][0], 10)[start_plot:end_plot]\n",
    "example_silence_lower_error = decimate(example_mouse_data['silence error bar lower'][0], 10)[start_plot:end_plot]"
   ]
  },
  {
   "cell_type": "code",
   "execution_count": 223,
   "id": "008a181c",
   "metadata": {},
   "outputs": [],
   "source": [
    "font = {'size': 7}\n",
    "matplotlib.rc('font', **font)\n",
    "matplotlib.rcParams['pdf.fonttype'] = 42\n",
    "matplotlib.rcParams['font.sans-serif'] = 'Arial'\n",
    "matplotlib.rcParams['font.family']\n",
    "\n",
    "fig, axs1 = plt.subplots(1,1, figsize=[2.5,2])\n",
    "colours = cm.viridis(np.linspace(0.2, 0.7, 2))\n",
    "axs1.plot(time_points, example_tone_mean_trace, label='normal cue', color=colours[0])\n",
    "axs1.fill_between(time_points, example_tone_lower_error, example_tone_upper_error, alpha=0.4, linewidth=0, color=colours[0])\n",
    "axs1.plot(time_points, example_silence_mean_trace, label='silence', color=colours[1])\n",
    "axs1.fill_between(time_points, example_silence_lower_error, example_silence_upper_error, alpha=0.4, linewidth=0, color=colours[1])\n",
    "axs1.set_xlim([-2,2])\n",
    "axs1.axvline([0], color='k')\n",
    "axs1.set_ylabel('z-scored fluorescence', fontsize=8)\n",
    "axs1.set_xlabel('Time (s)', fontsize=8)\n",
    "\n",
    "axs1.spines['right'].set_visible(False)\n",
    "axs1.spines['top'].set_visible(False)\n",
    "axs1.legend(loc='lower left', bbox_to_anchor=(0.7, 0.8),\n",
    "            borderaxespad=0, frameon=False,prop={'size': 6 })\n",
    "plt.tight_layout()\n",
    "#filepath=os.path.join('W:\\\\paper', 'silence_example_traces.pdf')\n",
    "#fig.savefig(filepath)"
   ]
  },
  {
   "cell_type": "code",
   "execution_count": null,
   "id": "88265f98",
   "metadata": {},
   "outputs": [],
   "source": []
  },
  {
   "cell_type": "code",
   "execution_count": null,
   "id": "91f6ba1d",
   "metadata": {},
   "outputs": [],
   "source": [
    "df_for_plot_behaviour = beha[['mouse', 'mean tone peak', 'mean silence peak']].set_index('mouse').T"
   ]
  },
  {
   "cell_type": "code",
   "execution_count": 31,
   "id": "f70eafb1",
   "metadata": {},
   "outputs": [
    {
     "data": {
      "text/html": [
       "<div>\n",
       "<style scoped>\n",
       "    .dataframe tbody tr th:only-of-type {\n",
       "        vertical-align: middle;\n",
       "    }\n",
       "\n",
       "    .dataframe tbody tr th {\n",
       "        vertical-align: top;\n",
       "    }\n",
       "\n",
       "    .dataframe thead th {\n",
       "        text-align: right;\n",
       "    }\n",
       "</style>\n",
       "<table border=\"1\" class=\"dataframe\">\n",
       "  <thead>\n",
       "    <tr style=\"text-align: right;\">\n",
       "      <th></th>\n",
       "      <th>mouse</th>\n",
       "      <th>tone</th>\n",
       "      <th>tone error bar lower</th>\n",
       "      <th>tone error  bar upper</th>\n",
       "      <th>silence</th>\n",
       "      <th>silence error bar lower</th>\n",
       "      <th>silence error bar upper</th>\n",
       "      <th>mean tone peak</th>\n",
       "      <th>mean silence peak</th>\n",
       "    </tr>\n",
       "  </thead>\n",
       "  <tbody>\n",
       "    <tr>\n",
       "      <th>0</th>\n",
       "      <td>SNL_photo70</td>\n",
       "      <td>[0.24152475728319503, 0.24142043117963471, 0.2...</td>\n",
       "      <td>[0.14148073120054194, 0.14138743696525122, 0.1...</td>\n",
       "      <td>[0.3415687833658481, 0.34145342539401824, 0.34...</td>\n",
       "      <td>[0.12205941570870465, 0.1221071823232717, 0.12...</td>\n",
       "      <td>[0.0034222032018319526, 0.0034841321110106876,...</td>\n",
       "      <td>[0.24069662821557736, 0.24073023253553272, 0.2...</td>\n",
       "      <td>1.383224</td>\n",
       "      <td>1.137857</td>\n",
       "    </tr>\n",
       "    <tr>\n",
       "      <th>1</th>\n",
       "      <td>SNL_photo43</td>\n",
       "      <td>[-0.006365803904310347, -0.006389817225110093,...</td>\n",
       "      <td>[-0.10292189600644441, -0.10294199891928427, -...</td>\n",
       "      <td>[0.09019028819782371, 0.09016236446906409, 0.0...</td>\n",
       "      <td>[-0.05814355103413557, -0.058146821296290147, ...</td>\n",
       "      <td>[-0.13443391428646181, -0.13442747556905332, -...</td>\n",
       "      <td>[0.018146812218190672, 0.018133832976473016, 0...</td>\n",
       "      <td>0.697018</td>\n",
       "      <td>0.755536</td>\n",
       "    </tr>\n",
       "    <tr>\n",
       "      <th>2</th>\n",
       "      <td>SNL_photo37</td>\n",
       "      <td>[-0.08769776420871503, -0.08766363155609597, -...</td>\n",
       "      <td>[-0.21983474416973495, -0.2197982979795826, -0...</td>\n",
       "      <td>[0.04443921575230489, 0.04447103486739068, 0.0...</td>\n",
       "      <td>[-0.08063631094017584, -0.08071873095022479, -...</td>\n",
       "      <td>[-0.15440428764626124, -0.15448078478012428, -...</td>\n",
       "      <td>[-0.006868334234090431, -0.006956677120325286,...</td>\n",
       "      <td>1.152473</td>\n",
       "      <td>0.953373</td>\n",
       "    </tr>\n",
       "  </tbody>\n",
       "</table>\n",
       "</div>"
      ],
      "text/plain": [
       "         mouse                                               tone  \\\n",
       "0  SNL_photo70  [0.24152475728319503, 0.24142043117963471, 0.2...   \n",
       "1  SNL_photo43  [-0.006365803904310347, -0.006389817225110093,...   \n",
       "2  SNL_photo37  [-0.08769776420871503, -0.08766363155609597, -...   \n",
       "\n",
       "                                tone error bar lower  \\\n",
       "0  [0.14148073120054194, 0.14138743696525122, 0.1...   \n",
       "1  [-0.10292189600644441, -0.10294199891928427, -...   \n",
       "2  [-0.21983474416973495, -0.2197982979795826, -0...   \n",
       "\n",
       "                               tone error  bar upper  \\\n",
       "0  [0.3415687833658481, 0.34145342539401824, 0.34...   \n",
       "1  [0.09019028819782371, 0.09016236446906409, 0.0...   \n",
       "2  [0.04443921575230489, 0.04447103486739068, 0.0...   \n",
       "\n",
       "                                             silence  \\\n",
       "0  [0.12205941570870465, 0.1221071823232717, 0.12...   \n",
       "1  [-0.05814355103413557, -0.058146821296290147, ...   \n",
       "2  [-0.08063631094017584, -0.08071873095022479, -...   \n",
       "\n",
       "                             silence error bar lower  \\\n",
       "0  [0.0034222032018319526, 0.0034841321110106876,...   \n",
       "1  [-0.13443391428646181, -0.13442747556905332, -...   \n",
       "2  [-0.15440428764626124, -0.15448078478012428, -...   \n",
       "\n",
       "                             silence error bar upper  mean tone peak  \\\n",
       "0  [0.24069662821557736, 0.24073023253553272, 0.2...        1.383224   \n",
       "1  [0.018146812218190672, 0.018133832976473016, 0...        0.697018   \n",
       "2  [-0.006868334234090431, -0.006956677120325286,...        1.152473   \n",
       "\n",
       "   mean silence peak  \n",
       "0           1.137857  \n",
       "1           0.755536  \n",
       "2           0.953373  "
      ]
     },
     "execution_count": 31,
     "metadata": {},
     "output_type": "execute_result"
    }
   ],
   "source": [
    "#plot behaviour\n",
    "font = {'size': 7}\n",
    "matplotlib.rc('font', **font)\n",
    "matplotlib.rcParams['pdf.fonttype'] = 42\n",
    "matplotlib.rcParams['font.sans-serif'] = 'Arial'\n",
    "matplotlib.rcParams['font.family']\n",
    "\n",
    "\n",
    "fig, ax = plt.subplots(figsize=[2,2])\n",
    "francescas_plot(ax, df_for_plot_behaviour, mean_line_color='#7FB5B5', mean_linewidth=0, show_err_bar=False)\n",
    "plt.xticks([0, 1], ['tone', 'silence'], fontsize=8)\n",
    "plt.ylabel('Z-scored fluorescence', fontsize=8)\n",
    "#ax.text(0.9, 1.9, 'p-value = {0:.3f}'.format(pval))\n",
    "ax.set_xlabel(' ')\n",
    "\n",
    "#significance stars\n",
    "y = df_for_plot.to_numpy().max() + .2\n",
    "h = .1\n",
    "plt.plot([0, 0, 1, 1], [y, y+h, y+h, y],c='k',lw=1)\n",
    "#ax.text(.5, y+h, 'n.s.', ha='center', fontsize=10)\n",
    "\n",
    "plt.tight_layout()\n",
    "filepath=os.path.join('W:\\\\paper', 'behvaiour_silence_with_stats.pdf')\n",
    "fig.savefig(filepath)"
   ]
  },
  {
   "cell_type": "code",
   "execution_count": null,
   "id": "42844e38",
   "metadata": {},
   "outputs": [],
   "source": []
  }
 ],
 "metadata": {
  "kernelspec": {
   "display_name": "Python 3 (ipykernel)",
   "language": "python",
   "name": "python3"
  },
  "language_info": {
   "codemirror_mode": {
    "name": "ipython",
    "version": 3
   },
   "file_extension": ".py",
   "mimetype": "text/x-python",
   "name": "python",
   "nbconvert_exporter": "python",
   "pygments_lexer": "ipython3",
   "version": "3.8.13"
  }
 },
 "nbformat": 4,
 "nbformat_minor": 5
}
