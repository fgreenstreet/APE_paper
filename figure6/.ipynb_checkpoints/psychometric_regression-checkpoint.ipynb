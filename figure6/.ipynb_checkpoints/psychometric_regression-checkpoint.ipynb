{
 "cells": [
  {
   "cell_type": "code",
   "execution_count": 6,
   "metadata": {},
   "outputs": [],
   "source": [
    "import os\n",
    "import pandas as pd\n",
    "import numpy as np\n",
    "import matplotlib.pyplot as plt\n",
    "import seaborn as sns\n",
    "import statsmodels.api as sm\n",
    "import statsmodels.formula.api as smf\n",
    "import statsmodels as sm\n",
    "from scipy.stats import ttest_rel\n",
    "from scipy import stats\n",
    "from utils.plotting_visuals import makes_plots_pretty\n",
    "from utils.psychometric_correlation_utils import *\n",
    "from set_global_params import processed_data_path"
   ]
  },
  {
   "cell_type": "markdown",
   "metadata": {},
   "source": [
    "Regression for next trial effect"
   ]
  },
  {
   "cell_type": "code",
   "execution_count": 7,
   "metadata": {},
   "outputs": [
    {
     "ename": "ValueError",
     "evalue": "unsupported pickle protocol: 5",
     "output_type": "error",
     "traceback": [
      "\u001b[1;31m---------------------------------------------------------------------------\u001b[0m",
      "\u001b[1;31mValueError\u001b[0m                                Traceback (most recent call last)",
      "\u001b[1;32m<ipython-input-7-b654e4e581c9>\u001b[0m in \u001b[0;36m<module>\u001b[1;34m\u001b[0m\n\u001b[0;32m      1\u001b[0m \u001b[0msave_path\u001b[0m \u001b[1;33m=\u001b[0m \u001b[0mos\u001b[0m\u001b[1;33m.\u001b[0m\u001b[0mpath\u001b[0m\u001b[1;33m.\u001b[0m\u001b[0mjoin\u001b[0m\u001b[1;33m(\u001b[0m\u001b[0mprocessed_data_path\u001b[0m\u001b[1;33m,\u001b[0m \u001b[1;34m'psychometric_data'\u001b[0m\u001b[1;33m)\u001b[0m\u001b[1;33m\u001b[0m\u001b[1;33m\u001b[0m\u001b[0m\n\u001b[1;32m----> 2\u001b[1;33m \u001b[0mtail_df\u001b[0m \u001b[1;33m=\u001b[0m \u001b[0mpd\u001b[0m\u001b[1;33m.\u001b[0m\u001b[0mread_pickle\u001b[0m\u001b[1;33m(\u001b[0m\u001b[0mos\u001b[0m\u001b[1;33m.\u001b[0m\u001b[0mpath\u001b[0m\u001b[1;33m.\u001b[0m\u001b[0mjoin\u001b[0m\u001b[1;33m(\u001b[0m\u001b[0msave_path\u001b[0m\u001b[1;33m,\u001b[0m\u001b[1;34m\"all_trial_data_{}_contra_ipsi_last_trial_confidence_and_traces_no_tracking_{}_aligned.pkl\"\u001b[0m\u001b[1;33m.\u001b[0m\u001b[0mformat\u001b[0m\u001b[1;33m(\u001b[0m\u001b[1;34m'tail'\u001b[0m\u001b[1;33m,\u001b[0m \u001b[1;34m'choice'\u001b[0m\u001b[1;33m)\u001b[0m\u001b[1;33m)\u001b[0m\u001b[1;33m)\u001b[0m\u001b[1;33m\u001b[0m\u001b[1;33m\u001b[0m\u001b[0m\n\u001b[0m\u001b[0;32m      3\u001b[0m \u001b[0mnacc_df\u001b[0m \u001b[1;33m=\u001b[0m \u001b[0mpd\u001b[0m\u001b[1;33m.\u001b[0m\u001b[0mread_pickle\u001b[0m\u001b[1;33m(\u001b[0m\u001b[0mos\u001b[0m\u001b[1;33m.\u001b[0m\u001b[0mpath\u001b[0m\u001b[1;33m.\u001b[0m\u001b[0mjoin\u001b[0m\u001b[1;33m(\u001b[0m\u001b[0msave_path\u001b[0m\u001b[1;33m,\u001b[0m\u001b[1;34m\"all_trial_data_{}_contra_ipsi_last_trial_confidence_and_traces_no_tracking_{}_aligned.pkl\"\u001b[0m\u001b[1;33m.\u001b[0m\u001b[0mformat\u001b[0m\u001b[1;33m(\u001b[0m\u001b[1;34m'Nacc'\u001b[0m\u001b[1;33m,\u001b[0m \u001b[1;34m'reward'\u001b[0m\u001b[1;33m)\u001b[0m\u001b[1;33m)\u001b[0m\u001b[1;33m)\u001b[0m \u001b[1;31m#for reward\u001b[0m\u001b[1;33m\u001b[0m\u001b[1;33m\u001b[0m\u001b[0m\n\u001b[0;32m      4\u001b[0m \u001b[0mnacc_df\u001b[0m\u001b[1;33m[\u001b[0m\u001b[1;34m'recording site'\u001b[0m\u001b[1;33m]\u001b[0m \u001b[1;33m=\u001b[0m \u001b[1;34m'Nacc'\u001b[0m\u001b[1;33m\u001b[0m\u001b[1;33m\u001b[0m\u001b[0m\n\u001b[0;32m      5\u001b[0m \u001b[0mtail_df\u001b[0m\u001b[1;33m[\u001b[0m\u001b[1;34m'recording site'\u001b[0m\u001b[1;33m]\u001b[0m \u001b[1;33m=\u001b[0m \u001b[1;34m'tail'\u001b[0m\u001b[1;33m\u001b[0m\u001b[1;33m\u001b[0m\u001b[0m\n",
      "\u001b[1;32m~\\AppData\\Local\\Continuum\\miniconda3\\envs\\dlc_analysis\\lib\\site-packages\\pandas\\io\\pickle.py\u001b[0m in \u001b[0;36mread_pickle\u001b[1;34m(filepath_or_buffer, compression)\u001b[0m\n\u001b[0;32m    180\u001b[0m                 \u001b[1;31m# We want to silence any warnings about, e.g. moved modules.\u001b[0m\u001b[1;33m\u001b[0m\u001b[1;33m\u001b[0m\u001b[1;33m\u001b[0m\u001b[0m\n\u001b[0;32m    181\u001b[0m                 \u001b[0mwarnings\u001b[0m\u001b[1;33m.\u001b[0m\u001b[0msimplefilter\u001b[0m\u001b[1;33m(\u001b[0m\u001b[1;34m\"ignore\"\u001b[0m\u001b[1;33m,\u001b[0m \u001b[0mWarning\u001b[0m\u001b[1;33m)\u001b[0m\u001b[1;33m\u001b[0m\u001b[1;33m\u001b[0m\u001b[0m\n\u001b[1;32m--> 182\u001b[1;33m                 \u001b[1;32mreturn\u001b[0m \u001b[0mpickle\u001b[0m\u001b[1;33m.\u001b[0m\u001b[0mload\u001b[0m\u001b[1;33m(\u001b[0m\u001b[0mf\u001b[0m\u001b[1;33m)\u001b[0m\u001b[1;33m\u001b[0m\u001b[1;33m\u001b[0m\u001b[0m\n\u001b[0m\u001b[0;32m    183\u001b[0m         \u001b[1;32mexcept\u001b[0m \u001b[0mexcs_to_catch\u001b[0m\u001b[1;33m:\u001b[0m\u001b[1;33m\u001b[0m\u001b[1;33m\u001b[0m\u001b[0m\n\u001b[0;32m    184\u001b[0m             \u001b[1;31m# e.g.\u001b[0m\u001b[1;33m\u001b[0m\u001b[1;33m\u001b[0m\u001b[1;33m\u001b[0m\u001b[0m\n",
      "\u001b[1;31mValueError\u001b[0m: unsupported pickle protocol: 5"
     ]
    }
   ],
   "source": [
    "save_path = os.path.join(processed_data_path, 'psychometric_data')\n",
    "tail_df = pd.read_pickle(os.path.join(save_path,\"all_trial_data_{}_contra_ipsi_last_trial_confidence_and_traces_no_tracking_{}_aligned.pkl\".format('tail', 'choice')))\n",
    "nacc_df = pd.read_pickle(os.path.join(save_path,\"all_trial_data_{}_contra_ipsi_last_trial_confidence_and_traces_no_tracking_{}_aligned.pkl\".format('Nacc', 'reward'))) #for reward\n",
    "nacc_df['recording site'] = 'Nacc'\n",
    "tail_df['recording site'] = 'tail'"
   ]
  },
  {
   "cell_type": "code",
   "execution_count": 19,
   "metadata": {},
   "outputs": [],
   "source": [
    "behavioural_df_nacc = nacc_df.dropna().reset_index(drop=True)[['mouse', 'session', 'fiber side','trial numbers', 'trial type', 'side', 'outcome', 'last trial type', 'last choice', 'last outcome', 'next trial type', 'next choice', 'next outcome', 'norm APE', 'recording site']]\n",
    "behavioural_df_tail = tail_df.dropna().reset_index(drop=True)[['mouse', 'session', 'fiber side','trial numbers', 'trial type', 'side', 'outcome', 'last trial type', 'last choice', 'last outcome', 'next trial type', 'next choice', 'next outcome', 'norm APE', 'recording site']]"
   ]
  },
  {
   "cell_type": "code",
   "execution_count": 28,
   "metadata": {},
   "outputs": [],
   "source": [
    "df = pd.concat([behavioural_df_nacc, behavioural_df_tail])\n",
    "df['percentage high tones'] = df['trial type'].apply(convert)\n",
    "df['contra sensory evidence'] = df.apply(convert_lateral,axis=1)\n",
    "df['choice sensory evidence'] = df.apply(convert_ipsi_contra,axis=1)\n",
    "df['discriminatability'] = df['contra sensory evidence'].apply(convert_difficulty)\n",
    "df['numeric side'] = df['side'].apply(convert_ipsi_contra_numeric)\n",
    "\n",
    "df['previous percentage high tones'] = df['last trial type'].apply(convert)\n",
    "df['previous contra sensory evidence']  =  df.apply(convert_lateral_previous,axis=1)\n",
    "df['previous discriminatability'] = df['previous contra sensory evidence'].apply(convert_difficulty)\n",
    "df['previous choice sensory evidence'] = df.apply(convert_ipsi_contra_last_trial,axis=1)#df['next contra sensory evidence']  = df['next trial type'].apply(convert)\n",
    "\n",
    "df['next percentage high tones'] = df['next trial type'].apply(convert)\n",
    "df['next contra sensory evidence']  =  df.apply(convert_lateral_next,axis=1)\n",
    "df['next discriminatability'] = df['next contra sensory evidence'].apply(convert_difficulty)\n",
    "df['next choice sensory evidence'] = df.apply(convert_ipsi_contra_next_trial,axis=1)\n",
    "df['next numeric side'] = df['next choice'].apply(convert_ipsi_contra_numeric)"
   ]
  },
  {
   "cell_type": "code",
   "execution_count": 29,
   "metadata": {},
   "outputs": [],
   "source": [
    "df['shuffled previous discriminatability'] = df['previous discriminatability'].sample(df.shape[0]).values\n",
    "df['shuffled next discriminatability'] = df['next discriminatability'].sample(df.shape[0]).values"
   ]
  },
  {
   "cell_type": "code",
   "execution_count": 65,
   "metadata": {},
   "outputs": [
    {
     "data": {
      "text/plain": [
       "<AxesSubplot:xlabel='norm APE', ylabel='Count'>"
      ]
     },
     "execution_count": 65,
     "metadata": {},
     "output_type": "execute_result"
    },
    {
     "data": {
      "image/png": "[encoded data removed]",
      "text/plain": [
       "<Figure size 432x288 with 1 Axes>"
      ]
     },
     "metadata": {
      "needs_background": "light"
     },
     "output_type": "display_data"
    }
   ],
   "source": [
    "df_current_correct = df[df.outcome == 1]\n",
    "df_c = df_current_correct.reset_index()\n",
    "sns.histplot(data=df_c,x='norm APE', hue='side')"
   ]
  },
  {
   "cell_type": "code",
   "execution_count": 66,
   "metadata": {},
   "outputs": [],
   "source": [
    "def categorise_da_responses(response, cutoff=.65):\n",
    "    return pd.qcut(response, [0., cutoff, 1.], labels=['low','high'])\n"
   ]
  },
  {
   "cell_type": "code",
   "execution_count": 160,
   "metadata": {},
   "outputs": [],
   "source": [
    "df_c['DA response size'] = df_c.groupby(['mouse', 'recording site'])['norm APE'].apply(categorise_da_responses, cutoff=.65)\n",
    "df_t = df_c[df_c['recording site']=='tail']\n",
    "df_n = df_c[df_c['recording site']=='Nacc']"
   ]
  },
  {
   "cell_type": "markdown",
   "metadata": {},
   "source": [
    "Tail "
   ]
  },
  {
   "cell_type": "code",
   "execution_count": 517,
   "metadata": {},
   "outputs": [],
   "source": [
    "diffs_tail = get_diff_psychometrics_da_test(df_t)"
   ]
  },
  {
   "cell_type": "code",
   "execution_count": 518,
   "metadata": {},
   "outputs": [
    {
     "data": {
      "text/plain": [
       "['T-stat: 0.8199457706202865, p-val 0.47232666575165366',\n",
       " 'T-stat: 1.1872139023157748, p-val 0.3205829263017683',\n",
       " 'T-stat: 1.3692704990061897, p-val 0.30440106792185817',\n",
       " 'T-stat: 1.9142432977241441, p-val 0.15149235412397535',\n",
       " 'T-stat: 3.913680084653993, p-val 0.029649633090463885',\n",
       " 'T-stat: 0.18508422137769345, p-val 0.8649688247174123',\n",
       " 'T-stat: -0.6652769442987513, p-val 0.5534496948822808']"
      ]
     },
     "execution_count": 518,
     "metadata": {},
     "output_type": "execute_result"
    }
   ],
   "source": [
    "dn = diffs_tail.dropna()\n",
    "pvals = []\n",
    "stats = []\n",
    "for evidence in dn['next contra sensory evidence'].unique():\n",
    "    d = dn[dn['next contra sensory evidence'] == evidence]\n",
    "    stat, pval = ttest_rel(d['highdiff'], d['lowdiff'])\n",
    "    pvals.append(pval)\n",
    "    stats.append(stat)\n",
    "['T-stat: {}, p-val {}'.format(i,j) for i,j in zip(stats,pvals)]"
   ]
  },
  {
   "cell_type": "code",
   "execution_count": 519,
   "metadata": {},
   "outputs": [
    {
     "name": "stderr",
     "output_type": "stream",
     "text": [
      "C:\\Users\\francescag\\AppData\\Local\\Continuum\\miniconda3\\envs\\dlc_analysis\\lib\\site-packages\\ipykernel_launcher.py:1: SettingWithCopyWarning: \n",
      "A value is trying to be set on a copy of a slice from a DataFrame.\n",
      "Try using .loc[row_indexer,col_indexer] = value instead\n",
      "\n",
      "See the caveats in the documentation: https://pandas.pydata.org/pandas-docs/stable/user_guide/indexing.html#returning-a-view-versus-a-copy\n",
      "  \"\"\"Entry point for launching an IPython kernel.\n",
      "C:\\Users\\francescag\\AppData\\Local\\Continuum\\miniconda3\\envs\\dlc_analysis\\lib\\site-packages\\ipykernel_launcher.py:2: SettingWithCopyWarning: \n",
      "A value is trying to be set on a copy of a slice from a DataFrame.\n",
      "Try using .loc[row_indexer,col_indexer] = value instead\n",
      "\n",
      "See the caveats in the documentation: https://pandas.pydata.org/pandas-docs/stable/user_guide/indexing.html#returning-a-view-versus-a-copy\n",
      "  \n"
     ]
    }
   ],
   "source": [
    "dn['NextPerceptualUncertainty'] = dn['next contra sensory evidence'].apply(lambda x:1 - np.around(np.abs(.5 - x) ,decimals=2))\n",
    "dn['LogNextPerceptualUncertainty'] = dn['NextPerceptualUncertainty'].apply(lambda x:np.log(x))"
   ]
  },
  {
   "cell_type": "code",
   "execution_count": 520,
   "metadata": {},
   "outputs": [
    {
     "data": {
      "text/html": [
       "<div>\n",
       "<style scoped>\n",
       "    .dataframe tbody tr th:only-of-type {\n",
       "        vertical-align: middle;\n",
       "    }\n",
       "\n",
       "    .dataframe tbody tr th {\n",
       "        vertical-align: top;\n",
       "    }\n",
       "\n",
       "    .dataframe thead th {\n",
       "        text-align: right;\n",
       "    }\n",
       "</style>\n",
       "<table border=\"1\" class=\"dataframe\">\n",
       "  <thead>\n",
       "    <tr style=\"text-align: right;\">\n",
       "      <th></th>\n",
       "      <th>LogNextPerceptualUncertainty</th>\n",
       "      <th>mouse</th>\n",
       "      <th>highdiff</th>\n",
       "      <th>lowdiff</th>\n",
       "    </tr>\n",
       "  </thead>\n",
       "  <tbody>\n",
       "    <tr>\n",
       "      <th>0</th>\n",
       "      <td>-0.653926</td>\n",
       "      <td>SNL_photo21</td>\n",
       "      <td>0.038462</td>\n",
       "      <td>0.029412</td>\n",
       "    </tr>\n",
       "    <tr>\n",
       "      <th>1</th>\n",
       "      <td>-0.385662</td>\n",
       "      <td>SNL_photo21</td>\n",
       "      <td>0.290323</td>\n",
       "      <td>0.076389</td>\n",
       "    </tr>\n",
       "    <tr>\n",
       "      <th>2</th>\n",
       "      <td>-0.174353</td>\n",
       "      <td>SNL_photo21</td>\n",
       "      <td>0.340000</td>\n",
       "      <td>0.047581</td>\n",
       "    </tr>\n",
       "    <tr>\n",
       "      <th>3</th>\n",
       "      <td>0.000000</td>\n",
       "      <td>SNL_photo21</td>\n",
       "      <td>0.511364</td>\n",
       "      <td>0.266284</td>\n",
       "    </tr>\n",
       "    <tr>\n",
       "      <th>4</th>\n",
       "      <td>-0.174353</td>\n",
       "      <td>SNL_photo21</td>\n",
       "      <td>0.472222</td>\n",
       "      <td>0.157383</td>\n",
       "    </tr>\n",
       "  </tbody>\n",
       "</table>\n",
       "</div>"
      ],
      "text/plain": [
       "   LogNextPerceptualUncertainty        mouse  highdiff   lowdiff\n",
       "0                     -0.653926  SNL_photo21  0.038462  0.029412\n",
       "1                     -0.385662  SNL_photo21  0.290323  0.076389\n",
       "2                     -0.174353  SNL_photo21  0.340000  0.047581\n",
       "3                      0.000000  SNL_photo21  0.511364  0.266284\n",
       "4                     -0.174353  SNL_photo21  0.472222  0.157383"
      ]
     },
     "execution_count": 520,
     "metadata": {},
     "output_type": "execute_result"
    }
   ],
   "source": [
    "dd.head()"
   ]
  },
  {
   "cell_type": "code",
   "execution_count": 521,
   "metadata": {},
   "outputs": [],
   "source": [
    "key = 'LogNextPerceptualUncertainty'\n",
    "dd = dn[[key, 'mouse', 'highdiff', 'lowdiff']]\n",
    "new_df = dd.melt(id_vars=[key, 'mouse'])\n",
    "\n",
    "new_df['normalized_diff'] = (new_df['value'] - new_df['value'].min()) / (new_df['value'].max() - new_df['value'].min())\n",
    "new_df['log_normalized_diff'] = np.log( 1 + new_df['normalized_diff'])\n"
   ]
  },
  {
   "cell_type": "code",
   "execution_count": 522,
   "metadata": {},
   "outputs": [],
   "source": [
    "new_df_for_plot = new_df.rename(columns={'value': 'Next trial contralateral bias', 'LogNextPerceptualUncertainty': 'Next trial perceptual uncertainty (log)', 'variable': 'Current trial\\n dopamine response'})\n",
    "new_df_for_plot['Current trial dopamine response'] = new_df_for_plot['Current trial\\n dopamine response'].replace(['highdiff', 'lowdiff'], ['large','small'])"
   ]
  },
  {
   "cell_type": "code",
   "execution_count": 523,
   "metadata": {},
   "outputs": [
    {
     "data": {
      "image/png": "[encoded data removed]",
      "text/plain": [
       "<Figure size 144x180 with 1 Axes>"
      ]
     },
     "metadata": {
      "needs_background": "light"
     },
     "output_type": "display_data"
    }
   ],
   "source": [
    "fig, ax = plt.subplots(figsize=[2,2.5])\n",
    "\n",
    "font = {'size': 7}\n",
    "matplotlib.rc('font', **font)\n",
    "matplotlib.rcParams['pdf.fonttype'] = 42\n",
    "matplotlib.rcParams['font.sans-serif'] = 'Arial'\n",
    "matplotlib.rcParams['font.family']\n",
    "\n",
    "sns.lineplot(data=new_df_for_plot, x='Next trial perceptual uncertainty (log)', y='Next trial contralateral bias', hue='Current trial\\n dopamine response',ci=68, ax=ax)\n",
    "ax.spines['top'].set_visible(False)\n",
    "ax.spines['right'].set_visible(False)\n",
    "ax.legend(['large','small'], title='Current trial\\n dopamine response', loc='upper left', frameon=False)\n",
    "plt.tight_layout()\n",
    "filepath=os.path.join('W:\\\\paper', 'tail_psychometric_next_trial_bias.pdf' )\n",
    "fig.savefig(filepath)"
   ]
  },
  {
   "cell_type": "code",
   "execution_count": 524,
   "metadata": {},
   "outputs": [],
   "source": [
    "tail_coefs_dopamine = []\n",
    "tail_coefs_uncertainty = []\n",
    "tail_coefs_interaction = []\n",
    "import statsmodels.formula.api as smf\n",
    "for mouse in new_df['mouse'].unique():\n",
    "    mouse_data = new_df[new_df['mouse'] == mouse]\n",
    "    results = smf.ols(data=mouse_data, formula='value ~ C(variable) * LogNextPerceptualUncertainty').fit()\n",
    "    tail_coefs_dopamine.append(-1*results.params[1])\n",
    "    tail_coefs_uncertainty.append(results.params[2])\n",
    "    tail_coefs_interaction.append(-results.params[3])"
   ]
  },
  {
   "cell_type": "code",
   "execution_count": 525,
   "metadata": {},
   "outputs": [],
   "source": [
    "tail_coefs_dopamine_df = pd.DataFrame(tail_coefs_dopamine, columns=['Coefficient'], index=new_df['mouse'].unique())\n",
    "tail_coefs_dopamine_df['coefficient type'] = 'Current trial\\n  dopamine response size'\n",
    "tail_coefs_uncertainty_df = pd.DataFrame(tail_coefs_uncertainty, columns=['Coefficient'], index=new_df['mouse'].unique())\n",
    "tail_coefs_uncertainty_df['coefficient type'] = 'Next trial perceptual\\n uncertainty (log)'\n",
    "tail_coefs_interaction_df = pd.DataFrame(tail_coefs_interaction, columns=['Coefficient'], index=new_df['mouse'].unique())\n",
    "tail_coefs_interaction_df['coefficient type'] = 'Interaction'\n",
    "all_tail_coefs = pd.concat([tail_coefs_dopamine_df, tail_coefs_uncertainty_df, tail_coefs_interaction_df])"
   ]
  },
  {
   "cell_type": "code",
   "execution_count": 526,
   "metadata": {},
   "outputs": [
    {
     "data": {
      "text/plain": [
       "Ttest_1sampResult(statistic=4.344379600666264, pvalue=0.02251562235962062)"
      ]
     },
     "execution_count": 526,
     "metadata": {},
     "output_type": "execute_result"
    }
   ],
   "source": [
    "ttest_1samp(tail_coefs_dopamine, 0)"
   ]
  },
  {
   "cell_type": "code",
   "execution_count": 527,
   "metadata": {},
   "outputs": [
    {
     "data": {
      "text/plain": [
       "Ttest_1sampResult(statistic=3.929309157609447, pvalue=0.02934348826851515)"
      ]
     },
     "execution_count": 527,
     "metadata": {},
     "output_type": "execute_result"
    }
   ],
   "source": [
    "ttest_1samp(tail_coefs_uncertainty, 0)"
   ]
  },
  {
   "cell_type": "code",
   "execution_count": 484,
   "metadata": {},
   "outputs": [
    {
     "data": {
      "text/plain": [
       "Ttest_1sampResult(statistic=3.8496285134891104, pvalue=0.0309480195035041)"
      ]
     },
     "execution_count": 484,
     "metadata": {},
     "output_type": "execute_result"
    }
   ],
   "source": [
    "ttest_1samp(tail_coefs_interaction, 0)"
   ]
  },
  {
   "cell_type": "code",
   "execution_count": 528,
   "metadata": {},
   "outputs": [
    {
     "data": {
      "image/png": "[encoded data removed]",
      "text/plain": [
       "<Figure size 288x180 with 1 Axes>"
      ]
     },
     "metadata": {
      "needs_background": "light"
     },
     "output_type": "display_data"
    }
   ],
   "source": [
    "fig, ax = plt.subplots(figsize=[4,2.5])\n",
    "\n",
    "font = {'size': 7}\n",
    "matplotlib.rc('font', **font)\n",
    "matplotlib.rcParams['pdf.fonttype'] = 42\n",
    "matplotlib.rcParams['font.sans-serif'] = 'Arial'\n",
    "matplotlib.rcParams['font.family']\n",
    "\n",
    "sns.barplot(data=all_tail_coefs, y='Coefficient', x='coefficient type', ax=ax, palette='Set1', errwidth=1, alpha=0.4)\n",
    "sns.swarmplot(data=all_tail_coefs, y='Coefficient', x='coefficient type', ax=ax, palette='Set1')\n",
    "#plt.ylim([-0.5, 1])\n",
    "plt.text(1,0.9, '*', {'fontsize':12, 'weight':'bold'}, ha='center')\n",
    "plt.text(0,0.5, '*', {'fontsize':12, 'weight':'bold'}, ha='center')\n",
    "plt.text(2,0.6, '*', {'fontsize':12, 'weight':'bold'}, ha='center')\n",
    "ax.spines['left'].set_position(('outward', 10))\n",
    "ax.spines['bottom'].set_position(('outward', 10))\n",
    "\n",
    "ax.spines['right'].set_visible(False)\n",
    "ax.spines['top'].set_visible(False)\n",
    "ax.axhline(0, color='gray')\n",
    "plt.tight_layout()\n",
    "\n",
    "filepath=os.path.join('W:\\\\paper', 'tail_all_regression_coefficients_psychometric_bias.pdf' )\n",
    "fig.savefig(filepath)"
   ]
  },
  {
   "cell_type": "code",
   "execution_count": 486,
   "metadata": {},
   "outputs": [
    {
     "data": {
      "text/plain": [
       "[0.30523620599955975,\n",
       " 0.2985500067317909,\n",
       " 0.19563864688187255,\n",
       " 0.08842742546187182]"
      ]
     },
     "execution_count": 486,
     "metadata": {},
     "output_type": "execute_result"
    }
   ],
   "source": [
    "tail_coefs"
   ]
  },
  {
   "cell_type": "code",
   "execution_count": 487,
   "metadata": {},
   "outputs": [
    {
     "data": {
      "text/html": [
       "<table class=\"simpletable\">\n",
       "<caption>OLS Regression Results</caption>\n",
       "<tr>\n",
       "  <th>Dep. Variable:</th>          <td>value</td>      <th>  R-squared:         </th> <td>   0.418</td>\n",
       "</tr>\n",
       "<tr>\n",
       "  <th>Model:</th>                   <td>OLS</td>       <th>  Adj. R-squared:    </th> <td>   0.383</td>\n",
       "</tr>\n",
       "<tr>\n",
       "  <th>Method:</th>             <td>Least Squares</td>  <th>  F-statistic:       </th> <td>   11.95</td>\n",
       "</tr>\n",
       "<tr>\n",
       "  <th>Date:</th>             <td>Mon, 30 May 2022</td> <th>  Prob (F-statistic):</th> <td>5.15e-06</td>\n",
       "</tr>\n",
       "<tr>\n",
       "  <th>Time:</th>                 <td>13:56:25</td>     <th>  Log-Likelihood:    </th> <td>  27.435</td>\n",
       "</tr>\n",
       "<tr>\n",
       "  <th>No. Observations:</th>      <td>    54</td>      <th>  AIC:               </th> <td>  -46.87</td>\n",
       "</tr>\n",
       "<tr>\n",
       "  <th>Df Residuals:</th>          <td>    50</td>      <th>  BIC:               </th> <td>  -38.91</td>\n",
       "</tr>\n",
       "<tr>\n",
       "  <th>Df Model:</th>              <td>     3</td>      <th>                     </th>     <td> </td>   \n",
       "</tr>\n",
       "<tr>\n",
       "  <th>Covariance Type:</th>      <td>nonrobust</td>    <th>                     </th>     <td> </td>   \n",
       "</tr>\n",
       "</table>\n",
       "<table class=\"simpletable\">\n",
       "<tr>\n",
       "                           <td></td>                              <th>coef</th>     <th>std err</th>      <th>t</th>      <th>P>|t|</th>  <th>[0.025</th>    <th>0.975]</th>  \n",
       "</tr>\n",
       "<tr>\n",
       "  <th>Intercept</th>                                           <td>    0.4574</td> <td>    0.053</td> <td>    8.626</td> <td> 0.000</td> <td>    0.351</td> <td>    0.564</td>\n",
       "</tr>\n",
       "<tr>\n",
       "  <th>C(variable)[T.lowdiff]</th>                              <td>   -0.2175</td> <td>    0.075</td> <td>   -2.901</td> <td> 0.006</td> <td>   -0.368</td> <td>   -0.067</td>\n",
       "</tr>\n",
       "<tr>\n",
       "  <th>LogNextPerceptualUncertainty</th>                        <td>    0.6297</td> <td>    0.125</td> <td>    5.020</td> <td> 0.000</td> <td>    0.378</td> <td>    0.882</td>\n",
       "</tr>\n",
       "<tr>\n",
       "  <th>C(variable)[T.lowdiff]:LogNextPerceptualUncertainty</th> <td>   -0.3439</td> <td>    0.177</td> <td>   -1.938</td> <td> 0.058</td> <td>   -0.700</td> <td>    0.012</td>\n",
       "</tr>\n",
       "</table>\n",
       "<table class=\"simpletable\">\n",
       "<tr>\n",
       "  <th>Omnibus:</th>       <td> 8.958</td> <th>  Durbin-Watson:     </th> <td>   2.372</td>\n",
       "</tr>\n",
       "<tr>\n",
       "  <th>Prob(Omnibus):</th> <td> 0.011</td> <th>  Jarque-Bera (JB):  </th> <td>  12.292</td>\n",
       "</tr>\n",
       "<tr>\n",
       "  <th>Skew:</th>          <td> 0.518</td> <th>  Prob(JB):          </th> <td> 0.00214</td>\n",
       "</tr>\n",
       "<tr>\n",
       "  <th>Kurtosis:</th>      <td> 5.095</td> <th>  Cond. No.          </th> <td>    12.8</td>\n",
       "</tr>\n",
       "</table><br/><br/>Notes:<br/>[1] Standard Errors assume that the covariance matrix of the errors is correctly specified."
      ],
      "text/plain": [
       "<class 'statsmodels.iolib.summary.Summary'>\n",
       "\"\"\"\n",
       "                            OLS Regression Results                            \n",
       "==============================================================================\n",
       "Dep. Variable:                  value   R-squared:                       0.418\n",
       "Model:                            OLS   Adj. R-squared:                  0.383\n",
       "Method:                 Least Squares   F-statistic:                     11.95\n",
       "Date:                Mon, 30 May 2022   Prob (F-statistic):           5.15e-06\n",
       "Time:                        13:56:25   Log-Likelihood:                 27.435\n",
       "No. Observations:                  54   AIC:                            -46.87\n",
       "Df Residuals:                      50   BIC:                            -38.91\n",
       "Df Model:                           3                                         \n",
       "Covariance Type:            nonrobust                                         \n",
       "=======================================================================================================================\n",
       "                                                          coef    std err          t      P>|t|      [0.025      0.975]\n",
       "-----------------------------------------------------------------------------------------------------------------------\n",
       "Intercept                                               0.4574      0.053      8.626      0.000       0.351       0.564\n",
       "C(variable)[T.lowdiff]                                 -0.2175      0.075     -2.901      0.006      -0.368      -0.067\n",
       "LogNextPerceptualUncertainty                            0.6297      0.125      5.020      0.000       0.378       0.882\n",
       "C(variable)[T.lowdiff]:LogNextPerceptualUncertainty    -0.3439      0.177     -1.938      0.058      -0.700       0.012\n",
       "==============================================================================\n",
       "Omnibus:                        8.958   Durbin-Watson:                   2.372\n",
       "Prob(Omnibus):                  0.011   Jarque-Bera (JB):               12.292\n",
       "Skew:                           0.518   Prob(JB):                      0.00214\n",
       "Kurtosis:                       5.095   Cond. No.                         12.8\n",
       "==============================================================================\n",
       "\n",
       "Notes:\n",
       "[1] Standard Errors assume that the covariance matrix of the errors is correctly specified.\n",
       "\"\"\""
      ]
     },
     "execution_count": 487,
     "metadata": {},
     "output_type": "execute_result"
    }
   ],
   "source": [
    "import statsmodels.formula.api as smf\n",
    "\n",
    "results = smf.ols(data=new_df, formula='value ~ C(variable) * LogNextPerceptualUncertainty').fit()\n",
    "results.summary()"
   ]
  },
  {
   "cell_type": "markdown",
   "metadata": {},
   "source": [
    "Nacc"
   ]
  },
  {
   "cell_type": "code",
   "execution_count": 488,
   "metadata": {},
   "outputs": [],
   "source": [
    "diffs_nacc = get_diff_psychometrics_da_test(df_n)"
   ]
  },
  {
   "cell_type": "code",
   "execution_count": 489,
   "metadata": {},
   "outputs": [
    {
     "data": {
      "text/plain": [
       "['T-stat: 0.49941251305099565, p-val 0.6352698922492097',\n",
       " 'T-stat: 2.2677612959313485, p-val 0.0638637275156992',\n",
       " 'T-stat: -1.737640593525464, p-val 0.13294333975918957',\n",
       " 'T-stat: -0.06992966646812794, p-val 0.9465220923958041',\n",
       " 'T-stat: 0.9459375221930327, p-val 0.38070018201781014',\n",
       " 'T-stat: 3.2880826158475083, p-val 0.016653616823589294',\n",
       " 'T-stat: -1.0445958104308288, p-val 0.3364570265050675']"
      ]
     },
     "execution_count": 489,
     "metadata": {},
     "output_type": "execute_result"
    }
   ],
   "source": [
    "dn = diffs_nacc.dropna()\n",
    "pvals = []\n",
    "stats = []\n",
    "for evidence in dn['next contra sensory evidence'].unique():\n",
    "    d = dn[dn['next contra sensory evidence'] == evidence]\n",
    "    stat, pval = ttest_rel(d['highdiff'], d['lowdiff'])\n",
    "    pvals.append(pval)\n",
    "    stats.append(stat)\n",
    "['T-stat: {}, p-val {}'.format(i,j) for i,j in zip(stats,pvals)]"
   ]
  },
  {
   "cell_type": "code",
   "execution_count": 490,
   "metadata": {},
   "outputs": [],
   "source": [
    "dn['NextPerceptualUncertainty'] = dn['next contra sensory evidence'].apply(lambda x:1 - np.around(np.abs(.5 - x) ,decimals=2))\n",
    "dn['LogNextPerceptualUncertainty'] = dn['NextPerceptualUncertainty'].apply(lambda x:np.log(x))"
   ]
  },
  {
   "cell_type": "code",
   "execution_count": 491,
   "metadata": {},
   "outputs": [],
   "source": [
    "key = 'LogNextPerceptualUncertainty'\n",
    "dd = dn[[key, 'mouse', 'highdiff', 'lowdiff']]\n",
    "new_df = dd.melt(id_vars=[key, 'mouse'])\n",
    "\n",
    "new_df['normalized_diff'] = (new_df['value'] - new_df['value'].min()) / (new_df['value'].max() - new_df['value'].min())\n",
    "new_df['log_normalized_diff'] = np.log( 1 + new_df['normalized_diff'])\n"
   ]
  },
  {
   "cell_type": "code",
   "execution_count": 492,
   "metadata": {},
   "outputs": [],
   "source": [
    "new_df_for_plot = new_df.rename(columns={'value': 'Next trial contralateral bias', 'LogNextPerceptualUncertainty': 'Next trial perceptual uncertainty (log)', 'variable': 'Current trial\\n dopamine response'})\n",
    "new_df_for_plot['Current trial dopamine response'] = new_df_for_plot['Current trial\\n dopamine response'].replace(['highdiff', 'lowdiff'], ['large','small'])"
   ]
  },
  {
   "cell_type": "code",
   "execution_count": 493,
   "metadata": {},
   "outputs": [
    {
     "data": {
      "image/png": "[encoded data removed]",
      "text/plain": [
       "<Figure size 144x180 with 1 Axes>"
      ]
     },
     "metadata": {
      "needs_background": "light"
     },
     "output_type": "display_data"
    }
   ],
   "source": [
    "fig, ax = plt.subplots(figsize=[2,2.5])\n",
    "\n",
    "font = {'size': 7}\n",
    "matplotlib.rc('font', **font)\n",
    "matplotlib.rcParams['pdf.fonttype'] = 42\n",
    "matplotlib.rcParams['font.sans-serif'] = 'Arial'\n",
    "matplotlib.rcParams['font.family']\n",
    "\n",
    "sns.lineplot(data=new_df_for_plot, x='Next trial perceptual uncertainty (log)', y='Next trial contralateral bias', hue='Current trial\\n dopamine response',ci=68, ax=ax)\n",
    "ax.spines['top'].set_visible(False)\n",
    "ax.spines['right'].set_visible(False)\n",
    "ax.legend(['large','small'], title='Current trial\\n dopamine response', loc='upper left', frameon=False)\n",
    "plt.tight_layout()\n",
    "\n",
    "filepath=os.path.join('W:\\\\paper', 'nacc_psychometric_next_trial_bias.pdf' )\n",
    "fig.savefig(filepath)"
   ]
  },
  {
   "cell_type": "code",
   "execution_count": 494,
   "metadata": {},
   "outputs": [],
   "source": [
    "nacc_coefs_dopamine = []\n",
    "nacc_coefs_uncertainty = []\n",
    "nacc_coefs_interaction = []\n",
    "import statsmodels.formula.api as smf\n",
    "for mouse in new_df['mouse'].unique():\n",
    "    mouse_data = new_df[new_df['mouse'] == mouse]\n",
    "    results = smf.ols(data=mouse_data, formula='value ~ C(variable) * LogNextPerceptualUncertainty').fit()\n",
    "    nacc_coefs_dopamine.append(-results.params[1])\n",
    "    nacc_coefs_uncertainty.append(results.params[2])\n",
    "    nacc_coefs_interaction.append(-results.params[3])"
   ]
  },
  {
   "cell_type": "code",
   "execution_count": 495,
   "metadata": {},
   "outputs": [],
   "source": [
    "nacc_coefs_dopamine_df = pd.DataFrame(nacc_coefs_dopamine, columns=['Coefficient'], index=new_df['mouse'].unique())\n",
    "nacc_coefs_dopamine_df['coefficient type'] = 'Current trial\\n  dopamine response size'\n",
    "nacc_coefs_uncertainty_df = pd.DataFrame(nacc_coefs_uncertainty, columns=['Coefficient'], index=new_df['mouse'].unique())\n",
    "nacc_coefs_uncertainty_df['coefficient type'] = 'Next trial perceptual\\n uncertainty (log)'\n",
    "nacc_coefs_interaction_df = pd.DataFrame(nacc_coefs_interaction, columns=['Coefficient'], index=new_df['mouse'].unique())\n",
    "nacc_coefs_interaction_df['coefficient type'] = 'Interaction'\n",
    "all_nacc_coefs = pd.concat([nacc_coefs_dopamine_df, nacc_coefs_uncertainty_df, nacc_coefs_interaction_df])"
   ]
  },
  {
   "cell_type": "code",
   "execution_count": 496,
   "metadata": {},
   "outputs": [
    {
     "data": {
      "text/plain": [
       "Ttest_1sampResult(statistic=0.1865017166200971, pvalue=0.8581974011140633)"
      ]
     },
     "execution_count": 496,
     "metadata": {},
     "output_type": "execute_result"
    }
   ],
   "source": [
    "ttest_1samp(nacc_coefs_dopamine, 0)"
   ]
  },
  {
   "cell_type": "code",
   "execution_count": 497,
   "metadata": {},
   "outputs": [
    {
     "data": {
      "text/plain": [
       "Ttest_1sampResult(statistic=3.7493665523845308, pvalue=0.009516864032227002)"
      ]
     },
     "execution_count": 497,
     "metadata": {},
     "output_type": "execute_result"
    }
   ],
   "source": [
    "ttest_1samp(nacc_coefs_uncertainty, 0)"
   ]
  },
  {
   "cell_type": "code",
   "execution_count": 498,
   "metadata": {},
   "outputs": [
    {
     "data": {
      "text/plain": [
       "Ttest_1sampResult(statistic=-0.08169771842998556, pvalue=0.9375442514285025)"
      ]
     },
     "execution_count": 498,
     "metadata": {},
     "output_type": "execute_result"
    }
   ],
   "source": [
    "ttest_1samp(nacc_coefs_interaction, 0)"
   ]
  },
  {
   "cell_type": "code",
   "execution_count": 516,
   "metadata": {},
   "outputs": [
    {
     "data": {
      "image/png": "[encoded data removed]",
      "text/plain": [
       "<Figure size 288x180 with 1 Axes>"
      ]
     },
     "metadata": {
      "needs_background": "light"
     },
     "output_type": "display_data"
    }
   ],
   "source": [
    "fig, ax = plt.subplots(figsize=[4,2.5])\n",
    "\n",
    "font = {'size': 7}\n",
    "matplotlib.rc('font', **font)\n",
    "matplotlib.rcParams['pdf.fonttype'] = 42\n",
    "matplotlib.rcParams['font.sans-serif'] = 'Arial'\n",
    "matplotlib.rcParams['font.family']\n",
    "\n",
    "sns.barplot(data=all_nacc_coefs, y='Coefficient', x='coefficient type', ax=ax, palette='Set1', errwidth=1, alpha=0.4)\n",
    "sns.swarmplot(data=all_nacc_coefs, y='Coefficient', x='coefficient type', ax=ax, palette='Set1')\n",
    "#plt.ylim([-0.5, 1])\n",
    "plt.text(1,0.7, '*', {'fontsize':12, 'weight':'bold'}, ha='center')\n",
    "plt.text(0,0.4, 'n.s.', {'fontsize':10}, ha='center')\n",
    "plt.text(2,0.4, 'n.s.', {'fontsize':10}, ha='center')\n",
    "ax.spines['left'].set_position(('outward', 10))\n",
    "ax.spines['bottom'].set_position(('outward', 10))\n",
    "\n",
    "ax.spines['right'].set_visible(False)\n",
    "ax.spines['top'].set_visible(False)\n",
    "ax.axhline(0, color='gray')\n",
    "plt.tight_layout()\n",
    "filepath=os.path.join('W:\\\\paper', 'nacc_all_regression_coefficients_psychometric_bias.pdf' )\n",
    "fig.savefig(filepath)"
   ]
  },
  {
   "cell_type": "code",
   "execution_count": 416,
   "metadata": {},
   "outputs": [],
   "source": [
    "nacc_coef_df = pd.DataFrame({'Coefficient': nacc_coefs})\n",
    "nacc_coef_df['Site'] = 'VS'\n",
    "tail_coef_df = pd.DataFrame({'Coefficient': tail_coefs})\n",
    "tail_coef_df['Site'] = 'AudS'\n",
    "df_coefs = pd.concat([tail_coef_df, nacc_coef_df])"
   ]
  },
  {
   "cell_type": "code",
   "execution_count": 417,
   "metadata": {},
   "outputs": [
    {
     "data": {
      "text/plain": [
       "Ttest_1sampResult(statistic=0.1865017166200971, pvalue=0.8581974011140633)"
      ]
     },
     "execution_count": 417,
     "metadata": {},
     "output_type": "execute_result"
    }
   ],
   "source": [
    "from scipy.stats import ttest_1samp\n",
    "ttest_1samp(nacc_coefs_dopamine, 0)"
   ]
  },
  {
   "cell_type": "code",
   "execution_count": 418,
   "metadata": {},
   "outputs": [
    {
     "data": {
      "text/plain": [
       "Ttest_1sampResult(statistic=4.344379600666264, pvalue=0.02251562235962062)"
      ]
     },
     "execution_count": 418,
     "metadata": {},
     "output_type": "execute_result"
    }
   ],
   "source": [
    "ttest_1samp(tail_coefs, 0)"
   ]
  },
  {
   "cell_type": "code",
   "execution_count": 419,
   "metadata": {},
   "outputs": [
    {
     "data": {
      "image/png": "[encoded data removed]",
      "text/plain": [
       "<Figure size 144x180 with 1 Axes>"
      ]
     },
     "metadata": {
      "needs_background": "light"
     },
     "output_type": "display_data"
    }
   ],
   "source": [
    "# plot regression coefs\n",
    "\n",
    "font = {'size': 7}\n",
    "matplotlib.rc('font', **font)\n",
    "matplotlib.rcParams['pdf.fonttype'] = 42\n",
    "matplotlib.rcParams['font.sans-serif'] = 'Arial'\n",
    "matplotlib.rcParams['font.family']\n",
    "\n",
    "fig, ax = plt.subplots(figsize=[2,2.5])\n",
    "sns.barplot(data=df_coefs, y='Coefficient', x='Site', ax=ax, errwidth=1, alpha=0.4)\n",
    "sns.swarmplot(data=df_coefs, y='Coefficient', x='Site', ax=ax)\n",
    "plt.ylim([-0.3, 1])\n",
    "plt.text(0, 0.7, '*', {'fontsize':12, 'weight':'bold'}, ha='center')\n",
    "plt.text(1, 0.7, 'n.s.', {'fontsize':10}, ha='center')\n",
    "ax.spines['left'].set_position(('outward', 10))\n",
    "ax.spines['bottom'].set_position(('outward', 10))\n",
    "ax.spines['right'].set_visible(False)\n",
    "ax.spines['top'].set_visible(False)\n",
    "ax.axhline(0, color='gray')\n",
    "plt.title('Regressor: Current trial\\n dopamine response' )\n",
    "plt.tight_layout()\n",
    "filepath=os.path.join('W:\\\\paper', 'regression_coefficients_psychometric_bias.pdf' )\n",
    "fig.savefig(filepath)"
   ]
  },
  {
   "cell_type": "code",
   "execution_count": 310,
   "metadata": {},
   "outputs": [],
   "source": [
    "import matplotlib"
   ]
  },
  {
   "cell_type": "code",
   "execution_count": null,
   "metadata": {},
   "outputs": [],
   "source": [
    "coefs_interaction = [r.params['interaction'] for r in results]\n",
    "coefs_speed = [r.params['average speed'] for r in results]\n",
    "coefs_trial_type = [r.params[key2] for r in results]"
   ]
  }
 ],
 "metadata": {
  "kernelspec": {
   "display_name": "Python 3",
   "language": "python",
   "name": "python3"
  },
  "language_info": {
   "codemirror_mode": {
    "name": "ipython",
    "version": 3
   },
   "file_extension": ".py",
   "mimetype": "text/x-python",
   "name": "python",
   "nbconvert_exporter": "python",
   "pygments_lexer": "ipython3",
   "version": "3.6.13"
  }
 },
 "nbformat": 4,
 "nbformat_minor": 4
}
