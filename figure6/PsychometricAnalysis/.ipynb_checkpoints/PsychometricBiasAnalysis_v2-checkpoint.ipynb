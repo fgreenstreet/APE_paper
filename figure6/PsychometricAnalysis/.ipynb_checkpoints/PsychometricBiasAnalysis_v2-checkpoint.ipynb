{
 "cells": [
  {
   "cell_type": "markdown",
   "metadata": {},
   "source": [
    "# import packages"
   ]
  },
  {
   "cell_type": "code",
   "execution_count": 3,
   "metadata": {},
   "outputs": [],
   "source": [
    "import sys\n",
    "import matplotlib\n",
    "import pandas as pd\n",
    "import numpy as np\n",
    "import matplotlib.pyplot as plt\n",
    "import seaborn as sns\n",
    "import statsmodels.api as sm\n",
    "import statsmodels.formula.api as smf\n",
    "import statsmodels as sm\n",
    "from scipy.stats import ttest_rel, ttest_1samp\n",
    "from scipy import stats\n",
    "\n",
    "import os"
   ]
  },
  {
   "cell_type": "markdown",
   "metadata": {},
   "source": [
    "# define some helper functions "
   ]
  },
  {
   "cell_type": "code",
   "execution_count": 4,
   "metadata": {},
   "outputs": [],
   "source": [
    "def categorise_da_responses(response, cutoff=.65):\n",
    "    \"\"\"Label DA responses as \"low\" or \"high\" based on quantile cutoff value. Default cutoff value based on Lak et al. \n",
    "    \"\"\"\n",
    "    return pd.qcut(response, [0., cutoff, 1.], labels=['low','high'])"
   ]
  },
  {
   "cell_type": "code",
   "execution_count": 5,
   "metadata": {},
   "outputs": [],
   "source": [
    "def convert_lateral(data):\n",
    "    return data['percentage high tones'] if data['fiber side'] == 'right' else round(1 - data['percentage high tones'], 2)\n",
    "\n",
    "def convert_ipsi_contra(data):\n",
    "    return data['contra sensory evidence'] if data['side'] == 'contra' else round(1 - data['contra sensory evidence'], 2)\n",
    "\n",
    "def convert(trial_type):\n",
    "    percentage_high_tones = { \n",
    "    1.: .98,\n",
    "    2.: .82,\n",
    "    3.: .66,\n",
    "    4.: .50,\n",
    "    5.: .34,\n",
    "    6.: .18,\n",
    "    7.: .02}\n",
    "    return percentage_high_tones[trial_type]"
   ]
  },
  {
   "cell_type": "code",
   "execution_count": 6,
   "metadata": {},
   "outputs": [],
   "source": [
    "def convert_difficulty(sensory_evidence):\n",
    "    return np.round(-(0.5 - sensory_evidence)/0.5, 2)\n",
    "\n",
    "def convert_ipsi_contra_numeric(side):\n",
    "    mapping = {'ipsi': 0, 'contra':1}\n",
    "    return mapping[side]\n",
    "\n",
    "def convert_lateral_previous(data):\n",
    "    return data['previous percentage high tones'] if data['fiber side'] == 'right' else round(1 - data['previous percentage high tones'], 2)\n",
    "\n",
    "def convert_lateral_next(data):\n",
    "    return data['next percentage high tones'] if data['fiber side'] == 'right' else round(1 - data['next percentage high tones'], 2)\n",
    "\n",
    "def convert_ipsi_contra_next_trial(data):\n",
    "    return data['next contra sensory evidence'] if data['side'] == 'contra' else round(1 - data['next contra sensory evidence'], 2)\n",
    "\n",
    "def convert_ipsi_contra_last_trial(data):\n",
    "    return data['previous contra sensory evidence'] if data['side'] == 'contra' else round(1 - data['previous contra sensory evidence'], 2)\n",
    "\n",
    "def convert_stay_switch_next_trial(data):\n",
    "    print(data['side'] == data['next choice'])\n",
    "    return data['side'] == data['next choice']\n"
   ]
  },
  {
   "cell_type": "code",
   "execution_count": 7,
   "metadata": {},
   "outputs": [],
   "source": [
    "def get_diff_psychometrics_da_test(df, x_variable='next contra sensory evidence'):\n",
    "    \"\"\"\n",
    "    # the code below loops through mice and, for each mouse, subtracts lowcontra-lowipsi, highcontra-highipsi\n",
    "    # then, the results are written to a new dataframe (where we also write mouse name), and concatenated for all mice\n",
    "    \"\"\"\n",
    "    mean_per_mouse = df.groupby(['mouse', x_variable, \n",
    "                                     'DA response size', \n",
    "                                     'side'])['next numeric side'].apply(np.mean).reset_index()\n",
    "\n",
    "    diff_data = []\n",
    "    for mouse in df.mouse.unique():\n",
    "        mousedf = mean_per_mouse[mean_per_mouse.mouse==mouse] \n",
    "\n",
    "        high_ipsi = ((mousedf['side'] == 'ipsi') & (mousedf['DA response size'] == 'high'))\n",
    "        high_contra =  (mousedf['side'] == 'contra') & (mousedf['DA response size'] == 'high')\n",
    "        low_ipsi = (mousedf['side'] == 'ipsi') & (mousedf['DA response size'] == 'low')\n",
    "        low_contra =  (mousedf['side'] == 'contra') & (mousedf['DA response size'] == 'low')\n",
    "\n",
    "        high_diff = mousedf[high_contra]['next numeric side'].reset_index(drop=True) - mousedf[high_ipsi]['next numeric side'].reset_index(drop=True)\n",
    "        low_diff = mousedf[low_contra]['next numeric side'].reset_index(drop=True) - mousedf[low_ipsi]['next numeric side'].reset_index(drop=True)\n",
    "\n",
    "\n",
    "        new_df = pd.DataFrame()\n",
    "        new_df[x_variable] = mousedf[low_contra][x_variable].reset_index(drop=True)\n",
    "        new_df['mouse'] = mouse\n",
    "        new_df['highdiff'] = high_diff\n",
    "        new_df['lowdiff'] = low_diff\n",
    "        diff_data.append(new_df)\n",
    "\n",
    "    all_diffs = pd.concat(diff_data)\n",
    "    return all_diffs\n"
   ]
  },
  {
   "cell_type": "markdown",
   "metadata": {},
   "source": [
    "# plotting parameters"
   ]
  },
  {
   "cell_type": "code",
   "execution_count": 8,
   "metadata": {},
   "outputs": [],
   "source": [
    "font = {'size': 7}\n",
    "matplotlib.rc('font', **font)\n",
    "matplotlib.rcParams['pdf.fonttype'] = 42\n",
    "matplotlib.rcParams['font.sans-serif'] = 'Arial'\n",
    "matplotlib.rcParams['font.family']\n",
    "markersize1 = 20\n",
    "markersize=5\n",
    "linewidth = 1.5"
   ]
  },
  {
   "cell_type": "markdown",
   "metadata": {},
   "source": [
    "# Plotting functions "
   ]
  },
  {
   "cell_type": "code",
   "execution_count": 9,
   "metadata": {},
   "outputs": [],
   "source": [
    "def plot_diff_split_psychometric_test(df, choice, \n",
    "                                 colourmap=None,\n",
    "                                 easy_diff_dict={'diff': 0.5, 'easy': 0.98},\n",
    "                                 legend_labels=['difficult', 'easy'],\n",
    "                                 split_by='previous contra sensory evidence',\n",
    "                                 val_to_plot='contra sensory evidence',\n",
    "                                 y_val_to_plot= 'next numeric side',\n",
    "                                 ax=None, **kwargs):\n",
    "    \"\"\"Compute \n",
    "    \n",
    "    :params \n",
    "        df (pd.DataFrame): Choice data for each animal. \n",
    "        last_choice (str): 'ipsi' or 'contra'\n",
    "    :\n",
    "    \"\"\"\n",
    "    if ax is None:\n",
    "        fig, ax = plt.subplots()\n",
    "    if colourmap is None:\n",
    "        colourmap = sns.color_palette(\"flare\", as_cmap=True)\n",
    "    \n",
    "    mean_per_mouse = df.groupby(['mouse', val_to_plot, split_by, 'side'])[y_val_to_plot].apply(np.mean).reset_index()\n",
    "    colours = colourmap(np.linspace(0, 1, 4))\n",
    "    \n",
    "    choice_data = mean_per_mouse[mean_per_mouse['side'] == choice]\n",
    "    for i, p in enumerate(easy_diff_dict.values()):\n",
    "        data = choice_data[choice_data[split_by] == p]\n",
    "        yerr = data.groupby(val_to_plot)[y_val_to_plot].sem()\n",
    "        means = data.groupby(val_to_plot)[y_val_to_plot].mean()\n",
    "\n",
    "        if choice ==0:\n",
    "            choice='right'\n",
    "        elif choice ==1:\n",
    "            choice = 'left'\n",
    "        else:\n",
    "            choice = choice\n",
    "        ax.plot(means.index.values, means, color=colours[i], label= '{} {}'.format(choice, legend_labels[i]), **kwargs)\n",
    "        #sns.pointplot(data=data, x=val_to_plot, y='numeric side', color=colours[i], label=str(p) + 'contra', ci=None, ax=ax)\n",
    "        ax.errorbar(x=means.index.values, y=means, yerr=yerr, color=colours[i], fmt='.', **kwargs)\n",
    "    \n",
    "    #plt.ylabel('Proportion contralateral choices')\n",
    "    plt.xlabel('Contralateral sensory evidence')\n",
    "    return ax\n",
    "    "
   ]
  },
  {
   "cell_type": "markdown",
   "metadata": {},
   "source": [
    "# load data"
   ]
  },
  {
   "cell_type": "code",
   "execution_count": 10,
   "metadata": {},
   "outputs": [
    {
     "ename": "NameError",
     "evalue": "name 'processed_data_path' is not defined",
     "output_type": "error",
     "traceback": [
      "\u001b[0;31m---------------------------------------------------------------------------\u001b[0m",
      "\u001b[0;31mNameError\u001b[0m                                 Traceback (most recent call last)",
      "Cell \u001b[0;32mIn[10], line 58\u001b[0m\n\u001b[1;32m     55\u001b[0m     df_n \u001b[38;5;241m=\u001b[39m df_c[df_c[\u001b[38;5;124m'\u001b[39m\u001b[38;5;124mrecording site\u001b[39m\u001b[38;5;124m'\u001b[39m]\u001b[38;5;241m==\u001b[39m\u001b[38;5;124m'\u001b[39m\u001b[38;5;124mNacc\u001b[39m\u001b[38;5;124m'\u001b[39m]\n\u001b[1;32m     56\u001b[0m     \u001b[38;5;28;01mreturn\u001b[39;00m df_t, df_n\n\u001b[0;32m---> 58\u001b[0m df_t, df_n \u001b[38;5;241m=\u001b[39m \u001b[43mload_data\u001b[49m\u001b[43m(\u001b[49m\u001b[43m)\u001b[49m\n",
      "Cell \u001b[0;32mIn[10], line 7\u001b[0m, in \u001b[0;36mload_data\u001b[0;34m()\u001b[0m\n\u001b[1;32m      5\u001b[0m site \u001b[38;5;241m=\u001b[39m \u001b[38;5;124m'\u001b[39m\u001b[38;5;124mtail\u001b[39m\u001b[38;5;124m'\u001b[39m\n\u001b[1;32m      6\u001b[0m alignment\u001b[38;5;241m=\u001b[39m\u001b[38;5;124m'\u001b[39m\u001b[38;5;124mchoice\u001b[39m\u001b[38;5;124m'\u001b[39m\n\u001b[0;32m----> 7\u001b[0m save_path \u001b[38;5;241m=\u001b[39m os\u001b[38;5;241m.\u001b[39mpath\u001b[38;5;241m.\u001b[39mjoin(\u001b[43mprocessed_data_path\u001b[49m, \u001b[38;5;124m'\u001b[39m\u001b[38;5;124mpsychometric_data\u001b[39m\u001b[38;5;124m'\u001b[39m)\n\u001b[1;32m      8\u001b[0m tail_df \u001b[38;5;241m=\u001b[39m pd\u001b[38;5;241m.\u001b[39mread_pickle(os\u001b[38;5;241m.\u001b[39mpath\u001b[38;5;241m.\u001b[39mjoin(save_path,\u001b[38;5;124m\"\u001b[39m\u001b[38;5;124mall_trial_data_\u001b[39m\u001b[38;5;132;01m{}\u001b[39;00m\u001b[38;5;124m_contra_ipsi_last_trial_confidence_and_traces_no_tracking_\u001b[39m\u001b[38;5;132;01m{}\u001b[39;00m\u001b[38;5;124m_aligned.pkl\u001b[39m\u001b[38;5;124m\"\u001b[39m\u001b[38;5;241m.\u001b[39mformat(site, alignment)))\n\u001b[1;32m      9\u001b[0m tail_df_last_mouse \u001b[38;5;241m=\u001b[39m pd\u001b[38;5;241m.\u001b[39mread_pickle(os\u001b[38;5;241m.\u001b[39mpath\u001b[38;5;241m.\u001b[39mjoin(save_path,\u001b[38;5;124m\"\u001b[39m\u001b[38;5;124mall_trial_data_\u001b[39m\u001b[38;5;132;01m{}\u001b[39;00m\u001b[38;5;124m_contra_ipsi_last_trial_confidence_and_traces_no_tracking_\u001b[39m\u001b[38;5;132;01m{}\u001b[39;00m\u001b[38;5;124m_aligned_SNL_photo57.pkl\u001b[39m\u001b[38;5;124m\"\u001b[39m\u001b[38;5;241m.\u001b[39mformat(site, alignment)))\n",
      "\u001b[0;31mNameError\u001b[0m: name 'processed_data_path' is not defined"
     ]
    }
   ],
   "source": [
    "def load_data():\n",
    "    # first, load data from nacc and tail including behavioural chocies \n",
    "    # -------------------------------------------\n",
    "    # with reaction times\n",
    "    site = 'tail'\n",
    "    alignment='choice'\n",
    "    save_path = os.path.join(processed_data_path, 'psychometric_data')\n",
    "    tail_df = pd.read_pickle(os.path.join(save_path,\"all_trial_data_{}_contra_ipsi_last_trial_confidence_and_traces_no_tracking_{}_aligned.pkl\".format(site, alignment)))\n",
    "    tail_df_last_mouse = pd.read_pickle(os.path.join(save_path,\"all_trial_data_{}_contra_ipsi_last_trial_confidence_and_traces_no_tracking_{}_aligned_SNL_photo57.pkl\".format(site, alignment)))\n",
    "    tail_df_new_mice = pd.read_pickle(os.path.join(save_path,\"all_trial_data_{}_contra_ipsi_last_trial_confidence_and_traces_no_tracking_{}_aligned_SNL_photo70_72.pkl\".format(site, alignment)))\n",
    "    nacc_df = pd.read_pickle(processed_data_dir + 'all_trial_data_SNL_photo28_Nacc_contra_ipsi_last_trial_confidence_and_traces_reward_aligned.pkl') #for reward\n",
    "    nacc_df['recording site'] = 'Nacc'\n",
    "    tail_df_last_mouse['recording site'] = 'tail'\n",
    "    tail_df_new_mice['recording site'] = 'tail'\n",
    "    tail_df['recording site'] = 'tail'\n",
    "    behavioural_df_nacc = nacc_df[['mouse', 'session', 'fiber side','trial numbers', 'trial type', 'side', 'outcome', 'last trial type', 'last choice', 'last outcome', 'next trial type', 'next choice', 'next outcome', 'norm APE', 'recording site', 'stay or switch']].dropna().reset_index(drop=True)\n",
    "    behavioural_df_tail_old = tail_df[['mouse', 'session', 'fiber side','trial numbers', 'trial type', 'side', 'outcome', 'last trial type', 'last choice', 'last outcome', 'next trial type', 'next choice', 'next outcome', 'norm APE', 'recording site', 'stay or switch']].dropna().reset_index(drop=True)\n",
    "    behavioural_df_tail_new_mice = tail_df_new_mice[['mouse', 'session', 'fiber side','trial numbers', 'trial type', 'side', 'outcome', 'last trial type', 'last choice', 'last outcome', 'next trial type', 'next choice', 'next outcome', 'norm APE', 'recording site', 'stay or switch']].dropna().reset_index(drop=True)\n",
    "    behavioural_df_tail_last_mouse= tail_df_last_mouse[['mouse', 'session', 'fiber side','trial numbers', 'trial type', 'side', 'outcome', 'last trial type', 'last choice', 'last outcome', 'next trial type', 'next choice', 'next outcome', 'norm APE', 'recording site', 'stay or switch']].dropna().reset_index(drop=True)\n",
    "    behavioural_df_tail = pd.concat([behavioural_df_tail_old, behavioural_df_tail_new_mice,  behavioural_df_tail_last_mouse])\n",
    "    \n",
    "    # next, concatenate nacc and tail data into one df and compute some more stats\n",
    "    # -------------------------------------------\n",
    "    df = pd.concat([behavioural_df_nacc, behavioural_df_tail])\n",
    "    df['percentage high tones'] = df['trial type'].apply(convert)\n",
    "    df['contra sensory evidence'] = df.apply(convert_lateral,axis=1)\n",
    "    df['choice sensory evidence'] = df.apply(convert_ipsi_contra,axis=1)\n",
    "    df['discriminatability'] = df['contra sensory evidence'].apply(convert_difficulty)\n",
    "    df['numeric side'] = df['side'].apply(convert_ipsi_contra_numeric)\n",
    "\n",
    "    df['previous percentage high tones'] = df['last trial type'].apply(convert)\n",
    "    df['previous contra sensory evidence']  =  df.apply(convert_lateral_previous,axis=1)\n",
    "    df['previous discriminatability'] = df['previous contra sensory evidence'].apply(convert_difficulty)\n",
    "    df['previous choice sensory evidence'] = df.apply(convert_ipsi_contra_last_trial,axis=1)#df['next contra sensory evidence']  = df['next trial type'].apply(convert)\n",
    "\n",
    "    df['next percentage high tones'] = df['next trial type'].apply(convert)\n",
    "    df['next contra sensory evidence']  =  df.apply(convert_lateral_next,axis=1)\n",
    "    df['next discriminatability'] = df['next contra sensory evidence'].apply(convert_difficulty)\n",
    "    df['next choice sensory evidence'] = df.apply(convert_ipsi_contra_next_trial,axis=1)\n",
    "    df['next numeric side'] = df['next choice'].apply(convert_ipsi_contra_numeric)\n",
    "    df['next stay switch'] = (df['side'] == df['next choice']).astype(int)\n",
    "    df['shuffled previous discriminatability'] = df['previous discriminatability'].sample(df.shape[0]).values\n",
    "    df['shuffled next discriminatability'] = df['next discriminatability'].sample(df.shape[0]).values\n",
    "    \n",
    "    # compute the perceptual uncertainty here: \n",
    "    df['NextPerceptualUncertainty'] = df['next contra sensory evidence'].apply(lambda x:1 - np.around(np.abs(.5 - x) ,decimals=2))\n",
    "    df['LogNextPerceptualUncertainty'] = df['NextPerceptualUncertainty'].apply(lambda x:np.log(x))\n",
    "    \n",
    "    # next, get only correct trials, categorize DA responses as big or small and then separate data for tail and nacc\n",
    "    # -------------------------------------------\n",
    "    df_current_correct = df[df.outcome == 1] # in pre print\n",
    "    df_c = df_current_correct.reset_index()\n",
    "    df_c['DA response size'] = df_c.groupby(['mouse', 'recording site'])['norm APE'].apply(categorise_da_responses, cutoff=.65)\n",
    "    df_t = df_c[df_c['recording site']=='tail']\n",
    "    df_n = df_c[df_c['recording site']=='Nacc']\n",
    "    return df_t, df_n\n",
    "\n",
    "df_t, df_n = load_data()"
   ]
  },
  {
   "cell_type": "code",
   "execution_count": null,
   "metadata": {},
   "outputs": [],
   "source": [
    "df_n"
   ]
  },
  {
   "cell_type": "code",
   "execution_count": null,
   "metadata": {},
   "outputs": [],
   "source": [
    "\n",
    "fig, ax = plt.subplots(figsize=[3,3])\n",
    "cmap_contra = sns.color_palette(\"flare\", as_cmap=True)\n",
    "easy_and_diff_contra = {'diff': 'high', 'easy': 'low'}\n",
    "plot_diff_split_psychometric_test(df_t, 'contra', easy_diff_dict=easy_and_diff_contra, \n",
    "                             colourmap=cmap_contra, ax=ax, split_by='DA response size',\n",
    "                             val_to_plot='next contra sensory evidence',\n",
    "                             legend_labels=['large DA',' small DA'],\n",
    "                             marker='o', markersize=markersize, linewidth=linewidth)\n",
    "    \n",
    "cmap_ipsi =sns.color_palette(\"crest\", as_cmap=True)\n",
    "easy_and_diff_ipsi =  {'diff': 'high', 'easy': 'low'}\n",
    "plot_diff_split_psychometric_test(df_t, 'ipsi', easy_diff_dict=easy_and_diff_ipsi, colourmap=cmap_ipsi,\n",
    "                             legend_labels=['large DA',' small DA'],\n",
    "                             marker='o', markersize=markersize, linewidth=linewidth,\n",
    "                             val_to_plot='next contra sensory evidence',\n",
    "                             ax=ax, split_by='DA response size')\n",
    "plt.legend(title='Previous trial', frameon=False)\n",
    "plt.title('Tail')\n",
    "makes_plots_pretty(ax)\n",
    "plt.tight_layout()\n"
   ]
  },
  {
   "cell_type": "code",
   "execution_count": null,
   "metadata": {},
   "outputs": [],
   "source": [
    "x_variable = 'next contra sensory evidence'\n",
    "y_val_to_plot = 'next numeric side'\n",
    "\n",
    "mean_contrabias_per_mouse = df_t.groupby(['mouse', x_variable, 'DA response size', 'side'])[y_val_to_plot].apply(np.mean).reset_index()\n"
   ]
  },
  {
   "cell_type": "code",
   "execution_count": 2,
   "metadata": {},
   "outputs": [
    {
     "ename": "NameError",
     "evalue": "name 'get_diff_psychometrics_da_test' is not defined",
     "output_type": "error",
     "traceback": [
      "\u001b[0;31m---------------------------------------------------------------------------\u001b[0m",
      "\u001b[0;31mNameError\u001b[0m                                 Traceback (most recent call last)",
      "Cell \u001b[0;32mIn[2], line 1\u001b[0m\n\u001b[0;32m----> 1\u001b[0m choice_prob_splitby_DAsize \u001b[38;5;241m=\u001b[39m \u001b[43mget_diff_psychometrics_da_test\u001b[49m(df_t, \u001b[38;5;124m'\u001b[39m\u001b[38;5;124mLogNextPerceptualUncertainty\u001b[39m\u001b[38;5;124m'\u001b[39m)\u001b[38;5;241m.\u001b[39mreset_index(drop\u001b[38;5;241m=\u001b[39m\u001b[38;5;28;01mTrue\u001b[39;00m)\n\u001b[1;32m      3\u001b[0m sns\u001b[38;5;241m.\u001b[39mlineplot(data\u001b[38;5;241m=\u001b[39mchoice_prob_splitby_DAsize, x\u001b[38;5;241m=\u001b[39m\u001b[38;5;124m'\u001b[39m\u001b[38;5;124mLogNextPerceptualUncertainty\u001b[39m\u001b[38;5;124m'\u001b[39m, y\u001b[38;5;241m=\u001b[39m\u001b[38;5;124m'\u001b[39m\u001b[38;5;124mlowdiff\u001b[39m\u001b[38;5;124m'\u001b[39m)\n\u001b[1;32m      4\u001b[0m sns\u001b[38;5;241m.\u001b[39mlineplot(data\u001b[38;5;241m=\u001b[39mchoice_prob_splitby_DAsize, x\u001b[38;5;241m=\u001b[39m\u001b[38;5;124m'\u001b[39m\u001b[38;5;124mLogNextPerceptualUncertainty\u001b[39m\u001b[38;5;124m'\u001b[39m, y\u001b[38;5;241m=\u001b[39m\u001b[38;5;124m'\u001b[39m\u001b[38;5;124mhighdiff\u001b[39m\u001b[38;5;124m'\u001b[39m)\n",
      "\u001b[0;31mNameError\u001b[0m: name 'get_diff_psychometrics_da_test' is not defined"
     ]
    }
   ],
   "source": [
    "choice_prob_splitby_DAsize = get_diff_psychometrics_da_test(df_t, 'LogNextPerceptualUncertainty').reset_index(drop=True)\n",
    "\n",
    "sns.lineplot(data=choice_prob_splitby_DAsize, x='LogNextPerceptualUncertainty', y='lowdiff')\n",
    "sns.lineplot(data=choice_prob_splitby_DAsize, x='LogNextPerceptualUncertainty', y='highdiff')"
   ]
  },
  {
   "cell_type": "code",
   "execution_count": null,
   "metadata": {},
   "outputs": [],
   "source": []
  },
  {
   "cell_type": "code",
   "execution_count": null,
   "metadata": {},
   "outputs": [],
   "source": []
  },
  {
   "cell_type": "code",
   "execution_count": null,
   "metadata": {},
   "outputs": [],
   "source": []
  },
  {
   "cell_type": "markdown",
   "metadata": {},
   "source": [
    "# here we reproduce paper figure"
   ]
  },
  {
   "cell_type": "code",
   "execution_count": 81,
   "metadata": {},
   "outputs": [],
   "source": [
    "tail_df_paper = pd.read_csv(processed_data_dir + 'all_trial_data_tail_contra_ipsi_last_trial_confidence.csv')\n",
    "nacc_df = pd.read_pickle(processed_data_dir + 'all_trial_data_SNL_photo28_Nacc_contra_ipsi_last_trial_confidence_and_traces_reward_aligned.pkl') "
   ]
  },
  {
   "cell_type": "code",
   "execution_count": 88,
   "metadata": {},
   "outputs": [],
   "source": [
    "def reformat_old_data(tail_df, nacc_df):\n",
    "    tail_df['recording site'] = 'tail'\n",
    "    behavioural_df_nacc = nacc_df[['mouse', 'session', 'fiber side','trial numbers', 'trial type', 'side', 'outcome', 'last trial type', 'last choice', 'last outcome', 'next trial type', 'next choice', 'next outcome', 'norm APE', 'stay or switch']].dropna().reset_index(drop=True)\n",
    "    behavioural_df_tail = tail_df[['mouse', 'session', 'fiber side','trial numbers', 'trial type', 'side', 'outcome', 'last trial type', 'last choice', 'last outcome', 'next trial type', 'next choice', 'next outcome', 'norm APE', 'stay or switch']].dropna().reset_index(drop=True)\n",
    "    behavioural_df_tail['recording site'] = 'tail'\n",
    "    behavioural_df_nacc['recording site'] = 'Nacc'\n",
    "    # next, concatenate nacc and tail data into one df and compute some more stats\n",
    "    # -------------------------------------------\n",
    "    df = pd.concat([behavioural_df_nacc, behavioural_df_tail])\n",
    "    df['percentage high tones'] = df['trial type'].apply(convert)\n",
    "    df['contra sensory evidence'] = df.apply(convert_lateral,axis=1)\n",
    "    df['choice sensory evidence'] = df.apply(convert_ipsi_contra,axis=1)\n",
    "    df['discriminatability'] = df['contra sensory evidence'].apply(convert_difficulty)\n",
    "    df['numeric side'] = df['side'].apply(convert_ipsi_contra_numeric)\n",
    "\n",
    "    df['previous percentage high tones'] = df['last trial type'].apply(convert)\n",
    "    df['previous contra sensory evidence']  =  df.apply(convert_lateral_previous,axis=1)\n",
    "    df['previous discriminatability'] = df['previous contra sensory evidence'].apply(convert_difficulty)\n",
    "    df['previous choice sensory evidence'] = df.apply(convert_ipsi_contra_last_trial,axis=1)#df['next contra sensory evidence']  = df['next trial type'].apply(convert)\n",
    "\n",
    "    df['next percentage high tones'] = df['next trial type'].apply(convert)\n",
    "    df['next contra sensory evidence']  =  df.apply(convert_lateral_next,axis=1)\n",
    "    df['next discriminatability'] = df['next contra sensory evidence'].apply(convert_difficulty)\n",
    "    df['next choice sensory evidence'] = df.apply(convert_ipsi_contra_next_trial,axis=1)\n",
    "    df['next numeric side'] = df['next choice'].apply(convert_ipsi_contra_numeric)\n",
    "    df['next stay switch'] = (df['side'] == df['next choice']).astype(int)\n",
    "    df['shuffled previous discriminatability'] = df['previous discriminatability'].sample(df.shape[0]).values\n",
    "    df['shuffled next discriminatability'] = df['next discriminatability'].sample(df.shape[0]).values\n",
    "    \n",
    "    # compute the perceptual uncertainty here: \n",
    "    df['NextPerceptualUncertainty'] = df['next contra sensory evidence'].apply(lambda x:1 - np.around(np.abs(.5 - x) ,decimals=2))\n",
    "    df['LogNextPerceptualUncertainty'] = df['NextPerceptualUncertainty'].apply(lambda x:np.log(x))\n",
    "    \n",
    "    # next, get only correct trials, categorize DA responses as big or small and then separate data for tail and nacc\n",
    "    # -------------------------------------------\n",
    "    df_current_correct = df[df.outcome == 1] # in pre print\n",
    "    df_c = df_current_correct.reset_index()\n",
    "    df_c['DA response size'] = df_c.groupby(['mouse', 'recording site'])['norm APE'].apply(categorise_da_responses, cutoff=.65)\n",
    "    df_t = df_c[df_c['recording site']=='tail']\n",
    "    df_n = df_c[df_c['recording site']=='Nacc']\n",
    "    return df_t, df_n\n"
   ]
  },
  {
   "cell_type": "code",
   "execution_count": 89,
   "metadata": {},
   "outputs": [],
   "source": [
    "df_t_paper, df_n_paper = reformat_old_data(tail_df_paper, nacc_df)"
   ]
  },
  {
   "cell_type": "code",
   "execution_count": 90,
   "metadata": {},
   "outputs": [
    {
     "data": {
      "image/png": "[encoded data removed]",
      "text/plain": [
       "<Figure size 216x216 with 1 Axes>"
      ]
     },
     "metadata": {
      "needs_background": "light"
     },
     "output_type": "display_data"
    }
   ],
   "source": [
    "\n",
    "fig, ax = plt.subplots(figsize=[3,3])\n",
    "cmap_contra = sns.color_palette(\"flare\", as_cmap=True)\n",
    "easy_and_diff_contra = {'diff': 'high', 'easy': 'low'}\n",
    "plot_diff_split_psychometric_test(df_t_paper, 'contra', easy_diff_dict=easy_and_diff_contra, \n",
    "                             colourmap=cmap_contra, ax=ax, split_by='DA response size',\n",
    "                             val_to_plot='next contra sensory evidence',\n",
    "                             legend_labels=['large DA',' small DA'],\n",
    "                             marker='o', markersize=markersize, linewidth=linewidth)\n",
    "    \n",
    "cmap_ipsi =sns.color_palette(\"crest\", as_cmap=True)\n",
    "easy_and_diff_ipsi =  {'diff': 'high', 'easy': 'low'}\n",
    "plot_diff_split_psychometric_test(df_t_paper, 'ipsi', easy_diff_dict=easy_and_diff_ipsi, colourmap=cmap_ipsi,\n",
    "                             legend_labels=['large DA',' small DA'],\n",
    "                             marker='o', markersize=markersize, linewidth=linewidth,\n",
    "                             val_to_plot='next contra sensory evidence',\n",
    "                             ax=ax, split_by='DA response size')\n",
    "plt.legend(title='Previous trial', frameon=False)\n",
    "plt.title('Tail')\n",
    "makes_plots_pretty(ax)\n",
    "plt.tight_layout()\n"
   ]
  },
  {
   "cell_type": "code",
   "execution_count": 93,
   "metadata": {},
   "outputs": [],
   "source": [
    "x_variable = 'next contra sensory evidence'\n",
    "y_val_to_plot = 'next numeric side'\n",
    "\n",
    "mean_contrabias_per_mouse = df_t_paper.groupby(['mouse', x_variable, 'DA response size', 'side'])[y_val_to_plot].apply(np.mean).reset_index()\n"
   ]
  },
  {
   "cell_type": "code",
   "execution_count": 103,
   "metadata": {},
   "outputs": [
    {
     "data": {
      "text/html": [
       "<div>\n",
       "<style scoped>\n",
       "    .dataframe tbody tr th:only-of-type {\n",
       "        vertical-align: middle;\n",
       "    }\n",
       "\n",
       "    .dataframe tbody tr th {\n",
       "        vertical-align: top;\n",
       "    }\n",
       "\n",
       "    .dataframe thead th {\n",
       "        text-align: right;\n",
       "    }\n",
       "</style>\n",
       "<table border=\"1\" class=\"dataframe\">\n",
       "  <thead>\n",
       "    <tr style=\"text-align: right;\">\n",
       "      <th></th>\n",
       "      <th>next contra sensory evidence</th>\n",
       "      <th>mouse</th>\n",
       "      <th>highdiff</th>\n",
       "      <th>lowdiff</th>\n",
       "    </tr>\n",
       "  </thead>\n",
       "  <tbody>\n",
       "    <tr>\n",
       "      <th>0</th>\n",
       "      <td>0.02</td>\n",
       "      <td>SNL_photo21</td>\n",
       "      <td>0.035714</td>\n",
       "      <td>0.029412</td>\n",
       "    </tr>\n",
       "    <tr>\n",
       "      <th>1</th>\n",
       "      <td>0.18</td>\n",
       "      <td>SNL_photo21</td>\n",
       "      <td>0.207792</td>\n",
       "      <td>0.028503</td>\n",
       "    </tr>\n",
       "    <tr>\n",
       "      <th>2</th>\n",
       "      <td>0.34</td>\n",
       "      <td>SNL_photo21</td>\n",
       "      <td>0.213675</td>\n",
       "      <td>0.094659</td>\n",
       "    </tr>\n",
       "    <tr>\n",
       "      <th>3</th>\n",
       "      <td>0.50</td>\n",
       "      <td>SNL_photo21</td>\n",
       "      <td>0.536364</td>\n",
       "      <td>0.259824</td>\n",
       "    </tr>\n",
       "    <tr>\n",
       "      <th>4</th>\n",
       "      <td>0.66</td>\n",
       "      <td>SNL_photo21</td>\n",
       "      <td>0.381538</td>\n",
       "      <td>0.161842</td>\n",
       "    </tr>\n",
       "  </tbody>\n",
       "</table>\n",
       "</div>"
      ],
      "text/plain": [
       "   next contra sensory evidence        mouse  highdiff   lowdiff\n",
       "0                          0.02  SNL_photo21  0.035714  0.029412\n",
       "1                          0.18  SNL_photo21  0.207792  0.028503\n",
       "2                          0.34  SNL_photo21  0.213675  0.094659\n",
       "3                          0.50  SNL_photo21  0.536364  0.259824\n",
       "4                          0.66  SNL_photo21  0.381538  0.161842"
      ]
     },
     "execution_count": 103,
     "metadata": {},
     "output_type": "execute_result"
    }
   ],
   "source": [
    "choice_prob_splitby_DAsize = get_diff_psychometrics_da_test(df_t_paper, 'next contra sensory evidence').reset_index(drop=True).dropna()\n",
    "choice_prob_splitby_DAsize.head()"
   ]
  },
  {
   "cell_type": "code",
   "execution_count": 104,
   "metadata": {},
   "outputs": [],
   "source": [
    "choice_prob_splitby_DAsize['NextPerceptualUncertainty'] = choice_prob_splitby_DAsize['next contra sensory evidence'].apply(lambda x:1 - np.around(np.abs(.5 - x) ,decimals=2))\n",
    "choice_prob_splitby_DAsize['LogNextPerceptualUncertainty'] = choice_prob_splitby_DAsize['NextPerceptualUncertainty'].apply(lambda x:np.log(x))"
   ]
  },
  {
   "cell_type": "code",
   "execution_count": 105,
   "metadata": {},
   "outputs": [],
   "source": [
    "key = 'LogNextPerceptualUncertainty'\n",
    "dd = choice_prob_splitby_DAsize[[key, 'mouse', 'highdiff', 'lowdiff']]\n",
    "new_df = dd.melt(id_vars=[key, 'mouse'])\n",
    "\n",
    "new_df['normalized_diff'] = (new_df['value'] - new_df['value'].min()) / (new_df['value'].max() - new_df['value'].min())\n",
    "new_df['log_normalized_diff'] = np.log( 1 + new_df['normalized_diff'])\n",
    "new_df_for_plot = new_df.rename(columns={'value': 'Next trial contralateral bias', 'LogNextPerceptualUncertainty': 'Next trial perceptual uncertainty (log)', 'variable': 'Current trial\\n dopamine response'})\n",
    "new_df_for_plot['Current trial\\n dopamine response'] = new_df_for_plot['Current trial\\n dopamine response'].replace(['highdiff', 'lowdiff'], ['large','small'])"
   ]
  },
  {
   "cell_type": "code",
   "execution_count": 106,
   "metadata": {},
   "outputs": [
    {
     "data": {
      "text/plain": [
       "<AxesSubplot:xlabel='Next trial perceptual uncertainty (log)', ylabel='Next trial contralateral bias'>"
      ]
     },
     "execution_count": 106,
     "metadata": {},
     "output_type": "execute_result"
    },
    {
     "data": {
      "image/png": "[encoded data removed]",
      "text/plain": [
       "<Figure size 144x180 with 1 Axes>"
      ]
     },
     "metadata": {
      "needs_background": "light"
     },
     "output_type": "display_data"
    }
   ],
   "source": [
    "fig, ax = plt.subplots(figsize=[2,2.5])\n",
    "\n",
    "sns.lineplot(data=new_df_for_plot, x='Next trial perceptual uncertainty (log)', y='Next trial contralateral bias', hue='Current trial\\n dopamine response',ci=None, ax=ax)\n"
   ]
  },
  {
   "cell_type": "code",
   "execution_count": 109,
   "metadata": {},
   "outputs": [
    {
     "data": {
      "text/plain": [
       "array([-0.65392647, -0.38566248, -0.17435339,  0.        ])"
      ]
     },
     "execution_count": 109,
     "metadata": {},
     "output_type": "execute_result"
    }
   ],
   "source": [
    "new_df_for_plot[new_df_for_plot['Current trial\\n dopamine response']=='small']['Next trial perceptual uncertainty (log)'].unique()"
   ]
  },
  {
   "cell_type": "code",
   "execution_count": null,
   "metadata": {},
   "outputs": [],
   "source": []
  }
 ],
 "metadata": {
  "kernelspec": {
   "display_name": "Python 3 (ipykernel)",
   "language": "python",
   "name": "python3"
  },
  "language_info": {
   "codemirror_mode": {
    "name": "ipython",
    "version": 3
   },
   "file_extension": ".py",
   "mimetype": "text/x-python",
   "name": "python",
   "nbconvert_exporter": "python",
   "pygments_lexer": "ipython3",
   "version": "3.10.10"
  }
 },
 "nbformat": 4,
 "nbformat_minor": 4
}
