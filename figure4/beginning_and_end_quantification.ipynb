{
 "cells": [
  {
   "cell_type": "code",
   "execution_count": 1,
   "metadata": {},
   "outputs": [],
   "source": [
    "%load_ext autoreload\n",
    "%autoreload 2\n",
    "%matplotlib qt5\n",
    "# Add modules to the path\n",
    "import sys\n",
    "import os\n",
    "sys.path.insert(0, 'C:\\\\Users\\\\francescag\\\\Documents\\\\SourceTree_repos\\\\Python_git')\n",
    "sys.path.insert(0, 'C:\\\\Users\\\\francescag\\\\Documents\\\\SourceTree_repos')\n",
    "sys.path.insert(0, 'C:\\\\Users\\\\francescag\\\\Documents\\\\SourceTree_repos\\\\Python_git\\\\freely_moving_photometry_analysis')\n",
    "\n",
    "import numpy as np\n",
    "import matplotlib.pyplot as plt\n",
    "import pandas as pd \n",
    "from scipy import stats\n",
    "import pickle\n",
    "from utils.post_processing_utils import remove_manipulation_days, remove_bad_recordings, remove_exps_after_manipulations\n",
    "from data_preprocessing.session_traces_and_mean import get_all_experimental_records, remove_experiments"
   ]
  },
  {
   "cell_type": "code",
   "execution_count": 2,
   "metadata": {},
   "outputs": [],
   "source": [
    "def get_first_and_last_peaks(mouse, records, site='tail'):\n",
    "    experiments_to_process = records[(records['mouse_id'] == mouse) & (records['recording_site'] == site)]\n",
    "    sorted_records = experiments_to_process.sort_values('date').reset_index()\n",
    "    first_recording = sorted_records.iloc[0]\n",
    "    last_recording = sorted_records.iloc[-1]\n",
    "    first_session_peak = get_mean_contra_peak(first_recording)\n",
    "    last_session_peak = get_mean_contra_peak(last_recording)\n",
    "    return first_session_peak, last_session_peak"
   ]
  },
  {
   "cell_type": "code",
   "execution_count": 3,
   "metadata": {},
   "outputs": [],
   "source": [
    "def get_first_and_10000th_peaks(mouse, records, site='tail'):\n",
    "    experiments_to_process = records[(records['mouse_id'] == mouse) & (records['recording_site'] == site)]\n",
    "    sorted_records = experiments_to_process.sort_values('date').reset_index(drop=True)\n",
    "    first_recording = sorted_records.iloc[0]\n",
    "    last_recording_date = get_session_with_10000th_trial(mouse, sorted_records)\n",
    "    last_recording_ind = sorted_records[sorted_records['date'] == last_recording_date].index.values[0]\n",
    "    last_recording = sorted_records.iloc[last_recording_ind]\n",
    "    first_session_peak = get_mean_contra_peak(first_recording)\n",
    "    last_session_peak = get_mean_contra_peak(last_recording)\n",
    "    return(first_session_peak, last_session_peak)"
   ]
  },
  {
   "cell_type": "code",
   "execution_count": 4,
   "metadata": {},
   "outputs": [],
   "source": [
    "def get_mean_contra_peak(session_record):\n",
    "    mouse_id = session_record['mouse_id']\n",
    "    date = session_record['date']\n",
    "    print(mouse, date)\n",
    "    saving_folder = 'W:\\\\photometry_2AC\\\\processed_data\\\\' + mouse_id + '\\\\'\n",
    "    aligned_filename = mouse_id + '_' + date + '_' + 'aligned_traces.p'\n",
    "    save_filename = saving_folder + aligned_filename\n",
    "    session_data = pickle.load(open(save_filename, \"rb\"))\n",
    "    _trial_peaks = session_data.choice_data.contra_data.trial_peaks\n",
    "    trial_peaks = [p if not isinstance(p, np.ndarray) else np.nan for p in _trial_peaks]\n",
    "    mean_peak = np.nanmean(trial_peaks)\n",
    "    return mean_peak"
   ]
  },
  {
   "cell_type": "code",
   "execution_count": 5,
   "metadata": {},
   "outputs": [],
   "source": [
    "from utils.reaction_time_utils import get_bpod_trial_nums_per_session"
   ]
  },
  {
   "cell_type": "code",
   "execution_count": 14,
   "metadata": {},
   "outputs": [],
   "source": [
    "def get_session_with_10000th_trial(mouse, experiments):\n",
    "    dates = experiments[experiments['mouse_id']==mouse]['date'].unique()\n",
    "    session_starts = get_bpod_trial_nums_per_session(mouse, dates)\n",
    "    if session_starts[-1] >= 10000:\n",
    "        last_session_idx = np.where(np.asarray(session_starts) >=10000)[0][0]\n",
    "        print(np.asarray(session_starts) >=10000)\n",
    "    else:\n",
    "        last_session_idx = -1\n",
    "        print(session_starts[-1])\n",
    "    last_session_date = dates[last_session_idx]\n",
    "    return(last_session_date)"
   ]
  },
  {
   "cell_type": "code",
   "execution_count": 15,
   "metadata": {},
   "outputs": [
    {
     "name": "stdout",
     "output_type": "stream",
     "text": [
      "removing SNL_photo28: ['20201211' '20201214' '20201216' '20201218' '20201219' '20201221'\n",
      " '20201222' '20210119' '20210122' '20210127' '20210129' '20210202']\n",
      "Int64Index([52, 96, 208, 514, 554, 569, 595], dtype='int64')\n",
      "9917\n",
      "SNL_photo28 20201118\n",
      "SNL_photo28 20201209\n",
      "removing SNL_photo30: ['20201211' '20201214' '20201216' '20201218' '20201219' '20201221'\n",
      " '20201222' '20210119' '20210122' '20210126' '20210127' '20210129'\n",
      " '20210202' '20210203' '20210204']\n",
      "Int64Index([52, 96, 208, 514, 554, 569, 595], dtype='int64')\n",
      "[False False False False False False False False False False  True]\n",
      "SNL_photo30 20201117\n",
      "SNL_photo30 20201209\n",
      "removing SNL_photo31: ['20201211' '20201214' '20201216' '20201218' '20201219' '20201221'\n",
      " '20201222' '20210119' '20210122' '20210126' '20210127' '20210128'\n",
      " '20210129' '20210202' '20210203' '20210204']\n",
      "Int64Index([52, 96, 208, 514, 554, 569, 595], dtype='int64')\n",
      "8837\n",
      "SNL_photo31 20201118\n",
      "SNL_photo31 20201209\n",
      "removing SNL_photo32: ['20201211' '20201214' '20201216' '20201218' '20201219' '20201221'\n",
      " '20201222' '20210119' '20210122' '20210126' '20210127' '20210128'\n",
      " '20210129' '20210202' '20210203']\n",
      "Int64Index([52, 96, 208, 514, 554, 569, 595], dtype='int64')\n",
      "[False False False False False False False False False  True]\n",
      "SNL_photo32 20201118\n",
      "SNL_photo32 20201209\n",
      "removing SNL_photo33: ['20201211' '20201214' '20201216' '20201218' '20201219' '20201221'\n",
      " '20201222' '20210119' '20210122']\n",
      "Int64Index([52, 96, 208, 514, 554, 569, 595], dtype='int64')\n",
      "[False False False False False False False False False False  True]\n",
      "SNL_photo33 20201117\n",
      "SNL_photo33 20201209\n",
      "removing SNL_photo34: ['20201211' '20201214' '20201216' '20201218' '20201219' '20201221'\n",
      " '20201222' '20210119' '20210122' '20210126' '20210127' '20210128'\n",
      " '20210129' '20210202' '20210203']\n",
      "Int64Index([52, 96, 208, 514, 554, 569, 595], dtype='int64')\n",
      "9755\n",
      "SNL_photo34 20201118\n",
      "SNL_photo34 20201209\n",
      "removing SNL_photo35: ['20201211' '20201214' '20201216' '20201218' '20201219' '20201221'\n",
      " '20201222' '20210119' '20210122' '20210126' '20210127' '20210128'\n",
      " '20210129' '20210202' '20210203' '20210204']\n",
      "Int64Index([52, 96, 208, 514, 554, 569, 595], dtype='int64')\n",
      "9835\n",
      "SNL_photo35 20201118\n",
      "SNL_photo35 20201210\n"
     ]
    }
   ],
   "source": [
    "mice = ['SNL_photo28', 'SNL_photo30', 'SNL_photo31', 'SNL_photo32', 'SNL_photo33', 'SNL_photo34', 'SNL_photo35']\n",
    "records = get_all_experimental_records()\n",
    "post_state_change_dates =  ['20200911', '20200915', '20200917', '20200918', '20200921', '20200829', '20200830', '20200831', '20201008','20201009', '20201007']\n",
    "records_without_last = remove_experiments(records, {'SNL_photo17': ['20200317'], 'SNL_photo21': ['20201008','20201009','20200911','20200805', '20200915', '20200917', '20200918', '20200921','20200829', '20200830', '20200831','20201007'], 'SNL_photo22': post_state_change_dates, 'SNL_photo26': post_state_change_dates})\n",
    "\n",
    "first_peaks = []\n",
    "last_peaks = []\n",
    "for mouse in mice:\n",
    "    all_experiments = remove_exps_after_manipulations(records_without_last, [mouse])\n",
    "    all_experiments = remove_bad_recordings(all_experiments)\n",
    "    first, last = get_first_and_10000th_peaks(mouse, all_experiments, site='Nacc')\n",
    "    first_peaks.append(first)\n",
    "    last_peaks.append(last)\n"
   ]
  },
  {
   "cell_type": "code",
   "execution_count": 16,
   "metadata": {},
   "outputs": [
    {
     "name": "stdout",
     "output_type": "stream",
     "text": [
      "removing SNL_photo16: ['20200313' '20200315' '20200318' '20200320' '20200322']\n",
      "Int64Index([52, 96, 208, 514, 554, 569, 595], dtype='int64')\n",
      "[False False False False False False False False  True  True  True]\n",
      "SNL_photo16 20200210\n",
      "SNL_photo16 20200307\n",
      "removing SNL_photo17: ['20200311' '20200313']\n",
      "Int64Index([52, 96, 208, 514, 554, 569, 595], dtype='int64')\n",
      "[False False False False False False False False False False False False\n",
      " False False  True]\n",
      "SNL_photo17 20200204\n",
      "SNL_photo17 20200310\n",
      "removing SNL_photo18: ['20200318' '20200320' '20200322']\n",
      "Int64Index([96, 208, 514, 554, 569, 595], dtype='int64')\n",
      "8071\n",
      "SNL_photo18 20200223\n",
      "SNL_photo18 20200316\n",
      "Int64Index([52, 96, 208, 514, 554, 569, 595], dtype='int64')\n",
      "[False False False False False False False False False False False False\n",
      "  True  True]\n",
      "SNL_photo21 20200806\n",
      "SNL_photo21 20200908\n",
      "Int64Index([52, 96, 208, 514, 554, 569, 595], dtype='int64')\n",
      "[False False False False False False False False False False  True  True\n",
      "  True  True]\n",
      "SNL_photo22 20200808\n",
      "SNL_photo22 20200827\n",
      "Int64Index([52, 96, 208, 514, 554, 569, 595], dtype='int64')\n",
      "[False False False False False False False False False False False False\n",
      "  True  True]\n",
      "SNL_photo26 20200808\n",
      "SNL_photo26 20200908\n",
      "removing SNL_photo37: ['20210505' '20210506' '20210507' '20210512' '20210518' '20210519'\n",
      " '20210520' '20210521' '20210525' '20210526' '20210527' '20210603'\n",
      " '20210609' '20210610' '20210611' '20210625']\n",
      "Int64Index([52, 96, 208, 514, 554, 569, 595], dtype='int64')\n",
      "3452\n",
      "SNL_photo37 20210419\n",
      "SNL_photo37 20210429\n",
      "removing SNL_photo43: ['20210505' '20210506' '20210507' '20210512' '20210518' '20210519'\n",
      " '20210520' '20210521' '20210525' '20210526' '20210527' '20210603'\n",
      " '20210609' '20210610' '20210611' '20210625']\n",
      "Int64Index([52, 96, 208, 514, 554, 569, 595], dtype='int64')\n",
      "4342\n",
      "SNL_photo43 20210419\n",
      "SNL_photo43 20210429\n",
      "removing SNL_photo44: ['20210518' '20210519' '20210520' '20210525' '20210526' '20210608'\n",
      " '20210609' '20210610' '20210611']\n",
      "Int64Index([52, 96, 208, 514, 554, 595], dtype='int64')\n",
      "8524\n",
      "SNL_photo44 20210427\n",
      "SNL_photo44 20210514\n"
     ]
    }
   ],
   "source": [
    "mice = ['SNL_photo16', 'SNL_photo17', 'SNL_photo18', 'SNL_photo21', 'SNL_photo22', 'SNL_photo26', 'SNL_photo37', 'SNL_photo43', 'SNL_photo44']\n",
    "records = get_all_experimental_records()\n",
    "post_state_change_dates =  ['20200911', '20200915', '20200917', '20200918', '20200921', '20200829', '20200830', '20200831', '20201008','20201009', '20201007']\n",
    "records_without_last = remove_experiments(records, {'SNL_photo17': ['20200317'], 'SNL_photo21': ['20201008','20201009','20200911','20200805', '20200915', '20200917', '20200918', '20200921','20200829', '20200830', '20200831','20201007'], 'SNL_photo22': post_state_change_dates, 'SNL_photo26': post_state_change_dates})\n",
    "\n",
    "first_peaks = []\n",
    "last_peaks = []\n",
    "for mouse in mice:\n",
    "    all_experiments = remove_exps_after_manipulations(records_without_last, [mouse])\n",
    "    all_experiments = remove_bad_recordings(all_experiments)\n",
    "    first, last = get_first_and_10000th_peaks(mouse, all_experiments, site='tail')\n",
    "    first_peaks.append(first)\n",
    "    last_peaks.append(last)\n"
   ]
  },
  {
   "cell_type": "code",
   "execution_count": 31,
   "metadata": {},
   "outputs": [
    {
     "name": "stdout",
     "output_type": "stream",
     "text": [
      "SNL_photo28 20201118\n",
      "SNL_photo28 20210202\n"
     ]
    },
    {
     "ename": "FileNotFoundError",
     "evalue": "[Errno 2] No such file or directory: 'W:\\\\photometry_2AC\\\\processed_data\\\\SNL_photo28\\\\SNL_photo28_20210202_aligned_traces.p'",
     "output_type": "error",
     "traceback": [
      "\u001b[1;31m---------------------------------------------------------------------------\u001b[0m",
      "\u001b[1;31mFileNotFoundError\u001b[0m                         Traceback (most recent call last)",
      "\u001b[1;32m<ipython-input-31-fc7c84521928>\u001b[0m in \u001b[0;36m<module>\u001b[1;34m\u001b[0m\n\u001b[0;32m     10\u001b[0m \u001b[0mlast_peaks\u001b[0m \u001b[1;33m=\u001b[0m \u001b[1;33m[\u001b[0m\u001b[1;33m]\u001b[0m\u001b[1;33m\u001b[0m\u001b[1;33m\u001b[0m\u001b[0m\n\u001b[0;32m     11\u001b[0m \u001b[1;32mfor\u001b[0m \u001b[0mmouse\u001b[0m \u001b[1;32min\u001b[0m \u001b[0mmice\u001b[0m\u001b[1;33m:\u001b[0m\u001b[1;33m\u001b[0m\u001b[1;33m\u001b[0m\u001b[0m\n\u001b[1;32m---> 12\u001b[1;33m     \u001b[0mfirst\u001b[0m\u001b[1;33m,\u001b[0m \u001b[0mlast\u001b[0m \u001b[1;33m=\u001b[0m \u001b[0mget_first_and_last_peaks\u001b[0m\u001b[1;33m(\u001b[0m\u001b[0mmouse\u001b[0m\u001b[1;33m,\u001b[0m \u001b[0mrecords_without_last\u001b[0m\u001b[1;33m,\u001b[0m \u001b[0msite\u001b[0m\u001b[1;33m=\u001b[0m\u001b[1;34m'Nacc'\u001b[0m\u001b[1;33m)\u001b[0m\u001b[1;33m\u001b[0m\u001b[1;33m\u001b[0m\u001b[0m\n\u001b[0m\u001b[0;32m     13\u001b[0m     \u001b[0mfirst_peaks\u001b[0m\u001b[1;33m.\u001b[0m\u001b[0mappend\u001b[0m\u001b[1;33m(\u001b[0m\u001b[0mfirst\u001b[0m\u001b[1;33m)\u001b[0m\u001b[1;33m\u001b[0m\u001b[1;33m\u001b[0m\u001b[0m\n\u001b[0;32m     14\u001b[0m     \u001b[0mlast_peaks\u001b[0m\u001b[1;33m.\u001b[0m\u001b[0mappend\u001b[0m\u001b[1;33m(\u001b[0m\u001b[0mlast\u001b[0m\u001b[1;33m)\u001b[0m\u001b[1;33m\u001b[0m\u001b[1;33m\u001b[0m\u001b[0m\n",
      "\u001b[1;32m<ipython-input-2-24208906e9b7>\u001b[0m in \u001b[0;36mget_first_and_last_peaks\u001b[1;34m(mouse, records, site)\u001b[0m\n\u001b[0;32m      5\u001b[0m     \u001b[0mlast_recording\u001b[0m \u001b[1;33m=\u001b[0m \u001b[0msorted_records\u001b[0m\u001b[1;33m.\u001b[0m\u001b[0miloc\u001b[0m\u001b[1;33m[\u001b[0m\u001b[1;33m-\u001b[0m\u001b[1;36m1\u001b[0m\u001b[1;33m]\u001b[0m\u001b[1;33m\u001b[0m\u001b[1;33m\u001b[0m\u001b[0m\n\u001b[0;32m      6\u001b[0m     \u001b[0mfirst_session_peak\u001b[0m \u001b[1;33m=\u001b[0m \u001b[0mget_mean_contra_peak\u001b[0m\u001b[1;33m(\u001b[0m\u001b[0mfirst_recording\u001b[0m\u001b[1;33m)\u001b[0m\u001b[1;33m\u001b[0m\u001b[1;33m\u001b[0m\u001b[0m\n\u001b[1;32m----> 7\u001b[1;33m     \u001b[0mlast_session_peak\u001b[0m \u001b[1;33m=\u001b[0m \u001b[0mget_mean_contra_peak\u001b[0m\u001b[1;33m(\u001b[0m\u001b[0mlast_recording\u001b[0m\u001b[1;33m)\u001b[0m\u001b[1;33m\u001b[0m\u001b[1;33m\u001b[0m\u001b[0m\n\u001b[0m\u001b[0;32m      8\u001b[0m     \u001b[1;32mreturn\u001b[0m \u001b[0mfirst_session_peak\u001b[0m\u001b[1;33m,\u001b[0m \u001b[0mlast_session_peak\u001b[0m\u001b[1;33m\u001b[0m\u001b[1;33m\u001b[0m\u001b[0m\n",
      "\u001b[1;32m<ipython-input-4-17621fe97221>\u001b[0m in \u001b[0;36mget_mean_contra_peak\u001b[1;34m(session_record)\u001b[0m\n\u001b[0;32m      6\u001b[0m     \u001b[0maligned_filename\u001b[0m \u001b[1;33m=\u001b[0m \u001b[0mmouse_id\u001b[0m \u001b[1;33m+\u001b[0m \u001b[1;34m'_'\u001b[0m \u001b[1;33m+\u001b[0m \u001b[0mdate\u001b[0m \u001b[1;33m+\u001b[0m \u001b[1;34m'_'\u001b[0m \u001b[1;33m+\u001b[0m \u001b[1;34m'aligned_traces.p'\u001b[0m\u001b[1;33m\u001b[0m\u001b[1;33m\u001b[0m\u001b[0m\n\u001b[0;32m      7\u001b[0m     \u001b[0msave_filename\u001b[0m \u001b[1;33m=\u001b[0m \u001b[0msaving_folder\u001b[0m \u001b[1;33m+\u001b[0m \u001b[0maligned_filename\u001b[0m\u001b[1;33m\u001b[0m\u001b[1;33m\u001b[0m\u001b[0m\n\u001b[1;32m----> 8\u001b[1;33m     \u001b[0msession_data\u001b[0m \u001b[1;33m=\u001b[0m \u001b[0mpickle\u001b[0m\u001b[1;33m.\u001b[0m\u001b[0mload\u001b[0m\u001b[1;33m(\u001b[0m\u001b[0mopen\u001b[0m\u001b[1;33m(\u001b[0m\u001b[0msave_filename\u001b[0m\u001b[1;33m,\u001b[0m \u001b[1;34m\"rb\"\u001b[0m\u001b[1;33m)\u001b[0m\u001b[1;33m)\u001b[0m\u001b[1;33m\u001b[0m\u001b[1;33m\u001b[0m\u001b[0m\n\u001b[0m\u001b[0;32m      9\u001b[0m     \u001b[0m_trial_peaks\u001b[0m \u001b[1;33m=\u001b[0m \u001b[0msession_data\u001b[0m\u001b[1;33m.\u001b[0m\u001b[0mchoice_data\u001b[0m\u001b[1;33m.\u001b[0m\u001b[0mcontra_data\u001b[0m\u001b[1;33m.\u001b[0m\u001b[0mtrial_peaks\u001b[0m\u001b[1;33m\u001b[0m\u001b[1;33m\u001b[0m\u001b[0m\n\u001b[0;32m     10\u001b[0m     \u001b[0mtrial_peaks\u001b[0m \u001b[1;33m=\u001b[0m \u001b[1;33m[\u001b[0m\u001b[0mp\u001b[0m \u001b[1;32mif\u001b[0m \u001b[1;32mnot\u001b[0m \u001b[0misinstance\u001b[0m\u001b[1;33m(\u001b[0m\u001b[0mp\u001b[0m\u001b[1;33m,\u001b[0m \u001b[0mnp\u001b[0m\u001b[1;33m.\u001b[0m\u001b[0mndarray\u001b[0m\u001b[1;33m)\u001b[0m \u001b[1;32melse\u001b[0m \u001b[0mnp\u001b[0m\u001b[1;33m.\u001b[0m\u001b[0mnan\u001b[0m \u001b[1;32mfor\u001b[0m \u001b[0mp\u001b[0m \u001b[1;32min\u001b[0m \u001b[0m_trial_peaks\u001b[0m\u001b[1;33m]\u001b[0m\u001b[1;33m\u001b[0m\u001b[1;33m\u001b[0m\u001b[0m\n",
      "\u001b[1;31mFileNotFoundError\u001b[0m: [Errno 2] No such file or directory: 'W:\\\\photometry_2AC\\\\processed_data\\\\SNL_photo28\\\\SNL_photo28_20210202_aligned_traces.p'"
     ]
    }
   ],
   "source": [
    "mice = ['SNL_photo28', 'SNL_photo30', 'SNL_photo31', 'SNL_photo32', 'SNL_photo33', 'SNL_photo34', 'SNL_photo35']\n",
    "records = get_all_experimental_records()\n",
    "post_state_change_dates =   ['20201211', '20201214','20201216', '20201218', '20201219', '20201221', '20201222']\n",
    "\n",
    "exps_to_remove = {}\n",
    "for mouse in mice:\n",
    "    exps_to_remove[mouse] = post_state_change_dates\n",
    "records_without_last = remove_experiments(records, exps_to_remove)\n",
    "first_peaks = []\n",
    "last_peaks = []\n",
    "for mouse in mice:\n",
    "    first, last = get_first_and_last_peaks(mouse, records_without_last, site='Nacc')\n",
    "    first_peaks.append(first)\n",
    "    last_peaks.append(last)"
   ]
  },
  {
   "cell_type": "code",
   "execution_count": 53,
   "metadata": {},
   "outputs": [],
   "source": [
    "data = pd.DataFrame({'mouse': mice, 'first session peak mean': first_peaks, 'last session peak mean': last_peaks})"
   ]
  },
  {
   "cell_type": "code",
   "execution_count": 37,
   "metadata": {},
   "outputs": [
    {
     "data": {
      "text/html": [
       "<div>\n",
       "<style scoped>\n",
       "    .dataframe tbody tr th:only-of-type {\n",
       "        vertical-align: middle;\n",
       "    }\n",
       "\n",
       "    .dataframe tbody tr th {\n",
       "        vertical-align: top;\n",
       "    }\n",
       "\n",
       "    .dataframe thead th {\n",
       "        text-align: right;\n",
       "    }\n",
       "</style>\n",
       "<table border=\"1\" class=\"dataframe\">\n",
       "  <thead>\n",
       "    <tr style=\"text-align: right;\">\n",
       "      <th></th>\n",
       "      <th>mouse</th>\n",
       "      <th>first session peak mean</th>\n",
       "      <th>last session peak mean</th>\n",
       "    </tr>\n",
       "  </thead>\n",
       "  <tbody>\n",
       "    <tr>\n",
       "      <th>0</th>\n",
       "      <td>SNL_photo28</td>\n",
       "      <td>0.502072</td>\n",
       "      <td>1.252958</td>\n",
       "    </tr>\n",
       "    <tr>\n",
       "      <th>1</th>\n",
       "      <td>SNL_photo30</td>\n",
       "      <td>0.620741</td>\n",
       "      <td>0.620741</td>\n",
       "    </tr>\n",
       "    <tr>\n",
       "      <th>2</th>\n",
       "      <td>SNL_photo31</td>\n",
       "      <td>0.672864</td>\n",
       "      <td>0.990048</td>\n",
       "    </tr>\n",
       "    <tr>\n",
       "      <th>3</th>\n",
       "      <td>SNL_photo32</td>\n",
       "      <td>0.034759</td>\n",
       "      <td>0.112460</td>\n",
       "    </tr>\n",
       "    <tr>\n",
       "      <th>4</th>\n",
       "      <td>SNL_photo33</td>\n",
       "      <td>1.162061</td>\n",
       "      <td>1.162061</td>\n",
       "    </tr>\n",
       "    <tr>\n",
       "      <th>5</th>\n",
       "      <td>SNL_photo34</td>\n",
       "      <td>1.563913</td>\n",
       "      <td>1.292225</td>\n",
       "    </tr>\n",
       "    <tr>\n",
       "      <th>6</th>\n",
       "      <td>SNL_photo35</td>\n",
       "      <td>1.183479</td>\n",
       "      <td>1.320365</td>\n",
       "    </tr>\n",
       "  </tbody>\n",
       "</table>\n",
       "</div>"
      ],
      "text/plain": [
       "         mouse  first session peak mean  last session peak mean\n",
       "0  SNL_photo28                 0.502072                1.252958\n",
       "1  SNL_photo30                 0.620741                0.620741\n",
       "2  SNL_photo31                 0.672864                0.990048\n",
       "3  SNL_photo32                 0.034759                0.112460\n",
       "4  SNL_photo33                 1.162061                1.162061\n",
       "5  SNL_photo34                 1.563913                1.292225\n",
       "6  SNL_photo35                 1.183479                1.320365"
      ]
     },
     "execution_count": 37,
     "metadata": {},
     "output_type": "execute_result"
    }
   ],
   "source": [
    "data"
   ]
  },
  {
   "cell_type": "code",
   "execution_count": 54,
   "metadata": {},
   "outputs": [
    {
     "data": {
      "text/html": [
       "<div>\n",
       "<style scoped>\n",
       "    .dataframe tbody tr th:only-of-type {\n",
       "        vertical-align: middle;\n",
       "    }\n",
       "\n",
       "    .dataframe tbody tr th {\n",
       "        vertical-align: top;\n",
       "    }\n",
       "\n",
       "    .dataframe thead th {\n",
       "        text-align: right;\n",
       "    }\n",
       "</style>\n",
       "<table border=\"1\" class=\"dataframe\">\n",
       "  <thead>\n",
       "    <tr style=\"text-align: right;\">\n",
       "      <th>mouse</th>\n",
       "      <th>SNL_photo16</th>\n",
       "      <th>SNL_photo17</th>\n",
       "      <th>SNL_photo18</th>\n",
       "      <th>SNL_photo21</th>\n",
       "      <th>SNL_photo22</th>\n",
       "      <th>SNL_photo26</th>\n",
       "      <th>SNL_photo37</th>\n",
       "      <th>SNL_photo43</th>\n",
       "      <th>SNL_photo44</th>\n",
       "    </tr>\n",
       "  </thead>\n",
       "  <tbody>\n",
       "    <tr>\n",
       "      <th>first session peak mean</th>\n",
       "      <td>1.532078</td>\n",
       "      <td>1.881998</td>\n",
       "      <td>2.303278</td>\n",
       "      <td>1.511586</td>\n",
       "      <td>1.515791</td>\n",
       "      <td>1.767145</td>\n",
       "      <td>2.014808</td>\n",
       "      <td>1.313025</td>\n",
       "      <td>1.397817</td>\n",
       "    </tr>\n",
       "    <tr>\n",
       "      <th>last session peak mean</th>\n",
       "      <td>1.174784</td>\n",
       "      <td>0.391713</td>\n",
       "      <td>1.081465</td>\n",
       "      <td>1.014487</td>\n",
       "      <td>1.376459</td>\n",
       "      <td>1.376231</td>\n",
       "      <td>1.288042</td>\n",
       "      <td>0.916336</td>\n",
       "      <td>1.283892</td>\n",
       "    </tr>\n",
       "  </tbody>\n",
       "</table>\n",
       "</div>"
      ],
      "text/plain": [
       "mouse                    SNL_photo16  SNL_photo17  SNL_photo18  SNL_photo21  \\\n",
       "first session peak mean     1.532078     1.881998     2.303278     1.511586   \n",
       "last session peak mean      1.174784     0.391713     1.081465     1.014487   \n",
       "\n",
       "mouse                    SNL_photo22  SNL_photo26  SNL_photo37  SNL_photo43  \\\n",
       "first session peak mean     1.515791     1.767145     2.014808     1.313025   \n",
       "last session peak mean      1.376459     1.376231     1.288042     0.916336   \n",
       "\n",
       "mouse                    SNL_photo44  \n",
       "first session peak mean     1.397817  \n",
       "last session peak mean      1.283892  "
      ]
     },
     "execution_count": 54,
     "metadata": {},
     "output_type": "execute_result"
    }
   ],
   "source": [
    "data.set_index('mouse').T"
   ]
  },
  {
   "cell_type": "code",
   "execution_count": 55,
   "metadata": {},
   "outputs": [],
   "source": [
    "def francescas_plot(ax, data, show_err_bar=False, mean_linewidth=4, mean_line_color='blue', legend=False):\n",
    "    \"\"\"Plot lines for all mice from early to late.\n",
    "    \"\"\"\n",
    "    data.plot(ax=ax, color='gray', legend=False)\n",
    "    data.mean(1).plot(ax=ax,linewidth=mean_linewidth,color=mean_line_color)\n",
    "\n",
    "    if show_err_bar:\n",
    "        yerr = data.std(axis=1)\n",
    "\n",
    "        plt.errorbar(np.array([0,1]), data.mean(1), yerr, color=mean_line_color, linewidth=4)\n",
    "\n",
    "    # drop the left and bottom spine for cool looking effect\n",
    "    ax.spines['left'].set_position(('outward', 10))\n",
    "    ax.spines['bottom'].set_position(('outward', 10))\n",
    "    # Hide the right and top spines\n",
    "    ax.spines['right'].set_visible(False)\n",
    "    ax.spines['top'].set_visible(False)\n"
   ]
  },
  {
   "cell_type": "code",
   "execution_count": 47,
   "metadata": {},
   "outputs": [],
   "source": [
    "import matplotlib"
   ]
  },
  {
   "cell_type": "code",
   "execution_count": 50,
   "metadata": {},
   "outputs": [],
   "source": [
    "font = {'size': 6}\n",
    "matplotlib.rc('font', **font)\n",
    "\n",
    "fig, ax = plt.subplots(figsize=[2,2])\n",
    "francescas_plot(ax, data.set_index('mouse').T, mean_line_color='#7FB5B5', mean_linewidth=6, show_err_bar=False)\n",
    "plt.xticks([0, 1], ['First session peak', 'Last session peak'], fontsize=6)\n",
    "plt.ylabel('Z-scored fluorescence', fontsize=6)\n",
    "\n",
    "#significance stars\n",
    "y = data.set_index('mouse').T.to_numpy().max() + .2\n",
    "h = .1\n",
    "plt.plot([0, 0, 1, 1], [y, y+h, y+h, y],c='k',lw=1)\n",
    "ax.text(.5, y+h, '*', ha='center', fontsize=8)\n",
    "ax.set_ylim([0.3, 2.6])\n",
    "plt.tight_layout()"
   ]
  },
  {
   "cell_type": "code",
   "execution_count": 56,
   "metadata": {},
   "outputs": [
    {
     "data": {
      "text/plain": [
       "0.005619024164589482"
      ]
     },
     "execution_count": 56,
     "metadata": {},
     "output_type": "execute_result"
    }
   ],
   "source": [
    "first_data = data['first session peak mean']\n",
    "last_data = data['last session peak mean']\n",
    "stat, pval = stats.ttest_rel(first_data, last_data)\n",
    "#pval *= .5 # multiply by .5 bc doing a one-sided t-test! we have a hypothesis that it's going a certain way \n",
    "pval"
   ]
  },
  {
   "cell_type": "code",
   "execution_count": 56,
   "metadata": {},
   "outputs": [],
   "source": [
    "import os\n",
    "\n",
    "filepath=os.path.join('W:\\\\photometry_2AC\\\\plots', 'nacc_quantified_peak_change_first_last.pdf' )\n",
    "fig.savefig(filepath)"
   ]
  },
  {
   "cell_type": "code",
   "execution_count": null,
   "metadata": {},
   "outputs": [],
   "source": []
  },
  {
   "cell_type": "code",
   "execution_count": 48,
   "metadata": {},
   "outputs": [],
   "source": []
  },
  {
   "cell_type": "code",
   "execution_count": null,
   "metadata": {},
   "outputs": [],
   "source": []
  }
 ],
 "metadata": {
  "kernelspec": {
   "display_name": "Python 3",
   "language": "python",
   "name": "python3"
  },
  "language_info": {
   "codemirror_mode": {
    "name": "ipython",
    "version": 3
   },
   "file_extension": ".py",
   "mimetype": "text/x-python",
   "name": "python",
   "nbconvert_exporter": "python",
   "pygments_lexer": "ipython3",
   "version": "3.6.13"
  }
 },
 "nbformat": 4,
 "nbformat_minor": 4
}
