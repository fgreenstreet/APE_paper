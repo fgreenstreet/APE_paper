{
 "cells": [
  {
   "cell_type": "code",
   "execution_count": 2,
   "metadata": {},
   "outputs": [
    {
     "name": "stdout",
     "output_type": "stream",
     "text": [
      "The autoreload extension is already loaded. To reload it, use:\n",
      "  %reload_ext autoreload\n"
     ]
    },
    {
     "ename": "ModuleNotFoundError",
     "evalue": "No module named 'utils'",
     "output_type": "error",
     "traceback": [
      "\u001b[1;31m---------------------------------------------------------------------------\u001b[0m",
      "\u001b[1;31mModuleNotFoundError\u001b[0m                       Traceback (most recent call last)",
      "\u001b[1;32m<ipython-input-2-bf911e3f82bc>\u001b[0m in \u001b[0;36m<module>\u001b[1;34m\u001b[0m\n\u001b[0;32m     13\u001b[0m \u001b[1;32mimport\u001b[0m \u001b[0mseaborn\u001b[0m \u001b[1;32mas\u001b[0m \u001b[0msns\u001b[0m\u001b[1;33m\u001b[0m\u001b[1;33m\u001b[0m\u001b[0m\n\u001b[0;32m     14\u001b[0m \u001b[1;32mimport\u001b[0m \u001b[0mpickle\u001b[0m\u001b[1;33m\u001b[0m\u001b[1;33m\u001b[0m\u001b[0m\n\u001b[1;32m---> 15\u001b[1;33m \u001b[1;32mfrom\u001b[0m \u001b[0mutils\u001b[0m\u001b[1;33m.\u001b[0m\u001b[0mplotting\u001b[0m \u001b[1;32mimport\u001b[0m \u001b[0mHeatMapParams\u001b[0m\u001b[1;33m\u001b[0m\u001b[1;33m\u001b[0m\u001b[0m\n\u001b[0m\u001b[0;32m     16\u001b[0m \u001b[1;32mfrom\u001b[0m \u001b[0mutils\u001b[0m\u001b[1;33m.\u001b[0m\u001b[0mplotting\u001b[0m \u001b[1;32mimport\u001b[0m \u001b[0mheat_map_and_mean\u001b[0m\u001b[1;33m\u001b[0m\u001b[1;33m\u001b[0m\u001b[0m\n\u001b[0;32m     17\u001b[0m \u001b[1;32mfrom\u001b[0m \u001b[0mutils\u001b[0m\u001b[1;33m.\u001b[0m\u001b[0mplotting\u001b[0m \u001b[1;32mimport\u001b[0m \u001b[0mget_photometry_around_event\u001b[0m\u001b[1;33m\u001b[0m\u001b[1;33m\u001b[0m\u001b[0m\n",
      "\u001b[1;31mModuleNotFoundError\u001b[0m: No module named 'utils'"
     ]
    }
   ],
   "source": [
    "%load_ext autoreload\n",
    "%autoreload 2\n",
    "%matplotlib qt5\n",
    "import os\n",
    "import peakutils\n",
    "from matplotlib import colors, cm\n",
    "from scipy.signal import decimate\n",
    "import copy\n",
    "import matplotlib.pyplot as plt\n",
    "import matplotlib\n",
    "import numpy as np\n",
    "import pandas as pd\n",
    "import seaborn as sns\n",
    "import pickle\n",
    "from utils.plotting import HeatMapParams\n",
    "from utils.plotting import heat_map_and_mean\n",
    "from utils.plotting import get_photometry_around_event\n",
    "from utils.plotting_visuals import makes_plots_pretty\n",
    "from scipy import stats\n",
    "from utils.large_reward_omission_utils import plot_mean_trace_for_condition"
   ]
  },
  {
   "cell_type": "code",
   "execution_count": 40,
   "metadata": {},
   "outputs": [],
   "source": [
    "site='nacc'\n",
    "root_directory = 'W:\\photometry_2AC\\processed_data'\n",
    "figure_dir = 'W:\\\\photometry_2AC\\\\plots\\\\SNL_photo28_35\\\\omission_large_reward_experiment'\n",
    "processed_data_dir = os.path.join(root_directory, 'large_rewards_omissions_data')\n",
    "block_data_file = os.path.join(processed_data_dir, 'all_nacc_reward_change_data.csv')\n",
    "all_reward_block_data = pd.read_pickle(block_data_file)"
   ]
  },
  {
   "cell_type": "code",
   "execution_count": 19,
   "metadata": {},
   "outputs": [],
   "source": [
    "all_time_points = all_reward_block_data['time points'].reset_index(drop=True)[0]\n",
    "start_plot = int(all_time_points.shape[0]/2 - 2*1000)\n",
    "end_plot = int(all_time_points.shape[0]/2 + 2*1000)\n",
    "time_points = all_time_points[start_plot: end_plot]\n",
    "contra_data = all_reward_block_data[(all_reward_block_data['mouse'] == mouse_name) & (all_reward_block_data['side'] == 'contra')]\n",
    "ipsi_data =  all_reward_block_data[(all_reward_block_data['mouse'] == mouse_name) & (all_reward_block_data['side'] == 'ipsi')]\n",
    "contra_traces = np.vstack(contra_data['traces'].values)[:, start_plot: end_plot]\n",
    "ipsi_traces= np.vstack(ipsi_data['traces'].values)[:, start_plot: end_plot]"
   ]
  },
  {
   "cell_type": "code",
   "execution_count": 70,
   "metadata": {},
   "outputs": [
    {
     "data": {
      "text/plain": [
       "(160000,)"
      ]
     },
     "execution_count": 70,
     "metadata": {},
     "output_type": "execute_result"
    }
   ],
   "source": [
    "contra_data = all_reward_block_data[(all_reward_block_data['mouse'] == mouse_name) & (all_reward_block_data['side'] == 'contra')]\n",
    "ipsi_data = all_reward_block_data[(all_reward_block_data['mouse'] == mouse_name) & (all_reward_block_data['side'] == 'ipsi')]\n",
    "contra_data['traces'].reset_index(drop=True)[0].shape"
   ]
  },
  {
   "cell_type": "code",
   "execution_count": 60,
   "metadata": {},
   "outputs": [
    {
     "data": {
      "text/plain": [
       "(376, 0)"
      ]
     },
     "execution_count": 60,
     "metadata": {},
     "output_type": "execute_result"
    }
   ],
   "source": [
    "np.vstack(contra_data['traces'].values)[:, start_plot: end_plot].shape"
   ]
  },
  {
   "cell_type": "code",
   "execution_count": null,
   "metadata": {},
   "outputs": [],
   "source": []
  },
  {
   "cell_type": "code",
   "execution_count": 73,
   "metadata": {},
   "outputs": [
    {
     "name": "stdout",
     "output_type": "stream",
     "text": [
      "loading\n"
     ]
    }
   ],
   "source": [
    "font = {'size'   : 7}\n",
    "\n",
    "matplotlib.rc('font', **font)\n",
    "\n",
    "mouse_name = 'SNL_photo31'\n",
    "\n",
    "all_time_points = all_reward_block_data['time points'].reset_index(drop=True)[0]\n",
    "\n",
    "contra_data = all_reward_block_data[(all_reward_block_data['mouse'] == mouse_name) & (all_reward_block_data['side'] == 'contra')]\n",
    "ipsi_data =  all_reward_block_data[(all_reward_block_data['mouse'] == mouse_name) & (all_reward_block_data['side'] == 'ipsi')]\n",
    "\n",
    "\n",
    "fig, ax = plt.subplots(2,1,figsize=[2.5, 4]) #, figsize=(10,16))\n",
    "plot_mean_trace_for_condition(ax[0], contra_data, all_time_points,\n",
    "                              'reward contra', error_bar_method='sem', save_location=processed_data_dir)\n",
    "lg1 = ax[0].legend(loc='lower left', bbox_to_anchor=(0.6, 0.8),\n",
    "            borderaxespad=0, frameon=False,prop={'size': 6 })\n",
    "\n",
    "plot_mean_trace_for_condition(ax[1],ipsi_data, all_time_points,\n",
    "                              'reward ipsi', error_bar_method = 'sem', save_location=processed_data_dir)\n",
    "lg2 = ax[1].legend(loc='lower left', bbox_to_anchor=(0.6, 0.8),\n",
    "            borderaxespad=0, frameon=False,prop={'size': 6 })\n",
    "makes_plots_pretty(ax)\n",
    "plt.tight_layout()\n",
    "\n",
    "#plt.savefig(os.path.join(figure_dir, 'example_mouse{}.pdf'.format(mouse_name)))\n"
   ]
  },
  {
   "cell_type": "code",
   "execution_count": 13,
   "metadata": {},
   "outputs": [
    {
     "data": {
      "text/plain": [
       "(376, 160000)"
      ]
     },
     "execution_count": 13,
     "metadata": {},
     "output_type": "execute_result"
    }
   ],
   "source": [
    "\n",
    "np.vstack(all_reward_block_data[(all_reward_block_data['mouse'] == mouse_name) & (all_reward_block_data['side'] == 'contra')]['traces'].values).shape\n"
   ]
  },
  {
   "cell_type": "code",
   "execution_count": 3,
   "metadata": {},
   "outputs": [],
   "source": [
    "font = {'size'   : 7}\n",
    "matplotlib.rc('font', **font)\n",
    "matplotlib.rcParams['pdf.fonttype'] = 42\n",
    "matplotlib.rcParams['font.sans-serif'] = 'Arial'\n",
    "matplotlib.rcParams['font.family']\n",
    "\n",
    "mouse_name = 'SNL_photo31'\n",
    "\n",
    "\n",
    "timepoints = all_reward_block_data['time points'].reset_index(drop=True)[0]\n",
    "all_trials = all_reward_block_data[(all_reward_block_data['mouse'] == mouse_name)] \n",
    "\n",
    "fig, ax = plt.subplots(1,1, figsize=[2.2, 2]) #, figsize=(10,16))\n",
    "plot_mean_trace_for_condition(ax, all_trials, timepoints,\n",
    "                              'reward', error_bar_method='sem', save_location=processed_data_dir)\n",
    "lg1 = ax.legend(loc='lower left', bbox_to_anchor=(0.6, 0.8),\n",
    "            borderaxespad=0, frameon=False,prop={'size': 6 })\n",
    "ax.set_ylim([-1.5, 4.1])\n",
    "makes_plots_pretty(ax)\n",
    "plt.tight_layout()\n",
    "figure_dir = 'W:\\\\paper'\n",
    "#plt.savefig(os.path.join(figure_dir, 'example_mouse{}_both_sides.pdf'.format(mouse_name)))\n"
   ]
  },
  {
   "cell_type": "code",
   "execution_count": 19,
   "metadata": {},
   "outputs": [],
   "source": [
    "def francescas_plot(ax, data, show_err_bar=False, mean_linewidth=4, mean_line_color='blue', legend=False):\n",
    "    \"\"\"Plot lines for all mice from early to late.\n",
    "    \"\"\"\n",
    "    data.plot(ax=ax, color='gray', legend=False, linewidth=0.5)\n",
    "    data.mean(1).plot(ax=ax,linewidth=mean_linewidth,color=mean_line_color, alpha=0.7)\n",
    "\n",
    "    if show_err_bar:\n",
    "        yerr = data.std(axis=1)\n",
    "\n",
    "        plt.errorbar(np.array([0,1]), data.mean(1), yerr, color=mean_line_color, linewidth=4)\n",
    "\n",
    "    # drop the left and bottom spine for cool looking effect\n",
    "    ax.spines['left'].set_position(('outward', 10))\n",
    "    ax.spines['bottom'].set_position(('outward', 10))\n",
    "    # Hide the right and top spines\n",
    "    ax.spines['right'].set_visible(False)\n",
    "    ax.spines['top'].set_visible(False)\n"
   ]
  },
  {
   "cell_type": "code",
   "execution_count": 30,
   "metadata": {},
   "outputs": [],
   "source": [
    "# find mean traces and downsample\n",
    "avg_traces = all_reward_block_data.groupby(['mouse', 'reward'])['traces'].apply(np.mean)\n",
    "decimated = [decimate(trace[int(len(trace)/2):], 10) for trace in avg_traces]\n",
    "avg_traces = avg_traces.reset_index()\n",
    "avg_traces['decimated'] = pd.Series([_ for _ in decimated])"
   ]
  },
  {
   "cell_type": "code",
   "execution_count": 31,
   "metadata": {},
   "outputs": [],
   "source": [
    "# find peak size in pre condition and look for same time point in action\n",
    "# alternatively, just find first peak for both. let's try that first. \n",
    "\n",
    "#plt.plot(avg_traces['decimated'].iloc[0])\n",
    "\n",
    "first_peak_ids = [peakutils.indexes(i)[0] for i in avg_traces['decimated']]\n",
    "avg_traces['peakidx'] = first_peak_ids\n",
    "peaks = [np.mean(trace[:600]) for idx, trace in zip(first_peak_ids, avg_traces['decimated'])]\n",
    "avg_traces['peak'] = peaks\n",
    "avg_traces.set_index(['mouse', 'reward'])\n",
    "\n",
    "normal_peak = avg_traces[avg_traces['reward']=='normal']['peak']\n",
    "large_reward_peak = avg_traces[avg_traces['reward']=='large reward']['peak']\n",
    "omission_peak = avg_traces[avg_traces['reward']=='omission']['peak']\n",
    "stat1, pval1 = stats.ttest_rel(normal_peak, large_reward_peak)\n",
    "stat2, pval2 = stats.ttest_rel(normal_peak, omission_peak)"
   ]
  },
  {
   "cell_type": "code",
   "execution_count": 22,
   "metadata": {},
   "outputs": [
    {
     "ename": "ModuleNotFoundError",
     "evalue": "No module named 'statsmodels'",
     "output_type": "error",
     "traceback": [
      "\u001b[1;31m---------------------------------------------------------------------------\u001b[0m",
      "\u001b[1;31mModuleNotFoundError\u001b[0m                       Traceback (most recent call last)",
      "Input \u001b[1;32mIn [22]\u001b[0m, in \u001b[0;36m<cell line: 3>\u001b[1;34m()\u001b[0m\n\u001b[0;32m      1\u001b[0m \u001b[38;5;66;03m# We run a repeated measures anova to check for a main effect of reward.\u001b[39;00m\n\u001b[0;32m      2\u001b[0m \u001b[38;5;66;03m# Subsequently, we want to do pairwise testing between the three reward conditions. Need to correct for multiple comparisons\u001b[39;00m\n\u001b[1;32m----> 3\u001b[0m \u001b[38;5;28;01mfrom\u001b[39;00m \u001b[38;5;21;01mstatsmodels\u001b[39;00m\u001b[38;5;21;01m.\u001b[39;00m\u001b[38;5;21;01mstats\u001b[39;00m\u001b[38;5;21;01m.\u001b[39;00m\u001b[38;5;21;01manova\u001b[39;00m \u001b[38;5;28;01mimport\u001b[39;00m AnovaRM\n\u001b[0;32m      4\u001b[0m \u001b[38;5;28;01mfrom\u001b[39;00m \u001b[38;5;21;01mstatsmodels\u001b[39;00m\u001b[38;5;21;01m.\u001b[39;00m\u001b[38;5;21;01mstats\u001b[39;00m\u001b[38;5;21;01m.\u001b[39;00m\u001b[38;5;21;01mmultitest\u001b[39;00m \u001b[38;5;28;01mimport\u001b[39;00m multipletests\n",
      "\u001b[1;31mModuleNotFoundError\u001b[0m: No module named 'statsmodels'"
     ]
    }
   ],
   "source": [
    "# We run a repeated measures anova to check for a main effect of reward.\n",
    "# Subsequently, we want to do pairwise testing between the three reward conditions. Need to correct for multiple comparisons\n",
    "from statsmodels.stats.anova import AnovaRM\n",
    "from statsmodels.stats.multitest import multipletests\n"
   ]
  },
  {
   "cell_type": "code",
   "execution_count": 22,
   "metadata": {},
   "outputs": [
    {
     "name": "stdout",
     "output_type": "stream",
     "text": [
      "[3.16139757e-06 8.87532813e-06]\n"
     ]
    }
   ],
   "source": [
    "#help(multipletests)\n",
    "reject, corrected_pvals, corrected_alpha_sidak, corrected_bonf = multipletests([pval1, pval2], method='bonferroni')\n",
    "\n",
    "print(corrected_pvals)"
   ]
  },
  {
   "cell_type": "code",
   "execution_count": 32,
   "metadata": {},
   "outputs": [],
   "source": [
    "df1 = avg_traces\n",
    "df_for_plot = df1.pivot(index='reward', columns='mouse', values='peak').sort_values('reward', ascending=False)"
   ]
  },
  {
   "cell_type": "code",
   "execution_count": 33,
   "metadata": {},
   "outputs": [
    {
     "data": {
      "text/html": [
       "<div>\n",
       "<style scoped>\n",
       "    .dataframe tbody tr th:only-of-type {\n",
       "        vertical-align: middle;\n",
       "    }\n",
       "\n",
       "    .dataframe tbody tr th {\n",
       "        vertical-align: top;\n",
       "    }\n",
       "\n",
       "    .dataframe thead th {\n",
       "        text-align: right;\n",
       "    }\n",
       "</style>\n",
       "<table border=\"1\" class=\"dataframe\">\n",
       "  <thead>\n",
       "    <tr style=\"text-align: right;\">\n",
       "      <th>mouse</th>\n",
       "      <th>SNL_photo21</th>\n",
       "      <th>SNL_photo22</th>\n",
       "      <th>SNL_photo26</th>\n",
       "      <th>SNL_photo37</th>\n",
       "      <th>SNL_photo43</th>\n",
       "    </tr>\n",
       "    <tr>\n",
       "      <th>reward</th>\n",
       "      <th></th>\n",
       "      <th></th>\n",
       "      <th></th>\n",
       "      <th></th>\n",
       "      <th></th>\n",
       "    </tr>\n",
       "  </thead>\n",
       "  <tbody>\n",
       "    <tr>\n",
       "      <th>omission</th>\n",
       "      <td>0.014023</td>\n",
       "      <td>-0.323676</td>\n",
       "      <td>-0.127278</td>\n",
       "      <td>-0.282593</td>\n",
       "      <td>-0.121186</td>\n",
       "    </tr>\n",
       "    <tr>\n",
       "      <th>normal</th>\n",
       "      <td>0.131666</td>\n",
       "      <td>-0.238696</td>\n",
       "      <td>-0.278525</td>\n",
       "      <td>-0.165795</td>\n",
       "      <td>0.135061</td>\n",
       "    </tr>\n",
       "    <tr>\n",
       "      <th>large reward</th>\n",
       "      <td>-0.078870</td>\n",
       "      <td>-0.225620</td>\n",
       "      <td>-0.150822</td>\n",
       "      <td>0.086833</td>\n",
       "      <td>0.315559</td>\n",
       "    </tr>\n",
       "  </tbody>\n",
       "</table>\n",
       "</div>"
      ],
      "text/plain": [
       "mouse         SNL_photo21  SNL_photo22  SNL_photo26  SNL_photo37  SNL_photo43\n",
       "reward                                                                       \n",
       "omission         0.014023    -0.323676    -0.127278    -0.282593    -0.121186\n",
       "normal           0.131666    -0.238696    -0.278525    -0.165795     0.135061\n",
       "large reward    -0.078870    -0.225620    -0.150822     0.086833     0.315559"
      ]
     },
     "execution_count": 33,
     "metadata": {},
     "output_type": "execute_result"
    }
   ],
   "source": [
    "df_for_plot"
   ]
  },
  {
   "cell_type": "code",
   "execution_count": 35,
   "metadata": {},
   "outputs": [],
   "source": [
    "font = {'size'   : 7}\n",
    "matplotlib.rc('font', **font)\n",
    "matplotlib.rcParams['pdf.fonttype'] = 42\n",
    "matplotlib.rcParams['font.sans-serif'] = 'Arial'\n",
    "matplotlib.rcParams['font.family']\n",
    "\n",
    "fig, ax = plt.subplots(figsize=[2,2])\n",
    "francescas_plot(ax, df_for_plot, mean_line_color='#7FB5B5', mean_linewidth=3, show_err_bar=False)\n",
    "plt.xticks([0, 1, 2], ['omission', 'normal\\nreward', '3 x normal\\nreward'], fontsize=7)\n",
    "plt.ylabel('Z-scored fluorescence', fontsize=7)\n",
    "ax.set_xlabel(' ')\n",
    "#ax.text(1.2, 3, 'p-value = {0:.6f}'.format(corrected_pvals[1]))\n",
    "#ax.text(0.1, 3, 'p-value = {0:.6f}'.format(corrected_pvals[0]))\n",
    "\n",
    "# show significance stars \n",
    "# for first comparison\n",
    "y = df_for_plot.T['large reward'].max() + .2\n",
    "h = .1\n",
    "plt.plot([0, 0, 1, 1], [y, y+h, y+h, y],c='k',lw=1)\n",
    "#ax.text(.5, y+h, 'n.s.', ha='center', fontsize=8)\n",
    "#ax.text(.5, y+h, 'n.s.', ha='center', fontsize=8)\n",
    "ax.text(.5, y+h, '****', ha='center', fontsize=8)\n",
    "# for second comparison\n",
    "l = .2\n",
    "plt.plot([1, 1, 2, 2], [y+l, y+h+l, y+h+l, y+l],c='k', linewidth=1)\n",
    "ax.text(1.5, y+h+l, '****', ha='center', fontsize=8)\n",
    "ax.set_ylim([-1, 3.4])\n",
    "plt.tight_layout()\n",
    "filepath=os.path.join('W:\\\\paper', 'group_data_omissions_large_rewards_{}.pdf'.format(site))\n",
    "fig.savefig(filepath)\n"
   ]
  },
  {
   "cell_type": "code",
   "execution_count": 34,
   "metadata": {},
   "outputs": [
    {
     "data": {
      "text/plain": [
       "'tail'"
      ]
     },
     "execution_count": 34,
     "metadata": {},
     "output_type": "execute_result"
    }
   ],
   "source": [
    "site"
   ]
  },
  {
   "cell_type": "code",
   "execution_count": null,
   "metadata": {},
   "outputs": [],
   "source": []
  }
 ],
 "metadata": {
  "kernelspec": {
   "display_name": "Python 3",
   "language": "python",
   "name": "python3"
  },
  "language_info": {
   "codemirror_mode": {
    "name": "ipython",
    "version": 3
   },
   "file_extension": ".py",
   "mimetype": "text/x-python",
   "name": "python",
   "nbconvert_exporter": "python",
   "pygments_lexer": "ipython3",
   "version": "3.6.13"
  }
 },
 "nbformat": 4,
 "nbformat_minor": 4
}
