{
 "cells": [
  {
   "cell_type": "code",
   "execution_count": 475,
   "metadata": {},
   "outputs": [],
   "source": [
    "from scipy import stats\n",
    "import os\n",
    "import sys\n",
    "sys.path.append('..')\n",
    "import seaborn as sns\n",
    "from set_global_params import raw_tracking_path, processed_data_path, bias_path, change_over_time_mice, fig4_plotting_colours\n",
    "from utils.post_processing_utils import get_all_experimental_records\n",
    "from utils.plotting_visuals import makes_plots_pretty\n",
    "from matplotlib.ticker import MaxNLocator\n",
    "import statsmodels.api as sm\n",
    "from utils.plotting import output_significance_stars_from_pval, calculate_error_bars\n",
    "from utils.plotting_visuals import makes_plots_pretty"
   ]
  },
  {
   "cell_type": "code",
   "execution_count": 358,
   "metadata": {},
   "outputs": [],
   "source": [
    "def shift_respecting_index(vals_to_shift, shift_size):\n",
    "    \"\"\"\n",
    "    Shifts a pandas df column by shift_size indices\n",
    "    but if there is a discontinuity in the index,\n",
    "    replaces the shifted index with nan\n",
    "    \"\"\"\n",
    "    shifted_vals = vals_to_shift.shift(periods=shift_size)\n",
    "\n",
    "    # Detect discontinuities in the index\n",
    "    trial_num_diff = vals_to_shift.index.to_series().diff().fillna(shift_size)\n",
    "\n",
    "    # Identify where the shift should result in NaN due to discontinuities\n",
    "    discontinuities = trial_num_diff > shift_size\n",
    "    shifted_vals[discontinuities] = np.nan\n",
    "\n",
    "    \n",
    "    return shifted_vals\n"
   ]
  },
  {
   "cell_type": "code",
   "execution_count": 367,
   "metadata": {},
   "outputs": [],
   "source": [
    "def perform_single_lag_regression(all_session_data, lag):\n",
    "    all_session_data[f'choice_t_minus_{lag}'] = shift_respecting_index(all_session_data['choice'], lag)\n",
    "    all_session_data[f'stim_t_minus_{lag}'] = shift_respecting_index(all_session_data['Trial type'], lag)\n",
    "    all_session_data[f'stim_t_minus{lag}_match'] = (all_session_data[f'stim_t_minus_{lag}'] == all_session_data['Trial type'])\n",
    "    # Define the dependent variable (dopamine response size)\n",
    "    test_var = f'choice_t_minus_{lag}'\n",
    "\n",
    "\n",
    "    contra_trials = all_session_data[(all_session_data['trial_type'] == 'contra_data')\n",
    "                                     & (all_session_data[f'stim_t_minus{lag}_match'] == True)\n",
    "                                    & (all_session_data['First choice correct'] == 1)]\n",
    "    \n",
    "\n",
    "    \n",
    "    df = contra_trials[['APE_peaks', test_var]].copy()\n",
    "    df.loc[:, test_var] = df[test_var].astype(float)\n",
    "    df.loc[:, 'APE_peaks'] = df['APE_peaks'].apply(lambda x: np.nan if isinstance(x, np.ndarray) and x.size == 0 else x)\n",
    "\n",
    "    df.loc[:, 'APE_peaks'] = df['APE_peaks'].astype(float)\n",
    "    df = df.dropna().reset_index(drop=True)\n",
    "\n",
    "\n",
    "    y = df['APE_peaks'].astype(float)\n",
    "    X = df[test_var]\n",
    "    X = sm.add_constant(X)\n",
    "    # Fit the regression model\n",
    "    model = sm.OLS(y, X).fit()\n",
    "    return model.params[1:], model.pvalues[1:], all_session_data"
   ]
  },
  {
   "cell_type": "code",
   "execution_count": 374,
   "metadata": {},
   "outputs": [],
   "source": [
    "def regress_previous_choice_same_stim_against_DA(mice, num_lags=5):\n",
    "    num_mice = len(mice)\n",
    "    coefs = np.zeros([num_mice, num_lags])\n",
    "    pvals = np.zeros([num_mice, num_lags])\n",
    "    for m, mouse in enumerate(mice):\n",
    "        bias_file = os.path.join(bias_path, 'pre_processing_bias_{}.pkl'.format(mouse))\n",
    "        all_session_data = pd.read_pickle(bias_file).drop_duplicates(subset='actual trial nums', keep='first').set_index('actual trial nums')\n",
    "\n",
    "        contra_side = all_session_data[(all_session_data['trial_type'] == 'contra_data') & (all_session_data['First choice correct'] == 1)]['First response'].unique()[0]\n",
    "        if contra_side == 1:\n",
    "            ipsi_contra_map = {1: 'contra', 2: 'ipsi'} \n",
    "        else:\n",
    "            ipsi_contra_map = {1: 'ipsi', 2: 'contra'}\n",
    "        all_session_data['choice'] = all_session_data['First response'].map(ipsi_contra_map)\n",
    "\n",
    "        # Map 'choice' column to 1 and 0\n",
    "        all_session_data['choice'] = all_session_data['choice'].map({'contra': 1, 'ipsi': 0})\n",
    "\n",
    "        for lag in range(1, num_lags + 1):\n",
    "            coefs[m, lag-1], pvals[m, lag-1], _ = perform_single_lag_regression(all_session_data, lag)\n",
    "    return coefs, pvals"
   ]
  },
  {
   "cell_type": "code",
   "execution_count": 375,
   "metadata": {},
   "outputs": [],
   "source": [
    "def plot_sig_stars_multilag(coefs, color, axs):\n",
    "    second_order_coefs, second_order_pvals = test_for_coef_trend_against_zero_mulit_lag(coefs)\n",
    "    for lag_num in range(0, len(second_order_coefs)):\n",
    "        sig_stars = output_significance_stars_from_pval(second_order_pvals[lag_num])\n",
    "        if sig_stars != 'n.s.':\n",
    "            if second_order_coefs[lag_num] >= 0:\n",
    "                y = 0.3\n",
    "            else:\n",
    "                y=-0.45\n",
    "            axs.text(lag_num + 1, y, sig_stars, ha='center', fontsize=12, color=color)\n",
    "            "
   ]
  },
  {
   "cell_type": "code",
   "execution_count": 376,
   "metadata": {},
   "outputs": [],
   "source": [
    "def test_for_coef_trend_against_zero_mulit_lag(coefs):\n",
    "    pvals = []\n",
    "    slopes = []\n",
    "    for lag_num in range(0, coefs.shape[1]):\n",
    "        test = stats.ttest_1samp(coefs.T[lag_num], 0)\n",
    "        pvals.append(test.pvalue)\n",
    "        slopes.append(test.statistic)\n",
    "    return slopes, pvals"
   ]
  },
  {
   "cell_type": "code",
   "execution_count": 377,
   "metadata": {},
   "outputs": [],
   "source": [
    "def plot_multilag_coefs_accross_mice(recording_site, coefs, axs, color='blue'):\n",
    "    # Calculate the mean and SEM across axis=0\n",
    "    mean_coefs = np.mean(coefs, axis=0)\n",
    "    sem_coefs = stats.sem(coefs, axis=0)\n",
    "\n",
    "    # Create the x-axis values\n",
    "    x = (np.arange(mean_coefs.shape[0]) + 1).astype(int)\n",
    "\n",
    "    # Plot the mean\n",
    "    axs.plot(x, mean_coefs, label=recording_site, color=color)\n",
    "\n",
    "\n",
    "    # Plot the shaded error bars using SEM\n",
    "    axs.fill_between(x, mean_coefs - sem_coefs, mean_coefs + sem_coefs, color=color, alpha=0.3, label='')\n",
    "    plot_sig_stars_multilag(coefs, color, axs)\n",
    "    # Adding labels and legend\n",
    "    axs.set_ylabel('Regression coef')\n",
    "    axs.set_xlabel('Number of trials back')\n",
    "    axs.set_ylim([-0.5, 0.5])\n",
    "    plt.legend(frameon=False)\n"
   ]
  },
  {
   "cell_type": "code",
   "execution_count": 378,
   "metadata": {},
   "outputs": [
    {
     "data": {
      "image/png": "[encoded data removed]",
      "text/plain": [
       "<Figure size 216x216 with 1 Axes>"
      ]
     },
     "metadata": {
      "needs_background": "light"
     },
     "output_type": "display_data"
    }
   ],
   "source": [
    "fig, axs = plt.subplots(1,1, figsize=[3,3])\n",
    "labels = {'tail': 'TS', 'Nacc': 'VS cue'}\n",
    "for recording_site in ['tail', 'Nacc']:\n",
    "    mice = change_over_time_mice[recording_site]\n",
    "    coefs, pvals = regress_previous_choice_same_stim_against_DA(mice)\n",
    "    plot_multilag_coefs_accross_mice(labels[recording_site], coefs, axs, color=fig4_plotting_colours[recording_site][0])\n",
    "    makes_plots_pretty(axs)\n",
    "axs.plot([0.8, 5], [0, 0], ls='--', color='gray')\n",
    "axs.set_xlim([0.8,5])\n",
    "axs.xaxis.set_major_locator(MaxNLocator(integer=True))\n"
   ]
  },
  {
   "cell_type": "code",
   "execution_count": 365,
   "metadata": {},
   "outputs": [
    {
     "data": {
      "text/html": [
       "<div>\n",
       "<style scoped>\n",
       "    .dataframe tbody tr th:only-of-type {\n",
       "        vertical-align: middle;\n",
       "    }\n",
       "\n",
       "    .dataframe tbody tr th {\n",
       "        vertical-align: top;\n",
       "    }\n",
       "\n",
       "    .dataframe thead th {\n",
       "        text-align: right;\n",
       "    }\n",
       "</style>\n",
       "<table border=\"1\" class=\"dataframe\">\n",
       "  <thead>\n",
       "    <tr style=\"text-align: right;\">\n",
       "      <th></th>\n",
       "      <th>choice_t_minus_1</th>\n",
       "      <th>choice</th>\n",
       "    </tr>\n",
       "    <tr>\n",
       "      <th>actual trial nums</th>\n",
       "      <th></th>\n",
       "      <th></th>\n",
       "    </tr>\n",
       "  </thead>\n",
       "  <tbody>\n",
       "    <tr>\n",
       "      <th>781.0</th>\n",
       "      <td>NaN</td>\n",
       "      <td>0.0</td>\n",
       "    </tr>\n",
       "    <tr>\n",
       "      <th>782.0</th>\n",
       "      <td>0.0</td>\n",
       "      <td>1.0</td>\n",
       "    </tr>\n",
       "    <tr>\n",
       "      <th>783.0</th>\n",
       "      <td>1.0</td>\n",
       "      <td>1.0</td>\n",
       "    </tr>\n",
       "    <tr>\n",
       "      <th>784.0</th>\n",
       "      <td>1.0</td>\n",
       "      <td>0.0</td>\n",
       "    </tr>\n",
       "    <tr>\n",
       "      <th>785.0</th>\n",
       "      <td>0.0</td>\n",
       "      <td>0.0</td>\n",
       "    </tr>\n",
       "    <tr>\n",
       "      <th>...</th>\n",
       "      <td>...</td>\n",
       "      <td>...</td>\n",
       "    </tr>\n",
       "    <tr>\n",
       "      <th>10237.0</th>\n",
       "      <td>0.0</td>\n",
       "      <td>1.0</td>\n",
       "    </tr>\n",
       "    <tr>\n",
       "      <th>10238.0</th>\n",
       "      <td>1.0</td>\n",
       "      <td>0.0</td>\n",
       "    </tr>\n",
       "    <tr>\n",
       "      <th>10239.0</th>\n",
       "      <td>0.0</td>\n",
       "      <td>1.0</td>\n",
       "    </tr>\n",
       "    <tr>\n",
       "      <th>10240.0</th>\n",
       "      <td>1.0</td>\n",
       "      <td>1.0</td>\n",
       "    </tr>\n",
       "    <tr>\n",
       "      <th>10241.0</th>\n",
       "      <td>1.0</td>\n",
       "      <td>0.0</td>\n",
       "    </tr>\n",
       "  </tbody>\n",
       "</table>\n",
       "<p>5171 rows × 2 columns</p>\n",
       "</div>"
      ],
      "text/plain": [
       "                   choice_t_minus_1  choice\n",
       "actual trial nums                          \n",
       "781.0                           NaN     0.0\n",
       "782.0                           0.0     1.0\n",
       "783.0                           1.0     1.0\n",
       "784.0                           1.0     0.0\n",
       "785.0                           0.0     0.0\n",
       "...                             ...     ...\n",
       "10237.0                         0.0     1.0\n",
       "10238.0                         1.0     0.0\n",
       "10239.0                         0.0     1.0\n",
       "10240.0                         1.0     1.0\n",
       "10241.0                         1.0     0.0\n",
       "\n",
       "[5171 rows x 2 columns]"
      ]
     },
     "execution_count": 365,
     "metadata": {},
     "output_type": "execute_result"
    }
   ],
   "source": [
    "all_session_data[[f'choice_t_minus_{1}', 'choice']]"
   ]
  },
  {
   "cell_type": "code",
   "execution_count": 366,
   "metadata": {},
   "outputs": [
    {
     "data": {
      "text/plain": [
       "([5.902299252552355], [0.0010511222928269192])"
      ]
     },
     "execution_count": 366,
     "metadata": {},
     "output_type": "execute_result"
    }
   ],
   "source": [
    "test_for_coef_trend_against_zero_mulit_lag(coefs)"
   ]
  },
  {
   "cell_type": "markdown",
   "metadata": {},
   "source": [
    "# Traces for one trial back\n"
   ]
  },
  {
   "cell_type": "code",
   "execution_count": 502,
   "metadata": {},
   "outputs": [],
   "source": [
    "def get_photometry_traces_previous_choice_same_stim(mouse, num_lags=5):\n",
    "    bias_file = os.path.join(bias_path, 'pre_processing_bias_{}.pkl'.format(mouse))\n",
    "    print('loading{}'.format(mouse))\n",
    "    all_session_data = pd.read_pickle(bias_file).drop_duplicates(subset='actual trial nums', keep='first').set_index('actual trial nums')\n",
    "\n",
    "    contra_side = all_session_data[(all_session_data['trial_type'] == 'contra_data') & (all_session_data['First choice correct'] == 1)]['First response'].unique()[0]\n",
    "    if contra_side == 1:\n",
    "        ipsi_contra_map = {1: 'contra', 2: 'ipsi'} \n",
    "    else:\n",
    "        ipsi_contra_map = {1: 'ipsi', 2: 'contra'}\n",
    "    all_session_data['choice'] = all_session_data['First response'].map(ipsi_contra_map)\n",
    "\n",
    "    # Map 'choice' column to 1 and 0\n",
    "    all_session_data['choice'] = all_session_data['choice'].map({'contra': 1, 'ipsi': 0})\n",
    "\n",
    "    for lag in range(1, num_lags + 1):\n",
    "        df = perform_single_lag_get_traces(all_session_data, lag)\n",
    "\n",
    "    return df"
   ]
  },
  {
   "cell_type": "code",
   "execution_count": 512,
   "metadata": {},
   "outputs": [],
   "source": [
    "def perform_single_lag_get_traces(all_session_data, lag):\n",
    "    all_session_data[f'choice_t_minus_{lag}'] = shift_respecting_index(all_session_data['choice'], lag)\n",
    "    all_session_data[f'stim_t_minus_{lag}'] = shift_respecting_index(all_session_data['Trial type'], lag)\n",
    "    all_session_data[f'stim_t_minus{lag}_match'] = (all_session_data[f'stim_t_minus_{lag}'] == all_session_data['Trial type'])\n",
    "    # Define the dependent variable (dopamine response size)\n",
    "    test_var = f'choice_t_minus_{lag}'\n",
    "\n",
    "\n",
    "    contra_trials = all_session_data[(all_session_data['trial_type'] == 'contra_data')\n",
    "                                     & (all_session_data[f'stim_t_minus{lag}_match'] == True)\n",
    "                                    & (all_session_data['First choice correct'] == 1)]\n",
    "    \n",
    "    \n",
    "    df = contra_trials[['APE_peaks', 'traces', test_var, 'time_points']].copy()\n",
    "    df.loc[:, 'APE_peaks'] = df['APE_peaks'].apply(lambda x: np.nan if isinstance(x, np.ndarray) and x.size == 0 else x)\n",
    "    df = df.dropna()\n",
    "    return df"
   ]
  },
  {
   "cell_type": "code",
   "execution_count": 524,
   "metadata": {},
   "outputs": [],
   "source": [
    "def plot_across_mice_traces_side(plotting_vals, axs, site, error_bar_method='sem'):\n",
    "    for trace_type in plotting_vals:\n",
    "        mean_trace = plotting_vals[trace_type][0]\n",
    "        error_bar_lower = plotting_vals[trace_type][1]\n",
    "        error_bar_upper = plotting_vals[trace_type][2]\n",
    "        colour_inds = {'contra': 0, 'ipsi': 1}\n",
    "        site_colours = fig4_plotting_colours[site]\n",
    "        colour = site_colours[colour_inds[trace_type]]\n",
    "        time_points = traces_df['time_points'].values[0]\n",
    "        axs.plot(time_points, mean_trace, lw=1, color=colour, label=trace_type)\n",
    "        axs.fill_between(time_points, error_bar_lower, error_bar_upper, alpha=0.5,\n",
    "                                     facecolor=colour, linewidth=0)\n",
    "    axs.set_ylabel('dLight z-score')\n",
    "    axs.set_xlabel('Time (s)')\n",
    "    axs.legend(title='Last choice', frameon=False, fontsize=8, title_fontsize=8)\n",
    "    makes_plots_pretty(axs)\n"
   ]
  },
  {
   "cell_type": "code",
   "execution_count": 534,
   "metadata": {},
   "outputs": [
    {
     "name": "stdout",
     "output_type": "stream",
     "text": [
      "loadingSNL_photo28\n",
      "loadingSNL_photo30\n",
      "loadingSNL_photo31\n",
      "loadingSNL_photo32\n",
      "loadingSNL_photo33\n",
      "loadingSNL_photo34\n",
      "loadingSNL_photo35\n"
     ]
    }
   ],
   "source": [
    "#fig, axs = plt.subplots(1,1, figsize=[3,3])\n",
    "all_contra_traces = []\n",
    "all_ipsi_traces = []\n",
    "for recording_site in ['Nacc']:\n",
    "    mice = change_over_time_mice[recording_site]\n",
    "    for m, mouse in enumerate(mice):\n",
    "        traces_df = get_photometry_traces_previous_choice_same_stim(mouse, num_lags=1)\n",
    "        last_choice_contra = traces_df[traces_df['choice_t_minus_1'] == 1]\n",
    "        last_choice_ipsi = traces_df[traces_df['choice_t_minus_1'] == 0]\n",
    "        time_points = traces_df['time_points'].values[0]\n",
    "        contra_mean_trace, _, _ = get_mean_and_sem_traces(last_choice_contra, time_points)\n",
    "        all_contra_traces.append(contra_mean_trace)\n",
    "        ipsi_mean_trace, _, _ = get_mean_and_sem_traces(last_choice_ipsi, time_points)\n",
    "        all_ipsi_traces.append(ipsi_mean_trace)\n",
    "\n",
    "contra_mean_over_mice_trace, error_bar_lower_c, error_bar_upper_c = get_mean_and_sem_accross_mice_traces(all_contra_traces, time_points)\n",
    "ipsi_mean_over_mice_trace, error_bar_lower_i, error_bar_upper_i = get_mean_and_sem_accross_mice_traces(all_ipsi_traces, time_points)\n",
    "plotting_params = {'contra': [contra_mean_over_mice_trace, error_bar_lower_c, error_bar_upper_c],\n",
    "                  'ipsi': [ipsi_mean_over_mice_trace, error_bar_lower_i, error_bar_upper_i]}\n"
   ]
  },
  {
   "cell_type": "code",
   "execution_count": 535,
   "metadata": {},
   "outputs": [
    {
     "data": {
      "image/png": "[encoded data removed]",
      "text/plain": [
       "<Figure size 216x216 with 1 Axes>"
      ]
     },
     "metadata": {
      "needs_background": "light"
     },
     "output_type": "display_data"
    }
   ],
   "source": [
    "fig, axs = plt.subplots(1,1, figsize=[3,3])\n",
    "plot_across_mice_traces_side(plotting_params, axs, recording_site)"
   ]
  },
  {
   "cell_type": "code",
   "execution_count": null,
   "metadata": {},
   "outputs": [],
   "source": [
    "def get_mean_and_sem_accross_mice_traces(all_mean_traces, time_points, error_bar_method='sem'):\n",
    "    array_traces = np.zeros([traces_df.shape[0], time_points.shape[0]])\n",
    "    for i, trace in enumerate(all_mean_traces):\n",
    "        array_traces[i, :] = all_mean_traces[i]\n",
    "    mean_trace = array_traces.mean(axis=0)\n",
    "    error_bar_lower, error_bar_upper = calculate_error_bars(mean_trace,\n",
    "                                                                    array_traces,\n",
    "                                                                    error_bar_method=error_bar_method)\n",
    "    return mean_trace, error_bar_lower, error_bar_upper"
   ]
  },
  {
   "cell_type": "code",
   "execution_count": 505,
   "metadata": {},
   "outputs": [],
   "source": [
    "def get_mean_and_sem_traces(traces_df, time_points, error_bar_method='sem'):\n",
    "    array_traces = np.zeros([traces_df.shape[0], time_points.shape[0]])\n",
    "    r=0\n",
    "    for _, row in traces_df.iterrows():\n",
    "        array_traces[r, :] = row.traces\n",
    "        r+=1\n",
    "    mean_trace = array_traces.mean(axis=0)\n",
    "    error_bar_lower, error_bar_upper = calculate_error_bars(mean_trace,\n",
    "                                                                    array_traces,\n",
    "                                                                    error_bar_method=error_bar_method)\n",
    "    return mean_trace, error_bar_lower, error_bar_upper\n",
    "\n",
    "def plot_example_mouse_traces_side(traces_df, trace_type, axs, site, error_bar_method='sem'):\n",
    "    colour_inds = {'contra': 0, 'ipsi': 1}\n",
    "    site_colours = fig4_plotting_colours[site]\n",
    "    colour = site_colours[colour_inds[trace_type]]\n",
    "    time_points = traces_df['time_points'].values[0]\n",
    "    mean_trace, error_bar_lower, error_bar_upper = get_mean_and_sem_traces(traces_df, time_points)\n",
    "    axs.plot(time_points, mean_trace, lw=1, color=colour, label=trace_type)\n",
    "    axs.fill_between(time_points, error_bar_lower, error_bar_upper, alpha=0.5,\n",
    "                                 facecolor=colour, linewidth=0)\n",
    "    axs.set_ylabel('dLight z-score')\n",
    "    axs.set_xlabel('Time (s)')\n",
    "    axs.legend(title='Last choice', frameon=False, fontsize=8, title_fontsize=8)\n",
    "    makes_plots_pretty(axs)\n"
   ]
  },
  {
   "cell_type": "code",
   "execution_count": 513,
   "metadata": {},
   "outputs": [
    {
     "name": "stdout",
     "output_type": "stream",
     "text": [
      "loadingSNL_photo17\n"
     ]
    },
    {
     "data": {
      "image/png": "[encoded data removed]",
      "text/plain": [
       "<Figure size 216x216 with 1 Axes>"
      ]
     },
     "metadata": {
      "needs_background": "light"
     },
     "output_type": "display_data"
    }
   ],
   "source": [
    "# Example mouse\n",
    "mouse = 'SNL_photo17'\n",
    "site = 'tail'\n",
    "traces_df = get_photometry_traces_previous_choice_same_stim(mouse, num_lags=1)\n",
    "last_choice_contra = traces_df[traces_df['choice_t_minus_1'] == 1]\n",
    "last_choice_ipsi = traces_df[traces_df['choice_t_minus_1'] == 0]\n",
    "fig, axs = plt.subplots(1,1, figsize=[3,3])\n",
    "plot_example_mouse_traces_side(last_choice_contra, 'contra', axs, site)\n",
    "plot_example_mouse_traces_side(last_choice_ipsi, 'ipsi', axs, site)"
   ]
  },
  {
   "cell_type": "code",
   "execution_count": 533,
   "metadata": {},
   "outputs": [
    {
     "name": "stdout",
     "output_type": "stream",
     "text": [
      "loadingSNL_photo33\n"
     ]
    },
    {
     "data": {
      "image/png": "[encoded data removed]",
      "text/plain": [
       "<Figure size 216x216 with 1 Axes>"
      ]
     },
     "metadata": {
      "needs_background": "light"
     },
     "output_type": "display_data"
    }
   ],
   "source": [
    "# Example mouse\n",
    "site = 'Nacc'\n",
    "mouse = change_over_time_mice[site][4]\n",
    "traces_df = get_photometry_traces_previous_choice_same_stim(mouse, num_lags=1)\n",
    "last_choice_contra = traces_df[traces_df['choice_t_minus_1'] == 1]\n",
    "last_choice_ipsi = traces_df[traces_df['choice_t_minus_1'] == 0]\n",
    "fig, axs = plt.subplots(1,1, figsize=[3,3])\n",
    "plot_example_mouse_traces_side(last_choice_contra, 'contra', axs, site)\n",
    "plot_example_mouse_traces_side(last_choice_ipsi, 'ipsi', axs, site)"
   ]
  },
  {
   "cell_type": "code",
   "execution_count": null,
   "metadata": {},
   "outputs": [],
   "source": []
  }
 ],
 "metadata": {
  "kernelspec": {
   "display_name": "Python 3 (ipykernel)",
   "language": "python",
   "name": "python3"
  },
  "language_info": {
   "codemirror_mode": {
    "name": "ipython",
    "version": 3
   },
   "file_extension": ".py",
   "mimetype": "text/x-python",
   "name": "python",
   "nbconvert_exporter": "python",
   "pygments_lexer": "ipython3",
   "version": "3.8.13"
  }
 },
 "nbformat": 4,
 "nbformat_minor": 4
}
