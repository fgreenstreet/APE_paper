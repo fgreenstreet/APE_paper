{
 "cells": [
  {
   "cell_type": "code",
   "execution_count": 117,
   "metadata": {},
   "outputs": [],
   "source": [
    "from scipy import stats\n",
    "import os\n",
    "import sys\n",
    "sys.path.append('..')\n",
    "import seaborn as sns\n",
    "from set_global_params import raw_tracking_path, processed_data_path, bias_path, change_over_time_mice, fig4_plotting_colours, figure_directory\n",
    "from utils.post_processing_utils import get_all_experimental_records\n",
    "from utils.plotting_visuals import makes_plots_pretty\n",
    "from matplotlib.ticker import MaxNLocator\n",
    "import matplotlib.pyplot as plt\n",
    "import statsmodels.api as sm\n",
    "import numpy as np\n",
    "import pandas as pd\n",
    "from utils.plotting import output_significance_stars_from_pval, calculate_error_bars\n",
    "from utils.plotting_visuals import makes_plots_pretty, set_plotting_defaults\n",
    "from utils.stats import cohen_d_one_sample\n",
    "from statsmodels.stats.multitest import multipletests"
   ]
  },
  {
   "cell_type": "code",
   "execution_count": 118,
   "metadata": {},
   "outputs": [],
   "source": [
    "def shift_respecting_index(vals_to_shift, shift_size):\n",
    "    \"\"\"\n",
    "    Shifts a pandas df column by shift_size indices\n",
    "    but if there is a discontinuity in the index,\n",
    "    replaces the shifted index with nan\n",
    "    \"\"\"\n",
    "    shifted_vals = vals_to_shift.shift(periods=shift_size)\n",
    "\n",
    "    # Detect discontinuities in the index\n",
    "    trial_num_diff = vals_to_shift.index.to_series().diff().fillna(shift_size)\n",
    "\n",
    "    # Identify where the shift should result in NaN due to discontinuities\n",
    "    discontinuities = trial_num_diff > shift_size\n",
    "    shifted_vals[discontinuities] = np.nan\n",
    "\n",
    "    \n",
    "    return shifted_vals\n"
   ]
  },
  {
   "cell_type": "code",
   "execution_count": 119,
   "metadata": {},
   "outputs": [],
   "source": [
    "def perform_single_lag_regression(all_session_data, lag):\n",
    "    all_session_data[f'choice_t_minus_{lag}'] = shift_respecting_index(all_session_data['choice'], lag)\n",
    "    all_session_data[f'stim_t_minus_{lag}'] = shift_respecting_index(all_session_data['Trial type'], lag)\n",
    "    all_session_data[f'stim_t_minus{lag}_match'] = (all_session_data[f'stim_t_minus_{lag}'] == all_session_data['Trial type'])\n",
    "    # Define the dependent variable (dopamine response size)\n",
    "    test_var = f'choice_t_minus_{lag}'\n",
    "\n",
    "\n",
    "    contra_trials = all_session_data[(all_session_data['trial_type'] == 'contra_data')\n",
    "                                     & (all_session_data[f'stim_t_minus{lag}_match'] == True)\n",
    "                                    & (all_session_data['First choice correct'] == 1)]\n",
    "    \n",
    "\n",
    "    \n",
    "    df = contra_trials[['APE_peaks', test_var]].copy()\n",
    "    df.loc[:, test_var] = df[test_var].astype(float)\n",
    "    df.loc[:, 'APE_peaks'] = df['APE_peaks'].apply(lambda x: np.nan if isinstance(x, np.ndarray) and x.size == 0 else x)\n",
    "\n",
    "    df.loc[:, 'APE_peaks'] = df['APE_peaks'].astype(float)\n",
    "    df = df.dropna().reset_index(drop=True)\n",
    "\n",
    "\n",
    "    y = df['APE_peaks'].astype(float)\n",
    "    X = df[test_var]\n",
    "    X = sm.add_constant(X)\n",
    "    # Fit the regression model\n",
    "    model = sm.OLS(y, X).fit()\n",
    "    return model.params[1:], model.pvalues[1:], all_session_data"
   ]
  },
  {
   "cell_type": "code",
   "execution_count": 120,
   "metadata": {},
   "outputs": [],
   "source": [
    "def regress_previous_choice_same_stim_against_DA(mice, num_lags=5):\n",
    "    num_mice = len(mice)\n",
    "    coefs = np.zeros([num_mice, num_lags])\n",
    "    pvals = np.zeros([num_mice, num_lags])\n",
    "    for m, mouse in enumerate(mice):\n",
    "        bias_file = os.path.join(bias_path, 'pre_processing_bias_{}.pkl'.format(mouse))\n",
    "        all_session_data = pd.read_pickle(bias_file).drop_duplicates(subset='actual trial nums', keep='first').set_index('actual trial nums')\n",
    "\n",
    "        contra_side = all_session_data[(all_session_data['trial_type'] == 'contra_data') & (all_session_data['First choice correct'] == 1)]['First response'].unique()[0]\n",
    "        if contra_side == 1:\n",
    "            ipsi_contra_map = {1: 'contra', 2: 'ipsi'} \n",
    "        else:\n",
    "            ipsi_contra_map = {1: 'ipsi', 2: 'contra'}\n",
    "        all_session_data['choice'] = all_session_data['First response'].map(ipsi_contra_map)\n",
    "\n",
    "        # Map 'choice' column to 1 and 0\n",
    "        all_session_data['choice'] = all_session_data['choice'].map({'contra': 1, 'ipsi': 0})\n",
    "\n",
    "        for lag in range(1, num_lags + 1):\n",
    "            coefs[m, lag-1], pvals[m, lag-1], _ = perform_single_lag_regression(all_session_data, lag)\n",
    "    return coefs, pvals"
   ]
  },
  {
   "cell_type": "code",
   "execution_count": 125,
   "metadata": {},
   "outputs": [],
   "source": [
    "def plot_sig_stars_multilag(coefs, color, axs):\n",
    "    second_order_coefs, second_order_pvals, second_order_cohens = test_for_coef_trend_against_zero_multi_lag(coefs)\n",
    "    print(second_order_pvals)\n",
    "    for lag_num in range(0, len(second_order_coefs)):\n",
    "        sig_stars = output_significance_stars_from_pval(second_order_pvals[lag_num])\n",
    "        if sig_stars != 'n.s.':\n",
    "            if second_order_coefs[lag_num] >= 0:\n",
    "                y = 0.3\n",
    "            else:\n",
    "                y=-0.45\n",
    "            axs.text(lag_num + 1, y, sig_stars, ha='center', fontsize=12, color=color)\n",
    "    return second_order_coefs, second_order_pvals, second_order_cohens"
   ]
  },
  {
   "cell_type": "code",
   "execution_count": 129,
   "metadata": {},
   "outputs": [],
   "source": [
    "def test_for_coef_trend_against_zero_multi_lag(coefs):\n",
    "    pvals = []\n",
    "    slopes = []\n",
    "    cohens_d = []\n",
    "    for lag_num in range(0, coefs.shape[1]):\n",
    "        test = stats.ttest_1samp(coefs.T[lag_num], 0)\n",
    "        pvals.append(test.pvalue)\n",
    "        slopes.append(test.statistic)\n",
    "        cohens_d.append(cohen_d_one_sample(coefs.T[lag_num]))\n",
    "    corrected_pvals_bonferroni = multipletests(pvals, method='bonferroni')[1]\n",
    "    return slopes, corrected_pvals_bonferroni, cohensd"
   ]
  },
  {
   "cell_type": "code",
   "execution_count": 130,
   "metadata": {},
   "outputs": [],
   "source": [
    "def plot_multilag_coefs_accross_mice(recording_site, coefs, axs, color='blue'):\n",
    "    # Calculate the mean and SEM across axis=0\n",
    "    mean_coefs = np.mean(coefs, axis=0)\n",
    "    sem_coefs = stats.sem(coefs, axis=0)\n",
    "\n",
    "    # Create the x-axis values\n",
    "    x = (np.arange(mean_coefs.shape[0]) + 1).astype(int)\n",
    "\n",
    "    # Plot the mean\n",
    "    axs.plot(x, mean_coefs, label=recording_site, color=color)\n",
    "\n",
    "\n",
    "    # Plot the shaded error bars using SEM\n",
    "    axs.fill_between(x, mean_coefs - sem_coefs, mean_coefs + sem_coefs, color=color, alpha=0.3, label='')\n",
    "    coefs, pvals, cohensd = plot_sig_stars_multilag(coefs, color, axs)\n",
    "    # Adding labels and legend\n",
    "    axs.set_ylabel('Regression coef')\n",
    "    axs.set_xlabel('Number of trials back')\n",
    "    axs.set_ylim([-0.5, 0.5])\n",
    "    plt.legend(frameon=False)\n",
    "    return coefs, pvals, cohensd"
   ]
  },
  {
   "cell_type": "code",
   "execution_count": 131,
   "metadata": {},
   "outputs": [
    {
     "name": "stdout",
     "output_type": "stream",
     "text": [
      "cohen d:  -1.7203788587865836\n",
      "cohen d:  -1.1304550333103485\n",
      "cohen d:  -1.128963975616629\n",
      "cohen d:  -0.8422556251165708\n",
      "cohen d:  -0.7496119535745245\n",
      "[0.04187774 0.19705102 0.19790565 0.47030956 0.62883044]\n",
      "cohen d:  2.2308594265337067\n",
      "cohen d:  0.3739297823296508\n",
      "cohen d:  0.23417360201401882\n",
      "cohen d:  0.171305115255186\n",
      "cohen d:  0.12971280764442011\n",
      "[0.00525561 1.         1.         1.         1.        ]\n"
     ]
    },
    {
     "ename": "PermissionError",
     "evalue": "[Errno 13] Permission denied: 'S:\\\\projects\\\\APE_data_francesca_for_paper\\\\figures\\\\multilag_regression_choice_effect_on_APE.pdf'",
     "output_type": "error",
     "traceback": [
      "\u001b[1;31m---------------------------------------------------------------------------\u001b[0m",
      "\u001b[1;31mPermissionError\u001b[0m                           Traceback (most recent call last)",
      "Input \u001b[1;32mIn [131]\u001b[0m, in \u001b[0;36m<cell line: 16>\u001b[1;34m()\u001b[0m\n\u001b[0;32m     14\u001b[0m axs\u001b[38;5;241m.\u001b[39mxaxis\u001b[38;5;241m.\u001b[39mset_major_locator(MaxNLocator(integer\u001b[38;5;241m=\u001b[39m\u001b[38;5;28;01mTrue\u001b[39;00m))\n\u001b[0;32m     15\u001b[0m plt\u001b[38;5;241m.\u001b[39mtight_layout()\n\u001b[1;32m---> 16\u001b[0m \u001b[43mplt\u001b[49m\u001b[38;5;241;43m.\u001b[39;49m\u001b[43msavefig\u001b[49m\u001b[43m(\u001b[49m\u001b[43mos\u001b[49m\u001b[38;5;241;43m.\u001b[39;49m\u001b[43mpath\u001b[49m\u001b[38;5;241;43m.\u001b[39;49m\u001b[43mjoin\u001b[49m\u001b[43m(\u001b[49m\u001b[43mfigure_directory\u001b[49m\u001b[43m,\u001b[49m\u001b[43m \u001b[49m\u001b[38;5;124;43m'\u001b[39;49m\u001b[38;5;124;43mmultilag_regression_choice_effect_on_APE.pdf\u001b[39;49m\u001b[38;5;124;43m'\u001b[39;49m\u001b[43m)\u001b[49m\u001b[43m)\u001b[49m\n",
      "File \u001b[1;32m~\\AppData\\Local\\Continuum\\miniconda3\\envs\\py38\\lib\\site-packages\\matplotlib\\pyplot.py:958\u001b[0m, in \u001b[0;36msavefig\u001b[1;34m(*args, **kwargs)\u001b[0m\n\u001b[0;32m    955\u001b[0m \u001b[38;5;129m@_copy_docstring_and_deprecators\u001b[39m(Figure\u001b[38;5;241m.\u001b[39msavefig)\n\u001b[0;32m    956\u001b[0m \u001b[38;5;28;01mdef\u001b[39;00m \u001b[38;5;21msavefig\u001b[39m(\u001b[38;5;241m*\u001b[39margs, \u001b[38;5;241m*\u001b[39m\u001b[38;5;241m*\u001b[39mkwargs):\n\u001b[0;32m    957\u001b[0m     fig \u001b[38;5;241m=\u001b[39m gcf()\n\u001b[1;32m--> 958\u001b[0m     res \u001b[38;5;241m=\u001b[39m \u001b[43mfig\u001b[49m\u001b[38;5;241;43m.\u001b[39;49m\u001b[43msavefig\u001b[49m\u001b[43m(\u001b[49m\u001b[38;5;241;43m*\u001b[39;49m\u001b[43margs\u001b[49m\u001b[43m,\u001b[49m\u001b[43m \u001b[49m\u001b[38;5;241;43m*\u001b[39;49m\u001b[38;5;241;43m*\u001b[39;49m\u001b[43mkwargs\u001b[49m\u001b[43m)\u001b[49m\n\u001b[0;32m    959\u001b[0m     fig\u001b[38;5;241m.\u001b[39mcanvas\u001b[38;5;241m.\u001b[39mdraw_idle()   \u001b[38;5;66;03m# need this if 'transparent=True' to reset colors\u001b[39;00m\n\u001b[0;32m    960\u001b[0m     \u001b[38;5;28;01mreturn\u001b[39;00m res\n",
      "File \u001b[1;32m~\\AppData\\Local\\Continuum\\miniconda3\\envs\\py38\\lib\\site-packages\\matplotlib\\figure.py:3019\u001b[0m, in \u001b[0;36mFigure.savefig\u001b[1;34m(self, fname, transparent, **kwargs)\u001b[0m\n\u001b[0;32m   3015\u001b[0m     \u001b[38;5;28;01mfor\u001b[39;00m ax \u001b[38;5;129;01min\u001b[39;00m \u001b[38;5;28mself\u001b[39m\u001b[38;5;241m.\u001b[39maxes:\n\u001b[0;32m   3016\u001b[0m         stack\u001b[38;5;241m.\u001b[39menter_context(\n\u001b[0;32m   3017\u001b[0m             ax\u001b[38;5;241m.\u001b[39mpatch\u001b[38;5;241m.\u001b[39m_cm_set(facecolor\u001b[38;5;241m=\u001b[39m\u001b[38;5;124m'\u001b[39m\u001b[38;5;124mnone\u001b[39m\u001b[38;5;124m'\u001b[39m, edgecolor\u001b[38;5;241m=\u001b[39m\u001b[38;5;124m'\u001b[39m\u001b[38;5;124mnone\u001b[39m\u001b[38;5;124m'\u001b[39m))\n\u001b[1;32m-> 3019\u001b[0m \u001b[38;5;28;43mself\u001b[39;49m\u001b[38;5;241;43m.\u001b[39;49m\u001b[43mcanvas\u001b[49m\u001b[38;5;241;43m.\u001b[39;49m\u001b[43mprint_figure\u001b[49m\u001b[43m(\u001b[49m\u001b[43mfname\u001b[49m\u001b[43m,\u001b[49m\u001b[43m \u001b[49m\u001b[38;5;241;43m*\u001b[39;49m\u001b[38;5;241;43m*\u001b[39;49m\u001b[43mkwargs\u001b[49m\u001b[43m)\u001b[49m\n",
      "File \u001b[1;32m~\\AppData\\Local\\Continuum\\miniconda3\\envs\\py38\\lib\\site-packages\\matplotlib\\backend_bases.py:2319\u001b[0m, in \u001b[0;36mFigureCanvasBase.print_figure\u001b[1;34m(self, filename, dpi, facecolor, edgecolor, orientation, format, bbox_inches, pad_inches, bbox_extra_artists, backend, **kwargs)\u001b[0m\n\u001b[0;32m   2315\u001b[0m \u001b[38;5;28;01mtry\u001b[39;00m:\n\u001b[0;32m   2316\u001b[0m     \u001b[38;5;66;03m# _get_renderer may change the figure dpi (as vector formats\u001b[39;00m\n\u001b[0;32m   2317\u001b[0m     \u001b[38;5;66;03m# force the figure dpi to 72), so we need to set it again here.\u001b[39;00m\n\u001b[0;32m   2318\u001b[0m     \u001b[38;5;28;01mwith\u001b[39;00m cbook\u001b[38;5;241m.\u001b[39m_setattr_cm(\u001b[38;5;28mself\u001b[39m\u001b[38;5;241m.\u001b[39mfigure, dpi\u001b[38;5;241m=\u001b[39mdpi):\n\u001b[1;32m-> 2319\u001b[0m         result \u001b[38;5;241m=\u001b[39m \u001b[43mprint_method\u001b[49m\u001b[43m(\u001b[49m\n\u001b[0;32m   2320\u001b[0m \u001b[43m            \u001b[49m\u001b[43mfilename\u001b[49m\u001b[43m,\u001b[49m\n\u001b[0;32m   2321\u001b[0m \u001b[43m            \u001b[49m\u001b[43mfacecolor\u001b[49m\u001b[38;5;241;43m=\u001b[39;49m\u001b[43mfacecolor\u001b[49m\u001b[43m,\u001b[49m\n\u001b[0;32m   2322\u001b[0m \u001b[43m            \u001b[49m\u001b[43medgecolor\u001b[49m\u001b[38;5;241;43m=\u001b[39;49m\u001b[43medgecolor\u001b[49m\u001b[43m,\u001b[49m\n\u001b[0;32m   2323\u001b[0m \u001b[43m            \u001b[49m\u001b[43morientation\u001b[49m\u001b[38;5;241;43m=\u001b[39;49m\u001b[43morientation\u001b[49m\u001b[43m,\u001b[49m\n\u001b[0;32m   2324\u001b[0m \u001b[43m            \u001b[49m\u001b[43mbbox_inches_restore\u001b[49m\u001b[38;5;241;43m=\u001b[39;49m\u001b[43m_bbox_inches_restore\u001b[49m\u001b[43m,\u001b[49m\n\u001b[0;32m   2325\u001b[0m \u001b[43m            \u001b[49m\u001b[38;5;241;43m*\u001b[39;49m\u001b[38;5;241;43m*\u001b[39;49m\u001b[43mkwargs\u001b[49m\u001b[43m)\u001b[49m\n\u001b[0;32m   2326\u001b[0m \u001b[38;5;28;01mfinally\u001b[39;00m:\n\u001b[0;32m   2327\u001b[0m     \u001b[38;5;28;01mif\u001b[39;00m bbox_inches \u001b[38;5;129;01mand\u001b[39;00m restore_bbox:\n",
      "File \u001b[1;32m~\\AppData\\Local\\Continuum\\miniconda3\\envs\\py38\\lib\\site-packages\\matplotlib\\backend_bases.py:1648\u001b[0m, in \u001b[0;36m_check_savefig_extra_args.<locals>.wrapper\u001b[1;34m(*args, **kwargs)\u001b[0m\n\u001b[0;32m   1640\u001b[0m     _api\u001b[38;5;241m.\u001b[39mwarn_deprecated(\n\u001b[0;32m   1641\u001b[0m         \u001b[38;5;124m'\u001b[39m\u001b[38;5;124m3.3\u001b[39m\u001b[38;5;124m'\u001b[39m, name\u001b[38;5;241m=\u001b[39mname, removal\u001b[38;5;241m=\u001b[39m\u001b[38;5;124m'\u001b[39m\u001b[38;5;124m3.6\u001b[39m\u001b[38;5;124m'\u001b[39m,\n\u001b[0;32m   1642\u001b[0m         message\u001b[38;5;241m=\u001b[39m\u001b[38;5;124m'\u001b[39m\u001b[38;5;132;01m%(name)s\u001b[39;00m\u001b[38;5;124m() got unexpected keyword argument \u001b[39m\u001b[38;5;124m\"\u001b[39m\u001b[38;5;124m'\u001b[39m\n\u001b[0;32m   1643\u001b[0m                 \u001b[38;5;241m+\u001b[39m arg \u001b[38;5;241m+\u001b[39m \u001b[38;5;124m'\u001b[39m\u001b[38;5;124m\"\u001b[39m\u001b[38;5;124m which is no longer supported as of \u001b[39m\u001b[38;5;124m'\u001b[39m\n\u001b[0;32m   1644\u001b[0m                 \u001b[38;5;124m'\u001b[39m\u001b[38;5;132;01m%(since)s\u001b[39;00m\u001b[38;5;124m and will become an error \u001b[39m\u001b[38;5;124m'\u001b[39m\n\u001b[0;32m   1645\u001b[0m                 \u001b[38;5;124m'\u001b[39m\u001b[38;5;132;01m%(removal)s\u001b[39;00m\u001b[38;5;124m'\u001b[39m)\n\u001b[0;32m   1646\u001b[0m     kwargs\u001b[38;5;241m.\u001b[39mpop(arg)\n\u001b[1;32m-> 1648\u001b[0m \u001b[38;5;28;01mreturn\u001b[39;00m \u001b[43mfunc\u001b[49m\u001b[43m(\u001b[49m\u001b[38;5;241;43m*\u001b[39;49m\u001b[43margs\u001b[49m\u001b[43m,\u001b[49m\u001b[43m \u001b[49m\u001b[38;5;241;43m*\u001b[39;49m\u001b[38;5;241;43m*\u001b[39;49m\u001b[43mkwargs\u001b[49m\u001b[43m)\u001b[49m\n",
      "File \u001b[1;32m~\\AppData\\Local\\Continuum\\miniconda3\\envs\\py38\\lib\\site-packages\\matplotlib\\_api\\deprecation.py:386\u001b[0m, in \u001b[0;36mdelete_parameter.<locals>.wrapper\u001b[1;34m(*inner_args, **inner_kwargs)\u001b[0m\n\u001b[0;32m    381\u001b[0m \u001b[38;5;129m@functools\u001b[39m\u001b[38;5;241m.\u001b[39mwraps(func)\n\u001b[0;32m    382\u001b[0m \u001b[38;5;28;01mdef\u001b[39;00m \u001b[38;5;21mwrapper\u001b[39m(\u001b[38;5;241m*\u001b[39minner_args, \u001b[38;5;241m*\u001b[39m\u001b[38;5;241m*\u001b[39minner_kwargs):\n\u001b[0;32m    383\u001b[0m     \u001b[38;5;28;01mif\u001b[39;00m \u001b[38;5;28mlen\u001b[39m(inner_args) \u001b[38;5;241m<\u001b[39m\u001b[38;5;241m=\u001b[39m name_idx \u001b[38;5;129;01mand\u001b[39;00m name \u001b[38;5;129;01mnot\u001b[39;00m \u001b[38;5;129;01min\u001b[39;00m inner_kwargs:\n\u001b[0;32m    384\u001b[0m         \u001b[38;5;66;03m# Early return in the simple, non-deprecated case (much faster than\u001b[39;00m\n\u001b[0;32m    385\u001b[0m         \u001b[38;5;66;03m# calling bind()).\u001b[39;00m\n\u001b[1;32m--> 386\u001b[0m         \u001b[38;5;28;01mreturn\u001b[39;00m \u001b[43mfunc\u001b[49m\u001b[43m(\u001b[49m\u001b[38;5;241;43m*\u001b[39;49m\u001b[43minner_args\u001b[49m\u001b[43m,\u001b[49m\u001b[43m \u001b[49m\u001b[38;5;241;43m*\u001b[39;49m\u001b[38;5;241;43m*\u001b[39;49m\u001b[43minner_kwargs\u001b[49m\u001b[43m)\u001b[49m\n\u001b[0;32m    387\u001b[0m     arguments \u001b[38;5;241m=\u001b[39m signature\u001b[38;5;241m.\u001b[39mbind(\u001b[38;5;241m*\u001b[39minner_args, \u001b[38;5;241m*\u001b[39m\u001b[38;5;241m*\u001b[39minner_kwargs)\u001b[38;5;241m.\u001b[39marguments\n\u001b[0;32m    388\u001b[0m     \u001b[38;5;28;01mif\u001b[39;00m is_varargs \u001b[38;5;129;01mand\u001b[39;00m arguments\u001b[38;5;241m.\u001b[39mget(name):\n",
      "File \u001b[1;32m~\\AppData\\Local\\Continuum\\miniconda3\\envs\\py38\\lib\\site-packages\\matplotlib\\backends\\backend_pdf.py:2778\u001b[0m, in \u001b[0;36mFigureCanvasPdf.print_pdf\u001b[1;34m(self, filename, dpi, bbox_inches_restore, metadata)\u001b[0m\n\u001b[0;32m   2776\u001b[0m     file \u001b[38;5;241m=\u001b[39m filename\u001b[38;5;241m.\u001b[39m_file\n\u001b[0;32m   2777\u001b[0m \u001b[38;5;28;01melse\u001b[39;00m:\n\u001b[1;32m-> 2778\u001b[0m     file \u001b[38;5;241m=\u001b[39m \u001b[43mPdfFile\u001b[49m\u001b[43m(\u001b[49m\u001b[43mfilename\u001b[49m\u001b[43m,\u001b[49m\u001b[43m \u001b[49m\u001b[43mmetadata\u001b[49m\u001b[38;5;241;43m=\u001b[39;49m\u001b[43mmetadata\u001b[49m\u001b[43m)\u001b[49m\n\u001b[0;32m   2779\u001b[0m \u001b[38;5;28;01mtry\u001b[39;00m:\n\u001b[0;32m   2780\u001b[0m     file\u001b[38;5;241m.\u001b[39mnewPage(width, height)\n",
      "File \u001b[1;32m~\\AppData\\Local\\Continuum\\miniconda3\\envs\\py38\\lib\\site-packages\\matplotlib\\backends\\backend_pdf.py:654\u001b[0m, in \u001b[0;36mPdfFile.__init__\u001b[1;34m(self, filename, metadata)\u001b[0m\n\u001b[0;32m    652\u001b[0m \u001b[38;5;28mself\u001b[39m\u001b[38;5;241m.\u001b[39moriginal_file_like \u001b[38;5;241m=\u001b[39m \u001b[38;5;28;01mNone\u001b[39;00m\n\u001b[0;32m    653\u001b[0m \u001b[38;5;28mself\u001b[39m\u001b[38;5;241m.\u001b[39mtell_base \u001b[38;5;241m=\u001b[39m \u001b[38;5;241m0\u001b[39m\n\u001b[1;32m--> 654\u001b[0m fh, opened \u001b[38;5;241m=\u001b[39m \u001b[43mcbook\u001b[49m\u001b[38;5;241;43m.\u001b[39;49m\u001b[43mto_filehandle\u001b[49m\u001b[43m(\u001b[49m\u001b[43mfilename\u001b[49m\u001b[43m,\u001b[49m\u001b[43m \u001b[49m\u001b[38;5;124;43m\"\u001b[39;49m\u001b[38;5;124;43mwb\u001b[39;49m\u001b[38;5;124;43m\"\u001b[39;49m\u001b[43m,\u001b[49m\u001b[43m \u001b[49m\u001b[43mreturn_opened\u001b[49m\u001b[38;5;241;43m=\u001b[39;49m\u001b[38;5;28;43;01mTrue\u001b[39;49;00m\u001b[43m)\u001b[49m\n\u001b[0;32m    655\u001b[0m \u001b[38;5;28;01mif\u001b[39;00m \u001b[38;5;129;01mnot\u001b[39;00m opened:\n\u001b[0;32m    656\u001b[0m     \u001b[38;5;28;01mtry\u001b[39;00m:\n",
      "File \u001b[1;32m~\\AppData\\Local\\Continuum\\miniconda3\\envs\\py38\\lib\\site-packages\\matplotlib\\cbook\\__init__.py:451\u001b[0m, in \u001b[0;36mto_filehandle\u001b[1;34m(fname, flag, return_opened, encoding)\u001b[0m\n\u001b[0;32m    449\u001b[0m         fh \u001b[38;5;241m=\u001b[39m bz2\u001b[38;5;241m.\u001b[39mBZ2File(fname, flag)\n\u001b[0;32m    450\u001b[0m     \u001b[38;5;28;01melse\u001b[39;00m:\n\u001b[1;32m--> 451\u001b[0m         fh \u001b[38;5;241m=\u001b[39m \u001b[38;5;28;43mopen\u001b[39;49m\u001b[43m(\u001b[49m\u001b[43mfname\u001b[49m\u001b[43m,\u001b[49m\u001b[43m \u001b[49m\u001b[43mflag\u001b[49m\u001b[43m,\u001b[49m\u001b[43m \u001b[49m\u001b[43mencoding\u001b[49m\u001b[38;5;241;43m=\u001b[39;49m\u001b[43mencoding\u001b[49m\u001b[43m)\u001b[49m\n\u001b[0;32m    452\u001b[0m     opened \u001b[38;5;241m=\u001b[39m \u001b[38;5;28;01mTrue\u001b[39;00m\n\u001b[0;32m    453\u001b[0m \u001b[38;5;28;01melif\u001b[39;00m \u001b[38;5;28mhasattr\u001b[39m(fname, \u001b[38;5;124m'\u001b[39m\u001b[38;5;124mseek\u001b[39m\u001b[38;5;124m'\u001b[39m):\n",
      "\u001b[1;31mPermissionError\u001b[0m: [Errno 13] Permission denied: 'S:\\\\projects\\\\APE_data_francesca_for_paper\\\\figures\\\\multilag_regression_choice_effect_on_APE.pdf'"
     ]
    },
    {
     "data": {
      "image/png": "[encoded data removed]",
      "text/plain": [
       "<Figure size 144x180 with 1 Axes>"
      ]
     },
     "metadata": {
      "needs_background": "light"
     },
     "output_type": "display_data"
    }
   ],
   "source": [
    "set_plotting_defaults(font_size=8)\n",
    "fig, axs = plt.subplots(1,1, figsize=[2,2.5])\n",
    "labels = {'tail': 'TS', 'Nacc': 'VS cue'}\n",
    "cohensd = {}\n",
    "second_order_coefs = {}\n",
    "second_order_pvals = {}\n",
    "for recording_site in ['tail', 'Nacc']:\n",
    "    mice = change_over_time_mice[recording_site]\n",
    "    coefs, pvals = regress_previous_choice_same_stim_against_DA(mice)\n",
    "    second_order_coefs[recording_site], second_order_pvals[recording_site], cohensd[recording_site] = plot_multilag_coefs_accross_mice(labels[recording_site], coefs, axs, color=fig4_plotting_colours[recording_site][0])\n",
    "    makes_plots_pretty(axs)\n",
    "axs.plot([0.8, 5], [0, 0], ls='--', color='gray')\n",
    "axs.set_xlim([0.8,5])\n",
    "axs.xaxis.set_major_locator(MaxNLocator(integer=True))\n",
    "plt.tight_layout()\n",
    "plt.savefig(os.path.join(figure_directory, 'multilag_regression_choice_effect_on_APE.pdf'))"
   ]
  },
  {
   "cell_type": "code",
   "execution_count": 116,
   "metadata": {},
   "outputs": [
    {
     "data": {
      "text/plain": [
       "array([0.00525561, 1.        , 1.        , 1.        , 1.        ])"
      ]
     },
     "execution_count": 116,
     "metadata": {},
     "output_type": "execute_result"
    }
   ],
   "source": [
    "second_order_pvals['Nacc']"
   ]
  },
  {
   "cell_type": "code",
   "execution_count": 34,
   "metadata": {},
   "outputs": [
    {
     "ename": "NameError",
     "evalue": "name 'all_session_data' is not defined",
     "output_type": "error",
     "traceback": [
      "\u001b[1;31m---------------------------------------------------------------------------\u001b[0m",
      "\u001b[1;31mNameError\u001b[0m                                 Traceback (most recent call last)",
      "Input \u001b[1;32mIn [34]\u001b[0m, in \u001b[0;36m<cell line: 1>\u001b[1;34m()\u001b[0m\n\u001b[1;32m----> 1\u001b[0m \u001b[43mall_session_data\u001b[49m[[\u001b[38;5;124mf\u001b[39m\u001b[38;5;124m'\u001b[39m\u001b[38;5;124mchoice_t_minus_\u001b[39m\u001b[38;5;132;01m{\u001b[39;00m\u001b[38;5;241m1\u001b[39m\u001b[38;5;132;01m}\u001b[39;00m\u001b[38;5;124m'\u001b[39m, \u001b[38;5;124m'\u001b[39m\u001b[38;5;124mchoice\u001b[39m\u001b[38;5;124m'\u001b[39m]]\n",
      "\u001b[1;31mNameError\u001b[0m: name 'all_session_data' is not defined"
     ]
    }
   ],
   "source": [
    "all_session_data[[f'choice_t_minus_{1}', 'choice']]"
   ]
  },
  {
   "cell_type": "code",
   "execution_count": 366,
   "metadata": {},
   "outputs": [
    {
     "data": {
      "text/plain": [
       "([5.902299252552355], [0.0010511222928269192])"
      ]
     },
     "execution_count": 366,
     "metadata": {},
     "output_type": "execute_result"
    }
   ],
   "source": [
    "test_for_coef_trend_against_zero_mulit_lag(coefs)"
   ]
  },
  {
   "cell_type": "markdown",
   "metadata": {},
   "source": [
    "# Traces for one trial back\n"
   ]
  },
  {
   "cell_type": "code",
   "execution_count": 40,
   "metadata": {},
   "outputs": [],
   "source": [
    "def get_photometry_traces_previous_choice_same_stim(mouse, num_lags=5):\n",
    "    bias_file = os.path.join(bias_path, 'pre_processing_bias_{}.pkl'.format(mouse))\n",
    "    print('loading{}'.format(mouse))\n",
    "    all_session_data = pd.read_pickle(bias_file).drop_duplicates(subset='actual trial nums', keep='first').set_index('actual trial nums')\n",
    "\n",
    "    contra_side = all_session_data[(all_session_data['trial_type'] == 'contra_data') & (all_session_data['First choice correct'] == 1)]['First response'].unique()[0]\n",
    "    if contra_side == 1:\n",
    "        ipsi_contra_map = {1: 'contra', 2: 'ipsi'} \n",
    "    else:\n",
    "        ipsi_contra_map = {1: 'ipsi', 2: 'contra'}\n",
    "    all_session_data['choice'] = all_session_data['First response'].map(ipsi_contra_map)\n",
    "\n",
    "    # Map 'choice' column to 1 and 0\n",
    "    all_session_data['choice'] = all_session_data['choice'].map({'contra': 1, 'ipsi': 0})\n",
    "\n",
    "    for lag in range(1, num_lags + 1):\n",
    "        df = perform_single_lag_get_traces(all_session_data, lag)\n",
    "\n",
    "    return df"
   ]
  },
  {
   "cell_type": "code",
   "execution_count": 41,
   "metadata": {},
   "outputs": [],
   "source": [
    "def perform_single_lag_get_traces(all_session_data, lag):\n",
    "    all_session_data[f'choice_t_minus_{lag}'] = shift_respecting_index(all_session_data['choice'], lag)\n",
    "    all_session_data[f'stim_t_minus_{lag}'] = shift_respecting_index(all_session_data['Trial type'], lag)\n",
    "    all_session_data[f'stim_t_minus{lag}_match'] = (all_session_data[f'stim_t_minus_{lag}'] == all_session_data['Trial type'])\n",
    "    # Define the dependent variable (dopamine response size)\n",
    "    test_var = f'choice_t_minus_{lag}'\n",
    "\n",
    "\n",
    "    contra_trials = all_session_data[(all_session_data['trial_type'] == 'contra_data')\n",
    "                                     & (all_session_data[f'stim_t_minus{lag}_match'] == True)\n",
    "                                    & (all_session_data['First choice correct'] == 1)]\n",
    "    \n",
    "    \n",
    "    df = contra_trials[['APE_peaks', 'traces', test_var, 'time_points']].copy()\n",
    "    df.loc[:, 'APE_peaks'] = df['APE_peaks'].apply(lambda x: np.nan if isinstance(x, np.ndarray) and x.size == 0 else x)\n",
    "    df = df.dropna()\n",
    "    return df"
   ]
  },
  {
   "cell_type": "code",
   "execution_count": 42,
   "metadata": {},
   "outputs": [],
   "source": [
    "def plot_across_mice_traces_side(plotting_vals, axs, site, error_bar_method='sem'):\n",
    "    for trace_type in plotting_vals:\n",
    "        mean_trace = plotting_vals[trace_type][0]\n",
    "        error_bar_lower = plotting_vals[trace_type][1]\n",
    "        error_bar_upper = plotting_vals[trace_type][2]\n",
    "        colour_inds = {'contra': 0, 'ipsi': 1}\n",
    "        site_colours = fig4_plotting_colours[site]\n",
    "        colour = site_colours[colour_inds[trace_type]]\n",
    "        time_points = traces_df['time_points'].values[0]\n",
    "        axs.plot(time_points, mean_trace, lw=1, color=colour, label=trace_type)\n",
    "        axs.fill_between(time_points, error_bar_lower, error_bar_upper, alpha=0.5,\n",
    "                                     facecolor=colour, linewidth=0)\n",
    "    axs.set_ylabel('dLight z-score')\n",
    "    axs.set_xlabel('Time (s)')\n",
    "    axs.legend(title='Last choice', frameon=False, fontsize=8, title_fontsize=8)\n",
    "    makes_plots_pretty(axs)\n"
   ]
  },
  {
   "cell_type": "code",
   "execution_count": 51,
   "metadata": {},
   "outputs": [
    {
     "name": "stdout",
     "output_type": "stream",
     "text": [
      "loadingSNL_photo16\n",
      "loadingSNL_photo17\n",
      "loadingSNL_photo18\n",
      "loadingSNL_photo21\n",
      "loadingSNL_photo22\n",
      "loadingSNL_photo26\n"
     ]
    }
   ],
   "source": [
    "#fig, axs = plt.subplots(1,1, figsize=[3,3])\n",
    "all_contra_traces = []\n",
    "all_ipsi_traces = []\n",
    "for recording_site in ['tail']:\n",
    "    mice = change_over_time_mice[recording_site]\n",
    "    for m, mouse in enumerate(mice):\n",
    "        traces_df = get_photometry_traces_previous_choice_same_stim(mouse, num_lags=1)\n",
    "        last_choice_contra = traces_df[traces_df['choice_t_minus_1'] == 1]\n",
    "        last_choice_ipsi = traces_df[traces_df['choice_t_minus_1'] == 0]\n",
    "        time_points = traces_df['time_points'].values[0]\n",
    "        contra_mean_trace, _, _ = get_mean_and_sem_traces(last_choice_contra, time_points)\n",
    "        all_contra_traces.append(contra_mean_trace)\n",
    "        ipsi_mean_trace, _, _ = get_mean_and_sem_traces(last_choice_ipsi, time_points)\n",
    "        all_ipsi_traces.append(ipsi_mean_trace)\n",
    "\n",
    "contra_mean_over_mice_trace, error_bar_lower_c, error_bar_upper_c = get_mean_and_sem_accross_mice_traces(all_contra_traces, time_points)\n",
    "ipsi_mean_over_mice_trace, error_bar_lower_i, error_bar_upper_i = get_mean_and_sem_accross_mice_traces(all_ipsi_traces, time_points)\n",
    "plotting_params = {'contra': [contra_mean_over_mice_trace, error_bar_lower_c, error_bar_upper_c],\n",
    "                  'ipsi': [ipsi_mean_over_mice_trace, error_bar_lower_i, error_bar_upper_i]}\n"
   ]
  },
  {
   "cell_type": "code",
   "execution_count": 535,
   "metadata": {},
   "outputs": [
    {
     "data": {
      "image/png": "[encoded data removed]",
      "text/plain": [
       "<Figure size 216x216 with 1 Axes>"
      ]
     },
     "metadata": {
      "needs_background": "light"
     },
     "output_type": "display_data"
    }
   ],
   "source": [
    "fig, axs = plt.subplots(1,1, figsize=[3,3])\n",
    "plot_across_mice_traces_side(plotting_params, axs, recording_site)"
   ]
  },
  {
   "cell_type": "code",
   "execution_count": 47,
   "metadata": {},
   "outputs": [],
   "source": [
    "def get_mean_and_sem_accross_mice_traces(all_mean_traces, time_points, error_bar_method='sem'):\n",
    "    array_traces = np.zeros([traces_df.shape[0], time_points.shape[0]])\n",
    "    for i, trace in enumerate(all_mean_traces):\n",
    "        array_traces[i, :] = all_mean_traces[i]\n",
    "    mean_trace = array_traces.mean(axis=0)\n",
    "    error_bar_lower, error_bar_upper = calculate_error_bars(mean_trace,\n",
    "                                                                    array_traces,\n",
    "                                                                    error_bar_method=error_bar_method)\n",
    "    return mean_trace, error_bar_lower, error_bar_upper"
   ]
  },
  {
   "cell_type": "code",
   "execution_count": 45,
   "metadata": {},
   "outputs": [],
   "source": [
    "def get_mean_and_sem_traces(traces_df, time_points, error_bar_method='sem'):\n",
    "    array_traces = np.zeros([traces_df.shape[0], time_points.shape[0]])\n",
    "    r=0\n",
    "    for _, row in traces_df.iterrows():\n",
    "        array_traces[r, :] = row.traces\n",
    "        r+=1\n",
    "    mean_trace = array_traces.mean(axis=0)\n",
    "    error_bar_lower, error_bar_upper = calculate_error_bars(mean_trace,\n",
    "                                                                    array_traces,\n",
    "                                                                    error_bar_method=error_bar_method)\n",
    "    return mean_trace, error_bar_lower, error_bar_upper\n",
    "\n",
    "def plot_example_mouse_traces_side(traces_df, trace_type, axs, site, error_bar_method='sem'):\n",
    "    colour_inds = {'contra': 0, 'ipsi': 1}\n",
    "    site_colours = fig4_plotting_colours[site]\n",
    "    colour = site_colours[colour_inds[trace_type]]\n",
    "    time_points = traces_df['time_points'].values[0]\n",
    "    mean_trace, error_bar_lower, error_bar_upper = get_mean_and_sem_traces(traces_df, time_points)\n",
    "    axs.plot(time_points, mean_trace, lw=1, color=colour, label=trace_type)\n",
    "    axs.fill_between(time_points, error_bar_lower, error_bar_upper, alpha=0.5,\n",
    "                                 facecolor=colour, linewidth=0)\n",
    "    axs.set_ylabel('dLight z-score')\n",
    "    axs.set_xlabel('Time (s)')\n",
    "    axs.legend(title='Last choice', frameon=False, fontsize=8, title_fontsize=8)\n",
    "    makes_plots_pretty(axs)\n"
   ]
  },
  {
   "cell_type": "code",
   "execution_count": 48,
   "metadata": {},
   "outputs": [
    {
     "name": "stdout",
     "output_type": "stream",
     "text": [
      "loadingSNL_photo17\n"
     ]
    },
    {
     "data": {
      "image/png": "[encoded data removed]",
      "text/plain": [
       "<Figure size 144x144 with 1 Axes>"
      ]
     },
     "metadata": {
      "needs_background": "light"
     },
     "output_type": "display_data"
    }
   ],
   "source": [
    "# Example mouse\n",
    "mouse = 'SNL_photo17'\n",
    "site = 'tail'\n",
    "traces_df = get_photometry_traces_previous_choice_same_stim(mouse, num_lags=1)\n",
    "last_choice_contra = traces_df[traces_df['choice_t_minus_1'] == 1]\n",
    "last_choice_ipsi = traces_df[traces_df['choice_t_minus_1'] == 0]\n",
    "fig, axs = plt.subplots(1,1, figsize=[2,2])\n",
    "plot_example_mouse_traces_side(last_choice_contra, 'contra', axs, site)\n",
    "plot_example_mouse_traces_side(last_choice_ipsi, 'ipsi', axs, site)\n",
    "plt.tight_layout()\n",
    "plt.savefig(os.path.join(figure_directory, 'TS_example_last_choice_side_effect_on_APE.pdf'))"
   ]
  },
  {
   "cell_type": "code",
   "execution_count": 50,
   "metadata": {},
   "outputs": [
    {
     "name": "stdout",
     "output_type": "stream",
     "text": [
      "loadingSNL_photo33\n"
     ]
    },
    {
     "data": {
      "image/png": "[encoded data removed]",
      "text/plain": [
       "<Figure size 144x144 with 1 Axes>"
      ]
     },
     "metadata": {
      "needs_background": "light"
     },
     "output_type": "display_data"
    }
   ],
   "source": [
    "# Example mouse\n",
    "site = 'Nacc'\n",
    "mouse = change_over_time_mice[site][4]\n",
    "traces_df = get_photometry_traces_previous_choice_same_stim(mouse, num_lags=1)\n",
    "last_choice_contra = traces_df[traces_df['choice_t_minus_1'] == 1]\n",
    "last_choice_ipsi = traces_df[traces_df['choice_t_minus_1'] == 0]\n",
    "fig, axs = plt.subplots(1,1, figsize=[2,2])\n",
    "plot_example_mouse_traces_side(last_choice_contra, 'contra', axs, site)\n",
    "plot_example_mouse_traces_side(last_choice_ipsi, 'ipsi', axs, site)\n",
    "plt.tight_layout()\n",
    "plt.savefig(os.path.join(figure_directory, 'VS_example_last_choice_side_effect_on_APE.pdf'))"
   ]
  },
  {
   "cell_type": "code",
   "execution_count": null,
   "metadata": {},
   "outputs": [],
   "source": []
  }
 ],
 "metadata": {
  "kernelspec": {
   "display_name": "Python 3 (ipykernel)",
   "language": "python",
   "name": "python3"
  },
  "language_info": {
   "codemirror_mode": {
    "name": "ipython",
    "version": 3
   },
   "file_extension": ".py",
   "mimetype": "text/x-python",
   "name": "python",
   "nbconvert_exporter": "python",
   "pygments_lexer": "ipython3",
   "version": "3.8.13"
  }
 },
 "nbformat": 4,
 "nbformat_minor": 4
}
