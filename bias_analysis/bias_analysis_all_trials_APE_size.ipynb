{
 "cells": [
  {
   "cell_type": "code",
   "execution_count": 4,
   "metadata": {},
   "outputs": [],
   "source": [
    "from scipy import stats\n",
    "import os\n",
    "import sys\n",
    "sys.path.append('..')\n",
    "import seaborn as sns\n",
    "from utils.tracking_analysis.tracking_plotting import *\n",
    "from set_global_params import raw_tracking_path, processed_data_path, bias_path\n",
    "from utils.reaction_time_utils import get_bpod_trial_nums_per_session\n",
    "from utils.post_processing_utils import get_all_experimental_records\n",
    "from utils.post_processing_utils import remove_exps_after_manipulations, remove_unsuitable_recordings, remove_manipulation_days\n",
    "from utils.plotting_visuals import makes_plots_pretty\n",
    "from utils.behaviour_utils import CalculateRBiasWindow"
   ]
  },
  {
   "cell_type": "code",
   "execution_count": 6,
   "metadata": {
    "scrolled": true
   },
   "outputs": [],
   "source": [
    "mouse = 'SNL_photo26' #example_mouse_used_in_paper\n",
    "recording_site = 'tail'\n",
    "bias_file = os.path.join(bias_path, 'pre_processing_bias_{}.pkl'.format(mouse))"
   ]
  },
  {
   "cell_type": "code",
   "execution_count": 10,
   "metadata": {},
   "outputs": [],
   "source": [
    "all_session_data = pd.read_pickle(bias_file).drop_duplicates(subset='trial_nums', keep='first')\n"
   ]
  },
  {
   "cell_type": "code",
   "execution_count": 11,
   "metadata": {},
   "outputs": [
    {
     "data": {
      "text/html": [
       "<div>\n",
       "<style scoped>\n",
       "    .dataframe tbody tr th:only-of-type {\n",
       "        vertical-align: middle;\n",
       "    }\n",
       "\n",
       "    .dataframe tbody tr th {\n",
       "        vertical-align: top;\n",
       "    }\n",
       "\n",
       "    .dataframe thead th {\n",
       "        text-align: right;\n",
       "    }\n",
       "</style>\n",
       "<table border=\"1\" class=\"dataframe\">\n",
       "  <thead>\n",
       "    <tr style=\"text-align: right;\">\n",
       "      <th></th>\n",
       "      <th>Sound type</th>\n",
       "      <th>trial_nums</th>\n",
       "      <th>Trial type</th>\n",
       "      <th>State type</th>\n",
       "      <th>Instance in state</th>\n",
       "      <th>Max times in state</th>\n",
       "      <th>State name</th>\n",
       "      <th>Time start</th>\n",
       "      <th>Time end</th>\n",
       "      <th>Response</th>\n",
       "      <th>...</th>\n",
       "      <th>Last outcome</th>\n",
       "      <th>Trial start</th>\n",
       "      <th>Trial end</th>\n",
       "      <th>Trial outcome</th>\n",
       "      <th>First response</th>\n",
       "      <th>First choice correct</th>\n",
       "      <th>reaction_times</th>\n",
       "      <th>APE_peaks</th>\n",
       "      <th>trial_type</th>\n",
       "      <th>actual trial nums</th>\n",
       "    </tr>\n",
       "  </thead>\n",
       "  <tbody>\n",
       "    <tr>\n",
       "      <th>0</th>\n",
       "      <td>10.0</td>\n",
       "      <td>0.0</td>\n",
       "      <td>1.0</td>\n",
       "      <td>1.0</td>\n",
       "      <td>1.0</td>\n",
       "      <td>1.0</td>\n",
       "      <td>TrialStart</td>\n",
       "      <td>17.9741</td>\n",
       "      <td>17.9841</td>\n",
       "      <td>1.0</td>\n",
       "      <td>...</td>\n",
       "      <td>-1.0</td>\n",
       "      <td>17.9741</td>\n",
       "      <td>105.4830</td>\n",
       "      <td>1.0</td>\n",
       "      <td>1.0</td>\n",
       "      <td>1.0</td>\n",
       "      <td>2.1301</td>\n",
       "      <td>3.098817</td>\n",
       "      <td>contra_data</td>\n",
       "      <td>737.0</td>\n",
       "    </tr>\n",
       "    <tr>\n",
       "      <th>9</th>\n",
       "      <td>10.0</td>\n",
       "      <td>1.0</td>\n",
       "      <td>7.0</td>\n",
       "      <td>1.0</td>\n",
       "      <td>1.0</td>\n",
       "      <td>1.0</td>\n",
       "      <td>TrialStart</td>\n",
       "      <td>105.7134</td>\n",
       "      <td>105.7234</td>\n",
       "      <td>2.0</td>\n",
       "      <td>...</td>\n",
       "      <td>1.0</td>\n",
       "      <td>105.7134</td>\n",
       "      <td>119.2539</td>\n",
       "      <td>1.0</td>\n",
       "      <td>2.0</td>\n",
       "      <td>1.0</td>\n",
       "      <td>0.4444</td>\n",
       "      <td>1.491182</td>\n",
       "      <td>ipsi_data</td>\n",
       "      <td>738.0</td>\n",
       "    </tr>\n",
       "    <tr>\n",
       "      <th>18</th>\n",
       "      <td>10.0</td>\n",
       "      <td>2.0</td>\n",
       "      <td>1.0</td>\n",
       "      <td>1.0</td>\n",
       "      <td>1.0</td>\n",
       "      <td>1.0</td>\n",
       "      <td>TrialStart</td>\n",
       "      <td>119.4172</td>\n",
       "      <td>119.4272</td>\n",
       "      <td>1.0</td>\n",
       "      <td>...</td>\n",
       "      <td>1.0</td>\n",
       "      <td>119.4172</td>\n",
       "      <td>124.2858</td>\n",
       "      <td>1.0</td>\n",
       "      <td>1.0</td>\n",
       "      <td>1.0</td>\n",
       "      <td>0.7490</td>\n",
       "      <td>1.594546</td>\n",
       "      <td>contra_data</td>\n",
       "      <td>739.0</td>\n",
       "    </tr>\n",
       "    <tr>\n",
       "      <th>26</th>\n",
       "      <td>10.0</td>\n",
       "      <td>3.0</td>\n",
       "      <td>1.0</td>\n",
       "      <td>1.0</td>\n",
       "      <td>1.0</td>\n",
       "      <td>1.0</td>\n",
       "      <td>TrialStart</td>\n",
       "      <td>124.4519</td>\n",
       "      <td>124.4619</td>\n",
       "      <td>1.0</td>\n",
       "      <td>...</td>\n",
       "      <td>1.0</td>\n",
       "      <td>124.4519</td>\n",
       "      <td>138.9796</td>\n",
       "      <td>1.0</td>\n",
       "      <td>2.0</td>\n",
       "      <td>0.0</td>\n",
       "      <td>NaN</td>\n",
       "      <td>NaN</td>\n",
       "      <td>NaN</td>\n",
       "      <td>740.0</td>\n",
       "    </tr>\n",
       "    <tr>\n",
       "      <th>34</th>\n",
       "      <td>10.0</td>\n",
       "      <td>4.0</td>\n",
       "      <td>1.0</td>\n",
       "      <td>1.0</td>\n",
       "      <td>1.0</td>\n",
       "      <td>1.0</td>\n",
       "      <td>TrialStart</td>\n",
       "      <td>139.1437</td>\n",
       "      <td>139.1537</td>\n",
       "      <td>1.0</td>\n",
       "      <td>...</td>\n",
       "      <td>1.0</td>\n",
       "      <td>139.1437</td>\n",
       "      <td>144.1054</td>\n",
       "      <td>1.0</td>\n",
       "      <td>2.0</td>\n",
       "      <td>0.0</td>\n",
       "      <td>NaN</td>\n",
       "      <td>NaN</td>\n",
       "      <td>NaN</td>\n",
       "      <td>741.0</td>\n",
       "    </tr>\n",
       "    <tr>\n",
       "      <th>...</th>\n",
       "      <td>...</td>\n",
       "      <td>...</td>\n",
       "      <td>...</td>\n",
       "      <td>...</td>\n",
       "      <td>...</td>\n",
       "      <td>...</td>\n",
       "      <td>...</td>\n",
       "      <td>...</td>\n",
       "      <td>...</td>\n",
       "      <td>...</td>\n",
       "      <td>...</td>\n",
       "      <td>...</td>\n",
       "      <td>...</td>\n",
       "      <td>...</td>\n",
       "      <td>...</td>\n",
       "      <td>...</td>\n",
       "      <td>...</td>\n",
       "      <td>...</td>\n",
       "      <td>...</td>\n",
       "      <td>...</td>\n",
       "      <td>...</td>\n",
       "    </tr>\n",
       "    <tr>\n",
       "      <th>32172</th>\n",
       "      <td>NaN</td>\n",
       "      <td>552.0</td>\n",
       "      <td>7.0</td>\n",
       "      <td>1.0</td>\n",
       "      <td>1.0</td>\n",
       "      <td>1.0</td>\n",
       "      <td>TrialStart</td>\n",
       "      <td>3853.6938</td>\n",
       "      <td>3853.7038</td>\n",
       "      <td>2.0</td>\n",
       "      <td>...</td>\n",
       "      <td>1.0</td>\n",
       "      <td>3853.6938</td>\n",
       "      <td>3856.2712</td>\n",
       "      <td>1.0</td>\n",
       "      <td>2.0</td>\n",
       "      <td>1.0</td>\n",
       "      <td>0.5448</td>\n",
       "      <td>1.226479</td>\n",
       "      <td>ipsi_data</td>\n",
       "      <td>7585.0</td>\n",
       "    </tr>\n",
       "    <tr>\n",
       "      <th>32180</th>\n",
       "      <td>NaN</td>\n",
       "      <td>553.0</td>\n",
       "      <td>7.0</td>\n",
       "      <td>1.0</td>\n",
       "      <td>1.0</td>\n",
       "      <td>1.0</td>\n",
       "      <td>TrialStart</td>\n",
       "      <td>3856.4280</td>\n",
       "      <td>3856.4380</td>\n",
       "      <td>2.0</td>\n",
       "      <td>...</td>\n",
       "      <td>1.0</td>\n",
       "      <td>3856.4280</td>\n",
       "      <td>3859.3285</td>\n",
       "      <td>1.0</td>\n",
       "      <td>2.0</td>\n",
       "      <td>1.0</td>\n",
       "      <td>0.5095</td>\n",
       "      <td>0.696415</td>\n",
       "      <td>ipsi_data</td>\n",
       "      <td>7586.0</td>\n",
       "    </tr>\n",
       "    <tr>\n",
       "      <th>32188</th>\n",
       "      <td>NaN</td>\n",
       "      <td>554.0</td>\n",
       "      <td>7.0</td>\n",
       "      <td>1.0</td>\n",
       "      <td>1.0</td>\n",
       "      <td>1.0</td>\n",
       "      <td>TrialStart</td>\n",
       "      <td>3859.4752</td>\n",
       "      <td>3859.4852</td>\n",
       "      <td>2.0</td>\n",
       "      <td>...</td>\n",
       "      <td>1.0</td>\n",
       "      <td>3859.4752</td>\n",
       "      <td>3862.1542</td>\n",
       "      <td>1.0</td>\n",
       "      <td>2.0</td>\n",
       "      <td>1.0</td>\n",
       "      <td>0.5730</td>\n",
       "      <td>1.08449</td>\n",
       "      <td>ipsi_data</td>\n",
       "      <td>7587.0</td>\n",
       "    </tr>\n",
       "    <tr>\n",
       "      <th>32196</th>\n",
       "      <td>NaN</td>\n",
       "      <td>555.0</td>\n",
       "      <td>1.0</td>\n",
       "      <td>1.0</td>\n",
       "      <td>1.0</td>\n",
       "      <td>1.0</td>\n",
       "      <td>TrialStart</td>\n",
       "      <td>3862.3149</td>\n",
       "      <td>3862.3249</td>\n",
       "      <td>1.0</td>\n",
       "      <td>...</td>\n",
       "      <td>1.0</td>\n",
       "      <td>3862.3149</td>\n",
       "      <td>3865.6525</td>\n",
       "      <td>1.0</td>\n",
       "      <td>1.0</td>\n",
       "      <td>1.0</td>\n",
       "      <td>0.8476</td>\n",
       "      <td>1.763486</td>\n",
       "      <td>contra_data</td>\n",
       "      <td>7588.0</td>\n",
       "    </tr>\n",
       "    <tr>\n",
       "      <th>32204</th>\n",
       "      <td>NaN</td>\n",
       "      <td>556.0</td>\n",
       "      <td>1.0</td>\n",
       "      <td>1.0</td>\n",
       "      <td>1.0</td>\n",
       "      <td>1.0</td>\n",
       "      <td>TrialStart</td>\n",
       "      <td>3865.8206</td>\n",
       "      <td>3865.8306</td>\n",
       "      <td>1.0</td>\n",
       "      <td>...</td>\n",
       "      <td>1.0</td>\n",
       "      <td>3865.8206</td>\n",
       "      <td>3868.5362</td>\n",
       "      <td>1.0</td>\n",
       "      <td>1.0</td>\n",
       "      <td>1.0</td>\n",
       "      <td>0.4259</td>\n",
       "      <td>0.46119</td>\n",
       "      <td>contra_data</td>\n",
       "      <td>7589.0</td>\n",
       "    </tr>\n",
       "  </tbody>\n",
       "</table>\n",
       "<p>557 rows × 21 columns</p>\n",
       "</div>"
      ],
      "text/plain": [
       "      Sound type  trial_nums  Trial type  State type  Instance in state  \\\n",
       "0           10.0         0.0         1.0         1.0                1.0   \n",
       "9           10.0         1.0         7.0         1.0                1.0   \n",
       "18          10.0         2.0         1.0         1.0                1.0   \n",
       "26          10.0         3.0         1.0         1.0                1.0   \n",
       "34          10.0         4.0         1.0         1.0                1.0   \n",
       "...          ...         ...         ...         ...                ...   \n",
       "32172        NaN       552.0         7.0         1.0                1.0   \n",
       "32180        NaN       553.0         7.0         1.0                1.0   \n",
       "32188        NaN       554.0         7.0         1.0                1.0   \n",
       "32196        NaN       555.0         1.0         1.0                1.0   \n",
       "32204        NaN       556.0         1.0         1.0                1.0   \n",
       "\n",
       "       Max times in state  State name  Time start   Time end  Response  ...  \\\n",
       "0                     1.0  TrialStart     17.9741    17.9841       1.0  ...   \n",
       "9                     1.0  TrialStart    105.7134   105.7234       2.0  ...   \n",
       "18                    1.0  TrialStart    119.4172   119.4272       1.0  ...   \n",
       "26                    1.0  TrialStart    124.4519   124.4619       1.0  ...   \n",
       "34                    1.0  TrialStart    139.1437   139.1537       1.0  ...   \n",
       "...                   ...         ...         ...        ...       ...  ...   \n",
       "32172                 1.0  TrialStart   3853.6938  3853.7038       2.0  ...   \n",
       "32180                 1.0  TrialStart   3856.4280  3856.4380       2.0  ...   \n",
       "32188                 1.0  TrialStart   3859.4752  3859.4852       2.0  ...   \n",
       "32196                 1.0  TrialStart   3862.3149  3862.3249       1.0  ...   \n",
       "32204                 1.0  TrialStart   3865.8206  3865.8306       1.0  ...   \n",
       "\n",
       "       Last outcome  Trial start  Trial end  Trial outcome  First response  \\\n",
       "0              -1.0      17.9741   105.4830            1.0             1.0   \n",
       "9               1.0     105.7134   119.2539            1.0             2.0   \n",
       "18              1.0     119.4172   124.2858            1.0             1.0   \n",
       "26              1.0     124.4519   138.9796            1.0             2.0   \n",
       "34              1.0     139.1437   144.1054            1.0             2.0   \n",
       "...             ...          ...        ...            ...             ...   \n",
       "32172           1.0    3853.6938  3856.2712            1.0             2.0   \n",
       "32180           1.0    3856.4280  3859.3285            1.0             2.0   \n",
       "32188           1.0    3859.4752  3862.1542            1.0             2.0   \n",
       "32196           1.0    3862.3149  3865.6525            1.0             1.0   \n",
       "32204           1.0    3865.8206  3868.5362            1.0             1.0   \n",
       "\n",
       "       First choice correct  reaction_times  APE_peaks   trial_type  \\\n",
       "0                       1.0          2.1301   3.098817  contra_data   \n",
       "9                       1.0          0.4444   1.491182    ipsi_data   \n",
       "18                      1.0          0.7490   1.594546  contra_data   \n",
       "26                      0.0             NaN        NaN          NaN   \n",
       "34                      0.0             NaN        NaN          NaN   \n",
       "...                     ...             ...        ...          ...   \n",
       "32172                   1.0          0.5448   1.226479    ipsi_data   \n",
       "32180                   1.0          0.5095   0.696415    ipsi_data   \n",
       "32188                   1.0          0.5730    1.08449    ipsi_data   \n",
       "32196                   1.0          0.8476   1.763486  contra_data   \n",
       "32204                   1.0          0.4259    0.46119  contra_data   \n",
       "\n",
       "      actual trial nums  \n",
       "0                 737.0  \n",
       "9                 738.0  \n",
       "18                739.0  \n",
       "26                740.0  \n",
       "34                741.0  \n",
       "...                 ...  \n",
       "32172            7585.0  \n",
       "32180            7586.0  \n",
       "32188            7587.0  \n",
       "32196            7588.0  \n",
       "32204            7589.0  \n",
       "\n",
       "[557 rows x 21 columns]"
      ]
     },
     "execution_count": 11,
     "metadata": {},
     "output_type": "execute_result"
    }
   ],
   "source": [
    "all_session_data"
   ]
  },
  {
   "cell_type": "code",
   "execution_count": 15,
   "metadata": {},
   "outputs": [],
   "source": [
    "filtered_df = all_session_data[(all_session_data['trial_type'] == 'contra_data') & (all_session_data['First choice correct'] == 1)]\n",
    "contra_trial_type = filtered_df['Trial type'].unique()[0]"
   ]
  },
  {
   "cell_type": "code",
   "execution_count": 18,
   "metadata": {},
   "outputs": [],
   "source": [
    "all_session_data = all_session_data.sort_values('actual trial nums').reset_index(drop=True)"
   ]
  },
  {
   "cell_type": "code",
   "execution_count": 1404,
   "metadata": {},
   "outputs": [],
   "source": [
    "binary_last_choice = all_session_data['last choice'].replace({'ipsi': 0, 'contra': 1})\n",
    "all_session_data['binary last choice'] = binary_last_choice"
   ]
  },
  {
   "cell_type": "code",
   "execution_count": 1405,
   "metadata": {},
   "outputs": [],
   "source": [
    "contra_trials = all_session_data[(all_session_data['side'] == 'contra') & (all_session_data['outcome'] == 1) & (all_session_data['last trial type'] == contra_trial_type)].dropna()"
   ]
  },
  {
   "cell_type": "code",
   "execution_count": 1406,
   "metadata": {},
   "outputs": [
    {
     "name": "stdout",
     "output_type": "stream",
     "text": [
      "                            OLS Regression Results                            \n",
      "==============================================================================\n",
      "Dep. Variable:              APE peaks   R-squared:                       0.013\n",
      "Model:                            OLS   Adj. R-squared:                  0.012\n",
      "Method:                 Least Squares   F-statistic:                     8.583\n",
      "Date:                Tue, 27 Aug 2024   Prob (F-statistic):            0.00351\n",
      "Time:                        19:31:53   Log-Likelihood:                -810.02\n",
      "No. Observations:                 642   AIC:                             1624.\n",
      "Df Residuals:                     640   BIC:                             1633.\n",
      "Df Model:                           1                                         \n",
      "Covariance Type:            nonrobust                                         \n",
      "======================================================================================\n",
      "                         coef    std err          t      P>|t|      [0.025      0.975]\n",
      "--------------------------------------------------------------------------------------\n",
      "const                  1.5870      0.088     17.978      0.000       1.414       1.760\n",
      "binary last choice    -0.2799      0.096     -2.930      0.004      -0.468      -0.092\n",
      "==============================================================================\n",
      "Omnibus:                        1.100   Durbin-Watson:                   1.707\n",
      "Prob(Omnibus):                  0.577   Jarque-Bera (JB):                1.192\n",
      "Skew:                           0.085   Prob(JB):                        0.551\n",
      "Kurtosis:                       2.874   Cond. No.                         5.04\n",
      "==============================================================================\n",
      "\n",
      "Notes:\n",
      "[1] Standard Errors assume that the covariance matrix of the errors is correctly specified.\n"
     ]
    }
   ],
   "source": [
    "import statsmodels.api as sm\n",
    "df = contra_trials\n",
    "# Define the dependent variable (dopamine response size)\n",
    "y = df['APE peaks']\n",
    "\n",
    "# Define the independent variables\n",
    "X = df[['binary last choice']]\n",
    "\n",
    "# Add a constant to the model (intercept)\n",
    "X = sm.add_constant(X)\n",
    "\n",
    "# Fit the regression model\n",
    "model = sm.OLS(y, X).fit()\n",
    "\n",
    "# Print the regression results\n",
    "print(model.summary())\n"
   ]
  },
  {
   "cell_type": "code",
   "execution_count": 1407,
   "metadata": {
    "scrolled": false
   },
   "outputs": [
    {
     "data": {
      "image/png": "[encoded data removed]",
      "text/plain": [
       "<Figure size 540x360 with 1 Axes>"
      ]
     },
     "metadata": {
      "needs_background": "light"
     },
     "output_type": "display_data"
    }
   ],
   "source": [
    "import matplotlib.pyplot as plt\n",
    "import seaborn as sns\n",
    "\n",
    "# Group data by 'binary last choice' and calculate mean and SEM\n",
    "grouped = df.groupby('binary last choice').agg(\n",
    "    mean_ape_peaks=('APE peaks', 'mean'),\n",
    "    sem_ape_peaks=('APE peaks', lambda x: np.std(x) / np.sqrt(len(x)))\n",
    ").reset_index()\n",
    "\n",
    "# Plot the regression line with lmplot\n",
    "sns.lmplot(x='binary last choice', y='APE peaks', data=df, aspect=1.5, ci=68, palette='viridis',  scatter_kws={'alpha':0.3} )\n",
    "\n",
    "# Overlay error bars using plt.errorbar\n",
    "plt.errorbar(x=grouped['binary last choice'], \n",
    "             y=grouped['mean_ape_peaks'], \n",
    "             yerr=grouped['sem_ape_peaks'], \n",
    "             fmt='o', color='black', capsize=5)\n",
    "\n",
    "plt.title('Interaction Plot of Last Trial Type and Previous Choice on APE Peaks')\n",
    "plt.show()\n",
    "\n"
   ]
  },
  {
   "cell_type": "code",
   "execution_count": 1413,
   "metadata": {},
   "outputs": [
    {
     "name": "stdout",
     "output_type": "stream",
     "text": [
      "                            OLS Regression Results                            \n",
      "==============================================================================\n",
      "Dep. Variable:              APE peaks   R-squared:                       0.013\n",
      "Model:                            OLS   Adj. R-squared:                  0.012\n",
      "Method:                 Least Squares   F-statistic:                     8.583\n",
      "Date:                Tue, 27 Aug 2024   Prob (F-statistic):            0.00351\n",
      "Time:                        19:34:06   Log-Likelihood:                -810.02\n",
      "No. Observations:                 642   AIC:                             1624.\n",
      "Df Residuals:                     640   BIC:                             1633.\n",
      "Df Model:                           1                                         \n",
      "Covariance Type:            nonrobust                                         \n",
      "======================================================================================\n",
      "                         coef    std err          t      P>|t|      [0.025      0.975]\n",
      "--------------------------------------------------------------------------------------\n",
      "const                  1.5870      0.088     17.978      0.000       1.414       1.760\n",
      "binary last choice    -0.2799      0.096     -2.930      0.004      -0.468      -0.092\n",
      "==============================================================================\n",
      "Omnibus:                        1.100   Durbin-Watson:                   1.707\n",
      "Prob(Omnibus):                  0.577   Jarque-Bera (JB):                1.192\n",
      "Skew:                           0.085   Prob(JB):                        0.551\n",
      "Kurtosis:                       2.874   Cond. No.                         5.04\n",
      "==============================================================================\n",
      "\n",
      "Notes:\n",
      "[1] Standard Errors assume that the covariance matrix of the errors is correctly specified.\n"
     ]
    }
   ],
   "source": [
    "import pandas as pd\n",
    "import statsmodels.api as sm\n",
    "df = all_session_data\n",
    "\n",
    "\n",
    "# Step 4: Filter for trials where the current side is 'contra'\n",
    "df['previous stim same'] = df['last trial type'] == df['trial type']\n",
    "df['previous stim same'] = df['previous stim same'].astype(int)\n",
    "df_contra = df[(df['side'] == 'contra') & (df['trial type'] == contra_trial_type)].dropna()\n",
    "\n",
    "# Step 5: Run the regression separately for each trial type and store coefficients\n",
    "coefficients = {}\n",
    "\n",
    "\n",
    "df_trial = df_contra[df_contra['previous stim same'] == 1]\n",
    "# Define predictors and response\n",
    "\n",
    "X = df_trial['binary last choice']\n",
    "X = sm.add_constant(X)  # Add a constant term to the model\n",
    "y = df_trial['APE peaks']\n",
    "    \n",
    "# Fit the regression model\n",
    "model = sm.OLS(y, X).fit()\n",
    "\n",
    "# Print the regression results\n",
    "print(model.summary())\n",
    "\n"
   ]
  },
  {
   "cell_type": "code",
   "execution_count": 1414,
   "metadata": {},
   "outputs": [
    {
     "data": {
      "text/plain": [
       "<seaborn.axisgrid.FacetGrid at 0x2229375e0>"
      ]
     },
     "execution_count": 1414,
     "metadata": {},
     "output_type": "execute_result"
    },
    {
     "data": {
      "image/png": "[encoded data removed]",
      "text/plain": [
       "<Figure size 600.25x360 with 1 Axes>"
      ]
     },
     "metadata": {
      "needs_background": "light"
     },
     "output_type": "display_data"
    }
   ],
   "source": [
    "sns.lmplot(x='binary last choice', y='APE peaks', data=df_trial, hue='trial type', aspect=1.5, ci=68, palette='viridis',  scatter_kws={'alpha':0.3} )\n"
   ]
  },
  {
   "cell_type": "code",
   "execution_count": 1424,
   "metadata": {},
   "outputs": [
    {
     "data": {
      "text/plain": [
       "array([  2., 517., 547.,   3., 443., 355., 357., 404.,   4., 278.])"
      ]
     },
     "execution_count": 1424,
     "metadata": {},
     "output_type": "execute_result"
    }
   ],
   "source": [
    "trial_num_diffs.unique()"
   ]
  },
  {
   "cell_type": "code",
   "execution_count": 1423,
   "metadata": {},
   "outputs": [
    {
     "data": {
      "text/plain": [
       "(array([170.,   1.,   0.,   0.,   0.,   0.,   0.,   0.,   0.,   0.,   0.,\n",
       "          0.,   0.,   0.,   0.,   0.,   0.,   0.,   0.,   0.,   0.,   0.,\n",
       "          0.,   0.,   0.,   0.,   0.,   0.,   0.,   0.,   0.,   0.,   0.,\n",
       "          0.,   0.,   0.,   0.,   0.,   0.,   0.,   0.,   0.,   0.,   0.,\n",
       "          0.,   0.,   0.,   0.,   0.,   0.,   0.,   0.,   0.,   0.,   0.,\n",
       "          0.,   0.,   0.,   0.,   0.,   0.,   0.,   0.,   0.,   0.,   0.,\n",
       "          0.,   0.,   0.,   0.,   0.,   0.,   0.,   0.,   0.,   0.,   0.,\n",
       "          0.,   0.,   0.,   0.,   0.,   0.,   0.,   0.,   0.,   0.,   0.,\n",
       "          0.,   0.,   0.,   0.,   0.,   0.,   0.,   0.,   0.,   0.,   0.,\n",
       "          0.,   0.,   0.,   0.,   0.,   0.,   0.,   0.,   0.,   0.,   0.,\n",
       "          0.,   0.,   0.,   0.,   0.,   0.,   0.,   0.,   0.,   0.,   0.,\n",
       "          0.,   0.,   0.,   0.,   0.,   0.,   0.,   0.,   0.,   0.,   0.,\n",
       "          0.,   0.,   0.,   0.,   0.,   0.,   0.,   0.,   0.,   0.,   0.,\n",
       "          0.,   0.,   0.,   0.,   0.,   0.,   0.,   0.,   0.,   0.,   0.,\n",
       "          0.,   0.,   0.,   0.,   0.,   0.,   0.,   0.,   0.,   0.,   0.,\n",
       "          0.,   0.,   0.,   0.,   0.,   0.,   0.,   0.,   0.,   0.,   0.,\n",
       "          0.,   0.,   0.,   0.,   0.,   0.,   0.,   0.,   0.,   0.,   0.,\n",
       "          0.,   0.,   0.,   0.,   0.,   0.,   0.,   0.,   0.,   0.,   0.,\n",
       "          0.,   0.,   0.,   0.,   0.,   0.,   0.,   0.,   0.,   0.,   0.,\n",
       "          0.,   0.,   0.,   0.,   0.,   0.,   0.,   0.,   0.,   0.,   0.,\n",
       "          0.,   0.,   0.,   0.,   0.,   0.,   0.,   0.,   0.,   0.,   0.,\n",
       "          0.,   0.,   0.,   0.,   0.,   0.,   0.,   0.,   0.,   0.,   0.,\n",
       "          0.,   0.,   0.,   0.,   0.,   0.,   0.,   0.,   0.,   0.,   0.,\n",
       "          1.,   0.,   0.,   0.,   0.,   0.,   0.,   0.,   0.,   0.,   0.,\n",
       "          0.,   0.,   0.,   0.,   0.,   0.,   0.,   0.,   0.,   0.,   0.,\n",
       "          0.,   0.,   0.,   0.,   0.,   0.,   0.,   0.,   0.,   0.,   0.,\n",
       "          0.,   0.,   0.,   0.,   0.,   0.,   0.,   0.,   0.,   0.,   0.,\n",
       "          0.,   0.,   0.,   0.,   0.,   0.,   0.,   0.,   0.,   0.,   0.,\n",
       "          0.,   0.,   0.,   0.,   0.,   0.,   0.,   0.,   0.,   0.,   0.,\n",
       "          0.,   0.,   0.,   0.,   1.,   0.,   1.,   0.,   0.,   0.,   0.,\n",
       "          0.,   0.,   0.,   0.,   0.,   0.,   0.,   0.,   0.,   0.,   0.,\n",
       "          0.,   0.,   0.,   0.,   0.,   0.,   0.,   0.,   0.,   0.,   0.,\n",
       "          0.,   0.,   0.,   0.,   0.,   0.,   0.,   0.,   0.,   0.,   0.,\n",
       "          0.,   0.,   0.,   0.,   0.,   1.,   0.,   0.,   0.,   0.,   0.,\n",
       "          0.,   0.,   0.,   0.,   0.,   0.,   0.,   0.,   0.,   0.,   0.,\n",
       "          0.,   0.,   0.,   0.,   0.,   0.,   0.,   0.,   0.,   0.,   0.,\n",
       "          0.,   0.,   0.,   0.,   0.,   0.,   0.,   0.,   1.,   0.,   0.,\n",
       "          0.,   0.,   0.,   0.,   0.,   0.,   0.,   0.,   0.,   0.,   0.,\n",
       "          0.,   0.,   0.,   0.,   0.,   0.,   0.,   0.,   0.,   0.,   0.,\n",
       "          0.,   0.,   0.,   0.,   0.,   0.,   0.,   0.,   0.,   0.,   0.,\n",
       "          0.,   0.,   0.,   0.,   0.,   0.,   0.,   0.,   0.,   0.,   0.,\n",
       "          0.,   0.,   0.,   0.,   0.,   0.,   0.,   0.,   0.,   0.,   0.,\n",
       "          0.,   0.,   0.,   0.,   0.,   0.,   0.,   0.,   0.,   0.,   1.,\n",
       "          0.,   0.,   0.,   0.,   0.,   0.,   0.,   0.,   0.,   0.,   0.,\n",
       "          0.,   0.,   0.,   0.,   0.,   0.,   0.,   0.,   0.,   0.,   0.,\n",
       "          0.,   0.,   0.,   0.,   1.]),\n",
       " array([  2.  ,   3.09,   4.18,   5.27,   6.36,   7.45,   8.54,   9.63,\n",
       "         10.72,  11.81,  12.9 ,  13.99,  15.08,  16.17,  17.26,  18.35,\n",
       "         19.44,  20.53,  21.62,  22.71,  23.8 ,  24.89,  25.98,  27.07,\n",
       "         28.16,  29.25,  30.34,  31.43,  32.52,  33.61,  34.7 ,  35.79,\n",
       "         36.88,  37.97,  39.06,  40.15,  41.24,  42.33,  43.42,  44.51,\n",
       "         45.6 ,  46.69,  47.78,  48.87,  49.96,  51.05,  52.14,  53.23,\n",
       "         54.32,  55.41,  56.5 ,  57.59,  58.68,  59.77,  60.86,  61.95,\n",
       "         63.04,  64.13,  65.22,  66.31,  67.4 ,  68.49,  69.58,  70.67,\n",
       "         71.76,  72.85,  73.94,  75.03,  76.12,  77.21,  78.3 ,  79.39,\n",
       "         80.48,  81.57,  82.66,  83.75,  84.84,  85.93,  87.02,  88.11,\n",
       "         89.2 ,  90.29,  91.38,  92.47,  93.56,  94.65,  95.74,  96.83,\n",
       "         97.92,  99.01, 100.1 , 101.19, 102.28, 103.37, 104.46, 105.55,\n",
       "        106.64, 107.73, 108.82, 109.91, 111.  , 112.09, 113.18, 114.27,\n",
       "        115.36, 116.45, 117.54, 118.63, 119.72, 120.81, 121.9 , 122.99,\n",
       "        124.08, 125.17, 126.26, 127.35, 128.44, 129.53, 130.62, 131.71,\n",
       "        132.8 , 133.89, 134.98, 136.07, 137.16, 138.25, 139.34, 140.43,\n",
       "        141.52, 142.61, 143.7 , 144.79, 145.88, 146.97, 148.06, 149.15,\n",
       "        150.24, 151.33, 152.42, 153.51, 154.6 , 155.69, 156.78, 157.87,\n",
       "        158.96, 160.05, 161.14, 162.23, 163.32, 164.41, 165.5 , 166.59,\n",
       "        167.68, 168.77, 169.86, 170.95, 172.04, 173.13, 174.22, 175.31,\n",
       "        176.4 , 177.49, 178.58, 179.67, 180.76, 181.85, 182.94, 184.03,\n",
       "        185.12, 186.21, 187.3 , 188.39, 189.48, 190.57, 191.66, 192.75,\n",
       "        193.84, 194.93, 196.02, 197.11, 198.2 , 199.29, 200.38, 201.47,\n",
       "        202.56, 203.65, 204.74, 205.83, 206.92, 208.01, 209.1 , 210.19,\n",
       "        211.28, 212.37, 213.46, 214.55, 215.64, 216.73, 217.82, 218.91,\n",
       "        220.  , 221.09, 222.18, 223.27, 224.36, 225.45, 226.54, 227.63,\n",
       "        228.72, 229.81, 230.9 , 231.99, 233.08, 234.17, 235.26, 236.35,\n",
       "        237.44, 238.53, 239.62, 240.71, 241.8 , 242.89, 243.98, 245.07,\n",
       "        246.16, 247.25, 248.34, 249.43, 250.52, 251.61, 252.7 , 253.79,\n",
       "        254.88, 255.97, 257.06, 258.15, 259.24, 260.33, 261.42, 262.51,\n",
       "        263.6 , 264.69, 265.78, 266.87, 267.96, 269.05, 270.14, 271.23,\n",
       "        272.32, 273.41, 274.5 , 275.59, 276.68, 277.77, 278.86, 279.95,\n",
       "        281.04, 282.13, 283.22, 284.31, 285.4 , 286.49, 287.58, 288.67,\n",
       "        289.76, 290.85, 291.94, 293.03, 294.12, 295.21, 296.3 , 297.39,\n",
       "        298.48, 299.57, 300.66, 301.75, 302.84, 303.93, 305.02, 306.11,\n",
       "        307.2 , 308.29, 309.38, 310.47, 311.56, 312.65, 313.74, 314.83,\n",
       "        315.92, 317.01, 318.1 , 319.19, 320.28, 321.37, 322.46, 323.55,\n",
       "        324.64, 325.73, 326.82, 327.91, 329.  , 330.09, 331.18, 332.27,\n",
       "        333.36, 334.45, 335.54, 336.63, 337.72, 338.81, 339.9 , 340.99,\n",
       "        342.08, 343.17, 344.26, 345.35, 346.44, 347.53, 348.62, 349.71,\n",
       "        350.8 , 351.89, 352.98, 354.07, 355.16, 356.25, 357.34, 358.43,\n",
       "        359.52, 360.61, 361.7 , 362.79, 363.88, 364.97, 366.06, 367.15,\n",
       "        368.24, 369.33, 370.42, 371.51, 372.6 , 373.69, 374.78, 375.87,\n",
       "        376.96, 378.05, 379.14, 380.23, 381.32, 382.41, 383.5 , 384.59,\n",
       "        385.68, 386.77, 387.86, 388.95, 390.04, 391.13, 392.22, 393.31,\n",
       "        394.4 , 395.49, 396.58, 397.67, 398.76, 399.85, 400.94, 402.03,\n",
       "        403.12, 404.21, 405.3 , 406.39, 407.48, 408.57, 409.66, 410.75,\n",
       "        411.84, 412.93, 414.02, 415.11, 416.2 , 417.29, 418.38, 419.47,\n",
       "        420.56, 421.65, 422.74, 423.83, 424.92, 426.01, 427.1 , 428.19,\n",
       "        429.28, 430.37, 431.46, 432.55, 433.64, 434.73, 435.82, 436.91,\n",
       "        438.  , 439.09, 440.18, 441.27, 442.36, 443.45, 444.54, 445.63,\n",
       "        446.72, 447.81, 448.9 , 449.99, 451.08, 452.17, 453.26, 454.35,\n",
       "        455.44, 456.53, 457.62, 458.71, 459.8 , 460.89, 461.98, 463.07,\n",
       "        464.16, 465.25, 466.34, 467.43, 468.52, 469.61, 470.7 , 471.79,\n",
       "        472.88, 473.97, 475.06, 476.15, 477.24, 478.33, 479.42, 480.51,\n",
       "        481.6 , 482.69, 483.78, 484.87, 485.96, 487.05, 488.14, 489.23,\n",
       "        490.32, 491.41, 492.5 , 493.59, 494.68, 495.77, 496.86, 497.95,\n",
       "        499.04, 500.13, 501.22, 502.31, 503.4 , 504.49, 505.58, 506.67,\n",
       "        507.76, 508.85, 509.94, 511.03, 512.12, 513.21, 514.3 , 515.39,\n",
       "        516.48, 517.57, 518.66, 519.75, 520.84, 521.93, 523.02, 524.11,\n",
       "        525.2 , 526.29, 527.38, 528.47, 529.56, 530.65, 531.74, 532.83,\n",
       "        533.92, 535.01, 536.1 , 537.19, 538.28, 539.37, 540.46, 541.55,\n",
       "        542.64, 543.73, 544.82, 545.91, 547.  ]),\n",
       " <BarContainer object of 500 artists>)"
      ]
     },
     "execution_count": 1423,
     "metadata": {},
     "output_type": "execute_result"
    },
    {
     "data": {
      "image/png": "[encoded data removed]",
      "text/plain": [
       "<Figure size 432x288 with 1 Axes>"
      ]
     },
     "metadata": {
      "needs_background": "light"
     },
     "output_type": "display_data"
    }
   ],
   "source": [
    "trial_num_diffs = df['actual trial numbers'].diff()\n",
    "trial_num_diffs = trial_num_diffs[trial_num_diffs > 1]\n",
    "plt.hist(trial_num_diffs, bins=500)"
   ]
  },
  {
   "cell_type": "code",
   "execution_count": 1328,
   "metadata": {},
   "outputs": [
    {
     "name": "stdout",
     "output_type": "stream",
     "text": [
      "                            OLS Regression Results                            \n",
      "==============================================================================\n",
      "Dep. Variable:              APE peaks   R-squared:                       0.002\n",
      "Model:                            OLS   Adj. R-squared:                 -0.000\n",
      "Method:                 Least Squares   F-statistic:                    0.8447\n",
      "Date:                Tue, 27 Aug 2024   Prob (F-statistic):              0.359\n",
      "Time:                        19:07:32   Log-Likelihood:                -459.78\n",
      "No. Observations:                 364   AIC:                             923.6\n",
      "Df Residuals:                     362   BIC:                             931.4\n",
      "Df Model:                           1                                         \n",
      "Covariance Type:            nonrobust                                         \n",
      "==================================================================================\n",
      "                     coef    std err          t      P>|t|      [0.025      0.975]\n",
      "----------------------------------------------------------------------------------\n",
      "const              1.3368      0.134      9.975      0.000       1.073       1.600\n",
      "previous_side1    -0.1308      0.142     -0.919      0.359      -0.411       0.149\n",
      "==============================================================================\n",
      "Omnibus:                        7.875   Durbin-Watson:                   1.734\n",
      "Prob(Omnibus):                  0.020   Jarque-Bera (JB):                8.141\n",
      "Skew:                           0.358   Prob(JB):                       0.0171\n",
      "Kurtosis:                       2.846   Cond. No.                         5.80\n",
      "==============================================================================\n",
      "\n",
      "Notes:\n",
      "[1] Standard Errors assume that the covariance matrix of the errors is correctly specified.\n"
     ]
    }
   ],
   "source": [
    "import pandas as pd\n",
    "import statsmodels.api as sm\n",
    "df = all_session_data[['trial type', 'side', 'APE peaks', 'actual trial numbers']].set_index('actual trial numbers')\n",
    "\n",
    "import pandas as pd\n",
    "import statsmodels.api as sm\n",
    "import matplotlib.pyplot as plt\n",
    "\n",
    "\n",
    "def shift_according_to_index(df, col_to_shift, lag):\n",
    "    # Shift the 'value' column by 1\n",
    "    df['shifted_value'] = df[col_to_shift].shift(lag)\n",
    "\n",
    "    return df['shifted_value'].where(df.index.to_series().diff() == df.index.to_series().diff().shift(-lag))\n",
    "\n",
    "# Assuming your dataframe is named `df`\n",
    "\n",
    "\n",
    "# Step 2: Specify the number of lags you want to create\n",
    "num_lags = 1  # You can change this number to include more or fewer lags\n",
    "\n",
    "# Step 3: Create lagged variables dynamically using a loop\n",
    "for lag in range(1, num_lags + 1):\n",
    "    df[f'previous_stim_same{lag}'] = shift_according_to_index(df, 'trial type', lag) == df['trial type']\n",
    "    df[f'previous_stim_same{lag}'] = df[f'previous_stim_same{lag}'].astype(int)\n",
    "    df[f'previous_side{lag}'] = shift_according_to_index(df, 'side', lag).replace({'ipsi': 0, 'contra': 1})\n",
    "\n",
    "# Step 4: Filter for trials where the current side is 'contra'\n",
    "df_contra = df[(df['side'] == 'contra')].dropna()\n",
    "\n",
    "# Step 5: Run the regression separately for each trial type and store coefficients\n",
    "coefficients = {}\n",
    "\n",
    "\n",
    "df_trial = df_contra[df_contra['previous_stim_same1'] == 1]\n",
    "    \n",
    "# Define predictors and response\n",
    "lagged_columns = [f'previous_side{lag}' for lag in range(1, num_lags + 1)]\n",
    "X = df_trial[lagged_columns]\n",
    "X = sm.add_constant(X)  # Add a constant term to the model\n",
    "y = df_trial['APE peaks']\n",
    "    \n",
    "# Fit the regression model\n",
    "model = sm.OLS(y, X).fit()\n",
    "\n",
    "# Print the regression results\n",
    "print(model.summary())\n",
    "\n"
   ]
  },
  {
   "cell_type": "code",
   "execution_count": null,
   "metadata": {},
   "outputs": [],
   "source": []
  },
  {
   "cell_type": "code",
   "execution_count": 1331,
   "metadata": {},
   "outputs": [
    {
     "data": {
      "text/plain": [
       "Index(['max speed', 'average speed', 'time to max speed', 'speeds',\n",
       "       'max acceleration', 'average acceleration', 'time to max acceleration',\n",
       "       'accelerations', 'APE peaks', 'time to move', 'trial numbers', 'traces',\n",
       "       'head x', 'head y', 'head angles', 'angular velocity',\n",
       "       'max angular velocity', 'time to max angular vel', 'cumsum ang vel',\n",
       "       'max cumsum ang vel', 'time to max cum sum ang vel', 'max initial turn',\n",
       "       'angular acceleration', 'turn slopes', 'turn starts', 'sig x', 'sig y',\n",
       "       'sig mse', 'movement dir', 'distance travelled', 'last 10 x',\n",
       "       'last 10 y', 'fitted max cumsum ang vel', 'area under sigmoid',\n",
       "       'trial type', 'reaction times', 'side', 'choice numeric',\n",
       "       'actual trial numbers', 'last trial type', 'last outcome',\n",
       "       'last choice', 'next trial type', 'next outcome', 'next choice',\n",
       "       'next choice numeric', 'stay or switch', 'outcome', 'APE quantile',\n",
       "       'date', 'binary last choice'],\n",
       "      dtype='object')"
      ]
     },
     "execution_count": 1331,
     "metadata": {},
     "output_type": "execute_result"
    }
   ],
   "source": [
    "df.columns\n"
   ]
  },
  {
   "cell_type": "code",
   "execution_count": 1321,
   "metadata": {},
   "outputs": [
    {
     "data": {
      "text/plain": [
       "<seaborn.axisgrid.FacetGrid at 0x224d10d00>"
      ]
     },
     "execution_count": 1321,
     "metadata": {},
     "output_type": "execute_result"
    },
    {
     "data": {
      "image/png": "[encoded data removed]",
      "text/plain": [
       "<Figure size 540x360 with 1 Axes>"
      ]
     },
     "metadata": {
      "needs_background": "light"
     },
     "output_type": "display_data"
    }
   ],
   "source": [
    "# Plot the regression line with lmplot\n",
    "sns.lmplot(x='previous_side1', y='APE peaks', data=df_trial, aspect=1.5, ci=68, palette='viridis',  scatter_kws={'alpha':0.3} )\n"
   ]
  },
  {
   "cell_type": "code",
   "execution_count": 1314,
   "metadata": {},
   "outputs": [
    {
     "data": {
      "text/plain": [
       "previous_side1    0.493288\n",
       "dtype: float64"
      ]
     },
     "execution_count": 1314,
     "metadata": {},
     "output_type": "execute_result"
    }
   ],
   "source": [
    "results.pvalues[1:]"
   ]
  },
  {
   "cell_type": "code",
   "execution_count": 1298,
   "metadata": {},
   "outputs": [
    {
     "data": {
      "text/html": [
       "<div>\n",
       "<style scoped>\n",
       "    .dataframe tbody tr th:only-of-type {\n",
       "        vertical-align: middle;\n",
       "    }\n",
       "\n",
       "    .dataframe tbody tr th {\n",
       "        vertical-align: top;\n",
       "    }\n",
       "\n",
       "    .dataframe thead th {\n",
       "        text-align: right;\n",
       "    }\n",
       "</style>\n",
       "<table border=\"1\" class=\"dataframe\">\n",
       "  <thead>\n",
       "    <tr style=\"text-align: right;\">\n",
       "      <th></th>\n",
       "      <th>trial type</th>\n",
       "      <th>side</th>\n",
       "      <th>APE peaks</th>\n",
       "      <th>previous_stim_same1</th>\n",
       "      <th>previous_side1</th>\n",
       "    </tr>\n",
       "  </thead>\n",
       "  <tbody>\n",
       "    <tr>\n",
       "      <th>0</th>\n",
       "      <td>1.0</td>\n",
       "      <td>contra</td>\n",
       "      <td>2.109809</td>\n",
       "      <td>0</td>\n",
       "      <td>NaN</td>\n",
       "    </tr>\n",
       "    <tr>\n",
       "      <th>1</th>\n",
       "      <td>7.0</td>\n",
       "      <td>ipsi</td>\n",
       "      <td>1.376390</td>\n",
       "      <td>0</td>\n",
       "      <td>contra</td>\n",
       "    </tr>\n",
       "    <tr>\n",
       "      <th>2</th>\n",
       "      <td>7.0</td>\n",
       "      <td>ipsi</td>\n",
       "      <td>1.286027</td>\n",
       "      <td>1</td>\n",
       "      <td>ipsi</td>\n",
       "    </tr>\n",
       "    <tr>\n",
       "      <th>3</th>\n",
       "      <td>1.0</td>\n",
       "      <td>ipsi</td>\n",
       "      <td>1.049806</td>\n",
       "      <td>0</td>\n",
       "      <td>ipsi</td>\n",
       "    </tr>\n",
       "    <tr>\n",
       "      <th>4</th>\n",
       "      <td>7.0</td>\n",
       "      <td>contra</td>\n",
       "      <td>1.610897</td>\n",
       "      <td>0</td>\n",
       "      <td>ipsi</td>\n",
       "    </tr>\n",
       "    <tr>\n",
       "      <th>...</th>\n",
       "      <td>...</td>\n",
       "      <td>...</td>\n",
       "      <td>...</td>\n",
       "      <td>...</td>\n",
       "      <td>...</td>\n",
       "    </tr>\n",
       "    <tr>\n",
       "      <th>2260</th>\n",
       "      <td>1.0</td>\n",
       "      <td>contra</td>\n",
       "      <td>-0.327791</td>\n",
       "      <td>0</td>\n",
       "      <td>ipsi</td>\n",
       "    </tr>\n",
       "    <tr>\n",
       "      <th>2261</th>\n",
       "      <td>1.0</td>\n",
       "      <td>contra</td>\n",
       "      <td>1.572306</td>\n",
       "      <td>1</td>\n",
       "      <td>contra</td>\n",
       "    </tr>\n",
       "    <tr>\n",
       "      <th>2262</th>\n",
       "      <td>7.0</td>\n",
       "      <td>ipsi</td>\n",
       "      <td>1.186244</td>\n",
       "      <td>0</td>\n",
       "      <td>contra</td>\n",
       "    </tr>\n",
       "    <tr>\n",
       "      <th>2263</th>\n",
       "      <td>1.0</td>\n",
       "      <td>contra</td>\n",
       "      <td>0.847835</td>\n",
       "      <td>0</td>\n",
       "      <td>ipsi</td>\n",
       "    </tr>\n",
       "    <tr>\n",
       "      <th>2264</th>\n",
       "      <td>7.0</td>\n",
       "      <td>contra</td>\n",
       "      <td>0.434677</td>\n",
       "      <td>0</td>\n",
       "      <td>contra</td>\n",
       "    </tr>\n",
       "  </tbody>\n",
       "</table>\n",
       "<p>2265 rows × 5 columns</p>\n",
       "</div>"
      ],
      "text/plain": [
       "      trial type    side  APE peaks  previous_stim_same1 previous_side1\n",
       "0            1.0  contra   2.109809                    0            NaN\n",
       "1            7.0    ipsi   1.376390                    0         contra\n",
       "2            7.0    ipsi   1.286027                    1           ipsi\n",
       "3            1.0    ipsi   1.049806                    0           ipsi\n",
       "4            7.0  contra   1.610897                    0           ipsi\n",
       "...          ...     ...        ...                  ...            ...\n",
       "2260         1.0  contra  -0.327791                    0           ipsi\n",
       "2261         1.0  contra   1.572306                    1         contra\n",
       "2262         7.0    ipsi   1.186244                    0         contra\n",
       "2263         1.0  contra   0.847835                    0           ipsi\n",
       "2264         7.0  contra   0.434677                    0         contra\n",
       "\n",
       "[2265 rows x 5 columns]"
      ]
     },
     "execution_count": 1298,
     "metadata": {},
     "output_type": "execute_result"
    }
   ],
   "source": [
    "df"
   ]
  },
  {
   "cell_type": "code",
   "execution_count": 1290,
   "metadata": {},
   "outputs": [
    {
     "data": {
      "text/plain": [
       "1.0"
      ]
     },
     "execution_count": 1290,
     "metadata": {},
     "output_type": "execute_result"
    }
   ],
   "source": [
    "contra_trial_type"
   ]
  },
  {
   "cell_type": "code",
   "execution_count": 1229,
   "metadata": {},
   "outputs": [
    {
     "data": {
      "text/html": [
       "<div>\n",
       "<style scoped>\n",
       "    .dataframe tbody tr th:only-of-type {\n",
       "        vertical-align: middle;\n",
       "    }\n",
       "\n",
       "    .dataframe tbody tr th {\n",
       "        vertical-align: top;\n",
       "    }\n",
       "\n",
       "    .dataframe thead th {\n",
       "        text-align: right;\n",
       "    }\n",
       "</style>\n",
       "<table border=\"1\" class=\"dataframe\">\n",
       "  <thead>\n",
       "    <tr style=\"text-align: right;\">\n",
       "      <th></th>\n",
       "      <th>const</th>\n",
       "      <th>prev_APE_peaks</th>\n",
       "      <th>trial type</th>\n",
       "      <th>prev_side_ipsi</th>\n",
       "      <th>prev_side_trial_type</th>\n",
       "    </tr>\n",
       "  </thead>\n",
       "  <tbody>\n",
       "    <tr>\n",
       "      <th>1</th>\n",
       "      <td>1.0</td>\n",
       "      <td>1.543621</td>\n",
       "      <td>7.0</td>\n",
       "      <td>0</td>\n",
       "      <td>0.0</td>\n",
       "    </tr>\n",
       "    <tr>\n",
       "      <th>3</th>\n",
       "      <td>1.0</td>\n",
       "      <td>0.316041</td>\n",
       "      <td>1.0</td>\n",
       "      <td>1</td>\n",
       "      <td>1.0</td>\n",
       "    </tr>\n",
       "    <tr>\n",
       "      <th>4</th>\n",
       "      <td>1.0</td>\n",
       "      <td>2.655635</td>\n",
       "      <td>7.0</td>\n",
       "      <td>0</td>\n",
       "      <td>0.0</td>\n",
       "    </tr>\n",
       "    <tr>\n",
       "      <th>6</th>\n",
       "      <td>1.0</td>\n",
       "      <td>0.151094</td>\n",
       "      <td>7.0</td>\n",
       "      <td>1</td>\n",
       "      <td>7.0</td>\n",
       "    </tr>\n",
       "    <tr>\n",
       "      <th>7</th>\n",
       "      <td>1.0</td>\n",
       "      <td>1.026863</td>\n",
       "      <td>1.0</td>\n",
       "      <td>0</td>\n",
       "      <td>0.0</td>\n",
       "    </tr>\n",
       "    <tr>\n",
       "      <th>...</th>\n",
       "      <td>...</td>\n",
       "      <td>...</td>\n",
       "      <td>...</td>\n",
       "      <td>...</td>\n",
       "      <td>...</td>\n",
       "    </tr>\n",
       "    <tr>\n",
       "      <th>3049</th>\n",
       "      <td>1.0</td>\n",
       "      <td>2.547466</td>\n",
       "      <td>1.0</td>\n",
       "      <td>1</td>\n",
       "      <td>1.0</td>\n",
       "    </tr>\n",
       "    <tr>\n",
       "      <th>3050</th>\n",
       "      <td>1.0</td>\n",
       "      <td>0.270133</td>\n",
       "      <td>1.0</td>\n",
       "      <td>0</td>\n",
       "      <td>0.0</td>\n",
       "    </tr>\n",
       "    <tr>\n",
       "      <th>3053</th>\n",
       "      <td>1.0</td>\n",
       "      <td>1.080882</td>\n",
       "      <td>1.0</td>\n",
       "      <td>1</td>\n",
       "      <td>1.0</td>\n",
       "    </tr>\n",
       "    <tr>\n",
       "      <th>3058</th>\n",
       "      <td>1.0</td>\n",
       "      <td>1.084490</td>\n",
       "      <td>1.0</td>\n",
       "      <td>1</td>\n",
       "      <td>1.0</td>\n",
       "    </tr>\n",
       "    <tr>\n",
       "      <th>3059</th>\n",
       "      <td>1.0</td>\n",
       "      <td>1.763486</td>\n",
       "      <td>1.0</td>\n",
       "      <td>0</td>\n",
       "      <td>0.0</td>\n",
       "    </tr>\n",
       "  </tbody>\n",
       "</table>\n",
       "<p>1638 rows × 5 columns</p>\n",
       "</div>"
      ],
      "text/plain": [
       "      const  prev_APE_peaks  trial type  prev_side_ipsi  prev_side_trial_type\n",
       "1       1.0        1.543621         7.0               0                   0.0\n",
       "3       1.0        0.316041         1.0               1                   1.0\n",
       "4       1.0        2.655635         7.0               0                   0.0\n",
       "6       1.0        0.151094         7.0               1                   7.0\n",
       "7       1.0        1.026863         1.0               0                   0.0\n",
       "...     ...             ...         ...             ...                   ...\n",
       "3049    1.0        2.547466         1.0               1                   1.0\n",
       "3050    1.0        0.270133         1.0               0                   0.0\n",
       "3053    1.0        1.080882         1.0               1                   1.0\n",
       "3058    1.0        1.084490         1.0               1                   1.0\n",
       "3059    1.0        1.763486         1.0               0                   0.0\n",
       "\n",
       "[1638 rows x 5 columns]"
      ]
     },
     "execution_count": 1229,
     "metadata": {},
     "output_type": "execute_result"
    }
   ],
   "source": [
    "X"
   ]
  },
  {
   "cell_type": "code",
   "execution_count": 1216,
   "metadata": {},
   "outputs": [
    {
     "data": {
      "text/html": [
       "<div>\n",
       "<style scoped>\n",
       "    .dataframe tbody tr th:only-of-type {\n",
       "        vertical-align: middle;\n",
       "    }\n",
       "\n",
       "    .dataframe tbody tr th {\n",
       "        vertical-align: top;\n",
       "    }\n",
       "\n",
       "    .dataframe thead th {\n",
       "        text-align: right;\n",
       "    }\n",
       "</style>\n",
       "<table border=\"1\" class=\"dataframe\">\n",
       "  <thead>\n",
       "    <tr style=\"text-align: right;\">\n",
       "      <th></th>\n",
       "      <th>trial type</th>\n",
       "      <th>side</th>\n",
       "      <th>APE peaks</th>\n",
       "      <th>prev_choice</th>\n",
       "      <th>prev_APE_peaks</th>\n",
       "    </tr>\n",
       "  </thead>\n",
       "  <tbody>\n",
       "    <tr>\n",
       "      <th>0</th>\n",
       "      <td>7.0</td>\n",
       "      <td>contra</td>\n",
       "      <td>1.543621</td>\n",
       "      <td>NaN</td>\n",
       "      <td>NaN</td>\n",
       "    </tr>\n",
       "    <tr>\n",
       "      <th>1</th>\n",
       "      <td>7.0</td>\n",
       "      <td>contra</td>\n",
       "      <td>3.380248</td>\n",
       "      <td>contra</td>\n",
       "      <td>1.543621</td>\n",
       "    </tr>\n",
       "    <tr>\n",
       "      <th>2</th>\n",
       "      <td>7.0</td>\n",
       "      <td>ipsi</td>\n",
       "      <td>0.316041</td>\n",
       "      <td>contra</td>\n",
       "      <td>3.380248</td>\n",
       "    </tr>\n",
       "    <tr>\n",
       "      <th>3</th>\n",
       "      <td>1.0</td>\n",
       "      <td>contra</td>\n",
       "      <td>2.655635</td>\n",
       "      <td>NaN</td>\n",
       "      <td>NaN</td>\n",
       "    </tr>\n",
       "    <tr>\n",
       "      <th>4</th>\n",
       "      <td>7.0</td>\n",
       "      <td>contra</td>\n",
       "      <td>2.819108</td>\n",
       "      <td>ipsi</td>\n",
       "      <td>0.316041</td>\n",
       "    </tr>\n",
       "    <tr>\n",
       "      <th>...</th>\n",
       "      <td>...</td>\n",
       "      <td>...</td>\n",
       "      <td>...</td>\n",
       "      <td>...</td>\n",
       "      <td>...</td>\n",
       "    </tr>\n",
       "    <tr>\n",
       "      <th>3055</th>\n",
       "      <td>7.0</td>\n",
       "      <td>ipsi</td>\n",
       "      <td>1.226479</td>\n",
       "      <td>ipsi</td>\n",
       "      <td>-0.193226</td>\n",
       "    </tr>\n",
       "    <tr>\n",
       "      <th>3056</th>\n",
       "      <td>7.0</td>\n",
       "      <td>ipsi</td>\n",
       "      <td>0.696415</td>\n",
       "      <td>ipsi</td>\n",
       "      <td>1.226479</td>\n",
       "    </tr>\n",
       "    <tr>\n",
       "      <th>3057</th>\n",
       "      <td>7.0</td>\n",
       "      <td>ipsi</td>\n",
       "      <td>1.084490</td>\n",
       "      <td>ipsi</td>\n",
       "      <td>0.696415</td>\n",
       "    </tr>\n",
       "    <tr>\n",
       "      <th>3058</th>\n",
       "      <td>1.0</td>\n",
       "      <td>contra</td>\n",
       "      <td>1.763486</td>\n",
       "      <td>contra</td>\n",
       "      <td>0.429587</td>\n",
       "    </tr>\n",
       "    <tr>\n",
       "      <th>3059</th>\n",
       "      <td>1.0</td>\n",
       "      <td>contra</td>\n",
       "      <td>0.461190</td>\n",
       "      <td>contra</td>\n",
       "      <td>1.763486</td>\n",
       "    </tr>\n",
       "  </tbody>\n",
       "</table>\n",
       "<p>3060 rows × 5 columns</p>\n",
       "</div>"
      ],
      "text/plain": [
       "      trial type    side  APE peaks prev_choice  prev_APE_peaks\n",
       "0            7.0  contra   1.543621         NaN             NaN\n",
       "1            7.0  contra   3.380248      contra        1.543621\n",
       "2            7.0    ipsi   0.316041      contra        3.380248\n",
       "3            1.0  contra   2.655635         NaN             NaN\n",
       "4            7.0  contra   2.819108        ipsi        0.316041\n",
       "...          ...     ...        ...         ...             ...\n",
       "3055         7.0    ipsi   1.226479        ipsi       -0.193226\n",
       "3056         7.0    ipsi   0.696415        ipsi        1.226479\n",
       "3057         7.0    ipsi   1.084490        ipsi        0.696415\n",
       "3058         1.0  contra   1.763486      contra        0.429587\n",
       "3059         1.0  contra   0.461190      contra        1.763486\n",
       "\n",
       "[3060 rows x 5 columns]"
      ]
     },
     "execution_count": 1216,
     "metadata": {},
     "output_type": "execute_result"
    }
   ],
   "source": [
    "df"
   ]
  },
  {
   "cell_type": "code",
   "execution_count": 999,
   "metadata": {},
   "outputs": [],
   "source": [
    "# Step 1: Create a boolean mask where both columns have zeros\n",
    "wrong_habit_mask = (all_session_data['binary last choice'] == 0) & (all_session_data['last outcome'] == 0)\n",
    "\n",
    "wrong_habit_rolling_mean = wrong_habit_mask.rolling(window=5).mean()\n",
    "\n",
    "right_habit_mask = (all_session_data['binary last choice'] == 1) & (all_session_data['last outcome'] == 1)\n",
    "\n",
    "right_habit_rolling_mean = right_habit_mask.rolling(window=5).mean()\n",
    "bias =  wrong_habit_rolling_mean -right_habit_rolling_mean"
   ]
  },
  {
   "cell_type": "code",
   "execution_count": 1000,
   "metadata": {},
   "outputs": [
    {
     "data": {
      "text/plain": [
       "[<matplotlib.lines.Line2D at 0x192842820>]"
      ]
     },
     "execution_count": 1000,
     "metadata": {},
     "output_type": "execute_result"
    },
    {
     "data": {
      "image/png": "[encoded data removed]",
      "text/plain": [
       "<Figure size 432x288 with 1 Axes>"
      ]
     },
     "metadata": {
      "needs_background": "light"
     },
     "output_type": "display_data"
    }
   ],
   "source": [
    "plt.plot(wrong_habit_rolling_mean)\n",
    "plt.plot(right_habit_rolling_mean)\n",
    "plt.plot(bias)\n"
   ]
  },
  {
   "cell_type": "code",
   "execution_count": 1001,
   "metadata": {},
   "outputs": [],
   "source": [
    "all_session_data['wrong habit'] = wrong_habit_rolling_mean\n",
    "all_session_data['right habit'] = right_habit_rolling_mean\n",
    "all_session_data['bias'] = bias"
   ]
  },
  {
   "cell_type": "code",
   "execution_count": 1002,
   "metadata": {},
   "outputs": [],
   "source": [
    "contra_trials = all_session_data[(all_session_data['side'] == 'contra') & (all_session_data['outcome'] == 1)]\n",
    "ipsi_trials = all_session_data[all_session_data.side == 'ipsi']"
   ]
  },
  {
   "cell_type": "code",
   "execution_count": 1003,
   "metadata": {},
   "outputs": [
    {
     "data": {
      "text/plain": [
       "(array([ 1.,  2., 13., 12., 16.,  0., 19., 13.,  3.,  3.]),\n",
       " array([-0.6 , -0.44, -0.28, -0.12,  0.04,  0.2 ,  0.36,  0.52,  0.68,\n",
       "         0.84,  1.  ]),\n",
       " <BarContainer object of 10 artists>)"
      ]
     },
     "execution_count": 1003,
     "metadata": {},
     "output_type": "execute_result"
    },
    {
     "data": {
      "image/png": "[encoded data removed]",
      "text/plain": [
       "<Figure size 432x288 with 1 Axes>"
      ]
     },
     "metadata": {
      "needs_background": "light"
     },
     "output_type": "display_data"
    }
   ],
   "source": [
    "plt.hist(contra_trials['wrong habit']\n",
    "        )\n",
    "plt.hist(contra_trials['right habit'])\n",
    "plt.hist(contra_trials['bias'])"
   ]
  },
  {
   "cell_type": "code",
   "execution_count": 1004,
   "metadata": {},
   "outputs": [],
   "source": [
    "mean_wrong_habit = contra_trials['wrong habit'].mean()\n",
    "std_wrong_habit = contra_trials['wrong habit'].std()\n",
    "biggest_wrong_habit_trials = contra_trials[contra_trials['wrong habit'] >= mean_wrong_habit + std_wrong_habit]\n",
    "smallest_wrong_habit_trials = contra_trials[contra_trials['wrong habit'] < mean_wrong_habit - std_wrong_habit]"
   ]
  },
  {
   "cell_type": "code",
   "execution_count": 1005,
   "metadata": {},
   "outputs": [
    {
     "data": {
      "text/plain": [
       "0.44878048780487784"
      ]
     },
     "execution_count": 1005,
     "metadata": {},
     "output_type": "execute_result"
    }
   ],
   "source": [
    "mean_wrong_habit"
   ]
  },
  {
   "cell_type": "code",
   "execution_count": 995,
   "metadata": {},
   "outputs": [
    {
     "data": {
      "text/plain": [
       "(array([1., 2., 3., 0., 0., 1., 3., 1., 1., 1.]),\n",
       " array([0.48993541, 0.77972647, 1.06951752, 1.35930858, 1.64909963,\n",
       "        1.93889069, 2.22868174, 2.5184728 , 2.80826385, 3.09805491,\n",
       "        3.38784596]),\n",
       " <BarContainer object of 10 artists>)"
      ]
     },
     "execution_count": 995,
     "metadata": {},
     "output_type": "execute_result"
    },
    {
     "data": {
      "image/png": "[encoded data removed]",
      "text/plain": [
       "<Figure size 432x288 with 1 Axes>"
      ]
     },
     "metadata": {
      "needs_background": "light"
     },
     "output_type": "display_data"
    }
   ],
   "source": [
    "plt.hist(biggest_wrong_habit_trials['APE peaks'].values, alpha=0.2)\n",
    "plt.hist(smallest_wrong_habit_trials['APE peaks'].values, alpha=0.2)"
   ]
  },
  {
   "cell_type": "code",
   "execution_count": 996,
   "metadata": {},
   "outputs": [
    {
     "data": {
      "text/plain": [
       "Ttest_indResult(statistic=-0.6114537791147721, pvalue=0.5462088821107844)"
      ]
     },
     "execution_count": 996,
     "metadata": {},
     "output_type": "execute_result"
    }
   ],
   "source": [
    "stats.ttest_ind(biggest_wrong_habit_trials['APE peaks'].values, smallest_wrong_habit_trials['APE peaks'].values)"
   ]
  },
  {
   "cell_type": "code",
   "execution_count": 997,
   "metadata": {},
   "outputs": [
    {
     "data": {
      "text/plain": [
       "1"
      ]
     },
     "execution_count": 997,
     "metadata": {},
     "output_type": "execute_result"
    }
   ],
   "source": [
    "1"
   ]
  },
  {
   "cell_type": "code",
   "execution_count": 998,
   "metadata": {},
   "outputs": [
    {
     "name": "stderr",
     "output_type": "stream",
     "text": [
      "C:\\Users\\francescag\\AppData\\Local\\Temp\\ipykernel_6612\\4211575454.py:3: SettingWithCopyWarning: \n",
      "A value is trying to be set on a copy of a slice from a DataFrame.\n",
      "Try using .loc[row_indexer,col_indexer] = value instead\n",
      "\n",
      "See the caveats in the documentation: https://pandas.pydata.org/pandas-docs/stable/user_guide/indexing.html#returning-a-view-versus-a-copy\n",
      "  df['rolling mean APE'] = df['APE peaks'].rolling(window=1).mean()\n",
      "C:\\Users\\francescag\\AppData\\Local\\Temp\\ipykernel_6612\\4211575454.py:4: SettingWithCopyWarning: \n",
      "A value is trying to be set on a copy of a slice from a DataFrame.\n",
      "Try using .loc[row_indexer,col_indexer] = value instead\n",
      "\n",
      "See the caveats in the documentation: https://pandas.pydata.org/pandas-docs/stable/user_guide/indexing.html#returning-a-view-versus-a-copy\n",
      "  df[key] =df[key].rolling(window=1).mean()\n"
     ]
    },
    {
     "data": {
      "text/plain": [
       "<AxesSubplot:xlabel='actual trial number', ylabel='wrong habit'>"
      ]
     },
     "execution_count": 998,
     "metadata": {},
     "output_type": "execute_result"
    },
    {
     "data": {
      "image/png": "[encoded data removed]",
      "text/plain": [
       "<Figure size 432x288 with 1 Axes>"
      ]
     },
     "metadata": {
      "needs_background": "light"
     },
     "output_type": "display_data"
    }
   ],
   "source": [
    "key = 'abs fitted max cumsum ang vel'\n",
    "df = contra_trials[['APE peaks', 'wrong habit', key]]\n",
    "df['rolling mean APE'] = df['APE peaks'].rolling(window=1).mean()\n",
    "df[key] =df[key].rolling(window=1).mean()\n",
    "normalized_df=(df-df.mean())/df.std()\n",
    "normalized_df['actual trial number'] = contra_trials['actual trial numbers']\n",
    "sns.lineplot(data=normalized_df, x='actual trial number', y='wrong habit')\n",
    "sns.lineplot(data=normalized_df, x='actual trial number', y='rolling mean APE')\n",
    "#plt.plot(normalized_df[key])"
   ]
  },
  {
   "cell_type": "code",
   "execution_count": 881,
   "metadata": {},
   "outputs": [
    {
     "ename": "KeyError",
     "evalue": "\"['bias'] not in index\"",
     "output_type": "error",
     "traceback": [
      "\u001b[1;31m---------------------------------------------------------------------------\u001b[0m",
      "\u001b[1;31mKeyError\u001b[0m                                  Traceback (most recent call last)",
      "Input \u001b[1;32mIn [881]\u001b[0m, in \u001b[0;36m<cell line: 1>\u001b[1;34m()\u001b[0m\n\u001b[1;32m----> 1\u001b[0m df \u001b[38;5;241m=\u001b[39m \u001b[43mipsi_trials\u001b[49m\u001b[43m[\u001b[49m\u001b[43m[\u001b[49m\u001b[38;5;124;43m'\u001b[39;49m\u001b[38;5;124;43mAPE peaks\u001b[39;49m\u001b[38;5;124;43m'\u001b[39;49m\u001b[43m,\u001b[49m\u001b[43m \u001b[49m\u001b[38;5;124;43m'\u001b[39;49m\u001b[38;5;124;43mbias\u001b[39;49m\u001b[38;5;124;43m'\u001b[39;49m\u001b[43m]\u001b[49m\u001b[43m]\u001b[49m\n\u001b[0;32m      2\u001b[0m df[\u001b[38;5;124m'\u001b[39m\u001b[38;5;124mrolling mean APE\u001b[39m\u001b[38;5;124m'\u001b[39m] \u001b[38;5;241m=\u001b[39m df[\u001b[38;5;124m'\u001b[39m\u001b[38;5;124mAPE peaks\u001b[39m\u001b[38;5;124m'\u001b[39m]\u001b[38;5;241m.\u001b[39mrolling(window\u001b[38;5;241m=\u001b[39m\u001b[38;5;241m10\u001b[39m)\u001b[38;5;241m.\u001b[39mmean()\n\u001b[0;32m      3\u001b[0m normalized_df\u001b[38;5;241m=\u001b[39m(df\u001b[38;5;241m-\u001b[39mdf\u001b[38;5;241m.\u001b[39mmean())\u001b[38;5;241m/\u001b[39mdf\u001b[38;5;241m.\u001b[39mstd()\n",
      "File \u001b[1;32m~\\AppData\\Local\\Continuum\\miniconda3\\envs\\py38\\lib\\site-packages\\pandas\\core\\frame.py:3511\u001b[0m, in \u001b[0;36mDataFrame.__getitem__\u001b[1;34m(self, key)\u001b[0m\n\u001b[0;32m   3509\u001b[0m     \u001b[38;5;28;01mif\u001b[39;00m is_iterator(key):\n\u001b[0;32m   3510\u001b[0m         key \u001b[38;5;241m=\u001b[39m \u001b[38;5;28mlist\u001b[39m(key)\n\u001b[1;32m-> 3511\u001b[0m     indexer \u001b[38;5;241m=\u001b[39m \u001b[38;5;28;43mself\u001b[39;49m\u001b[38;5;241;43m.\u001b[39;49m\u001b[43mcolumns\u001b[49m\u001b[38;5;241;43m.\u001b[39;49m\u001b[43m_get_indexer_strict\u001b[49m\u001b[43m(\u001b[49m\u001b[43mkey\u001b[49m\u001b[43m,\u001b[49m\u001b[43m \u001b[49m\u001b[38;5;124;43m\"\u001b[39;49m\u001b[38;5;124;43mcolumns\u001b[39;49m\u001b[38;5;124;43m\"\u001b[39;49m\u001b[43m)\u001b[49m[\u001b[38;5;241m1\u001b[39m]\n\u001b[0;32m   3513\u001b[0m \u001b[38;5;66;03m# take() does not accept boolean indexers\u001b[39;00m\n\u001b[0;32m   3514\u001b[0m \u001b[38;5;28;01mif\u001b[39;00m \u001b[38;5;28mgetattr\u001b[39m(indexer, \u001b[38;5;124m\"\u001b[39m\u001b[38;5;124mdtype\u001b[39m\u001b[38;5;124m\"\u001b[39m, \u001b[38;5;28;01mNone\u001b[39;00m) \u001b[38;5;241m==\u001b[39m \u001b[38;5;28mbool\u001b[39m:\n",
      "File \u001b[1;32m~\\AppData\\Local\\Continuum\\miniconda3\\envs\\py38\\lib\\site-packages\\pandas\\core\\indexes\\base.py:5782\u001b[0m, in \u001b[0;36mIndex._get_indexer_strict\u001b[1;34m(self, key, axis_name)\u001b[0m\n\u001b[0;32m   5779\u001b[0m \u001b[38;5;28;01melse\u001b[39;00m:\n\u001b[0;32m   5780\u001b[0m     keyarr, indexer, new_indexer \u001b[38;5;241m=\u001b[39m \u001b[38;5;28mself\u001b[39m\u001b[38;5;241m.\u001b[39m_reindex_non_unique(keyarr)\n\u001b[1;32m-> 5782\u001b[0m \u001b[38;5;28;43mself\u001b[39;49m\u001b[38;5;241;43m.\u001b[39;49m\u001b[43m_raise_if_missing\u001b[49m\u001b[43m(\u001b[49m\u001b[43mkeyarr\u001b[49m\u001b[43m,\u001b[49m\u001b[43m \u001b[49m\u001b[43mindexer\u001b[49m\u001b[43m,\u001b[49m\u001b[43m \u001b[49m\u001b[43maxis_name\u001b[49m\u001b[43m)\u001b[49m\n\u001b[0;32m   5784\u001b[0m keyarr \u001b[38;5;241m=\u001b[39m \u001b[38;5;28mself\u001b[39m\u001b[38;5;241m.\u001b[39mtake(indexer)\n\u001b[0;32m   5785\u001b[0m \u001b[38;5;28;01mif\u001b[39;00m \u001b[38;5;28misinstance\u001b[39m(key, Index):\n\u001b[0;32m   5786\u001b[0m     \u001b[38;5;66;03m# GH 42790 - Preserve name from an Index\u001b[39;00m\n",
      "File \u001b[1;32m~\\AppData\\Local\\Continuum\\miniconda3\\envs\\py38\\lib\\site-packages\\pandas\\core\\indexes\\base.py:5845\u001b[0m, in \u001b[0;36mIndex._raise_if_missing\u001b[1;34m(self, key, indexer, axis_name)\u001b[0m\n\u001b[0;32m   5842\u001b[0m     \u001b[38;5;28;01mraise\u001b[39;00m \u001b[38;5;167;01mKeyError\u001b[39;00m(\u001b[38;5;124mf\u001b[39m\u001b[38;5;124m\"\u001b[39m\u001b[38;5;124mNone of [\u001b[39m\u001b[38;5;132;01m{\u001b[39;00mkey\u001b[38;5;132;01m}\u001b[39;00m\u001b[38;5;124m] are in the [\u001b[39m\u001b[38;5;132;01m{\u001b[39;00maxis_name\u001b[38;5;132;01m}\u001b[39;00m\u001b[38;5;124m]\u001b[39m\u001b[38;5;124m\"\u001b[39m)\n\u001b[0;32m   5844\u001b[0m not_found \u001b[38;5;241m=\u001b[39m \u001b[38;5;28mlist\u001b[39m(ensure_index(key)[missing_mask\u001b[38;5;241m.\u001b[39mnonzero()[\u001b[38;5;241m0\u001b[39m]]\u001b[38;5;241m.\u001b[39munique())\n\u001b[1;32m-> 5845\u001b[0m \u001b[38;5;28;01mraise\u001b[39;00m \u001b[38;5;167;01mKeyError\u001b[39;00m(\u001b[38;5;124mf\u001b[39m\u001b[38;5;124m\"\u001b[39m\u001b[38;5;132;01m{\u001b[39;00mnot_found\u001b[38;5;132;01m}\u001b[39;00m\u001b[38;5;124m not in index\u001b[39m\u001b[38;5;124m\"\u001b[39m)\n",
      "\u001b[1;31mKeyError\u001b[0m: \"['bias'] not in index\""
     ]
    }
   ],
   "source": [
    "df = ipsi_trials[['APE peaks', 'bias']]\n",
    "df['rolling mean APE'] = df['APE peaks'].rolling(window=10).mean()\n",
    "normalized_df=(df-df.mean())/df.std()\n",
    "plt.plot(normalized_df.bias)\n",
    "plt.plot(normalized_df['rolling mean APE'])"
   ]
  },
  {
   "cell_type": "code",
   "execution_count": 636,
   "metadata": {},
   "outputs": [
    {
     "data": {
      "text/plain": [
       "[<matplotlib.lines.Line2D at 0x21cf71fd0>]"
      ]
     },
     "execution_count": 636,
     "metadata": {},
     "output_type": "execute_result"
    },
    {
     "data": {
      "image/png": "[encoded data removed]",
      "text/plain": [
       "<Figure size 432x288 with 1 Axes>"
      ]
     },
     "metadata": {
      "needs_background": "light"
     },
     "output_type": "display_data"
    }
   ],
   "source": [
    "plt.plot(contra_trials['actual trial numbers'], contra_trials.bias)\n",
    "plt.plot(ipsi_trials['actual trial numbers'], ipsi_trials.bias)"
   ]
  },
  {
   "cell_type": "code",
   "execution_count": 983,
   "metadata": {},
   "outputs": [
    {
     "name": "stdout",
     "output_type": "stream",
     "text": [
      "                            OLS Regression Results                            \n",
      "==============================================================================\n",
      "Dep. Variable:              APE peaks   R-squared:                       0.012\n",
      "Model:                            OLS   Adj. R-squared:                  0.000\n",
      "Method:                 Least Squares   F-statistic:                     1.003\n",
      "Date:                Tue, 27 Aug 2024   Prob (F-statistic):              0.320\n",
      "Time:                        11:52:52   Log-Likelihood:                -111.70\n",
      "No. Observations:                  82   AIC:                             227.4\n",
      "Df Residuals:                      80   BIC:                             232.2\n",
      "Df Model:                           1                                         \n",
      "Covariance Type:            nonrobust                                         \n",
      "===============================================================================\n",
      "                  coef    std err          t      P>|t|      [0.025      0.975]\n",
      "-------------------------------------------------------------------------------\n",
      "const           0.0340      0.106      0.322      0.748      -0.176       0.244\n",
      "wrong habit     0.1064      0.106      1.001      0.320      -0.105       0.318\n",
      "==============================================================================\n",
      "Omnibus:                        0.987   Durbin-Watson:                   2.049\n",
      "Prob(Omnibus):                  0.610   Jarque-Bera (JB):                1.016\n",
      "Skew:                          -0.143   Prob(JB):                        0.602\n",
      "Kurtosis:                       2.536   Cond. No.                         1.01\n",
      "==============================================================================\n",
      "\n",
      "Notes:\n",
      "[1] Standard Errors assume that the covariance matrix of the errors is correctly specified.\n"
     ]
    }
   ],
   "source": [
    "\n",
    "# Drop NaN values that result from the rolling operation\n",
    "rolling_mean_contra = normalized_df['wrong habit'].dropna()\n",
    "\n",
    "# Align the continuous series with the rolling mean series by matching indices\n",
    "aligned_continuous_series_contra = normalized_df['APE peaks'].loc[rolling_mean_contra.index]\n",
    "aligned_continuous_series_contra = aligned_continuous_series_contra.dropna()\n",
    "rolling_mean_contra = rolling_mean_contra.loc[aligned_continuous_series_contra.index]\n",
    "# Perform regression (adding a constant for the intercept)\n",
    "X = sm.add_constant(rolling_mean_contra)\n",
    "model = sm.OLS(aligned_continuous_series_contra, X)\n",
    "results = model.fit()\n",
    "\n",
    "# Display the regression results\n",
    "print(results.summary())"
   ]
  },
  {
   "cell_type": "code",
   "execution_count": 856,
   "metadata": {},
   "outputs": [
    {
     "ename": "AttributeError",
     "evalue": "'DataFrame' object has no attribute 'bias'",
     "output_type": "error",
     "traceback": [
      "\u001b[1;31m---------------------------------------------------------------------------\u001b[0m",
      "\u001b[1;31mAttributeError\u001b[0m                            Traceback (most recent call last)",
      "Input \u001b[1;32mIn [856]\u001b[0m, in \u001b[0;36m<cell line: 2>\u001b[1;34m()\u001b[0m\n\u001b[0;32m      1\u001b[0m \u001b[38;5;66;03m# Drop NaN values that result from the rolling operation\u001b[39;00m\n\u001b[1;32m----> 2\u001b[0m rolling_mean_ipsi \u001b[38;5;241m=\u001b[39m \u001b[43mipsi_trials\u001b[49m\u001b[38;5;241;43m.\u001b[39;49m\u001b[43mbias\u001b[49m\u001b[38;5;241m.\u001b[39mdropna()\n\u001b[0;32m      4\u001b[0m \u001b[38;5;66;03m# Align the continuous series with the rolling mean series by matching indices\u001b[39;00m\n\u001b[0;32m      5\u001b[0m aligned_continuous_series_ipsi \u001b[38;5;241m=\u001b[39m ipsi_trials[\u001b[38;5;124m'\u001b[39m\u001b[38;5;124mAPE peaks\u001b[39m\u001b[38;5;124m'\u001b[39m]\u001b[38;5;241m.\u001b[39mloc[rolling_mean_ipsi\u001b[38;5;241m.\u001b[39mindex]\n",
      "File \u001b[1;32m~\\AppData\\Local\\Continuum\\miniconda3\\envs\\py38\\lib\\site-packages\\pandas\\core\\generic.py:5583\u001b[0m, in \u001b[0;36mNDFrame.__getattr__\u001b[1;34m(self, name)\u001b[0m\n\u001b[0;32m   5576\u001b[0m \u001b[38;5;28;01mif\u001b[39;00m (\n\u001b[0;32m   5577\u001b[0m     name \u001b[38;5;129;01mnot\u001b[39;00m \u001b[38;5;129;01min\u001b[39;00m \u001b[38;5;28mself\u001b[39m\u001b[38;5;241m.\u001b[39m_internal_names_set\n\u001b[0;32m   5578\u001b[0m     \u001b[38;5;129;01mand\u001b[39;00m name \u001b[38;5;129;01mnot\u001b[39;00m \u001b[38;5;129;01min\u001b[39;00m \u001b[38;5;28mself\u001b[39m\u001b[38;5;241m.\u001b[39m_metadata\n\u001b[0;32m   5579\u001b[0m     \u001b[38;5;129;01mand\u001b[39;00m name \u001b[38;5;129;01mnot\u001b[39;00m \u001b[38;5;129;01min\u001b[39;00m \u001b[38;5;28mself\u001b[39m\u001b[38;5;241m.\u001b[39m_accessors\n\u001b[0;32m   5580\u001b[0m     \u001b[38;5;129;01mand\u001b[39;00m \u001b[38;5;28mself\u001b[39m\u001b[38;5;241m.\u001b[39m_info_axis\u001b[38;5;241m.\u001b[39m_can_hold_identifiers_and_holds_name(name)\n\u001b[0;32m   5581\u001b[0m ):\n\u001b[0;32m   5582\u001b[0m     \u001b[38;5;28;01mreturn\u001b[39;00m \u001b[38;5;28mself\u001b[39m[name]\n\u001b[1;32m-> 5583\u001b[0m \u001b[38;5;28;01mreturn\u001b[39;00m \u001b[38;5;28;43mobject\u001b[39;49m\u001b[38;5;241;43m.\u001b[39;49m\u001b[38;5;21;43m__getattribute__\u001b[39;49m\u001b[43m(\u001b[49m\u001b[38;5;28;43mself\u001b[39;49m\u001b[43m,\u001b[49m\u001b[43m \u001b[49m\u001b[43mname\u001b[49m\u001b[43m)\u001b[49m\n",
      "\u001b[1;31mAttributeError\u001b[0m: 'DataFrame' object has no attribute 'bias'"
     ]
    }
   ],
   "source": [
    "\n",
    "# Drop NaN values that result from the rolling operation\n",
    "rolling_mean_ipsi = ipsi_trials.bias.dropna()\n",
    "\n",
    "# Align the continuous series with the rolling mean series by matching indices\n",
    "aligned_continuous_series_ipsi = ipsi_trials['APE peaks'].loc[rolling_mean_ipsi.index]\n",
    "\n",
    "# Perform regression (adding a constant for the intercept)\n",
    "X = sm.add_constant(rolling_mean_ipsi)\n",
    "model = sm.OLS(aligned_continuous_series_ipsi, X)\n",
    "results = model.fit()\n",
    "\n",
    "# Display the regression results\n",
    "print(results.summary())"
   ]
  },
  {
   "cell_type": "code",
   "execution_count": 984,
   "metadata": {},
   "outputs": [
    {
     "name": "stderr",
     "output_type": "stream",
     "text": [
      "C:\\Users\\francescag\\AppData\\Local\\Continuum\\miniconda3\\envs\\py38\\lib\\site-packages\\seaborn\\_decorators.py:36: FutureWarning: Pass the following variables as keyword args: x, y. From version 0.12, the only valid positional argument will be `data`, and passing other arguments without an explicit keyword will result in an error or misinterpretation.\n",
      "  warnings.warn(\n"
     ]
    },
    {
     "data": {
      "text/plain": [
       "<AxesSubplot:xlabel='APE peaks', ylabel='wrong habit'>"
      ]
     },
     "execution_count": 984,
     "metadata": {},
     "output_type": "execute_result"
    },
    {
     "data": {
      "image/png": "[encoded data removed]",
      "text/plain": [
       "<Figure size 432x288 with 1 Axes>"
      ]
     },
     "metadata": {
      "needs_background": "light"
     },
     "output_type": "display_data"
    }
   ],
   "source": [
    "\n",
    "sns.regplot(aligned_continuous_series_contra, rolling_mean_contra)"
   ]
  },
  {
   "cell_type": "code",
   "execution_count": 548,
   "metadata": {},
   "outputs": [
    {
     "data": {
      "text/plain": [
       "Index(['max speed', 'average speed', 'time to max speed', 'speeds',\n",
       "       'max acceleration', 'average acceleration', 'time to max acceleration',\n",
       "       'accelerations', 'APE peaks', 'time to move', 'trial numbers', 'traces',\n",
       "       'head x', 'head y', 'head angles', 'angular velocity',\n",
       "       'max angular velocity', 'time to max angular vel', 'cumsum ang vel',\n",
       "       'max cumsum ang vel', 'time to max cum sum ang vel', 'max initial turn',\n",
       "       'angular acceleration', 'turn slopes', 'turn starts', 'sig x', 'sig y',\n",
       "       'sig mse', 'movement dir', 'distance travelled', 'last 10 x',\n",
       "       'last 10 y', 'fitted max cumsum ang vel', 'area under sigmoid',\n",
       "       'trial type', 'reaction times', 'side', 'choice numeric',\n",
       "       'actual trial numbers', 'last trial type', 'last outcome',\n",
       "       'last choice', 'next trial type', 'next outcome', 'next choice',\n",
       "       'next choice numeric', 'stay or switch', 'outcome', 'APE quantile',\n",
       "       'date', 'abs fitted max cumsum ang vel', 'bias'],\n",
       "      dtype='object')"
      ]
     },
     "execution_count": 548,
     "metadata": {},
     "output_type": "execute_result"
    }
   ],
   "source": [
    "all_session_data.columns"
   ]
  },
  {
   "cell_type": "code",
   "execution_count": 652,
   "metadata": {},
   "outputs": [
    {
     "data": {
      "text/plain": [
       "1.879472364700156"
      ]
     },
     "execution_count": 652,
     "metadata": {},
     "output_type": "execute_result"
    }
   ],
   "source": [
    "contra_trials[contra_trials['bias'] <np.nanmean(contra_trials.bias)]['APE peaks'].mean()"
   ]
  },
  {
   "cell_type": "code",
   "execution_count": 653,
   "metadata": {},
   "outputs": [
    {
     "data": {
      "text/plain": [
       "1.81943572115545"
      ]
     },
     "execution_count": 653,
     "metadata": {},
     "output_type": "execute_result"
    }
   ],
   "source": [
    "contra_trials[contra_trials['bias'] >= np.nanmean(contra_trials.bias)]['APE peaks'].mean()"
   ]
  },
  {
   "cell_type": "code",
   "execution_count": 638,
   "metadata": {},
   "outputs": [
    {
     "data": {
      "text/plain": [
       "0.04999999999999999"
      ]
     },
     "execution_count": 638,
     "metadata": {},
     "output_type": "execute_result"
    }
   ],
   "source": [
    "np.nanmax(contra_trials.bias)"
   ]
  },
  {
   "cell_type": "code",
   "execution_count": 642,
   "metadata": {},
   "outputs": [
    {
     "data": {
      "text/plain": [
       "(array([4., 9., 5., 9., 4., 7., 6., 2., 5., 3.]),\n",
       " array([-0.7  , -0.625, -0.55 , -0.475, -0.4  , -0.325, -0.25 , -0.175,\n",
       "        -0.1  , -0.025,  0.05 ]),\n",
       " <BarContainer object of 10 artists>)"
      ]
     },
     "execution_count": 642,
     "metadata": {},
     "output_type": "execute_result"
    },
    {
     "data": {
      "image/png": "[encoded data removed]",
      "text/plain": [
       "<Figure size 432x288 with 1 Axes>"
      ]
     },
     "metadata": {
      "needs_background": "light"
     },
     "output_type": "display_data"
    }
   ],
   "source": [
    "plt.hist(contra_trials.bias\n",
    "        )"
   ]
  },
  {
   "cell_type": "code",
   "execution_count": null,
   "metadata": {},
   "outputs": [],
   "source": []
  }
 ],
 "metadata": {
  "kernelspec": {
   "display_name": "Python 3 (ipykernel)",
   "language": "python",
   "name": "python3"
  },
  "language_info": {
   "codemirror_mode": {
    "name": "ipython",
    "version": 3
   },
   "file_extension": ".py",
   "mimetype": "text/x-python",
   "name": "python",
   "nbconvert_exporter": "python",
   "pygments_lexer": "ipython3",
   "version": "3.8.13"
  }
 },
 "nbformat": 4,
 "nbformat_minor": 4
}
