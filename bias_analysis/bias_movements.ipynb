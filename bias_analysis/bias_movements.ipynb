{
 "cells": [
  {
   "cell_type": "code",
   "execution_count": 1,
   "id": "43f960a7",
   "metadata": {},
   "outputs": [],
   "source": [
    "from scipy import stats\n",
    "import os\n",
    "import sys\n",
    "sys.path.append('..')\n",
    "import seaborn as sns\n",
    "from utils.tracking_analysis.tracking_plotting import *\n",
    "from set_global_params import raw_tracking_path, processed_data_path, bias_path, change_over_time_mice, fig4_plotting_colours\n",
    "from utils.reaction_time_utils import get_bpod_trial_nums_per_session\n",
    "from utils.post_processing_utils import get_all_experimental_records\n",
    "from utils.post_processing_utils import remove_exps_after_manipulations, remove_unsuitable_recordings, remove_manipulation_days\n",
    "from utils.plotting_visuals import makes_plots_pretty\n",
    "from utils.plotting import output_significance_stars_from_pval\n",
    "import statsmodels.api as sm"
   ]
  },
  {
   "cell_type": "code",
   "execution_count": 2,
   "id": "93ef41db",
   "metadata": {},
   "outputs": [],
   "source": [
    "def rolling_mean_plotting(data, y_var, ipsi_contra='contra_data', win=40):\n",
    "    data = data[[y_var, 'trial_type']]\n",
    "    data = data[data['trial_type'] == ipsi_contra].dropna()\n",
    "  \n",
    "    x_values = data[y_var].index.values\n",
    "    y_values = data[y_var].values\n",
    "\n",
    "    # Convert x_values to a Pandas Series to calculate the rolling mean\n",
    "    x_series = pd.Series(x_values)\n",
    "    y_series = pd.Series(y_values)\n",
    "\n",
    "    # Calculate the rolling mean with a window size of your choice, e.g., 5\n",
    "    rolling_x = x_series.rolling(window=win).mean()\n",
    "    rolling_y = y_series.rolling(window=win).mean()\n",
    "\n",
    "    # Create a scatter plot using the rolling means\n",
    "    plt.scatter(rolling_x, rolling_y)\n",
    "    plt.title('Scatter Plot of Rolling Mean')\n",
    "    plt.xlabel('Rolling Mean of X')\n",
    "    plt.ylabel('Rolling Mean of Y')\n",
    "    plt.show()\n"
   ]
  },
  {
   "cell_type": "code",
   "execution_count": 224,
   "id": "7c055a03",
   "metadata": {},
   "outputs": [],
   "source": [
    "def perform_single_lag_regression(all_session_data, lag, test_col='turn angle'):\n",
    "    all_session_data[f'choice_t_minus_{lag}'] = shift_respecting_index(all_session_data['choice'], lag)\n",
    "    all_session_data[f'stim_t_minus_{lag}'] = shift_respecting_index(all_session_data['Trial type'], lag)\n",
    "    all_session_data[f'stim_t_minus{lag}_match'] = (all_session_data[f'stim_t_minus_{lag}'] == all_session_data['Trial type'])\n",
    "    all_session_data[f'choice_t_minus{lag}_match'] = (all_session_data[f'choice_t_minus_{lag}'] == all_session_data['choice'])\n",
    "    all_session_data[f'turn_ang_t_minus_{lag}'] = shift_respecting_index(all_session_data[test_col], lag)\n",
    "\n",
    "    test_var = f'turn_ang_t_minus_{lag}'\n",
    "\n",
    "\n",
    "    contra_trials = all_session_data[(all_session_data['trial_type'].notna())\n",
    "                                     & (all_session_data[f'stim_t_minus{lag}_match'] == True)\n",
    "                                     & (all_session_data[f'choice_t_minus{lag}_match'] == True)\n",
    "                                     & (all_session_data['First choice correct'] == 1)]\n",
    "    df = contra_trials[['APE_peaks', test_var]].copy()\n",
    "    df = df.dropna().reset_index(drop=True)\n",
    "\n",
    "    df.loc[:, test_var] = df[test_var].astype(float)\n",
    "    df.loc[:, 'APE_peaks'] = df['APE_peaks'].apply(lambda x: np.nan if isinstance(x, np.ndarray) and x.size == 0 else x)\n",
    "\n",
    "    df.loc[:, 'APE_peaks'] = df['APE_peaks'].astype(float)\n",
    "    \n",
    "\n",
    "    y = df[test_var]\n",
    "    X = df['APE_peaks'].astype(float)\n",
    "    print(y.shape)\n",
    "    X = sm.add_constant(X)\n",
    "    # Fit the regression model\n",
    "    model = sm.OLS(y, X).fit()\n",
    "    return model.params[1:], model.pvalues[1:], all_session_data"
   ]
  },
  {
   "cell_type": "code",
   "execution_count": 300,
   "id": "44e343ca",
   "metadata": {},
   "outputs": [],
   "source": [
    "def shift_respecting_index(vals_to_shift, shift_size):\n",
    "    \"\"\"\n",
    "    Shifts a pandas df column by shift_size indices\n",
    "    but if there is a discontinuity in the index,\n",
    "    replaces the shifted index with nan\n",
    "    \"\"\"\n",
    "    \n",
    "    shifted_vals = vals_to_shift.shift(periods=shift_size)\n",
    "    # Detect discontinuities in the index\n",
    "    trial_num_diff = vals_to_shift.index.to_series().diff().fillna(shift_size)\n",
    "\n",
    "    # Identify where the shift should result in NaN due to discontinuities\n",
    "    discontinuities = trial_num_diff > np.abs(shift_size)\n",
    "\n",
    "    if shift_size < 0:\n",
    "        # Shift the discontinuities by -1 to mark the value before the discontinuity - for negative shifts!!\n",
    "        discontinuities_before = discontinuities.shift(shift_size).fillna(False)\n",
    "        # Replace the values just before the discontinuity with NaN\n",
    "        shifted_vals[discontinuities_before] = np.nan\n",
    "    else:\n",
    "        shifted_vals[discontinuities] = np.nan\n",
    "\n",
    "    return shifted_vals\n"
   ]
  },
  {
   "cell_type": "code",
   "execution_count": 301,
   "id": "6ab053b9",
   "metadata": {},
   "outputs": [],
   "source": [
    "recording_site = 'tail'\n",
    "all_experiments = get_all_experimental_records()"
   ]
  },
  {
   "cell_type": "code",
   "execution_count": 302,
   "id": "6b465392",
   "metadata": {},
   "outputs": [
    {
     "name": "stdout",
     "output_type": "stream",
     "text": [
      "SNL_photo16\n",
      "(476,)\n",
      "SNL_photo17\n",
      "(856,)\n",
      "SNL_photo18\n",
      "(436,)\n",
      "SNL_photo21\n",
      "(458,)\n",
      "SNL_photo22\n",
      "(572,)\n",
      "SNL_photo26\n",
      "(837,)\n"
     ]
    }
   ],
   "source": [
    "mice = change_over_time_mice[recording_site]\n",
    "num_lags = 1\n",
    "num_mice = len(mice)\n",
    "coefs = np.zeros([num_mice, num_lags])\n",
    "pvals = np.zeros([num_mice, num_lags])\n",
    "\n",
    "for m, mouse in enumerate(mice):\n",
    "    print(mouse)\n",
    "    bias_file = os.path.join(bias_path, 'pre_processing_movement_bias_{}.pkl'.format(mouse))\n",
    "    with_movement_data = pd.read_pickle(bias_file)\n",
    "    contra_side = with_movement_data[(with_movement_data['trial_type'] == 'contra_data') & (with_movement_data['First choice correct'] == 1)]['First response'].unique()[0]\n",
    "    if contra_side == 1:\n",
    "        ipsi_contra_map = {1: 'contra', 2: 'ipsi'}\n",
    "    else:\n",
    "        ipsi_contra_map = {1: 'ipsi', 2: 'contra'}\n",
    "        \n",
    "    with_movement_data['choice'] = with_movement_data['First response'].map(ipsi_contra_map)\n",
    "\n",
    "    # Map 'choice' column to 1 and 0\n",
    "    with_movement_data['choice'] = with_movement_data['choice'].map({'contra': 1, 'ipsi': 0})\n",
    "    with_movement_data['turn ang abs diff'] = np.abs(with_movement_data['turn angle'].diff())\n",
    "\n",
    "    for lag in range(1, num_lags + 1):\n",
    "        coefs[m, lag-1], pvals[m, lag-1], df = perform_single_lag_regression(with_movement_data, -lag, test_col='turn ang abs diff')\n"
   ]
  },
  {
   "cell_type": "code",
   "execution_count": 294,
   "id": "ab1a207e",
   "metadata": {},
   "outputs": [
    {
     "data": {
      "text/html": [
       "<div>\n",
       "<style scoped>\n",
       "    .dataframe tbody tr th:only-of-type {\n",
       "        vertical-align: middle;\n",
       "    }\n",
       "\n",
       "    .dataframe tbody tr th {\n",
       "        vertical-align: top;\n",
       "    }\n",
       "\n",
       "    .dataframe thead th {\n",
       "        text-align: right;\n",
       "    }\n",
       "</style>\n",
       "<table border=\"1\" class=\"dataframe\">\n",
       "  <thead>\n",
       "    <tr style=\"text-align: right;\">\n",
       "      <th></th>\n",
       "      <th>choice_t_minus_-1</th>\n",
       "      <th>choice</th>\n",
       "    </tr>\n",
       "    <tr>\n",
       "      <th>actual trial nums</th>\n",
       "      <th></th>\n",
       "      <th></th>\n",
       "    </tr>\n",
       "  </thead>\n",
       "  <tbody>\n",
       "    <tr>\n",
       "      <th>737.0</th>\n",
       "      <td>0.0</td>\n",
       "      <td>1.0</td>\n",
       "    </tr>\n",
       "    <tr>\n",
       "      <th>738.0</th>\n",
       "      <td>1.0</td>\n",
       "      <td>0.0</td>\n",
       "    </tr>\n",
       "    <tr>\n",
       "      <th>739.0</th>\n",
       "      <td>0.0</td>\n",
       "      <td>1.0</td>\n",
       "    </tr>\n",
       "    <tr>\n",
       "      <th>740.0</th>\n",
       "      <td>0.0</td>\n",
       "      <td>0.0</td>\n",
       "    </tr>\n",
       "    <tr>\n",
       "      <th>741.0</th>\n",
       "      <td>1.0</td>\n",
       "      <td>0.0</td>\n",
       "    </tr>\n",
       "  </tbody>\n",
       "</table>\n",
       "</div>"
      ],
      "text/plain": [
       "                   choice_t_minus_-1  choice\n",
       "actual trial nums                           \n",
       "737.0                            0.0     1.0\n",
       "738.0                            1.0     0.0\n",
       "739.0                            0.0     1.0\n",
       "740.0                            0.0     0.0\n",
       "741.0                            1.0     0.0"
      ]
     },
     "execution_count": 294,
     "metadata": {},
     "output_type": "execute_result"
    }
   ],
   "source": [
    "df[[f'choice_t_minus_{-1}', 'choice']].head()"
   ]
  },
  {
   "cell_type": "code",
   "execution_count": 295,
   "id": "4cb459fd",
   "metadata": {},
   "outputs": [
    {
     "data": {
      "text/plain": [
       "choice_t_minus_-1    1.0\n",
       "choice               0.0\n",
       "Name: 1820.0, dtype: float64"
      ]
     },
     "execution_count": 295,
     "metadata": {},
     "output_type": "execute_result"
    }
   ],
   "source": [
    "df[[f'choice_t_minus_{-1}', 'choice']].loc[1820]"
   ]
  },
  {
   "cell_type": "code",
   "execution_count": 303,
   "id": "56e0ba23",
   "metadata": {},
   "outputs": [],
   "source": [
    "def plot_multilag_coefs_accross_mice(recording_site, coefs, axs, color='blue'):\n",
    "    # Calculate the mean and SEM across axis=0\n",
    "    mean_coefs = np.mean(coefs, axis=0)\n",
    "    sem_coefs = stats.sem(coefs, axis=0)\n",
    "\n",
    "    # Create the x-axis values\n",
    "    x = (np.arange(mean_coefs.shape[0]) + 1).astype(int)\n",
    "\n",
    "    # Plot the mean\n",
    "    axs.plot(x, mean_coefs, label=recording_site, color=color)\n",
    "\n",
    "\n",
    "    # Plot the shaded error bars using SEM\n",
    "    axs.fill_between(x, mean_coefs - sem_coefs, mean_coefs + sem_coefs, color=color, alpha=0.3, label='')\n",
    "    plot_sig_stars_multilag(coefs, color, axs)\n",
    "    # Adding labels and legend\n",
    "    axs.set_ylabel('Regression coef')\n",
    "    axs.set_xlabel('Number of trials back')\n",
    "    #axs.set_ylim([-0.01, 0.01])\n",
    "    plt.legend(frameon=False)"
   ]
  },
  {
   "cell_type": "code",
   "execution_count": 304,
   "id": "4e5fd358",
   "metadata": {},
   "outputs": [],
   "source": [
    "def plot_sig_stars_multilag(coefs, color, axs):\n",
    "    second_order_coefs, second_order_pvals = test_for_coef_trend_against_zero_mulit_lag(coefs)\n",
    "    for lag_num in range(0, len(second_order_coefs)):\n",
    "        sig_stars = output_significance_stars_from_pval(second_order_pvals[lag_num])\n",
    "        if sig_stars != 'n.s.':\n",
    "            if second_order_coefs[lag_num] >= 0:\n",
    "                y = 0.01\n",
    "            else:\n",
    "                y=-0.01\n",
    "            axs.text(lag_num + 1, y, sig_stars, ha='center', fontsize=12, color=color)\n",
    "            "
   ]
  },
  {
   "cell_type": "code",
   "execution_count": 305,
   "id": "072cca14",
   "metadata": {},
   "outputs": [],
   "source": [
    "def test_for_coef_trend_against_zero_mulit_lag(coefs):\n",
    "    pvals = []\n",
    "    slopes = []\n",
    "    for lag_num in range(0, coefs.shape[1]):\n",
    "        test = stats.ttest_1samp(coefs.T[lag_num], 0)\n",
    "        pvals.append(test.pvalue)\n",
    "        slopes.append(test.statistic)\n",
    "    print(pvals, slopes)\n",
    "    return slopes, pvals"
   ]
  },
  {
   "cell_type": "code",
   "execution_count": 306,
   "id": "90cbd88e",
   "metadata": {},
   "outputs": [
    {
     "name": "stdout",
     "output_type": "stream",
     "text": [
      "[0.0689595925491985] [-2.3093913696221753]\n"
     ]
    },
    {
     "data": {
      "image/png": "[encoded data removed]",
      "text/plain": [
       "<Figure size 216x216 with 1 Axes>"
      ]
     },
     "metadata": {
      "needs_background": "light"
     },
     "output_type": "display_data"
    }
   ],
   "source": [
    "fig, axs = plt.subplots(1,1, figsize=[3,3])\n",
    "plot_multilag_coefs_accross_mice('TS', coefs, axs, color=fig4_plotting_colours[recording_site][0])"
   ]
  },
  {
   "cell_type": "markdown",
   "id": "0d98d365",
   "metadata": {},
   "source": [
    "# Frechet distance"
   ]
  },
  {
   "cell_type": "code",
   "execution_count": 307,
   "id": "bf78ccc9",
   "metadata": {},
   "outputs": [],
   "source": [
    "# Define the Frechet distance functions as before\n",
    "def euclidean_distance(point1, point2):\n",
    "    return np.linalg.norm(np.array(point1) - np.array(point2))\n",
    "\n",
    "def frechet_distance(P, Q):\n",
    "    \"\"\"\n",
    "    Computes the Frechet distance between two trajectories P and Q.\n",
    "    P and Q are lists of tuples, where each tuple represents a point (x, y).\n",
    "    \"\"\"\n",
    "    n = len(P)\n",
    "    m = len(Q)\n",
    "    \n",
    "    # Create a table to store intermediate results\n",
    "    dp = np.ones((n, m)) * -1\n",
    "    \n",
    "    def recursive_c(i, j):\n",
    "        # If this subproblem has already been computed, return its result\n",
    "        if dp[i, j] != -1:\n",
    "            return dp[i, j]\n",
    "        \n",
    "        # Base case: both points are at the start of their respective trajectories\n",
    "        if i == 0 and j == 0:\n",
    "            dp[i, j] = euclidean_distance(P[0], Q[0])\n",
    "        # Base case: one of the points is at the start of its trajectory\n",
    "        elif i > 0 and j == 0:\n",
    "            dp[i, j] = max(recursive_c(i - 1, 0), euclidean_distance(P[i], Q[0]))\n",
    "        elif i == 0 and j > 0:\n",
    "            dp[i, j] = max(recursive_c(0, j - 1), euclidean_distance(P[0], Q[j]))\n",
    "        # Recursive case: compute the distance considering all previous possibilities\n",
    "        else:\n",
    "            dp[i, j] = max(min(recursive_c(i - 1, j), recursive_c(i, j - 1), recursive_c(i - 1, j - 1)),\n",
    "                           euclidean_distance(P[i], Q[j]))\n",
    "        \n",
    "        return dp[i, j]\n",
    "    \n",
    "    return recursive_c(n - 1, m - 1)\n",
    "\n",
    "# Function to compute Frechet distance for each row in the dataframe\n",
    "def compute_frechet_for_row(row):\n",
    "    # Extract x and y for trajectory 1\n",
    "    trajectory1_x = row['head x']\n",
    "    trajectory1_y = row['head y']\n",
    "    \n",
    "    # Extract x and y for trajectory 2\n",
    "    trajectory2_x = row['head x t plus 1']\n",
    "    trajectory2_y = row['head y t plus 1']\n",
    "    \n",
    "    # Combine x and y into (x, y) tuples for each trajectory\n",
    "    trajectory1 = list(zip(trajectory1_x, trajectory1_y))\n",
    "    trajectory2 = list(zip(trajectory2_x, trajectory2_y))\n",
    "    \n",
    "    # Compute and return the Frechet distance between trajectory1 and trajectory2\n",
    "    return frechet_distance(trajectory1, trajectory2)\n",
    "\n"
   ]
  },
  {
   "cell_type": "code",
   "execution_count": null,
   "id": "100f3043",
   "metadata": {},
   "outputs": [],
   "source": [
    "mice = change_over_time_mice[recording_site]\n",
    "num_lags = 1\n",
    "num_mice = len(mice)\n",
    "coefs = np.zeros([num_mice, num_lags])\n",
    "pvals = np.zeros([num_mice, num_lags])\n",
    "\n",
    "for m, mouse in enumerate(mice):\n",
    "    bias_file = os.path.join(bias_path, 'pre_processing_movement_bias_{}.pkl'.format(mouse))\n",
    "    with_movement_data = pd.read_pickle(bias_file)\n",
    "    contra_side = with_movement_data[(with_movement_data['trial_type'] == 'contra_data') & (with_movement_data['First choice correct'] == 1)]['First response'].unique()[0]\n",
    "    if contra_side == 1:\n",
    "        ipsi_contra_map = {1: 'contra', 2: 'ipsi'}\n",
    "    else:\n",
    "        ipsi_contra_map = {1: 'ipsi', 2: 'contra'}\n",
    "    \n",
    "    with_movement_data['choice'] = with_movement_data['First response'].map(ipsi_contra_map)\n",
    "\n",
    "    # Map 'choice' column to 1 and 0\n",
    "    with_movement_data['choice'] = with_movement_data['choice'].map({'contra': 1, 'ipsi': 0})\n",
    "    lag = -1\n",
    "    with_movement_data['head x t plus 1'] = shift_respecting_index(with_movement_data['head x'], lag)\n",
    "    with_movement_data['head y t plus 1'] = shift_respecting_index(with_movement_data['head y'], lag)\n",
    "    with_movement_data[f'choice_t_minus_{lag}'] = shift_respecting_index(with_movement_data['choice'], lag)\n",
    "    with_movement_data[f'stim_t_minus_{lag}'] = shift_respecting_index(with_movement_data['Trial type'], lag)\n",
    "    with_movement_data[f'stim_t_minus{lag}_match'] = (with_movement_data[f'stim_t_minus_{lag}'] == with_movement_data['Trial type'])\n",
    "    with_movement_data[f'choice_t_minus{lag}_match'] = (with_movement_data[f'choice_t_minus_{lag}'] == with_movement_data['choice'])\n",
    "    \n",
    "    contra_trials = with_movement_data[(with_movement_data['trial_type'].notna())\n",
    "                                     & (with_movement_data[f'stim_t_minus{lag}_match'] == True)\n",
    "                                     & (with_movement_data[f'choice_t_minus{lag}_match'] == True)\n",
    "                                     & (with_movement_data['First choice correct'] == 1)]\n",
    "\n",
    "    df_for_reg = contra_trials[['head x', 'head y', 'head x t plus 1', 'head y t plus 1', 'APE_peaks']].dropna()\n",
    "    df_for_reg['frechet_distance'] = df_for_reg.apply(compute_frechet_for_row, axis=1)\n",
    "    test_var = 'frechet_distance'\n",
    "    df = df_for_reg[['APE_peaks', test_var]].copy()\n",
    "    df = df.dropna().reset_index(drop=True)\n",
    "\n",
    "    df.loc[:, test_var] = df[test_var].astype(float)\n",
    "    df.loc[:, 'APE_peaks'] = df['APE_peaks'].apply(lambda x: np.nan if isinstance(x, np.ndarray) and x.size == 0 else x)\n",
    "\n",
    "    df.loc[:, 'APE_peaks'] = df['APE_peaks'].astype(float)\n",
    "    \n",
    "\n",
    "    y = df[test_var]\n",
    "    X = df['APE_peaks'].astype(float)\n",
    "    print(y.shape)\n",
    "    X = sm.add_constant(X)\n",
    "    # Fit the regression model\n",
    "    model = sm.OLS(y, X).fit()\n",
    "    coefs[m, 0], pvals[m, 0] = model.params[1:], model.pvalues[1:]\n",
    "    "
   ]
  },
  {
   "cell_type": "code",
   "execution_count": 274,
   "id": "0190bca1",
   "metadata": {},
   "outputs": [
    {
     "data": {
      "text/plain": [
       "Text(0.5, 1.0, 'Trajectories with the Small frechet')"
      ]
     },
     "execution_count": 274,
     "metadata": {},
     "output_type": "execute_result"
    },
    {
     "data": {
      "image/png": "[encoded data removed]",
      "text/plain": [
       "<Figure size 576x432 with 1 Axes>"
      ]
     },
     "metadata": {
      "needs_background": "light"
     },
     "output_type": "display_data"
    }
   ],
   "source": [
    "import matplotlib.pyplot as plt\n",
    "\n",
    "# Find the row with the smallest Frechet distance\n",
    "min_frechet_row = df_for_reg.loc[df_for_reg['frechet_distance'].idxmin()]\n",
    "\n",
    "# Extract the corresponding trajectories (x, y for both trajectories)\n",
    "trajectory1_x = min_frechet_row['head x']\n",
    "trajectory1_y = min_frechet_row['head y']\n",
    "\n",
    "trajectory2_x = min_frechet_row['head x t plus 1']\n",
    "trajectory2_y = min_frechet_row['head y t plus 1']\n",
    "\n",
    "# Plot the two trajectories\n",
    "plt.figure(figsize=(8, 6))\n",
    "plt.plot(trajectory1_x, trajectory1_y, label='Trajectory 1', marker='o')\n",
    "plt.plot(trajectory2_x, trajectory2_y, label='Trajectory 2', marker='s')\n",
    "\n",
    "# Add labels and title\n",
    "plt.xlabel('X Coordinate')\n",
    "plt.ylabel('Y Coordinate')\n",
    "plt.title('Trajectories with the Small frechet')\n"
   ]
  },
  {
   "cell_type": "code",
   "execution_count": 275,
   "id": "7beaea48",
   "metadata": {},
   "outputs": [
    {
     "data": {
      "text/plain": [
       "Text(0.5, 1.0, 'Trajectories with the Large frechet')"
      ]
     },
     "execution_count": 275,
     "metadata": {},
     "output_type": "execute_result"
    },
    {
     "data": {
      "image/png": "[encoded data removed]",
      "text/plain": [
       "<Figure size 576x432 with 1 Axes>"
      ]
     },
     "metadata": {
      "needs_background": "light"
     },
     "output_type": "display_data"
    }
   ],
   "source": [
    "import matplotlib.pyplot as plt\n",
    "\n",
    "# Find the row with the smallest Frechet distance\n",
    "min_frechet_row = df_for_reg.loc[df_for_reg['frechet_distance'].idxmax()]\n",
    "\n",
    "# Extract the corresponding trajectories (x, y for both trajectories)\n",
    "trajectory1_x = min_frechet_row['head x']\n",
    "trajectory1_y = min_frechet_row['head y']\n",
    "\n",
    "trajectory2_x = min_frechet_row['head x t plus 1']\n",
    "trajectory2_y = min_frechet_row['head y t plus 1']\n",
    "\n",
    "# Plot the two trajectories\n",
    "plt.figure(figsize=(8, 6))\n",
    "plt.plot(trajectory1_x, trajectory1_y, label='Trajectory 1', marker='o')\n",
    "plt.plot(trajectory2_x, trajectory2_y, label='Trajectory 2', marker='s')\n",
    "\n",
    "# Add labels and title\n",
    "plt.xlabel('X Coordinate')\n",
    "plt.ylabel('Y Coordinate')\n",
    "plt.title('Trajectories with the Large frechet')"
   ]
  },
  {
   "cell_type": "code",
   "execution_count": 276,
   "id": "bf91ab45",
   "metadata": {},
   "outputs": [
    {
     "data": {
      "text/plain": [
       "(array([[-2.02992903],\n",
       "        [-1.45179149],\n",
       "        [-1.90720747],\n",
       "        [-0.57696474],\n",
       "        [-2.20218362],\n",
       "        [ 0.46252087]]),\n",
       " array([[0.02256487],\n",
       "        [0.0182957 ],\n",
       "        [0.06985003],\n",
       "        [0.47834693],\n",
       "        [0.01346564],\n",
       "        [0.49011203]]))"
      ]
     },
     "execution_count": 276,
     "metadata": {},
     "output_type": "execute_result"
    }
   ],
   "source": [
    "coefs, pvals"
   ]
  },
  {
   "cell_type": "code",
   "execution_count": 277,
   "id": "57682f35",
   "metadata": {},
   "outputs": [
    {
     "name": "stdout",
     "output_type": "stream",
     "text": [
      "[0.028864925218887776] [-3.0365331338546193]\n"
     ]
    },
    {
     "data": {
      "image/png": "[encoded data removed]",
      "text/plain": [
       "<Figure size 216x216 with 1 Axes>"
      ]
     },
     "metadata": {
      "needs_background": "light"
     },
     "output_type": "display_data"
    }
   ],
   "source": [
    "fig, axs = plt.subplots(1,1, figsize=[3,3])\n",
    "plot_multilag_coefs_accross_mice('TS', coefs, axs, color=fig4_plotting_colours[recording_site][0])"
   ]
  },
  {
   "cell_type": "code",
   "execution_count": null,
   "id": "24d9a0cf",
   "metadata": {},
   "outputs": [],
   "source": []
  },
  {
   "cell_type": "code",
   "execution_count": null,
   "id": "f9292a7f",
   "metadata": {},
   "outputs": [],
   "source": []
  }
 ],
 "metadata": {
  "kernelspec": {
   "display_name": "Python 3 (ipykernel)",
   "language": "python",
   "name": "python3"
  },
  "language_info": {
   "codemirror_mode": {
    "name": "ipython",
    "version": 3
   },
   "file_extension": ".py",
   "mimetype": "text/x-python",
   "name": "python",
   "nbconvert_exporter": "python",
   "pygments_lexer": "ipython3",
   "version": "3.8.13"
  }
 },
 "nbformat": 4,
 "nbformat_minor": 5
}
