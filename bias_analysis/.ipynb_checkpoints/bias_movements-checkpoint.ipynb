{
 "cells": [
  {
   "cell_type": "code",
   "execution_count": 1,
   "id": "43f960a7",
   "metadata": {},
   "outputs": [],
   "source": [
    "from scipy import stats\n",
    "import os\n",
    "import sys\n",
    "sys.path.append('..')\n",
    "import seaborn as sns\n",
    "from utils.tracking_analysis.tracking_plotting import *\n",
    "from set_global_params import raw_tracking_path, processed_data_path, bias_path, change_over_time_mice, fig4_plotting_colours\n",
    "from utils.reaction_time_utils import get_bpod_trial_nums_per_session\n",
    "from utils.post_processing_utils import get_all_experimental_records\n",
    "from utils.post_processing_utils import remove_exps_after_manipulations, remove_unsuitable_recordings, remove_manipulation_days\n",
    "from utils.plotting_visuals import makes_plots_pretty\n",
    "from utils.plotting import output_significance_stars_from_pval\n",
    "import statsmodels.api as sm"
   ]
  },
  {
   "cell_type": "code",
   "execution_count": 2,
   "id": "7c055a03",
   "metadata": {},
   "outputs": [],
   "source": [
    "def perform_single_lag_regression(all_session_data, lag):\n",
    "    all_session_data[f'choice_t_minus_{lag}'] = shift_respecting_index(all_session_data['choice'], lag)\n",
    "    all_session_data[f'stim_t_minus_{lag}'] = shift_respecting_index(all_session_data['Trial type'], lag)\n",
    "    all_session_data[f'stim_t_minus{lag}_match'] = (all_session_data[f'stim_t_minus_{lag}'] == all_session_data['Trial type'])\n",
    "    all_session_data[f'choice_t_minus{lag}_match'] = (all_session_data[f'choice_t_minus_{lag}'] == all_session_data['choice'])\n",
    "    all_session_data[f'turn_ang_t_minus_{lag}'] = shift_respecting_index(all_session_data['turn angle'], lag)\n",
    "\n",
    "    test_var = f'turn_ang_t_minus_{lag}'\n",
    "\n",
    "\n",
    "    contra_trials = all_session_data[(all_session_data['trial_type'].notna())\n",
    "                                     & (all_session_data[f'stim_t_minus{lag}_match'] == True)\n",
    "                                     & (all_session_data[f'choice_t_minus{lag}_match'] == True)\n",
    "                                    & (all_session_data['First choice correct'] == 1)]\n",
    "    df = contra_trials[['APE_peaks', test_var]].copy()\n",
    "    df.loc[:, test_var] = df[test_var].astype(float)\n",
    "    df.loc[:, 'APE_peaks'] = df['APE_peaks'].apply(lambda x: np.nan if isinstance(x, np.ndarray) and x.size == 0 else x)\n",
    "\n",
    "    df.loc[:, 'APE_peaks'] = df['APE_peaks'].astype(float)\n",
    "    df = df.dropna().reset_index(drop=True)\n",
    "\n",
    "\n",
    "    y = df[test_var]\n",
    "    X = df['APE_peaks'].astype(float)\n",
    "    X = sm.add_constant(X)\n",
    "    # Fit the regression model\n",
    "    model = sm.OLS(y, X).fit()\n",
    "    return model.params[1:], model.pvalues[1:]"
   ]
  },
  {
   "cell_type": "code",
   "execution_count": 3,
   "id": "44e343ca",
   "metadata": {},
   "outputs": [],
   "source": [
    "def shift_respecting_index(vals_to_shift, shift_size):\n",
    "    \"\"\"\n",
    "    Shifts a pandas df column by shift_size indices\n",
    "    but if there is a discontinuity in the index,\n",
    "    replaces the shifted index with nan\n",
    "    \"\"\"\n",
    "    \n",
    "    shifted_vals = vals_to_shift.shift(periods=shift_size)\n",
    "\n",
    "    # Detect discontinuities in the index\n",
    "    trial_num_diff = vals_to_shift.index.to_series().diff().fillna(shift_size)\n",
    "\n",
    "    # Identify where the shift should result in NaN due to discontinuities\n",
    "    discontinuities = trial_num_diff > np.abs(shift_size)\n",
    "    shifted_vals[discontinuities] = np.nan\n",
    "\n",
    "    return shifted_vals\n"
   ]
  },
  {
   "cell_type": "code",
   "execution_count": 4,
   "id": "b75012a7",
   "metadata": {},
   "outputs": [],
   "source": [
    "def get_session_with_10000th_trial(mouse, experiments):\n",
    "    dates = experiments[experiments['mouse_id']==mouse]['date'].unique()\n",
    "    session_starts = get_bpod_trial_nums_per_session(mouse, dates)\n",
    "    if session_starts[-1] >= 10000:\n",
    "        last_session_idx = np.where(np.asarray(session_starts) >=10000)[0][0]\n",
    "        print(np.asarray(session_starts) >=10000)\n",
    "    else:\n",
    "        last_session_idx = -1\n",
    "        print(session_starts[-1])\n",
    "    last_session_date = dates[last_session_idx]\n",
    "    return(last_session_date)"
   ]
  },
  {
   "cell_type": "code",
   "execution_count": 5,
   "id": "f2266e5d",
   "metadata": {},
   "outputs": [],
   "source": [
    "def get_movement_data(mouse, all_experiments):\n",
    "    all_experiments = remove_exps_after_manipulations(all_experiments, [mouse])\n",
    "    all_experiments = remove_manipulation_days(all_experiments)\n",
    "    all_experiments = remove_unsuitable_recordings(all_experiments)\n",
    "    experiments_to_process = all_experiments[\n",
    "        (all_experiments['mouse_id'] == mouse) & (all_experiments['recording_site'] == recording_site)]\n",
    "    last_session = get_session_with_10000th_trial(mouse, experiments_to_process)\n",
    "    dates = experiments_to_process['date'].values\n",
    "    last_session_ind = int(np.where(dates == last_session)[0])\n",
    "    for i, date in enumerate(dates[0: last_session_ind + 1]):\n",
    "        save_out_folder = os.path.join(raw_tracking_path, mouse, date)\n",
    "        movement_param_file = os.path.join(save_out_folder, 'APE_tracking{}_{}.pkl'.format(mouse, date))\n",
    "        if os.path.isfile(movement_param_file):\n",
    "            session_data = pd.read_pickle(movement_param_file)\n",
    "            session_data['date'] = date\n",
    "            session_data.mouse = mouse\n",
    "            print(date, session_data.shape)\n",
    "            if i == 0:\n",
    "                all_session_data = session_data\n",
    "            else:\n",
    "                all_session_data = pd.concat([all_session_data, session_data])\n",
    "        else:\n",
    "            print('{} not found'.format(date))\n",
    "    all_session_data = all_session_data.reset_index(drop=True)\n",
    "    all_session_data['abs fitted max cumsum ang vel'] = all_session_data['fitted max cumsum ang vel'].abs()\n",
    "    return all_session_data                                              "
   ]
  },
  {
   "cell_type": "code",
   "execution_count": 6,
   "id": "6ab053b9",
   "metadata": {},
   "outputs": [],
   "source": [
    "recording_site = 'tail'\n",
    "all_experiments = get_all_experimental_records()"
   ]
  },
  {
   "cell_type": "code",
   "execution_count": 7,
   "id": "6b465392",
   "metadata": {},
   "outputs": [
    {
     "name": "stdout",
     "output_type": "stream",
     "text": [
      "[False False False False False False False False  True  True  True]\n",
      "20200210 (301, 50)\n",
      "20200213 (281, 50)\n",
      "20200218 (282, 50)\n",
      "20200220 (367, 50)\n",
      "20200224 (286, 50)\n",
      "20200227 (266, 50)\n",
      "20200303 (303, 50)\n",
      "20200305 (291, 50)\n",
      "20200307 (292, 50)\n",
      "[False False False False False False False False False False False False\n",
      " False False  True]\n",
      "20200204 (145, 50)\n",
      "20200206 (208, 50)\n",
      "20200208 (439, 50)\n",
      "20200210 (246, 50)\n",
      "20200212 (222, 50)\n",
      "20200214 (265, 50)\n",
      "20200218 (358, 50)\n",
      "20200221 (289, 50)\n",
      "20200224 (238, 50)\n",
      "20200226 (267, 50)\n",
      "20200228 (251, 50)\n",
      "20200303 (298, 50)\n",
      "20200305 (279, 50)\n",
      "20200307 (304, 50)\n",
      "20200310 (278, 50)\n",
      "8071\n",
      "20200223 (87, 50)\n",
      "20200226 (267, 50)\n",
      "20200228 (273, 50)\n",
      "20200229 (344, 50)\n",
      "20200303 (315, 50)\n",
      "20200305 (293, 50)\n",
      "20200307 (306, 50)\n",
      "20200310 (341, 50)\n",
      "20200312 (245, 50)\n",
      "20200313 (278, 50)\n",
      "20200316 (278, 50)\n",
      "removing SNL_photo21: ['20200829' '20200830' '20200831' '20200908' '20200915' '20201008'\n",
      " '20201009']\n",
      "7929\n",
      "20200806 (208, 50)\n",
      "20200808 (355, 50)\n",
      "20200810 (355, 50)\n",
      "20200812 (359, 50)\n",
      "20200814 (284, 50)\n",
      "20200816 (306, 50)\n",
      "20200818 (212, 50)\n",
      "20200820 (232, 50)\n",
      "20200822 (263, 50)\n",
      "20200824 (293, 50)\n",
      "removing SNL_photo22: ['20200829' '20200830' '20200831' '20200908' '20200915' '20201008'\n",
      " '20201009']\n",
      "9720\n",
      "20200808 (461, 50)\n",
      "20200810 (314, 50)\n",
      "20200812 (296, 50)\n",
      "20200814 (258, 50)\n",
      "20200816 (333, 50)\n",
      "20200818 (337, 50)\n",
      "20200820 (299, 50)\n",
      "20200822 (187, 50)\n",
      "20200824 (241, 50)\n",
      "20200826 (270, 50)\n",
      "removing SNL_photo26: ['20200829' '20200830' '20200831' '20200908' '20200915' '20201008'\n",
      " '20201009']\n",
      "8010\n",
      "20200808 (191, 50)\n",
      "20200810 (471, 50)\n",
      "20200812 (390, 50)\n",
      "20200814 (363, 50)\n",
      "20200816 (374, 50)\n",
      "20200818 (217, 50)\n",
      "20200820 (376, 50)\n",
      "20200822 (345, 50)\n",
      "20200824 (524, 50)\n",
      "20200826 (443, 50)\n"
     ]
    }
   ],
   "source": [
    "mice = change_over_time_mice[recording_site]\n",
    "num_lags = 5\n",
    "num_mice = len(mice)\n",
    "coefs = np.zeros([num_mice, num_lags])\n",
    "pvals = np.zeros([num_mice, num_lags])\n",
    "\n",
    "for m, mouse in enumerate(mice):\n",
    "    movement_data = get_movement_data(mouse, all_experiments)\n",
    "    movement_data = movement_data.set_index('actual trial numbers')\n",
    "    bias_file = os.path.join(bias_path, 'pre_processing_bias_{}.pkl'.format(mouse))\n",
    "    no_movement_data = pd.read_pickle(bias_file).drop_duplicates(subset='actual trial nums', keep='first').set_index('actual trial nums')\n",
    "\n",
    "\n",
    "    # Get the common and all indices between the two dataframes\n",
    "    common_indices = movement_data.index.intersection(no_movement_data.index)\n",
    "    no_movement_data.loc[common_indices,'turn angle'] = movement_data.loc[common_indices,'abs fitted max cumsum ang vel']\n",
    "    with_movement_data = no_movement_data.copy()\n",
    "    contra_side = with_movement_data[(with_movement_data['trial_type'] == 'contra_data') & (with_movement_data['First choice correct'] == 1)]['First response'].unique()[0]\n",
    "    if contra_side == 1:\n",
    "        ipsi_contra_map = {1: 'contra', 2: 'ipsi'}\n",
    "    else:\n",
    "        ipsi_contra_map = {1: 'ipsi', 2: 'contra'}\n",
    "    with_movement_data['choice'] = with_movement_data['First response'].map(ipsi_contra_map)\n",
    "\n",
    "    # Map 'choice' column to 1 and 0\n",
    "    with_movement_data['choice'] = with_movement_data['choice'].map({'contra': 1, 'ipsi': 0})\n",
    "\n",
    "    for lag in range(1, num_lags + 1):\n",
    "        coefs[m, lag-1], pvals[m, lag-1] = perform_single_lag_regression(with_movement_data, -lag)\n"
   ]
  },
  {
   "cell_type": "code",
   "execution_count": 8,
   "id": "d4f26f7d",
   "metadata": {},
   "outputs": [
    {
     "data": {
      "text/plain": [
       "<matplotlib.collections.PathCollection at 0xfe2ae80>"
      ]
     },
     "execution_count": 8,
     "metadata": {},
     "output_type": "execute_result"
    },
    {
     "data": {
      "image/png": "[encoded data removed]",
      "text/plain": [
       "<Figure size 432x288 with 1 Axes>"
      ]
     },
     "metadata": {
      "needs_background": "light"
     },
     "output_type": "display_data"
    }
   ],
   "source": [
    "plt.scatter(no_movement_data.index.values, no_movement_data['turn angle'].values)"
   ]
  },
  {
   "cell_type": "code",
   "execution_count": 9,
   "id": "789b9145",
   "metadata": {},
   "outputs": [
    {
     "data": {
      "image/png": "[encoded data removed]",
      "text/plain": [
       "<Figure size 432x288 with 1 Axes>"
      ]
     },
     "metadata": {
      "needs_background": "light"
     },
     "output_type": "display_data"
    }
   ],
   "source": [
    "import pandas as pd\n",
    "import matplotlib.pyplot as plt\n",
    "\n",
    "# Assuming df_for_reg['APE_peaks'] is your data\n",
    "no_nan_movement_data = no_movement_data[no_movement_data['trial_type'] == 'ipsi_data'].dropna()\n",
    "x_values = no_nan_movement_data['turn angle'].index.values\n",
    "y_values = no_nan_movement_data['turn angle'].values\n",
    "\n",
    "# Convert x_values to a Pandas Series to calculate the rolling mean\n",
    "x_series = pd.Series(x_values)\n",
    "y_series = pd.Series(y_values)\n",
    "\n",
    "# Calculate the rolling mean with a window size of your choice, e.g., 5\n",
    "rolling_x = x_series.rolling(window=40).mean()\n",
    "rolling_y = y_series.rolling(window=40).mean()\n",
    "\n",
    "# Create a scatter plot using the rolling means\n",
    "plt.scatter(rolling_x, rolling_y)\n",
    "plt.title('Scatter Plot of Rolling Mean')\n",
    "plt.xlabel('Rolling Mean of X')\n",
    "plt.ylabel('Rolling Mean of Y')\n",
    "plt.show()\n"
   ]
  },
  {
   "cell_type": "code",
   "execution_count": 10,
   "id": "13d37a09",
   "metadata": {},
   "outputs": [
    {
     "data": {
      "image/png": "[encoded data removed]",
      "text/plain": [
       "<Figure size 432x288 with 1 Axes>"
      ]
     },
     "metadata": {
      "needs_background": "light"
     },
     "output_type": "display_data"
    }
   ],
   "source": [
    "import pandas as pd\n",
    "import matplotlib.pyplot as plt\n",
    "\n",
    "# Assuming df_for_reg['APE_peaks'] is your data\n",
    "no_nan_movement_data = no_movement_data[no_movement_data['trial_type'] == 'contra_data'].dropna()\n",
    "x_values = no_nan_movement_data['turn angle'].index.values\n",
    "y_values = no_nan_movement_data['turn angle'].values\n",
    "\n",
    "# Convert x_values to a Pandas Series to calculate the rolling mean\n",
    "x_series = pd.Series(x_values)\n",
    "y_series = pd.Series(y_values)\n",
    "\n",
    "# Calculate the rolling mean with a window size of your choice, e.g., 5\n",
    "rolling_x = x_series.rolling(window=40).mean()\n",
    "rolling_y = y_series.rolling(window=40).mean()\n",
    "\n",
    "# Create a scatter plot using the rolling means\n",
    "plt.scatter(rolling_x, rolling_y)\n",
    "plt.title('Scatter Plot of Rolling Mean')\n",
    "plt.xlabel('Rolling Mean of X')\n",
    "plt.ylabel('Rolling Mean of Y')\n",
    "plt.show()\n"
   ]
  },
  {
   "cell_type": "code",
   "execution_count": 11,
   "id": "08dd2a6f",
   "metadata": {},
   "outputs": [
    {
     "data": {
      "image/png": "[encoded data removed]",
      "text/plain": [
       "<Figure size 432x288 with 1 Axes>"
      ]
     },
     "metadata": {
      "needs_background": "light"
     },
     "output_type": "display_data"
    }
   ],
   "source": [
    "import pandas as pd\n",
    "import matplotlib.pyplot as plt\n",
    "\n",
    "# Assuming df_for_reg['APE_peaks'] is your data\n",
    "no_nan_movement_data = no_movement_data[no_movement_data['trial_type'] == 'contra_data'].dropna()\n",
    "x_values = no_nan_movement_data['APE_peaks'].index.values\n",
    "y_values = no_nan_movement_data['APE_peaks'].values\n",
    "\n",
    "# Convert x_values to a Pandas Series to calculate the rolling mean\n",
    "x_series = pd.Series(x_values)\n",
    "y_series = pd.Series(y_values)\n",
    "\n",
    "# Calculate the rolling mean with a window size of your choice, e.g., 5\n",
    "rolling_x = x_series.rolling(window=40).mean()\n",
    "rolling_y = y_series.rolling(window=40).mean()\n",
    "\n",
    "# Create a scatter plot using the rolling means\n",
    "plt.scatter(rolling_x, rolling_y)\n",
    "plt.title('Scatter Plot of Rolling Mean')\n",
    "plt.xlabel('Rolling Mean of X')\n",
    "plt.ylabel('Rolling Mean of Y')\n",
    "plt.show()"
   ]
  },
  {
   "cell_type": "code",
   "execution_count": 12,
   "id": "b51265e7",
   "metadata": {},
   "outputs": [
    {
     "data": {
      "text/plain": [
       "array([[-0.81697738,  0.55700903, -3.06792222, -1.86733853, -1.45088513],\n",
       "       [-1.1609504 , -1.96690948, -2.51318002, -1.5704686 , -1.54612227],\n",
       "       [-0.50965599,  1.10184912,  1.0290643 ,  2.72646293, -0.8470877 ],\n",
       "       [ 0.88622049,  0.1119156 ,  1.08132468,  1.21072054,  0.30122197],\n",
       "       [-1.58551561, -1.60074724, -2.45562036, -2.31818467, -1.56585523],\n",
       "       [-2.64552444, -2.02207588, -2.21102338, -2.47613912, -3.16083733]])"
      ]
     },
     "execution_count": 12,
     "metadata": {},
     "output_type": "execute_result"
    }
   ],
   "source": [
    "coefs"
   ]
  },
  {
   "cell_type": "code",
   "execution_count": 13,
   "id": "065ca27e",
   "metadata": {},
   "outputs": [
    {
     "data": {
      "text/plain": [
       "array([[2.74202755e-01, 5.76698377e-01, 1.71613522e-03, 3.67466135e-02,\n",
       "        1.14498402e-01],\n",
       "       [2.60599945e-02, 7.55796456e-03, 4.19442373e-04, 3.49880039e-02,\n",
       "        3.27527229e-02],\n",
       "       [6.14071972e-01, 3.30687205e-01, 3.67465649e-01, 2.46365745e-02,\n",
       "        5.32340110e-01],\n",
       "       [1.89081303e-01, 8.75114154e-01, 1.44838967e-01, 9.19621626e-02,\n",
       "        6.75308456e-01],\n",
       "       [7.69980081e-03, 2.25341979e-02, 5.47791973e-04, 1.62226880e-03,\n",
       "        3.23673843e-02],\n",
       "       [2.80537829e-07, 6.38738576e-03, 1.69843274e-03, 1.01710992e-03,\n",
       "        1.60553068e-05]])"
      ]
     },
     "execution_count": 13,
     "metadata": {},
     "output_type": "execute_result"
    }
   ],
   "source": [
    "pvals"
   ]
  },
  {
   "cell_type": "code",
   "execution_count": 14,
   "id": "56e0ba23",
   "metadata": {},
   "outputs": [],
   "source": [
    "def plot_multilag_coefs_accross_mice(recording_site, coefs, axs, color='blue'):\n",
    "    # Calculate the mean and SEM across axis=0\n",
    "    mean_coefs = np.mean(coefs, axis=0)\n",
    "    sem_coefs = stats.sem(coefs, axis=0)\n",
    "\n",
    "    # Create the x-axis values\n",
    "    x = (np.arange(mean_coefs.shape[0]) + 1).astype(int)\n",
    "\n",
    "    # Plot the mean\n",
    "    axs.plot(x, mean_coefs, label=recording_site, color=color)\n",
    "\n",
    "\n",
    "    # Plot the shaded error bars using SEM\n",
    "    axs.fill_between(x, mean_coefs - sem_coefs, mean_coefs + sem_coefs, color=color, alpha=0.3, label='')\n",
    "    plot_sig_stars_multilag(coefs, color, axs)\n",
    "    # Adding labels and legend\n",
    "    axs.set_ylabel('Regression coef')\n",
    "    axs.set_xlabel('Number of trials back')\n",
    "    #axs.set_ylim([-0.01, 0.01])\n",
    "    plt.legend(frameon=False)"
   ]
  },
  {
   "cell_type": "code",
   "execution_count": 15,
   "id": "4e5fd358",
   "metadata": {},
   "outputs": [],
   "source": [
    "def plot_sig_stars_multilag(coefs, color, axs):\n",
    "    second_order_coefs, second_order_pvals = test_for_coef_trend_against_zero_mulit_lag(coefs)\n",
    "    for lag_num in range(0, len(second_order_coefs)):\n",
    "        sig_stars = output_significance_stars_from_pval(second_order_pvals[lag_num])\n",
    "        if sig_stars != 'n.s.':\n",
    "            if second_order_coefs[lag_num] >= 0:\n",
    "                y = 0.01\n",
    "            else:\n",
    "                y=-0.01\n",
    "            axs.text(lag_num + 1, y, sig_stars, ha='center', fontsize=12, color=color)\n",
    "            "
   ]
  },
  {
   "cell_type": "code",
   "execution_count": 16,
   "id": "072cca14",
   "metadata": {},
   "outputs": [],
   "source": [
    "def test_for_coef_trend_against_zero_mulit_lag(coefs):\n",
    "    pvals = []\n",
    "    slopes = []\n",
    "    for lag_num in range(0, coefs.shape[1]):\n",
    "        test = stats.ttest_1samp(coefs.T[lag_num], 0)\n",
    "        pvals.append(test.pvalue)\n",
    "        slopes.append(test.statistic)\n",
    "    return slopes, pvals"
   ]
  },
  {
   "cell_type": "code",
   "execution_count": 17,
   "id": "90cbd88e",
   "metadata": {},
   "outputs": [
    {
     "name": "stdout",
     "output_type": "stream",
     "text": [
      "[0.09856543118323857]\n",
      "[0.09856543118323857, 0.3121964768724884]\n",
      "[0.09856543118323857, 0.3121964768724884, 0.13894497012772986]\n",
      "[0.09856543118323857, 0.3121964768724884, 0.13894497012772986, 0.45341850652953286]\n",
      "[0.09856543118323857, 0.3121964768724884, 0.13894497012772986, 0.45341850652953286, 0.0302387632179717]\n"
     ]
    },
    {
     "data": {
      "image/png": "[encoded data removed]",
      "text/plain": [
       "<Figure size 216x216 with 1 Axes>"
      ]
     },
     "metadata": {
      "needs_background": "light"
     },
     "output_type": "display_data"
    }
   ],
   "source": [
    "fig, axs = plt.subplots(1,1, figsize=[3,3])\n",
    "plot_multilag_coefs_accross_mice('TS', coefs, axs, color=fig4_plotting_colours[recording_site][0])"
   ]
  },
  {
   "cell_type": "code",
   "execution_count": null,
   "id": "b8d5df0e",
   "metadata": {},
   "outputs": [],
   "source": []
  }
 ],
 "metadata": {
  "kernelspec": {
   "display_name": "Python 3 (ipykernel)",
   "language": "python",
   "name": "python3"
  },
  "language_info": {
   "codemirror_mode": {
    "name": "ipython",
    "version": 3
   },
   "file_extension": ".py",
   "mimetype": "text/x-python",
   "name": "python",
   "nbconvert_exporter": "python",
   "pygments_lexer": "ipython3",
   "version": "3.8.13"
  }
 },
 "nbformat": 4,
 "nbformat_minor": 5
}
