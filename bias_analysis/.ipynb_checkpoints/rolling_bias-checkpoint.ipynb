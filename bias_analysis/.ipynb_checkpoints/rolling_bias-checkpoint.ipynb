{
 "cells": [
  {
   "cell_type": "code",
   "execution_count": 52,
   "id": "bdce31f8",
   "metadata": {},
   "outputs": [],
   "source": [
    "from scipy import stats\n",
    "import os\n",
    "import sys\n",
    "sys.path.append('..')\n",
    "import seaborn as sns\n",
    "from utils.tracking_analysis.tracking_plotting import *\n",
    "from set_global_params import raw_tracking_path, processed_data_path, bias_path, change_over_time_mice, beginning_and_end_comparison_mice\n",
    "from utils.reaction_time_utils import get_bpod_trial_nums_per_session\n",
    "from utils.post_processing_utils import get_all_experimental_records\n",
    "from utils.post_processing_utils import remove_exps_after_manipulations, remove_unsuitable_recordings, remove_manipulation_days\n",
    "from utils.plotting_visuals import makes_plots_pretty\n",
    "from utils.behaviour_utils import CalculateRBiasWindow"
   ]
  },
  {
   "cell_type": "code",
   "execution_count": 53,
   "id": "4e8d6685",
   "metadata": {},
   "outputs": [],
   "source": [
    "recording_site = 'tail'"
   ]
  },
  {
   "cell_type": "code",
   "execution_count": 65,
   "id": "981332c5",
   "metadata": {},
   "outputs": [],
   "source": [
    "def custom_rolling_mean(data, window_size):\n",
    "    rolling_means = pd.Series(index=data.index, dtype=float)\n",
    "    \n",
    "    for i in range(len(data)):\n",
    "        # Current trial number\n",
    "        current_trial_num = data.index[i]\n",
    "        \n",
    "        # Define the window's start trial number based on the index\n",
    "        start_trial_num = current_trial_num - window_size\n",
    "        \n",
    "        # Select data within this window range\n",
    "        window_data = data[(data.index > start_trial_num) & (data.index <= current_trial_num)]\n",
    "        \n",
    "        # Check if the actual range of trial numbers matches the window size\n",
    "        if window_data.index.max() - window_data.index.min() == window_size - 1:\n",
    "            rolling_means.iloc[i] = window_data.mean()\n",
    "        else:\n",
    "            rolling_means.iloc[i] = np.nan\n",
    "    \n",
    "    return rolling_means"
   ]
  },
  {
   "cell_type": "code",
   "execution_count": 71,
   "id": "98f6a71a",
   "metadata": {},
   "outputs": [],
   "source": [
    "# Step 3: Function to calculate the rolling mean based on the index and handle shifting\n",
    "def shift_respecting_index(rolling_mean, shift_size):\n",
    "\n",
    "    # Shift the rolling mean by the specified number of trials\n",
    "    shifted_mean = rolling_mean.shift(periods=shift_size)\n",
    "\n",
    "    # Detect discontinuities in the index\n",
    "    trial_num_diff = rolling_mean.index.to_series().diff().fillna(shift_size)\n",
    "\n",
    "    # Identify where the shift should result in NaN due to discontinuities\n",
    "    discontinuities = trial_num_diff > shift_size\n",
    "    shifted_mean[discontinuities] = np.nan\n",
    "\n",
    "    return rolling_mean, shifted_mean\n",
    "\n"
   ]
  },
  {
   "cell_type": "code",
   "execution_count": 76,
   "id": "e27889e5",
   "metadata": {},
   "outputs": [
    {
     "data": {
      "image/png": "[encoded data removed]",
      "text/plain": [
       "<Figure size 432x288 with 1 Axes>"
      ]
     },
     "metadata": {
      "needs_background": "light"
     },
     "output_type": "display_data"
    }
   ],
   "source": [
    "import statsmodels.api as sm\n",
    "mice = change_over_time_mice[recording_site]\n",
    "num_lags = 5\n",
    "num_mice = len(mice)\n",
    "coefs = np.zeros([num_mice, num_lags])\n",
    "for m, mouse in enumerate(mice[0:1]):\n",
    "    bias_file = os.path.join(bias_path, 'pre_processing_bias_{}.pkl'.format(mouse))\n",
    "    all_session_data = pd.read_pickle(bias_file).drop_duplicates(subset='actual trial nums', keep='first').set_index('actual trial nums')\n",
    "\n",
    "    contra_side = all_session_data[(all_session_data['trial_type'] == 'contra_data') & (all_session_data['First choice correct'] == 1)]['First response'].unique()[0]\n",
    "    filtered_df = all_session_data[(all_session_data['trial_type'] == 'contra_data') & (all_session_data['First choice correct'] == 1)]\n",
    "    contra_trial_type = filtered_df['Trial type'].unique()[0]\n",
    "    if contra_side == 1:\n",
    "        ipsi_contra_map = {1: 'contra', 2: 'ipsi'} \n",
    "    else:\n",
    "        ipsi_contra_map = {1: 'ipsi', 2: 'contra'}\n",
    "    all_session_data['choice'] = all_session_data['First response'].map(ipsi_contra_map)\n",
    "\n",
    "    # Map 'choice' column to 1 and 0\n",
    "    all_session_data['choice'] = all_session_data['choice'].map({'contra': 1, 'ipsi': 0})\n",
    "\n",
    "   \n",
    "    x = 3  # Replace with the actual window size you want\n",
    "\n",
    "\n",
    "    # Step 2: Convert 'Trial type' to binary\n",
    "    all_session_data['Trial_type_binary'] = all_session_data['Trial type'].apply(lambda x: 1 if x == contra_trial_type else 0)\n",
    "\n",
    "   # Step 4: Apply the optimized rolling mean with shift\n",
    "    rolling_mean = all_session_data.groupby('Trial type')['choice'].apply(lambda x: custom_rolling_mean(x, window_size=50))\n",
    "    all_session_data['Rolling_mean_choice'], all_session_data['Rolling_mean_choice_shifted'] = efficient_rolling_mean_with_shift(\n",
    "        rolling_mean, shift_size=1)\n",
    "\n",
    "\n",
    "    # Display the updated DataFrame\n",
    "    plt.figure()\n",
    "    plt.plot(all_session_data['Rolling_mean_choice_shifted'].values[50:200])\n",
    "    plt.plot(rolling_mean.values[50:200])"
   ]
  },
  {
   "cell_type": "code",
   "execution_count": 68,
   "id": "03aface9",
   "metadata": {},
   "outputs": [
    {
     "data": {
      "text/plain": [
       "actual trial nums\n",
       "1453.0        NaN\n",
       "1454.0        NaN\n",
       "1455.0        NaN\n",
       "1456.0        NaN\n",
       "1457.0        NaN\n",
       "            ...  \n",
       "11014.0    1.0000\n",
       "11015.0    0.0625\n",
       "11016.0    0.0625\n",
       "11017.0       NaN\n",
       "11018.0       NaN\n",
       "Name: choice, Length: 3543, dtype: float64"
      ]
     },
     "execution_count": 68,
     "metadata": {},
     "output_type": "execute_result"
    }
   ],
   "source": [
    "rolling_mean"
   ]
  },
  {
   "cell_type": "code",
   "execution_count": 46,
   "id": "f0b5dd8b",
   "metadata": {},
   "outputs": [],
   "source": [
    "all_session_data = all_session_data.dropna()"
   ]
  },
  {
   "cell_type": "code",
   "execution_count": null,
   "id": "9bc7bd59",
   "metadata": {},
   "outputs": [],
   "source": [
    "test_var = 'Rolling_mean_choice'\n",
    "contra_trials = all_session_data[(all_session_data['trial_type'] == 'contra_data')\n",
    "                                 & (all_session_data['Trial type'] == contra_trial_type)]\n",
    "df = contra_trials[['APE_peaks', test_var]]\n",
    "df[test_var] = df[test_var].astype(float)\n",
    "df['APE_peaks'] = df['APE_peaks'].apply(lambda x: np.nan if isinstance(x, np.ndarray) and x.size == 0 else x)\n",
    "\n",
    "df['APE_peaks'] = df['APE_peaks'].astype(float)\n",
    "df = df.dropna().reset_index(drop=True)\n",
    "\n",
    "\n",
    "y = df['APE_peaks'].astype(float)\n",
    "X = df[test_var]\n",
    "X = sm.add_constant(X)\n",
    "# Fit the regression model\n",
    "model = sm.OLS(y, X).fit()\n",
    "coefs[m, lag-1] = model.params[1:]\n",
    "print(contra_trials.shape)"
   ]
  }
 ],
 "metadata": {
  "kernelspec": {
   "display_name": "Python 3 (ipykernel)",
   "language": "python",
   "name": "python3"
  },
  "language_info": {
   "codemirror_mode": {
    "name": "ipython",
    "version": 3
   },
   "file_extension": ".py",
   "mimetype": "text/x-python",
   "name": "python",
   "nbconvert_exporter": "python",
   "pygments_lexer": "ipython3",
   "version": "3.8.13"
  }
 },
 "nbformat": 4,
 "nbformat_minor": 5
}
