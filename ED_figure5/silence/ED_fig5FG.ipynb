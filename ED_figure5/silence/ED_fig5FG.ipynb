{
 "cells": [
  {
   "cell_type": "code",
   "execution_count": 8,
   "id": "00988d4a",
   "metadata": {},
   "outputs": [],
   "source": [
    "import sys\n",
    "import os\n",
    "import numpy as np\n",
    "import pandas as pd\n",
    "from scipy import stats\n",
    "import seaborn as sns\n",
    "import matplotlib\n",
    "import matplotlib.pyplot as plt\n",
    "sys.path.append('..\\..')\n",
    "from utils.post_processing_utils import get_all_experimental_records, remove_exps_after_manipulations, remove_unsuitable_recordings, remove_manipulation_days\n",
    "from utils.plotting_visuals import makes_plots_pretty\n",
    "from utils.plotting import multi_conditions_plot\n",
    "from set_global_params import processed_data_path, silence_mice, raw_tracking_path, spreadsheet_path, reproduce_figures_path\n",
    "from utils.stats import cohen_d_paired\n",
    "import shutil"
   ]
  },
  {
   "cell_type": "code",
   "execution_count": 9,
   "id": "ecdc84d4",
   "metadata": {},
   "outputs": [],
   "source": [
    "def filter_trials_around_reaction_time(side_data, window_around_mean=0.2):\n",
    "    data = side_data.reset_index(drop=True)\n",
    "    reaction_times = data['reaction times'].values\n",
    "    median_reaction_time = np.nanmedian(reaction_times)\n",
    "    valid_trials = np.where(\n",
    "            np.logical_and(np.greater_equal(reaction_times, median_reaction_time - window_around_mean),\n",
    "                           np.less_equal(reaction_times, median_reaction_time + window_around_mean)))\n",
    "    valid_data = data.loc[valid_trials]\n",
    "    return valid_data"
   ]
  },
  {
   "cell_type": "code",
   "execution_count": 10,
   "id": "7cc9160c",
   "metadata": {},
   "outputs": [],
   "source": [
    "def get_trial_data(mouse, date):\n",
    "    saving_folder = processed_data_path + mouse + '\\\\'\n",
    "    restructured_data_filename = mouse + '_' + date + '_' + 'restructured_data.pkl'\n",
    "    trial_data = pd.read_pickle(saving_folder + restructured_data_filename)\n",
    "    return trial_data"
   ]
  },
  {
   "cell_type": "code",
   "execution_count": 11,
   "id": "00139eb1",
   "metadata": {},
   "outputs": [],
   "source": [
    "def get_silence_trial_nums(mouse_id, trial_data, contra_trial_nums, fiber_side):\n",
    "    if mouse_id in ['SNL_photo37', 'SNL_photo43']:\n",
    "        fiber_options = ['left', 'right']\n",
    "        contra_choice_ind = np.where(np.array(fiber_options) != fiber_side)[0][0] + 1\n",
    "        post_change_trials = trial_data[(trial_data['Trial num']>149) & (trial_data['State type'] == 1)]\n",
    "        silence_correct_trials = post_change_trials[(post_change_trials['Response'] == contra_choice_ind) & (post_change_trials['Trial outcome'] == 1)] \n",
    "        silence_trial_type = silence_correct_trials['Trial type'].unique()[0]\n",
    "        silence_trials = post_change_trials[post_change_trials['Trial type'] == silence_trial_type]\n",
    "        cot_trials = trial_data[(trial_data['Trial num']<=149) & (trial_data['State type'] == 1)]\n",
    "    else:\n",
    "        cot_trials = trial_data[trial_data['Sound type'] == 0]\n",
    "        silence_trials = trial_data[trial_data['Sound type'] == 1]\n",
    "    _, cot_inds, _ = np.intersect1d(contra_trial_nums, cot_trials['Trial num'], return_indices=True)\n",
    "    _, silence_inds, _ = np.intersect1d(contra_trial_nums, silence_trials['Trial num'], return_indices=True)\n",
    "    return cot_inds, silence_inds"
   ]
  },
  {
   "cell_type": "code",
   "execution_count": 13,
   "id": "36d284c3",
   "metadata": {},
   "outputs": [],
   "source": [
    "mice = silence_mice\n",
    "turn_angles = []\n",
    "stimulus = []\n",
    "speeds = []\n",
    "mice_for_df = []\n",
    "repro_dir = os.path.join(reproduce_figures_path,'ED_fig5')\n",
    "\n",
    "for mouse in mice:\n",
    "    recording_site = 'tail'\n",
    "    all_experiments = get_all_experimental_records()\n",
    "    all_experiments = remove_unsuitable_recordings(all_experiments)\n",
    "    experiments_to_process = all_experiments[\n",
    "        (all_experiments['mouse_id'] == mouse) & (all_experiments['recording_site'] == recording_site) & (all_experiments['experiment_notes'] == 'silence')]\n",
    "    dates = experiments_to_process['date'].values[-4:]\n",
    "    date = dates[0]\n",
    "    save_out_folder = '{}{}\\\\{}\\\\'.format(raw_tracking_path, mouse, date)\n",
    "    movement_param_file = os.path.join(save_out_folder, 'APE_tracking{}_{}.pkl'.format(mouse, date)) \n",
    "    repro_filename = os.path.join(repro_dir, f'tracking_and_photometry_{mouse}_{date}.pkl')\n",
    "    if not os.path.exists(repro_filename):\n",
    "        shutil.copy(movement_param_file, repro_filename)\n",
    "    movement_df = pd.read_pickle(repro_filename).dropna()\n",
    "    movement_df['abs fitted max cumsum ang vel'] = movement_df['fitted max cumsum ang vel'].abs()\n",
    "\n",
    "    contra_data = movement_df[movement_df.side == 'contra']\n",
    "    valid_contra_data = filter_trials_around_reaction_time(contra_data).reset_index(drop=True)\n",
    "  \n",
    "    contra_trial_numbers = valid_contra_data['trial numbers'].values\n",
    "   # behavioural_data = get_trial_data(mouse, date)\n",
    "    repro_file = os.path.join(repro_dir, f'silence_behavioural_data_{mouse}.csv') # this is either downloaded or made by ED_Fig5A.ipynb\n",
    "    behavioural_data = pd.read_csv(repro_file)\n",
    "    fiber_side = experiments_to_process['fiber_side'].values[0]\n",
    "    cot_inds, silence_inds = get_silence_trial_nums(mouse, behavioural_data, contra_trial_numbers, fiber_side)\n",
    "    cot_df = valid_contra_data.loc[cot_inds]\n",
    "    silence_df = valid_contra_data.loc[silence_inds]\n",
    "    cot_df['Stimulus'] = 'tones'\n",
    "    silence_df['Stimulus'] = 'silence'\n",
    "    all_stimuli_df = pd.concat([cot_df, silence_df])\n",
    "    turn_angles.append(np.mean(cot_df['abs fitted max cumsum ang vel'].values))\n",
    "    speeds.append(np.mean(cot_df['average speed'].values))\n",
    "    stimulus.append('tones')\n",
    "    mice_for_df.append(mouse)\n",
    "    turn_angles.append(np.mean(silence_df['abs fitted max cumsum ang vel'].values))\n",
    "    speeds.append(np.mean(silence_df['average speed'].values))\n",
    "    stimulus.append('silence')\n",
    "    mice_for_df.append(mouse)"
   ]
  },
  {
   "cell_type": "code",
   "execution_count": 14,
   "id": "953d616e",
   "metadata": {},
   "outputs": [],
   "source": [
    "silence_tones_with_movement = pd.DataFrame({'mouse': mice_for_df, 'stimulus': stimulus, 'turn angle': turn_angles, 'speed': speeds})"
   ]
  },
  {
   "cell_type": "code",
   "execution_count": 16,
   "id": "88d0a502",
   "metadata": {},
   "outputs": [],
   "source": [
    "turn_angle_for_plot = silence_tones_with_movement.pivot(index='stimulus', columns='mouse', values='turn angle').sort_values('stimulus', ascending=False)\n",
    "speed_for_plot = silence_tones_with_movement.pivot(index='stimulus', columns='mouse', values='speed').sort_values('stimulus', ascending=False)"
   ]
  },
  {
   "cell_type": "code",
   "execution_count": 20,
   "id": "c52cc192",
   "metadata": {},
   "outputs": [],
   "source": [
    "if not os.path.exists(os.path.join(spreadsheet_path, 'ED_fig5', 'ED_fig5F_speed.csv')):\n",
    "    speed_for_plot.to_csv(os.path.join(spreadsheet_path, 'ED_fig5', 'ED_fig5F_speed.csv'))\n",
    "if not os.path.exists(os.path.join(spreadsheet_path, 'ED_fig5', 'ED_fig5G_turn_angle.csv')):\n",
    "    turn_angle_for_plot.to_csv(os.path.join(spreadsheet_path, 'ED_fig5', 'ED_fig5G_turn_angle.csv'))"
   ]
  },
  {
   "cell_type": "code",
   "execution_count": 12,
   "id": "804ec392",
   "metadata": {},
   "outputs": [
    {
     "data": {
      "image/png": "[encoded data removed]",
      "text/plain": [
       "<Figure size 144x144 with 1 Axes>"
      ]
     },
     "metadata": {
      "needs_background": "light"
     },
     "output_type": "display_data"
    }
   ],
   "source": [
    "font = {'size': 7}\n",
    "matplotlib.rc('font', **font)\n",
    "matplotlib.rcParams['pdf.fonttype'] = 42\n",
    "matplotlib.rcParams['font.sans-serif'] = 'Arial'\n",
    "matplotlib.rcParams['font.family']\n",
    "\n",
    "\n",
    "fig, ax = plt.subplots(figsize=[2,2])\n",
    "multi_conditions_plot(ax, turn_angle_for_plot, mean_line_color='#7FB5B5', mean_linewidth=0, show_err_bar=False)\n",
    "plt.xticks([0, 1], ['tones', 'silence'], fontsize=8)\n",
    "y = turn_angle_for_plot.T.to_numpy().max() + .2\n",
    "h = .1\n",
    "plt.ylabel('turn angle (degrees)', fontsize=8)\n",
    "ax.text(.5, y+h, 'n.s.', ha='center', fontsize=8)\n",
    "ax.set_xlabel(' ')\n",
    "\n",
    "plt.tight_layout()\n"
   ]
  },
  {
   "cell_type": "code",
   "execution_count": 13,
   "id": "f4a0c7d7",
   "metadata": {},
   "outputs": [
    {
     "data": {
      "image/png": "[encoded data removed]",
      "text/plain": [
       "<Figure size 144x144 with 1 Axes>"
      ]
     },
     "metadata": {
      "needs_background": "light"
     },
     "output_type": "display_data"
    }
   ],
   "source": [
    "font = {'size': 7}\n",
    "matplotlib.rc('font', **font)\n",
    "matplotlib.rcParams['pdf.fonttype'] = 42\n",
    "matplotlib.rcParams['font.sans-serif'] = 'Arial'\n",
    "matplotlib.rcParams['font.family']\n",
    "\n",
    "\n",
    "fig, ax = plt.subplots(figsize=[2,2])\n",
    "multi_conditions_plot(ax, speed_for_plot, mean_line_color='#7FB5B5', mean_linewidth=0, show_err_bar=False)\n",
    "plt.xticks([0, 1], ['tones', 'silence'], fontsize=8)\n",
    "y = speed_for_plot.T.to_numpy().max() + .2\n",
    "h = .1\n",
    "plt.ylabel('average speed\\n(pixels/frame)', fontsize=8)\n",
    "ax.text(.5, y+h, 'n.s.', ha='center', fontsize=8)\n",
    "ax.set_xlabel(' ')\n",
    "\n",
    "plt.tight_layout()\n"
   ]
  },
  {
   "cell_type": "code",
   "execution_count": 15,
   "id": "55ec8d00",
   "metadata": {},
   "outputs": [],
   "source": [
    "tones_data = silence_tones_with_movement[silence_tones_with_movement['stimulus'] == 'tones']\n",
    "silence_data = silence_tones_with_movement[silence_tones_with_movement['stimulus'] == 'silence']"
   ]
  },
  {
   "cell_type": "code",
   "execution_count": 16,
   "id": "d509987f",
   "metadata": {},
   "outputs": [
    {
     "data": {
      "text/plain": [
       "Ttest_relResult(statistic=1.452795459716277, pvalue=0.28344242544517234)"
      ]
     },
     "execution_count": 16,
     "metadata": {},
     "output_type": "execute_result"
    }
   ],
   "source": [
    "stats.ttest_rel(tones_data.speed, silence_data.speed)"
   ]
  },
  {
   "cell_type": "code",
   "execution_count": 17,
   "id": "26d7d792",
   "metadata": {},
   "outputs": [
    {
     "name": "stdout",
     "output_type": "stream",
     "text": [
      "cohen d:  0.8387718497446588\n"
     ]
    }
   ],
   "source": [
    "_ = cohen_d_paired(tones_data.speed, silence_data.speed)"
   ]
  },
  {
   "cell_type": "code",
   "execution_count": 16,
   "id": "fe8d42a5",
   "metadata": {},
   "outputs": [
    {
     "data": {
      "text/plain": [
       "Ttest_relResult(statistic=0.3650062534470542, pvalue=0.7500912236679296)"
      ]
     },
     "execution_count": 16,
     "metadata": {},
     "output_type": "execute_result"
    }
   ],
   "source": [
    "stats.ttest_rel(tones_data['turn angle'], silence_data['turn angle'])"
   ]
  },
  {
   "cell_type": "code",
   "execution_count": 18,
   "id": "1a0db140",
   "metadata": {},
   "outputs": [
    {
     "name": "stdout",
     "output_type": "stream",
     "text": [
      "cohen d:  0.21073645868355353\n"
     ]
    }
   ],
   "source": [
    "_ = cohen_d_paired(tones_data['turn angle'], silence_data['turn angle'])"
   ]
  },
  {
   "cell_type": "code",
   "execution_count": null,
   "id": "de319479",
   "metadata": {},
   "outputs": [],
   "source": []
  }
 ],
 "metadata": {
  "kernelspec": {
   "display_name": "Python 3 (ipykernel)",
   "language": "python",
   "name": "python3"
  },
  "language_info": {
   "codemirror_mode": {
    "name": "ipython",
    "version": 3
   },
   "file_extension": ".py",
   "mimetype": "text/x-python",
   "name": "python",
   "nbconvert_exporter": "python",
   "pygments_lexer": "ipython3",
   "version": "3.8.13"
  }
 },
 "nbformat": 4,
 "nbformat_minor": 5
}
