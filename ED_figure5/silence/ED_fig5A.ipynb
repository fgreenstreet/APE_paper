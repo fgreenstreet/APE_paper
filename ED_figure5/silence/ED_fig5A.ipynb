{
 "cells": [
  {
   "cell_type": "code",
   "execution_count": 1,
   "id": "98f302b7",
   "metadata": {},
   "outputs": [],
   "source": [
    "%load_ext autoreload\n",
    "%autoreload 2\n",
    "%matplotlib qt5\n",
    "# Add modules to the path\n",
    "import sys\n",
    "sys.path.append('..\\..')\n",
    "import matplotlib.pyplot as plt\n",
    "import numpy as np\n",
    "import matplotlib.cm as cm\n",
    "import pandas as pd\n",
    "import pickle\n",
    "import matplotlib\n",
    "import matplotlib.pyplot as plt\n",
    "from scipy.stats import ttest_rel, shapiro\n",
    "from scipy.signal import decimate\n",
    "from utils.plotting import HeatMapParams\n",
    "from utils.plotting import  multi_conditions_plot, output_significance_stars_from_pval\n",
    "from utils.plotting import get_photometry_around_event\n",
    "from utils.individual_trial_analysis_utils import ZScoredTraces, SessionData, CueAlignedData, CueAlignedSidedData, ChoiceAlignedData\n",
    "from set_global_params import experiment_record_path, processed_data_path, reproduce_figures_path, spreadsheet_path\n",
    "from utils.stats import cohen_d_paired \n",
    "import shutil\n",
    "import os"
   ]
  },
  {
   "cell_type": "code",
   "execution_count": 2,
   "id": "f0bf3f1b",
   "metadata": {},
   "outputs": [],
   "source": [
    "def get_all_experimental_records():\n",
    "    experiment_record = pd.read_csv(experiment_record_path, dtype='str')\n",
    "    experiment_record['date'] = experiment_record['date'].astype(str)\n",
    "    return experiment_record"
   ]
  },
  {
   "cell_type": "code",
   "execution_count": 3,
   "id": "635c3132",
   "metadata": {},
   "outputs": [],
   "source": [
    "def get_trial_data(session_data):\n",
    "    saving_folder = os.path.join(processed_data_path, session_data.mouse)\n",
    "    restructured_data_filename = session_data.mouse + '_' + session_data.date + '_' + 'restructured_data.pkl'\n",
    "    trial_data = pd.read_pickle(os.path.join(saving_folder, restructured_data_filename))\n",
    "    return trial_data"
   ]
  },
  {
   "cell_type": "code",
   "execution_count": 4,
   "id": "e497c95d",
   "metadata": {},
   "outputs": [],
   "source": [
    "def open_experiment(experiment_to_add):\n",
    "    for index, experiment in experiment_to_add.iterrows():\n",
    "        session_traces = SessionData(experiment['fiber_side'], experiment['recording_site'], experiment['mouse_id'], experiment['date'])\n",
    "    return session_traces"
   ]
  },
  {
   "cell_type": "code",
   "execution_count": 5,
   "id": "8f852d65",
   "metadata": {},
   "outputs": [],
   "source": [
    "class CustomAlignedData(object):\n",
    "    def __init__(self, session_data, params):\n",
    "        saving_folder = os.path.join(processed_data_path, session_data.mouse)\n",
    "        restructured_data_filename = session_data.mouse + '_' + session_data.date + '_' + 'restructured_data.pkl'\n",
    "        trial_data = pd.read_pickle(os.path.join(saving_folder, restructured_data_filename))\n",
    "        dff_trace_filename = session_data.mouse + '_' + session_data.date + '_' + 'smoothed_signal.npy'\n",
    "        dff = np.load(os.path.join(saving_folder, dff_trace_filename))\n",
    "\n",
    "        fiber_options = np.array(['left', 'right'])\n",
    "        fiber_side_numeric = (np.where(fiber_options == session_data.fiber_side)[0] + 1)[0]\n",
    "        contra_fiber_side_numeric = (np.where(fiber_options != session_data.fiber_side)[0] + 1)[0]\n",
    "\n",
    "        self.ipsi_data = ZScoredTraces(trial_data, dff, params, fiber_side_numeric, 0)\n",
    "        self.ipsi_data.get_peaks()\n",
    "        self.contra_data = ZScoredTraces(trial_data, dff,params, contra_fiber_side_numeric, 0)\n",
    "        self.contra_data.get_peaks()"
   ]
  },
  {
   "cell_type": "code",
   "execution_count": 6,
   "id": "eed0e59c",
   "metadata": {},
   "outputs": [],
   "source": [
    "repro_dir = os.path.join(reproduce_figures_path,'ED_fig5')\n",
    "mouse_id = 'SNL_photo70'\n",
    "date = '20220408'\n",
    "repro_file = os.path.join(repro_dir, f'silence_behavioural_data_{mouse_id}.csv')\n",
    "if not os.path.exists(repro_file):\n",
    "    all_experiments = get_all_experimental_records()\n",
    "    experiment_to_process = all_experiments[(all_experiments['date'] == date) & (all_experiments['mouse_id'] == mouse_id)]\n",
    "    session_data = open_experiment(experiment_to_process)\n",
    "    saving_folder = os.path.join(processed_data_path, mouse_id)\n",
    "    restructured_data_filename = mouse_id + '_' + date + '_' + 'restructured_data.pkl'\n",
    "    trial_data_SNL_photo70 = pd.read_pickle(os.path.join(saving_folder, restructured_data_filename))\n",
    "    trial_data_SNL_photo70.to_csv(repro_file)\n",
    "else:\n",
    "    trial_data_SNL_photo70 = pd.read_csv(repro_file)\n"
   ]
  },
  {
   "cell_type": "code",
   "execution_count": 7,
   "id": "f37a4829",
   "metadata": {},
   "outputs": [],
   "source": [
    "cot_trials = trial_data_SNL_photo70[trial_data_SNL_photo70['Sound type'] == 0]"
   ]
  },
  {
   "cell_type": "code",
   "execution_count": 8,
   "id": "2bb56fad",
   "metadata": {},
   "outputs": [],
   "source": [
    "silence_trials = trial_data_SNL_photo70[trial_data_SNL_photo70['Sound type'] == 1]"
   ]
  },
  {
   "cell_type": "code",
   "execution_count": 9,
   "id": "7e090682",
   "metadata": {},
   "outputs": [],
   "source": [
    "num_silence_trials = silence_trials.shape[0]\n",
    "per_missed_trials = silence_trials[silence_trials['Trial outcome']==3].shape[0]/num_silence_trials\n",
    "per_correct_trials = silence_trials[silence_trials['Trial outcome']==1].shape[0]/num_silence_trials\n",
    "per_incorrect_trials = silence_trials[silence_trials['Trial outcome']==0].shape[0]/num_silence_trials\n",
    "silence_data_behavioural = pd.DataFrame({'mouse': [mouse_id], 'missed': [per_missed_trials], 'correct':[per_correct_trials], 'incorrect': [per_incorrect_trials], 'stimulus': ['silence']})"
   ]
  },
  {
   "cell_type": "code",
   "execution_count": 10,
   "id": "f32fd7d4",
   "metadata": {},
   "outputs": [],
   "source": [
    "num_cot_trials_trials = cot_trials.shape[0]\n",
    "per_missed_trials = cot_trials[cot_trials['Trial outcome']==3].shape[0]/num_cot_trials_trials\n",
    "per_correct_trials = cot_trials[cot_trials['Trial outcome']==1].shape[0]/num_cot_trials_trials\n",
    "per_incorrect_trials = cot_trials[cot_trials['Trial outcome']==0].shape[0]/num_cot_trials_trials\n",
    "cot_data_behavioural = pd.DataFrame({'mouse': [mouse_id], 'missed': [per_missed_trials], 'correct':[per_correct_trials], 'incorrect': [per_incorrect_trials], 'stimulus': ['tone']})"
   ]
  },
  {
   "cell_type": "code",
   "execution_count": 11,
   "id": "9cf3a9f0",
   "metadata": {},
   "outputs": [],
   "source": [
    "behavioural_data0 = pd.concat([silence_data_behavioural, cot_data_behavioural]).reset_index(drop=True)"
   ]
  },
  {
   "cell_type": "code",
   "execution_count": 12,
   "id": "9de81d7a",
   "metadata": {},
   "outputs": [],
   "source": [
    "repro_dir = os.path.join(reproduce_figures_path,'ED_fig5')\n",
    "mouse_id = 'SNL_photo43'\n",
    "date = '20210603'\n",
    "repro_file = os.path.join(repro_dir, f'silence_behavioural_data_{mouse_id}.csv')\n",
    "if not os.path.exists(repro_file):\n",
    "    all_experiments = get_all_experimental_records()\n",
    "    experiment_to_process = all_experiments[(all_experiments['date'] == date) & (all_experiments['mouse_id'] == mouse_id)]\n",
    "    session_data = open_experiment(experiment_to_process)\n",
    "    fiber_options = ['left', 'right']\n",
    "    fiber_side = experiment_to_process['fiber_side'].values[0]\n",
    "    contra_choice_ind = np.where(np.array(fiber_options) != fiber_side)[0][0] + 1\n",
    "    trial_data_SNL_photo43 = get_trial_data(session_data)\n",
    "    trial_data_SNL_photo43.to_csv(repro_file)\n",
    "else:\n",
    "    all_experiments = get_all_experimental_records()\n",
    "    experiment_to_process = all_experiments[(all_experiments['date'] == date) & (all_experiments['mouse_id'] == mouse_id)]\n",
    "    fiber_options = ['left', 'right']\n",
    "    fiber_side = experiment_to_process['fiber_side'].values[0]\n",
    "    contra_choice_ind = np.where(np.array(fiber_options) != fiber_side)[0][0] + 1\n",
    "    trial_data_SNL_photo43 = pd.read_csv(repro_file)\n"
   ]
  },
  {
   "cell_type": "code",
   "execution_count": 13,
   "id": "bcfefbd4",
   "metadata": {},
   "outputs": [],
   "source": [
    "post_change_trials = trial_data_SNL_photo43[(trial_data_SNL_photo43['Trial num']>149) & (trial_data_SNL_photo43['State type'] == 1)]\n",
    "silence_correct_trials =  post_change_trials[(post_change_trials['Response'] == contra_choice_ind) & (post_change_trials['Trial outcome'] == 1)] \n",
    "silence_trial_type = silence_correct_trials['Trial type'].unique()[0]\n",
    "silence_trials = post_change_trials[post_change_trials['Trial type'] == silence_trial_type]\n",
    "cot_trials = trial_data_SNL_photo43[(trial_data_SNL_photo43['Trial num']<=149) & (trial_data_SNL_photo43['State type'] == 1)]"
   ]
  },
  {
   "cell_type": "code",
   "execution_count": 14,
   "id": "ec355592",
   "metadata": {},
   "outputs": [],
   "source": [
    "num_silence_trials = silence_trials.shape[0]\n",
    "per_missed_trials = silence_trials[silence_trials['Trial outcome']==3].shape[0]/num_silence_trials\n",
    "per_correct_trials = silence_trials[silence_trials['Trial outcome']==1].shape[0]/num_silence_trials\n",
    "per_incorrect_trials = silence_trials[silence_trials['Trial outcome']==0].shape[0]/num_silence_trials\n",
    "silence_data_behavioural = pd.DataFrame({'mouse': [mouse_id], 'missed': [per_missed_trials], 'correct':[per_correct_trials], 'incorrect': [per_incorrect_trials], 'stimulus': ['silence']})"
   ]
  },
  {
   "cell_type": "code",
   "execution_count": 15,
   "id": "49da4459",
   "metadata": {},
   "outputs": [],
   "source": [
    "num_cot_trials_trials = cot_trials.shape[0]\n",
    "per_missed_trials = cot_trials[cot_trials['Trial outcome']==3].shape[0]/num_cot_trials_trials\n",
    "per_correct_trials = cot_trials[cot_trials['Trial outcome']==1].shape[0]/num_cot_trials_trials\n",
    "per_incorrect_trials = cot_trials[cot_trials['Trial outcome']==0].shape[0]/num_cot_trials_trials\n",
    "cot_data_behavioural = pd.DataFrame({'mouse': [mouse_id], 'missed': [per_missed_trials], 'correct':[per_correct_trials], 'incorrect': [per_incorrect_trials], 'stimulus': ['tone']})"
   ]
  },
  {
   "cell_type": "code",
   "execution_count": 16,
   "id": "79ab9526",
   "metadata": {},
   "outputs": [],
   "source": [
    "behavioural_data1 = pd.concat([silence_data_behavioural, cot_data_behavioural]).reset_index(drop=True)"
   ]
  },
  {
   "cell_type": "code",
   "execution_count": 17,
   "id": "1069e6da",
   "metadata": {},
   "outputs": [],
   "source": [
    "behavioural_data = pd.concat([behavioural_data0, behavioural_data1])"
   ]
  },
  {
   "cell_type": "code",
   "execution_count": 18,
   "id": "799886bc",
   "metadata": {},
   "outputs": [],
   "source": [
    "repro_dir = os.path.join(reproduce_figures_path,'ED_fig5')\n",
    "mouse_id = 'SNL_photo37'\n",
    "date = '20210603'\n",
    "repro_file = os.path.join(repro_dir, f'silence_behavioural_data_{mouse_id}.csv')\n",
    "if not os.path.exists(repro_file):\n",
    "    all_experiments = get_all_experimental_records()\n",
    "    experiment_to_process = all_experiments[(all_experiments['date'] == date) & (all_experiments['mouse_id'] == mouse_id)]\n",
    "    session_data = open_experiment(experiment_to_process)\n",
    "    fiber_options = ['left', 'right']\n",
    "    fiber_side = experiment_to_process['fiber_side'].values[0]\n",
    "    contra_choice_ind = np.where(np.array(fiber_options) != fiber_side)[0][0] + 1\n",
    "    trial_data_SNL_photo37 = get_trial_data(session_data)\n",
    "    trial_data_SNL_photo37.to_csv(repro_file)\n",
    "else:\n",
    "    all_experiments = get_all_experimental_records()\n",
    "    experiment_to_process = all_experiments[(all_experiments['date'] == date) & (all_experiments['mouse_id'] == mouse_id)]\n",
    "    fiber_options = ['left', 'right']\n",
    "    fiber_side = experiment_to_process['fiber_side'].values[0]\n",
    "    contra_choice_ind = np.where(np.array(fiber_options) != fiber_side)[0][0] + 1\n",
    "    trial_data_SNL_photo37 = pd.read_csv(repro_file)\n"
   ]
  },
  {
   "cell_type": "code",
   "execution_count": 21,
   "id": "030d4035",
   "metadata": {},
   "outputs": [],
   "source": [
    "post_change_trials = trial_data_SNL_photo37[(trial_data_SNL_photo37['Trial num']>149) & (trial_data_SNL_photo37['State type'] == 1)]\n",
    "silence_correct_trials =  post_change_trials[(post_change_trials['Response'] == contra_choice_ind) & (post_change_trials['Trial outcome'] == 1)] \n",
    "silence_trial_type = silence_correct_trials['Trial type'].unique()[0]\n",
    "silence_trials = post_change_trials[post_change_trials['Trial type'] == silence_trial_type]\n",
    "cot_trials = trial_data_SNL_photo37[(trial_data_SNL_photo37['Trial num']<=149) & (trial_data_SNL_photo37['State type'] == 1)]\n",
    "\n",
    "num_silence_trials = silence_trials.shape[0]\n",
    "per_missed_trials = silence_trials[silence_trials['Trial outcome']==3].shape[0]/num_silence_trials\n",
    "per_correct_trials = silence_trials[silence_trials['Trial outcome']==1].shape[0]/num_silence_trials\n",
    "per_incorrect_trials = silence_trials[silence_trials['Trial outcome']==0].shape[0]/num_silence_trials\n",
    "silence_data_behavioural = pd.DataFrame({'mouse': [mouse_id], 'missed': [per_missed_trials], 'correct':[per_correct_trials], 'incorrect': [per_incorrect_trials], 'stimulus': ['silence']})\n",
    "\n",
    "num_cot_trials_trials = cot_trials.shape[0]\n",
    "per_missed_trials = cot_trials[cot_trials['Trial outcome']==3].shape[0]/num_cot_trials_trials\n",
    "per_correct_trials = cot_trials[cot_trials['Trial outcome']==1].shape[0]/num_cot_trials_trials\n",
    "per_incorrect_trials = cot_trials[cot_trials['Trial outcome']==0].shape[0]/num_cot_trials_trials\n",
    "cot_data_behavioural = pd.DataFrame({'mouse': [mouse_id], 'missed': [per_missed_trials], 'correct':[per_correct_trials], 'incorrect': [per_incorrect_trials], 'stimulus': ['tone']})"
   ]
  },
  {
   "cell_type": "code",
   "execution_count": 22,
   "id": "339618ee",
   "metadata": {},
   "outputs": [],
   "source": [
    "behavioural_data1 = pd.concat([silence_data_behavioural, cot_data_behavioural]).reset_index(drop=True)\n",
    "behavioural_data = pd.concat([behavioural_data, behavioural_data1])"
   ]
  },
  {
   "cell_type": "code",
   "execution_count": 23,
   "id": "4deddf88",
   "metadata": {},
   "outputs": [],
   "source": [
    "df_for_plot_behavioural = behavioural_data.pivot(index='mouse', columns='stimulus', values='missed')"
   ]
  },
  {
   "cell_type": "code",
   "execution_count": 24,
   "id": "8abbab18",
   "metadata": {},
   "outputs": [],
   "source": [
    "cols = df_for_plot_behavioural.columns.tolist()"
   ]
  },
  {
   "cell_type": "code",
   "execution_count": 25,
   "id": "7f7df41e",
   "metadata": {},
   "outputs": [],
   "source": [
    "cols = cols[-1:] + cols[:-1]"
   ]
  },
  {
   "cell_type": "code",
   "execution_count": 26,
   "id": "ae4917e6",
   "metadata": {},
   "outputs": [],
   "source": [
    "df_for_plot_behavioural = 100 - (df_for_plot_behavioural[cols] *100)"
   ]
  },
  {
   "cell_type": "code",
   "execution_count": 29,
   "id": "90cf05ae",
   "metadata": {},
   "outputs": [],
   "source": [
    "spreadsheet_file = os.path.join(spreadsheet_path, 'ED_fig5', 'ED_fig5A_perc_completed_trials.csv')\n",
    "if not os.path.exists(spreadsheet_file):\n",
    "    df_for_plot_behavioural.to_csv(spreadsheet_file)"
   ]
  },
  {
   "cell_type": "code",
   "execution_count": 30,
   "id": "9336b5f2",
   "metadata": {},
   "outputs": [
    {
     "data": {
      "text/plain": [
       "99.2100496640374"
      ]
     },
     "execution_count": 30,
     "metadata": {},
     "output_type": "execute_result"
    }
   ],
   "source": [
    "np.mean(df_for_plot_behavioural['silence'])"
   ]
  },
  {
   "cell_type": "code",
   "execution_count": 31,
   "id": "14abdd5a",
   "metadata": {},
   "outputs": [
    {
     "data": {
      "text/plain": [
       "0.5596343431027693"
      ]
     },
     "execution_count": 31,
     "metadata": {},
     "output_type": "execute_result"
    }
   ],
   "source": [
    "np.std(df_for_plot_behavioural['silence'])"
   ]
  },
  {
   "cell_type": "code",
   "execution_count": 32,
   "id": "40ca0557",
   "metadata": {},
   "outputs": [
    {
     "data": {
      "text/plain": [
       "ShapiroResult(statistic=0.8011702299118042, pvalue=0.11729390174150467)"
      ]
     },
     "execution_count": 32,
     "metadata": {},
     "output_type": "execute_result"
    }
   ],
   "source": [
    "differences = df_for_plot_behavioural['tone'].values - df_for_plot_behavioural['silence'].values\n",
    "shapiro(differences)"
   ]
  },
  {
   "cell_type": "code",
   "execution_count": 33,
   "id": "00c70356",
   "metadata": {},
   "outputs": [],
   "source": [
    "_, pval = ttest_rel(df_for_plot_behavioural['tone'],df_for_plot_behavioural['silence'])"
   ]
  },
  {
   "cell_type": "code",
   "execution_count": 35,
   "id": "6a52bda0",
   "metadata": {},
   "outputs": [
    {
     "name": "stdout",
     "output_type": "stream",
     "text": [
      "cohen d:  1.1525235296321552\n"
     ]
    }
   ],
   "source": [
    "cohen_d = cohen_d_paired(df_for_plot_behavioural['tone'],df_for_plot_behavioural['silence'])"
   ]
  },
  {
   "cell_type": "code",
   "execution_count": 36,
   "id": "31455f65",
   "metadata": {},
   "outputs": [],
   "source": [
    "font = {'size': 7}\n",
    "matplotlib.rc('font', **font)\n",
    "matplotlib.rcParams['pdf.fonttype'] = 42\n",
    "matplotlib.rcParams['font.sans-serif'] = 'Arial'\n",
    "matplotlib.rcParams['font.family']\n",
    "\n",
    "\n",
    "fig, ax = plt.subplots(figsize=[1.5,2])\n",
    "\n",
    "multi_conditions_plot(ax, df_for_plot_behavioural.T, mean_line_color='#7FB5B5', mean_linewidth=0, show_err_bar=False)\n",
    "plt.xticks([0, 1], ['tone', 'silence'], fontsize=8)\n",
    "plt.ylabel('Missed trials (%)', fontsize=8)\n",
    "#ax.text(0.9, 1.9, 'p-value = {0:.3f}'.format(pval))\n",
    "ax.set_xlabel(' ')\n",
    "\n",
    "#significance stars\n",
    "y = df_for_plot_behavioural.T.to_numpy().max() + .2\n",
    "h = .1\n",
    "plt.plot([0, 0, 1, 1], [y, y+h, y+h, y],c='k',lw=1)\n",
    "stars = output_significance_stars_from_pval(pval)\n",
    "ax.text(.5, y+h, stars, ha='center', fontsize=8)\n",
    "ax.set_ylim([95, 100])\n",
    "plt.tight_layout()"
   ]
  },
  {
   "cell_type": "code",
   "execution_count": 38,
   "id": "e22464c5",
   "metadata": {},
   "outputs": [
    {
     "data": {
      "text/plain": [
       "0.18401751379431722"
      ]
     },
     "execution_count": 38,
     "metadata": {},
     "output_type": "execute_result"
    }
   ],
   "source": [
    "pval"
   ]
  },
  {
   "cell_type": "code",
   "execution_count": null,
   "id": "d45ae8ab",
   "metadata": {},
   "outputs": [],
   "source": []
  }
 ],
 "metadata": {
  "kernelspec": {
   "display_name": "Python 3 (ipykernel)",
   "language": "python",
   "name": "python3"
  },
  "language_info": {
   "codemirror_mode": {
    "name": "ipython",
    "version": 3
   },
   "file_extension": ".py",
   "mimetype": "text/x-python",
   "name": "python",
   "nbconvert_exporter": "python",
   "pygments_lexer": "ipython3",
   "version": "3.8.13"
  }
 },
 "nbformat": 4,
 "nbformat_minor": 5
}
