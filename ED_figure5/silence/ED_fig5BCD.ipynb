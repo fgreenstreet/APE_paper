{
 "cells": [
  {
   "cell_type": "code",
   "execution_count": 1,
   "id": "0600f698",
   "metadata": {},
   "outputs": [],
   "source": [
    "%load_ext autoreload\n",
    "%autoreload 2\n",
    "%matplotlib qt5\n",
    "# Add modules to the path\n",
    "import sys\n",
    "sys.path.append('..\\..')\n",
    "import matplotlib\n",
    "from scipy.stats import ttest_rel\n",
    "import matplotlib.pyplot as plt\n",
    "import numpy as np\n",
    "import matplotlib.cm as cm\n",
    "import pandas as pd\n",
    "import pickle\n",
    "from scipy.signal import decimate\n",
    "from utils.plotting import HeatMapParams\n",
    "from utils.plotting import heat_map_and_mean, plot_one_side, calculate_error_bars\n",
    "from utils.plotting import get_photometry_around_event\n",
    "from utils.individual_trial_analysis_utils import ZScoredTraces, SessionData, CueAlignedData, CueAlignedSidedData, ChoiceAlignedData\n",
    "from set_global_params import processed_data_path, experiment_record_path, reproduce_figures_path, spreadsheet_path\n",
    "from utils.stats import cohen_d_paired\n",
    "import os"
   ]
  },
  {
   "cell_type": "code",
   "execution_count": 2,
   "id": "b55ae153",
   "metadata": {},
   "outputs": [],
   "source": [
    "repro_dir = os.path.join(reproduce_figures_path, 'ED_fig5')\n",
    "repro_traces_peaks_file = os.path.join(repro_dir, 'silence_traces_and_peaks.pkl')\n",
    "repro_time_points_file = os.path.join(repro_dir, 'silence_trace_time_points.npy')\n",
    "if ((os.path.exists(repro_traces_peaks_file)) & (os.path.exists(repro_time_points_file))) :\n",
    "    print('You have repro data, skip to plotting at end of file')"
   ]
  },
  {
   "cell_type": "markdown",
   "id": "80be4532",
   "metadata": {},
   "source": [
    "# Extracting traces and responses (do not run if you have repro data)"
   ]
  },
  {
   "cell_type": "code",
   "execution_count": 3,
   "id": "97879f8d",
   "metadata": {},
   "outputs": [],
   "source": [
    "def get_all_experimental_records():\n",
    "    experiment_record = pd.read_csv(experiment_record_path)\n",
    "    experiment_record['date'] = experiment_record['date'].astype(str)\n",
    "    return experiment_record"
   ]
  },
  {
   "cell_type": "code",
   "execution_count": 4,
   "id": "b2c2e3e6",
   "metadata": {},
   "outputs": [],
   "source": [
    "def open_experiment(experiment_to_add):\n",
    "    for index, experiment in experiment_to_add.iterrows():\n",
    "        session_traces = SessionData(experiment['fiber_side'], experiment['recording_site'], experiment['mouse_id'], experiment['date'])\n",
    "    return session_traces"
   ]
  },
  {
   "cell_type": "code",
   "execution_count": 5,
   "id": "3a8b01e1",
   "metadata": {},
   "outputs": [],
   "source": [
    "class CustomAlignedData(object):\n",
    "    def __init__(self, session_data, params):\n",
    "        saving_folder = processed_data_path + session_data.mouse + '\\\\'\n",
    "        restructured_data_filename = session_data.mouse + '_' + session_data.date + '_' + 'restructured_data.pkl'\n",
    "        trial_data = pd.read_pickle(saving_folder + restructured_data_filename)\n",
    "        dff_trace_filename = session_data.mouse + '_' + session_data.date + '_' + 'smoothed_signal.npy'\n",
    "        dff = np.load(saving_folder + dff_trace_filename)\n",
    "\n",
    "        fiber_options = np.array(['left', 'right'])\n",
    "        fiber_side_numeric = (np.where(fiber_options == session_data.fiber_side)[0] + 1)[0]\n",
    "        contra_fiber_side_numeric = (np.where(fiber_options != session_data.fiber_side)[0] + 1)[0]\n",
    "\n",
    "        self.ipsi_data = ZScoredTraces(trial_data, dff, params, fiber_side_numeric, 0)\n",
    "        self.ipsi_data.get_peaks()\n",
    "        self.contra_data = ZScoredTraces(trial_data, dff,params, contra_fiber_side_numeric, 0)\n",
    "        self.contra_data.get_peaks()"
   ]
  },
  {
   "cell_type": "code",
   "execution_count": 6,
   "id": "2d420e97",
   "metadata": {},
   "outputs": [],
   "source": [
    "repro_dir = os.path.join(reproduce_figures_path,'ED_fig5')\n",
    "mouse_id = 'SNL_photo70'\n",
    "date = '20220408'\n",
    "repro_file = os.path.join(repro_dir, f'silence_behavioural_data_{mouse_id}.csv')\n",
    "if not os.path.exists(repro_file):\n",
    "    all_experiments = get_all_experimental_records()\n",
    "    experiment_to_process = all_experiments[(all_experiments['date'] == date) & (all_experiments['mouse_id'] == mouse_id)]\n",
    "    session_data = open_experiment(experiment_to_process)\n",
    "    saving_folder = os.path.join(processed_data_path, mouse_id)\n",
    "    restructured_data_filename = mouse_id + '_' + date + '_' + 'restructured_data.pkl'\n",
    "    trial_data_SNL_photo70 = pd.read_pickle(os.path.join(saving_folder, restructured_data_filename))\n",
    "    trial_data_SNL_photo70.to_csv(repro_file)\n",
    "else:\n",
    "    all_experiments = get_all_experimental_records()\n",
    "    experiment_to_process = all_experiments[(all_experiments['date'] == date) & (all_experiments['mouse_id'] == mouse_id)]\n",
    "    session_data = open_experiment(experiment_to_process)\n",
    "    trial_data_SNL_photo70 = pd.read_csv(repro_file)\n"
   ]
  },
  {
   "cell_type": "code",
   "execution_count": 7,
   "id": "0caba728",
   "metadata": {},
   "outputs": [],
   "source": [
    "cot_trials = trial_data_SNL_photo70[trial_data_SNL_photo70['Sound type'] == 0]"
   ]
  },
  {
   "cell_type": "code",
   "execution_count": 8,
   "id": "0ffd51c3",
   "metadata": {},
   "outputs": [],
   "source": [
    "silence_trials = trial_data_SNL_photo70[trial_data_SNL_photo70['Sound type'] == 1]"
   ]
  },
  {
   "cell_type": "code",
   "execution_count": 9,
   "id": "42324a92",
   "metadata": {},
   "outputs": [
    {
     "name": "stdout",
     "output_type": "stream",
     "text": [
      "(5095, 18)\n",
      "(5095, 18)\n"
     ]
    }
   ],
   "source": [
    "params = {'state_type_of_interest': 5,\n",
    "    'outcome': 2,\n",
    "    'last_outcome': 0,  # NOT USED CURRENTLY\n",
    "    'no_repeats' : 1,\n",
    "    'last_response': 0,\n",
    "    'align_to' : 'Time start',\n",
    "    'instance': 0,\n",
    "    'plot_range': [-6, 6],\n",
    "    'first_choice_correct': 0,\n",
    "    'cue': None}\n",
    "aligned_data = CustomAlignedData(session_data, params)"
   ]
  },
  {
   "cell_type": "code",
   "execution_count": 10,
   "id": "02e68b62",
   "metadata": {},
   "outputs": [],
   "source": [
    "_, cot_inds, _ = np.intersect1d(aligned_data.contra_data.trial_nums, cot_trials['Trial num'], return_indices=True)\n",
    "_, silence_inds, _ = np.intersect1d(aligned_data.contra_data.trial_nums, silence_trials['Trial num'], return_indices=True)"
   ]
  },
  {
   "cell_type": "code",
   "execution_count": 11,
   "id": "ecf9ec11",
   "metadata": {},
   "outputs": [],
   "source": [
    "peaks = aligned_data.contra_data.trial_peaks\n",
    "cot_peaks = [peaks[trial] for trial in cot_inds if peaks[trial].size > 0]\n",
    "silence_peaks = [peaks[trial] for trial in silence_inds  if peaks[trial].size > 0]"
   ]
  },
  {
   "cell_type": "code",
   "execution_count": 12,
   "id": "b7b0b0dc",
   "metadata": {},
   "outputs": [],
   "source": [
    "all_time_points = decimate(aligned_data.contra_data.time_points, 50) # need to downsample more to keep within csv limits (used to be q=10)\n",
    "time_window_size = 2\n",
    "bool_idx = (all_time_points < time_window_size) & (all_time_points >= -time_window_size)\n",
    "time_points = all_time_points[bool_idx]\n"
   ]
  },
  {
   "cell_type": "code",
   "execution_count": 13,
   "id": "a7e93695",
   "metadata": {},
   "outputs": [],
   "source": [
    "cot_traces = aligned_data.contra_data.sorted_traces[cot_inds, :]\n",
    "silence_traces = aligned_data.contra_data.sorted_traces[silence_inds, :]\n",
    "decimated_cot_traces = decimate(cot_traces, 50)[:, bool_idx]\n",
    "decimated_silence_trace = decimate(silence_traces, 50)[:, bool_idx]\n",
    "\n",
    "# this is the example mouse so we save the csv out with per trial traces too \n",
    "spreadsheet_file_path = os.path.join(spreadsheet_path, 'ED_fig5')\n",
    "if not os.path.exists(os.path.join(spreadsheet_file_path, 'ED_fig5B_silence_traces.csv')):\n",
    "    df_for_spreadsheet = pd.DataFrame(decimated_silence_trace.T)\n",
    "    df_for_spreadsheet.insert(0, \"Timepoints\", time_points)\n",
    "    df_for_spreadsheet.to_csv(os.path.join(spreadsheet_file_path, 'ED_fig5B_silence_traces.csv'))\n",
    "if not os.path.exists(os.path.join(spreadsheet_file_path, 'ED_fig5B_tones_traces.csv')):\n",
    "    df_for_spreadsheet = pd.DataFrame(decimated_cot_traces.T)\n",
    "    df_for_spreadsheet.insert(0, \"Timepoints\", time_points)\n",
    "    df_for_spreadsheet.to_csv(os.path.join(spreadsheet_file_path, 'ED_fig5B_tones_traces.csv'))\n",
    "    \n",
    "    \n",
    "peaks = aligned_data.contra_data.trial_peaks\n",
    "cot_peaks = [peaks[trial] for trial in cot_inds if peaks[trial].size > 0]\n",
    "silence_peaks = [peaks[trial] for trial in silence_inds if peaks[trial].size > 0]\n",
    "mean_cot_trace = np.mean(decimated_cot_traces, axis=0)\n",
    "cot_error_bar_lower, cot_error_bar_upper = calculate_error_bars(mean_cot_trace,\n",
    "                                                        decimated_cot_traces,\n",
    "                                                        error_bar_method='sem')\n",
    "                 \n",
    "mean_silence_trace = np.mean(decimated_silence_trace, axis=0)\n",
    "\n",
    "silence_error_bar_lower, silence_error_bar_upper = calculate_error_bars(mean_silence_trace,\n",
    "                                                        decimated_silence_trace,\n",
    "                                                        error_bar_method='sem')"
   ]
  },
  {
   "cell_type": "code",
   "execution_count": 14,
   "id": "4da7843c",
   "metadata": {},
   "outputs": [],
   "source": [
    "mouse_silence_data = {'mouse': mouse_id, 'tone': [mean_cot_trace], 'tone error bar lower': [cot_error_bar_lower], 'tone error  bar upper': [cot_error_bar_upper], \n",
    "                     'silence': [mean_silence_trace], 'silence error bar lower': [silence_error_bar_lower], 'silence error bar upper': [silence_error_bar_upper], \n",
    "                     'mean tone peak': np.mean(cot_peaks), 'mean silence peak': np.mean(silence_peaks)}"
   ]
  },
  {
   "cell_type": "code",
   "execution_count": 15,
   "id": "f46cd9a1",
   "metadata": {},
   "outputs": [],
   "source": [
    "all_mouse_silence_df = pd.DataFrame(mouse_silence_data)"
   ]
  },
  {
   "cell_type": "code",
   "execution_count": 16,
   "id": "bf0993a3",
   "metadata": {},
   "outputs": [],
   "source": [
    "mouse_id = 'SNL_photo43'\n",
    "date = '20210603'\n",
    "all_experiments = get_all_experimental_records()\n",
    "experiment_to_process = all_experiments[(all_experiments['date'] == date) & (all_experiments['mouse_id'] == mouse_id)]\n",
    "session_data = open_experiment(experiment_to_process)"
   ]
  },
  {
   "cell_type": "code",
   "execution_count": 17,
   "id": "59e09cc1",
   "metadata": {},
   "outputs": [
    {
     "name": "stdout",
     "output_type": "stream",
     "text": [
      "(5730, 17)\n",
      "(5730, 17)\n"
     ]
    }
   ],
   "source": [
    "params = {'state_type_of_interest': 5,\n",
    "    'outcome': 2,\n",
    "    'last_outcome': 0,  # NOT USED CURRENTLY\n",
    "    'no_repeats' : 1,\n",
    "    'last_response': 0,\n",
    "    'align_to' : 'Time start',\n",
    "    'instance': 0,\n",
    "    'plot_range': [-6, 6],\n",
    "    'first_choice_correct': 0,\n",
    "    'cue': None}\n",
    "aligned_data = CustomAlignedData(session_data, params)\n",
    "cot_inds = np.where(aligned_data.contra_data.trial_nums <=149)[0]\n",
    "silence_inds = np.where(aligned_data.contra_data.trial_nums >149)[0]\n",
    "cot_traces = aligned_data.contra_data.sorted_traces[cot_inds, :]\n",
    "silence_traces = aligned_data.contra_data.sorted_traces[silence_inds, :]\n",
    "decimated_cot_traces = decimate(cot_traces, 50)[:, bool_idx]\n",
    "decimated_silence_trace = decimate(silence_traces, 50)[:, bool_idx]\n",
    "peaks = aligned_data.contra_data.trial_peaks\n",
    "cot_peaks = [peaks[trial] for trial in cot_inds if peaks[trial].size > 0]\n",
    "silence_peaks = [peaks[trial] for trial in silence_inds if peaks[trial].size > 0]\n",
    "mean_cot_trace = np.mean(decimated_cot_traces, axis=0)\n",
    "cot_error_bar_lower, cot_error_bar_upper = calculate_error_bars(mean_cot_trace,\n",
    "                                                        decimated_cot_traces,\n",
    "                                                        error_bar_method='sem')\n",
    "                 \n",
    "mean_silence_trace = np.mean(decimated_silence_trace, axis=0)\n",
    "\n",
    "silence_error_bar_lower, silence_error_bar_upper = calculate_error_bars(mean_silence_trace,\n",
    "                                                        decimated_silence_trace,\n",
    "                                                        error_bar_method='sem')\n",
    "mouse_silence_data = {'mouse': mouse_id, 'tone': [mean_cot_trace], 'tone error bar lower': [cot_error_bar_lower], 'tone error  bar upper': [cot_error_bar_upper], \n",
    "                     'silence': [mean_silence_trace], 'silence error bar lower': [silence_error_bar_lower], 'silence error bar upper': [silence_error_bar_upper], \n",
    "                     'mean tone peak': np.mean(cot_peaks), 'mean silence peak': np.mean(silence_peaks)}"
   ]
  },
  {
   "cell_type": "code",
   "execution_count": 18,
   "id": "d9a89a04",
   "metadata": {},
   "outputs": [],
   "source": [
    "mouse_silence_df = pd.DataFrame(mouse_silence_data)"
   ]
  },
  {
   "cell_type": "code",
   "execution_count": 19,
   "id": "c68e3229",
   "metadata": {},
   "outputs": [],
   "source": [
    "all_mouse_silence_df = pd.concat([all_mouse_silence_df, mouse_silence_df])"
   ]
  },
  {
   "cell_type": "code",
   "execution_count": 20,
   "id": "a024f54e",
   "metadata": {},
   "outputs": [],
   "source": [
    "mouse_id = 'SNL_photo37'\n",
    "date = '20210603'\n",
    "all_experiments = get_all_experimental_records()\n",
    "experiment_to_process = all_experiments[(all_experiments['date'] == date) & (all_experiments['mouse_id'] == mouse_id)]\n",
    "session_data = open_experiment(experiment_to_process)"
   ]
  },
  {
   "cell_type": "code",
   "execution_count": 21,
   "id": "3b59d860",
   "metadata": {},
   "outputs": [
    {
     "name": "stdout",
     "output_type": "stream",
     "text": [
      "(5178, 17)\n",
      "(5178, 17)\n"
     ]
    }
   ],
   "source": [
    "params = {'state_type_of_interest': 5,\n",
    "    'outcome': 2,\n",
    "    'last_outcome': 0,  # NOT USED CURRENTLY\n",
    "    'no_repeats' : 1,\n",
    "    'last_response': 0,\n",
    "    'align_to' : 'Time start',\n",
    "    'instance': 0,\n",
    "    'plot_range': [-6, 6],\n",
    "    'first_choice_correct': 0,\n",
    "    'cue': None}\n",
    "aligned_data = CustomAlignedData(session_data, params)\n",
    "\n",
    "cot_inds = np.where(aligned_data.contra_data.trial_nums <=149)[0]\n",
    "silence_inds = np.where(aligned_data.contra_data.trial_nums >149)[0]\n",
    "peaks = aligned_data.contra_data.trial_peaks\n",
    "cot_peaks = [peaks[trial] for trial in cot_inds if peaks[trial].size > 0]\n",
    "silence_peaks = [peaks[trial] for trial in silence_inds  if peaks[trial].size > 0]\n",
    "\n",
    "cot_traces = aligned_data.contra_data.sorted_traces[cot_inds, :]\n",
    "silence_traces = aligned_data.contra_data.sorted_traces[silence_inds, :]\n",
    "decimated_cot_traces = decimate(cot_traces, 50)[:, bool_idx]\n",
    "decimated_silence_trace = decimate(silence_traces, 50)[:, bool_idx]\n",
    "peaks = aligned_data.contra_data.trial_peaks\n",
    "cot_peaks = [peaks[trial] for trial in cot_inds if peaks[trial].size > 0]\n",
    "silence_peaks = [peaks[trial] for trial in silence_inds if peaks[trial].size > 0]\n",
    "mean_cot_trace = np.mean(decimated_cot_traces, axis=0)\n",
    "cot_error_bar_lower, cot_error_bar_upper = calculate_error_bars(mean_cot_trace,\n",
    "                                                        decimated_cot_traces,\n",
    "                                                        error_bar_method='sem')\n",
    "                 \n",
    "mean_silence_trace = np.mean(decimated_silence_trace, axis=0)\n",
    "\n",
    "silence_error_bar_lower, silence_error_bar_upper = calculate_error_bars(mean_silence_trace,\n",
    "                                                        decimated_silence_trace,\n",
    "                                                        error_bar_method='sem')\n",
    "mouse_silence_data = {'mouse': mouse_id, 'tone': [mean_cot_trace], 'tone error bar lower': [cot_error_bar_lower], 'tone error  bar upper': [cot_error_bar_upper], \n",
    "                     'silence': [mean_silence_trace], 'silence error bar lower': [silence_error_bar_lower], 'silence error bar upper': [silence_error_bar_upper], \n",
    "                     'mean tone peak': np.mean(cot_peaks), 'mean silence peak': np.mean(silence_peaks)}"
   ]
  },
  {
   "cell_type": "code",
   "execution_count": 22,
   "id": "09a7fda2",
   "metadata": {},
   "outputs": [],
   "source": [
    "mouse_silence_df = pd.DataFrame(mouse_silence_data)"
   ]
  },
  {
   "cell_type": "code",
   "execution_count": 23,
   "id": "85b0ea2e",
   "metadata": {},
   "outputs": [],
   "source": [
    "all_mouse_silence_df = pd.concat([all_mouse_silence_df, mouse_silence_df])"
   ]
  },
  {
   "cell_type": "code",
   "execution_count": 24,
   "id": "0095117a",
   "metadata": {},
   "outputs": [],
   "source": [
    "all_mouse_silence_df = all_mouse_silence_df.reset_index(drop=True)"
   ]
  },
  {
   "cell_type": "code",
   "execution_count": 25,
   "id": "44660830",
   "metadata": {},
   "outputs": [
    {
     "data": {
      "text/plain": [
       "(807,)"
      ]
     },
     "execution_count": 25,
     "metadata": {},
     "output_type": "execute_result"
    }
   ],
   "source": [
    "time_points.shape"
   ]
  },
  {
   "cell_type": "code",
   "execution_count": 26,
   "id": "f2023f77",
   "metadata": {},
   "outputs": [],
   "source": [
    "repro_traces_peaks_file = os.path.join(repro_dir, 'silence_traces_and_peaks.pkl')\n",
    "repro_time_points_file = os.path.join(repro_dir, 'silence_trace_time_points.npy')\n",
    "if not os.path.exists(repro_traces_peaks_file):\n",
    "    with open(repro_traces_peaks_file, 'wb') as f:\n",
    "        pickle.dump(all_mouse_silence_df, f)\n",
    "if not os.path.exists(repro_time_points_file):\n",
    "    np.save(repro_time_points_file, time_points)"
   ]
  },
  {
   "cell_type": "markdown",
   "id": "b334dff1",
   "metadata": {},
   "source": [
    "# Just Plotting"
   ]
  },
  {
   "cell_type": "markdown",
   "id": "25f0cefa",
   "metadata": {},
   "source": [
    "Average accross mice traces"
   ]
  },
  {
   "cell_type": "code",
   "execution_count": 27,
   "id": "45859da8",
   "metadata": {},
   "outputs": [],
   "source": [
    "repro_traces_peaks_file = os.path.join(repro_dir, 'silence_traces_and_peaks.pkl')\n",
    "repro_time_points_file = os.path.join(repro_dir, 'silence_trace_time_points.npy')\n",
    "all_mouse_silence_data = pd.read_pickle(repro_traces_peaks_file)\n",
    "time_points = np.load(repro_time_points_file)"
   ]
  },
  {
   "cell_type": "code",
   "execution_count": 28,
   "id": "4a26a579",
   "metadata": {},
   "outputs": [],
   "source": [
    "concatenated_tone_traces = np.array([all_mouse_silence_df['tone'].values[i] for i in all_mouse_silence_df.index.values])"
   ]
  },
  {
   "cell_type": "code",
   "execution_count": 29,
   "id": "64b44d2f",
   "metadata": {},
   "outputs": [],
   "source": [
    "spreadsheet_file_path = os.path.join(spreadsheet_path, 'ED_fig5')\n",
    "if not os.path.exists(os.path.join(spreadsheet_file_path, 'ED_fig5C_tone_traces.csv')):\n",
    "    df_for_spreadsheet = pd.DataFrame(concatenated_tone_traces.T)\n",
    "    df_for_spreadsheet.insert(0, \"Timepoints\", time_points)\n",
    "    df_for_spreadsheet.to_csv(os.path.join(spreadsheet_file_path, 'ED_fig5C_tone_traces.csv'))"
   ]
  },
  {
   "cell_type": "code",
   "execution_count": 30,
   "id": "92c39ea3",
   "metadata": {},
   "outputs": [],
   "source": [
    "mean_cot_traces = np.mean(concatenated_tone_traces, axis=0)"
   ]
  },
  {
   "cell_type": "code",
   "execution_count": 31,
   "id": "d483a181",
   "metadata": {},
   "outputs": [],
   "source": [
    "concatenated_silence_traces = np.array([all_mouse_silence_df['silence'].values[i] for i in all_mouse_silence_df.index.values])\n",
    "mean_silence_traces = np.mean(concatenated_silence_traces, axis=0)"
   ]
  },
  {
   "cell_type": "code",
   "execution_count": 32,
   "id": "69fcc65a",
   "metadata": {},
   "outputs": [],
   "source": [
    "spreadsheet_file_path = os.path.join(spreadsheet_path, 'ED_fig5')\n",
    "if not os.path.exists(os.path.join(spreadsheet_file_path, 'ED_fig5C_silence_traces.csv')):\n",
    "    df_for_spreadsheet = pd.DataFrame(concatenated_silence_traces.T)\n",
    "    df_for_spreadsheet.insert(0, \"Timepoints\", time_points)\n",
    "    df_for_spreadsheet.to_csv(os.path.join(spreadsheet_file_path, 'ED_fig5C_silence_traces.csv'))"
   ]
  },
  {
   "cell_type": "code",
   "execution_count": 33,
   "id": "b89a55d8",
   "metadata": {},
   "outputs": [],
   "source": [
    "all_mice_silence_error_bar_lower, all_mice_silence_error_bar_upper = calculate_error_bars(mean_silence_traces,\n",
    "                                                        concatenated_silence_traces,\n",
    "                                                        error_bar_method='sem')\n",
    "all_mice_cot_error_bar_lower, all_mice_cot_error_bar_upper = calculate_error_bars(mean_cot_traces,\n",
    "                                                        concatenated_tone_traces,\n",
    "                                                        error_bar_method='sem')               "
   ]
  },
  {
   "cell_type": "code",
   "execution_count": 34,
   "id": "21d8b9ff",
   "metadata": {},
   "outputs": [],
   "source": [
    "font = {'size': 7}\n",
    "matplotlib.rc('font', **font)\n",
    "matplotlib.rcParams['pdf.fonttype'] = 42\n",
    "matplotlib.rcParams['font.sans-serif'] = 'Arial'\n",
    "matplotlib.rcParams['font.family']\n",
    "\n",
    "fig, axs1 = plt.subplots(1,1, figsize=[2.5,2])\n",
    "colours = cm.viridis(np.linspace(0.2, 0.7, 2))\n",
    "axs1.plot(time_points, mean_cot_traces, label='normal cue', color=colours[0])\n",
    "axs1.fill_between(time_points, all_mice_cot_error_bar_lower, all_mice_cot_error_bar_upper, alpha=0.4, linewidth=0, color=colours[0])\n",
    "axs1.plot(time_points, mean_silence_traces, label='silence', color=colours[1])\n",
    "axs1.fill_between(time_points, all_mice_silence_error_bar_lower, all_mice_silence_error_bar_upper, alpha=0.4, linewidth=0, color=colours[1])\n",
    "axs1.set_xlim([-2, 2])\n",
    "axs1.axvline([0], color='k')\n",
    "axs1.set_ylabel('z-scored fluorescence', fontsize=8)\n",
    "axs1.set_xlabel('Time (s)', fontsize=8)\n",
    "\n",
    "axs1.spines['right'].set_visible(False)\n",
    "axs1.spines['top'].set_visible(False)\n",
    "axs1.legend(loc='lower left', bbox_to_anchor=(0.7, 0.8),\n",
    "            borderaxespad=0, frameon=False,prop={'size': 6 })\n",
    "plt.tight_layout()\n"
   ]
  },
  {
   "cell_type": "code",
   "execution_count": 63,
   "id": "2d4475b1",
   "metadata": {},
   "outputs": [],
   "source": [
    "cot_peaks = all_mouse_silence_df['mean tone peak'].values"
   ]
  },
  {
   "cell_type": "code",
   "execution_count": 64,
   "id": "31838bc4",
   "metadata": {},
   "outputs": [],
   "source": [
    "silence_peaks = all_mouse_silence_df['mean silence peak'].values"
   ]
  },
  {
   "cell_type": "code",
   "execution_count": 65,
   "id": "b401de59",
   "metadata": {},
   "outputs": [
    {
     "data": {
      "text/plain": [
       "Ttest_relResult(statistic=1.3609088145280699, pvalue=0.3066032786828079)"
      ]
     },
     "execution_count": 65,
     "metadata": {},
     "output_type": "execute_result"
    }
   ],
   "source": [
    "ttest_rel(cot_peaks, silence_peaks)"
   ]
  },
  {
   "cell_type": "code",
   "execution_count": 66,
   "id": "bf8b83b6",
   "metadata": {},
   "outputs": [
    {
     "name": "stdout",
     "output_type": "stream",
     "text": [
      "cohen d:  0.7857210704103156\n"
     ]
    }
   ],
   "source": [
    "_ = cohen_d_paired(cot_peaks, silence_peaks)"
   ]
  },
  {
   "cell_type": "code",
   "execution_count": 67,
   "id": "b924ddb0",
   "metadata": {},
   "outputs": [],
   "source": [
    "df_for_plot = all_mouse_silence_df[['mouse', 'mean tone peak', 'mean silence peak']].set_index('mouse').T"
   ]
  },
  {
   "cell_type": "code",
   "execution_count": 71,
   "id": "5aea4b35",
   "metadata": {},
   "outputs": [],
   "source": [
    "peaks_silence_cot_spreadsheet = os.path.join(spreadsheet_file_path, 'ED_fig5D_silence_tones_peaks.csv')\n",
    "if not os.path.exists(peaks_silence_cot_spreadsheet):\n",
    "    df_for_plot.to_csv(peaks_silence_cot_spreadsheet)"
   ]
  },
  {
   "cell_type": "code",
   "execution_count": 68,
   "id": "5874849c",
   "metadata": {},
   "outputs": [],
   "source": [
    "def comparison_plot(ax, data, show_err_bar=False, mean_linewidth=4, mean_line_color='blue', legend=False):\n",
    "    \"\"\"Plot lines for all mice from early to late.\n",
    "    \"\"\"\n",
    "    data.plot(ax=ax,  legend=False, color='grey')\n",
    "    data.mean(1).plot(ax=ax,linewidth=mean_linewidth,color=mean_line_color, alpha=0.7)\n",
    "\n",
    "    if show_err_bar:\n",
    "        yerr = data.std(axis=1)\n",
    "\n",
    "        plt.errorbar(np.array([0,1]), data.mean(1), yerr, color=mean_line_color, linewidth=4)\n",
    "\n",
    "    # drop the left and bottom spine \n",
    "    ax.spines['left'].set_position(('outward', 10))\n",
    "    ax.spines['bottom'].set_position(('outward', 10))\n",
    "    # Hide the right and top spines\n",
    "    ax.spines['right'].set_visible(False)\n",
    "    ax.spines['top'].set_visible(False)\n"
   ]
  },
  {
   "cell_type": "code",
   "execution_count": 69,
   "id": "b712ee13",
   "metadata": {},
   "outputs": [],
   "source": [
    "font = {'size': 7}\n",
    "matplotlib.rc('font', **font)\n",
    "matplotlib.rcParams['pdf.fonttype'] = 42\n",
    "matplotlib.rcParams['font.sans-serif'] = 'Arial'\n",
    "matplotlib.rcParams['font.family']\n",
    "\n",
    "\n",
    "fig, ax = plt.subplots(figsize=[2,2])\n",
    "comparison_plot(ax, df_for_plot, mean_line_color='#7FB5B5', mean_linewidth=0, show_err_bar=False)\n",
    "plt.xticks([0, 1], ['tone', 'silence'], fontsize=8)\n",
    "plt.ylabel('Z-scored fluorescence', fontsize=8)\n",
    "#ax.text(0.9, 1.9, 'p-value = {0:.3f}'.format(pval))\n",
    "ax.set_xlabel(' ')\n",
    "\n",
    "#significance stars\n",
    "y = df_for_plot.to_numpy().max() + .2\n",
    "h = .1\n",
    "plt.plot([0, 0, 1, 1], [y, y+h, y+h, y],c='k',lw=1)\n",
    "ax.text(.5, y+h, 'n.s.', ha='center', fontsize=10)\n",
    "\n",
    "plt.tight_layout()"
   ]
  },
  {
   "cell_type": "code",
   "execution_count": 72,
   "id": "51152386",
   "metadata": {},
   "outputs": [],
   "source": [
    "example_mouse_data = all_mouse_silence_df[all_mouse_silence_df['mouse']== 'SNL_photo70']"
   ]
  },
  {
   "cell_type": "code",
   "execution_count": 73,
   "id": "050d2bad",
   "metadata": {},
   "outputs": [],
   "source": [
    "example_tone_mean_trace = example_mouse_data['tone'][0]\n",
    "example_tone_upper_error = example_mouse_data['tone error  bar upper'][0]\n",
    "example_tone_lower_error = example_mouse_data['tone error bar lower'][0]"
   ]
  },
  {
   "cell_type": "code",
   "execution_count": 74,
   "id": "a4616002",
   "metadata": {},
   "outputs": [],
   "source": [
    "example_silence_mean_trace = example_mouse_data['silence'][0]\n",
    "example_silence_upper_error = example_mouse_data['silence error bar upper'][0]\n",
    "example_silence_lower_error = example_mouse_data['silence error bar lower'][0]"
   ]
  },
  {
   "cell_type": "code",
   "execution_count": 271,
   "id": "c2f93374",
   "metadata": {},
   "outputs": [],
   "source": [
    "font = {'size': 7}\n",
    "matplotlib.rc('font', **font)\n",
    "matplotlib.rcParams['pdf.fonttype'] = 42\n",
    "matplotlib.rcParams['font.sans-serif'] = 'Arial'\n",
    "matplotlib.rcParams['font.family']\n",
    "\n",
    "fig, axs1 = plt.subplots(1,1, figsize=[2.5,2])\n",
    "colours = cm.viridis(np.linspace(0.2, 0.7, 2))\n",
    "axs1.plot(time_points, example_tone_mean_trace, label='normal cue', color=colours[0])\n",
    "axs1.fill_between(time_points, example_tone_lower_error, example_tone_upper_error, alpha=0.4, linewidth=0, color=colours[0])\n",
    "axs1.plot(time_points, example_silence_mean_trace, label='silence', color=colours[1])\n",
    "axs1.fill_between(time_points, example_silence_lower_error, example_silence_upper_error, alpha=0.4, linewidth=0, color=colours[1])\n",
    "axs1.set_xlim([-2,2])\n",
    "axs1.axvline([0], color='k')\n",
    "axs1.set_ylabel('z-scored fluorescence', fontsize=8)\n",
    "axs1.set_xlabel('Time (s)', fontsize=8)\n",
    "\n",
    "axs1.spines['right'].set_visible(False)\n",
    "axs1.spines['top'].set_visible(False)\n",
    "axs1.legend(loc='lower left', bbox_to_anchor=(0.7, 0.8),\n",
    "            borderaxespad=0, frameon=False,prop={'size': 6 })\n",
    "plt.tight_layout()"
   ]
  },
  {
   "cell_type": "code",
   "execution_count": null,
   "id": "e6d73276",
   "metadata": {},
   "outputs": [],
   "source": []
  }
 ],
 "metadata": {
  "kernelspec": {
   "display_name": "Python 3 (ipykernel)",
   "language": "python",
   "name": "python3"
  },
  "language_info": {
   "codemirror_mode": {
    "name": "ipython",
    "version": 3
   },
   "file_extension": ".py",
   "mimetype": "text/x-python",
   "name": "python",
   "nbconvert_exporter": "python",
   "pygments_lexer": "ipython3",
   "version": "3.8.13"
  }
 },
 "nbformat": 4,
 "nbformat_minor": 5
}
