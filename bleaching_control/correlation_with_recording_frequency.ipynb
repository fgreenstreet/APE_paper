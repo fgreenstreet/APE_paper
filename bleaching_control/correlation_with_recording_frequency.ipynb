{
 "cells": [
  {
   "cell_type": "code",
   "execution_count": 7,
   "id": "e9efdbc4",
   "metadata": {},
   "outputs": [],
   "source": [
    "from scipy import stats\n",
    "import os\n",
    "import sys\n",
    "sys.path.append('..')\n",
    "import seaborn as sns\n",
    "from utils.tracking_analysis.tracking_plotting import *\n",
    "from set_global_params import raw_tracking_path, processed_data_path, change_over_time_mice\n",
    "from utils.reaction_time_utils import get_bpod_trial_nums_per_session\n",
    "from utils.post_processing_utils import get_all_experimental_records\n",
    "from utils.post_processing_utils import remove_exps_after_manipulations, remove_unsuitable_recordings, remove_manipulation_days\n",
    "from utils.plotting_visuals import makes_plots_pretty"
   ]
  },
  {
   "cell_type": "code",
   "execution_count": 8,
   "id": "5ae1adfc",
   "metadata": {},
   "outputs": [],
   "source": [
    "def get_session_with_10000th_trial(mouse, experiments):\n",
    "    dates = experiments[experiments['mouse_id']==mouse]['date'].unique()\n",
    "    session_starts = get_bpod_trial_nums_per_session(mouse, dates)\n",
    "    if session_starts[-1] >= 10000:\n",
    "        last_session_idx = np.where(np.asarray(session_starts) >=10000)[0][0]\n",
    "    else:\n",
    "        last_session_idx = -1\n",
    "    last_session_date = dates[last_session_idx]\n",
    "    return(last_session_date)"
   ]
  },
  {
   "cell_type": "code",
   "execution_count": 9,
   "id": "a7c4b1ca",
   "metadata": {},
   "outputs": [
    {
     "name": "stderr",
     "output_type": "stream",
     "text": [
      "C:\\Users\\francescag\\AppData\\Local\\Temp\\ipykernel_13000\\830740494.py:46: SettingWithCopyWarning: \n",
      "A value is trying to be set on a copy of a slice from a DataFrame.\n",
      "Try using .loc[row_indexer,col_indexer] = value instead\n",
      "\n",
      "See the caveats in the documentation: https://pandas.pydata.org/pandas-docs/stable/user_guide/indexing.html#returning-a-view-versus-a-copy\n",
      "  contra_data['datetime'] = pd.to_datetime(contra_data['date'], format='%Y%m%d')\n",
      "C:\\Users\\francescag\\AppData\\Local\\Continuum\\miniconda3\\envs\\py38\\lib\\site-packages\\numpy\\core\\fromnumeric.py:3438: FutureWarning: In a future version, DataFrame.mean(axis=None) will return a scalar mean over the entire DataFrame. To retain the old behavior, use 'frame.mean(axis=0)' or just 'frame.mean()'\n",
      "  return mean(axis=axis, dtype=dtype, out=out, **kwargs)\n",
      "C:\\Users\\francescag\\AppData\\Local\\Temp\\ipykernel_13000\\830740494.py:46: SettingWithCopyWarning: \n",
      "A value is trying to be set on a copy of a slice from a DataFrame.\n",
      "Try using .loc[row_indexer,col_indexer] = value instead\n",
      "\n",
      "See the caveats in the documentation: https://pandas.pydata.org/pandas-docs/stable/user_guide/indexing.html#returning-a-view-versus-a-copy\n",
      "  contra_data['datetime'] = pd.to_datetime(contra_data['date'], format='%Y%m%d')\n",
      "C:\\Users\\francescag\\AppData\\Local\\Continuum\\miniconda3\\envs\\py38\\lib\\site-packages\\numpy\\core\\fromnumeric.py:3438: FutureWarning: In a future version, DataFrame.mean(axis=None) will return a scalar mean over the entire DataFrame. To retain the old behavior, use 'frame.mean(axis=0)' or just 'frame.mean()'\n",
      "  return mean(axis=axis, dtype=dtype, out=out, **kwargs)\n",
      "C:\\Users\\francescag\\AppData\\Local\\Temp\\ipykernel_13000\\830740494.py:46: SettingWithCopyWarning: \n",
      "A value is trying to be set on a copy of a slice from a DataFrame.\n",
      "Try using .loc[row_indexer,col_indexer] = value instead\n",
      "\n",
      "See the caveats in the documentation: https://pandas.pydata.org/pandas-docs/stable/user_guide/indexing.html#returning-a-view-versus-a-copy\n",
      "  contra_data['datetime'] = pd.to_datetime(contra_data['date'], format='%Y%m%d')\n",
      "C:\\Users\\francescag\\AppData\\Local\\Continuum\\miniconda3\\envs\\py38\\lib\\site-packages\\numpy\\core\\fromnumeric.py:3438: FutureWarning: In a future version, DataFrame.mean(axis=None) will return a scalar mean over the entire DataFrame. To retain the old behavior, use 'frame.mean(axis=0)' or just 'frame.mean()'\n",
      "  return mean(axis=axis, dtype=dtype, out=out, **kwargs)\n"
     ]
    },
    {
     "name": "stdout",
     "output_type": "stream",
     "text": [
      "removing SNL_photo21: ['20200829' '20200830' '20200831' '20200908' '20200915' '20201008'\n",
      " '20201009']\n"
     ]
    },
    {
     "name": "stderr",
     "output_type": "stream",
     "text": [
      "C:\\Users\\francescag\\AppData\\Local\\Temp\\ipykernel_13000\\830740494.py:46: SettingWithCopyWarning: \n",
      "A value is trying to be set on a copy of a slice from a DataFrame.\n",
      "Try using .loc[row_indexer,col_indexer] = value instead\n",
      "\n",
      "See the caveats in the documentation: https://pandas.pydata.org/pandas-docs/stable/user_guide/indexing.html#returning-a-view-versus-a-copy\n",
      "  contra_data['datetime'] = pd.to_datetime(contra_data['date'], format='%Y%m%d')\n",
      "C:\\Users\\francescag\\AppData\\Local\\Continuum\\miniconda3\\envs\\py38\\lib\\site-packages\\numpy\\core\\fromnumeric.py:3438: FutureWarning: In a future version, DataFrame.mean(axis=None) will return a scalar mean over the entire DataFrame. To retain the old behavior, use 'frame.mean(axis=0)' or just 'frame.mean()'\n",
      "  return mean(axis=axis, dtype=dtype, out=out, **kwargs)\n"
     ]
    },
    {
     "name": "stdout",
     "output_type": "stream",
     "text": [
      "removing SNL_photo22: ['20200829' '20200830' '20200831' '20200908' '20200915' '20201008'\n",
      " '20201009']\n"
     ]
    },
    {
     "name": "stderr",
     "output_type": "stream",
     "text": [
      "C:\\Users\\francescag\\AppData\\Local\\Temp\\ipykernel_13000\\830740494.py:46: SettingWithCopyWarning: \n",
      "A value is trying to be set on a copy of a slice from a DataFrame.\n",
      "Try using .loc[row_indexer,col_indexer] = value instead\n",
      "\n",
      "See the caveats in the documentation: https://pandas.pydata.org/pandas-docs/stable/user_guide/indexing.html#returning-a-view-versus-a-copy\n",
      "  contra_data['datetime'] = pd.to_datetime(contra_data['date'], format='%Y%m%d')\n",
      "C:\\Users\\francescag\\AppData\\Local\\Continuum\\miniconda3\\envs\\py38\\lib\\site-packages\\numpy\\core\\fromnumeric.py:3438: FutureWarning: In a future version, DataFrame.mean(axis=None) will return a scalar mean over the entire DataFrame. To retain the old behavior, use 'frame.mean(axis=0)' or just 'frame.mean()'\n",
      "  return mean(axis=axis, dtype=dtype, out=out, **kwargs)\n"
     ]
    },
    {
     "name": "stdout",
     "output_type": "stream",
     "text": [
      "removing SNL_photo26: ['20200829' '20200830' '20200831' '20200908' '20200915' '20201008'\n",
      " '20201009']\n"
     ]
    },
    {
     "name": "stderr",
     "output_type": "stream",
     "text": [
      "C:\\Users\\francescag\\AppData\\Local\\Temp\\ipykernel_13000\\830740494.py:46: SettingWithCopyWarning: \n",
      "A value is trying to be set on a copy of a slice from a DataFrame.\n",
      "Try using .loc[row_indexer,col_indexer] = value instead\n",
      "\n",
      "See the caveats in the documentation: https://pandas.pydata.org/pandas-docs/stable/user_guide/indexing.html#returning-a-view-versus-a-copy\n",
      "  contra_data['datetime'] = pd.to_datetime(contra_data['date'], format='%Y%m%d')\n",
      "C:\\Users\\francescag\\AppData\\Local\\Continuum\\miniconda3\\envs\\py38\\lib\\site-packages\\numpy\\core\\fromnumeric.py:3438: FutureWarning: In a future version, DataFrame.mean(axis=None) will return a scalar mean over the entire DataFrame. To retain the old behavior, use 'frame.mean(axis=0)' or just 'frame.mean()'\n",
      "  return mean(axis=axis, dtype=dtype, out=out, **kwargs)\n"
     ]
    },
    {
     "data": {
      "text/plain": [
       "<AxesSubplot:xlabel='days_since_last', ylabel='APE peaks'>"
      ]
     },
     "execution_count": 9,
     "metadata": {},
     "output_type": "execute_result"
    },
    {
     "data": {
      "image/png": "[encoded data removed]",
      "text/plain": [
       "<Figure size 432x288 with 1 Axes>"
      ]
     },
     "metadata": {
      "needs_background": "light"
     },
     "output_type": "display_data"
    }
   ],
   "source": [
    "import pandas as pd\n",
    "import numpy as np\n",
    "import seaborn as sns\n",
    "import os\n",
    "\n",
    "# Define the recording site\n",
    "recording_site = 'tail'\n",
    "\n",
    "# Initialize an empty DataFrame to accumulate data for all mice\n",
    "all_mice_data = pd.DataFrame()\n",
    "\n",
    "for mouse in change_over_time_mice[recording_site]:\n",
    "    all_experiments = get_all_experimental_records()\n",
    "    all_experiments = remove_exps_after_manipulations(all_experiments, [mouse])\n",
    "    all_experiments = remove_manipulation_days(all_experiments)\n",
    "    all_experiments = remove_unsuitable_recordings(all_experiments)\n",
    "    \n",
    "    # Filter experiments based on mouse ID and recording site\n",
    "    experiments_to_process = all_experiments[\n",
    "        (all_experiments['mouse_id'] == mouse) & (all_experiments['recording_site'] == recording_site)]\n",
    "    last_session = get_session_with_10000th_trial(mouse, experiments_to_process)\n",
    "    dates = experiments_to_process['date'].values\n",
    "    last_session_ind = int(np.where(dates == last_session)[0])\n",
    "    \n",
    "    # Loop through each session date\n",
    "    for i, date in enumerate(dates[0: last_session_ind + 1]):\n",
    "        save_out_folder = os.path.join(raw_tracking_path, mouse, date)\n",
    "        movement_param_file = os.path.join(save_out_folder, f'APE_tracking{mouse}_{date}.pkl')\n",
    "        \n",
    "        if os.path.isfile(movement_param_file):\n",
    "            session_data = pd.read_pickle(movement_param_file)\n",
    "            session_data['date'] = date\n",
    "            session_data['mouse'] = mouse\n",
    "            if i == 0:\n",
    "                all_session_data = session_data\n",
    "            else:\n",
    "                all_session_data = pd.concat([all_session_data, session_data])\n",
    "        else:\n",
    "            print(f'{date} not found')\n",
    "    \n",
    "    # Reset index for combined session data and filter for 'contra' side\n",
    "    all_session_data = all_session_data.reset_index(drop=True)\n",
    "    contra_data = all_session_data[all_session_data.side == 'contra']\n",
    "\n",
    "    # Process 'contra' data to calculate days since last session\n",
    "    contra_data['datetime'] = pd.to_datetime(contra_data['date'], format='%Y%m%d')\n",
    "    unique_dates = contra_data.drop_duplicates(subset='datetime', keep='last').copy()\n",
    "    unique_dates['days_since_last'] = unique_dates['datetime'].diff().dt.days\n",
    "    contra_data = pd.merge(contra_data, unique_dates[['datetime', 'days_since_last']], on='datetime', how='left')\n",
    "    contra_data['days_since_last'] = contra_data['days_since_last'].fillna(0).astype(int)\n",
    "\n",
    "    # Extract required columns for plotting\n",
    "    APE_data = contra_data[['days_since_last', 'APE peaks', 'date']].copy()\n",
    "    mean_session_APE = APE_data.groupby('date')[['days_since_last', 'APE peaks']].apply(np.mean)\n",
    "\n",
    "    # Append to the cumulative DataFrame for all mice\n",
    "    all_mice_data = pd.concat([all_mice_data, mean_session_APE])\n",
    "\n",
    "# Plot after processing all mice data\n",
    "sns.regplot(data=all_mice_data, x='days_since_last', y='APE peaks')\n"
   ]
  },
  {
   "cell_type": "code",
   "execution_count": 11,
   "id": "0f483209",
   "metadata": {},
   "outputs": [
    {
     "ename": "KeyError",
     "evalue": "\"['mouse'] not in index\"",
     "output_type": "error",
     "traceback": [
      "\u001b[1;31m---------------------------------------------------------------------------\u001b[0m",
      "\u001b[1;31mKeyError\u001b[0m                                  Traceback (most recent call last)",
      "Input \u001b[1;32mIn [11]\u001b[0m, in \u001b[0;36m<cell line: 2>\u001b[1;34m()\u001b[0m\n\u001b[0;32m      1\u001b[0m \u001b[38;5;66;03m# Plot after processing all mice data\u001b[39;00m\n\u001b[1;32m----> 2\u001b[0m \u001b[43msns\u001b[49m\u001b[38;5;241;43m.\u001b[39;49m\u001b[43mlmplot\u001b[49m\u001b[43m(\u001b[49m\u001b[43mdata\u001b[49m\u001b[38;5;241;43m=\u001b[39;49m\u001b[43mall_mice_data\u001b[49m\u001b[43m,\u001b[49m\u001b[43m \u001b[49m\u001b[43mx\u001b[49m\u001b[38;5;241;43m=\u001b[39;49m\u001b[38;5;124;43m'\u001b[39;49m\u001b[38;5;124;43mdays_since_last\u001b[39;49m\u001b[38;5;124;43m'\u001b[39;49m\u001b[43m,\u001b[49m\u001b[43m \u001b[49m\u001b[43my\u001b[49m\u001b[38;5;241;43m=\u001b[39;49m\u001b[38;5;124;43m'\u001b[39;49m\u001b[38;5;124;43mAPE peaks\u001b[39;49m\u001b[38;5;124;43m'\u001b[39;49m\u001b[43m,\u001b[49m\u001b[43m \u001b[49m\u001b[43mhue\u001b[49m\u001b[38;5;241;43m=\u001b[39;49m\u001b[38;5;124;43m'\u001b[39;49m\u001b[38;5;124;43mmouse\u001b[39;49m\u001b[38;5;124;43m'\u001b[39;49m\u001b[43m,\u001b[49m\u001b[43m \u001b[49m\u001b[43mlegend\u001b[49m\u001b[38;5;241;43m=\u001b[39;49m\u001b[38;5;28;43;01mFalse\u001b[39;49;00m\u001b[43m)\u001b[49m\n",
      "File \u001b[1;32m~\\AppData\\Local\\Continuum\\miniconda3\\envs\\py38\\lib\\site-packages\\seaborn\\_decorators.py:46\u001b[0m, in \u001b[0;36m_deprecate_positional_args.<locals>.inner_f\u001b[1;34m(*args, **kwargs)\u001b[0m\n\u001b[0;32m     36\u001b[0m     warnings\u001b[38;5;241m.\u001b[39mwarn(\n\u001b[0;32m     37\u001b[0m         \u001b[38;5;124m\"\u001b[39m\u001b[38;5;124mPass the following variable\u001b[39m\u001b[38;5;132;01m{}\u001b[39;00m\u001b[38;5;124m as \u001b[39m\u001b[38;5;132;01m{}\u001b[39;00m\u001b[38;5;124mkeyword arg\u001b[39m\u001b[38;5;132;01m{}\u001b[39;00m\u001b[38;5;124m: \u001b[39m\u001b[38;5;132;01m{}\u001b[39;00m\u001b[38;5;124m. \u001b[39m\u001b[38;5;124m\"\u001b[39m\n\u001b[0;32m     38\u001b[0m         \u001b[38;5;124m\"\u001b[39m\u001b[38;5;124mFrom version 0.12, the only valid positional argument \u001b[39m\u001b[38;5;124m\"\u001b[39m\n\u001b[1;32m   (...)\u001b[0m\n\u001b[0;32m     43\u001b[0m         \u001b[38;5;167;01mFutureWarning\u001b[39;00m\n\u001b[0;32m     44\u001b[0m     )\n\u001b[0;32m     45\u001b[0m kwargs\u001b[38;5;241m.\u001b[39mupdate({k: arg \u001b[38;5;28;01mfor\u001b[39;00m k, arg \u001b[38;5;129;01min\u001b[39;00m \u001b[38;5;28mzip\u001b[39m(sig\u001b[38;5;241m.\u001b[39mparameters, args)})\n\u001b[1;32m---> 46\u001b[0m \u001b[38;5;28;01mreturn\u001b[39;00m \u001b[43mf\u001b[49m\u001b[43m(\u001b[49m\u001b[38;5;241;43m*\u001b[39;49m\u001b[38;5;241;43m*\u001b[39;49m\u001b[43mkwargs\u001b[49m\u001b[43m)\u001b[49m\n",
      "File \u001b[1;32m~\\AppData\\Local\\Continuum\\miniconda3\\envs\\py38\\lib\\site-packages\\seaborn\\regression.py:605\u001b[0m, in \u001b[0;36mlmplot\u001b[1;34m(x, y, data, hue, col, row, palette, col_wrap, height, aspect, markers, sharex, sharey, hue_order, col_order, row_order, legend, legend_out, x_estimator, x_bins, x_ci, scatter, fit_reg, ci, n_boot, units, seed, order, logistic, lowess, robust, logx, x_partial, y_partial, truncate, x_jitter, y_jitter, scatter_kws, line_kws, facet_kws, size)\u001b[0m\n\u001b[0;32m    603\u001b[0m need_cols \u001b[38;5;241m=\u001b[39m [x, y, hue, col, row, units, x_partial, y_partial]\n\u001b[0;32m    604\u001b[0m cols \u001b[38;5;241m=\u001b[39m np\u001b[38;5;241m.\u001b[39munique([a \u001b[38;5;28;01mfor\u001b[39;00m a \u001b[38;5;129;01min\u001b[39;00m need_cols \u001b[38;5;28;01mif\u001b[39;00m a \u001b[38;5;129;01mis\u001b[39;00m \u001b[38;5;129;01mnot\u001b[39;00m \u001b[38;5;28;01mNone\u001b[39;00m])\u001b[38;5;241m.\u001b[39mtolist()\n\u001b[1;32m--> 605\u001b[0m data \u001b[38;5;241m=\u001b[39m \u001b[43mdata\u001b[49m\u001b[43m[\u001b[49m\u001b[43mcols\u001b[49m\u001b[43m]\u001b[49m\n\u001b[0;32m    607\u001b[0m \u001b[38;5;66;03m# Initialize the grid\u001b[39;00m\n\u001b[0;32m    608\u001b[0m facets \u001b[38;5;241m=\u001b[39m FacetGrid(\n\u001b[0;32m    609\u001b[0m     data, row\u001b[38;5;241m=\u001b[39mrow, col\u001b[38;5;241m=\u001b[39mcol, hue\u001b[38;5;241m=\u001b[39mhue,\n\u001b[0;32m    610\u001b[0m     palette\u001b[38;5;241m=\u001b[39mpalette,\n\u001b[1;32m   (...)\u001b[0m\n\u001b[0;32m    613\u001b[0m     \u001b[38;5;241m*\u001b[39m\u001b[38;5;241m*\u001b[39mfacet_kws,\n\u001b[0;32m    614\u001b[0m )\n",
      "File \u001b[1;32m~\\AppData\\Local\\Continuum\\miniconda3\\envs\\py38\\lib\\site-packages\\pandas\\core\\frame.py:3511\u001b[0m, in \u001b[0;36mDataFrame.__getitem__\u001b[1;34m(self, key)\u001b[0m\n\u001b[0;32m   3509\u001b[0m     \u001b[38;5;28;01mif\u001b[39;00m is_iterator(key):\n\u001b[0;32m   3510\u001b[0m         key \u001b[38;5;241m=\u001b[39m \u001b[38;5;28mlist\u001b[39m(key)\n\u001b[1;32m-> 3511\u001b[0m     indexer \u001b[38;5;241m=\u001b[39m \u001b[38;5;28;43mself\u001b[39;49m\u001b[38;5;241;43m.\u001b[39;49m\u001b[43mcolumns\u001b[49m\u001b[38;5;241;43m.\u001b[39;49m\u001b[43m_get_indexer_strict\u001b[49m\u001b[43m(\u001b[49m\u001b[43mkey\u001b[49m\u001b[43m,\u001b[49m\u001b[43m \u001b[49m\u001b[38;5;124;43m\"\u001b[39;49m\u001b[38;5;124;43mcolumns\u001b[39;49m\u001b[38;5;124;43m\"\u001b[39;49m\u001b[43m)\u001b[49m[\u001b[38;5;241m1\u001b[39m]\n\u001b[0;32m   3513\u001b[0m \u001b[38;5;66;03m# take() does not accept boolean indexers\u001b[39;00m\n\u001b[0;32m   3514\u001b[0m \u001b[38;5;28;01mif\u001b[39;00m \u001b[38;5;28mgetattr\u001b[39m(indexer, \u001b[38;5;124m\"\u001b[39m\u001b[38;5;124mdtype\u001b[39m\u001b[38;5;124m\"\u001b[39m, \u001b[38;5;28;01mNone\u001b[39;00m) \u001b[38;5;241m==\u001b[39m \u001b[38;5;28mbool\u001b[39m:\n",
      "File \u001b[1;32m~\\AppData\\Local\\Continuum\\miniconda3\\envs\\py38\\lib\\site-packages\\pandas\\core\\indexes\\base.py:5782\u001b[0m, in \u001b[0;36mIndex._get_indexer_strict\u001b[1;34m(self, key, axis_name)\u001b[0m\n\u001b[0;32m   5779\u001b[0m \u001b[38;5;28;01melse\u001b[39;00m:\n\u001b[0;32m   5780\u001b[0m     keyarr, indexer, new_indexer \u001b[38;5;241m=\u001b[39m \u001b[38;5;28mself\u001b[39m\u001b[38;5;241m.\u001b[39m_reindex_non_unique(keyarr)\n\u001b[1;32m-> 5782\u001b[0m \u001b[38;5;28;43mself\u001b[39;49m\u001b[38;5;241;43m.\u001b[39;49m\u001b[43m_raise_if_missing\u001b[49m\u001b[43m(\u001b[49m\u001b[43mkeyarr\u001b[49m\u001b[43m,\u001b[49m\u001b[43m \u001b[49m\u001b[43mindexer\u001b[49m\u001b[43m,\u001b[49m\u001b[43m \u001b[49m\u001b[43maxis_name\u001b[49m\u001b[43m)\u001b[49m\n\u001b[0;32m   5784\u001b[0m keyarr \u001b[38;5;241m=\u001b[39m \u001b[38;5;28mself\u001b[39m\u001b[38;5;241m.\u001b[39mtake(indexer)\n\u001b[0;32m   5785\u001b[0m \u001b[38;5;28;01mif\u001b[39;00m \u001b[38;5;28misinstance\u001b[39m(key, Index):\n\u001b[0;32m   5786\u001b[0m     \u001b[38;5;66;03m# GH 42790 - Preserve name from an Index\u001b[39;00m\n",
      "File \u001b[1;32m~\\AppData\\Local\\Continuum\\miniconda3\\envs\\py38\\lib\\site-packages\\pandas\\core\\indexes\\base.py:5845\u001b[0m, in \u001b[0;36mIndex._raise_if_missing\u001b[1;34m(self, key, indexer, axis_name)\u001b[0m\n\u001b[0;32m   5842\u001b[0m     \u001b[38;5;28;01mraise\u001b[39;00m \u001b[38;5;167;01mKeyError\u001b[39;00m(\u001b[38;5;124mf\u001b[39m\u001b[38;5;124m\"\u001b[39m\u001b[38;5;124mNone of [\u001b[39m\u001b[38;5;132;01m{\u001b[39;00mkey\u001b[38;5;132;01m}\u001b[39;00m\u001b[38;5;124m] are in the [\u001b[39m\u001b[38;5;132;01m{\u001b[39;00maxis_name\u001b[38;5;132;01m}\u001b[39;00m\u001b[38;5;124m]\u001b[39m\u001b[38;5;124m\"\u001b[39m)\n\u001b[0;32m   5844\u001b[0m not_found \u001b[38;5;241m=\u001b[39m \u001b[38;5;28mlist\u001b[39m(ensure_index(key)[missing_mask\u001b[38;5;241m.\u001b[39mnonzero()[\u001b[38;5;241m0\u001b[39m]]\u001b[38;5;241m.\u001b[39munique())\n\u001b[1;32m-> 5845\u001b[0m \u001b[38;5;28;01mraise\u001b[39;00m \u001b[38;5;167;01mKeyError\u001b[39;00m(\u001b[38;5;124mf\u001b[39m\u001b[38;5;124m\"\u001b[39m\u001b[38;5;132;01m{\u001b[39;00mnot_found\u001b[38;5;132;01m}\u001b[39;00m\u001b[38;5;124m not in index\u001b[39m\u001b[38;5;124m\"\u001b[39m)\n",
      "\u001b[1;31mKeyError\u001b[0m: \"['mouse'] not in index\""
     ]
    }
   ],
   "source": [
    "# Plot after processing all mice data\n",
    "sns.lmplot(data=all_mice_data, x='days_since_last', y='APE peaks', hue='mouse', legend=False)"
   ]
  },
  {
   "cell_type": "code",
   "execution_count": 59,
   "id": "c57d6900",
   "metadata": {},
   "outputs": [
    {
     "name": "stdout",
     "output_type": "stream",
     "text": [
      "[False False False False False False False False  True  True  True]\n",
      "20200210 (301, 50)\n",
      "20200213 (281, 50)\n",
      "20200218 (282, 50)\n",
      "20200220 (367, 50)\n",
      "20200224 (286, 50)\n",
      "20200227 (266, 50)\n",
      "20200303 (303, 50)\n",
      "20200305 (291, 50)\n",
      "20200307 (292, 50)\n"
     ]
    },
    {
     "name": "stderr",
     "output_type": "stream",
     "text": [
      "C:\\Users\\francescag\\AppData\\Local\\Temp\\ipykernel_13020\\3120956931.py:32: SettingWithCopyWarning: \n",
      "A value is trying to be set on a copy of a slice from a DataFrame.\n",
      "Try using .loc[row_indexer,col_indexer] = value instead\n",
      "\n",
      "See the caveats in the documentation: https://pandas.pydata.org/pandas-docs/stable/user_guide/indexing.html#returning-a-view-versus-a-copy\n",
      "  contra_data['datetime'] = pd.to_datetime(contra_data['date'], format='%Y%m%d')\n",
      "C:\\Users\\francescag\\AppData\\Local\\Continuum\\miniconda3\\envs\\py38\\lib\\site-packages\\numpy\\core\\fromnumeric.py:3438: FutureWarning: In a future version, DataFrame.mean(axis=None) will return a scalar mean over the entire DataFrame. To retain the old behavior, use 'frame.mean(axis=0)' or just 'frame.mean()'\n",
      "  return mean(axis=axis, dtype=dtype, out=out, **kwargs)\n"
     ]
    },
    {
     "name": "stdout",
     "output_type": "stream",
     "text": [
      "[False False False False False False False False False False False False\n",
      " False False  True]\n",
      "20200204 (145, 50)\n",
      "20200206 (208, 50)\n",
      "20200208 (439, 50)\n",
      "20200210 (246, 50)\n",
      "20200212 (222, 50)\n",
      "20200214 (265, 50)\n",
      "20200218 (358, 50)\n",
      "20200221 (289, 50)\n",
      "20200224 (238, 50)\n",
      "20200226 (267, 50)\n",
      "20200228 (251, 50)\n",
      "20200303 (298, 50)\n",
      "20200305 (279, 50)\n",
      "20200307 (304, 50)\n",
      "20200310 (278, 50)\n"
     ]
    },
    {
     "name": "stderr",
     "output_type": "stream",
     "text": [
      "C:\\Users\\francescag\\AppData\\Local\\Temp\\ipykernel_13020\\3120956931.py:32: SettingWithCopyWarning: \n",
      "A value is trying to be set on a copy of a slice from a DataFrame.\n",
      "Try using .loc[row_indexer,col_indexer] = value instead\n",
      "\n",
      "See the caveats in the documentation: https://pandas.pydata.org/pandas-docs/stable/user_guide/indexing.html#returning-a-view-versus-a-copy\n",
      "  contra_data['datetime'] = pd.to_datetime(contra_data['date'], format='%Y%m%d')\n",
      "C:\\Users\\francescag\\AppData\\Local\\Continuum\\miniconda3\\envs\\py38\\lib\\site-packages\\numpy\\core\\fromnumeric.py:3438: FutureWarning: In a future version, DataFrame.mean(axis=None) will return a scalar mean over the entire DataFrame. To retain the old behavior, use 'frame.mean(axis=0)' or just 'frame.mean()'\n",
      "  return mean(axis=axis, dtype=dtype, out=out, **kwargs)\n"
     ]
    },
    {
     "name": "stdout",
     "output_type": "stream",
     "text": [
      "8071\n",
      "20200223 (87, 50)\n",
      "20200226 (267, 50)\n",
      "20200228 (273, 50)\n",
      "20200229 (344, 50)\n",
      "20200303 (315, 50)\n",
      "20200305 (293, 50)\n",
      "20200307 (306, 50)\n",
      "20200310 (341, 50)\n",
      "20200312 (245, 50)\n",
      "20200313 (278, 50)\n",
      "20200316 (278, 50)\n"
     ]
    },
    {
     "name": "stderr",
     "output_type": "stream",
     "text": [
      "C:\\Users\\francescag\\AppData\\Local\\Temp\\ipykernel_13020\\3120956931.py:32: SettingWithCopyWarning: \n",
      "A value is trying to be set on a copy of a slice from a DataFrame.\n",
      "Try using .loc[row_indexer,col_indexer] = value instead\n",
      "\n",
      "See the caveats in the documentation: https://pandas.pydata.org/pandas-docs/stable/user_guide/indexing.html#returning-a-view-versus-a-copy\n",
      "  contra_data['datetime'] = pd.to_datetime(contra_data['date'], format='%Y%m%d')\n",
      "C:\\Users\\francescag\\AppData\\Local\\Continuum\\miniconda3\\envs\\py38\\lib\\site-packages\\numpy\\core\\fromnumeric.py:3438: FutureWarning: In a future version, DataFrame.mean(axis=None) will return a scalar mean over the entire DataFrame. To retain the old behavior, use 'frame.mean(axis=0)' or just 'frame.mean()'\n",
      "  return mean(axis=axis, dtype=dtype, out=out, **kwargs)\n"
     ]
    },
    {
     "name": "stdout",
     "output_type": "stream",
     "text": [
      "removing SNL_photo21: ['20200829' '20200830' '20200831' '20200908' '20200915' '20201008'\n",
      " '20201009']\n",
      "7929\n",
      "20200806 (208, 50)\n",
      "20200808 (355, 50)\n",
      "20200810 (355, 50)\n",
      "20200812 (359, 50)\n",
      "20200814 (284, 50)\n",
      "20200816 (306, 50)\n",
      "20200818 (212, 50)\n",
      "20200820 (232, 50)\n",
      "20200822 (263, 50)\n",
      "20200824 (293, 50)\n"
     ]
    },
    {
     "name": "stderr",
     "output_type": "stream",
     "text": [
      "C:\\Users\\francescag\\AppData\\Local\\Temp\\ipykernel_13020\\3120956931.py:32: SettingWithCopyWarning: \n",
      "A value is trying to be set on a copy of a slice from a DataFrame.\n",
      "Try using .loc[row_indexer,col_indexer] = value instead\n",
      "\n",
      "See the caveats in the documentation: https://pandas.pydata.org/pandas-docs/stable/user_guide/indexing.html#returning-a-view-versus-a-copy\n",
      "  contra_data['datetime'] = pd.to_datetime(contra_data['date'], format='%Y%m%d')\n",
      "C:\\Users\\francescag\\AppData\\Local\\Continuum\\miniconda3\\envs\\py38\\lib\\site-packages\\numpy\\core\\fromnumeric.py:3438: FutureWarning: In a future version, DataFrame.mean(axis=None) will return a scalar mean over the entire DataFrame. To retain the old behavior, use 'frame.mean(axis=0)' or just 'frame.mean()'\n",
      "  return mean(axis=axis, dtype=dtype, out=out, **kwargs)\n"
     ]
    },
    {
     "name": "stdout",
     "output_type": "stream",
     "text": [
      "removing SNL_photo22: ['20200829' '20200830' '20200831' '20200908' '20200915' '20201008'\n",
      " '20201009']\n",
      "9720\n",
      "20200808 (461, 50)\n",
      "20200810 (314, 50)\n",
      "20200812 (296, 50)\n",
      "20200814 (258, 50)\n",
      "20200816 (333, 50)\n",
      "20200818 (337, 50)\n",
      "20200820 (299, 50)\n",
      "20200822 (187, 50)\n",
      "20200824 (241, 50)\n",
      "20200826 (270, 50)\n"
     ]
    },
    {
     "name": "stderr",
     "output_type": "stream",
     "text": [
      "C:\\Users\\francescag\\AppData\\Local\\Temp\\ipykernel_13020\\3120956931.py:32: SettingWithCopyWarning: \n",
      "A value is trying to be set on a copy of a slice from a DataFrame.\n",
      "Try using .loc[row_indexer,col_indexer] = value instead\n",
      "\n",
      "See the caveats in the documentation: https://pandas.pydata.org/pandas-docs/stable/user_guide/indexing.html#returning-a-view-versus-a-copy\n",
      "  contra_data['datetime'] = pd.to_datetime(contra_data['date'], format='%Y%m%d')\n",
      "C:\\Users\\francescag\\AppData\\Local\\Continuum\\miniconda3\\envs\\py38\\lib\\site-packages\\numpy\\core\\fromnumeric.py:3438: FutureWarning: In a future version, DataFrame.mean(axis=None) will return a scalar mean over the entire DataFrame. To retain the old behavior, use 'frame.mean(axis=0)' or just 'frame.mean()'\n",
      "  return mean(axis=axis, dtype=dtype, out=out, **kwargs)\n"
     ]
    },
    {
     "name": "stdout",
     "output_type": "stream",
     "text": [
      "removing SNL_photo26: ['20200829' '20200830' '20200831' '20200908' '20200915' '20201008'\n",
      " '20201009']\n",
      "8010\n",
      "20200808 (191, 50)\n",
      "20200810 (471, 50)\n",
      "20200812 (390, 50)\n",
      "20200814 (363, 50)\n",
      "20200816 (374, 50)\n",
      "20200818 (217, 50)\n",
      "20200820 (376, 50)\n",
      "20200822 (345, 50)\n",
      "20200824 (524, 50)\n",
      "20200826 (443, 50)\n"
     ]
    },
    {
     "name": "stderr",
     "output_type": "stream",
     "text": [
      "C:\\Users\\francescag\\AppData\\Local\\Temp\\ipykernel_13020\\3120956931.py:32: SettingWithCopyWarning: \n",
      "A value is trying to be set on a copy of a slice from a DataFrame.\n",
      "Try using .loc[row_indexer,col_indexer] = value instead\n",
      "\n",
      "See the caveats in the documentation: https://pandas.pydata.org/pandas-docs/stable/user_guide/indexing.html#returning-a-view-versus-a-copy\n",
      "  contra_data['datetime'] = pd.to_datetime(contra_data['date'], format='%Y%m%d')\n",
      "C:\\Users\\francescag\\AppData\\Local\\Continuum\\miniconda3\\envs\\py38\\lib\\site-packages\\numpy\\core\\fromnumeric.py:3438: FutureWarning: In a future version, DataFrame.mean(axis=None) will return a scalar mean over the entire DataFrame. To retain the old behavior, use 'frame.mean(axis=0)' or just 'frame.mean()'\n",
      "  return mean(axis=axis, dtype=dtype, out=out, **kwargs)\n"
     ]
    },
    {
     "data": {
      "image/png": "[encoded data removed]",
      "text/plain": [
       "<Figure size 432x288 with 1 Axes>"
      ]
     },
     "metadata": {
      "needs_background": "light"
     },
     "output_type": "display_data"
    }
   ],
   "source": [
    "recording_site = 'tail'\n",
    "for mouse in change_over_time_mice[recording_site]:\n",
    "    all_experiments = get_all_experimental_records()\n",
    "    all_experiments = remove_exps_after_manipulations(all_experiments, [mouse])\n",
    "    all_experiments = remove_manipulation_days(all_experiments)\n",
    "    all_experiments = remove_unsuitable_recordings(all_experiments)\n",
    "    experiments_to_process = all_experiments[\n",
    "        (all_experiments['mouse_id'] == mouse) & (all_experiments['recording_site'] == recording_site)]\n",
    "    last_session = get_session_with_10000th_trial(mouse, experiments_to_process)\n",
    "    dates = experiments_to_process['date'].values\n",
    "    last_session_ind = int(np.where(dates == last_session)[0])\n",
    "    for i, date in enumerate(dates[0: last_session_ind + 1]):\n",
    "        save_out_folder = os.path.join(raw_tracking_path, mouse, date)\n",
    "        movement_param_file = os.path.join(save_out_folder, 'APE_tracking{}_{}.pkl'.format(mouse, date))\n",
    "        if os.path.isfile(movement_param_file):\n",
    "            session_data = pd.read_pickle(movement_param_file)\n",
    "            session_data['date'] = date\n",
    "            session_data.mouse = mouse\n",
    "            print(date, session_data.shape)\n",
    "            if i == 0:\n",
    "                all_session_data = session_data\n",
    "            else:\n",
    "                all_session_data = pd.concat([all_session_data, session_data])\n",
    "        else:\n",
    "            print('{} not found'.format(date))\n",
    "    all_session_data = all_session_data.reset_index(drop=True)\n",
    "    contra_data = all_session_data[all_session_data.side == 'contra']\n",
    "\n",
    "\n",
    "    # Assuming contra_data is already defined\n",
    "    # Convert the 'date' column to datetime format\n",
    "    contra_data['datetime'] = pd.to_datetime(contra_data['date'], format='%Y%m%d')\n",
    "\n",
    "    # Create a new dataframe with unique dates and their differences\n",
    "    unique_dates = contra_data.drop_duplicates(subset='datetime', keep='last').copy()\n",
    "\n",
    "    # Calculate the difference between consecutive unique dates\n",
    "    unique_dates['days_since_last'] = unique_dates['datetime'].diff().dt.days\n",
    "\n",
    "    # Merge the calculated differences back into the original dataframe\n",
    "    contra_data = pd.merge(contra_data, unique_dates[['datetime', 'days_since_last']], on='datetime', how='left')\n",
    "\n",
    "    # Fill the first row NaN with 0 or any desired value\n",
    "    contra_data['days_since_last'] = contra_data['days_since_last'].fillna(0).astype(int)\n",
    "    APE_data = contra_data[['days_since_last', 'APE peaks', 'date']].copy()\n",
    "    mean_session_APE = APE_data.groupby('date')[['days_since_last', 'APE peaks']].apply(np.mean)\n",
    "    sns.regplot(data=mean_session_APE,x='days_since_last', y='APE peaks' )"
   ]
  },
  {
   "cell_type": "code",
   "execution_count": 63,
   "id": "a0af76e6",
   "metadata": {},
   "outputs": [
    {
     "name": "stdout",
     "output_type": "stream",
     "text": [
      "[False False False False False False False False  True  True  True]\n",
      "20200210 (301, 51)\n",
      "20200213 (281, 51)\n",
      "20200218 (282, 51)\n",
      "20200220 (367, 51)\n",
      "20200224 (286, 51)\n",
      "20200227 (266, 51)\n",
      "20200303 (303, 51)\n",
      "20200305 (291, 51)\n",
      "20200307 (292, 51)\n"
     ]
    },
    {
     "name": "stderr",
     "output_type": "stream",
     "text": [
      "C:\\Users\\francescag\\AppData\\Local\\Temp\\ipykernel_13020\\2066216670.py:44: SettingWithCopyWarning: \n",
      "A value is trying to be set on a copy of a slice from a DataFrame.\n",
      "Try using .loc[row_indexer,col_indexer] = value instead\n",
      "\n",
      "See the caveats in the documentation: https://pandas.pydata.org/pandas-docs/stable/user_guide/indexing.html#returning-a-view-versus-a-copy\n",
      "  contra_data['datetime'] = pd.to_datetime(contra_data['date'], format='%Y%m%d')\n"
     ]
    },
    {
     "name": "stdout",
     "output_type": "stream",
     "text": [
      "[False False False False False False False False False False False False\n",
      " False False  True]\n",
      "20200204 (145, 51)\n",
      "20200206 (208, 51)\n",
      "20200208 (439, 51)\n",
      "20200210 (246, 51)\n",
      "20200212 (222, 51)\n",
      "20200214 (265, 51)\n",
      "20200218 (358, 51)\n",
      "20200221 (289, 51)\n",
      "20200224 (238, 51)\n",
      "20200226 (267, 51)\n",
      "20200228 (251, 51)\n",
      "20200303 (298, 51)\n",
      "20200305 (279, 51)\n",
      "20200307 (304, 51)\n",
      "20200310 (278, 51)\n"
     ]
    },
    {
     "name": "stderr",
     "output_type": "stream",
     "text": [
      "C:\\Users\\francescag\\AppData\\Local\\Temp\\ipykernel_13020\\2066216670.py:44: SettingWithCopyWarning: \n",
      "A value is trying to be set on a copy of a slice from a DataFrame.\n",
      "Try using .loc[row_indexer,col_indexer] = value instead\n",
      "\n",
      "See the caveats in the documentation: https://pandas.pydata.org/pandas-docs/stable/user_guide/indexing.html#returning-a-view-versus-a-copy\n",
      "  contra_data['datetime'] = pd.to_datetime(contra_data['date'], format='%Y%m%d')\n"
     ]
    },
    {
     "name": "stdout",
     "output_type": "stream",
     "text": [
      "8071\n",
      "20200223 (87, 51)\n",
      "20200226 (267, 51)\n",
      "20200228 (273, 51)\n",
      "20200229 (344, 51)\n",
      "20200303 (315, 51)\n",
      "20200305 (293, 51)\n",
      "20200307 (306, 51)\n",
      "20200310 (341, 51)\n",
      "20200312 (245, 51)\n",
      "20200313 (278, 51)\n",
      "20200316 (278, 51)\n"
     ]
    },
    {
     "name": "stderr",
     "output_type": "stream",
     "text": [
      "C:\\Users\\francescag\\AppData\\Local\\Temp\\ipykernel_13020\\2066216670.py:44: SettingWithCopyWarning: \n",
      "A value is trying to be set on a copy of a slice from a DataFrame.\n",
      "Try using .loc[row_indexer,col_indexer] = value instead\n",
      "\n",
      "See the caveats in the documentation: https://pandas.pydata.org/pandas-docs/stable/user_guide/indexing.html#returning-a-view-versus-a-copy\n",
      "  contra_data['datetime'] = pd.to_datetime(contra_data['date'], format='%Y%m%d')\n"
     ]
    },
    {
     "name": "stdout",
     "output_type": "stream",
     "text": [
      "removing SNL_photo21: ['20200829' '20200830' '20200831' '20200908' '20200915' '20201008'\n",
      " '20201009']\n",
      "7929\n",
      "20200806 (208, 51)\n",
      "20200808 (355, 51)\n",
      "20200810 (355, 51)\n",
      "20200812 (359, 51)\n",
      "20200814 (284, 51)\n",
      "20200816 (306, 51)\n",
      "20200818 (212, 51)\n",
      "20200820 (232, 51)\n",
      "20200822 (263, 51)\n",
      "20200824 (293, 51)\n"
     ]
    },
    {
     "name": "stderr",
     "output_type": "stream",
     "text": [
      "C:\\Users\\francescag\\AppData\\Local\\Temp\\ipykernel_13020\\2066216670.py:44: SettingWithCopyWarning: \n",
      "A value is trying to be set on a copy of a slice from a DataFrame.\n",
      "Try using .loc[row_indexer,col_indexer] = value instead\n",
      "\n",
      "See the caveats in the documentation: https://pandas.pydata.org/pandas-docs/stable/user_guide/indexing.html#returning-a-view-versus-a-copy\n",
      "  contra_data['datetime'] = pd.to_datetime(contra_data['date'], format='%Y%m%d')\n"
     ]
    },
    {
     "name": "stdout",
     "output_type": "stream",
     "text": [
      "removing SNL_photo22: ['20200829' '20200830' '20200831' '20200908' '20200915' '20201008'\n",
      " '20201009']\n",
      "9720\n",
      "20200808 (461, 51)\n",
      "20200810 (314, 51)\n",
      "20200812 (296, 51)\n",
      "20200814 (258, 51)\n",
      "20200816 (333, 51)\n",
      "20200818 (337, 51)\n",
      "20200820 (299, 51)\n",
      "20200822 (187, 51)\n",
      "20200824 (241, 51)\n",
      "20200826 (270, 51)\n"
     ]
    },
    {
     "name": "stderr",
     "output_type": "stream",
     "text": [
      "C:\\Users\\francescag\\AppData\\Local\\Temp\\ipykernel_13020\\2066216670.py:44: SettingWithCopyWarning: \n",
      "A value is trying to be set on a copy of a slice from a DataFrame.\n",
      "Try using .loc[row_indexer,col_indexer] = value instead\n",
      "\n",
      "See the caveats in the documentation: https://pandas.pydata.org/pandas-docs/stable/user_guide/indexing.html#returning-a-view-versus-a-copy\n",
      "  contra_data['datetime'] = pd.to_datetime(contra_data['date'], format='%Y%m%d')\n"
     ]
    },
    {
     "name": "stdout",
     "output_type": "stream",
     "text": [
      "removing SNL_photo26: ['20200829' '20200830' '20200831' '20200908' '20200915' '20201008'\n",
      " '20201009']\n",
      "8010\n",
      "20200808 (191, 51)\n",
      "20200810 (471, 51)\n",
      "20200812 (390, 51)\n",
      "20200814 (363, 51)\n",
      "20200816 (374, 51)\n",
      "20200818 (217, 51)\n",
      "20200820 (376, 51)\n",
      "20200822 (345, 51)\n",
      "20200824 (524, 51)\n",
      "20200826 (443, 51)\n"
     ]
    },
    {
     "name": "stderr",
     "output_type": "stream",
     "text": [
      "C:\\Users\\francescag\\AppData\\Local\\Temp\\ipykernel_13020\\2066216670.py:44: SettingWithCopyWarning: \n",
      "A value is trying to be set on a copy of a slice from a DataFrame.\n",
      "Try using .loc[row_indexer,col_indexer] = value instead\n",
      "\n",
      "See the caveats in the documentation: https://pandas.pydata.org/pandas-docs/stable/user_guide/indexing.html#returning-a-view-versus-a-copy\n",
      "  contra_data['datetime'] = pd.to_datetime(contra_data['date'], format='%Y%m%d')\n"
     ]
    },
    {
     "name": "stdout",
     "output_type": "stream",
     "text": [
      "Data saved to APE_peak_differences_all_mice.csv\n"
     ]
    },
    {
     "data": {
      "image/png": "[encoded data removed]",
      "text/plain": [
       "<Figure size 720x432 with 1 Axes>"
      ]
     },
     "metadata": {
      "needs_background": "light"
     },
     "output_type": "display_data"
    }
   ],
   "source": [
    "import os\n",
    "import numpy as np\n",
    "import pandas as pd\n",
    "import seaborn as sns\n",
    "import matplotlib.pyplot as plt\n",
    "\n",
    "# Initialize an empty list to store the processed data for all mice\n",
    "all_mice_data = []\n",
    "\n",
    "# Loop through all the mice in the `change_over_time_mice` for the given recording site\n",
    "for mouse in change_over_time_mice[recording_site]:\n",
    "    all_experiments = get_all_experimental_records()\n",
    "    all_experiments = remove_exps_after_manipulations(all_experiments, [mouse])\n",
    "    all_experiments = remove_manipulation_days(all_experiments)\n",
    "    all_experiments = remove_unsuitable_recordings(all_experiments)\n",
    "    experiments_to_process = all_experiments[\n",
    "        (all_experiments['mouse_id'] == mouse) & (all_experiments['recording_site'] == recording_site)]\n",
    "    \n",
    "    last_session = get_session_with_10000th_trial(mouse, experiments_to_process)\n",
    "    dates = experiments_to_process['date'].values\n",
    "    last_session_ind = int(np.where(dates == last_session)[0])\n",
    "\n",
    "    # Initialize an empty list to accumulate session data for the current mouse\n",
    "    all_session_data_list = []\n",
    "\n",
    "    for i, date in enumerate(dates[0: last_session_ind + 1]):\n",
    "        save_out_folder = os.path.join(raw_tracking_path, mouse, date)\n",
    "        movement_param_file = os.path.join(save_out_folder, 'APE_tracking{}_{}.pkl'.format(mouse, date))\n",
    "        \n",
    "        if os.path.isfile(movement_param_file):\n",
    "            session_data = pd.read_pickle(movement_param_file)\n",
    "            session_data['date'] = date\n",
    "            session_data['mouse'] = mouse\n",
    "            print(date, session_data.shape)\n",
    "            all_session_data_list.append(session_data)\n",
    "        else:\n",
    "            print('{} not found'.format(date))\n",
    "\n",
    "    # Concatenate all session data for this mouse\n",
    "    all_session_data = pd.concat(all_session_data_list, ignore_index=True)\n",
    "    contra_data = all_session_data[all_session_data.side == 'contra']\n",
    "\n",
    "    # Convert the 'date' column to datetime format\n",
    "    contra_data['datetime'] = pd.to_datetime(contra_data['date'], format='%Y%m%d')\n",
    "\n",
    "    # Create a new dataframe with unique dates and their differences\n",
    "    unique_dates = contra_data.drop_duplicates(subset='datetime', keep='last').copy()\n",
    "\n",
    "    # Calculate the difference between consecutive unique dates\n",
    "    unique_dates['days_since_last'] = unique_dates['datetime'].diff().dt.days\n",
    "    unique_dates['last_session_date'] = unique_dates['date'].shift(1)\n",
    "\n",
    "    # Merge the calculated differences back into the original dataframe\n",
    "    contra_data = pd.merge(contra_data, unique_dates[['datetime', 'days_since_last', 'last_session_date']], on='datetime', how='left')\n",
    "    contra_data['last_session_date'] = contra_data['last_session_date'].fillna(pd.NaT)\n",
    "\n",
    "    # Fill the first row NaN with 0 or any desired value\n",
    "    contra_data['days_since_last'] = contra_data['days_since_last'].fillna(0).astype(int)\n",
    "\n",
    "    # Compute mean APE peaks for each session (date)\n",
    "    APE_data = contra_data[['date', 'APE peaks', 'days_since_last', 'last_session_date']].copy()\n",
    "    mean_session_APE = APE_data.groupby('date').agg({'APE peaks': 'mean', 'days_since_last': 'mean'}).reset_index()\n",
    "\n",
    "    # Shift the mean APE peak by one session to get the previous session's APE peak\n",
    "    mean_session_APE['previous_APE_peak'] = mean_session_APE['APE peaks'].shift(1)\n",
    "\n",
    "    # Calculate the difference in APE peak between current and previous session\n",
    "    mean_session_APE['APE_peak_difference'] = mean_session_APE['APE peaks'] - mean_session_APE['previous_APE_peak']\n",
    "\n",
    "    # Drop the first row since it has no previous session to compare\n",
    "    mean_session_APE = mean_session_APE.dropna(subset=['APE_peak_difference'])\n",
    "\n",
    "    # Add mouse ID to the data for tracking\n",
    "    mean_session_APE['mouse'] = mouse\n",
    "\n",
    "    # Append the processed data for this mouse to the list\n",
    "    all_mice_data.append(mean_session_APE)\n",
    "\n",
    "# Concatenate data for all mice into a single DataFrame\n",
    "all_mice_data_df = pd.concat(all_mice_data, ignore_index=True)\n"
   ]
  },
  {
   "cell_type": "code",
   "execution_count": 67,
   "id": "adbd4d9f",
   "metadata": {},
   "outputs": [
    {
     "data": {
      "text/plain": [
       "<Figure size 720x432 with 0 Axes>"
      ]
     },
     "metadata": {},
     "output_type": "display_data"
    },
    {
     "data": {
      "image/png": "[encoded data removed]",
      "text/plain": [
       "<Figure size 360x360 with 1 Axes>"
      ]
     },
     "metadata": {
      "needs_background": "light"
     },
     "output_type": "display_data"
    }
   ],
   "source": [
    "\n",
    "# Plot the APE peak difference as a function of days since last session for all mice\n",
    "plt.figure(figsize=(10, 6))\n",
    "sns.lmplot(data=all_mice_data_df, x='days_since_last', y='APE_peak_difference', hue='mouse', legend=False)\n",
    "plt.xlabel('Days Since Last Session')\n",
    "plt.ylabel('APE Peak Difference (Current - Previous)')\n",
    "plt.title('APE Peak Difference as a Function of Days Since Last Session for All Mice')\n",
    "plt.tight_layout()\n",
    "plt.show()\n"
   ]
  },
  {
   "cell_type": "code",
   "execution_count": null,
   "id": "fcf55aea",
   "metadata": {},
   "outputs": [],
   "source": []
  }
 ],
 "metadata": {
  "kernelspec": {
   "display_name": "Python 3 (ipykernel)",
   "language": "python",
   "name": "python3"
  },
  "language_info": {
   "codemirror_mode": {
    "name": "ipython",
    "version": 3
   },
   "file_extension": ".py",
   "mimetype": "text/x-python",
   "name": "python",
   "nbconvert_exporter": "python",
   "pygments_lexer": "ipython3",
   "version": "3.8.13"
  }
 },
 "nbformat": 4,
 "nbformat_minor": 5
}
