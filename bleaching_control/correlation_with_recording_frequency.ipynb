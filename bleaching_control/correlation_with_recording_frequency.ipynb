{
 "cells": [
  {
   "cell_type": "code",
   "execution_count": 37,
   "id": "e9efdbc4",
   "metadata": {},
   "outputs": [],
   "source": [
    "from scipy import stats\n",
    "import os\n",
    "import sys\n",
    "sys.path.append('..')\n",
    "import seaborn as sns\n",
    "from utils.tracking_analysis.tracking_plotting import *\n",
    "from set_global_params import raw_tracking_path, processed_data_path, change_over_time_mice, figure_directory\n",
    "from utils.reaction_time_utils import get_bpod_trial_nums_per_session\n",
    "from utils.post_processing_utils import get_all_experimental_records\n",
    "from utils.post_processing_utils import remove_exps_after_manipulations, remove_unsuitable_recordings, remove_manipulation_days\n",
    "from utils.plotting_visuals import makes_plots_pretty, set_plotting_defaults"
   ]
  },
  {
   "cell_type": "code",
   "execution_count": 8,
   "id": "5ae1adfc",
   "metadata": {},
   "outputs": [],
   "source": [
    "def get_session_with_10000th_trial(mouse, experiments):\n",
    "    dates = experiments[experiments['mouse_id']==mouse]['date'].unique()\n",
    "    session_starts = get_bpod_trial_nums_per_session(mouse, dates)\n",
    "    if session_starts[-1] >= 10000:\n",
    "        last_session_idx = np.where(np.asarray(session_starts) >=10000)[0][0]\n",
    "    else:\n",
    "        last_session_idx = -1\n",
    "    last_session_date = dates[last_session_idx]\n",
    "    return(last_session_date)"
   ]
  },
  {
   "cell_type": "code",
   "execution_count": 49,
   "id": "e3afceea",
   "metadata": {},
   "outputs": [
    {
     "name": "stderr",
     "output_type": "stream",
     "text": [
      "C:\\Users\\francescag\\AppData\\Local\\Temp\\ipykernel_13000\\332107829.py:46: SettingWithCopyWarning: \n",
      "A value is trying to be set on a copy of a slice from a DataFrame.\n",
      "Try using .loc[row_indexer,col_indexer] = value instead\n",
      "\n",
      "See the caveats in the documentation: https://pandas.pydata.org/pandas-docs/stable/user_guide/indexing.html#returning-a-view-versus-a-copy\n",
      "  contra_data['datetime'] = pd.to_datetime(contra_data['date'], format='%Y%m%d')\n",
      "C:\\Users\\francescag\\AppData\\Local\\Continuum\\miniconda3\\envs\\py38\\lib\\site-packages\\numpy\\core\\fromnumeric.py:3438: FutureWarning: In a future version, DataFrame.mean(axis=None) will return a scalar mean over the entire DataFrame. To retain the old behavior, use 'frame.mean(axis=0)' or just 'frame.mean()'\n",
      "  return mean(axis=axis, dtype=dtype, out=out, **kwargs)\n",
      "C:\\Users\\francescag\\AppData\\Local\\Temp\\ipykernel_13000\\332107829.py:46: SettingWithCopyWarning: \n",
      "A value is trying to be set on a copy of a slice from a DataFrame.\n",
      "Try using .loc[row_indexer,col_indexer] = value instead\n",
      "\n",
      "See the caveats in the documentation: https://pandas.pydata.org/pandas-docs/stable/user_guide/indexing.html#returning-a-view-versus-a-copy\n",
      "  contra_data['datetime'] = pd.to_datetime(contra_data['date'], format='%Y%m%d')\n",
      "C:\\Users\\francescag\\AppData\\Local\\Continuum\\miniconda3\\envs\\py38\\lib\\site-packages\\numpy\\core\\fromnumeric.py:3438: FutureWarning: In a future version, DataFrame.mean(axis=None) will return a scalar mean over the entire DataFrame. To retain the old behavior, use 'frame.mean(axis=0)' or just 'frame.mean()'\n",
      "  return mean(axis=axis, dtype=dtype, out=out, **kwargs)\n",
      "C:\\Users\\francescag\\AppData\\Local\\Temp\\ipykernel_13000\\332107829.py:46: SettingWithCopyWarning: \n",
      "A value is trying to be set on a copy of a slice from a DataFrame.\n",
      "Try using .loc[row_indexer,col_indexer] = value instead\n",
      "\n",
      "See the caveats in the documentation: https://pandas.pydata.org/pandas-docs/stable/user_guide/indexing.html#returning-a-view-versus-a-copy\n",
      "  contra_data['datetime'] = pd.to_datetime(contra_data['date'], format='%Y%m%d')\n",
      "C:\\Users\\francescag\\AppData\\Local\\Continuum\\miniconda3\\envs\\py38\\lib\\site-packages\\numpy\\core\\fromnumeric.py:3438: FutureWarning: In a future version, DataFrame.mean(axis=None) will return a scalar mean over the entire DataFrame. To retain the old behavior, use 'frame.mean(axis=0)' or just 'frame.mean()'\n",
      "  return mean(axis=axis, dtype=dtype, out=out, **kwargs)\n"
     ]
    },
    {
     "name": "stdout",
     "output_type": "stream",
     "text": [
      "removing SNL_photo21: ['20200829' '20200830' '20200831' '20200908' '20200915' '20201008'\n",
      " '20201009']\n"
     ]
    },
    {
     "name": "stderr",
     "output_type": "stream",
     "text": [
      "C:\\Users\\francescag\\AppData\\Local\\Temp\\ipykernel_13000\\332107829.py:46: SettingWithCopyWarning: \n",
      "A value is trying to be set on a copy of a slice from a DataFrame.\n",
      "Try using .loc[row_indexer,col_indexer] = value instead\n",
      "\n",
      "See the caveats in the documentation: https://pandas.pydata.org/pandas-docs/stable/user_guide/indexing.html#returning-a-view-versus-a-copy\n",
      "  contra_data['datetime'] = pd.to_datetime(contra_data['date'], format='%Y%m%d')\n",
      "C:\\Users\\francescag\\AppData\\Local\\Continuum\\miniconda3\\envs\\py38\\lib\\site-packages\\numpy\\core\\fromnumeric.py:3438: FutureWarning: In a future version, DataFrame.mean(axis=None) will return a scalar mean over the entire DataFrame. To retain the old behavior, use 'frame.mean(axis=0)' or just 'frame.mean()'\n",
      "  return mean(axis=axis, dtype=dtype, out=out, **kwargs)\n"
     ]
    },
    {
     "name": "stdout",
     "output_type": "stream",
     "text": [
      "removing SNL_photo22: ['20200829' '20200830' '20200831' '20200908' '20200915' '20201008'\n",
      " '20201009']\n"
     ]
    },
    {
     "name": "stderr",
     "output_type": "stream",
     "text": [
      "C:\\Users\\francescag\\AppData\\Local\\Temp\\ipykernel_13000\\332107829.py:46: SettingWithCopyWarning: \n",
      "A value is trying to be set on a copy of a slice from a DataFrame.\n",
      "Try using .loc[row_indexer,col_indexer] = value instead\n",
      "\n",
      "See the caveats in the documentation: https://pandas.pydata.org/pandas-docs/stable/user_guide/indexing.html#returning-a-view-versus-a-copy\n",
      "  contra_data['datetime'] = pd.to_datetime(contra_data['date'], format='%Y%m%d')\n",
      "C:\\Users\\francescag\\AppData\\Local\\Continuum\\miniconda3\\envs\\py38\\lib\\site-packages\\numpy\\core\\fromnumeric.py:3438: FutureWarning: In a future version, DataFrame.mean(axis=None) will return a scalar mean over the entire DataFrame. To retain the old behavior, use 'frame.mean(axis=0)' or just 'frame.mean()'\n",
      "  return mean(axis=axis, dtype=dtype, out=out, **kwargs)\n"
     ]
    },
    {
     "name": "stdout",
     "output_type": "stream",
     "text": [
      "removing SNL_photo26: ['20200829' '20200830' '20200831' '20200908' '20200915' '20201008'\n",
      " '20201009']\n"
     ]
    },
    {
     "name": "stderr",
     "output_type": "stream",
     "text": [
      "C:\\Users\\francescag\\AppData\\Local\\Temp\\ipykernel_13000\\332107829.py:46: SettingWithCopyWarning: \n",
      "A value is trying to be set on a copy of a slice from a DataFrame.\n",
      "Try using .loc[row_indexer,col_indexer] = value instead\n",
      "\n",
      "See the caveats in the documentation: https://pandas.pydata.org/pandas-docs/stable/user_guide/indexing.html#returning-a-view-versus-a-copy\n",
      "  contra_data['datetime'] = pd.to_datetime(contra_data['date'], format='%Y%m%d')\n",
      "C:\\Users\\francescag\\AppData\\Local\\Continuum\\miniconda3\\envs\\py38\\lib\\site-packages\\numpy\\core\\fromnumeric.py:3438: FutureWarning: In a future version, DataFrame.mean(axis=None) will return a scalar mean over the entire DataFrame. To retain the old behavior, use 'frame.mean(axis=0)' or just 'frame.mean()'\n",
      "  return mean(axis=axis, dtype=dtype, out=out, **kwargs)\n"
     ]
    }
   ],
   "source": [
    "import pandas as pd\n",
    "import numpy as np\n",
    "import seaborn as sns\n",
    "import os\n",
    "\n",
    "# Define the recording site\n",
    "recording_site = 'tail'\n",
    "\n",
    "# Initialize an empty DataFrame to accumulate data for all mice\n",
    "all_mice_data = pd.DataFrame()\n",
    "\n",
    "for mouse in change_over_time_mice[recording_site]:\n",
    "    all_experiments = get_all_experimental_records()\n",
    "    all_experiments = remove_exps_after_manipulations(all_experiments, [mouse])\n",
    "    all_experiments = remove_manipulation_days(all_experiments)\n",
    "    all_experiments = remove_unsuitable_recordings(all_experiments)\n",
    "    \n",
    "    # Filter experiments based on mouse ID and recording site\n",
    "    experiments_to_process = all_experiments[\n",
    "        (all_experiments['mouse_id'] == mouse) & (all_experiments['recording_site'] == recording_site)]\n",
    "    last_session = get_session_with_10000th_trial(mouse, experiments_to_process)\n",
    "    dates = experiments_to_process['date'].values\n",
    "    last_session_ind = int(np.where(dates == last_session)[0])\n",
    "    \n",
    "    # Loop through each session date\n",
    "    for i, date in enumerate(dates[0: last_session_ind + 1]):\n",
    "        save_out_folder = os.path.join(raw_tracking_path, mouse, date)\n",
    "        movement_param_file = os.path.join(save_out_folder, f'APE_tracking{mouse}_{date}.pkl')\n",
    "        \n",
    "        if os.path.isfile(movement_param_file):\n",
    "            session_data = pd.read_pickle(movement_param_file)\n",
    "            session_data['date'] = date\n",
    "            session_data['mouse'] = mouse\n",
    "            if i == 0:\n",
    "                all_session_data = session_data\n",
    "            else:\n",
    "                all_session_data = pd.concat([all_session_data, session_data])\n",
    "        else:\n",
    "            print(f'{date} not found')\n",
    "    \n",
    "    # Reset index for combined session data and filter for 'contra' side\n",
    "    all_session_data = all_session_data.reset_index(drop=True)\n",
    "    contra_data = all_session_data[all_session_data.side == 'contra']\n",
    "\n",
    "    # Process 'contra' data to calculate days since last session\n",
    "    contra_data['datetime'] = pd.to_datetime(contra_data['date'], format='%Y%m%d')\n",
    "    unique_dates = contra_data.drop_duplicates(subset='datetime', keep='last').copy()\n",
    "    unique_dates['days_since_last'] = unique_dates['datetime'].diff().dt.days\n",
    "    contra_data = pd.merge(contra_data, unique_dates[['datetime', 'days_since_last']], on='datetime', how='left')\n",
    "    contra_data['days_since_last'] = contra_data['days_since_last'].fillna(0).astype(int)\n",
    "\n",
    "    # Extract required columns for plotting and add the mouse column\n",
    "    APE_data = contra_data[['days_since_last', 'APE peaks', 'date']].copy()\n",
    "    mean_session_APE = APE_data.groupby('date')[['days_since_last', 'APE peaks']].apply(np.mean).reset_index()\n",
    "    mean_session_APE['mouse'] = mouse  # Keep the mouse name\n",
    "\n",
    "    # Append to the cumulative DataFrame for all mice\n",
    "    all_mice_data = pd.concat([all_mice_data, mean_session_APE])"
   ]
  },
  {
   "cell_type": "code",
   "execution_count": 52,
   "id": "3c3a6337",
   "metadata": {},
   "outputs": [],
   "source": [
    "all_mice_data = all_mice_data[all_mice_data['days_since_last'] != 0]"
   ]
  },
  {
   "cell_type": "code",
   "execution_count": 53,
   "id": "31794919",
   "metadata": {},
   "outputs": [
    {
     "data": {
      "image/png": "[encoded data removed]",
      "text/plain": [
       "<Figure size 216x144 with 1 Axes>"
      ]
     },
     "metadata": {
      "needs_background": "light"
     },
     "output_type": "display_data"
    }
   ],
   "source": [
    "sns.lmplot(\n",
    "    data=all_mice_data,\n",
    "    x='days_since_last',\n",
    "    y='APE peaks',\n",
    "    hue='mouse',\n",
    "    legend=False,\n",
    "    height=2,  # `height` is used instead of `size` in newer Seaborn versions\n",
    "    aspect=1.5,\n",
    "    scatter_kws={'s': 3},\n",
    "    ci=None  # Disable default confidence interval to customize\n",
    ")\n",
    "\n",
    "# Add a custom SEM layer using matplotlib or other tools if needed.\n",
    "plt.xlabel('Days Since Last Session')\n",
    "plt.ylabel('APE Peaks \\n (z-scored fluorescence)')\n",
    "plt.title('APE Peak size as a Function of Days Since \\nLast Session for All Mice')\n",
    "plt.tight_layout()\n",
    "\n",
    "plt.savefig(os.path.join(figure_directory, 'APE_peaks_as_function_of_recording_frequency.pdf'))\n",
    "plt.show()"
   ]
  },
  {
   "cell_type": "code",
   "execution_count": 59,
   "id": "c57d6900",
   "metadata": {},
   "outputs": [
    {
     "name": "stdout",
     "output_type": "stream",
     "text": [
      "[False False False False False False False False  True  True  True]\n",
      "20200210 (301, 50)\n",
      "20200213 (281, 50)\n",
      "20200218 (282, 50)\n",
      "20200220 (367, 50)\n",
      "20200224 (286, 50)\n",
      "20200227 (266, 50)\n",
      "20200303 (303, 50)\n",
      "20200305 (291, 50)\n",
      "20200307 (292, 50)\n"
     ]
    },
    {
     "name": "stderr",
     "output_type": "stream",
     "text": [
      "C:\\Users\\francescag\\AppData\\Local\\Temp\\ipykernel_13020\\3120956931.py:32: SettingWithCopyWarning: \n",
      "A value is trying to be set on a copy of a slice from a DataFrame.\n",
      "Try using .loc[row_indexer,col_indexer] = value instead\n",
      "\n",
      "See the caveats in the documentation: https://pandas.pydata.org/pandas-docs/stable/user_guide/indexing.html#returning-a-view-versus-a-copy\n",
      "  contra_data['datetime'] = pd.to_datetime(contra_data['date'], format='%Y%m%d')\n",
      "C:\\Users\\francescag\\AppData\\Local\\Continuum\\miniconda3\\envs\\py38\\lib\\site-packages\\numpy\\core\\fromnumeric.py:3438: FutureWarning: In a future version, DataFrame.mean(axis=None) will return a scalar mean over the entire DataFrame. To retain the old behavior, use 'frame.mean(axis=0)' or just 'frame.mean()'\n",
      "  return mean(axis=axis, dtype=dtype, out=out, **kwargs)\n"
     ]
    },
    {
     "name": "stdout",
     "output_type": "stream",
     "text": [
      "[False False False False False False False False False False False False\n",
      " False False  True]\n",
      "20200204 (145, 50)\n",
      "20200206 (208, 50)\n",
      "20200208 (439, 50)\n",
      "20200210 (246, 50)\n",
      "20200212 (222, 50)\n",
      "20200214 (265, 50)\n",
      "20200218 (358, 50)\n",
      "20200221 (289, 50)\n",
      "20200224 (238, 50)\n",
      "20200226 (267, 50)\n",
      "20200228 (251, 50)\n",
      "20200303 (298, 50)\n",
      "20200305 (279, 50)\n",
      "20200307 (304, 50)\n",
      "20200310 (278, 50)\n"
     ]
    },
    {
     "name": "stderr",
     "output_type": "stream",
     "text": [
      "C:\\Users\\francescag\\AppData\\Local\\Temp\\ipykernel_13020\\3120956931.py:32: SettingWithCopyWarning: \n",
      "A value is trying to be set on a copy of a slice from a DataFrame.\n",
      "Try using .loc[row_indexer,col_indexer] = value instead\n",
      "\n",
      "See the caveats in the documentation: https://pandas.pydata.org/pandas-docs/stable/user_guide/indexing.html#returning-a-view-versus-a-copy\n",
      "  contra_data['datetime'] = pd.to_datetime(contra_data['date'], format='%Y%m%d')\n",
      "C:\\Users\\francescag\\AppData\\Local\\Continuum\\miniconda3\\envs\\py38\\lib\\site-packages\\numpy\\core\\fromnumeric.py:3438: FutureWarning: In a future version, DataFrame.mean(axis=None) will return a scalar mean over the entire DataFrame. To retain the old behavior, use 'frame.mean(axis=0)' or just 'frame.mean()'\n",
      "  return mean(axis=axis, dtype=dtype, out=out, **kwargs)\n"
     ]
    },
    {
     "name": "stdout",
     "output_type": "stream",
     "text": [
      "8071\n",
      "20200223 (87, 50)\n",
      "20200226 (267, 50)\n",
      "20200228 (273, 50)\n",
      "20200229 (344, 50)\n",
      "20200303 (315, 50)\n",
      "20200305 (293, 50)\n",
      "20200307 (306, 50)\n",
      "20200310 (341, 50)\n",
      "20200312 (245, 50)\n",
      "20200313 (278, 50)\n",
      "20200316 (278, 50)\n"
     ]
    },
    {
     "name": "stderr",
     "output_type": "stream",
     "text": [
      "C:\\Users\\francescag\\AppData\\Local\\Temp\\ipykernel_13020\\3120956931.py:32: SettingWithCopyWarning: \n",
      "A value is trying to be set on a copy of a slice from a DataFrame.\n",
      "Try using .loc[row_indexer,col_indexer] = value instead\n",
      "\n",
      "See the caveats in the documentation: https://pandas.pydata.org/pandas-docs/stable/user_guide/indexing.html#returning-a-view-versus-a-copy\n",
      "  contra_data['datetime'] = pd.to_datetime(contra_data['date'], format='%Y%m%d')\n",
      "C:\\Users\\francescag\\AppData\\Local\\Continuum\\miniconda3\\envs\\py38\\lib\\site-packages\\numpy\\core\\fromnumeric.py:3438: FutureWarning: In a future version, DataFrame.mean(axis=None) will return a scalar mean over the entire DataFrame. To retain the old behavior, use 'frame.mean(axis=0)' or just 'frame.mean()'\n",
      "  return mean(axis=axis, dtype=dtype, out=out, **kwargs)\n"
     ]
    },
    {
     "name": "stdout",
     "output_type": "stream",
     "text": [
      "removing SNL_photo21: ['20200829' '20200830' '20200831' '20200908' '20200915' '20201008'\n",
      " '20201009']\n",
      "7929\n",
      "20200806 (208, 50)\n",
      "20200808 (355, 50)\n",
      "20200810 (355, 50)\n",
      "20200812 (359, 50)\n",
      "20200814 (284, 50)\n",
      "20200816 (306, 50)\n",
      "20200818 (212, 50)\n",
      "20200820 (232, 50)\n",
      "20200822 (263, 50)\n",
      "20200824 (293, 50)\n"
     ]
    },
    {
     "name": "stderr",
     "output_type": "stream",
     "text": [
      "C:\\Users\\francescag\\AppData\\Local\\Temp\\ipykernel_13020\\3120956931.py:32: SettingWithCopyWarning: \n",
      "A value is trying to be set on a copy of a slice from a DataFrame.\n",
      "Try using .loc[row_indexer,col_indexer] = value instead\n",
      "\n",
      "See the caveats in the documentation: https://pandas.pydata.org/pandas-docs/stable/user_guide/indexing.html#returning-a-view-versus-a-copy\n",
      "  contra_data['datetime'] = pd.to_datetime(contra_data['date'], format='%Y%m%d')\n",
      "C:\\Users\\francescag\\AppData\\Local\\Continuum\\miniconda3\\envs\\py38\\lib\\site-packages\\numpy\\core\\fromnumeric.py:3438: FutureWarning: In a future version, DataFrame.mean(axis=None) will return a scalar mean over the entire DataFrame. To retain the old behavior, use 'frame.mean(axis=0)' or just 'frame.mean()'\n",
      "  return mean(axis=axis, dtype=dtype, out=out, **kwargs)\n"
     ]
    },
    {
     "name": "stdout",
     "output_type": "stream",
     "text": [
      "removing SNL_photo22: ['20200829' '20200830' '20200831' '20200908' '20200915' '20201008'\n",
      " '20201009']\n",
      "9720\n",
      "20200808 (461, 50)\n",
      "20200810 (314, 50)\n",
      "20200812 (296, 50)\n",
      "20200814 (258, 50)\n",
      "20200816 (333, 50)\n",
      "20200818 (337, 50)\n",
      "20200820 (299, 50)\n",
      "20200822 (187, 50)\n",
      "20200824 (241, 50)\n",
      "20200826 (270, 50)\n"
     ]
    },
    {
     "name": "stderr",
     "output_type": "stream",
     "text": [
      "C:\\Users\\francescag\\AppData\\Local\\Temp\\ipykernel_13020\\3120956931.py:32: SettingWithCopyWarning: \n",
      "A value is trying to be set on a copy of a slice from a DataFrame.\n",
      "Try using .loc[row_indexer,col_indexer] = value instead\n",
      "\n",
      "See the caveats in the documentation: https://pandas.pydata.org/pandas-docs/stable/user_guide/indexing.html#returning-a-view-versus-a-copy\n",
      "  contra_data['datetime'] = pd.to_datetime(contra_data['date'], format='%Y%m%d')\n",
      "C:\\Users\\francescag\\AppData\\Local\\Continuum\\miniconda3\\envs\\py38\\lib\\site-packages\\numpy\\core\\fromnumeric.py:3438: FutureWarning: In a future version, DataFrame.mean(axis=None) will return a scalar mean over the entire DataFrame. To retain the old behavior, use 'frame.mean(axis=0)' or just 'frame.mean()'\n",
      "  return mean(axis=axis, dtype=dtype, out=out, **kwargs)\n"
     ]
    },
    {
     "name": "stdout",
     "output_type": "stream",
     "text": [
      "removing SNL_photo26: ['20200829' '20200830' '20200831' '20200908' '20200915' '20201008'\n",
      " '20201009']\n",
      "8010\n",
      "20200808 (191, 50)\n",
      "20200810 (471, 50)\n",
      "20200812 (390, 50)\n",
      "20200814 (363, 50)\n",
      "20200816 (374, 50)\n",
      "20200818 (217, 50)\n",
      "20200820 (376, 50)\n",
      "20200822 (345, 50)\n",
      "20200824 (524, 50)\n",
      "20200826 (443, 50)\n"
     ]
    },
    {
     "name": "stderr",
     "output_type": "stream",
     "text": [
      "C:\\Users\\francescag\\AppData\\Local\\Temp\\ipykernel_13020\\3120956931.py:32: SettingWithCopyWarning: \n",
      "A value is trying to be set on a copy of a slice from a DataFrame.\n",
      "Try using .loc[row_indexer,col_indexer] = value instead\n",
      "\n",
      "See the caveats in the documentation: https://pandas.pydata.org/pandas-docs/stable/user_guide/indexing.html#returning-a-view-versus-a-copy\n",
      "  contra_data['datetime'] = pd.to_datetime(contra_data['date'], format='%Y%m%d')\n",
      "C:\\Users\\francescag\\AppData\\Local\\Continuum\\miniconda3\\envs\\py38\\lib\\site-packages\\numpy\\core\\fromnumeric.py:3438: FutureWarning: In a future version, DataFrame.mean(axis=None) will return a scalar mean over the entire DataFrame. To retain the old behavior, use 'frame.mean(axis=0)' or just 'frame.mean()'\n",
      "  return mean(axis=axis, dtype=dtype, out=out, **kwargs)\n"
     ]
    },
    {
     "data": {
      "image/png": "[encoded data removed]",
      "text/plain": [
       "<Figure size 432x288 with 1 Axes>"
      ]
     },
     "metadata": {
      "needs_background": "light"
     },
     "output_type": "display_data"
    }
   ],
   "source": [
    "recording_site = 'tail'\n",
    "for mouse in change_over_time_mice[recording_site]:\n",
    "    all_experiments = get_all_experimental_records()\n",
    "    all_experiments = remove_exps_after_manipulations(all_experiments, [mouse])\n",
    "    all_experiments = remove_manipulation_days(all_experiments)\n",
    "    all_experiments = remove_unsuitable_recordings(all_experiments)\n",
    "    experiments_to_process = all_experiments[\n",
    "        (all_experiments['mouse_id'] == mouse) & (all_experiments['recording_site'] == recording_site)]\n",
    "    last_session = get_session_with_10000th_trial(mouse, experiments_to_process)\n",
    "    dates = experiments_to_process['date'].values\n",
    "    last_session_ind = int(np.where(dates == last_session)[0])\n",
    "    for i, date in enumerate(dates[0: last_session_ind + 1]):\n",
    "        save_out_folder = os.path.join(raw_tracking_path, mouse, date)\n",
    "        movement_param_file = os.path.join(save_out_folder, 'APE_tracking{}_{}.pkl'.format(mouse, date))\n",
    "        if os.path.isfile(movement_param_file):\n",
    "            session_data = pd.read_pickle(movement_param_file)\n",
    "            session_data['date'] = date\n",
    "            session_data.mouse = mouse\n",
    "            print(date, session_data.shape)\n",
    "            if i == 0:\n",
    "                all_session_data = session_data\n",
    "            else:\n",
    "                all_session_data = pd.concat([all_session_data, session_data])\n",
    "        else:\n",
    "            print('{} not found'.format(date))\n",
    "    all_session_data = all_session_data.reset_index(drop=True)\n",
    "    contra_data = all_session_data[all_session_data.side == 'contra']\n",
    "\n",
    "\n",
    "    # Assuming contra_data is already defined\n",
    "    # Convert the 'date' column to datetime format\n",
    "    contra_data['datetime'] = pd.to_datetime(contra_data['date'], format='%Y%m%d')\n",
    "\n",
    "    # Create a new dataframe with unique dates and their differences\n",
    "    unique_dates = contra_data.drop_duplicates(subset='datetime', keep='last').copy()\n",
    "\n",
    "    # Calculate the difference between consecutive unique dates\n",
    "    unique_dates['days_since_last'] = unique_dates['datetime'].diff().dt.days\n",
    "\n",
    "    # Merge the calculated differences back into the original dataframe\n",
    "    contra_data = pd.merge(contra_data, unique_dates[['datetime', 'days_since_last']], on='datetime', how='left')\n",
    "\n",
    "    # Fill the first row NaN with 0 or any desired value\n",
    "    contra_data['days_since_last'] = contra_data['days_since_last'].fillna(0).astype(int)\n",
    "    APE_data = contra_data[['days_since_last', 'APE peaks', 'date']].copy()\n",
    "    mean_session_APE = APE_data.groupby('date')[['days_since_last', 'APE peaks']].apply(np.mean)\n",
    "    sns.regplot(data=mean_session_APE,x='days_since_last', y='APE peaks' )"
   ]
  },
  {
   "cell_type": "code",
   "execution_count": 41,
   "id": "a0af76e6",
   "metadata": {},
   "outputs": [
    {
     "name": "stdout",
     "output_type": "stream",
     "text": [
      "20200210 (301, 51)\n",
      "20200213 (281, 51)\n",
      "20200218 (282, 51)\n",
      "20200220 (367, 51)\n",
      "20200224 (286, 51)\n",
      "20200227 (266, 51)\n",
      "20200303 (303, 51)\n",
      "20200305 (291, 51)\n",
      "20200307 (292, 51)\n"
     ]
    },
    {
     "name": "stderr",
     "output_type": "stream",
     "text": [
      "C:\\Users\\francescag\\AppData\\Local\\Temp\\ipykernel_13000\\597396888.py:44: SettingWithCopyWarning: \n",
      "A value is trying to be set on a copy of a slice from a DataFrame.\n",
      "Try using .loc[row_indexer,col_indexer] = value instead\n",
      "\n",
      "See the caveats in the documentation: https://pandas.pydata.org/pandas-docs/stable/user_guide/indexing.html#returning-a-view-versus-a-copy\n",
      "  contra_data['datetime'] = pd.to_datetime(contra_data['date'], format='%Y%m%d')\n"
     ]
    },
    {
     "name": "stdout",
     "output_type": "stream",
     "text": [
      "20200204 (145, 51)\n",
      "20200206 (208, 51)\n",
      "20200208 (439, 51)\n",
      "20200210 (246, 51)\n",
      "20200212 (222, 51)\n",
      "20200214 (265, 51)\n",
      "20200218 (358, 51)\n",
      "20200221 (289, 51)\n",
      "20200224 (238, 51)\n",
      "20200226 (267, 51)\n",
      "20200228 (251, 51)\n",
      "20200303 (298, 51)\n",
      "20200305 (279, 51)\n",
      "20200307 (304, 51)\n",
      "20200310 (278, 51)\n"
     ]
    },
    {
     "name": "stderr",
     "output_type": "stream",
     "text": [
      "C:\\Users\\francescag\\AppData\\Local\\Temp\\ipykernel_13000\\597396888.py:44: SettingWithCopyWarning: \n",
      "A value is trying to be set on a copy of a slice from a DataFrame.\n",
      "Try using .loc[row_indexer,col_indexer] = value instead\n",
      "\n",
      "See the caveats in the documentation: https://pandas.pydata.org/pandas-docs/stable/user_guide/indexing.html#returning-a-view-versus-a-copy\n",
      "  contra_data['datetime'] = pd.to_datetime(contra_data['date'], format='%Y%m%d')\n"
     ]
    },
    {
     "name": "stdout",
     "output_type": "stream",
     "text": [
      "20200223 (87, 51)\n",
      "20200226 (267, 51)\n",
      "20200228 (273, 51)\n",
      "20200229 (344, 51)\n",
      "20200303 (315, 51)\n",
      "20200305 (293, 51)\n",
      "20200307 (306, 51)\n",
      "20200310 (341, 51)\n",
      "20200312 (245, 51)\n",
      "20200313 (278, 51)\n",
      "20200316 (278, 51)\n"
     ]
    },
    {
     "name": "stderr",
     "output_type": "stream",
     "text": [
      "C:\\Users\\francescag\\AppData\\Local\\Temp\\ipykernel_13000\\597396888.py:44: SettingWithCopyWarning: \n",
      "A value is trying to be set on a copy of a slice from a DataFrame.\n",
      "Try using .loc[row_indexer,col_indexer] = value instead\n",
      "\n",
      "See the caveats in the documentation: https://pandas.pydata.org/pandas-docs/stable/user_guide/indexing.html#returning-a-view-versus-a-copy\n",
      "  contra_data['datetime'] = pd.to_datetime(contra_data['date'], format='%Y%m%d')\n"
     ]
    },
    {
     "name": "stdout",
     "output_type": "stream",
     "text": [
      "removing SNL_photo21: ['20200829' '20200830' '20200831' '20200908' '20200915' '20201008'\n",
      " '20201009']\n",
      "20200806 (208, 51)\n",
      "20200808 (355, 51)\n",
      "20200810 (355, 51)\n",
      "20200812 (359, 51)\n",
      "20200814 (284, 51)\n",
      "20200816 (306, 51)\n",
      "20200818 (212, 51)\n",
      "20200820 (232, 51)\n",
      "20200822 (263, 51)\n",
      "20200824 (293, 51)\n"
     ]
    },
    {
     "name": "stderr",
     "output_type": "stream",
     "text": [
      "C:\\Users\\francescag\\AppData\\Local\\Temp\\ipykernel_13000\\597396888.py:44: SettingWithCopyWarning: \n",
      "A value is trying to be set on a copy of a slice from a DataFrame.\n",
      "Try using .loc[row_indexer,col_indexer] = value instead\n",
      "\n",
      "See the caveats in the documentation: https://pandas.pydata.org/pandas-docs/stable/user_guide/indexing.html#returning-a-view-versus-a-copy\n",
      "  contra_data['datetime'] = pd.to_datetime(contra_data['date'], format='%Y%m%d')\n"
     ]
    },
    {
     "name": "stdout",
     "output_type": "stream",
     "text": [
      "removing SNL_photo22: ['20200829' '20200830' '20200831' '20200908' '20200915' '20201008'\n",
      " '20201009']\n",
      "20200808 (461, 51)\n",
      "20200810 (314, 51)\n",
      "20200812 (296, 51)\n",
      "20200814 (258, 51)\n",
      "20200816 (333, 51)\n",
      "20200818 (337, 51)\n",
      "20200820 (299, 51)\n",
      "20200822 (187, 51)\n",
      "20200824 (241, 51)\n",
      "20200826 (270, 51)\n"
     ]
    },
    {
     "name": "stderr",
     "output_type": "stream",
     "text": [
      "C:\\Users\\francescag\\AppData\\Local\\Temp\\ipykernel_13000\\597396888.py:44: SettingWithCopyWarning: \n",
      "A value is trying to be set on a copy of a slice from a DataFrame.\n",
      "Try using .loc[row_indexer,col_indexer] = value instead\n",
      "\n",
      "See the caveats in the documentation: https://pandas.pydata.org/pandas-docs/stable/user_guide/indexing.html#returning-a-view-versus-a-copy\n",
      "  contra_data['datetime'] = pd.to_datetime(contra_data['date'], format='%Y%m%d')\n"
     ]
    },
    {
     "name": "stdout",
     "output_type": "stream",
     "text": [
      "removing SNL_photo26: ['20200829' '20200830' '20200831' '20200908' '20200915' '20201008'\n",
      " '20201009']\n",
      "20200808 (191, 51)\n",
      "20200810 (471, 51)\n",
      "20200812 (390, 51)\n",
      "20200814 (363, 51)\n",
      "20200816 (374, 51)\n",
      "20200818 (217, 51)\n",
      "20200820 (376, 51)\n",
      "20200822 (345, 51)\n",
      "20200824 (524, 51)\n",
      "20200826 (443, 51)\n"
     ]
    },
    {
     "name": "stderr",
     "output_type": "stream",
     "text": [
      "C:\\Users\\francescag\\AppData\\Local\\Temp\\ipykernel_13000\\597396888.py:44: SettingWithCopyWarning: \n",
      "A value is trying to be set on a copy of a slice from a DataFrame.\n",
      "Try using .loc[row_indexer,col_indexer] = value instead\n",
      "\n",
      "See the caveats in the documentation: https://pandas.pydata.org/pandas-docs/stable/user_guide/indexing.html#returning-a-view-versus-a-copy\n",
      "  contra_data['datetime'] = pd.to_datetime(contra_data['date'], format='%Y%m%d')\n"
     ]
    }
   ],
   "source": [
    "import os\n",
    "import numpy as np\n",
    "import pandas as pd\n",
    "import seaborn as sns\n",
    "import matplotlib.pyplot as plt\n",
    "\n",
    "# Initialize an empty list to store the processed data for all mice\n",
    "all_mice_data = []\n",
    "\n",
    "# Loop through all the mice in the `change_over_time_mice` for the given recording site\n",
    "for mouse in change_over_time_mice[recording_site]:\n",
    "    all_experiments = get_all_experimental_records()\n",
    "    all_experiments = remove_exps_after_manipulations(all_experiments, [mouse])\n",
    "    all_experiments = remove_manipulation_days(all_experiments)\n",
    "    all_experiments = remove_unsuitable_recordings(all_experiments)\n",
    "    experiments_to_process = all_experiments[\n",
    "        (all_experiments['mouse_id'] == mouse) & (all_experiments['recording_site'] == recording_site)]\n",
    "    \n",
    "    last_session = get_session_with_10000th_trial(mouse, experiments_to_process)\n",
    "    dates = experiments_to_process['date'].values\n",
    "    last_session_ind = int(np.where(dates == last_session)[0])\n",
    "\n",
    "    # Initialize an empty list to accumulate session data for the current mouse\n",
    "    all_session_data_list = []\n",
    "\n",
    "    for i, date in enumerate(dates[0: last_session_ind + 1]):\n",
    "        save_out_folder = os.path.join(raw_tracking_path, mouse, date)\n",
    "        movement_param_file = os.path.join(save_out_folder, 'APE_tracking{}_{}.pkl'.format(mouse, date))\n",
    "        \n",
    "        if os.path.isfile(movement_param_file):\n",
    "            session_data = pd.read_pickle(movement_param_file)\n",
    "            session_data['date'] = date\n",
    "            session_data['mouse'] = mouse\n",
    "            print(date, session_data.shape)\n",
    "            all_session_data_list.append(session_data)\n",
    "        else:\n",
    "            print('{} not found'.format(date))\n",
    "\n",
    "    # Concatenate all session data for this mouse\n",
    "    all_session_data = pd.concat(all_session_data_list, ignore_index=True)\n",
    "    contra_data = all_session_data[all_session_data.side == 'contra']\n",
    "\n",
    "    # Convert the 'date' column to datetime format\n",
    "    contra_data['datetime'] = pd.to_datetime(contra_data['date'], format='%Y%m%d')\n",
    "\n",
    "    # Create a new dataframe with unique dates and their differences\n",
    "    unique_dates = contra_data.drop_duplicates(subset='datetime', keep='last').copy()\n",
    "\n",
    "    # Calculate the difference between consecutive unique dates\n",
    "    unique_dates['days_since_last'] = unique_dates['datetime'].diff().dt.days\n",
    "    unique_dates['last_session_date'] = unique_dates['date'].shift(1)\n",
    "\n",
    "    # Merge the calculated differences back into the original dataframe\n",
    "    contra_data = pd.merge(contra_data, unique_dates[['datetime', 'days_since_last', 'last_session_date']], on='datetime', how='left')\n",
    "    contra_data['last_session_date'] = contra_data['last_session_date'].fillna(pd.NaT)\n",
    "\n",
    "    # Fill the first row NaN with 0 or any desired value\n",
    "    contra_data['days_since_last'] = contra_data['days_since_last'].fillna(0).astype(int)\n",
    "\n",
    "    # Compute mean APE peaks for each session (date)\n",
    "    APE_data = contra_data[['date', 'APE peaks', 'days_since_last', 'last_session_date']].copy()\n",
    "    mean_session_APE = APE_data.groupby('date').agg({'APE peaks': 'mean', 'days_since_last': 'mean'}).reset_index()\n",
    "\n",
    "    # Shift the mean APE peak by one session to get the previous session's APE peak\n",
    "    mean_session_APE['previous_APE_peak'] = mean_session_APE['APE peaks'].shift(1)\n",
    "\n",
    "    # Calculate the difference in APE peak between current and previous session\n",
    "    mean_session_APE['APE_peak_difference'] = mean_session_APE['APE peaks'] - mean_session_APE['previous_APE_peak']\n",
    "\n",
    "    # Drop the first row since it has no previous session to compare\n",
    "    mean_session_APE = mean_session_APE.dropna(subset=['APE_peak_difference'])\n",
    "\n",
    "    # Add mouse ID to the data for tracking\n",
    "    mean_session_APE['mouse'] = mouse\n",
    "\n",
    "    # Append the processed data for this mouse to the list\n",
    "    all_mice_data.append(mean_session_APE)\n",
    "\n",
    "# Concatenate data for all mice into a single DataFrame\n",
    "all_mice_data_df = pd.concat(all_mice_data, ignore_index=True)\n"
   ]
  },
  {
   "cell_type": "code",
   "execution_count": 48,
   "id": "adbd4d9f",
   "metadata": {},
   "outputs": [
    {
     "data": {
      "image/png": "[encoded data removed]",
      "text/plain": [
       "<Figure size 216x144 with 1 Axes>"
      ]
     },
     "metadata": {
      "needs_background": "light"
     },
     "output_type": "display_data"
    }
   ],
   "source": [
    "\n",
    "# Plot the APE peak difference as a function of days since last session for all mice\n",
    "set_plotting_defaults()\n",
    "sns.lmplot(\n",
    "    data=all_mice_data_df,\n",
    "    x='days_since_last',\n",
    "    y='APE_peak_difference',\n",
    "    hue='mouse',\n",
    "    legend=False,\n",
    "    height=2,  # `height` is used instead of `size` in newer Seaborn versions\n",
    "    aspect=1.5,\n",
    "    scatter_kws={'s': 3},\n",
    "    ci=None  # Disable default confidence interval to customize\n",
    ")\n",
    "\n",
    "\n",
    "plt.xlabel('Days Since Last Session')\n",
    "plt.ylabel('APE Peak Difference \\n(Current - Previous)')\n",
    "plt.title('APE Peak Difference as a Function of Days \\nSince Last Session for All Mice')\n",
    "plt.tight_layout()\n",
    "plt.savefig(os.path.join(figure_directory, 'APE_difference_dependent_on_recording_frequency.pdf'))\n",
    "plt.show()\n"
   ]
  },
  {
   "cell_type": "code",
   "execution_count": null,
   "id": "fcf55aea",
   "metadata": {},
   "outputs": [],
   "source": []
  }
 ],
 "metadata": {
  "kernelspec": {
   "display_name": "Python 3 (ipykernel)",
   "language": "python",
   "name": "python3"
  },
  "language_info": {
   "codemirror_mode": {
    "name": "ipython",
    "version": 3
   },
   "file_extension": ".py",
   "mimetype": "text/x-python",
   "name": "python",
   "nbconvert_exporter": "python",
   "pygments_lexer": "ipython3",
   "version": "3.8.13"
  }
 },
 "nbformat": 4,
 "nbformat_minor": 5
}
