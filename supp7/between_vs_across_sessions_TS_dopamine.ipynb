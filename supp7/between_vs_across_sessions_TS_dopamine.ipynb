{
 "cells": [
  {
   "cell_type": "markdown",
   "metadata": {},
   "source": [
    "This notebook tests whether the APE signal resumes where is left off the day before (or lower)"
   ]
  },
  {
   "cell_type": "code",
   "execution_count": 1,
   "metadata": {},
   "outputs": [],
   "source": [
    "import sys\n",
    "sys.path.append('..')\n",
    "import os\n",
    "import numpy as np\n",
    "import pandas as pd\n",
    "from scipy.stats import ttest_ind, ttest_rel, ttest_1samp\n",
    "import matplotlib\n",
    "import matplotlib.pyplot as plt\n",
    "import seaborn as sns\n",
    "from set_global_params import processed_data_path, change_over_time_mice\n",
    "from utils.stats import cohen_d_one_sample"
   ]
  },
  {
   "cell_type": "code",
   "execution_count": 2,
   "metadata": {},
   "outputs": [],
   "source": [
    "# load all APE contra values\n",
    "# requires supp6/movement_vs_trial_num_regression/get_regression_slopes_for_turn_angle_speed_trial_number_vs_APE.py\n",
    "# currently need python 3.6 to read pickles \n",
    "mice = change_over_time_mice['tail']\n",
    "for i, mouse in enumerate(mice):\n",
    "    df_save_dir = r'{}{}\\turn_angle_over_time'.format(processed_data_path,mouse)\n",
    "    df_save_file = os.path.join(df_save_dir, 'movement_params_all_trials_vs_APE_{}.pkl'.format(mouse))\n",
    "    valid_contra_data = pd.read_pickle(df_save_file)\n",
    "    sorted_data = valid_contra_data.sort_values(by='actual trial numbers').reset_index(drop=True)\n",
    "    sessions = sorted_data.date.unique()\n",
    "    for ii, session in enumerate(sessions):\n",
    "        session_data = sorted_data[sorted_data.date == session]\n",
    "        first_trials = session_data.iloc[0:40]['APE peaks'].mean()\n",
    "        last_trials = session_data.iloc[-41:-1]['APE peaks'].mean()\n",
    "        if ii == 0:\n",
    "            beginning_and_end_all_sessions = pd.DataFrame({'mouse': [mouse], 'date': [session], 'recording number': [ii], 'first trial': [first_trials],\n",
    "                                                          'last trial': [last_trials]})\n",
    "        else:\n",
    "            beginning_and_end = pd.DataFrame({'mouse': [mouse], 'date': [session], 'recording number': [ii], 'first trial': [first_trials],\n",
    "                                                          'last trial': [last_trials]})\n",
    "            beginning_and_end_all_sessions = pd.concat([beginning_and_end_all_sessions, beginning_and_end])\n",
    "    beginning_and_end_all_sessions['end of last session'] = beginning_and_end_all_sessions['last trial'].shift(1)\n",
    "    beginning_and_end_all_sessions['within \\n session'] = beginning_and_end_all_sessions['last trial'] - beginning_and_end_all_sessions['first trial'] \n",
    "    beginning_and_end_all_sessions['between \\n sessions'] = beginning_and_end_all_sessions['first trial'] - beginning_and_end_all_sessions['end of last session'] \n",
    "    \n",
    "    df_for_test = beginning_and_end_all_sessions\n",
    "    #print(ttest_rel(df_for_test['first trial'], df_for_test['end of last session']))\n",
    "    if i == 0: \n",
    "        df_for_test_all_mice =  df_for_test\n",
    "    else: \n",
    "        df_for_test_all_mice = pd.concat([df_for_test_all_mice, df_for_test])"
   ]
  },
  {
   "cell_type": "code",
   "execution_count": 3,
   "metadata": {},
   "outputs": [
    {
     "data": {
      "text/html": [
       "<div>\n",
       "<style scoped>\n",
       "    .dataframe tbody tr th:only-of-type {\n",
       "        vertical-align: middle;\n",
       "    }\n",
       "\n",
       "    .dataframe tbody tr th {\n",
       "        vertical-align: top;\n",
       "    }\n",
       "\n",
       "    .dataframe thead th {\n",
       "        text-align: right;\n",
       "    }\n",
       "</style>\n",
       "<table border=\"1\" class=\"dataframe\">\n",
       "  <thead>\n",
       "    <tr style=\"text-align: right;\">\n",
       "      <th></th>\n",
       "      <th>mouse</th>\n",
       "      <th>date</th>\n",
       "      <th>recording number</th>\n",
       "      <th>first trial</th>\n",
       "      <th>last trial</th>\n",
       "      <th>end of last session</th>\n",
       "      <th>within \\n session</th>\n",
       "      <th>between \\n sessions</th>\n",
       "    </tr>\n",
       "  </thead>\n",
       "  <tbody>\n",
       "    <tr>\n",
       "      <th>0</th>\n",
       "      <td>SNL_photo16</td>\n",
       "      <td>20200210</td>\n",
       "      <td>0</td>\n",
       "      <td>1.569191</td>\n",
       "      <td>1.736021</td>\n",
       "      <td>NaN</td>\n",
       "      <td>0.166830</td>\n",
       "      <td>NaN</td>\n",
       "    </tr>\n",
       "    <tr>\n",
       "      <th>0</th>\n",
       "      <td>SNL_photo16</td>\n",
       "      <td>20200213</td>\n",
       "      <td>1</td>\n",
       "      <td>0.936847</td>\n",
       "      <td>0.933736</td>\n",
       "      <td>1.736021</td>\n",
       "      <td>-0.003111</td>\n",
       "      <td>-0.799174</td>\n",
       "    </tr>\n",
       "    <tr>\n",
       "      <th>0</th>\n",
       "      <td>SNL_photo16</td>\n",
       "      <td>20200218</td>\n",
       "      <td>2</td>\n",
       "      <td>1.527008</td>\n",
       "      <td>1.035059</td>\n",
       "      <td>0.933736</td>\n",
       "      <td>-0.491950</td>\n",
       "      <td>0.593272</td>\n",
       "    </tr>\n",
       "    <tr>\n",
       "      <th>0</th>\n",
       "      <td>SNL_photo16</td>\n",
       "      <td>20200220</td>\n",
       "      <td>3</td>\n",
       "      <td>1.157596</td>\n",
       "      <td>1.243016</td>\n",
       "      <td>1.035059</td>\n",
       "      <td>0.085419</td>\n",
       "      <td>0.122538</td>\n",
       "    </tr>\n",
       "    <tr>\n",
       "      <th>0</th>\n",
       "      <td>SNL_photo16</td>\n",
       "      <td>20200224</td>\n",
       "      <td>4</td>\n",
       "      <td>1.193245</td>\n",
       "      <td>0.817172</td>\n",
       "      <td>1.243016</td>\n",
       "      <td>-0.376073</td>\n",
       "      <td>-0.049771</td>\n",
       "    </tr>\n",
       "    <tr>\n",
       "      <th>...</th>\n",
       "      <td>...</td>\n",
       "      <td>...</td>\n",
       "      <td>...</td>\n",
       "      <td>...</td>\n",
       "      <td>...</td>\n",
       "      <td>...</td>\n",
       "      <td>...</td>\n",
       "      <td>...</td>\n",
       "    </tr>\n",
       "    <tr>\n",
       "      <th>0</th>\n",
       "      <td>SNL_photo26</td>\n",
       "      <td>20200822</td>\n",
       "      <td>7</td>\n",
       "      <td>1.176063</td>\n",
       "      <td>1.034841</td>\n",
       "      <td>0.777643</td>\n",
       "      <td>-0.141222</td>\n",
       "      <td>0.398420</td>\n",
       "    </tr>\n",
       "    <tr>\n",
       "      <th>0</th>\n",
       "      <td>SNL_photo26</td>\n",
       "      <td>20200824</td>\n",
       "      <td>8</td>\n",
       "      <td>1.740940</td>\n",
       "      <td>1.030621</td>\n",
       "      <td>1.034841</td>\n",
       "      <td>-0.710319</td>\n",
       "      <td>0.706099</td>\n",
       "    </tr>\n",
       "    <tr>\n",
       "      <th>0</th>\n",
       "      <td>SNL_photo26</td>\n",
       "      <td>20200826</td>\n",
       "      <td>9</td>\n",
       "      <td>1.889746</td>\n",
       "      <td>1.317329</td>\n",
       "      <td>1.030621</td>\n",
       "      <td>-0.572416</td>\n",
       "      <td>0.859125</td>\n",
       "    </tr>\n",
       "    <tr>\n",
       "      <th>0</th>\n",
       "      <td>SNL_photo26</td>\n",
       "      <td>20200827</td>\n",
       "      <td>10</td>\n",
       "      <td>1.548226</td>\n",
       "      <td>1.405896</td>\n",
       "      <td>1.317329</td>\n",
       "      <td>-0.142330</td>\n",
       "      <td>0.230897</td>\n",
       "    </tr>\n",
       "    <tr>\n",
       "      <th>0</th>\n",
       "      <td>SNL_photo26</td>\n",
       "      <td>20200828</td>\n",
       "      <td>11</td>\n",
       "      <td>1.448962</td>\n",
       "      <td>1.238977</td>\n",
       "      <td>1.405896</td>\n",
       "      <td>-0.209985</td>\n",
       "      <td>0.043066</td>\n",
       "    </tr>\n",
       "  </tbody>\n",
       "</table>\n",
       "<p>70 rows × 8 columns</p>\n",
       "</div>"
      ],
      "text/plain": [
       "          mouse      date  recording number  first trial  last trial  \\\n",
       "0   SNL_photo16  20200210                 0     1.569191    1.736021   \n",
       "0   SNL_photo16  20200213                 1     0.936847    0.933736   \n",
       "0   SNL_photo16  20200218                 2     1.527008    1.035059   \n",
       "0   SNL_photo16  20200220                 3     1.157596    1.243016   \n",
       "0   SNL_photo16  20200224                 4     1.193245    0.817172   \n",
       "..          ...       ...               ...          ...         ...   \n",
       "0   SNL_photo26  20200822                 7     1.176063    1.034841   \n",
       "0   SNL_photo26  20200824                 8     1.740940    1.030621   \n",
       "0   SNL_photo26  20200826                 9     1.889746    1.317329   \n",
       "0   SNL_photo26  20200827                10     1.548226    1.405896   \n",
       "0   SNL_photo26  20200828                11     1.448962    1.238977   \n",
       "\n",
       "    end of last session  within \\n session  between \\n sessions  \n",
       "0                   NaN           0.166830                  NaN  \n",
       "0              1.736021          -0.003111            -0.799174  \n",
       "0              0.933736          -0.491950             0.593272  \n",
       "0              1.035059           0.085419             0.122538  \n",
       "0              1.243016          -0.376073            -0.049771  \n",
       "..                  ...                ...                  ...  \n",
       "0              0.777643          -0.141222             0.398420  \n",
       "0              1.034841          -0.710319             0.706099  \n",
       "0              1.030621          -0.572416             0.859125  \n",
       "0              1.317329          -0.142330             0.230897  \n",
       "0              1.405896          -0.209985             0.043066  \n",
       "\n",
       "[70 rows x 8 columns]"
      ]
     },
     "execution_count": 3,
     "metadata": {},
     "output_type": "execute_result"
    }
   ],
   "source": [
    "df_for_test_all_mice"
   ]
  },
  {
   "cell_type": "code",
   "execution_count": 4,
   "metadata": {},
   "outputs": [
    {
     "name": "stderr",
     "output_type": "stream",
     "text": [
      "C:\\Users\\francescag\\AppData\\Local\\Continuum\\miniconda3\\envs\\dlc_analysis\\lib\\site-packages\\ipykernel_launcher.py:1: FutureWarning: Indexing with multiple keys (implicitly converted to a tuple of keys) will be deprecated, use a list instead.\n",
      "  \"\"\"Entry point for launching an IPython kernel.\n"
     ]
    }
   ],
   "source": [
    "per_mouse_df = df_for_test_all_mice.groupby(['mouse'])['between \\n sessions', 'within \\n session'].apply(np.mean)"
   ]
  },
  {
   "cell_type": "code",
   "execution_count": 5,
   "metadata": {},
   "outputs": [
    {
     "data": {
      "text/plain": [
       "Index(['SNL_photo16', 'SNL_photo17', 'SNL_photo18', 'SNL_photo21',\n",
       "       'SNL_photo22', 'SNL_photo26'],\n",
       "      dtype='object', name='mouse')"
      ]
     },
     "execution_count": 5,
     "metadata": {},
     "output_type": "execute_result"
    }
   ],
   "source": [
    "per_mouse_df.index"
   ]
  },
  {
   "cell_type": "code",
   "execution_count": 28,
   "metadata": {},
   "outputs": [
    {
     "data": {
      "text/plain": [
       "Ttest_1sampResult(statistic=1.254540704349115, pvalue=0.26509545812982227)"
      ]
     },
     "execution_count": 28,
     "metadata": {},
     "output_type": "execute_result"
    }
   ],
   "source": [
    "ttest_1samp(per_mouse_df['between \\n sessions'], 0)"
   ]
  },
  {
   "cell_type": "code",
   "execution_count": 6,
   "metadata": {},
   "outputs": [
    {
     "name": "stdout",
     "output_type": "stream",
     "text": [
      "cohen d:  0.5121640978678568\n"
     ]
    },
    {
     "data": {
      "text/plain": [
       "0.5121640978678568"
      ]
     },
     "execution_count": 6,
     "metadata": {},
     "output_type": "execute_result"
    }
   ],
   "source": [
    "cohen_d_one_sample(per_mouse_df['between \\n sessions'])"
   ]
  },
  {
   "cell_type": "code",
   "execution_count": 29,
   "metadata": {},
   "outputs": [
    {
     "data": {
      "text/plain": [
       "Ttest_1sampResult(statistic=-2.626135766496434, pvalue=0.046750513191381626)"
      ]
     },
     "execution_count": 29,
     "metadata": {},
     "output_type": "execute_result"
    }
   ],
   "source": [
    "ttest_1samp(per_mouse_df['within \\n session'], 0)"
   ]
  },
  {
   "cell_type": "code",
   "execution_count": 7,
   "metadata": {},
   "outputs": [
    {
     "name": "stdout",
     "output_type": "stream",
     "text": [
      "cohen d:  -1.0721154371981758\n"
     ]
    },
    {
     "data": {
      "text/plain": [
       "-1.0721154371981758"
      ]
     },
     "execution_count": 7,
     "metadata": {},
     "output_type": "execute_result"
    }
   ],
   "source": [
    "cohen_d_one_sample(per_mouse_df['within \\n session'])"
   ]
  },
  {
   "cell_type": "code",
   "execution_count": 57,
   "metadata": {},
   "outputs": [],
   "source": [
    "melted_df = pd.melt(per_mouse_df.reset_index(), id_vars=['mouse'], value_vars=['between \\n sessions', 'within \\n session'], value_name='change in z-scored dopamine response', var_name='difference')"
   ]
  },
  {
   "cell_type": "code",
   "execution_count": 60,
   "metadata": {},
   "outputs": [
    {
     "data": {
      "text/plain": [
       "Index(['mouse', 'difference', 'change in z-scored dopamine response'], dtype='object')"
      ]
     },
     "execution_count": 60,
     "metadata": {},
     "output_type": "execute_result"
    }
   ],
   "source": [
    "melted_df.columns"
   ]
  },
  {
   "cell_type": "code",
   "execution_count": 62,
   "metadata": {},
   "outputs": [
    {
     "data": {
      "image/png": "[encoded data removed]",
      "text/plain": [
       "<Figure size 180x180 with 1 Axes>"
      ]
     },
     "metadata": {
      "needs_background": "light"
     },
     "output_type": "display_data"
    }
   ],
   "source": [
    "font = {'size': 8.5, 'family':'sans-serif', 'sans-serif':['Arial']}\n",
    "matplotlib.rc('font', **font)\n",
    "fig, ax = plt.subplots(1,1, figsize=[2.5,2.5])\n",
    "matplotlib.rcParams['pdf.fonttype'] = 42\n",
    "\n",
    "\n",
    "sns.barplot(data=melted_df, x='difference', y='change in z-scored dopamine response', ax=ax, palette='Set1', errwidth=1, alpha=0.4)\n",
    "sns.swarmplot(data=melted_df,x='difference', y='change in z-scored dopamine response', ax=ax, palette='Set1')\n",
    "\n",
    "\n",
    "# Hide the right and top spines\n",
    "ax.spines['right'].set_visible(False)\n",
    "ax.spines['top'].set_visible(False)\n",
    "y = melted_df['change in z-scored dopamine response'].to_numpy().max() + 0.05\n",
    "h = .1\n",
    "ax.text(0, y, 'n.s.', ha='center', fontsize=10)\n",
    "ax.text(1, y, '*', ha='center', fontsize=12)\n",
    "ax.axhline(0, color='gray')\n",
    "plt.tight_layout()"
   ]
  }
 ],
 "metadata": {
  "kernelspec": {
   "display_name": "Python 3",
   "language": "python",
   "name": "python3"
  },
  "language_info": {
   "codemirror_mode": {
    "name": "ipython",
    "version": 3
   },
   "file_extension": ".py",
   "mimetype": "text/x-python",
   "name": "python",
   "nbconvert_exporter": "python",
   "pygments_lexer": "ipython3",
   "version": "3.6.13"
  }
 },
 "nbformat": 4,
 "nbformat_minor": 4
}
