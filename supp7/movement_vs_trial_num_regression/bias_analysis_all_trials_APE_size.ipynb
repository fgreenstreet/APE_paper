{
 "cells": [
  {
   "cell_type": "code",
   "execution_count": 35,
   "metadata": {},
   "outputs": [],
   "source": [
    "from scipy import stats\n",
    "import os\n",
    "import sys\n",
    "sys.path.append('..\\..')\n",
    "import seaborn as sns\n",
    "from utils.tracking_analysis.tracking_plotting import *\n",
    "from set_global_params import raw_tracking_path, processed_data_path\n",
    "from utils.reaction_time_utils import get_bpod_trial_nums_per_session\n",
    "from utils.post_processing_utils import get_all_experimental_records\n",
    "from utils.post_processing_utils import remove_exps_after_manipulations, remove_unsuitable_recordings, remove_manipulation_days\n",
    "from utils.plotting_visuals import makes_plots_pretty\n",
    "from utils.behaviour_utils import CalculateRBiasWindow"
   ]
  },
  {
   "cell_type": "code",
   "execution_count": 2,
   "metadata": {},
   "outputs": [],
   "source": [
    "def get_session_with_10000th_trial(mouse, experiments):\n",
    "    dates = experiments[experiments['mouse_id']==mouse]['date'].unique()\n",
    "    session_starts = get_bpod_trial_nums_per_session(mouse, dates)\n",
    "    if session_starts[-1] >= 10000:\n",
    "        last_session_idx = np.where(np.asarray(session_starts) >=10000)[0][0]\n",
    "        print(np.asarray(session_starts) >=10000)\n",
    "    else:\n",
    "        last_session_idx = -1\n",
    "        print(session_starts[-1])\n",
    "    last_session_date = dates[last_session_idx]\n",
    "    return(last_session_date)"
   ]
  },
  {
   "cell_type": "code",
   "execution_count": 1366,
   "metadata": {
    "scrolled": true
   },
   "outputs": [
    {
     "name": "stdout",
     "output_type": "stream",
     "text": [
      "removing SNL_photo21: ['20200829' '20200830' '20200831' '20200908' '20200915' '20201008'\n",
      " '20201009']\n",
      "7929\n"
     ]
    }
   ],
   "source": [
    "mouse = 'SNL_photo21' #example_mouse_used_in_paper\n",
    "recording_site = 'tail'\n",
    "all_experiments = get_all_experimental_records()\n",
    "all_experiments = remove_exps_after_manipulations(all_experiments, [mouse])\n",
    "all_experiments = remove_manipulation_days(all_experiments)\n",
    "all_experiments = remove_unsuitable_recordings(all_experiments)\n",
    "experiments_to_process = all_experiments[\n",
    "    (all_experiments['mouse_id'] == mouse) & (all_experiments['recording_site'] == recording_site)]\n",
    "last_session = get_session_with_10000th_trial(mouse, experiments_to_process)"
   ]
  },
  {
   "cell_type": "code",
   "execution_count": 1367,
   "metadata": {},
   "outputs": [
    {
     "name": "stdout",
     "output_type": "stream",
     "text": [
      "20200808 (355, 50)\n",
      "20200810 (355, 50)\n",
      "20200812 (359, 50)\n",
      "20200814 (284, 50)\n",
      "20200816 (306, 50)\n",
      "20200818 (212, 50)\n",
      "20200820 (232, 50)\n",
      "20200822 (263, 50)\n"
     ]
    }
   ],
   "source": [
    "dates = experiments_to_process['date'].values\n",
    "last_session_ind = int(np.where(dates == last_session)[0])\n",
    "for i, date in enumerate(dates[1:last_session_ind ]):\n",
    "    save_out_folder = os.path.join(raw_tracking_path, mouse, date)\n",
    "    movement_param_file = os.path.join(save_out_folder, 'APE_tracking{}_{}.pkl'.format(mouse, date))\n",
    "    if os.path.isfile(movement_param_file):\n",
    "        session_data = pd.read_pickle(movement_param_file)\n",
    "        session_data['date'] = date\n",
    "        session_data.mouse = mouse\n",
    "        print(date, session_data.shape)\n",
    "        if i == 0:\n",
    "            all_session_data = session_data\n",
    "        else:\n",
    "            all_session_data = pd.concat([all_session_data, session_data])\n",
    "    else:\n",
    "        print('{} not found'.format(date))\n",
    "all_session_data = all_session_data.reset_index(drop=True)"
   ]
  },
  {
   "cell_type": "code",
   "execution_count": 1368,
   "metadata": {},
   "outputs": [],
   "source": [
    "filtered_df = all_session_data[(all_session_data['side'] == 'contra') & (all_session_data['outcome'] == 1)]\n",
    "contra_trial_type = filtered_df['trial type'].unique()[0]"
   ]
  },
  {
   "cell_type": "code",
   "execution_count": 1369,
   "metadata": {},
   "outputs": [],
   "source": [
    "all_session_data = all_session_data.sort_values('actual trial numbers').reset_index(drop=True)"
   ]
  },
  {
   "cell_type": "code",
   "execution_count": 1370,
   "metadata": {},
   "outputs": [],
   "source": [
    "binary_last_choice = all_session_data['last choice'].replace({'ipsi': 0, 'contra': 1})\n",
    "all_session_data['binary last choice'] = binary_last_choice"
   ]
  },
  {
   "cell_type": "code",
   "execution_count": 1371,
   "metadata": {},
   "outputs": [],
   "source": [
    "contra_trials = all_session_data[(all_session_data['side'] == 'contra') & (all_session_data['outcome'] == 1) & (all_session_data['last trial type'] == contra_trial_type)].dropna()"
   ]
  },
  {
   "cell_type": "code",
   "execution_count": 1372,
   "metadata": {},
   "outputs": [
    {
     "name": "stdout",
     "output_type": "stream",
     "text": [
      "                            OLS Regression Results                            \n",
      "==============================================================================\n",
      "Dep. Variable:              APE peaks   R-squared:                       0.011\n",
      "Model:                            OLS   Adj. R-squared:                  0.009\n",
      "Method:                 Least Squares   F-statistic:                     4.361\n",
      "Date:                Tue, 27 Aug 2024   Prob (F-statistic):             0.0374\n",
      "Time:                        19:22:29   Log-Likelihood:                -490.68\n",
      "No. Observations:                 380   AIC:                             985.4\n",
      "Df Residuals:                     378   BIC:                             993.2\n",
      "Df Model:                           1                                         \n",
      "Covariance Type:            nonrobust                                         \n",
      "======================================================================================\n",
      "                         coef    std err          t      P>|t|      [0.025      0.975]\n",
      "--------------------------------------------------------------------------------------\n",
      "const                  1.5184      0.094     16.141      0.000       1.333       1.703\n",
      "binary last choice    -0.2241      0.107     -2.088      0.037      -0.435      -0.013\n",
      "==============================================================================\n",
      "Omnibus:                        4.011   Durbin-Watson:                   1.726\n",
      "Prob(Omnibus):                  0.135   Jarque-Bera (JB):                4.004\n",
      "Skew:                           0.164   Prob(JB):                        0.135\n",
      "Kurtosis:                       3.380   Cond. No.                         3.94\n",
      "==============================================================================\n",
      "\n",
      "Notes:\n",
      "[1] Standard Errors assume that the covariance matrix of the errors is correctly specified.\n"
     ]
    }
   ],
   "source": [
    "import statsmodels.api as sm\n",
    "df = contra_trials\n",
    "# Define the dependent variable (dopamine response size)\n",
    "y = df['APE peaks']\n",
    "\n",
    "# Define the independent variables\n",
    "X = df[['binary last choice']]\n",
    "\n",
    "# Add a constant to the model (intercept)\n",
    "X = sm.add_constant(X)\n",
    "\n",
    "# Fit the regression model\n",
    "model = sm.OLS(y, X).fit()\n",
    "\n",
    "# Print the regression results\n",
    "print(model.summary())\n"
   ]
  },
  {
   "cell_type": "code",
   "execution_count": 1373,
   "metadata": {
    "scrolled": false
   },
   "outputs": [
    {
     "data": {
      "image/png": "[encoded data removed]",
      "text/plain": [
       "<Figure size 540x360 with 1 Axes>"
      ]
     },
     "metadata": {
      "needs_background": "light"
     },
     "output_type": "display_data"
    }
   ],
   "source": [
    "import matplotlib.pyplot as plt\n",
    "import seaborn as sns\n",
    "\n",
    "# Group data by 'binary last choice' and calculate mean and SEM\n",
    "grouped = df.groupby('binary last choice').agg(\n",
    "    mean_ape_peaks=('APE peaks', 'mean'),\n",
    "    sem_ape_peaks=('APE peaks', lambda x: np.std(x) / np.sqrt(len(x)))\n",
    ").reset_index()\n",
    "\n",
    "# Plot the regression line with lmplot\n",
    "sns.lmplot(x='binary last choice', y='APE peaks', data=df, aspect=1.5, ci=68, palette='viridis',  scatter_kws={'alpha':0.3} )\n",
    "\n",
    "# Overlay error bars using plt.errorbar\n",
    "plt.errorbar(x=grouped['binary last choice'], \n",
    "             y=grouped['mean_ape_peaks'], \n",
    "             yerr=grouped['sem_ape_peaks'], \n",
    "             fmt='o', color='black', capsize=5)\n",
    "\n",
    "plt.title('Interaction Plot of Last Trial Type and Previous Choice on APE Peaks')\n",
    "plt.show()\n",
    "\n"
   ]
  },
  {
   "cell_type": "code",
   "execution_count": 1387,
   "metadata": {},
   "outputs": [
    {
     "name": "stdout",
     "output_type": "stream",
     "text": [
      "                            OLS Regression Results                            \n",
      "==============================================================================\n",
      "Dep. Variable:              APE peaks   R-squared:                       0.011\n",
      "Model:                            OLS   Adj. R-squared:                  0.009\n",
      "Method:                 Least Squares   F-statistic:                     4.361\n",
      "Date:                Tue, 27 Aug 2024   Prob (F-statistic):             0.0374\n",
      "Time:                        19:29:01   Log-Likelihood:                -490.68\n",
      "No. Observations:                 380   AIC:                             985.4\n",
      "Df Residuals:                     378   BIC:                             993.2\n",
      "Df Model:                           1                                         \n",
      "Covariance Type:            nonrobust                                         \n",
      "======================================================================================\n",
      "                         coef    std err          t      P>|t|      [0.025      0.975]\n",
      "--------------------------------------------------------------------------------------\n",
      "const                  1.5184      0.094     16.141      0.000       1.333       1.703\n",
      "binary last choice    -0.2241      0.107     -2.088      0.037      -0.435      -0.013\n",
      "==============================================================================\n",
      "Omnibus:                        4.011   Durbin-Watson:                   1.726\n",
      "Prob(Omnibus):                  0.135   Jarque-Bera (JB):                4.004\n",
      "Skew:                           0.164   Prob(JB):                        0.135\n",
      "Kurtosis:                       3.380   Cond. No.                         3.94\n",
      "==============================================================================\n",
      "\n",
      "Notes:\n",
      "[1] Standard Errors assume that the covariance matrix of the errors is correctly specified.\n"
     ]
    }
   ],
   "source": [
    "import pandas as pd\n",
    "import statsmodels.api as sm\n",
    "df = all_session_data\n",
    "\n",
    "\n",
    "# Step 4: Filter for trials where the current side is 'contra'\n",
    "df['previous stim same'] = df['last trial type'] == df['trial type']\n",
    "df['previous stim same'] = df['previous stim same'].astype(int)\n",
    "df_contra = df[(df['side'] == 'contra') & (df['trial type'] == contra_trial_type)].dropna()\n",
    "\n",
    "# Step 5: Run the regression separately for each trial type and store coefficients\n",
    "coefficients = {}\n",
    "\n",
    "\n",
    "df_trial = df_contra[df_contra['previous stim same'] == 1]\n",
    "# Define predictors and response\n",
    "\n",
    "X = df_trial['binary last choice']\n",
    "X = sm.add_constant(X)  # Add a constant term to the model\n",
    "y = df_trial['APE peaks']\n",
    "    \n",
    "# Fit the regression model\n",
    "model = sm.OLS(y, X).fit()\n",
    "\n",
    "# Print the regression results\n",
    "print(model.summary())\n",
    "\n"
   ]
  },
  {
   "cell_type": "code",
   "execution_count": 1388,
   "metadata": {},
   "outputs": [
    {
     "data": {
      "text/plain": [
       "<seaborn.axisgrid.FacetGrid at 0x21c2c93a0>"
      ]
     },
     "execution_count": 1388,
     "metadata": {},
     "output_type": "execute_result"
    },
    {
     "data": {
      "image/png": "[encoded data removed]",
      "text/plain": [
       "<Figure size 600.25x360 with 1 Axes>"
      ]
     },
     "metadata": {
      "needs_background": "light"
     },
     "output_type": "display_data"
    }
   ],
   "source": [
    "sns.lmplot(x='binary last choice', y='APE peaks', data=df_trial, hue='trial type', aspect=1.5, ci=68, palette='viridis',  scatter_kws={'alpha':0.3} )\n"
   ]
  },
  {
   "cell_type": "code",
   "execution_count": 1385,
   "metadata": {},
   "outputs": [
    {
     "data": {
      "text/plain": [
       "7.0"
      ]
     },
     "execution_count": 1385,
     "metadata": {},
     "output_type": "execute_result"
    }
   ],
   "source": [
    "contra_trial_type"
   ]
  },
  {
   "cell_type": "code",
   "execution_count": 1328,
   "metadata": {},
   "outputs": [
    {
     "name": "stdout",
     "output_type": "stream",
     "text": [
      "                            OLS Regression Results                            \n",
      "==============================================================================\n",
      "Dep. Variable:              APE peaks   R-squared:                       0.002\n",
      "Model:                            OLS   Adj. R-squared:                 -0.000\n",
      "Method:                 Least Squares   F-statistic:                    0.8447\n",
      "Date:                Tue, 27 Aug 2024   Prob (F-statistic):              0.359\n",
      "Time:                        19:07:32   Log-Likelihood:                -459.78\n",
      "No. Observations:                 364   AIC:                             923.6\n",
      "Df Residuals:                     362   BIC:                             931.4\n",
      "Df Model:                           1                                         \n",
      "Covariance Type:            nonrobust                                         \n",
      "==================================================================================\n",
      "                     coef    std err          t      P>|t|      [0.025      0.975]\n",
      "----------------------------------------------------------------------------------\n",
      "const              1.3368      0.134      9.975      0.000       1.073       1.600\n",
      "previous_side1    -0.1308      0.142     -0.919      0.359      -0.411       0.149\n",
      "==============================================================================\n",
      "Omnibus:                        7.875   Durbin-Watson:                   1.734\n",
      "Prob(Omnibus):                  0.020   Jarque-Bera (JB):                8.141\n",
      "Skew:                           0.358   Prob(JB):                       0.0171\n",
      "Kurtosis:                       2.846   Cond. No.                         5.80\n",
      "==============================================================================\n",
      "\n",
      "Notes:\n",
      "[1] Standard Errors assume that the covariance matrix of the errors is correctly specified.\n"
     ]
    }
   ],
   "source": [
    "import pandas as pd\n",
    "import statsmodels.api as sm\n",
    "df = all_session_data[['trial type', 'side', 'APE peaks', 'actual trial numbers']].set_index('actual trial numbers')\n",
    "\n",
    "import pandas as pd\n",
    "import statsmodels.api as sm\n",
    "import matplotlib.pyplot as plt\n",
    "\n",
    "\n",
    "def shift_according_to_index(df, col_to_shift, lag):\n",
    "    # Shift the 'value' column by 1\n",
    "    df['shifted_value'] = df[col_to_shift].shift(lag)\n",
    "\n",
    "    return df['shifted_value'].where(df.index.to_series().diff() == df.index.to_series().diff().shift(-lag))\n",
    "\n",
    "# Assuming your dataframe is named `df`\n",
    "\n",
    "\n",
    "# Step 2: Specify the number of lags you want to create\n",
    "num_lags = 1  # You can change this number to include more or fewer lags\n",
    "\n",
    "# Step 3: Create lagged variables dynamically using a loop\n",
    "for lag in range(1, num_lags + 1):\n",
    "    df[f'previous_stim_same{lag}'] = shift_according_to_index(df, 'trial type', lag) == df['trial type']\n",
    "    df[f'previous_stim_same{lag}'] = df[f'previous_stim_same{lag}'].astype(int)\n",
    "    df[f'previous_side{lag}'] = shift_according_to_index(df, 'side', lag).replace({'ipsi': 0, 'contra': 1})\n",
    "\n",
    "# Step 4: Filter for trials where the current side is 'contra'\n",
    "df_contra = df[(df['side'] == 'contra')].dropna()\n",
    "\n",
    "# Step 5: Run the regression separately for each trial type and store coefficients\n",
    "coefficients = {}\n",
    "\n",
    "\n",
    "df_trial = df_contra[df_contra['previous_stim_same1'] == 1]\n",
    "    \n",
    "# Define predictors and response\n",
    "lagged_columns = [f'previous_side{lag}' for lag in range(1, num_lags + 1)]\n",
    "X = df_trial[lagged_columns]\n",
    "X = sm.add_constant(X)  # Add a constant term to the model\n",
    "y = df_trial['APE peaks']\n",
    "    \n",
    "# Fit the regression model\n",
    "model = sm.OLS(y, X).fit()\n",
    "\n",
    "# Print the regression results\n",
    "print(model.summary())\n",
    "\n"
   ]
  },
  {
   "cell_type": "code",
   "execution_count": null,
   "metadata": {},
   "outputs": [],
   "source": []
  },
  {
   "cell_type": "code",
   "execution_count": 1331,
   "metadata": {},
   "outputs": [
    {
     "data": {
      "text/plain": [
       "Index(['max speed', 'average speed', 'time to max speed', 'speeds',\n",
       "       'max acceleration', 'average acceleration', 'time to max acceleration',\n",
       "       'accelerations', 'APE peaks', 'time to move', 'trial numbers', 'traces',\n",
       "       'head x', 'head y', 'head angles', 'angular velocity',\n",
       "       'max angular velocity', 'time to max angular vel', 'cumsum ang vel',\n",
       "       'max cumsum ang vel', 'time to max cum sum ang vel', 'max initial turn',\n",
       "       'angular acceleration', 'turn slopes', 'turn starts', 'sig x', 'sig y',\n",
       "       'sig mse', 'movement dir', 'distance travelled', 'last 10 x',\n",
       "       'last 10 y', 'fitted max cumsum ang vel', 'area under sigmoid',\n",
       "       'trial type', 'reaction times', 'side', 'choice numeric',\n",
       "       'actual trial numbers', 'last trial type', 'last outcome',\n",
       "       'last choice', 'next trial type', 'next outcome', 'next choice',\n",
       "       'next choice numeric', 'stay or switch', 'outcome', 'APE quantile',\n",
       "       'date', 'binary last choice'],\n",
       "      dtype='object')"
      ]
     },
     "execution_count": 1331,
     "metadata": {},
     "output_type": "execute_result"
    }
   ],
   "source": [
    "df.columns\n"
   ]
  },
  {
   "cell_type": "code",
   "execution_count": 1321,
   "metadata": {},
   "outputs": [
    {
     "data": {
      "text/plain": [
       "<seaborn.axisgrid.FacetGrid at 0x224d10d00>"
      ]
     },
     "execution_count": 1321,
     "metadata": {},
     "output_type": "execute_result"
    },
    {
     "data": {
      "image/png": "[encoded data removed]",
      "text/plain": [
       "<Figure size 540x360 with 1 Axes>"
      ]
     },
     "metadata": {
      "needs_background": "light"
     },
     "output_type": "display_data"
    }
   ],
   "source": [
    "# Plot the regression line with lmplot\n",
    "sns.lmplot(x='previous_side1', y='APE peaks', data=df_trial, aspect=1.5, ci=68, palette='viridis',  scatter_kws={'alpha':0.3} )\n"
   ]
  },
  {
   "cell_type": "code",
   "execution_count": 1314,
   "metadata": {},
   "outputs": [
    {
     "data": {
      "text/plain": [
       "previous_side1    0.493288\n",
       "dtype: float64"
      ]
     },
     "execution_count": 1314,
     "metadata": {},
     "output_type": "execute_result"
    }
   ],
   "source": [
    "results.pvalues[1:]"
   ]
  },
  {
   "cell_type": "code",
   "execution_count": 1298,
   "metadata": {},
   "outputs": [
    {
     "data": {
      "text/html": [
       "<div>\n",
       "<style scoped>\n",
       "    .dataframe tbody tr th:only-of-type {\n",
       "        vertical-align: middle;\n",
       "    }\n",
       "\n",
       "    .dataframe tbody tr th {\n",
       "        vertical-align: top;\n",
       "    }\n",
       "\n",
       "    .dataframe thead th {\n",
       "        text-align: right;\n",
       "    }\n",
       "</style>\n",
       "<table border=\"1\" class=\"dataframe\">\n",
       "  <thead>\n",
       "    <tr style=\"text-align: right;\">\n",
       "      <th></th>\n",
       "      <th>trial type</th>\n",
       "      <th>side</th>\n",
       "      <th>APE peaks</th>\n",
       "      <th>previous_stim_same1</th>\n",
       "      <th>previous_side1</th>\n",
       "    </tr>\n",
       "  </thead>\n",
       "  <tbody>\n",
       "    <tr>\n",
       "      <th>0</th>\n",
       "      <td>1.0</td>\n",
       "      <td>contra</td>\n",
       "      <td>2.109809</td>\n",
       "      <td>0</td>\n",
       "      <td>NaN</td>\n",
       "    </tr>\n",
       "    <tr>\n",
       "      <th>1</th>\n",
       "      <td>7.0</td>\n",
       "      <td>ipsi</td>\n",
       "      <td>1.376390</td>\n",
       "      <td>0</td>\n",
       "      <td>contra</td>\n",
       "    </tr>\n",
       "    <tr>\n",
       "      <th>2</th>\n",
       "      <td>7.0</td>\n",
       "      <td>ipsi</td>\n",
       "      <td>1.286027</td>\n",
       "      <td>1</td>\n",
       "      <td>ipsi</td>\n",
       "    </tr>\n",
       "    <tr>\n",
       "      <th>3</th>\n",
       "      <td>1.0</td>\n",
       "      <td>ipsi</td>\n",
       "      <td>1.049806</td>\n",
       "      <td>0</td>\n",
       "      <td>ipsi</td>\n",
       "    </tr>\n",
       "    <tr>\n",
       "      <th>4</th>\n",
       "      <td>7.0</td>\n",
       "      <td>contra</td>\n",
       "      <td>1.610897</td>\n",
       "      <td>0</td>\n",
       "      <td>ipsi</td>\n",
       "    </tr>\n",
       "    <tr>\n",
       "      <th>...</th>\n",
       "      <td>...</td>\n",
       "      <td>...</td>\n",
       "      <td>...</td>\n",
       "      <td>...</td>\n",
       "      <td>...</td>\n",
       "    </tr>\n",
       "    <tr>\n",
       "      <th>2260</th>\n",
       "      <td>1.0</td>\n",
       "      <td>contra</td>\n",
       "      <td>-0.327791</td>\n",
       "      <td>0</td>\n",
       "      <td>ipsi</td>\n",
       "    </tr>\n",
       "    <tr>\n",
       "      <th>2261</th>\n",
       "      <td>1.0</td>\n",
       "      <td>contra</td>\n",
       "      <td>1.572306</td>\n",
       "      <td>1</td>\n",
       "      <td>contra</td>\n",
       "    </tr>\n",
       "    <tr>\n",
       "      <th>2262</th>\n",
       "      <td>7.0</td>\n",
       "      <td>ipsi</td>\n",
       "      <td>1.186244</td>\n",
       "      <td>0</td>\n",
       "      <td>contra</td>\n",
       "    </tr>\n",
       "    <tr>\n",
       "      <th>2263</th>\n",
       "      <td>1.0</td>\n",
       "      <td>contra</td>\n",
       "      <td>0.847835</td>\n",
       "      <td>0</td>\n",
       "      <td>ipsi</td>\n",
       "    </tr>\n",
       "    <tr>\n",
       "      <th>2264</th>\n",
       "      <td>7.0</td>\n",
       "      <td>contra</td>\n",
       "      <td>0.434677</td>\n",
       "      <td>0</td>\n",
       "      <td>contra</td>\n",
       "    </tr>\n",
       "  </tbody>\n",
       "</table>\n",
       "<p>2265 rows × 5 columns</p>\n",
       "</div>"
      ],
      "text/plain": [
       "      trial type    side  APE peaks  previous_stim_same1 previous_side1\n",
       "0            1.0  contra   2.109809                    0            NaN\n",
       "1            7.0    ipsi   1.376390                    0         contra\n",
       "2            7.0    ipsi   1.286027                    1           ipsi\n",
       "3            1.0    ipsi   1.049806                    0           ipsi\n",
       "4            7.0  contra   1.610897                    0           ipsi\n",
       "...          ...     ...        ...                  ...            ...\n",
       "2260         1.0  contra  -0.327791                    0           ipsi\n",
       "2261         1.0  contra   1.572306                    1         contra\n",
       "2262         7.0    ipsi   1.186244                    0         contra\n",
       "2263         1.0  contra   0.847835                    0           ipsi\n",
       "2264         7.0  contra   0.434677                    0         contra\n",
       "\n",
       "[2265 rows x 5 columns]"
      ]
     },
     "execution_count": 1298,
     "metadata": {},
     "output_type": "execute_result"
    }
   ],
   "source": [
    "df"
   ]
  },
  {
   "cell_type": "code",
   "execution_count": 1290,
   "metadata": {},
   "outputs": [
    {
     "data": {
      "text/plain": [
       "1.0"
      ]
     },
     "execution_count": 1290,
     "metadata": {},
     "output_type": "execute_result"
    }
   ],
   "source": [
    "contra_trial_type"
   ]
  },
  {
   "cell_type": "code",
   "execution_count": 1229,
   "metadata": {},
   "outputs": [
    {
     "data": {
      "text/html": [
       "<div>\n",
       "<style scoped>\n",
       "    .dataframe tbody tr th:only-of-type {\n",
       "        vertical-align: middle;\n",
       "    }\n",
       "\n",
       "    .dataframe tbody tr th {\n",
       "        vertical-align: top;\n",
       "    }\n",
       "\n",
       "    .dataframe thead th {\n",
       "        text-align: right;\n",
       "    }\n",
       "</style>\n",
       "<table border=\"1\" class=\"dataframe\">\n",
       "  <thead>\n",
       "    <tr style=\"text-align: right;\">\n",
       "      <th></th>\n",
       "      <th>const</th>\n",
       "      <th>prev_APE_peaks</th>\n",
       "      <th>trial type</th>\n",
       "      <th>prev_side_ipsi</th>\n",
       "      <th>prev_side_trial_type</th>\n",
       "    </tr>\n",
       "  </thead>\n",
       "  <tbody>\n",
       "    <tr>\n",
       "      <th>1</th>\n",
       "      <td>1.0</td>\n",
       "      <td>1.543621</td>\n",
       "      <td>7.0</td>\n",
       "      <td>0</td>\n",
       "      <td>0.0</td>\n",
       "    </tr>\n",
       "    <tr>\n",
       "      <th>3</th>\n",
       "      <td>1.0</td>\n",
       "      <td>0.316041</td>\n",
       "      <td>1.0</td>\n",
       "      <td>1</td>\n",
       "      <td>1.0</td>\n",
       "    </tr>\n",
       "    <tr>\n",
       "      <th>4</th>\n",
       "      <td>1.0</td>\n",
       "      <td>2.655635</td>\n",
       "      <td>7.0</td>\n",
       "      <td>0</td>\n",
       "      <td>0.0</td>\n",
       "    </tr>\n",
       "    <tr>\n",
       "      <th>6</th>\n",
       "      <td>1.0</td>\n",
       "      <td>0.151094</td>\n",
       "      <td>7.0</td>\n",
       "      <td>1</td>\n",
       "      <td>7.0</td>\n",
       "    </tr>\n",
       "    <tr>\n",
       "      <th>7</th>\n",
       "      <td>1.0</td>\n",
       "      <td>1.026863</td>\n",
       "      <td>1.0</td>\n",
       "      <td>0</td>\n",
       "      <td>0.0</td>\n",
       "    </tr>\n",
       "    <tr>\n",
       "      <th>...</th>\n",
       "      <td>...</td>\n",
       "      <td>...</td>\n",
       "      <td>...</td>\n",
       "      <td>...</td>\n",
       "      <td>...</td>\n",
       "    </tr>\n",
       "    <tr>\n",
       "      <th>3049</th>\n",
       "      <td>1.0</td>\n",
       "      <td>2.547466</td>\n",
       "      <td>1.0</td>\n",
       "      <td>1</td>\n",
       "      <td>1.0</td>\n",
       "    </tr>\n",
       "    <tr>\n",
       "      <th>3050</th>\n",
       "      <td>1.0</td>\n",
       "      <td>0.270133</td>\n",
       "      <td>1.0</td>\n",
       "      <td>0</td>\n",
       "      <td>0.0</td>\n",
       "    </tr>\n",
       "    <tr>\n",
       "      <th>3053</th>\n",
       "      <td>1.0</td>\n",
       "      <td>1.080882</td>\n",
       "      <td>1.0</td>\n",
       "      <td>1</td>\n",
       "      <td>1.0</td>\n",
       "    </tr>\n",
       "    <tr>\n",
       "      <th>3058</th>\n",
       "      <td>1.0</td>\n",
       "      <td>1.084490</td>\n",
       "      <td>1.0</td>\n",
       "      <td>1</td>\n",
       "      <td>1.0</td>\n",
       "    </tr>\n",
       "    <tr>\n",
       "      <th>3059</th>\n",
       "      <td>1.0</td>\n",
       "      <td>1.763486</td>\n",
       "      <td>1.0</td>\n",
       "      <td>0</td>\n",
       "      <td>0.0</td>\n",
       "    </tr>\n",
       "  </tbody>\n",
       "</table>\n",
       "<p>1638 rows × 5 columns</p>\n",
       "</div>"
      ],
      "text/plain": [
       "      const  prev_APE_peaks  trial type  prev_side_ipsi  prev_side_trial_type\n",
       "1       1.0        1.543621         7.0               0                   0.0\n",
       "3       1.0        0.316041         1.0               1                   1.0\n",
       "4       1.0        2.655635         7.0               0                   0.0\n",
       "6       1.0        0.151094         7.0               1                   7.0\n",
       "7       1.0        1.026863         1.0               0                   0.0\n",
       "...     ...             ...         ...             ...                   ...\n",
       "3049    1.0        2.547466         1.0               1                   1.0\n",
       "3050    1.0        0.270133         1.0               0                   0.0\n",
       "3053    1.0        1.080882         1.0               1                   1.0\n",
       "3058    1.0        1.084490         1.0               1                   1.0\n",
       "3059    1.0        1.763486         1.0               0                   0.0\n",
       "\n",
       "[1638 rows x 5 columns]"
      ]
     },
     "execution_count": 1229,
     "metadata": {},
     "output_type": "execute_result"
    }
   ],
   "source": [
    "X"
   ]
  },
  {
   "cell_type": "code",
   "execution_count": 1216,
   "metadata": {},
   "outputs": [
    {
     "data": {
      "text/html": [
       "<div>\n",
       "<style scoped>\n",
       "    .dataframe tbody tr th:only-of-type {\n",
       "        vertical-align: middle;\n",
       "    }\n",
       "\n",
       "    .dataframe tbody tr th {\n",
       "        vertical-align: top;\n",
       "    }\n",
       "\n",
       "    .dataframe thead th {\n",
       "        text-align: right;\n",
       "    }\n",
       "</style>\n",
       "<table border=\"1\" class=\"dataframe\">\n",
       "  <thead>\n",
       "    <tr style=\"text-align: right;\">\n",
       "      <th></th>\n",
       "      <th>trial type</th>\n",
       "      <th>side</th>\n",
       "      <th>APE peaks</th>\n",
       "      <th>prev_choice</th>\n",
       "      <th>prev_APE_peaks</th>\n",
       "    </tr>\n",
       "  </thead>\n",
       "  <tbody>\n",
       "    <tr>\n",
       "      <th>0</th>\n",
       "      <td>7.0</td>\n",
       "      <td>contra</td>\n",
       "      <td>1.543621</td>\n",
       "      <td>NaN</td>\n",
       "      <td>NaN</td>\n",
       "    </tr>\n",
       "    <tr>\n",
       "      <th>1</th>\n",
       "      <td>7.0</td>\n",
       "      <td>contra</td>\n",
       "      <td>3.380248</td>\n",
       "      <td>contra</td>\n",
       "      <td>1.543621</td>\n",
       "    </tr>\n",
       "    <tr>\n",
       "      <th>2</th>\n",
       "      <td>7.0</td>\n",
       "      <td>ipsi</td>\n",
       "      <td>0.316041</td>\n",
       "      <td>contra</td>\n",
       "      <td>3.380248</td>\n",
       "    </tr>\n",
       "    <tr>\n",
       "      <th>3</th>\n",
       "      <td>1.0</td>\n",
       "      <td>contra</td>\n",
       "      <td>2.655635</td>\n",
       "      <td>NaN</td>\n",
       "      <td>NaN</td>\n",
       "    </tr>\n",
       "    <tr>\n",
       "      <th>4</th>\n",
       "      <td>7.0</td>\n",
       "      <td>contra</td>\n",
       "      <td>2.819108</td>\n",
       "      <td>ipsi</td>\n",
       "      <td>0.316041</td>\n",
       "    </tr>\n",
       "    <tr>\n",
       "      <th>...</th>\n",
       "      <td>...</td>\n",
       "      <td>...</td>\n",
       "      <td>...</td>\n",
       "      <td>...</td>\n",
       "      <td>...</td>\n",
       "    </tr>\n",
       "    <tr>\n",
       "      <th>3055</th>\n",
       "      <td>7.0</td>\n",
       "      <td>ipsi</td>\n",
       "      <td>1.226479</td>\n",
       "      <td>ipsi</td>\n",
       "      <td>-0.193226</td>\n",
       "    </tr>\n",
       "    <tr>\n",
       "      <th>3056</th>\n",
       "      <td>7.0</td>\n",
       "      <td>ipsi</td>\n",
       "      <td>0.696415</td>\n",
       "      <td>ipsi</td>\n",
       "      <td>1.226479</td>\n",
       "    </tr>\n",
       "    <tr>\n",
       "      <th>3057</th>\n",
       "      <td>7.0</td>\n",
       "      <td>ipsi</td>\n",
       "      <td>1.084490</td>\n",
       "      <td>ipsi</td>\n",
       "      <td>0.696415</td>\n",
       "    </tr>\n",
       "    <tr>\n",
       "      <th>3058</th>\n",
       "      <td>1.0</td>\n",
       "      <td>contra</td>\n",
       "      <td>1.763486</td>\n",
       "      <td>contra</td>\n",
       "      <td>0.429587</td>\n",
       "    </tr>\n",
       "    <tr>\n",
       "      <th>3059</th>\n",
       "      <td>1.0</td>\n",
       "      <td>contra</td>\n",
       "      <td>0.461190</td>\n",
       "      <td>contra</td>\n",
       "      <td>1.763486</td>\n",
       "    </tr>\n",
       "  </tbody>\n",
       "</table>\n",
       "<p>3060 rows × 5 columns</p>\n",
       "</div>"
      ],
      "text/plain": [
       "      trial type    side  APE peaks prev_choice  prev_APE_peaks\n",
       "0            7.0  contra   1.543621         NaN             NaN\n",
       "1            7.0  contra   3.380248      contra        1.543621\n",
       "2            7.0    ipsi   0.316041      contra        3.380248\n",
       "3            1.0  contra   2.655635         NaN             NaN\n",
       "4            7.0  contra   2.819108        ipsi        0.316041\n",
       "...          ...     ...        ...         ...             ...\n",
       "3055         7.0    ipsi   1.226479        ipsi       -0.193226\n",
       "3056         7.0    ipsi   0.696415        ipsi        1.226479\n",
       "3057         7.0    ipsi   1.084490        ipsi        0.696415\n",
       "3058         1.0  contra   1.763486      contra        0.429587\n",
       "3059         1.0  contra   0.461190      contra        1.763486\n",
       "\n",
       "[3060 rows x 5 columns]"
      ]
     },
     "execution_count": 1216,
     "metadata": {},
     "output_type": "execute_result"
    }
   ],
   "source": [
    "df"
   ]
  },
  {
   "cell_type": "code",
   "execution_count": 999,
   "metadata": {},
   "outputs": [],
   "source": [
    "# Step 1: Create a boolean mask where both columns have zeros\n",
    "wrong_habit_mask = (all_session_data['binary last choice'] == 0) & (all_session_data['last outcome'] == 0)\n",
    "\n",
    "wrong_habit_rolling_mean = wrong_habit_mask.rolling(window=5).mean()\n",
    "\n",
    "right_habit_mask = (all_session_data['binary last choice'] == 1) & (all_session_data['last outcome'] == 1)\n",
    "\n",
    "right_habit_rolling_mean = right_habit_mask.rolling(window=5).mean()\n",
    "bias =  wrong_habit_rolling_mean -right_habit_rolling_mean"
   ]
  },
  {
   "cell_type": "code",
   "execution_count": 1000,
   "metadata": {},
   "outputs": [
    {
     "data": {
      "text/plain": [
       "[<matplotlib.lines.Line2D at 0x192842820>]"
      ]
     },
     "execution_count": 1000,
     "metadata": {},
     "output_type": "execute_result"
    },
    {
     "data": {
      "image/png": "[encoded data removed]",
      "text/plain": [
       "<Figure size 432x288 with 1 Axes>"
      ]
     },
     "metadata": {
      "needs_background": "light"
     },
     "output_type": "display_data"
    }
   ],
   "source": [
    "plt.plot(wrong_habit_rolling_mean)\n",
    "plt.plot(right_habit_rolling_mean)\n",
    "plt.plot(bias)\n"
   ]
  },
  {
   "cell_type": "code",
   "execution_count": 1001,
   "metadata": {},
   "outputs": [],
   "source": [
    "all_session_data['wrong habit'] = wrong_habit_rolling_mean\n",
    "all_session_data['right habit'] = right_habit_rolling_mean\n",
    "all_session_data['bias'] = bias"
   ]
  },
  {
   "cell_type": "code",
   "execution_count": 1002,
   "metadata": {},
   "outputs": [],
   "source": [
    "contra_trials = all_session_data[(all_session_data['side'] == 'contra') & (all_session_data['outcome'] == 1)]\n",
    "ipsi_trials = all_session_data[all_session_data.side == 'ipsi']"
   ]
  },
  {
   "cell_type": "code",
   "execution_count": 1003,
   "metadata": {},
   "outputs": [
    {
     "data": {
      "text/plain": [
       "(array([ 1.,  2., 13., 12., 16.,  0., 19., 13.,  3.,  3.]),\n",
       " array([-0.6 , -0.44, -0.28, -0.12,  0.04,  0.2 ,  0.36,  0.52,  0.68,\n",
       "         0.84,  1.  ]),\n",
       " <BarContainer object of 10 artists>)"
      ]
     },
     "execution_count": 1003,
     "metadata": {},
     "output_type": "execute_result"
    },
    {
     "data": {
      "image/png": "[encoded data removed]",
      "text/plain": [
       "<Figure size 432x288 with 1 Axes>"
      ]
     },
     "metadata": {
      "needs_background": "light"
     },
     "output_type": "display_data"
    }
   ],
   "source": [
    "plt.hist(contra_trials['wrong habit']\n",
    "        )\n",
    "plt.hist(contra_trials['right habit'])\n",
    "plt.hist(contra_trials['bias'])"
   ]
  },
  {
   "cell_type": "code",
   "execution_count": 1004,
   "metadata": {},
   "outputs": [],
   "source": [
    "mean_wrong_habit = contra_trials['wrong habit'].mean()\n",
    "std_wrong_habit = contra_trials['wrong habit'].std()\n",
    "biggest_wrong_habit_trials = contra_trials[contra_trials['wrong habit'] >= mean_wrong_habit + std_wrong_habit]\n",
    "smallest_wrong_habit_trials = contra_trials[contra_trials['wrong habit'] < mean_wrong_habit - std_wrong_habit]"
   ]
  },
  {
   "cell_type": "code",
   "execution_count": 1005,
   "metadata": {},
   "outputs": [
    {
     "data": {
      "text/plain": [
       "0.44878048780487784"
      ]
     },
     "execution_count": 1005,
     "metadata": {},
     "output_type": "execute_result"
    }
   ],
   "source": [
    "mean_wrong_habit"
   ]
  },
  {
   "cell_type": "code",
   "execution_count": 995,
   "metadata": {},
   "outputs": [
    {
     "data": {
      "text/plain": [
       "(array([1., 2., 3., 0., 0., 1., 3., 1., 1., 1.]),\n",
       " array([0.48993541, 0.77972647, 1.06951752, 1.35930858, 1.64909963,\n",
       "        1.93889069, 2.22868174, 2.5184728 , 2.80826385, 3.09805491,\n",
       "        3.38784596]),\n",
       " <BarContainer object of 10 artists>)"
      ]
     },
     "execution_count": 995,
     "metadata": {},
     "output_type": "execute_result"
    },
    {
     "data": {
      "image/png": "[encoded data removed]",
      "text/plain": [
       "<Figure size 432x288 with 1 Axes>"
      ]
     },
     "metadata": {
      "needs_background": "light"
     },
     "output_type": "display_data"
    }
   ],
   "source": [
    "plt.hist(biggest_wrong_habit_trials['APE peaks'].values, alpha=0.2)\n",
    "plt.hist(smallest_wrong_habit_trials['APE peaks'].values, alpha=0.2)"
   ]
  },
  {
   "cell_type": "code",
   "execution_count": 996,
   "metadata": {},
   "outputs": [
    {
     "data": {
      "text/plain": [
       "Ttest_indResult(statistic=-0.6114537791147721, pvalue=0.5462088821107844)"
      ]
     },
     "execution_count": 996,
     "metadata": {},
     "output_type": "execute_result"
    }
   ],
   "source": [
    "stats.ttest_ind(biggest_wrong_habit_trials['APE peaks'].values, smallest_wrong_habit_trials['APE peaks'].values)"
   ]
  },
  {
   "cell_type": "code",
   "execution_count": 997,
   "metadata": {},
   "outputs": [
    {
     "data": {
      "text/plain": [
       "1"
      ]
     },
     "execution_count": 997,
     "metadata": {},
     "output_type": "execute_result"
    }
   ],
   "source": [
    "1"
   ]
  },
  {
   "cell_type": "code",
   "execution_count": 998,
   "metadata": {},
   "outputs": [
    {
     "name": "stderr",
     "output_type": "stream",
     "text": [
      "C:\\Users\\francescag\\AppData\\Local\\Temp\\ipykernel_6612\\4211575454.py:3: SettingWithCopyWarning: \n",
      "A value is trying to be set on a copy of a slice from a DataFrame.\n",
      "Try using .loc[row_indexer,col_indexer] = value instead\n",
      "\n",
      "See the caveats in the documentation: https://pandas.pydata.org/pandas-docs/stable/user_guide/indexing.html#returning-a-view-versus-a-copy\n",
      "  df['rolling mean APE'] = df['APE peaks'].rolling(window=1).mean()\n",
      "C:\\Users\\francescag\\AppData\\Local\\Temp\\ipykernel_6612\\4211575454.py:4: SettingWithCopyWarning: \n",
      "A value is trying to be set on a copy of a slice from a DataFrame.\n",
      "Try using .loc[row_indexer,col_indexer] = value instead\n",
      "\n",
      "See the caveats in the documentation: https://pandas.pydata.org/pandas-docs/stable/user_guide/indexing.html#returning-a-view-versus-a-copy\n",
      "  df[key] =df[key].rolling(window=1).mean()\n"
     ]
    },
    {
     "data": {
      "text/plain": [
       "<AxesSubplot:xlabel='actual trial number', ylabel='wrong habit'>"
      ]
     },
     "execution_count": 998,
     "metadata": {},
     "output_type": "execute_result"
    },
    {
     "data": {
      "image/png": "[encoded data removed]",
      "text/plain": [
       "<Figure size 432x288 with 1 Axes>"
      ]
     },
     "metadata": {
      "needs_background": "light"
     },
     "output_type": "display_data"
    }
   ],
   "source": [
    "key = 'abs fitted max cumsum ang vel'\n",
    "df = contra_trials[['APE peaks', 'wrong habit', key]]\n",
    "df['rolling mean APE'] = df['APE peaks'].rolling(window=1).mean()\n",
    "df[key] =df[key].rolling(window=1).mean()\n",
    "normalized_df=(df-df.mean())/df.std()\n",
    "normalized_df['actual trial number'] = contra_trials['actual trial numbers']\n",
    "sns.lineplot(data=normalized_df, x='actual trial number', y='wrong habit')\n",
    "sns.lineplot(data=normalized_df, x='actual trial number', y='rolling mean APE')\n",
    "#plt.plot(normalized_df[key])"
   ]
  },
  {
   "cell_type": "code",
   "execution_count": 881,
   "metadata": {},
   "outputs": [
    {
     "ename": "KeyError",
     "evalue": "\"['bias'] not in index\"",
     "output_type": "error",
     "traceback": [
      "\u001b[1;31m---------------------------------------------------------------------------\u001b[0m",
      "\u001b[1;31mKeyError\u001b[0m                                  Traceback (most recent call last)",
      "Input \u001b[1;32mIn [881]\u001b[0m, in \u001b[0;36m<cell line: 1>\u001b[1;34m()\u001b[0m\n\u001b[1;32m----> 1\u001b[0m df \u001b[38;5;241m=\u001b[39m \u001b[43mipsi_trials\u001b[49m\u001b[43m[\u001b[49m\u001b[43m[\u001b[49m\u001b[38;5;124;43m'\u001b[39;49m\u001b[38;5;124;43mAPE peaks\u001b[39;49m\u001b[38;5;124;43m'\u001b[39;49m\u001b[43m,\u001b[49m\u001b[43m \u001b[49m\u001b[38;5;124;43m'\u001b[39;49m\u001b[38;5;124;43mbias\u001b[39;49m\u001b[38;5;124;43m'\u001b[39;49m\u001b[43m]\u001b[49m\u001b[43m]\u001b[49m\n\u001b[0;32m      2\u001b[0m df[\u001b[38;5;124m'\u001b[39m\u001b[38;5;124mrolling mean APE\u001b[39m\u001b[38;5;124m'\u001b[39m] \u001b[38;5;241m=\u001b[39m df[\u001b[38;5;124m'\u001b[39m\u001b[38;5;124mAPE peaks\u001b[39m\u001b[38;5;124m'\u001b[39m]\u001b[38;5;241m.\u001b[39mrolling(window\u001b[38;5;241m=\u001b[39m\u001b[38;5;241m10\u001b[39m)\u001b[38;5;241m.\u001b[39mmean()\n\u001b[0;32m      3\u001b[0m normalized_df\u001b[38;5;241m=\u001b[39m(df\u001b[38;5;241m-\u001b[39mdf\u001b[38;5;241m.\u001b[39mmean())\u001b[38;5;241m/\u001b[39mdf\u001b[38;5;241m.\u001b[39mstd()\n",
      "File \u001b[1;32m~\\AppData\\Local\\Continuum\\miniconda3\\envs\\py38\\lib\\site-packages\\pandas\\core\\frame.py:3511\u001b[0m, in \u001b[0;36mDataFrame.__getitem__\u001b[1;34m(self, key)\u001b[0m\n\u001b[0;32m   3509\u001b[0m     \u001b[38;5;28;01mif\u001b[39;00m is_iterator(key):\n\u001b[0;32m   3510\u001b[0m         key \u001b[38;5;241m=\u001b[39m \u001b[38;5;28mlist\u001b[39m(key)\n\u001b[1;32m-> 3511\u001b[0m     indexer \u001b[38;5;241m=\u001b[39m \u001b[38;5;28;43mself\u001b[39;49m\u001b[38;5;241;43m.\u001b[39;49m\u001b[43mcolumns\u001b[49m\u001b[38;5;241;43m.\u001b[39;49m\u001b[43m_get_indexer_strict\u001b[49m\u001b[43m(\u001b[49m\u001b[43mkey\u001b[49m\u001b[43m,\u001b[49m\u001b[43m \u001b[49m\u001b[38;5;124;43m\"\u001b[39;49m\u001b[38;5;124;43mcolumns\u001b[39;49m\u001b[38;5;124;43m\"\u001b[39;49m\u001b[43m)\u001b[49m[\u001b[38;5;241m1\u001b[39m]\n\u001b[0;32m   3513\u001b[0m \u001b[38;5;66;03m# take() does not accept boolean indexers\u001b[39;00m\n\u001b[0;32m   3514\u001b[0m \u001b[38;5;28;01mif\u001b[39;00m \u001b[38;5;28mgetattr\u001b[39m(indexer, \u001b[38;5;124m\"\u001b[39m\u001b[38;5;124mdtype\u001b[39m\u001b[38;5;124m\"\u001b[39m, \u001b[38;5;28;01mNone\u001b[39;00m) \u001b[38;5;241m==\u001b[39m \u001b[38;5;28mbool\u001b[39m:\n",
      "File \u001b[1;32m~\\AppData\\Local\\Continuum\\miniconda3\\envs\\py38\\lib\\site-packages\\pandas\\core\\indexes\\base.py:5782\u001b[0m, in \u001b[0;36mIndex._get_indexer_strict\u001b[1;34m(self, key, axis_name)\u001b[0m\n\u001b[0;32m   5779\u001b[0m \u001b[38;5;28;01melse\u001b[39;00m:\n\u001b[0;32m   5780\u001b[0m     keyarr, indexer, new_indexer \u001b[38;5;241m=\u001b[39m \u001b[38;5;28mself\u001b[39m\u001b[38;5;241m.\u001b[39m_reindex_non_unique(keyarr)\n\u001b[1;32m-> 5782\u001b[0m \u001b[38;5;28;43mself\u001b[39;49m\u001b[38;5;241;43m.\u001b[39;49m\u001b[43m_raise_if_missing\u001b[49m\u001b[43m(\u001b[49m\u001b[43mkeyarr\u001b[49m\u001b[43m,\u001b[49m\u001b[43m \u001b[49m\u001b[43mindexer\u001b[49m\u001b[43m,\u001b[49m\u001b[43m \u001b[49m\u001b[43maxis_name\u001b[49m\u001b[43m)\u001b[49m\n\u001b[0;32m   5784\u001b[0m keyarr \u001b[38;5;241m=\u001b[39m \u001b[38;5;28mself\u001b[39m\u001b[38;5;241m.\u001b[39mtake(indexer)\n\u001b[0;32m   5785\u001b[0m \u001b[38;5;28;01mif\u001b[39;00m \u001b[38;5;28misinstance\u001b[39m(key, Index):\n\u001b[0;32m   5786\u001b[0m     \u001b[38;5;66;03m# GH 42790 - Preserve name from an Index\u001b[39;00m\n",
      "File \u001b[1;32m~\\AppData\\Local\\Continuum\\miniconda3\\envs\\py38\\lib\\site-packages\\pandas\\core\\indexes\\base.py:5845\u001b[0m, in \u001b[0;36mIndex._raise_if_missing\u001b[1;34m(self, key, indexer, axis_name)\u001b[0m\n\u001b[0;32m   5842\u001b[0m     \u001b[38;5;28;01mraise\u001b[39;00m \u001b[38;5;167;01mKeyError\u001b[39;00m(\u001b[38;5;124mf\u001b[39m\u001b[38;5;124m\"\u001b[39m\u001b[38;5;124mNone of [\u001b[39m\u001b[38;5;132;01m{\u001b[39;00mkey\u001b[38;5;132;01m}\u001b[39;00m\u001b[38;5;124m] are in the [\u001b[39m\u001b[38;5;132;01m{\u001b[39;00maxis_name\u001b[38;5;132;01m}\u001b[39;00m\u001b[38;5;124m]\u001b[39m\u001b[38;5;124m\"\u001b[39m)\n\u001b[0;32m   5844\u001b[0m not_found \u001b[38;5;241m=\u001b[39m \u001b[38;5;28mlist\u001b[39m(ensure_index(key)[missing_mask\u001b[38;5;241m.\u001b[39mnonzero()[\u001b[38;5;241m0\u001b[39m]]\u001b[38;5;241m.\u001b[39munique())\n\u001b[1;32m-> 5845\u001b[0m \u001b[38;5;28;01mraise\u001b[39;00m \u001b[38;5;167;01mKeyError\u001b[39;00m(\u001b[38;5;124mf\u001b[39m\u001b[38;5;124m\"\u001b[39m\u001b[38;5;132;01m{\u001b[39;00mnot_found\u001b[38;5;132;01m}\u001b[39;00m\u001b[38;5;124m not in index\u001b[39m\u001b[38;5;124m\"\u001b[39m)\n",
      "\u001b[1;31mKeyError\u001b[0m: \"['bias'] not in index\""
     ]
    }
   ],
   "source": [
    "df = ipsi_trials[['APE peaks', 'bias']]\n",
    "df['rolling mean APE'] = df['APE peaks'].rolling(window=10).mean()\n",
    "normalized_df=(df-df.mean())/df.std()\n",
    "plt.plot(normalized_df.bias)\n",
    "plt.plot(normalized_df['rolling mean APE'])"
   ]
  },
  {
   "cell_type": "code",
   "execution_count": 636,
   "metadata": {},
   "outputs": [
    {
     "data": {
      "text/plain": [
       "[<matplotlib.lines.Line2D at 0x21cf71fd0>]"
      ]
     },
     "execution_count": 636,
     "metadata": {},
     "output_type": "execute_result"
    },
    {
     "data": {
      "image/png": "[encoded data removed]",
      "text/plain": [
       "<Figure size 432x288 with 1 Axes>"
      ]
     },
     "metadata": {
      "needs_background": "light"
     },
     "output_type": "display_data"
    }
   ],
   "source": [
    "plt.plot(contra_trials['actual trial numbers'], contra_trials.bias)\n",
    "plt.plot(ipsi_trials['actual trial numbers'], ipsi_trials.bias)"
   ]
  },
  {
   "cell_type": "code",
   "execution_count": 983,
   "metadata": {},
   "outputs": [
    {
     "name": "stdout",
     "output_type": "stream",
     "text": [
      "                            OLS Regression Results                            \n",
      "==============================================================================\n",
      "Dep. Variable:              APE peaks   R-squared:                       0.012\n",
      "Model:                            OLS   Adj. R-squared:                  0.000\n",
      "Method:                 Least Squares   F-statistic:                     1.003\n",
      "Date:                Tue, 27 Aug 2024   Prob (F-statistic):              0.320\n",
      "Time:                        11:52:52   Log-Likelihood:                -111.70\n",
      "No. Observations:                  82   AIC:                             227.4\n",
      "Df Residuals:                      80   BIC:                             232.2\n",
      "Df Model:                           1                                         \n",
      "Covariance Type:            nonrobust                                         \n",
      "===============================================================================\n",
      "                  coef    std err          t      P>|t|      [0.025      0.975]\n",
      "-------------------------------------------------------------------------------\n",
      "const           0.0340      0.106      0.322      0.748      -0.176       0.244\n",
      "wrong habit     0.1064      0.106      1.001      0.320      -0.105       0.318\n",
      "==============================================================================\n",
      "Omnibus:                        0.987   Durbin-Watson:                   2.049\n",
      "Prob(Omnibus):                  0.610   Jarque-Bera (JB):                1.016\n",
      "Skew:                          -0.143   Prob(JB):                        0.602\n",
      "Kurtosis:                       2.536   Cond. No.                         1.01\n",
      "==============================================================================\n",
      "\n",
      "Notes:\n",
      "[1] Standard Errors assume that the covariance matrix of the errors is correctly specified.\n"
     ]
    }
   ],
   "source": [
    "\n",
    "# Drop NaN values that result from the rolling operation\n",
    "rolling_mean_contra = normalized_df['wrong habit'].dropna()\n",
    "\n",
    "# Align the continuous series with the rolling mean series by matching indices\n",
    "aligned_continuous_series_contra = normalized_df['APE peaks'].loc[rolling_mean_contra.index]\n",
    "aligned_continuous_series_contra = aligned_continuous_series_contra.dropna()\n",
    "rolling_mean_contra = rolling_mean_contra.loc[aligned_continuous_series_contra.index]\n",
    "# Perform regression (adding a constant for the intercept)\n",
    "X = sm.add_constant(rolling_mean_contra)\n",
    "model = sm.OLS(aligned_continuous_series_contra, X)\n",
    "results = model.fit()\n",
    "\n",
    "# Display the regression results\n",
    "print(results.summary())"
   ]
  },
  {
   "cell_type": "code",
   "execution_count": 856,
   "metadata": {},
   "outputs": [
    {
     "ename": "AttributeError",
     "evalue": "'DataFrame' object has no attribute 'bias'",
     "output_type": "error",
     "traceback": [
      "\u001b[1;31m---------------------------------------------------------------------------\u001b[0m",
      "\u001b[1;31mAttributeError\u001b[0m                            Traceback (most recent call last)",
      "Input \u001b[1;32mIn [856]\u001b[0m, in \u001b[0;36m<cell line: 2>\u001b[1;34m()\u001b[0m\n\u001b[0;32m      1\u001b[0m \u001b[38;5;66;03m# Drop NaN values that result from the rolling operation\u001b[39;00m\n\u001b[1;32m----> 2\u001b[0m rolling_mean_ipsi \u001b[38;5;241m=\u001b[39m \u001b[43mipsi_trials\u001b[49m\u001b[38;5;241;43m.\u001b[39;49m\u001b[43mbias\u001b[49m\u001b[38;5;241m.\u001b[39mdropna()\n\u001b[0;32m      4\u001b[0m \u001b[38;5;66;03m# Align the continuous series with the rolling mean series by matching indices\u001b[39;00m\n\u001b[0;32m      5\u001b[0m aligned_continuous_series_ipsi \u001b[38;5;241m=\u001b[39m ipsi_trials[\u001b[38;5;124m'\u001b[39m\u001b[38;5;124mAPE peaks\u001b[39m\u001b[38;5;124m'\u001b[39m]\u001b[38;5;241m.\u001b[39mloc[rolling_mean_ipsi\u001b[38;5;241m.\u001b[39mindex]\n",
      "File \u001b[1;32m~\\AppData\\Local\\Continuum\\miniconda3\\envs\\py38\\lib\\site-packages\\pandas\\core\\generic.py:5583\u001b[0m, in \u001b[0;36mNDFrame.__getattr__\u001b[1;34m(self, name)\u001b[0m\n\u001b[0;32m   5576\u001b[0m \u001b[38;5;28;01mif\u001b[39;00m (\n\u001b[0;32m   5577\u001b[0m     name \u001b[38;5;129;01mnot\u001b[39;00m \u001b[38;5;129;01min\u001b[39;00m \u001b[38;5;28mself\u001b[39m\u001b[38;5;241m.\u001b[39m_internal_names_set\n\u001b[0;32m   5578\u001b[0m     \u001b[38;5;129;01mand\u001b[39;00m name \u001b[38;5;129;01mnot\u001b[39;00m \u001b[38;5;129;01min\u001b[39;00m \u001b[38;5;28mself\u001b[39m\u001b[38;5;241m.\u001b[39m_metadata\n\u001b[0;32m   5579\u001b[0m     \u001b[38;5;129;01mand\u001b[39;00m name \u001b[38;5;129;01mnot\u001b[39;00m \u001b[38;5;129;01min\u001b[39;00m \u001b[38;5;28mself\u001b[39m\u001b[38;5;241m.\u001b[39m_accessors\n\u001b[0;32m   5580\u001b[0m     \u001b[38;5;129;01mand\u001b[39;00m \u001b[38;5;28mself\u001b[39m\u001b[38;5;241m.\u001b[39m_info_axis\u001b[38;5;241m.\u001b[39m_can_hold_identifiers_and_holds_name(name)\n\u001b[0;32m   5581\u001b[0m ):\n\u001b[0;32m   5582\u001b[0m     \u001b[38;5;28;01mreturn\u001b[39;00m \u001b[38;5;28mself\u001b[39m[name]\n\u001b[1;32m-> 5583\u001b[0m \u001b[38;5;28;01mreturn\u001b[39;00m \u001b[38;5;28;43mobject\u001b[39;49m\u001b[38;5;241;43m.\u001b[39;49m\u001b[38;5;21;43m__getattribute__\u001b[39;49m\u001b[43m(\u001b[49m\u001b[38;5;28;43mself\u001b[39;49m\u001b[43m,\u001b[49m\u001b[43m \u001b[49m\u001b[43mname\u001b[49m\u001b[43m)\u001b[49m\n",
      "\u001b[1;31mAttributeError\u001b[0m: 'DataFrame' object has no attribute 'bias'"
     ]
    }
   ],
   "source": [
    "\n",
    "# Drop NaN values that result from the rolling operation\n",
    "rolling_mean_ipsi = ipsi_trials.bias.dropna()\n",
    "\n",
    "# Align the continuous series with the rolling mean series by matching indices\n",
    "aligned_continuous_series_ipsi = ipsi_trials['APE peaks'].loc[rolling_mean_ipsi.index]\n",
    "\n",
    "# Perform regression (adding a constant for the intercept)\n",
    "X = sm.add_constant(rolling_mean_ipsi)\n",
    "model = sm.OLS(aligned_continuous_series_ipsi, X)\n",
    "results = model.fit()\n",
    "\n",
    "# Display the regression results\n",
    "print(results.summary())"
   ]
  },
  {
   "cell_type": "code",
   "execution_count": 984,
   "metadata": {},
   "outputs": [
    {
     "name": "stderr",
     "output_type": "stream",
     "text": [
      "C:\\Users\\francescag\\AppData\\Local\\Continuum\\miniconda3\\envs\\py38\\lib\\site-packages\\seaborn\\_decorators.py:36: FutureWarning: Pass the following variables as keyword args: x, y. From version 0.12, the only valid positional argument will be `data`, and passing other arguments without an explicit keyword will result in an error or misinterpretation.\n",
      "  warnings.warn(\n"
     ]
    },
    {
     "data": {
      "text/plain": [
       "<AxesSubplot:xlabel='APE peaks', ylabel='wrong habit'>"
      ]
     },
     "execution_count": 984,
     "metadata": {},
     "output_type": "execute_result"
    },
    {
     "data": {
      "image/png": "[encoded data removed]",
      "text/plain": [
       "<Figure size 432x288 with 1 Axes>"
      ]
     },
     "metadata": {
      "needs_background": "light"
     },
     "output_type": "display_data"
    }
   ],
   "source": [
    "\n",
    "sns.regplot(aligned_continuous_series_contra, rolling_mean_contra)"
   ]
  },
  {
   "cell_type": "code",
   "execution_count": 548,
   "metadata": {},
   "outputs": [
    {
     "data": {
      "text/plain": [
       "Index(['max speed', 'average speed', 'time to max speed', 'speeds',\n",
       "       'max acceleration', 'average acceleration', 'time to max acceleration',\n",
       "       'accelerations', 'APE peaks', 'time to move', 'trial numbers', 'traces',\n",
       "       'head x', 'head y', 'head angles', 'angular velocity',\n",
       "       'max angular velocity', 'time to max angular vel', 'cumsum ang vel',\n",
       "       'max cumsum ang vel', 'time to max cum sum ang vel', 'max initial turn',\n",
       "       'angular acceleration', 'turn slopes', 'turn starts', 'sig x', 'sig y',\n",
       "       'sig mse', 'movement dir', 'distance travelled', 'last 10 x',\n",
       "       'last 10 y', 'fitted max cumsum ang vel', 'area under sigmoid',\n",
       "       'trial type', 'reaction times', 'side', 'choice numeric',\n",
       "       'actual trial numbers', 'last trial type', 'last outcome',\n",
       "       'last choice', 'next trial type', 'next outcome', 'next choice',\n",
       "       'next choice numeric', 'stay or switch', 'outcome', 'APE quantile',\n",
       "       'date', 'abs fitted max cumsum ang vel', 'bias'],\n",
       "      dtype='object')"
      ]
     },
     "execution_count": 548,
     "metadata": {},
     "output_type": "execute_result"
    }
   ],
   "source": [
    "all_session_data.columns"
   ]
  },
  {
   "cell_type": "code",
   "execution_count": 652,
   "metadata": {},
   "outputs": [
    {
     "data": {
      "text/plain": [
       "1.879472364700156"
      ]
     },
     "execution_count": 652,
     "metadata": {},
     "output_type": "execute_result"
    }
   ],
   "source": [
    "contra_trials[contra_trials['bias'] <np.nanmean(contra_trials.bias)]['APE peaks'].mean()"
   ]
  },
  {
   "cell_type": "code",
   "execution_count": 653,
   "metadata": {},
   "outputs": [
    {
     "data": {
      "text/plain": [
       "1.81943572115545"
      ]
     },
     "execution_count": 653,
     "metadata": {},
     "output_type": "execute_result"
    }
   ],
   "source": [
    "contra_trials[contra_trials['bias'] >= np.nanmean(contra_trials.bias)]['APE peaks'].mean()"
   ]
  },
  {
   "cell_type": "code",
   "execution_count": 638,
   "metadata": {},
   "outputs": [
    {
     "data": {
      "text/plain": [
       "0.04999999999999999"
      ]
     },
     "execution_count": 638,
     "metadata": {},
     "output_type": "execute_result"
    }
   ],
   "source": [
    "np.nanmax(contra_trials.bias)"
   ]
  },
  {
   "cell_type": "code",
   "execution_count": 642,
   "metadata": {},
   "outputs": [
    {
     "data": {
      "text/plain": [
       "(array([4., 9., 5., 9., 4., 7., 6., 2., 5., 3.]),\n",
       " array([-0.7  , -0.625, -0.55 , -0.475, -0.4  , -0.325, -0.25 , -0.175,\n",
       "        -0.1  , -0.025,  0.05 ]),\n",
       " <BarContainer object of 10 artists>)"
      ]
     },
     "execution_count": 642,
     "metadata": {},
     "output_type": "execute_result"
    },
    {
     "data": {
      "image/png": "[encoded data removed]",
      "text/plain": [
       "<Figure size 432x288 with 1 Axes>"
      ]
     },
     "metadata": {
      "needs_background": "light"
     },
     "output_type": "display_data"
    }
   ],
   "source": [
    "plt.hist(contra_trials.bias\n",
    "        )"
   ]
  },
  {
   "cell_type": "code",
   "execution_count": null,
   "metadata": {},
   "outputs": [],
   "source": []
  }
 ],
 "metadata": {
  "kernelspec": {
   "display_name": "Python 3 (ipykernel)",
   "language": "python",
   "name": "python3"
  },
  "language_info": {
   "codemirror_mode": {
    "name": "ipython",
    "version": 3
   },
   "file_extension": ".py",
   "mimetype": "text/x-python",
   "name": "python",
   "nbconvert_exporter": "python",
   "pygments_lexer": "ipython3",
   "version": "3.8.13"
  }
 },
 "nbformat": 4,
 "nbformat_minor": 4
}
