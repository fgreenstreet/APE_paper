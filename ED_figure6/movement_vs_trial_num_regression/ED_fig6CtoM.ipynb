{
 "cells": [
  {
   "cell_type": "code",
   "execution_count": 1,
   "metadata": {},
   "outputs": [],
   "source": [
    "from scipy import stats\n",
    "import os\n",
    "import sys\n",
    "sys.path.append('..\\..')\n",
    "import seaborn as sns\n",
    "from utils.tracking_analysis.tracking_plotting import *\n",
    "from set_global_params import raw_tracking_path, processed_data_path, figure_directory, reproduce_figures_path, spreadsheet_path\n",
    "from utils.reaction_time_utils import get_bpod_trial_nums_per_session\n",
    "from utils.post_processing_utils import get_all_experimental_records\n",
    "from utils.post_processing_utils import remove_exps_after_manipulations, remove_unsuitable_recordings, remove_manipulation_days\n",
    "from utils.plotting_visuals import makes_plots_pretty\n",
    "from utils.stats import cohen_d_one_sample\n",
    "from save_to_excel import save_ax_scatter_data_to_excel\n",
    "import shutil"
   ]
  },
  {
   "cell_type": "code",
   "execution_count": 2,
   "metadata": {},
   "outputs": [
    {
     "name": "stdout",
     "output_type": "stream",
     "text": [
      "You have repro data for example mouse, just skip to plotting\n",
      "example mouse data loaded\n"
     ]
    }
   ],
   "source": [
    "mouse = 'SNL_photo17'\n",
    "contra_data_with_movement_example_file = os.path.join(reproduce_figures_path, 'ED_fig6', f'contra_data_{mouse}.csv')\n",
    "if os.path.exists(contra_data_with_movement_example_file):\n",
    "    print('You have repro data for example mouse, just skip to plotting')\n",
    "    valid_contra_data = pd.read_csv(contra_data_with_movement_example_file)\n",
    "    print('example mouse data loaded')\n",
    "else:\n",
    "    print('You need to generate or download repro data')"
   ]
  },
  {
   "cell_type": "markdown",
   "metadata": {},
   "source": [
    "# Getting example mouse data ready for plot (no need to run if you have repro data)"
   ]
  },
  {
   "cell_type": "code",
   "execution_count": 3,
   "metadata": {},
   "outputs": [],
   "source": [
    "def get_session_with_10000th_trial(mouse, experiments):\n",
    "    dates = experiments[experiments['mouse_id']==mouse]['date'].unique()\n",
    "    session_starts = get_bpod_trial_nums_per_session(mouse, dates)\n",
    "    if session_starts[-1] >= 10000:\n",
    "        last_session_idx = np.where(np.asarray(session_starts) >=10000)[0][0]\n",
    "    else:\n",
    "        last_session_idx = -1\n",
    "    last_session_date = dates[last_session_idx]\n",
    "    return(last_session_date)"
   ]
  },
  {
   "cell_type": "code",
   "execution_count": 4,
   "metadata": {
    "scrolled": true
   },
   "outputs": [],
   "source": [
    "mouse = 'SNL_photo17' #example_mouse_used_in_paper\n",
    "recording_site = 'tail'\n",
    "all_experiments = get_all_experimental_records()\n",
    "all_experiments = remove_exps_after_manipulations(all_experiments, [mouse])\n",
    "all_experiments = remove_manipulation_days(all_experiments)\n",
    "all_experiments = remove_unsuitable_recordings(all_experiments)\n",
    "experiments_to_process = all_experiments[\n",
    "    (all_experiments['mouse_id'] == mouse) & (all_experiments['recording_site'] == recording_site)]\n",
    "last_session = get_session_with_10000th_trial(mouse, experiments_to_process)"
   ]
  },
  {
   "cell_type": "code",
   "execution_count": 5,
   "metadata": {},
   "outputs": [
    {
     "name": "stdout",
     "output_type": "stream",
     "text": [
      "20200204 (145, 50)\n",
      "20200206 (208, 50)\n",
      "20200208 (439, 50)\n",
      "20200210 (246, 50)\n",
      "20200212 (222, 50)\n",
      "20200214 (265, 50)\n",
      "20200218 (358, 50)\n",
      "20200221 (289, 50)\n",
      "20200224 (238, 50)\n",
      "20200226 (267, 50)\n",
      "20200228 (251, 50)\n",
      "20200303 (298, 50)\n",
      "20200305 (279, 50)\n",
      "20200307 (304, 50)\n",
      "20200310 (278, 50)\n"
     ]
    }
   ],
   "source": [
    "dates = experiments_to_process['date'].values\n",
    "last_session_ind = int(np.where(dates == last_session)[0])\n",
    "for i, date in enumerate(dates[0: last_session_ind + 1]):\n",
    "    save_out_folder = os.path.join(raw_tracking_path, mouse, date)\n",
    "    movement_param_file = os.path.join(save_out_folder, 'APE_tracking{}_{}.pkl'.format(mouse, date))\n",
    "    if os.path.isfile(movement_param_file):\n",
    "        session_data = pd.read_pickle(movement_param_file)\n",
    "        session_data['date'] = date\n",
    "        session_data.mouse = mouse\n",
    "        print(date, session_data.shape)\n",
    "        if i == 0:\n",
    "            all_session_data = session_data\n",
    "        else:\n",
    "            all_session_data = pd.concat([all_session_data, session_data])\n",
    "    else:\n",
    "        print('{} not found'.format(date))\n",
    "all_session_data = all_session_data.reset_index(drop=True)"
   ]
  },
  {
   "cell_type": "code",
   "execution_count": 6,
   "metadata": {},
   "outputs": [],
   "source": [
    "all_session_data['abs fitted max cumsum ang vel'] = all_session_data['fitted max cumsum ang vel'].abs()"
   ]
  },
  {
   "cell_type": "code",
   "execution_count": 7,
   "metadata": {},
   "outputs": [],
   "source": [
    "contra_data = all_session_data[all_session_data.side == 'contra']"
   ]
  },
  {
   "cell_type": "code",
   "execution_count": 8,
   "metadata": {},
   "outputs": [],
   "source": [
    "def filter_trials_around_reaction_time(side_data, window_around_mean=0.2):\n",
    "    data = side_data.reset_index(drop=True)\n",
    "    reaction_times = data['reaction times'].values\n",
    "    median_reaction_time = np.nanmedian(reaction_times)\n",
    "    valid_trials = np.where(\n",
    "            np.logical_and(np.greater_equal(reaction_times, median_reaction_time - window_around_mean),\n",
    "                           np.less_equal(reaction_times, median_reaction_time + window_around_mean)))\n",
    "    valid_data = data.loc[valid_trials]\n",
    "    return valid_data"
   ]
  },
  {
   "cell_type": "code",
   "execution_count": 9,
   "metadata": {},
   "outputs": [],
   "source": [
    "valid_contra_data = filter_trials_around_reaction_time(contra_data)"
   ]
  },
  {
   "cell_type": "code",
   "execution_count": 10,
   "metadata": {},
   "outputs": [],
   "source": [
    "ipsi_data = all_session_data[all_session_data.side == 'ipsi']"
   ]
  },
  {
   "cell_type": "code",
   "execution_count": 26,
   "metadata": {},
   "outputs": [],
   "source": [
    "# save contra df out so it can just be loaded for plotting\n",
    "contra_data_with_movement_example_file = os.path.join(reproduce_figures_path, 'ED_fig6', f'contra_data_{mouse}.csv')\n",
    "if not os.path.exists(contra_data_with_movement_example_file):\n",
    "    valid_contra_data.to_csv(contra_data_with_movement_example_file)"
   ]
  },
  {
   "cell_type": "markdown",
   "metadata": {},
   "source": [
    "# correlate speed and turn angle with APE"
   ]
  },
  {
   "cell_type": "code",
   "execution_count": 11,
   "metadata": {},
   "outputs": [],
   "source": [
    "# if you didn't run the cells above (you have the repro data) you need to load the data in this cell\n",
    "mouse = 'SNL_photo17'\n",
    "contra_data_with_movement_example_file = os.path.join(reproduce_figures_path, 'ED_fig6', f'contra_data_{mouse}.csv')\n",
    "valid_contra_data = pd.read_csv(contra_data_with_movement_example_file)"
   ]
  },
  {
   "cell_type": "code",
   "execution_count": 14,
   "metadata": {},
   "outputs": [
    {
     "name": "stdout",
     "output_type": "stream",
     "text": [
      "0.07775178122494716\n"
     ]
    },
    {
     "data": {
      "image/png": "[encoded data removed]",
      "text/plain": [
       "<Figure size 180x180 with 1 Axes>"
      ]
     },
     "metadata": {
      "needs_background": "light"
     },
     "output_type": "display_data"
    }
   ],
   "source": [
    "# speed\n",
    "font = {'size': 8.5, 'family':'sans-serif', 'sans-serif':['Arial']}\n",
    "\n",
    "matplotlib.rc('font', **font)\n",
    "matplotlib.rcParams['pdf.fonttype'] = 42\n",
    "fig, ax = plt.subplots(1,1, figsize=[2.5,2.5])\n",
    "\n",
    "slope, intercept, r_value, p_value, std_err = stats.linregress(valid_contra_data['average speed'], valid_contra_data['APE peaks'])\n",
    "\n",
    "sns.regplot(ax=ax, data=valid_contra_data, x='average speed', y='APE peaks', line_kws={'label':\"slope: {0:.3f}, p-val:{1:.5f}\".format(slope,p_value)},\n",
    "                scatter_kws={'s':6, 'alpha':0.3})\n",
    "ax.legend(frameon=False, loc='upper left')\n",
    "print(p_value)\n",
    "makes_plots_pretty(ax)\n",
    "plt.tight_layout()\n",
    "\n",
    "df_speed_example = valid_contra_data[['average speed', 'APE peaks']]\n",
    "df_speed_example = df_speed_example.rename(columns={'APE peaks': 'DLight zscore'})\n",
    "speed_example_correlation_spreadsheet = os.path.join(spreadsheet_path, 'ED_fig6', 'ED_fig6D_speed_dopamine_tail.csv')\n",
    "if not os.path.exists(speed_example_correlation_spreadsheet):\n",
    "    df_speed_example.to_csv(speed_example_correlation_spreadsheet)\n"
   ]
  },
  {
   "cell_type": "code",
   "execution_count": 13,
   "metadata": {},
   "outputs": [
    {
     "name": "stdout",
     "output_type": "stream",
     "text": [
      "6.263210508840483e-06\n"
     ]
    },
    {
     "data": {
      "image/png": "[encoded data removed]",
      "text/plain": [
       "<Figure size 180x180 with 1 Axes>"
      ]
     },
     "metadata": {
      "needs_background": "light"
     },
     "output_type": "display_data"
    }
   ],
   "source": [
    "# Turn angle (calculated as the absolute cumsum angular velocity (after fitting a sigmoi to get the plateau))\n",
    "font = {'size': 8.5, 'family':'sans-serif', 'sans-serif':['Arial']}\n",
    "\n",
    "matplotlib.rc('font', **font)\n",
    "matplotlib.rcParams['pdf.fonttype'] = 42\n",
    "fig, ax = plt.subplots(1,1, figsize=[2.5,2.5])\n",
    "\n",
    "data = valid_contra_data.dropna()\n",
    "slope, intercept, r_value, p_value, std_err = stats.linregress(data['abs fitted max cumsum ang vel'],data['APE peaks'])\n",
    "sns.regplot(ax=ax, data=data, x='abs fitted max cumsum ang vel', y='APE peaks', line_kws={'label':\"slope: {0:.3f}, p-val:{1:.5f}\".format(slope,p_value)},\n",
    "            scatter_kws={'s':6, 'alpha':0.3})\n",
    "ax.legend(frameon=False, loc='upper left')\n",
    "print(p_value)\n",
    "makes_plots_pretty(ax)\n",
    "plt.tight_layout()\n",
    "\n",
    "df_turn_angle_example = valid_contra_data[['abs fitted max cumsum ang vel', 'APE peaks']]\n",
    "df_turn_angle_example = df_turn_angle_example.rename(columns={'APE peaks': 'DLight zscore', 'abs fitted max cumsum ang vel': 'turn angle'})\n",
    "turn_angle_example_correlation_spreadsheet = os.path.join(spreadsheet_path, 'ED_fig6', 'ED_fig6C_turn_angle_dopamine_tail.csv')\n",
    "if not os.path.exists(turn_angle_example_correlation_spreadsheet):\n",
    "    df_turn_angle_example.to_csv(turn_angle_example_correlation_spreadsheet)\n",
    "\n"
   ]
  },
  {
   "cell_type": "code",
   "execution_count": 31,
   "metadata": {},
   "outputs": [
    {
     "name": "stdout",
     "output_type": "stream",
     "text": [
      "1.2957946695692534e-79\n"
     ]
    },
    {
     "data": {
      "image/png": "[encoded data removed]",
      "text/plain": [
       "<Figure size 180x180 with 1 Axes>"
      ]
     },
     "metadata": {
      "needs_background": "light"
     },
     "output_type": "display_data"
    }
   ],
   "source": [
    "# speed and turn angle correlate\n",
    "font = {'size': 8.5, 'family':'sans-serif', 'sans-serif':['Arial']}\n",
    "\n",
    "matplotlib.rc('font', **font)\n",
    "matplotlib.rcParams['pdf.fonttype'] = 42\n",
    "fig, ax = plt.subplots(1,1, figsize=[2.5,2.5])\n",
    "\n",
    "data = valid_contra_data.dropna()\n",
    "slope, intercept, r_value, p_value, std_err = stats.linregress(data['abs fitted max cumsum ang vel'],data['average speed'])\n",
    "sns.regplot(ax=ax, data=data, x='abs fitted max cumsum ang vel', y='average speed', line_kws={'label':\"slope: {0:.3f}, p-val:{1:.5f}\".format(slope,p_value)},\n",
    "            scatter_kws={'s':6, 'alpha':0.3})\n",
    "ax.legend(frameon=False, loc='upper left')\n",
    "print(p_value)\n",
    "makes_plots_pretty(ax)\n",
    "plt.tight_layout()\n"
   ]
  },
  {
   "cell_type": "markdown",
   "metadata": {},
   "source": [
    "## regression with effects of trial number, speed and turn angle on APE size"
   ]
  },
  {
   "cell_type": "markdown",
   "metadata": {},
   "source": [
    "for an example mouse (shown here on 'SNL_photo17') - data is loaded above"
   ]
  },
  {
   "cell_type": "code",
   "execution_count": 32,
   "metadata": {},
   "outputs": [],
   "source": [
    "import statsmodels.api as sm"
   ]
  },
  {
   "cell_type": "code",
   "execution_count": 33,
   "metadata": {},
   "outputs": [
    {
     "name": "stdout",
     "output_type": "stream",
     "text": [
      "0.0116631652449658\n"
     ]
    }
   ],
   "source": [
    "df = valid_contra_data.sort_values(by='actual trial numbers')\n",
    "df = df.replace({'stay': 0, 'swiatch': 1, 'ipsi': 0, 'contra': 1})\n",
    "key = 'average speed'\n",
    "key2 = 'abs fitted max cumsum ang vel'\n",
    "\n",
    "mouse_data = df.dropna(axis=0) \n",
    "\n",
    "Y = mouse_data['APE peaks'].reset_index(drop=True)\n",
    "X = mouse_data[[key, key2]].reset_index(drop=True)\n",
    "#X = pd.concat([np.abs(mouse_data[key]), mouse_data['contra sensory evidence']], axis=1)\n",
    "X = sm.add_constant(X).reset_index(drop=True)\n",
    "model = sm.OLS(Y, X)\n",
    "result = model.fit()\n",
    "movement_model_rsq = result.rsquared\n",
    "print(movement_model_rsq)\n",
    "movement_model_prediction = model.predict(result.params)\n",
    "movement_model_diff_data = Y - movement_model_prediction "
   ]
  },
  {
   "cell_type": "code",
   "execution_count": 34,
   "metadata": {},
   "outputs": [],
   "source": [
    "df = valid_contra_data.sort_values(by='actual trial numbers')\n",
    "df = df.replace({'stay': 0, 'swiatch': 1, 'ipsi': 0, 'contra': 1})\n",
    "mouse_data = df.dropna(axis=0) \n",
    "\n",
    "data = mouse_data\n",
    "valid_trial_numbers = data['actual trial numbers'].values\n",
    "APEs = data['APE peaks'].values\n",
    "outcomes = data['outcome'].values\n",
    "turn_angle = data['abs fitted max cumsum ang vel'].values\n",
    "speed = data['average speed'].values\n",
    "window_size = 40\n",
    "rolling_mean_x = []\n",
    "rolling_mean_APEs = []\n",
    "rolling_mean_speed = []\n",
    "rolling_mean_turn_angle= []\n",
    "rolling_mean_performance = []\n",
    "num_bins = int(data.shape[0]/window_size)\n",
    "for window_num in range(num_bins):\n",
    "    rolling_mean_x.append(np.nanmean(valid_trial_numbers[window_num * window_size: (window_num + 1) * window_size]))\n",
    "    rolling_mean_turn_angle.append(np.nanmean(turn_angle[window_num * window_size: (window_num + 1) * window_size]))\n",
    "    rolling_mean_speed.append(np.nanmean(speed[window_num * window_size: (window_num + 1) * window_size]))\n",
    "    rolling_mean_APEs.append(np.nanmean(APEs[window_num * window_size: (window_num + 1) * window_size]))\n",
    "    rolling_mean_performance.append(np.nanmean(outcomes[window_num * window_size: (window_num + 1) * window_size]))"
   ]
  },
  {
   "cell_type": "code",
   "execution_count": 35,
   "metadata": {},
   "outputs": [],
   "source": [
    "df = valid_contra_data.sort_values(by='actual trial numbers')\n",
    "df = df.replace({'stay': 0, 'swiatch': 1, 'ipsi': 0, 'contra': 1})\n",
    "mouse_data = df.dropna(axis=0) \n",
    "\n",
    "data = mouse_data\n",
    "valid_trial_numbers = data['actual trial numbers'].values\n",
    "APEs = data['APE peaks'].values\n",
    "outcomes = data['outcome'].values\n",
    "window_size = 40\n",
    "rolling_mean_x = []\n",
    "rolling_mean_APEs = []\n",
    "rolling_mean_movement_pred = []\n",
    "num_bins = int(data.shape[0]/window_size)\n",
    "for window_num in range(num_bins):\n",
    "    rolling_mean_x.append(np.nanmean(valid_trial_numbers[window_num * window_size: (window_num + 1) * window_size]))\n",
    "    rolling_mean_movement_pred.append(np.nanmean(movement_model_prediction[window_num * window_size: (window_num + 1) * window_size]))\n",
    "    rolling_mean_APEs.append(np.nanmean(APEs[window_num * window_size: (window_num + 1) * window_size]))"
   ]
  },
  {
   "cell_type": "code",
   "execution_count": 36,
   "metadata": {},
   "outputs": [
    {
     "name": "stdout",
     "output_type": "stream",
     "text": [
      "Scatter data has been saved to S:\\projects\\APE_data_francesca_for_paper\\spreadsheets_for_nature\\ED_fig6\\ED_fig6I_dopamine_vs_angle_speed_model.xlsx\n"
     ]
    },
    {
     "data": {
      "image/png": "[encoded data removed]",
      "text/plain": [
       "<Figure size 180x180 with 1 Axes>"
      ]
     },
     "metadata": {
      "needs_background": "light"
     },
     "output_type": "display_data"
    }
   ],
   "source": [
    "font = {'size': 8.5, 'family':'sans-serif', 'sans-serif':['Arial']}\n",
    "\n",
    "matplotlib.rc('font', **font)\n",
    "matplotlib.rcParams['pdf.fonttype'] = 42\n",
    "fig, axs = plt.subplots(1,1, figsize=[2.5,2.5])\n",
    "axs.scatter(rolling_mean_x, rolling_mean_APEs, s=8, label='dopamine')\n",
    "axs.scatter(rolling_mean_x, rolling_mean_movement_pred, s=8, label='model prediction')\n",
    "axs.set_xlabel('trial number')\n",
    "axs.set_ylabel('dopamine response')\n",
    "axs.legend(loc='best', frameon=True)\n",
    "makes_plots_pretty(axs)\n",
    "plt.tight_layout()\n",
    "\n",
    "spreadsheet_EDfig6I = os.path.join(spreadsheet_path, 'ED_fig6', 'ED_fig6I_dopamine_vs_angle_speed_model.xlsx')\n",
    "if not os.path.exists(spreadsheet_EDfig6I):\n",
    "    save_ax_scatter_data_to_excel(axs, spreadsheet_EDfig6I)\n",
    "\n"
   ]
  },
  {
   "cell_type": "code",
   "execution_count": 37,
   "metadata": {},
   "outputs": [
    {
     "name": "stdout",
     "output_type": "stream",
     "text": [
      "0.13728192410732054\n"
     ]
    },
    {
     "name": "stderr",
     "output_type": "stream",
     "text": [
      "C:\\Users\\francescag\\AppData\\Local\\Temp\\ipykernel_10320\\3894201417.py:5: SettingWithCopyWarning: \n",
      "A value is trying to be set on a copy of a slice from a DataFrame.\n",
      "Try using .loc[row_indexer,col_indexer] = value instead\n",
      "\n",
      "See the caveats in the documentation: https://pandas.pydata.org/pandas-docs/stable/user_guide/indexing.html#returning-a-view-versus-a-copy\n",
      "  mouse_data['LogTrialN'] = np.log(mouse_data['actual trial numbers'])\n"
     ]
    }
   ],
   "source": [
    "df = valid_contra_data.sort_values(by='actual trial numbers')\n",
    "df = df.replace({'stay': 0, 'swiatch': 1, 'ipsi': 0, 'contra': 1})\n",
    "\n",
    "mouse_data = df.dropna(axis=0)  \n",
    "mouse_data['LogTrialN'] = np.log(mouse_data['actual trial numbers'])\n",
    "Y = mouse_data['APE peaks'].reset_index(drop=True)\n",
    "full_X = mouse_data[['average speed', 'abs fitted max cumsum ang vel', 'LogTrialN']].reset_index(drop=True)\n",
    "full_X = sm.add_constant(full_X).reset_index(drop=True)\n",
    "full_model = sm.OLS(Y, full_X)\n",
    "full_result = full_model.fit()\n",
    "full_model_rsq = full_result.rsquared\n",
    "print(full_model_rsq)\n",
    "full_model_prediction = full_model.predict(full_result.params)\n",
    "full_model_diff_data = Y - full_model_prediction "
   ]
  },
  {
   "cell_type": "code",
   "execution_count": 38,
   "metadata": {},
   "outputs": [
    {
     "data": {
      "text/html": [
       "<table class=\"simpletable\">\n",
       "<caption>OLS Regression Results</caption>\n",
       "<tr>\n",
       "  <th>Dep. Variable:</th>        <td>APE peaks</td>    <th>  R-squared:         </th> <td>   0.137</td>\n",
       "</tr>\n",
       "<tr>\n",
       "  <th>Model:</th>                   <td>OLS</td>       <th>  Adj. R-squared:    </th> <td>   0.136</td>\n",
       "</tr>\n",
       "<tr>\n",
       "  <th>Method:</th>             <td>Least Squares</td>  <th>  F-statistic:       </th> <td>   92.45</td>\n",
       "</tr>\n",
       "<tr>\n",
       "  <th>Date:</th>             <td>Tue, 18 Mar 2025</td> <th>  Prob (F-statistic):</th> <td>1.60e-55</td>\n",
       "</tr>\n",
       "<tr>\n",
       "  <th>Time:</th>                 <td>14:41:33</td>     <th>  Log-Likelihood:    </th> <td> -2338.8</td>\n",
       "</tr>\n",
       "<tr>\n",
       "  <th>No. Observations:</th>      <td>  1747</td>      <th>  AIC:               </th> <td>   4686.</td>\n",
       "</tr>\n",
       "<tr>\n",
       "  <th>Df Residuals:</th>          <td>  1743</td>      <th>  BIC:               </th> <td>   4707.</td>\n",
       "</tr>\n",
       "<tr>\n",
       "  <th>Df Model:</th>              <td>     3</td>      <th>                     </th>     <td> </td>   \n",
       "</tr>\n",
       "<tr>\n",
       "  <th>Covariance Type:</th>      <td>nonrobust</td>    <th>                     </th>     <td> </td>   \n",
       "</tr>\n",
       "</table>\n",
       "<table class=\"simpletable\">\n",
       "<tr>\n",
       "                <td></td>                   <th>coef</th>     <th>std err</th>      <th>t</th>      <th>P>|t|</th>  <th>[0.025</th>    <th>0.975]</th>  \n",
       "</tr>\n",
       "<tr>\n",
       "  <th>const</th>                         <td>    3.9903</td> <td>    0.266</td> <td>   14.998</td> <td> 0.000</td> <td>    3.468</td> <td>    4.512</td>\n",
       "</tr>\n",
       "<tr>\n",
       "  <th>average speed</th>                 <td>   -0.0213</td> <td>    0.014</td> <td>   -1.561</td> <td> 0.119</td> <td>   -0.048</td> <td>    0.005</td>\n",
       "</tr>\n",
       "<tr>\n",
       "  <th>abs fitted max cumsum ang vel</th> <td>    0.0042</td> <td>    0.001</td> <td>    3.474</td> <td> 0.001</td> <td>    0.002</td> <td>    0.007</td>\n",
       "</tr>\n",
       "<tr>\n",
       "  <th>LogTrialN</th>                     <td>   -0.3856</td> <td>    0.024</td> <td>  -15.931</td> <td> 0.000</td> <td>   -0.433</td> <td>   -0.338</td>\n",
       "</tr>\n",
       "</table>\n",
       "<table class=\"simpletable\">\n",
       "<tr>\n",
       "  <th>Omnibus:</th>       <td>69.587</td> <th>  Durbin-Watson:     </th> <td>   1.720</td>\n",
       "</tr>\n",
       "<tr>\n",
       "  <th>Prob(Omnibus):</th> <td> 0.000</td> <th>  Jarque-Bera (JB):  </th> <td>  77.005</td>\n",
       "</tr>\n",
       "<tr>\n",
       "  <th>Skew:</th>          <td> 0.506</td> <th>  Prob(JB):          </th> <td>1.90e-17</td>\n",
       "</tr>\n",
       "<tr>\n",
       "  <th>Kurtosis:</th>      <td> 3.184</td> <th>  Cond. No.          </th> <td>1.29e+03</td>\n",
       "</tr>\n",
       "</table><br/><br/>Notes:<br/>[1] Standard Errors assume that the covariance matrix of the errors is correctly specified.<br/>[2] The condition number is large, 1.29e+03. This might indicate that there are<br/>strong multicollinearity or other numerical problems."
      ],
      "text/plain": [
       "<class 'statsmodels.iolib.summary.Summary'>\n",
       "\"\"\"\n",
       "                            OLS Regression Results                            \n",
       "==============================================================================\n",
       "Dep. Variable:              APE peaks   R-squared:                       0.137\n",
       "Model:                            OLS   Adj. R-squared:                  0.136\n",
       "Method:                 Least Squares   F-statistic:                     92.45\n",
       "Date:                Tue, 18 Mar 2025   Prob (F-statistic):           1.60e-55\n",
       "Time:                        14:41:33   Log-Likelihood:                -2338.8\n",
       "No. Observations:                1747   AIC:                             4686.\n",
       "Df Residuals:                    1743   BIC:                             4707.\n",
       "Df Model:                           3                                         \n",
       "Covariance Type:            nonrobust                                         \n",
       "=================================================================================================\n",
       "                                    coef    std err          t      P>|t|      [0.025      0.975]\n",
       "-------------------------------------------------------------------------------------------------\n",
       "const                             3.9903      0.266     14.998      0.000       3.468       4.512\n",
       "average speed                    -0.0213      0.014     -1.561      0.119      -0.048       0.005\n",
       "abs fitted max cumsum ang vel     0.0042      0.001      3.474      0.001       0.002       0.007\n",
       "LogTrialN                        -0.3856      0.024    -15.931      0.000      -0.433      -0.338\n",
       "==============================================================================\n",
       "Omnibus:                       69.587   Durbin-Watson:                   1.720\n",
       "Prob(Omnibus):                  0.000   Jarque-Bera (JB):               77.005\n",
       "Skew:                           0.506   Prob(JB):                     1.90e-17\n",
       "Kurtosis:                       3.184   Cond. No.                     1.29e+03\n",
       "==============================================================================\n",
       "\n",
       "Notes:\n",
       "[1] Standard Errors assume that the covariance matrix of the errors is correctly specified.\n",
       "[2] The condition number is large, 1.29e+03. This might indicate that there are\n",
       "strong multicollinearity or other numerical problems.\n",
       "\"\"\""
      ]
     },
     "execution_count": 38,
     "metadata": {},
     "output_type": "execute_result"
    }
   ],
   "source": [
    "full_result.summary()"
   ]
  },
  {
   "cell_type": "code",
   "execution_count": 39,
   "metadata": {},
   "outputs": [
    {
     "data": {
      "text/plain": [
       "const                            6.486276e-48\n",
       "average speed                    1.188060e-01\n",
       "abs fitted max cumsum ang vel    5.258263e-04\n",
       "LogTrialN                        1.894586e-53\n",
       "dtype: float64"
      ]
     },
     "execution_count": 39,
     "metadata": {},
     "output_type": "execute_result"
    }
   ],
   "source": [
    "full_result.pvalues"
   ]
  },
  {
   "cell_type": "code",
   "execution_count": 40,
   "metadata": {},
   "outputs": [
    {
     "name": "stdout",
     "output_type": "stream",
     "text": [
      "0.12478080696800253\n"
     ]
    },
    {
     "name": "stderr",
     "output_type": "stream",
     "text": [
      "C:\\Users\\francescag\\AppData\\Local\\Temp\\ipykernel_10320\\2373863582.py:2: SettingWithCopyWarning: \n",
      "A value is trying to be set on a copy of a slice from a DataFrame.\n",
      "Try using .loc[row_indexer,col_indexer] = value instead\n",
      "\n",
      "See the caveats in the documentation: https://pandas.pydata.org/pandas-docs/stable/user_guide/indexing.html#returning-a-view-versus-a-copy\n",
      "  mouse_data['LogTrialN'] = np.log(mouse_data['actual trial numbers'])\n"
     ]
    }
   ],
   "source": [
    "mouse_data = df.dropna(axis=0)  \n",
    "mouse_data['LogTrialN'] = np.log(mouse_data['actual trial numbers'])\n",
    "residuals_X = mouse_data[['LogTrialN']].reset_index(drop=True)\n",
    "residuals_X = sm.add_constant(residuals_X).reset_index(drop=True)\n",
    "residuals_model = sm.OLS(movement_model_diff_data, residuals_X)\n",
    "residuals_result = residuals_model.fit()\n",
    "residuals_prediction = residuals_model.predict(residuals_result.params)\n",
    "residuals_model_rsq = residuals_result.rsquared\n",
    "print(residuals_model_rsq)"
   ]
  },
  {
   "cell_type": "code",
   "execution_count": 41,
   "metadata": {},
   "outputs": [
    {
     "data": {
      "text/html": [
       "<table class=\"simpletable\">\n",
       "<caption>OLS Regression Results</caption>\n",
       "<tr>\n",
       "  <th>Dep. Variable:</th>        <td>APE peaks</td>    <th>  R-squared:         </th> <td>   0.125</td>\n",
       "</tr>\n",
       "<tr>\n",
       "  <th>Model:</th>                   <td>OLS</td>       <th>  Adj. R-squared:    </th> <td>   0.124</td>\n",
       "</tr>\n",
       "<tr>\n",
       "  <th>Method:</th>             <td>Least Squares</td>  <th>  F-statistic:       </th> <td>   248.8</td>\n",
       "</tr>\n",
       "<tr>\n",
       "  <th>Date:</th>             <td>Tue, 18 Mar 2025</td> <th>  Prob (F-statistic):</th> <td>1.69e-52</td>\n",
       "</tr>\n",
       "<tr>\n",
       "  <th>Time:</th>                 <td>14:41:41</td>     <th>  Log-Likelihood:    </th> <td> -2341.1</td>\n",
       "</tr>\n",
       "<tr>\n",
       "  <th>No. Observations:</th>      <td>  1747</td>      <th>  AIC:               </th> <td>   4686.</td>\n",
       "</tr>\n",
       "<tr>\n",
       "  <th>Df Residuals:</th>          <td>  1745</td>      <th>  BIC:               </th> <td>   4697.</td>\n",
       "</tr>\n",
       "<tr>\n",
       "  <th>Df Model:</th>              <td>     1</td>      <th>                     </th>     <td> </td>   \n",
       "</tr>\n",
       "<tr>\n",
       "  <th>Covariance Type:</th>      <td>nonrobust</td>    <th>                     </th>     <td> </td>   \n",
       "</tr>\n",
       "</table>\n",
       "<table class=\"simpletable\">\n",
       "<tr>\n",
       "      <td></td>         <th>coef</th>     <th>std err</th>      <th>t</th>      <th>P>|t|</th>  <th>[0.025</th>    <th>0.975]</th>  \n",
       "</tr>\n",
       "<tr>\n",
       "  <th>const</th>     <td>    3.0854</td> <td>    0.197</td> <td>   15.673</td> <td> 0.000</td> <td>    2.699</td> <td>    3.472</td>\n",
       "</tr>\n",
       "<tr>\n",
       "  <th>LogTrialN</th> <td>   -0.3786</td> <td>    0.024</td> <td>  -15.773</td> <td> 0.000</td> <td>   -0.426</td> <td>   -0.331</td>\n",
       "</tr>\n",
       "</table>\n",
       "<table class=\"simpletable\">\n",
       "<tr>\n",
       "  <th>Omnibus:</th>       <td>74.022</td> <th>  Durbin-Watson:     </th> <td>   1.723</td>\n",
       "</tr>\n",
       "<tr>\n",
       "  <th>Prob(Omnibus):</th> <td> 0.000</td> <th>  Jarque-Bera (JB):  </th> <td>  82.496</td>\n",
       "</tr>\n",
       "<tr>\n",
       "  <th>Skew:</th>          <td> 0.523</td> <th>  Prob(JB):          </th> <td>1.22e-18</td>\n",
       "</tr>\n",
       "<tr>\n",
       "  <th>Kurtosis:</th>      <td> 3.195</td> <th>  Cond. No.          </th> <td>    74.1</td>\n",
       "</tr>\n",
       "</table><br/><br/>Notes:<br/>[1] Standard Errors assume that the covariance matrix of the errors is correctly specified."
      ],
      "text/plain": [
       "<class 'statsmodels.iolib.summary.Summary'>\n",
       "\"\"\"\n",
       "                            OLS Regression Results                            \n",
       "==============================================================================\n",
       "Dep. Variable:              APE peaks   R-squared:                       0.125\n",
       "Model:                            OLS   Adj. R-squared:                  0.124\n",
       "Method:                 Least Squares   F-statistic:                     248.8\n",
       "Date:                Tue, 18 Mar 2025   Prob (F-statistic):           1.69e-52\n",
       "Time:                        14:41:41   Log-Likelihood:                -2341.1\n",
       "No. Observations:                1747   AIC:                             4686.\n",
       "Df Residuals:                    1745   BIC:                             4697.\n",
       "Df Model:                           1                                         \n",
       "Covariance Type:            nonrobust                                         \n",
       "==============================================================================\n",
       "                 coef    std err          t      P>|t|      [0.025      0.975]\n",
       "------------------------------------------------------------------------------\n",
       "const          3.0854      0.197     15.673      0.000       2.699       3.472\n",
       "LogTrialN     -0.3786      0.024    -15.773      0.000      -0.426      -0.331\n",
       "==============================================================================\n",
       "Omnibus:                       74.022   Durbin-Watson:                   1.723\n",
       "Prob(Omnibus):                  0.000   Jarque-Bera (JB):               82.496\n",
       "Skew:                           0.523   Prob(JB):                     1.22e-18\n",
       "Kurtosis:                       3.195   Cond. No.                         74.1\n",
       "==============================================================================\n",
       "\n",
       "Notes:\n",
       "[1] Standard Errors assume that the covariance matrix of the errors is correctly specified.\n",
       "\"\"\""
      ]
     },
     "execution_count": 41,
     "metadata": {},
     "output_type": "execute_result"
    }
   ],
   "source": [
    "residuals_result.summary()"
   ]
  },
  {
   "cell_type": "code",
   "execution_count": 42,
   "metadata": {},
   "outputs": [],
   "source": [
    "data = mouse_data\n",
    "valid_trial_numbers = data['actual trial numbers'].values\n",
    "outcomes = data['outcome'].values\n",
    "turn_angles = data['abs fitted max cumsum ang vel']\n",
    "speeds = data['average speed']\n",
    "window_size = 40\n",
    "rolling_mean_x = []\n",
    "rolling_mean_residuals = []\n",
    "rolling_mean_model = []\n",
    "rolling_mean_turn_angles = []\n",
    "rolling_mean_speeds = []\n",
    "num_bins = int(data.shape[0]/window_size)\n",
    "for window_num in range(num_bins):\n",
    "    rolling_mean_x.append(np.nanmean(valid_trial_numbers[window_num * window_size: (window_num + 1) * window_size]))\n",
    "    rolling_mean_residuals.append(np.nanmean(movement_model_diff_data[window_num * window_size: (window_num + 1) * window_size]))\n",
    "    rolling_mean_model.append(np.nanmean(residuals_prediction[window_num * window_size: (window_num + 1) * window_size]))\n",
    "    rolling_mean_speeds.append(np.nanmean(speeds[window_num * window_size: (window_num + 1) * window_size]))\n",
    "    rolling_mean_turn_angles.append(np.nanmean(turn_angles[window_num * window_size: (window_num + 1) * window_size]))"
   ]
  },
  {
   "cell_type": "code",
   "execution_count": 43,
   "metadata": {},
   "outputs": [],
   "source": [
    "def abline(slope, intercept):\n",
    "    \"\"\"Plot a line from slope and intercept\"\"\"\n",
    "    axes = plt.gca()\n",
    "    x_vals = np.array(axes.get_xlim())\n",
    "    y_vals = intercept + slope * x_vals\n",
    "    plt.plot(x_vals, y_vals, '-')"
   ]
  },
  {
   "cell_type": "code",
   "execution_count": 44,
   "metadata": {},
   "outputs": [
    {
     "name": "stdout",
     "output_type": "stream",
     "text": [
      "Scatter data has been saved to S:\\projects\\APE_data_francesca_for_paper\\spreadsheets_for_nature\\ED_fig6\\ED_fig6K_residual_dopamine_log_trial_num.xlsx\n"
     ]
    },
    {
     "data": {
      "image/png": "[encoded data removed]",
      "text/plain": [
       "<Figure size 180x180 with 1 Axes>"
      ]
     },
     "metadata": {
      "needs_background": "light"
     },
     "output_type": "display_data"
    }
   ],
   "source": [
    "font = {'size': 8.5, 'family':'sans-serif', 'sans-serif':['Arial']}\n",
    "slope = residuals_result.params['LogTrialN']\n",
    "intercept = residuals_result.params['const']\n",
    "matplotlib.rc('font', **font)\n",
    "matplotlib.rcParams['pdf.fonttype'] = 42\n",
    "fig, axs = plt.subplots(1,1, figsize=[2.5,2.5])\n",
    "axs.scatter(residuals_X['LogTrialN'].values ,movement_model_diff_data , s=3, alpha=0.5)\n",
    "abline(slope, intercept)\n",
    "axs.set_xlabel('log trial number')\n",
    "axs.set_ylabel('residual dopamine response')\n",
    "makes_plots_pretty(axs)\n",
    "plt.tight_layout()\n",
    "spreadsheet_EDfig6K = os.path.join(spreadsheet_path, 'ED_fig6', 'ED_fig6K_residual_dopamine_log_trial_num.xlsx')\n",
    "if not os.path.exists(spreadsheet_EDfig6K):\n",
    "    save_ax_scatter_data_to_excel(axs, spreadsheet_EDfig6K)"
   ]
  },
  {
   "cell_type": "code",
   "execution_count": 45,
   "metadata": {},
   "outputs": [
    {
     "name": "stdout",
     "output_type": "stream",
     "text": [
      "Scatter data has been saved to S:\\projects\\APE_data_francesca_for_paper\\spreadsheets_for_nature\\ED_fig6\\ED_fig6J_residuals_vs_angle_speed_model.xlsx\n"
     ]
    },
    {
     "data": {
      "image/png": "[encoded data removed]",
      "text/plain": [
       "<Figure size 180x180 with 1 Axes>"
      ]
     },
     "metadata": {
      "needs_background": "light"
     },
     "output_type": "display_data"
    }
   ],
   "source": [
    "\n",
    "font = {'size': 8.5, 'family':'sans-serif', 'sans-serif':['Arial']}\n",
    "\n",
    "matplotlib.rc('font', **font)\n",
    "matplotlib.rcParams['pdf.fonttype'] = 42\n",
    "fig, axs = plt.subplots(1,1, figsize=[2.5,2.5])\n",
    "axs.scatter(rolling_mean_x, rolling_mean_residuals, s=8, label='residuals')\n",
    "axs.scatter(rolling_mean_x, rolling_mean_model, s=8, label='model prediction')\n",
    "axs.set_xlabel('trial number')\n",
    "axs.set_ylabel('dopamine response')\n",
    "axs.legend(loc='best', frameon=True)\n",
    "makes_plots_pretty(axs)\n",
    "plt.tight_layout()\n",
    "\n",
    "spreadsheet_EDfig6J = os.path.join(spreadsheet_path, 'ED_fig6', 'ED_fig6J_residuals_vs_angle_speed_model.xlsx')\n",
    "if not os.path.exists(spreadsheet_EDfig6J):\n",
    "    save_ax_scatter_data_to_excel(axs, spreadsheet_EDfig6J)\n"
   ]
  },
  {
   "cell_type": "code",
   "execution_count": 46,
   "metadata": {},
   "outputs": [
    {
     "data": {
      "text/plain": [
       "const        3.085410\n",
       "LogTrialN   -0.378557\n",
       "dtype: float64"
      ]
     },
     "execution_count": 46,
     "metadata": {},
     "output_type": "execute_result"
    }
   ],
   "source": [
    "residuals_result.params"
   ]
  },
  {
   "cell_type": "code",
   "execution_count": 47,
   "metadata": {},
   "outputs": [
    {
     "name": "stdout",
     "output_type": "stream",
     "text": [
      "Scatter data has been saved to S:\\projects\\APE_data_francesca_for_paper\\spreadsheets_for_nature\\ED_fig6\\ED_fig6F_turn_angle_trial_number.xlsx\n"
     ]
    },
    {
     "data": {
      "image/png": "[encoded data removed]",
      "text/plain": [
       "<Figure size 180x180 with 1 Axes>"
      ]
     },
     "metadata": {
      "needs_background": "light"
     },
     "output_type": "display_data"
    }
   ],
   "source": [
    "\n",
    "font = {'size': 8.5, 'family':'sans-serif', 'sans-serif':['Arial']}\n",
    "\n",
    "matplotlib.rc('font', **font)\n",
    "matplotlib.rcParams['pdf.fonttype'] = 42\n",
    "fig, axs = plt.subplots(1,1, figsize=[2.5,2.5])\n",
    "axs.scatter(rolling_mean_x, rolling_mean_turn_angles, s=8)\n",
    "\n",
    "axs.set_xlabel('trial number')\n",
    "axs.set_ylabel('turn angle (degrees)')\n",
    "makes_plots_pretty(axs)\n",
    "\n",
    "plt.tight_layout()\n",
    "spreadsheet_EDfig6F = os.path.join(spreadsheet_path, 'ED_fig6', 'ED_fig6F_turn_angle_trial_number.xlsx')\n",
    "if not os.path.exists(spreadsheet_EDfig6F):\n",
    "    save_ax_scatter_data_to_excel(axs, spreadsheet_EDfig6F)\n"
   ]
  },
  {
   "cell_type": "code",
   "execution_count": 48,
   "metadata": {},
   "outputs": [
    {
     "name": "stdout",
     "output_type": "stream",
     "text": [
      "Scatter data has been saved to S:\\projects\\APE_data_francesca_for_paper\\spreadsheets_for_nature\\ED_fig6\\ED_fig6G_speed_trial_number.xlsx\n"
     ]
    },
    {
     "data": {
      "image/png": "[encoded data removed]",
      "text/plain": [
       "<Figure size 180x180 with 1 Axes>"
      ]
     },
     "metadata": {
      "needs_background": "light"
     },
     "output_type": "display_data"
    }
   ],
   "source": [
    "font = {'size': 8.5, 'family':'sans-serif', 'sans-serif':['Arial']}\n",
    "\n",
    "matplotlib.rc('font', **font)\n",
    "matplotlib.rcParams['pdf.fonttype'] = 42\n",
    "fig, axs = plt.subplots(1,1, figsize=[2.5,2.5])\n",
    "axs.scatter(rolling_mean_x, rolling_mean_speeds, s=8)\n",
    "\n",
    "axs.set_xlabel('trial number')\n",
    "axs.set_ylabel('average speed (arb)')\n",
    "makes_plots_pretty(axs)\n",
    "\n",
    "plt.tight_layout()\n",
    "spreadsheet_EDfig6G = os.path.join(spreadsheet_path, 'ED_fig6', 'ED_fig6G_speed_trial_number.xlsx')\n",
    "if not os.path.exists(spreadsheet_EDfig6G):\n",
    "    save_ax_scatter_data_to_excel(axs, spreadsheet_EDfig6G)\n"
   ]
  },
  {
   "cell_type": "markdown",
   "metadata": {},
   "source": [
    "# For trial num without movement (as done in panel m)"
   ]
  },
  {
   "cell_type": "markdown",
   "metadata": {},
   "source": [
    "These plots are not in the paper but just serve as examples for regression without movement"
   ]
  },
  {
   "cell_type": "code",
   "execution_count": 30,
   "metadata": {},
   "outputs": [],
   "source": [
    "def regression_with_and_without_trial_num(valid_contra_data):\n",
    "    df = valid_contra_data.sort_values(by='actual trial numbers')\n",
    "    mouse_data = df.dropna(axis=0)\n",
    "    mouse_data['LogTrialN'] = np.log(mouse_data['actual trial numbers'])\n",
    "    key4 = 'LogTrialN'\n",
    "    Y = mouse_data['APE peaks'].reset_index(drop=True)\n",
    "    X = mouse_data[[key4]].reset_index(drop=True)\n",
    "    X = sm.add_constant(X).reset_index(drop=True)\n",
    "    model = sm.OLS(Y, X)\n",
    "    result = model.fit()\n",
    "    trial_num_model_prediction = model.predict(result.params)\n",
    "    trial_num_model_diff_data = Y - trial_num_model_prediction\n",
    "\n",
    "    key = 'average speed'\n",
    "    key1 = 'abs fitted max cumsum ang vel'\n",
    "    mouse_data = df.dropna(axis=0)\n",
    "\n",
    "    residuals_X = mouse_data[[key, key1]].reset_index(drop=True)\n",
    "    residuals_X = sm.add_constant(residuals_X).reset_index(drop=True)\n",
    "    residuals_model = sm.OLS(trial_num_model_diff_data, residuals_X)\n",
    "    residuals_result = residuals_model.fit()\n",
    "    residuals_pred = residuals_model.predict(residuals_result.params)\n",
    "    speed_coef = residuals_result.params[key]\n",
    "    turn_coef = residuals_result.params[key1]\n",
    "    return speed_coef, turn_coef, trial_num_model_diff_data, trial_num_model_prediction, residuals_pred"
   ]
  },
  {
   "cell_type": "code",
   "execution_count": 31,
   "metadata": {},
   "outputs": [],
   "source": [
    "speed_coef, turn_coef,  movement_model_diff_data, trial_num_model, residuals_pred = regression_with_and_without_trial_num(mouse_data)"
   ]
  },
  {
   "cell_type": "code",
   "execution_count": 32,
   "metadata": {},
   "outputs": [],
   "source": [
    "data = mouse_data\n",
    "valid_trial_numbers = data['actual trial numbers'].values\n",
    "APEs = data['APE peaks'].values\n",
    "outcomes = data['outcome'].values\n",
    "window_size = 40\n",
    "rolling_mean_x = []\n",
    "rolling_mean_residuals = []\n",
    "rolling_mean_trial_num = []\n",
    "rolling_mean_APEs = []\n",
    "rolling_mean_residuals_pred = []\n",
    "num_bins = int(data.shape[0]/window_size)\n",
    "for window_num in range(num_bins):\n",
    "    rolling_mean_x.append(np.nanmean(valid_trial_numbers[window_num * window_size: (window_num + 1) * window_size]))\n",
    "    rolling_mean_APEs.append(np.nanmean(APEs[window_num * window_size: (window_num + 1) * window_size]))\n",
    "    rolling_mean_trial_num.append(np.nanmean(trial_num_model[window_num * window_size: (window_num + 1) * window_size]))\n",
    "    rolling_mean_residuals.append(np.nanmean(movement_model_diff_data[window_num * window_size: (window_num + 1) * window_size]))\n",
    "    rolling_mean_residuals_pred.append(np.nanmean(residuals_pred[window_num * window_size: (window_num + 1) * window_size]))"
   ]
  },
  {
   "cell_type": "code",
   "execution_count": 33,
   "metadata": {},
   "outputs": [
    {
     "data": {
      "image/png": "[encoded data removed]",
      "text/plain": [
       "<Figure size 180x180 with 1 Axes>"
      ]
     },
     "metadata": {
      "needs_background": "light"
     },
     "output_type": "display_data"
    }
   ],
   "source": [
    "\n",
    "font = {'size': 8.5, 'family':'sans-serif', 'sans-serif':['Arial']}\n",
    "\n",
    "matplotlib.rc('font', **font)\n",
    "matplotlib.rcParams['pdf.fonttype'] = 42\n",
    "fig, axs = plt.subplots(1,1, figsize=[2.5,2.5])\n",
    "axs.scatter(rolling_mean_x, rolling_mean_APEs, s=8, label='Dopamine response')\n",
    "axs.scatter(rolling_mean_x, rolling_mean_trial_num, s=8, label='model prediction')\n",
    "axs.set_xlabel('trial number')\n",
    "axs.set_ylabel('dopamine response')\n",
    "axs.legend(loc='best', frameon=True)\n",
    "makes_plots_pretty(axs)\n",
    "plt.tight_layout()\n",
    "plt.savefig(os.path.join(figure_directory, 'trial_num_model_no_movement.pdf'))"
   ]
  },
  {
   "cell_type": "code",
   "execution_count": 34,
   "metadata": {},
   "outputs": [
    {
     "data": {
      "image/png": "[encoded data removed]",
      "text/plain": [
       "<Figure size 180x180 with 1 Axes>"
      ]
     },
     "metadata": {
      "needs_background": "light"
     },
     "output_type": "display_data"
    }
   ],
   "source": [
    "font = {'size': 8.5, 'family':'sans-serif', 'sans-serif':['Arial']}\n",
    "\n",
    "matplotlib.rc('font', **font)\n",
    "matplotlib.rcParams['pdf.fonttype'] = 42\n",
    "fig, axs = plt.subplots(1,1, figsize=[2.5,2.5])\n",
    "axs.scatter(rolling_mean_x, rolling_mean_residuals, s=8, label='residuals')\n",
    "axs.scatter(rolling_mean_x, rolling_mean_residuals_pred, s=8, label='model prediction')\n",
    "axs.set_xlabel('trial number')\n",
    "axs.set_ylabel('dopamine response')\n",
    "axs.legend(loc='best', frameon=True)\n",
    "makes_plots_pretty(axs)\n",
    "plt.tight_layout()\n",
    "plt.savefig(os.path.join(figure_directory, 'trial_num_residuals_movement_prediction.pdf'))"
   ]
  },
  {
   "cell_type": "markdown",
   "metadata": {},
   "source": [
    "# make stats plots (regression coefs for multiple mice)\n"
   ]
  },
  {
   "cell_type": "code",
   "execution_count": 53,
   "metadata": {},
   "outputs": [],
   "source": [
    "#load group data in (looks in original dir and copies if repro data isn't there)\n",
    "# these are the coefs for predicting the residual dopamine (as done above for an example mouse) \n",
    "# from log trial number once movement has been accounted for (see example above for details)\n",
    "all_mice_filename = 'movement_params_all_trials_vs_APE_regression_coefs_pvals_r2_and_trial_num_correlation_and_full_model.pkl'\n",
    "repro_file = os.path.join(reproduce_figures_path, 'ED_fig6', all_mice_filename)\n",
    "if not os.path.exists(repro_file):\n",
    "    original_file = os.path.join(processed_data_path, 'turn_angle_over_time', all_mice_filename)\n",
    "    shutil.copy(original_file, repro_file)\n",
    "all_mice_df = pd.read_pickle(repro_file)"
   ]
  },
  {
   "cell_type": "code",
   "execution_count": 54,
   "metadata": {},
   "outputs": [
    {
     "name": "stderr",
     "output_type": "stream",
     "text": [
      "C:\\Users\\francescag\\AppData\\Local\\Temp\\ipykernel_10320\\3251713814.py:2: SettingWithCopyWarning: \n",
      "A value is trying to be set on a copy of a slice from a DataFrame.\n",
      "Try using .loc[row_indexer,col_indexer] = value instead\n",
      "\n",
      "See the caveats in the documentation: https://pandas.pydata.org/pandas-docs/stable/user_guide/indexing.html#returning-a-view-versus-a-copy\n",
      "  trial_num_slope_df['regressor'] = 'log trial number'\n"
     ]
    }
   ],
   "source": [
    "trial_num_slope_df = all_mice_df[['mouse', 'log trial number']]\n",
    "trial_num_slope_df['regressor'] = 'log trial number'"
   ]
  },
  {
   "cell_type": "code",
   "execution_count": 55,
   "metadata": {},
   "outputs": [],
   "source": [
    "from scipy.stats import ttest_1samp"
   ]
  },
  {
   "cell_type": "code",
   "execution_count": 56,
   "metadata": {},
   "outputs": [
    {
     "data": {
      "text/plain": [
       "Ttest_1sampResult(statistic=-5.251139790341987, pvalue=0.003323093135816534)"
      ]
     },
     "execution_count": 56,
     "metadata": {},
     "output_type": "execute_result"
    }
   ],
   "source": [
    "ttest_1samp(trial_num_slope_df['log trial number'], 0)\n"
   ]
  },
  {
   "cell_type": "code",
   "execution_count": 57,
   "metadata": {},
   "outputs": [
    {
     "name": "stdout",
     "output_type": "stream",
     "text": [
      "cohen d:  -2.143768842393884\n"
     ]
    },
    {
     "data": {
      "text/plain": [
       "-2.143768842393884"
      ]
     },
     "execution_count": 57,
     "metadata": {},
     "output_type": "execute_result"
    }
   ],
   "source": [
    "cohen_d_one_sample(trial_num_slope_df['log trial number'])"
   ]
  },
  {
   "cell_type": "code",
   "execution_count": 60,
   "metadata": {},
   "outputs": [],
   "source": [
    "# save coefs for log trial num to csv\n",
    "trial_num_slope_df_for_csv = trial_num_slope_df.rename(columns={'log trial number': 'coefficient'})\n",
    "spreadsheet_file_name_trial_num_coefs = os.path.join(spreadsheet_path, 'ED_fig6', 'ED_fig6L_log_trial_number_coefs.csv')\n",
    "if not os.path.exists(spreadsheet_file_name_trial_num_coefs):\n",
    "    trial_num_slope_df_for_csv.to_csv(spreadsheet_file_name_trial_num_coefs)"
   ]
  },
  {
   "cell_type": "code",
   "execution_count": 44,
   "metadata": {},
   "outputs": [
    {
     "data": {
      "image/png": "[encoded data removed]",
      "text/plain": [
       "<Figure size 180x180 with 1 Axes>"
      ]
     },
     "metadata": {
      "needs_background": "light"
     },
     "output_type": "display_data"
    }
   ],
   "source": [
    "# fig ED 6L\n",
    "font = {'size': 8.5, 'family':'sans-serif', 'sans-serif':['Arial']}\n",
    "matplotlib.rc('font', **font)\n",
    "fig, ax = plt.subplots(1,1, figsize=[2.5,2.5])\n",
    "matplotlib.rcParams['pdf.fonttype'] = 42\n",
    "\n",
    "\n",
    "sns.barplot(data=trial_num_slope_df, x='regressor', y='log trial number', ax=ax, palette='Set2', errwidth=1, alpha=0.4)\n",
    "sns.swarmplot(data=trial_num_slope_df, x='regressor', y='log trial number', ax=ax, palette='Set2')\n",
    "\n",
    "\n",
    "ax.xaxis.tick_top()\n",
    "ax.set_ylabel('coefficient')\n",
    "ax.xaxis.set_label_position('top') \n",
    "# Hide the right and top spines\n",
    "ax.spines['right'].set_visible(False)\n",
    "ax.spines['bottom'].set_visible(False)\n",
    "\n",
    "y = trial_num_slope_df['log trial number'].to_numpy().min() - 0.05\n",
    "ax.text(0, y, '**', ha='center', fontsize=18)\n",
    "\n",
    "plt.tight_layout()\n"
   ]
  },
  {
   "cell_type": "markdown",
   "metadata": {},
   "source": [
    "# first three sessions with pvals"
   ]
  },
  {
   "cell_type": "code",
   "execution_count": 75,
   "metadata": {},
   "outputs": [],
   "source": [
    "#load group data in (looks in original dir and copies if repro data isn't there)\n",
    "# this is the regression with speed and turn angle for the first three sessions\n",
    "all_mice_filename_csv = 'movement_params_first_3_sessions_vs_APE_regression_coefs_and_pvals.csv'\n",
    "repro_file = os.path.join(reproduce_figures_path, 'ED_fig6', all_mice_filename_csv)\n",
    "if not os.path.exists(repro_file):\n",
    "    original_file = os.path.join(processed_data_path, 'turn_angle_over_time', all_mice_filename_csv)\n",
    "    shutil.copy(original_file, repro_file)\n",
    "all_mice_df_new = pd.read_csv(repro_file, index_col=0)"
   ]
  },
  {
   "cell_type": "code",
   "execution_count": 77,
   "metadata": {},
   "outputs": [],
   "source": [
    "movement_param_df = all_mice_df\n",
    "movement_param_df['sig turn angle'] = movement_param_df['turn angle pval']< 0.05\n",
    "movement_param_df['sig speed'] = movement_param_df['speed pval']< 0.05\n"
   ]
  },
  {
   "cell_type": "code",
   "execution_count": 78,
   "metadata": {},
   "outputs": [],
   "source": [
    "melted_movement_params = pd.melt(movement_param_df, id_vars=['mouse'], value_vars=['speed', 'turn angle'], value_name='coefficient', var_name='regressor')"
   ]
  },
  {
   "cell_type": "code",
   "execution_count": 79,
   "metadata": {},
   "outputs": [],
   "source": [
    "significance = pd.concat([movement_param_df['speed pval']< 0.05, movement_param_df['turn angle pval']< 0.05], ignore_index=True)"
   ]
  },
  {
   "cell_type": "code",
   "execution_count": 80,
   "metadata": {},
   "outputs": [],
   "source": [
    "melted_movement_params['sig'] = significance"
   ]
  },
  {
   "cell_type": "code",
   "execution_count": 81,
   "metadata": {},
   "outputs": [],
   "source": [
    "sig_movement_params = melted_movement_params[melted_movement_params['sig']==True]\n",
    "non_sig_movement_params = melted_movement_params[melted_movement_params['sig']==False]"
   ]
  },
  {
   "cell_type": "code",
   "execution_count": 84,
   "metadata": {},
   "outputs": [],
   "source": [
    "first_3_sessions_coef_csv = os.path.join(spreadsheet_path, 'ED_fig6', 'ED_fig6E_coefs_first_three_sessions.csv')\n",
    "if not os.path.exists(first_3_sessions_coef_csv):\n",
    "    melted_movement_params.to_csv(first_3_sessions_coef_csv)"
   ]
  },
  {
   "cell_type": "code",
   "execution_count": 82,
   "metadata": {},
   "outputs": [
    {
     "data": {
      "image/png": "[encoded data removed]",
      "text/plain": [
       "<Figure size 180x180 with 1 Axes>"
      ]
     },
     "metadata": {
      "needs_background": "light"
     },
     "output_type": "display_data"
    }
   ],
   "source": [
    "# fig sup 6E\n",
    "font = {'size': 8.5, 'family':'sans-serif', 'sans-serif':['Arial']}\n",
    "matplotlib.rc('font', **font)\n",
    "fig, ax = plt.subplots(1,1, figsize=[2.5,2.5])\n",
    "matplotlib.rcParams['pdf.fonttype'] = 42\n",
    "\n",
    "\n",
    "sns.barplot(data=melted_movement_params, x='regressor', y='coefficient', ax=ax, palette='Set2', errwidth=1, alpha=0.4)\n",
    "sns.swarmplot(data=sig_movement_params,x='regressor', y='coefficient', ax=ax, palette='Set2', size=5)\n",
    "sns.swarmplot(data=non_sig_movement_params,x='regressor', y='coefficient', ax=ax, palette='Set2', marker=\"$\\circ$\", ec=\"face\", s=7.5)\n",
    "\n",
    "\n",
    "# Hide the right and top spines\n",
    "ax.spines['right'].set_visible(False)\n",
    "ax.spines['top'].set_visible(False)\n",
    "y = all_mice_df[['turn angle', 'speed']].to_numpy().max() + 0.005\n",
    "h = .1\n",
    "ax.text(0, y, 'n.s.', ha='center', fontsize=10)\n",
    "ax.text(1, y, '*', ha='center', fontsize=12)\n",
    "ax.axhline(0, color='gray')\n",
    "\n",
    "plt.tight_layout()\n"
   ]
  },
  {
   "cell_type": "code",
   "execution_count": 54,
   "metadata": {},
   "outputs": [
    {
     "name": "stdout",
     "output_type": "stream",
     "text": [
      "Ttest_1sampResult(statistic=2.9286201368633993, pvalue=0.032685030540549345)\n",
      "cohen d:  1.1956041642925275\n"
     ]
    },
    {
     "data": {
      "text/plain": [
       "1.1956041642925275"
      ]
     },
     "execution_count": 54,
     "metadata": {},
     "output_type": "execute_result"
    }
   ],
   "source": [
    "print(stats.ttest_1samp(all_mice_df['turn angle'], 0))\n",
    "cohen_d_one_sample(all_mice_df['turn angle'])"
   ]
  },
  {
   "cell_type": "code",
   "execution_count": 55,
   "metadata": {},
   "outputs": [
    {
     "name": "stdout",
     "output_type": "stream",
     "text": [
      "Ttest_1sampResult(statistic=-0.8220212146670713, pvalue=0.448474594800367)\n",
      "cohen d:  -0.33558875561286006\n"
     ]
    },
    {
     "data": {
      "text/plain": [
       "-0.33558875561286006"
      ]
     },
     "execution_count": 55,
     "metadata": {},
     "output_type": "execute_result"
    }
   ],
   "source": [
    "print(stats.ttest_1samp(all_mice_df['speed'], 0))\n",
    "cohen_d_one_sample(all_mice_df['speed'])"
   ]
  },
  {
   "cell_type": "markdown",
   "metadata": {},
   "source": [
    "# r-squared"
   ]
  },
  {
   "cell_type": "code",
   "execution_count": 85,
   "metadata": {},
   "outputs": [],
   "source": [
    "#load group data in\n",
    "# if we perform a full regression with log trial num, speed and turn angle how much of total exp variance is accounted for by each regressor?\n",
    "all_mice_filename =  'movement_params_all_trials_vs_APE_regression_coefs_pvals_r2_and_trial_num_correlation_and_full_model.pkl'\n",
    "repro_file = os.path.join(reproduce_figures_path, 'ED_fig6', all_mice_filename)\n",
    "if not os.path.exists(repro_file):\n",
    "    original_file = os.path.join(processed_data_path, 'turn_angle_over_time', all_mice_filename)\n",
    "    shutil.copy(original_file, repro_file)\n",
    "all_mice_df = pd.read_pickle(repro_file)"
   ]
  },
  {
   "cell_type": "code",
   "execution_count": 86,
   "metadata": {},
   "outputs": [],
   "source": [
    "exp_var_df = all_mice_df[['mouse', 'speed r2', 'turn angle r2', 'log trial number r2', 'full model']]"
   ]
  },
  {
   "cell_type": "code",
   "execution_count": 87,
   "metadata": {},
   "outputs": [],
   "source": [
    "exp_var_df = exp_var_df.rename(columns={'speed r2': 'speed', 'turn angle r2': 'turn angle', 'log trial number r2': 'log trial number',})"
   ]
  },
  {
   "cell_type": "code",
   "execution_count": 88,
   "metadata": {},
   "outputs": [],
   "source": [
    "melted_df = pd.melt(exp_var_df, id_vars=['mouse'], value_vars=['speed', 'turn angle', 'log trial number', 'full model'], value_name='% of explained variance', var_name='regressor')"
   ]
  },
  {
   "cell_type": "code",
   "execution_count": 91,
   "metadata": {},
   "outputs": [],
   "source": [
    "melted_df = melted_df[melted_df.regressor != 'full model'] \n",
    "# this is the var exp by the full model - we are just plotting the percentage of this explained by the regressors"
   ]
  },
  {
   "cell_type": "code",
   "execution_count": 94,
   "metadata": {},
   "outputs": [],
   "source": [
    "full_model_coefs_csv = os.path.join(spreadsheet_path, 'ED_fig6', 'ED_fig6M_coefs_full_model_over_all_trials.csv')\n",
    "if not os.path.exists(full_model_coefs_csv):\n",
    "    melted_df.to_csv(full_model_coefs_csv)"
   ]
  },
  {
   "cell_type": "code",
   "execution_count": 92,
   "metadata": {},
   "outputs": [],
   "source": [
    "def make_box_plot(df, fig_ax,  dx ='regressor', dy = '% of explained variance', ort = \"v\", pal = ['#E95F32', '#002F3A', '#F933FF' ], set_ylims=False, label=None, scatter_size=4):\n",
    "    custom_palette = sns.set_palette(sns.color_palette(pal))\n",
    "    speed_data = df[df.regressor == 'speed']\n",
    "    speed_noise = np.random.normal(0, 0.04, speed_data.shape[0])\n",
    "    turn_angle_data = df[df.regressor == 'turn angle']\n",
    "    turn_angle_noise = np.random.normal(0, 0.04, turn_angle_data.shape[0])\n",
    "    trial_num_data = df[df.regressor == 'log trial number']\n",
    "    trial_num_noise = np.random.normal(0, 0.04, trial_num_data.shape[0])\n",
    "    fig_ax.scatter((speed_data[dx].values == 'speed').astype(int) * 0 + speed_noise - 0.3, speed_data[dy].values, color=pal[0], s=7, alpha=0.6)\n",
    "    fig_ax.scatter((turn_angle_data[dx].values == 'turn angle').astype(int) + turn_angle_noise - 0.3, turn_angle_data[dy].values, color=pal[1],\n",
    "                   s=7, alpha=0.6)\n",
    "    fig_ax.scatter((trial_num_data[dx].values == 'log trial number').astype(int)*2 + trial_num_noise - 0.3, trial_num_data[dy].values, color=pal[2],\n",
    "                   s=7, alpha=0.6)\n",
    "    \n",
    "    sns.boxplot(x=dx, y=dy, data=df, palette=custom_palette, width = .3, zorder = 10,linewidth=0.1, \\\n",
    "                showcaps = True, boxprops = {\"zorder\":10, 'alpha':.9},\\\n",
    "                showfliers=False, whiskerprops = {'linewidth':0.5, \"zorder\":10},\\\n",
    "                   saturation = 1, orient = ort, ax=fig_ax,\n",
    "                 medianprops={'color':'white', 'linewidth':1})\n",
    "    #fig_ax.set_xlim([-1, 3])\n",
    "    if set_ylims:\n",
    "        fig_ax.set_ylim([-2, np.max(df[dy]) + 2]) \n",
    "    if label:\n",
    "        fig_ax.text(0.5, 1, label, transform=fig_ax.get_xaxis_transform(), size=8, ha='center')"
   ]
  },
  {
   "cell_type": "code",
   "execution_count": 93,
   "metadata": {},
   "outputs": [
    {
     "data": {
      "image/png": "[encoded data removed]",
      "text/plain": [
       "<Figure size 216x180 with 1 Axes>"
      ]
     },
     "metadata": {
      "needs_background": "light"
     },
     "output_type": "display_data"
    }
   ],
   "source": [
    "# fig sup 6M\n",
    "font = {'size': 8.5, 'family':'sans-serif', 'sans-serif':['Arial']}\n",
    "matplotlib.rc('font', **font)\n",
    "fig, ax = plt.subplots(1,1, figsize=[3,2.5])\n",
    "matplotlib.rcParams['pdf.fonttype'] = 42\n",
    "pal = sns.color_palette('Set2')\n",
    "pal.as_hex()[:3]\n",
    "make_box_plot(melted_df, ax, pal=pal)\n",
    "\n",
    "ax.spines['right'].set_visible(False)\n",
    "ax.spines['top'].set_visible(False)\n",
    "ax.yaxis.set_ticks_position('left')\n",
    "ax.xaxis.set_ticks_position('bottom')\n",
    "plt.tight_layout()\n"
   ]
  },
  {
   "cell_type": "code",
   "execution_count": 25,
   "metadata": {},
   "outputs": [
    {
     "data": {
      "image/png": "[encoded data removed]",
      "text/plain": [
       "<Figure size 108x180 with 1 Axes>"
      ]
     },
     "metadata": {
      "needs_background": "light"
     },
     "output_type": "display_data"
    }
   ],
   "source": [
    "font = {'size': 8.5, 'family':'sans-serif', 'sans-serif':['Arial']}\n",
    "matplotlib.rc('font', **font)\n",
    "fig, ax = plt.subplots(1,1, figsize=[1.5,2.5])\n",
    "matplotlib.rcParams['pdf.fonttype'] = 42\n",
    "pal = sns.color_palette('Set2')\n",
    "pal.as_hex()[:3]\n",
    "dx ='regressor'\n",
    "dy = '% of explained variance'\n",
    "ort='v'\n",
    "custom_palette = sns.set_palette(sns.color_palette(pal))\n",
    "full_data = melted_df[melted_df.regressor == 'full model']\n",
    "full_noise = np.random.normal(0, 0.04, full_data.shape[0])\n",
    "\n",
    "ax.scatter((full_data[dx].values == 'full model').astype(int) * 0 + full_noise - 0.3, full_data[dy].values, color=pal[0], s=7, alpha=0.6)\n",
    "\n",
    "sns.boxplot(x=dx, y=dy, data=full_data, palette=custom_palette, width = .3, zorder = 10,linewidth=0.1, \\\n",
    "            showcaps = True, boxprops = {\"zorder\":10, 'alpha':.9},\\\n",
    "            showfliers=False, whiskerprops = {'linewidth':0.5, \"zorder\":10},\\\n",
    "               saturation = 1, orient = ort, ax=ax,\n",
    "             medianprops={'color':'white', 'linewidth':1})\n",
    "ax.spines['right'].set_visible(False)\n",
    "ax.spines['top'].set_visible(False)\n",
    "ax.yaxis.set_ticks_position('left')\n",
    "ax.xaxis.set_ticks_position('bottom')\n",
    "\n",
    "plt.tight_layout()\n"
   ]
  },
  {
   "cell_type": "code",
   "execution_count": 28,
   "metadata": {},
   "outputs": [
    {
     "data": {
      "text/plain": [
       "5.946208154409445"
      ]
     },
     "execution_count": 28,
     "metadata": {},
     "output_type": "execute_result"
    }
   ],
   "source": [
    "full_data['% of explained variance'].mean()"
   ]
  },
  {
   "cell_type": "code",
   "execution_count": 27,
   "metadata": {},
   "outputs": [
    {
     "data": {
      "text/plain": [
       "7.2471469277796885"
      ]
     },
     "execution_count": 27,
     "metadata": {},
     "output_type": "execute_result"
    }
   ],
   "source": [
    "melted_df[melted_df.regressor == 'speed']['% of explained variance'].median()"
   ]
  },
  {
   "cell_type": "code",
   "execution_count": 29,
   "metadata": {},
   "outputs": [
    {
     "data": {
      "text/plain": [
       "15.855575858789553"
      ]
     },
     "execution_count": 29,
     "metadata": {},
     "output_type": "execute_result"
    }
   ],
   "source": [
    "melted_df[melted_df.regressor == 'turn angle']['% of explained variance'].median()"
   ]
  },
  {
   "cell_type": "code",
   "execution_count": 30,
   "metadata": {},
   "outputs": [
    {
     "data": {
      "text/plain": [
       "70.4037371713486"
      ]
     },
     "execution_count": 30,
     "metadata": {},
     "output_type": "execute_result"
    }
   ],
   "source": [
    "melted_df[melted_df.regressor == 'log trial number']['% of explained variance'].median()"
   ]
  },
  {
   "cell_type": "markdown",
   "metadata": {},
   "source": [
    "# trial number movement regressions"
   ]
  },
  {
   "cell_type": "code",
   "execution_count": 103,
   "metadata": {},
   "outputs": [],
   "source": [
    "#load group data in\n",
    "# we perform a regression predicting trial num from speed or turn angle \n",
    "all_mice_filename =  'movement_params_all_trials_vs_APE_regression_coefs_pvals_r2_and_trial_num_correlation_and_full_model.pkl'\n",
    "repro_file = os.path.join(reproduce_figures_path, 'ED_fig6', all_mice_filename)\n",
    "if not os.path.exists(repro_file):\n",
    "    original_file = os.path.join(processed_data_path, 'turn_angle_over_time', all_mice_filename)\n",
    "    shutil.copy(original_file, repro_file)\n",
    "all_mice_df = pd.read_pickle(repro_file)\n"
   ]
  },
  {
   "cell_type": "code",
   "execution_count": 96,
   "metadata": {},
   "outputs": [],
   "source": [
    "movement_param_df = all_mice_df\n",
    "movement_param_df['sig turn angle'] = movement_param_df['trial_num_turn_pval']< 0.05\n",
    "movement_param_df['sig speed'] = movement_param_df['trial_num_speed_pval']< 0.05\n"
   ]
  },
  {
   "cell_type": "code",
   "execution_count": 97,
   "metadata": {},
   "outputs": [],
   "source": [
    "melted_movement_params = pd.melt(movement_param_df, id_vars=['mouse'], value_vars=['trial_num_slope_speed','trial_num_slope_turn_ang'], value_name='coefficient', var_name='regressor')"
   ]
  },
  {
   "cell_type": "code",
   "execution_count": 98,
   "metadata": {},
   "outputs": [],
   "source": [
    "significance = pd.concat([movement_param_df['speed pval']< 0.05, movement_param_df['turn angle pval']< 0.05], ignore_index=True)"
   ]
  },
  {
   "cell_type": "code",
   "execution_count": 99,
   "metadata": {},
   "outputs": [],
   "source": [
    "melted_movement_params['sig'] = significance"
   ]
  },
  {
   "cell_type": "code",
   "execution_count": 104,
   "metadata": {},
   "outputs": [],
   "source": [
    "trial_num_pred_from_move_csv = os.path.join(spreadsheet_path, 'ED_fig6', 'ED_fig6H_coefs_trial_num_pred_from_movement.csv')\n",
    "if not os.path.exists(trial_num_pred_from_move_csv):\n",
    "    melted_movement_params.to_csv(trial_num_pred_from_move_csv)"
   ]
  },
  {
   "cell_type": "code",
   "execution_count": 100,
   "metadata": {},
   "outputs": [],
   "source": [
    "sig_movement_params = melted_movement_params[melted_movement_params['sig']==True]\n",
    "non_sig_movement_params = melted_movement_params[melted_movement_params['sig']==False]"
   ]
  },
  {
   "cell_type": "code",
   "execution_count": 105,
   "metadata": {},
   "outputs": [
    {
     "data": {
      "image/png": "[encoded data removed]",
      "text/plain": [
       "<Figure size 144x180 with 1 Axes>"
      ]
     },
     "metadata": {
      "needs_background": "light"
     },
     "output_type": "display_data"
    }
   ],
   "source": [
    "# fig sup 6H\n",
    "font = {'size': 8.5, 'family':'sans-serif', 'sans-serif':['Arial']}\n",
    "matplotlib.rc('font', **font)\n",
    "fig, ax = plt.subplots(1,1, figsize=[2,2.5])\n",
    "matplotlib.rcParams['pdf.fonttype'] = 42\n",
    "\n",
    "\n",
    "sns.barplot(data=melted_movement_params, x='regressor', y='coefficient', ax=ax, palette='Set2', errwidth=1, alpha=0.4)\n",
    "sns.swarmplot(data=sig_movement_params,x='regressor', y='coefficient', ax=ax, palette='Set2', size=5)\n",
    "sns.swarmplot(data=non_sig_movement_params,x='regressor', y='coefficient', ax=ax, palette='Set2', marker=\"$\\circ$\", ec=\"face\", s=7.5)\n",
    "\n",
    "\n",
    "# Hide the right and top spines\n",
    "ax.spines['right'].set_visible(False)\n",
    "ax.spines['top'].set_visible(False)\n",
    "y = all_mice_df[['trial_num_slope_speed','trial_num_slope_turn_ang']].to_numpy().max() + 0.0005\n",
    "h = .1\n",
    "ax.text(0, y, 'n.s.', ha='center', fontsize=10)\n",
    "ax.text(1, y, 'n.s.', ha='center', fontsize=10)\n",
    "ax.set_xticklabels(['speed', 'turn angle'])\n",
    "ax.axhline(0, color='gray')\n",
    "\n",
    "plt.tight_layout()\n"
   ]
  },
  {
   "cell_type": "code",
   "execution_count": 73,
   "metadata": {},
   "outputs": [
    {
     "data": {
      "text/plain": [
       "Ttest_1sampResult(statistic=-1.054810014595123, pvalue=0.3397918062476374)"
      ]
     },
     "execution_count": 73,
     "metadata": {},
     "output_type": "execute_result"
    }
   ],
   "source": [
    "ttest_1samp(all_mice_df['trial_num_slope_turn_ang'], 0)"
   ]
  },
  {
   "cell_type": "code",
   "execution_count": 74,
   "metadata": {},
   "outputs": [
    {
     "data": {
      "text/plain": [
       "Ttest_1sampResult(statistic=1.6771028889657587, pvalue=0.15436692036149124)"
      ]
     },
     "execution_count": 74,
     "metadata": {},
     "output_type": "execute_result"
    }
   ],
   "source": [
    "ttest_1samp(all_mice_df['trial_num_slope_speed'], 0)"
   ]
  },
  {
   "cell_type": "code",
   "execution_count": 75,
   "metadata": {},
   "outputs": [
    {
     "name": "stdout",
     "output_type": "stream",
     "text": [
      "cohen d:  -0.43062438522262136\n"
     ]
    },
    {
     "data": {
      "text/plain": [
       "-0.43062438522262136"
      ]
     },
     "execution_count": 75,
     "metadata": {},
     "output_type": "execute_result"
    }
   ],
   "source": [
    "cohen_d_one_sample(all_mice_df['trial_num_slope_turn_ang'])"
   ]
  },
  {
   "cell_type": "code",
   "execution_count": 77,
   "metadata": {},
   "outputs": [
    {
     "name": "stdout",
     "output_type": "stream",
     "text": [
      "cohen d:  0.6846743873522768\n"
     ]
    },
    {
     "data": {
      "text/plain": [
       "0.6846743873522768"
      ]
     },
     "execution_count": 77,
     "metadata": {},
     "output_type": "execute_result"
    }
   ],
   "source": [
    "cohen_d_one_sample(all_mice_df['trial_num_slope_speed'])"
   ]
  },
  {
   "cell_type": "code",
   "execution_count": null,
   "metadata": {},
   "outputs": [],
   "source": []
  }
 ],
 "metadata": {
  "kernelspec": {
   "display_name": "Python 3 (ipykernel)",
   "language": "python",
   "name": "python3"
  },
  "language_info": {
   "codemirror_mode": {
    "name": "ipython",
    "version": 3
   },
   "file_extension": ".py",
   "mimetype": "text/x-python",
   "name": "python",
   "nbconvert_exporter": "python",
   "pygments_lexer": "ipython3",
   "version": "3.8.13"
  }
 },
 "nbformat": 4,
 "nbformat_minor": 4
}
