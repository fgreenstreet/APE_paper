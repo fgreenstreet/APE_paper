{
 "cells": [
  {
   "cell_type": "markdown",
   "metadata": {},
   "source": [
    "This notebook tests whether the APE signal resumes where is left off the day before (or lower)"
   ]
  },
  {
   "cell_type": "code",
   "execution_count": 1,
   "metadata": {},
   "outputs": [],
   "source": [
    "import sys\n",
    "sys.path.append('..')\n",
    "import os\n",
    "import numpy as np\n",
    "import pandas as pd\n",
    "from scipy.stats import ttest_ind, ttest_rel, ttest_1samp\n",
    "import matplotlib\n",
    "import matplotlib.pyplot as plt\n",
    "import seaborn as sns\n",
    "from set_global_params import processed_data_path, change_over_time_mice, reproduce_figures_path, spreadsheet_path\n",
    "from utils.stats import cohen_d_one_sample"
   ]
  },
  {
   "cell_type": "code",
   "execution_count": 4,
   "metadata": {},
   "outputs": [],
   "source": [
    "# load all APE contra values\n",
    "# requires ED_figure6/movement_vs_trial_num_regression/get_regression_slopes_for_turn_angle_speed_trial_number_vs_APE.py\n",
    "# this is beacuse it aso requires all of the trials throughout training - no point generating again\n",
    "# currently need python 3.6 and older pandas version to original read pickles - this is why the repro files are now csvs to deal with issue\n",
    "mice = change_over_time_mice['tail']\n",
    "for i, mouse in enumerate(mice):\n",
    "    df_save_dir = r'{}{}\\turn_angle_over_time'.format(processed_data_path, mouse)\n",
    "    df_save_file = os.path.join(df_save_dir, 'movement_params_all_trials_vs_APE_{}.pkl'.format(mouse))\n",
    "    repro_file_name = os.path.join(reproduce_figures_path, 'ED_fig6', 'all_trials_APE_{}.csv'.format(mouse))\n",
    "    if not os.path.exists(repro_file_name):\n",
    "        valid_contra_data = pd.read_pickle(df_save_file)\n",
    "        sorted_data = valid_contra_data.sort_values(by='actual trial numbers').reset_index(drop=True)\n",
    "        just_data_for_fig = sorted_data[['actual trial numbers', 'date', 'APE peaks', 'outcome', 'side', 'reaction times', 'choice numeric']]\n",
    "        just_data_for_fig.to_csv(repro_file_name)\n",
    "        sorted_data = just_data_for_fig\n",
    "    else:\n",
    "        sorted_data = pd.read_csv(repro_file_name)\n",
    "    sessions = sorted_data.date.unique()\n",
    "    for ii, session in enumerate(sessions):\n",
    "        session_data = sorted_data[sorted_data.date == session]\n",
    "        first_trials = session_data.iloc[0:40]['APE peaks'].mean()\n",
    "        last_trials = session_data.iloc[-41:-1]['APE peaks'].mean()\n",
    "        if ii == 0:\n",
    "            beginning_and_end_all_sessions = pd.DataFrame({'mouse': [mouse], 'date': [session], 'recording number': [ii], 'first trial': [first_trials],\n",
    "                                                          'last trial': [last_trials]})\n",
    "        else:\n",
    "            beginning_and_end = pd.DataFrame({'mouse': [mouse], 'date': [session], 'recording number': [ii], 'first trial': [first_trials],\n",
    "                                                          'last trial': [last_trials]})\n",
    "            beginning_and_end_all_sessions = pd.concat([beginning_and_end_all_sessions, beginning_and_end])\n",
    "    beginning_and_end_all_sessions['end of last session'] = beginning_and_end_all_sessions['last trial'].shift(1)\n",
    "    beginning_and_end_all_sessions['within \\n session'] = beginning_and_end_all_sessions['last trial'] - beginning_and_end_all_sessions['first trial'] \n",
    "    beginning_and_end_all_sessions['between \\n sessions'] = beginning_and_end_all_sessions['first trial'] - beginning_and_end_all_sessions['end of last session'] \n",
    "    \n",
    "    df_for_test = beginning_and_end_all_sessions\n",
    "    #print(ttest_rel(df_for_test['first trial'], df_for_test['end of last session']))\n",
    "    if i == 0: \n",
    "        df_for_test_all_mice =  df_for_test\n",
    "    else: \n",
    "        df_for_test_all_mice = pd.concat([df_for_test_all_mice, df_for_test])"
   ]
  },
  {
   "cell_type": "code",
   "execution_count": 6,
   "metadata": {},
   "outputs": [
    {
     "name": "stderr",
     "output_type": "stream",
     "text": [
      "C:\\Users\\francescag\\AppData\\Local\\Temp\\ipykernel_9592\\4092735539.py:1: FutureWarning: Indexing with multiple keys (implicitly converted to a tuple of keys) will be deprecated, use a list instead.\n",
      "  per_mouse_df = df_for_test_all_mice.groupby(['mouse'])['between \\n sessions', 'within \\n session'].apply(np.mean)\n",
      "C:\\Users\\francescag\\AppData\\Local\\Continuum\\miniconda3\\envs\\py38\\lib\\site-packages\\numpy\\core\\fromnumeric.py:3438: FutureWarning: In a future version, DataFrame.mean(axis=None) will return a scalar mean over the entire DataFrame. To retain the old behavior, use 'frame.mean(axis=0)' or just 'frame.mean()'\n",
      "  return mean(axis=axis, dtype=dtype, out=out, **kwargs)\n"
     ]
    }
   ],
   "source": [
    "per_mouse_df = df_for_test_all_mice.groupby(['mouse'])['between \\n sessions', 'within \\n session'].apply(np.mean)"
   ]
  },
  {
   "cell_type": "code",
   "execution_count": 7,
   "metadata": {},
   "outputs": [
    {
     "data": {
      "text/plain": [
       "Index(['SNL_photo16', 'SNL_photo17', 'SNL_photo18', 'SNL_photo21',\n",
       "       'SNL_photo22', 'SNL_photo26'],\n",
       "      dtype='object', name='mouse')"
      ]
     },
     "execution_count": 7,
     "metadata": {},
     "output_type": "execute_result"
    }
   ],
   "source": [
    "per_mouse_df.index"
   ]
  },
  {
   "cell_type": "code",
   "execution_count": 8,
   "metadata": {},
   "outputs": [
    {
     "data": {
      "text/plain": [
       "Ttest_1sampResult(statistic=1.2545407043491155, pvalue=0.26509545812982227)"
      ]
     },
     "execution_count": 8,
     "metadata": {},
     "output_type": "execute_result"
    }
   ],
   "source": [
    "ttest_1samp(per_mouse_df['between \\n sessions'], 0)"
   ]
  },
  {
   "cell_type": "code",
   "execution_count": 9,
   "metadata": {},
   "outputs": [
    {
     "name": "stdout",
     "output_type": "stream",
     "text": [
      "cohen d:  0.512164097867857\n"
     ]
    },
    {
     "data": {
      "text/plain": [
       "0.512164097867857"
      ]
     },
     "execution_count": 9,
     "metadata": {},
     "output_type": "execute_result"
    }
   ],
   "source": [
    "cohen_d_one_sample(per_mouse_df['between \\n sessions'])"
   ]
  },
  {
   "cell_type": "code",
   "execution_count": 10,
   "metadata": {},
   "outputs": [
    {
     "data": {
      "text/plain": [
       "Ttest_1sampResult(statistic=-2.626135766496434, pvalue=0.046750513191381626)"
      ]
     },
     "execution_count": 10,
     "metadata": {},
     "output_type": "execute_result"
    }
   ],
   "source": [
    "ttest_1samp(per_mouse_df['within \\n session'], 0)"
   ]
  },
  {
   "cell_type": "code",
   "execution_count": 11,
   "metadata": {},
   "outputs": [
    {
     "name": "stdout",
     "output_type": "stream",
     "text": [
      "cohen d:  -1.0721154371981758\n"
     ]
    },
    {
     "data": {
      "text/plain": [
       "-1.0721154371981758"
      ]
     },
     "execution_count": 11,
     "metadata": {},
     "output_type": "execute_result"
    }
   ],
   "source": [
    "cohen_d_one_sample(per_mouse_df['within \\n session'])"
   ]
  },
  {
   "cell_type": "code",
   "execution_count": 12,
   "metadata": {},
   "outputs": [],
   "source": [
    "melted_df = pd.melt(per_mouse_df.reset_index(), id_vars=['mouse'], value_vars=['between \\n sessions', 'within \\n session'], value_name='change in z-scored dopamine response', var_name='difference')"
   ]
  },
  {
   "cell_type": "code",
   "execution_count": 14,
   "metadata": {},
   "outputs": [],
   "source": [
    "spreadsheet_filename = os.path.join(spreadsheet_path, 'ED_fig6', 'ED_fig6N_between_within.csv')\n",
    "if not os.path.exists(spreadsheet_filename):\n",
    "    melted_df.to_csv(spreadsheet_filename)"
   ]
  },
  {
   "cell_type": "code",
   "execution_count": 60,
   "metadata": {},
   "outputs": [
    {
     "data": {
      "text/plain": [
       "Index(['mouse', 'difference', 'change in z-scored dopamine response'], dtype='object')"
      ]
     },
     "execution_count": 60,
     "metadata": {},
     "output_type": "execute_result"
    }
   ],
   "source": [
    "melted_df.columns"
   ]
  },
  {
   "cell_type": "code",
   "execution_count": 15,
   "metadata": {},
   "outputs": [
    {
     "data": {
      "image/png": "[encoded data removed]",
      "text/plain": [
       "<Figure size 180x180 with 1 Axes>"
      ]
     },
     "metadata": {
      "needs_background": "light"
     },
     "output_type": "display_data"
    }
   ],
   "source": [
    "font = {'size': 8.5, 'family':'sans-serif', 'sans-serif':['Arial']}\n",
    "matplotlib.rc('font', **font)\n",
    "fig, ax = plt.subplots(1,1, figsize=[2.5,2.5])\n",
    "matplotlib.rcParams['pdf.fonttype'] = 42\n",
    "\n",
    "\n",
    "sns.barplot(data=melted_df, x='difference', y='change in z-scored dopamine response', ax=ax, palette='Set1', errwidth=1, alpha=0.4)\n",
    "sns.swarmplot(data=melted_df,x='difference', y='change in z-scored dopamine response', ax=ax, palette='Set1')\n",
    "\n",
    "\n",
    "# Hide the right and top spines\n",
    "ax.spines['right'].set_visible(False)\n",
    "ax.spines['top'].set_visible(False)\n",
    "y = melted_df['change in z-scored dopamine response'].to_numpy().max() + 0.05\n",
    "h = .1\n",
    "ax.text(0, y, 'n.s.', ha='center', fontsize=10)\n",
    "ax.text(1, y, '*', ha='center', fontsize=12)\n",
    "ax.axhline(0, color='gray')\n",
    "plt.tight_layout()"
   ]
  },
  {
   "cell_type": "code",
   "execution_count": null,
   "metadata": {},
   "outputs": [],
   "source": []
  }
 ],
 "metadata": {
  "kernelspec": {
   "display_name": "Python 3 (ipykernel)",
   "language": "python",
   "name": "python3"
  },
  "language_info": {
   "codemirror_mode": {
    "name": "ipython",
    "version": 3
   },
   "file_extension": ".py",
   "mimetype": "text/x-python",
   "name": "python",
   "nbconvert_exporter": "python",
   "pygments_lexer": "ipython3",
   "version": "3.8.13"
  }
 },
 "nbformat": 4,
 "nbformat_minor": 4
}
