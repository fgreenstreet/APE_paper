{
 "cells": [
  {
   "cell_type": "code",
   "execution_count": 9,
   "metadata": {},
   "outputs": [],
   "source": [
    "import sys\n",
    "import os\n",
    "import numpy as np\n",
    "import pandas as pd\n",
    "from scipy import stats\n",
    "import seaborn as sns\n",
    "import matplotlib\n",
    "import matplotlib.pyplot as plt\n",
    "sys.path.append('..\\..')\n",
    "from utils.post_processing_utils import get_all_experimental_records, remove_exps_after_manipulations, remove_unsuitable_recordings, remove_manipulation_days\n",
    "from utils.plotting_visuals import makes_plots_pretty\n",
    "from utils.plotting import multi_conditions_plot\n",
    "from set_global_params import raw_tracking_path, state_change_mice, processed_data_path, reproduce_figures_path, spreadsheet_path\n",
    "from utils.stats import cohen_d_paired\n",
    "import shutil"
   ]
  },
  {
   "cell_type": "markdown",
   "metadata": {},
   "source": [
    "# Just needed if you don't have repro data, otherwise skip to next heading"
   ]
  },
  {
   "cell_type": "code",
   "execution_count": 14,
   "metadata": {},
   "outputs": [],
   "source": [
    "site = 'tail'\n",
    "repro_file = os.path.join(reproduce_figures_path, 'ED_fig6', 'state_change_summary_no_traces.csv')\n",
    "# traces are not needed for this, it's just to get the trial numbers in the photometry plots\n",
    "if not os.path.exists(repro_file):\n",
    "    processed_data_dir = os.path.join(processed_data_path, 'state_change_data')\n",
    "    state_change_data_file_old = os.path.join(processed_data_dir, 'state_change_data_{}_mice_only_correct_py36.p'.format(site))\n",
    "    all_session_change_data_old = pd.read_pickle(state_change_data_file_old)\n",
    "    without_traces = all_session_change_data.drop(columns='traces') # saves space - traces are huge\n",
    "    without_traces.to_csv(repro_file)\n",
    "all_session_change_data = pd.read_csv(repro_file, index_col=0)"
   ]
  },
  {
   "cell_type": "code",
   "execution_count": 24,
   "metadata": {},
   "outputs": [],
   "source": [
    "recording_site = 'tail'\n",
    "mice = state_change_mice[recording_site]\n",
    "turn_angles = []\n",
    "stimulus = []\n",
    "speeds = []\n",
    "mice_for_df = []\n",
    "for mouse in mice:\n",
    "    all_experiments = get_all_experimental_records()\n",
    "    all_experiments = remove_unsuitable_recordings(all_experiments)\n",
    "    experiments_to_process = all_experiments[\n",
    "        (all_experiments['mouse_id'] == mouse) & (all_experiments['recording_site'] == recording_site) & (all_experiments['experiment_notes'] == 'state change white noise')]\n",
    "    dates = experiments_to_process['date'].values[-4:]\n",
    "    date = dates[0]\n",
    "    \n",
    "    repro_movement_file = os.path.join(reproduce_figures_path, 'ED_fig6', 'state_change_movement','APE_tracking{}_{}.csv'.format(mouse, date))\n",
    "    if not os.path.exists(repro_movement_file):\n",
    "        if not os.path.exists(os.path.join(reproduce_figures_path, 'ED_fig6', 'state_change_movement')):\n",
    "            os.makedirs(os.path.join(reproduce_figures_path, 'ED_fig6', 'state_change_movement'))\n",
    "        save_out_folder = os.path.join(raw_tracking_path, mouse, date)\n",
    "        movement_param_file = os.path.join(save_out_folder, 'APE_tracking{}_{}.pkl'.format(mouse, date)) \n",
    "        movement_df = pd.read_pickle(movement_param_file).dropna()\n",
    "        movement_params_for_plots_df = movement_df[['trial numbers', 'fitted max cumsum ang vel', 'average speed', 'side', 'reaction times']]\n",
    "        movement_params_for_plots_df.to_csv(repro_movement_file)\n"
   ]
  },
  {
   "cell_type": "code",
   "execution_count": null,
   "metadata": {},
   "outputs": [],
   "source": [
    "def filter_trials_around_reaction_time(side_data, window_around_mean=0.2):\n",
    "    data = side_data.reset_index(drop=True)\n",
    "    reaction_times = data['reaction times'].values\n",
    "    median_reaction_time = np.nanmedian(reaction_times)\n",
    "    valid_trials = np.where(\n",
    "            np.logical_and(np.greater_equal(reaction_times, median_reaction_time - window_around_mean),\n",
    "                           np.less_equal(reaction_times, median_reaction_time + window_around_mean)))\n",
    "    valid_data = data.loc[valid_trials]\n",
    "    return valid_data"
   ]
  },
  {
   "cell_type": "markdown",
   "metadata": {},
   "source": [
    "# is movement different between trial types?"
   ]
  },
  {
   "cell_type": "code",
   "execution_count": 25,
   "metadata": {},
   "outputs": [
    {
     "name": "stderr",
     "output_type": "stream",
     "text": [
      "C:\\Users\\francescag\\AppData\\Local\\Temp\\ipykernel_21284\\2569819834.py:27: SettingWithCopyWarning: \n",
      "A value is trying to be set on a copy of a slice from a DataFrame.\n",
      "Try using .loc[row_indexer,col_indexer] = value instead\n",
      "\n",
      "See the caveats in the documentation: https://pandas.pydata.org/pandas-docs/stable/user_guide/indexing.html#returning-a-view-versus-a-copy\n",
      "  pre_trials['stimulus'] = 'tones'\n",
      "C:\\Users\\francescag\\AppData\\Local\\Temp\\ipykernel_21284\\2569819834.py:28: SettingWithCopyWarning: \n",
      "A value is trying to be set on a copy of a slice from a DataFrame.\n",
      "Try using .loc[row_indexer,col_indexer] = value instead\n",
      "\n",
      "See the caveats in the documentation: https://pandas.pydata.org/pandas-docs/stable/user_guide/indexing.html#returning-a-view-versus-a-copy\n",
      "  post_trials['stimulus'] = 'WN'\n",
      "C:\\Users\\francescag\\AppData\\Local\\Temp\\ipykernel_21284\\2569819834.py:27: SettingWithCopyWarning: \n",
      "A value is trying to be set on a copy of a slice from a DataFrame.\n",
      "Try using .loc[row_indexer,col_indexer] = value instead\n",
      "\n",
      "See the caveats in the documentation: https://pandas.pydata.org/pandas-docs/stable/user_guide/indexing.html#returning-a-view-versus-a-copy\n",
      "  pre_trials['stimulus'] = 'tones'\n",
      "C:\\Users\\francescag\\AppData\\Local\\Temp\\ipykernel_21284\\2569819834.py:28: SettingWithCopyWarning: \n",
      "A value is trying to be set on a copy of a slice from a DataFrame.\n",
      "Try using .loc[row_indexer,col_indexer] = value instead\n",
      "\n",
      "See the caveats in the documentation: https://pandas.pydata.org/pandas-docs/stable/user_guide/indexing.html#returning-a-view-versus-a-copy\n",
      "  post_trials['stimulus'] = 'WN'\n",
      "C:\\Users\\francescag\\AppData\\Local\\Temp\\ipykernel_21284\\2569819834.py:27: SettingWithCopyWarning: \n",
      "A value is trying to be set on a copy of a slice from a DataFrame.\n",
      "Try using .loc[row_indexer,col_indexer] = value instead\n",
      "\n",
      "See the caveats in the documentation: https://pandas.pydata.org/pandas-docs/stable/user_guide/indexing.html#returning-a-view-versus-a-copy\n",
      "  pre_trials['stimulus'] = 'tones'\n",
      "C:\\Users\\francescag\\AppData\\Local\\Temp\\ipykernel_21284\\2569819834.py:28: SettingWithCopyWarning: \n",
      "A value is trying to be set on a copy of a slice from a DataFrame.\n",
      "Try using .loc[row_indexer,col_indexer] = value instead\n",
      "\n",
      "See the caveats in the documentation: https://pandas.pydata.org/pandas-docs/stable/user_guide/indexing.html#returning-a-view-versus-a-copy\n",
      "  post_trials['stimulus'] = 'WN'\n",
      "C:\\Users\\francescag\\AppData\\Local\\Temp\\ipykernel_21284\\2569819834.py:27: SettingWithCopyWarning: \n",
      "A value is trying to be set on a copy of a slice from a DataFrame.\n",
      "Try using .loc[row_indexer,col_indexer] = value instead\n",
      "\n",
      "See the caveats in the documentation: https://pandas.pydata.org/pandas-docs/stable/user_guide/indexing.html#returning-a-view-versus-a-copy\n",
      "  pre_trials['stimulus'] = 'tones'\n",
      "C:\\Users\\francescag\\AppData\\Local\\Temp\\ipykernel_21284\\2569819834.py:28: SettingWithCopyWarning: \n",
      "A value is trying to be set on a copy of a slice from a DataFrame.\n",
      "Try using .loc[row_indexer,col_indexer] = value instead\n",
      "\n",
      "See the caveats in the documentation: https://pandas.pydata.org/pandas-docs/stable/user_guide/indexing.html#returning-a-view-versus-a-copy\n",
      "  post_trials['stimulus'] = 'WN'\n",
      "C:\\Users\\francescag\\AppData\\Local\\Temp\\ipykernel_21284\\2569819834.py:27: SettingWithCopyWarning: \n",
      "A value is trying to be set on a copy of a slice from a DataFrame.\n",
      "Try using .loc[row_indexer,col_indexer] = value instead\n",
      "\n",
      "See the caveats in the documentation: https://pandas.pydata.org/pandas-docs/stable/user_guide/indexing.html#returning-a-view-versus-a-copy\n",
      "  pre_trials['stimulus'] = 'tones'\n",
      "C:\\Users\\francescag\\AppData\\Local\\Temp\\ipykernel_21284\\2569819834.py:28: SettingWithCopyWarning: \n",
      "A value is trying to be set on a copy of a slice from a DataFrame.\n",
      "Try using .loc[row_indexer,col_indexer] = value instead\n",
      "\n",
      "See the caveats in the documentation: https://pandas.pydata.org/pandas-docs/stable/user_guide/indexing.html#returning-a-view-versus-a-copy\n",
      "  post_trials['stimulus'] = 'WN'\n",
      "C:\\Users\\francescag\\AppData\\Local\\Temp\\ipykernel_21284\\2569819834.py:27: SettingWithCopyWarning: \n",
      "A value is trying to be set on a copy of a slice from a DataFrame.\n",
      "Try using .loc[row_indexer,col_indexer] = value instead\n",
      "\n",
      "See the caveats in the documentation: https://pandas.pydata.org/pandas-docs/stable/user_guide/indexing.html#returning-a-view-versus-a-copy\n",
      "  pre_trials['stimulus'] = 'tones'\n",
      "C:\\Users\\francescag\\AppData\\Local\\Temp\\ipykernel_21284\\2569819834.py:28: SettingWithCopyWarning: \n",
      "A value is trying to be set on a copy of a slice from a DataFrame.\n",
      "Try using .loc[row_indexer,col_indexer] = value instead\n",
      "\n",
      "See the caveats in the documentation: https://pandas.pydata.org/pandas-docs/stable/user_guide/indexing.html#returning-a-view-versus-a-copy\n",
      "  post_trials['stimulus'] = 'WN'\n"
     ]
    }
   ],
   "source": [
    "#load photometry data in to get which trials are in photometry analyses\n",
    "repro_file = os.path.join(reproduce_figures_path, 'ED_fig6', 'state_change_summary_no_traces.csv')\n",
    "all_session_change_data = pd.read_csv(repro_file, index_col=0)\n",
    "\n",
    "# load movement data in (from tracking pipeline output)\n",
    "recording_site = 'tail'\n",
    "mice = state_change_mice[recording_site]\n",
    "turn_angles = []\n",
    "stimulus = []\n",
    "speeds = []\n",
    "mice_for_df = []\n",
    "for mouse in mice:\n",
    "    all_experiments = get_all_experimental_records()\n",
    "    all_experiments = remove_unsuitable_recordings(all_experiments)\n",
    "    experiments_to_process = all_experiments[\n",
    "        (all_experiments['mouse_id'] == mouse) & (all_experiments['recording_site'] == recording_site) & (all_experiments['experiment_notes'] == 'state change white noise')]\n",
    "    dates = experiments_to_process['date'].values[-4:]\n",
    "    date = dates[0]\n",
    "    repro_movement_file = os.path.join(reproduce_figures_path, 'ED_fig6', 'state_change_movement','APE_tracking{}_{}.csv'.format(mouse, date))\n",
    "    movement_df = pd.read_csv(repro_movement_file)\n",
    "    movement_df['abs fitted max cumsum ang vel'] = movement_df['fitted max cumsum ang vel'].abs()\n",
    "\n",
    "    contra_data = movement_df[movement_df.side == 'contra']\n",
    "    valid_contra_data = filter_trials_around_reaction_time(contra_data)\n",
    "\n",
    "    mouse_behavioural_data = all_session_change_data[all_session_change_data['mouse'] == mouse]\n",
    "    \n",
    "    pre_trial_nums = mouse_behavioural_data[mouse_behavioural_data['trial type'] == 'pre']['trial number'].values\n",
    "    post_trial_nums = mouse_behavioural_data[mouse_behavioural_data['trial type'] == 'post']['trial number'].values\n",
    "    pre_trials = valid_contra_data[valid_contra_data['trial numbers'].isin(pre_trial_nums)]\n",
    "    post_trials = valid_contra_data[valid_contra_data['trial numbers'].isin(post_trial_nums)]\n",
    "    pre_trials['stimulus'] = 'tones'\n",
    "    post_trials['stimulus'] = 'WN'\n",
    "    all_trials = pd.concat([pre_trials, post_trials]).sort_values(by='trial numbers')\n",
    "    turn_angles.append(np.mean(pre_trials['abs fitted max cumsum ang vel'].values))\n",
    "    speeds.append(np.mean(pre_trials['average speed'].values))\n",
    "    stimulus.append('tones')\n",
    "    mice_for_df.append(mouse)\n",
    "    turn_angles.append(np.mean(post_trials['abs fitted max cumsum ang vel'].values))\n",
    "    speeds.append(np.mean(post_trials['average speed'].values))\n",
    "    stimulus.append('WN')\n",
    "    mice_for_df.append(mouse)"
   ]
  },
  {
   "cell_type": "code",
   "execution_count": 26,
   "metadata": {},
   "outputs": [],
   "source": [
    "pre_post_with_movement = pd.DataFrame({'mouse': mice_for_df, 'stimulus': stimulus, 'turn angle': turn_angles, 'speed': speeds})"
   ]
  },
  {
   "cell_type": "code",
   "execution_count": 27,
   "metadata": {},
   "outputs": [],
   "source": [
    "turn_angle_for_plot = pre_post_with_movement.pivot(index='stimulus', columns='mouse', values='turn angle').sort_values('stimulus', ascending=False)\n",
    "speed_for_plot = pre_post_with_movement.pivot(index='stimulus', columns='mouse', values='speed').sort_values('stimulus', ascending=False)"
   ]
  },
  {
   "cell_type": "code",
   "execution_count": 31,
   "metadata": {},
   "outputs": [],
   "source": [
    "turn_angle_csv = os.path.join(spreadsheet_path, 'ED_fig6', 'ED_fig6P_turn_angle_state_change.csv')\n",
    "if not os.path.exists(turn_angle_csv):\n",
    "    (turn_angle_for_plot.T).to_csv(turn_angle_csv)"
   ]
  },
  {
   "cell_type": "code",
   "execution_count": 32,
   "metadata": {},
   "outputs": [],
   "source": [
    "speed_csv = os.path.join(spreadsheet_path, 'ED_fig6', 'ED_fig6Q_speed_state_change.csv')\n",
    "if not os.path.exists(speed_csv):\n",
    "    (speed_for_plot.T).to_csv(speed_csv)"
   ]
  },
  {
   "cell_type": "code",
   "execution_count": 28,
   "metadata": {},
   "outputs": [
    {
     "data": {
      "image/png": "[encoded data removed]",
      "text/plain": [
       "<Figure size 144x144 with 1 Axes>"
      ]
     },
     "metadata": {
      "needs_background": "light"
     },
     "output_type": "display_data"
    }
   ],
   "source": [
    "font = {'size': 7}\n",
    "matplotlib.rc('font', **font)\n",
    "matplotlib.rcParams['pdf.fonttype'] = 42\n",
    "matplotlib.rcParams['font.sans-serif'] = 'Arial'\n",
    "matplotlib.rcParams['font.family']\n",
    "\n",
    "\n",
    "fig, ax = plt.subplots(figsize=[2,2])\n",
    "multi_conditions_plot(ax, turn_angle_for_plot, mean_line_color='#7FB5B5', mean_linewidth=0, show_err_bar=False)\n",
    "plt.xticks([0, 1], ['tones', 'WN'], fontsize=8)\n",
    "y = turn_angle_for_plot.T.to_numpy().max() + .2\n",
    "h = .1\n",
    "plt.ylabel('turn angle (degrees)', fontsize=8)\n",
    "ax.text(.5, y+h, 'n.s.', ha='center', fontsize=8)\n",
    "ax.set_xlabel(' ')\n",
    "\n",
    "plt.tight_layout()\n"
   ]
  },
  {
   "cell_type": "code",
   "execution_count": 8,
   "metadata": {},
   "outputs": [
    {
     "data": {
      "image/png": "[encoded data removed]",
      "text/plain": [
       "<Figure size 144x144 with 1 Axes>"
      ]
     },
     "metadata": {
      "needs_background": "light"
     },
     "output_type": "display_data"
    }
   ],
   "source": [
    "font = {'size': 7}\n",
    "matplotlib.rc('font', **font)\n",
    "matplotlib.rcParams['pdf.fonttype'] = 42\n",
    "matplotlib.rcParams['font.sans-serif'] = 'Arial'\n",
    "matplotlib.rcParams['font.family']\n",
    "\n",
    "\n",
    "fig, ax = plt.subplots(figsize=[2,2])\n",
    "multi_conditions_plot(ax, speed_for_plot, mean_line_color='#7FB5B5', mean_linewidth=0, show_err_bar=False)\n",
    "plt.xticks([0, 1], ['tones', 'WN'], fontsize=8)\n",
    "plt.ylabel('speed (pixels/frame)', fontsize=8)\n",
    "\n",
    "ax.set_xlabel(' ')\n",
    "y = speed_for_plot.T.to_numpy().max() + .2\n",
    "h = .1\n",
    "\n",
    "ax.text(.5, y+h, '*', ha='center', fontsize=12)\n",
    "\n",
    "plt.tight_layout()\n"
   ]
  },
  {
   "cell_type": "code",
   "execution_count": 9,
   "metadata": {},
   "outputs": [],
   "source": [
    "pre_data = pre_post_with_movement[pre_post_with_movement['stimulus'] == 'tones']\n",
    "post_data = pre_post_with_movement[pre_post_with_movement['stimulus'] == 'WN']"
   ]
  },
  {
   "cell_type": "code",
   "execution_count": 10,
   "metadata": {},
   "outputs": [
    {
     "data": {
      "text/plain": [
       "Ttest_relResult(statistic=3.47269796688869, pvalue=0.01779770295474364)"
      ]
     },
     "execution_count": 10,
     "metadata": {},
     "output_type": "execute_result"
    }
   ],
   "source": [
    "stats.ttest_rel(pre_data.speed, post_data.speed)"
   ]
  },
  {
   "cell_type": "code",
   "execution_count": 12,
   "metadata": {},
   "outputs": [
    {
     "name": "stdout",
     "output_type": "stream",
     "text": [
      "cohen d:  1.4177230082796404\n"
     ]
    },
    {
     "data": {
      "text/plain": [
       "1.4177230082796404"
      ]
     },
     "execution_count": 12,
     "metadata": {},
     "output_type": "execute_result"
    }
   ],
   "source": [
    "cohen_d_paired(pre_data.speed, post_data.speed)"
   ]
  },
  {
   "cell_type": "code",
   "execution_count": 13,
   "metadata": {},
   "outputs": [
    {
     "data": {
      "text/plain": [
       "Ttest_relResult(statistic=-0.19869820054790038, pvalue=0.8503256610833104)"
      ]
     },
     "execution_count": 13,
     "metadata": {},
     "output_type": "execute_result"
    }
   ],
   "source": [
    "stats.ttest_rel(pre_data['turn angle'], post_data['turn angle'])"
   ]
  },
  {
   "cell_type": "code",
   "execution_count": 14,
   "metadata": {},
   "outputs": [
    {
     "name": "stdout",
     "output_type": "stream",
     "text": [
      "cohen d:  -0.08111820069192614\n"
     ]
    },
    {
     "data": {
      "text/plain": [
       "-0.08111820069192614"
      ]
     },
     "execution_count": 14,
     "metadata": {},
     "output_type": "execute_result"
    }
   ],
   "source": [
    "cohen_d_paired(pre_data['turn angle'], post_data['turn angle'])"
   ]
  },
  {
   "cell_type": "code",
   "execution_count": null,
   "metadata": {},
   "outputs": [],
   "source": []
  }
 ],
 "metadata": {
  "kernelspec": {
   "display_name": "Python 3 (ipykernel)",
   "language": "python",
   "name": "python3"
  },
  "language_info": {
   "codemirror_mode": {
    "name": "ipython",
    "version": 3
   },
   "file_extension": ".py",
   "mimetype": "text/x-python",
   "name": "python",
   "nbconvert_exporter": "python",
   "pygments_lexer": "ipython3",
   "version": "3.8.13"
  }
 },
 "nbformat": 4,
 "nbformat_minor": 4
}
