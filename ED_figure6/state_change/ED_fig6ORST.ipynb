{
 "cells": [
  {
   "cell_type": "code",
   "execution_count": 22,
   "metadata": {},
   "outputs": [
    {
     "name": "stdout",
     "output_type": "stream",
     "text": [
      "The autoreload extension is already loaded. To reload it, use:\n",
      "  %reload_ext autoreload\n"
     ]
    }
   ],
   "source": [
    "%load_ext autoreload\n",
    "%autoreload 2\n",
    "%matplotlib qt5\n",
    "import sys\n",
    "sys.path.append('..\\..')\n",
    "import matplotlib.pyplot as plt\n",
    "import matplotlib\n",
    "from utils.post_processing_utils import *\n",
    "from utils.behaviour_utils import CalculateRBiasWindow\n",
    "from scipy import stats\n",
    "from utils.plotting import calculate_error_bars, multi_conditions_plot\n",
    "from set_global_params import processed_data_path, state_change_mice, figure_directory, reproduce_figures_path, spreadsheet_path\n",
    "from utils.stats import cohen_d_paired\n",
    "from save_to_excel import save_figure_data_to_excel"
   ]
  },
  {
   "cell_type": "markdown",
   "metadata": {},
   "source": [
    "# Making sure files are where they need to be - don't need to run if you have repro data"
   ]
  },
  {
   "cell_type": "code",
   "execution_count": 14,
   "metadata": {},
   "outputs": [],
   "source": [
    "# In case the repro data file doesn't exist, copy it over from the raw path \n",
    "# (don't run if you don't have the full data set and only have repro data - will throw error)\n",
    "repro_dir = os.path.join(reproduce_figures_path, 'ED_fig6', 'state_change_behaviour')\n",
    "mice = state_change_mice['tail'] + state_change_mice['Nacc']\n",
    "for mouse_num, mouse_id in enumerate(mice):\n",
    "    state_change_data = {}\n",
    "    exp_type = 'state change white noise'\n",
    "    all_experiments = get_all_experimental_records()\n",
    "    all_experiments = remove_unsuitable_recordings(all_experiments)\n",
    "    experiment_to_process = all_experiments[(all_experiments['experiment_notes'] == exp_type) & (all_experiments['mouse_id'] == mouse_id)]\n",
    "    copy_behaviour_to_folder_mouse_name(experiment_to_process, source_dir=processed_data_path, target_dir=repro_dir)"
   ]
  },
  {
   "cell_type": "markdown",
   "metadata": {},
   "source": [
    "# Main code"
   ]
  },
  {
   "cell_type": "code",
   "execution_count": 15,
   "metadata": {},
   "outputs": [],
   "source": [
    "def moving_average(x, window=50):\n",
    "    rolling_average = np.empty(len(x))\n",
    "    rolling_average[:] = np.nan\n",
    "    for i in range(window, len(x)):\n",
    "        win = range((i - window), i)\n",
    "        rolling_average[i] = np.mean(x[win])\n",
    "    return rolling_average"
   ]
  },
  {
   "cell_type": "code",
   "execution_count": 17,
   "metadata": {},
   "outputs": [],
   "source": [
    "repro_dir = os.path.join(reproduce_figures_path, 'ED_fig6', 'state_change_behaviour')"
   ]
  },
  {
   "cell_type": "code",
   "execution_count": 18,
   "metadata": {},
   "outputs": [
    {
     "name": "stdout",
     "output_type": "stream",
     "text": [
      "right 1\n",
      "left 7\n",
      "right 1\n",
      "right 1\n",
      "right 1\n",
      "right 1\n",
      "left 7\n",
      "left 7\n",
      "left 7\n",
      "right 1\n",
      "left 7\n",
      "right 1\n",
      "left 7\n"
     ]
    }
   ],
   "source": [
    "pre_pc = []\n",
    "post_pc = []\n",
    "mice = state_change_mice['tail'] + state_change_mice['Nacc']\n",
    "moving_avs = []\n",
    "for mouse_num, mouse_id in enumerate(mice):\n",
    "    state_change_data = {}\n",
    "    exp_type = 'state change white noise'\n",
    "    all_experiments = get_all_experimental_records()\n",
    "    all_experiments = remove_unsuitable_recordings(all_experiments)\n",
    "    experiment_to_process = all_experiments[(all_experiments['experiment_notes'] == exp_type) & (all_experiments['mouse_id'] == mouse_id)]\n",
    "    contra_side = experiment_to_process['fiber_side'].values[0]\n",
    "    fiber_options = np.array(['left', 'right'])\n",
    "    contra_choice_ind = (np.where(fiber_options != contra_side)[0] + 1)[0]\n",
    "    if contra_choice_ind == 2:\n",
    "        fiber_side_numeric = 7\n",
    "    else:\n",
    "        fiber_side_numeric = 1\n",
    "    print(contra_side,fiber_side_numeric)\n",
    "    trial_data = open_experiment_just_behaviour(experiment_to_process, root_dir=repro_dir)\n",
    "    trial_data.loc[trial_data['Trial outcome'] == 3, 'Trial outcome'] = 0\n",
    "    only_contra = trial_data.loc[trial_data['Trial type'] == fiber_side_numeric] \n",
    "    red_trial_data = only_contra[only_contra['State name'] == 'TrialStart']\n",
    "    post_trials = red_trial_data[np.logical_and(red_trial_data['Trial num'] >= 150, red_trial_data['Trial num'] <= 200)]\n",
    "    post_trials = post_trials[post_trials['Trial type'] == fiber_side_numeric]\n",
    "    wn_correct_trials =  post_trials[(post_trials['Response'] == contra_choice_ind) & (post_trials['Trial outcome'] == 1)] \n",
    "    wn_trial_type = wn_correct_trials['Trial type'].unique()[0]\n",
    "    wn_trials = post_trials[post_trials['Trial type'] == wn_trial_type]\n",
    "    post_pc.append(np.mean(wn_trials['Trial outcome'].values) * 100)\n",
    "    pre_pc.append(np.mean(red_trial_data[np.logical_and(red_trial_data['Trial num'] < 150, red_trial_data['Trial num'] >= 100)]['Trial outcome'].values) * 100)\n",
    "    moving_avs.append(moving_average(red_trial_data['Trial outcome'].values, window=20))"
   ]
  },
  {
   "cell_type": "code",
   "execution_count": 19,
   "metadata": {},
   "outputs": [],
   "source": [
    "moving_avs = []\n",
    "response_times = []\n",
    "missed_trials = []\n",
    "performance = []\n",
    "\n",
    "mice = state_change_mice['tail'] + state_change_mice['Nacc']\n",
    "moving_avs = []\n",
    "for mouse_num, mouse_id in enumerate(mice):\n",
    "    state_change_data = {}\n",
    "    exp_type = 'state change white noise'\n",
    "    all_experiments = get_all_experimental_records()\n",
    "    all_experiments = remove_unsuitable_recordings(all_experiments)\n",
    "    experiment_to_process = all_experiments[(all_experiments['experiment_notes'] == exp_type) & (all_experiments['mouse_id'] == mouse_id)]\n",
    "    contra_side = experiment_to_process['fiber_side'].values[0]\n",
    "    fiber_options = np.array(['right', 'left'])\n",
    "    fiber_side_numeric = (np.where(fiber_options != contra_side)[0] + 1)[0]\n",
    "    if fiber_side_numeric == 2:\n",
    "        side = 1\n",
    "    else:\n",
    "        side = -1\n",
    "    trial_data = open_experiment_just_behaviour(experiment_to_process, root_dir=repro_dir)\n",
    "    trial_data.loc[trial_data['Trial outcome'] == 3, 'Trial outcome'] = 0\n",
    "    red_trial_data = trial_data[trial_data['State name'] == 'TrialStart']\n",
    "    red_trial_data_for_missed_trials = trial_data[trial_data['State name'] == 'TrialStart']\n",
    "    red_trial_data_for_missed_trials.loc[trial_data['Trial outcome'] == 1, 'Trial outcome'] = 0\n",
    "    red_trial_data_for_missed_trials.loc[trial_data['Trial outcome'] == 3, 'Trial outcome'] = 1\n",
    "    red_trial_data.loc[trial_data['Trial outcome'] == 3, 'Trial outcome'] = 0\n",
    "    response_trial_data = trial_data[trial_data['State name'] == 'WaitForResponse']\n",
    "    post_trials = red_trial_data[np.logical_and(red_trial_data['Trial num'] >= 150, red_trial_data['Trial num'] <= 200)]\n",
    "    pre_trials = red_trial_data[np.logical_and(red_trial_data['Trial num'] < 150, red_trial_data['Trial num'] >= 100)]\n",
    "    moving_avs.append(CalculateRBiasWindow(red_trial_data['First response'].reset_index(drop=True), red_trial_data['First choice correct'].reset_index(drop=True), 20) *side *100)\n",
    "    response_times.append(moving_average(response_trial_data['Time end'].values - response_trial_data['Time start'].values, window=20))\n",
    "    missed_trials.append(moving_average(red_trial_data_for_missed_trials['Trial outcome'].values, window=20) * 100)\n",
    "    performance.append(moving_average(red_trial_data['Trial outcome'].values, window=20) * 100)\n",
    "\n",
    "\n"
   ]
  },
  {
   "cell_type": "code",
   "execution_count": 27,
   "metadata": {},
   "outputs": [],
   "source": [
    "def plot_rolling_mean(var, mice, moving_avs, y_axis_label='% bias to big reward side'):\n",
    "    \n",
    "    all_mice, min_num_trials = align_mulitple_mice_moving_avs(mice, moving_avs)\n",
    "    error_bar_lower, error_bar_upper = calculate_error_bars(np.nanmean(all_mice, axis=0),\n",
    "                                                                     all_mice,\n",
    "                                                                    error_bar_method='sem')\n",
    "    font = {'size': 8}\n",
    "    matplotlib.rc('font', **font)\n",
    "    matplotlib.rcParams['pdf.fonttype'] = 42\n",
    "    matplotlib.rcParams['font.sans-serif'] = 'Arial'\n",
    "    matplotlib.rcParams['font.family']\n",
    "\n",
    "\n",
    "    fig, axs = plt.subplots(1, 1, figsize=[2.5, 2])\n",
    "    [axs.plot(m[:min_num_trials], alpha=0.5, c='gray', lw=0.5, label=f'mouse {i}') for i, m in enumerate(moving_avs)]\n",
    "    axs.plot(np.nanmean(all_mice,axis=0), c='#5e8c89', lw=1, label='mean')\n",
    "    axs.fill_between(np.arange(0, min_num_trials), error_bar_lower, error_bar_upper, alpha=0.5,\n",
    "                                facecolor='#7FB5B5', linewidth=0)\n",
    "\n",
    "    axs.axvline(150, color='k', label='state change onset marker')\n",
    "    axs.set_xlabel('trial number')\n",
    "    axs.set_ylabel(y_axis_label)\n",
    "    axs.spines['right'].set_visible(False)\n",
    "    axs.spines['top'].set_visible(False)\n",
    "    plt.tight_layout()\n",
    "    plt.tight_layout()\n",
    "    #plt.savefig(os.path.join(figure_directory, '{} developing over trials.pdf'.format(var)))\n",
    "\n",
    "    plt.show()\n",
    "    return fig"
   ]
  },
  {
   "cell_type": "code",
   "execution_count": 10,
   "metadata": {},
   "outputs": [],
   "source": [
    "def calc_per_mouse_mean(mouse_moving_avs):\n",
    "    num_sessions = len(mouse_moving_avs)\n",
    "    num_trials = [len(m) for m in mouse_moving_avs]\n",
    "    min_num_trials = min(num_trials)\n",
    "    all_sessions = np.empty((num_sessions, min_num_trials))\n",
    "    all_sessions[:] = np.nan\n",
    "    for i, session_data in enumerate(mouse_moving_avs):\n",
    "        all_sessions[i, :min_num_trials] = session_data[:min_num_trials]\n",
    "    moving_av = np.nanmean(all_sessions, axis=0)\n",
    "    return moving_av"
   ]
  },
  {
   "cell_type": "code",
   "execution_count": 11,
   "metadata": {},
   "outputs": [],
   "source": [
    "def align_mulitple_mice_moving_avs(mice, moving_avs):\n",
    "    num_mice = len(mice)\n",
    "    num_trials = [len(m) for m in moving_avs]\n",
    "    min_num_trials = min([len(m) for m in moving_avs])\n",
    "    all_mice = np.empty((num_mice, min_num_trials))\n",
    "    all_mice[:] = np.nan\n",
    "    for i, mouse_data in enumerate(moving_avs):\n",
    "        all_mice[i, :min_num_trials] = mouse_data[:min_num_trials]\n",
    "    return all_mice, min_num_trials"
   ]
  },
  {
   "cell_type": "code",
   "execution_count": 28,
   "metadata": {},
   "outputs": [
    {
     "name": "stderr",
     "output_type": "stream",
     "text": [
      "C:\\Users\\francescag\\AppData\\Local\\Temp\\ipykernel_5240\\2764396830.py:4: RuntimeWarning: Mean of empty slice\n",
      "  error_bar_lower, error_bar_upper = calculate_error_bars(np.nanmean(all_mice, axis=0),\n",
      "C:\\Users\\francescag\\AppData\\Local\\Temp\\ipykernel_5240\\2764396830.py:16: RuntimeWarning: Mean of empty slice\n",
      "  axs.plot(np.nanmean(all_mice,axis=0), c='#5e8c89', lw=1, label='mean')\n"
     ]
    },
    {
     "name": "stdout",
     "output_type": "stream",
     "text": [
      "Data has been saved to S:\\projects\\APE_data_francesca_for_paper\\spreadsheets_for_nature\\ED_fig6\\ED_fig6T_bias_state_change.xlsx\n"
     ]
    }
   ],
   "source": [
    "bias_fig = plot_rolling_mean('bias', mice, moving_avs, y_axis_label='% bias to ipsi side')\n",
    "bias_xl = os.path.join(spreadsheet_path, 'ED_fig6', 'ED_fig6T_bias_state_change.xlsx')\n",
    "if not os.path.exists(bias_xl):\n",
    "    save_figure_data_to_excel(bias_fig, bias_xl)"
   ]
  },
  {
   "cell_type": "code",
   "execution_count": 29,
   "metadata": {},
   "outputs": [
    {
     "name": "stderr",
     "output_type": "stream",
     "text": [
      "C:\\Users\\francescag\\AppData\\Local\\Temp\\ipykernel_5240\\2764396830.py:4: RuntimeWarning: Mean of empty slice\n",
      "  error_bar_lower, error_bar_upper = calculate_error_bars(np.nanmean(all_mice, axis=0),\n",
      "C:\\Users\\francescag\\AppData\\Local\\Temp\\ipykernel_5240\\2764396830.py:16: RuntimeWarning: Mean of empty slice\n",
      "  axs.plot(np.nanmean(all_mice,axis=0), c='#5e8c89', lw=1, label='mean')\n"
     ]
    },
    {
     "name": "stdout",
     "output_type": "stream",
     "text": [
      "Data has been saved to S:\\projects\\APE_data_francesca_for_paper\\spreadsheets_for_nature\\ED_fig6\\ED_fig6S_response_time_state_change.xlsx\n"
     ]
    }
   ],
   "source": [
    "response_time_fig = plot_rolling_mean('response time', mice, response_times, y_axis_label='response time (s)')\n",
    "response_time_xl = os.path.join(spreadsheet_path, 'ED_fig6', 'ED_fig6S_response_time_state_change.xlsx')\n",
    "if not os.path.exists(response_time_xl):\n",
    "    save_figure_data_to_excel(response_time_fig, response_time_xl)"
   ]
  },
  {
   "cell_type": "code",
   "execution_count": 34,
   "metadata": {},
   "outputs": [
    {
     "name": "stderr",
     "output_type": "stream",
     "text": [
      "C:\\Users\\francescag\\AppData\\Local\\Temp\\ipykernel_5240\\2764396830.py:4: RuntimeWarning: Mean of empty slice\n",
      "  error_bar_lower, error_bar_upper = calculate_error_bars(np.nanmean(all_mice, axis=0),\n",
      "C:\\Users\\francescag\\AppData\\Local\\Temp\\ipykernel_5240\\2764396830.py:16: RuntimeWarning: Mean of empty slice\n",
      "  axs.plot(np.nanmean(all_mice,axis=0), c='#5e8c89', lw=1, label='mean')\n"
     ]
    }
   ],
   "source": [
    "performance_fig = plot_rolling_mean('performance', mice, performance, y_axis_label='% correct')\n",
    "performance_xl = os.path.join(spreadsheet_path, 'ED_fig6', 'ED_fig6R_performance_state_change.xlsx')\n",
    "if not os.path.exists(performance_xl):\n",
    "    save_figure_data_to_excel(performance_fig, performance_xl)"
   ]
  },
  {
   "cell_type": "code",
   "execution_count": 31,
   "metadata": {},
   "outputs": [
    {
     "name": "stderr",
     "output_type": "stream",
     "text": [
      "C:\\Users\\francescag\\AppData\\Local\\Temp\\ipykernel_5240\\2764396830.py:4: RuntimeWarning: Mean of empty slice\n",
      "  error_bar_lower, error_bar_upper = calculate_error_bars(np.nanmean(all_mice, axis=0),\n",
      "C:\\Users\\francescag\\AppData\\Local\\Temp\\ipykernel_5240\\2764396830.py:16: RuntimeWarning: Mean of empty slice\n",
      "  axs.plot(np.nanmean(all_mice,axis=0), c='#5e8c89', lw=1, label='mean')\n"
     ]
    }
   ],
   "source": [
    "missed_trials_fig = plot_rolling_mean('missed trials', mice, missed_trials, y_axis_label='% missed trials')"
   ]
  },
  {
   "cell_type": "code",
   "execution_count": 37,
   "metadata": {},
   "outputs": [],
   "source": [
    "behavioural_change = {}\n",
    "behavioural_change['mouse'] = mice\n",
    "behavioural_change['pre performance'] = pre_pc\n",
    "behavioural_change['post performance'] = post_pc\n",
    "behavioural_change_df = pd.DataFrame(behavioural_change)"
   ]
  },
  {
   "cell_type": "code",
   "execution_count": 38,
   "metadata": {},
   "outputs": [],
   "source": [
    "df_for_plot = behavioural_change_df.set_index('mouse').transpose()"
   ]
  },
  {
   "cell_type": "code",
   "execution_count": 41,
   "metadata": {},
   "outputs": [],
   "source": [
    "comparison_csv = os.path.join(spreadsheet_path, 'ED_fig6', 'ED_fig6O_pre_post_state_change.csv')\n",
    "if not os.path.exists(comparison_csv):\n",
    "    (df_for_plot.T).to_csv(comparison_csv)\n"
   ]
  },
  {
   "cell_type": "code",
   "execution_count": 16,
   "metadata": {},
   "outputs": [
    {
     "data": {
      "text/plain": [
       "Text(0.5, 104.0, '***')"
      ]
     },
     "execution_count": 16,
     "metadata": {},
     "output_type": "execute_result"
    }
   ],
   "source": [
    "from utils.plotting import output_significance_stars_from_pval\n",
    "font = {'size': 7}\n",
    "matplotlib.rc('font', **font)\n",
    "matplotlib.rcParams['pdf.fonttype'] = 42\n",
    "matplotlib.rcParams['font.sans-serif'] = 'Arial'\n",
    "matplotlib.rcParams['font.family']\n",
    "\n",
    "\n",
    "\n",
    "fig, ax = plt.subplots(figsize=[1.5, 1.5])\n",
    "multi_conditions_plot(ax, df_for_plot, mean_line_color='#7FB5B5', mean_linewidth=0, show_err_bar=False)\n",
    "plt.xticks([0, 1], ['Tone', 'WN'])\n",
    "plt.ylabel('Performance (%)')\n",
    "plt.tight_layout()\n",
    "#significance stars\n",
    "y = df_for_plot.to_numpy().max() + 2\n",
    "h = 2\n",
    "plt.plot([0, 0, 1, 1], [y, y+h, y+h, y],c='k',lw=1)\n",
    "\n",
    "pre_data = df_for_plot.T['pre performance']\n",
    "post_data = df_for_plot.T['post performance']\n",
    "stat, pval = stats.ttest_rel(pre_data, post_data)\n",
    "stars = output_significance_stars_from_pval(pval)\n",
    "ax.text(.5, y+h, stars, ha='center', fontsize=10)\n",
    "\n"
   ]
  },
  {
   "cell_type": "code",
   "execution_count": 17,
   "metadata": {},
   "outputs": [
    {
     "data": {
      "text/plain": [
       "0.00019880481396597073"
      ]
     },
     "execution_count": 17,
     "metadata": {},
     "output_type": "execute_result"
    }
   ],
   "source": [
    "pre_data = df_for_plot.T['pre performance']\n",
    "post_data = df_for_plot.T['post performance']\n",
    "stat, pval = stats.ttest_rel(pre_data, post_data)\n",
    "pval"
   ]
  },
  {
   "cell_type": "code",
   "execution_count": 18,
   "metadata": {},
   "outputs": [
    {
     "name": "stdout",
     "output_type": "stream",
     "text": [
      "cohen d:  1.4607844475894787\n"
     ]
    },
    {
     "data": {
      "text/plain": [
       "1.4607844475894787"
      ]
     },
     "execution_count": 18,
     "metadata": {},
     "output_type": "execute_result"
    }
   ],
   "source": [
    "cohen_d_paired(pre_data, post_data)"
   ]
  },
  {
   "cell_type": "code",
   "execution_count": 46,
   "metadata": {},
   "outputs": [],
   "source": [
    "from scipy.stats import shapiro"
   ]
  },
  {
   "cell_type": "code",
   "execution_count": 47,
   "metadata": {},
   "outputs": [
    {
     "data": {
      "text/plain": [
       "ShapiroResult(statistic=0.9323903918266296, pvalue=0.3661174774169922)"
      ]
     },
     "execution_count": 47,
     "metadata": {},
     "output_type": "execute_result"
    }
   ],
   "source": [
    "differences = pre_data - post_data\n",
    "shapiro(differences)"
   ]
  }
 ],
 "metadata": {
  "kernelspec": {
   "display_name": "Python 3 (ipykernel)",
   "language": "python",
   "name": "python3"
  },
  "language_info": {
   "codemirror_mode": {
    "name": "ipython",
    "version": 3
   },
   "file_extension": ".py",
   "mimetype": "text/x-python",
   "name": "python",
   "nbconvert_exporter": "python",
   "pygments_lexer": "ipython3",
   "version": "3.8.13"
  }
 },
 "nbformat": 4,
 "nbformat_minor": 4
}
