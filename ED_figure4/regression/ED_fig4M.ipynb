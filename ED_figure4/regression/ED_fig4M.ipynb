{
 "cells": [
  {
   "cell_type": "code",
   "execution_count": 2,
   "metadata": {},
   "outputs": [],
   "source": [
    "import sys\n",
    "sys.path.append('..\\..')\n",
    "import os\n",
    "import pickle\n",
    "import pandas as pd\n",
    "import numpy as np\n",
    "from scipy import stats\n",
    "import shutil\n",
    "from set_global_params import mice_average_traces, processed_data_path, figure_directory, spreadsheet_path, reproduce_figures_path"
   ]
  },
  {
   "cell_type": "code",
   "execution_count": 3,
   "metadata": {},
   "outputs": [],
   "source": [
    "mouse_ids = mice_average_traces['tail']\n",
    "repro_dir = os.path.join(reproduce_figures_path, 'ED_fig4', 'exp_var')\n",
    "repro_file_name = 'tail_mice_var_exp_with_return_to_centre_and_trimmed_traces_300frames_long_turns.p'\n",
    "if not os.path.exists(os.path.join(repro_dir, repro_file_name)):\n",
    "    trimmed_var_exp_filename_original = os.path.join(processed_data_path, '_'.join(mouse_ids) +  '_var_exp_with_return_to_centre_and_trimmed_traces_300frames_long_turns.p') \n",
    "    shutil.copy(trimmed_var_exp_filename_original, os.path.join(repro_dir, repro_file_name))\n",
    "trimmed_var_exp = pd.read_pickle(os.path.join(repro_dir, repro_file_name))[['mouse_id', 'date', 'session number', 'var exp'  ]]"
   ]
  },
  {
   "cell_type": "code",
   "execution_count": 4,
   "metadata": {},
   "outputs": [],
   "source": [
    "repro_dir = os.path.join(reproduce_figures_path, 'ED_fig4', 'exp_var')\n",
    "repro_file_name = 'tail_mice_var_exp_with_return_to_centre_300frames_long_turns.p'\n",
    "if not os.path.exists(os.path.join(repro_dir, repro_file_name)):\n",
    "    trimmed_var_exp_filename_original = os.path.join(processed_data_path, '_'.join(mouse_ids) +  '_var_exp_with_return_to_centre_300frames_long_turns.p') \n",
    "    shutil.copy(trimmed_var_exp_filename_original, os.path.join(repro_dir, repro_file_name))\n",
    "var_exp = pd.read_pickle(os.path.join(repro_dir, repro_file_name))[['mouse_id', 'date', 'session number', 'var exp'  ]]"
   ]
  },
  {
   "cell_type": "code",
   "execution_count": 5,
   "metadata": {},
   "outputs": [
    {
     "data": {
      "text/plain": [
       "Ttest_relResult(statistic=-14.190512303196876, pvalue=2.5908734856712906e-14)"
      ]
     },
     "execution_count": 5,
     "metadata": {},
     "output_type": "execute_result"
    }
   ],
   "source": [
    "stats.ttest_rel(var_exp['var exp'], trimmed_var_exp['var exp'])"
   ]
  },
  {
   "cell_type": "code",
   "execution_count": 6,
   "metadata": {},
   "outputs": [
    {
     "data": {
      "text/plain": [
       "0.10279935271519065"
      ]
     },
     "execution_count": 6,
     "metadata": {},
     "output_type": "execute_result"
    }
   ],
   "source": [
    "trimmed_var_exp['var exp'].mean()"
   ]
  },
  {
   "cell_type": "code",
   "execution_count": 7,
   "metadata": {},
   "outputs": [
    {
     "data": {
      "text/plain": [
       "0.07119415037710213"
      ]
     },
     "execution_count": 7,
     "metadata": {},
     "output_type": "execute_result"
    }
   ],
   "source": [
    "var_exp['var exp'].mean()"
   ]
  },
  {
   "cell_type": "markdown",
   "metadata": {},
   "source": [
    "# without return to centre"
   ]
  },
  {
   "cell_type": "code",
   "execution_count": 7,
   "metadata": {},
   "outputs": [],
   "source": [
    "site = 'tail'\n",
    "file_name = site + '_explained_variances_all_cues_trimmed_traces_only_tracking_mice.p' \n",
    "repro_dir = os.path.join(reproduce_figures_path, 'ED_fig4', 'exp_var')\n",
    "if not os.path.exists(os.path.join(repro_dir, file_name)):\n",
    "    processed_data_dir = os.path.join(processed_data_path, 'linear_regression_data')\n",
    "    shutil.copy(os.path.join(processed_data_dir, file_name), os.path.join(repro_dir, file_name))\n",
    "\n",
    "var_exp_no_returns = pd.read_pickle(os.path.join(repro_dir, file_name))"
   ]
  },
  {
   "cell_type": "code",
   "execution_count": 8,
   "metadata": {},
   "outputs": [],
   "source": [
    "var_exp_no_returns = var_exp_no_returns.rename(columns={'full model explained variance with trimming': 'original model with trimming' ,'full model explained variance without trimming':'original model no trimming'})"
   ]
  },
  {
   "cell_type": "code",
   "execution_count": 9,
   "metadata": {},
   "outputs": [
    {
     "data": {
      "text/plain": [
       "0.05072604104509525"
      ]
     },
     "execution_count": 9,
     "metadata": {},
     "output_type": "execute_result"
    }
   ],
   "source": [
    "var_exp_no_returns['original model no trimming'].median()"
   ]
  },
  {
   "cell_type": "code",
   "execution_count": 10,
   "metadata": {},
   "outputs": [
    {
     "data": {
      "text/plain": [
       "0.08526785244076396"
      ]
     },
     "execution_count": 10,
     "metadata": {},
     "output_type": "execute_result"
    }
   ],
   "source": [
    "var_exp_no_returns['original model with trimming'].median()"
   ]
  },
  {
   "cell_type": "code",
   "execution_count": 11,
   "metadata": {},
   "outputs": [
    {
     "data": {
      "text/plain": [
       "Ttest_relResult(statistic=-9.70108192159193, pvalue=1.8727295900064778e-10)"
      ]
     },
     "execution_count": 11,
     "metadata": {},
     "output_type": "execute_result"
    }
   ],
   "source": [
    "stats.ttest_rel(var_exp_no_returns['original model no trimming'], var_exp_no_returns['original model with trimming'])"
   ]
  },
  {
   "cell_type": "code",
   "execution_count": 12,
   "metadata": {},
   "outputs": [],
   "source": [
    "all_reg_models = var_exp_no_returns.copy()"
   ]
  },
  {
   "cell_type": "code",
   "execution_count": 13,
   "metadata": {},
   "outputs": [],
   "source": [
    "all_reg_models['with returns no trimming'] = var_exp['var exp']"
   ]
  },
  {
   "cell_type": "code",
   "execution_count": 14,
   "metadata": {},
   "outputs": [],
   "source": [
    "all_reg_models['with returns and trimming'] = trimmed_var_exp['var exp']"
   ]
  },
  {
   "cell_type": "code",
   "execution_count": 15,
   "metadata": {},
   "outputs": [],
   "source": [
    "all_reg_models = all_reg_models.rename(columns={'original model with trimming': 'original\\n+trimming', \n",
    "                              'original model no trimming': 'original', \n",
    "                              'with returns no trimming': '+returns',\n",
    "                              'with returns and trimming': '+returns\\n+trimming'})"
   ]
  },
  {
   "cell_type": "code",
   "execution_count": 16,
   "metadata": {},
   "outputs": [],
   "source": [
    "all_reg_models = all_reg_models[['mouse_id', 'date', 'original','+returns', 'original\\n+trimming', '+returns\\n+trimming']]\n"
   ]
  },
  {
   "cell_type": "code",
   "execution_count": 17,
   "metadata": {},
   "outputs": [],
   "source": [
    "mean_df = all_reg_models.groupby('mouse_id').mean()"
   ]
  },
  {
   "cell_type": "code",
   "execution_count": 18,
   "metadata": {},
   "outputs": [],
   "source": [
    "melted_df = pd.melt(mean_df, value_vars=['original','+returns', 'original\\n+trimming', '+returns\\n+trimming'], value_name='explained variance', var_name='model')"
   ]
  },
  {
   "cell_type": "code",
   "execution_count": 21,
   "metadata": {},
   "outputs": [],
   "source": [
    "#save df to csv for publication\n",
    "spreadsheet_file = os.path.join(spreadsheet_path, 'ED_fig4', 'ED_fig4M_exp_vars.csv')\n",
    "if not os.path.exists(spreadsheet_file):\n",
    "    melted_df.to_csv(spreadsheet_file)"
   ]
  },
  {
   "cell_type": "code",
   "execution_count": 20,
   "metadata": {},
   "outputs": [],
   "source": [
    "import matplotlib\n",
    "import matplotlib.pyplot as plt\n",
    "import seaborn as sns"
   ]
  },
  {
   "cell_type": "code",
   "execution_count": 21,
   "metadata": {},
   "outputs": [],
   "source": [
    "def make_box_plot(df, fig_ax,  dx ='model', dy = 'explained variance', ort = \"v\", pal = ['#E95F32', '#002F3A', '#F933FF', '#F933FF'], set_ylims=False, label=None, scatter_size=4):\n",
    "    custom_palette = sns.set_palette(sns.color_palette(pal))\n",
    "    keys = melted_df.model.unique()\n",
    "    for i, key in enumerate(keys):\n",
    "        data = df[df[dx] == key]\n",
    "        noise = np.random.normal(0, 0.04, data.shape[0])\n",
    "        fig_ax.scatter((data[dx].values == key).astype(int) * i + noise - 0.3, data[dy].values, color=pal[i], s=7, alpha=0.6)\n",
    "\n",
    "    \n",
    "    sns.boxplot(x=dx, y=dy, data=df, palette=custom_palette, width = .3, zorder = 10,linewidth=0.1, \\\n",
    "                showcaps = True, boxprops = {\"zorder\":10, 'alpha':.9},\\\n",
    "                showfliers=False, whiskerprops = {'linewidth':0.5, \"zorder\":10},\\\n",
    "                   saturation = 1, orient = ort, ax=fig_ax,\n",
    "                 medianprops={'color':'white', 'linewidth':1})\n",
    "    #fig_ax.set_xlim([-1, 3])\n",
    "    if set_ylims:\n",
    "        fig_ax.set_ylim([-2, np.max(df[dy]) + 2]) \n",
    "    if label:\n",
    "        fig_ax.text(0.5, 1, label, transform=fig_ax.get_xaxis_transform(), size=8, ha='center')"
   ]
  },
  {
   "cell_type": "code",
   "execution_count": 22,
   "metadata": {},
   "outputs": [
    {
     "data": {
      "image/png": "[encoded data removed]",
      "text/plain": [
       "<Figure size 230.4x180 with 1 Axes>"
      ]
     },
     "metadata": {
      "needs_background": "light"
     },
     "output_type": "display_data"
    }
   ],
   "source": [
    "font = {'size': 8.5, 'family':'sans-serif', 'sans-serif':['Arial']}\n",
    "matplotlib.rc('font', **font)\n",
    "fig, ax = plt.subplots(1,1, figsize=[3.2,2.5])\n",
    "matplotlib.rcParams['pdf.fonttype'] = 42\n",
    "pal = sns.color_palette('Set2')\n",
    "pal.as_hex()[:3]\n",
    "make_box_plot(melted_df, ax, pal=pal)\n",
    "\n",
    "ax.spines['right'].set_visible(False)\n",
    "ax.spines['top'].set_visible(False)\n",
    "ax.yaxis.set_ticks_position('left')\n",
    "ax.xaxis.set_ticks_position('bottom')\n",
    "plt.tight_layout()\n"
   ]
  },
  {
   "cell_type": "code",
   "execution_count": 38,
   "metadata": {},
   "outputs": [
    {
     "data": {
      "image/png": "[encoded data removed]",
      "text/plain": [
       "<Figure size 129.6x180 with 1 Axes>"
      ]
     },
     "metadata": {
      "needs_background": "light"
     },
     "output_type": "display_data"
    }
   ],
   "source": [
    "melted_df_no_trimming = pd.melt(mean_df[['original','+returns']], value_vars=['original','+returns'], value_name='explained variance', var_name='model')\n",
    "font = {'size': 8.5, 'family':'sans-serif', 'sans-serif':['Arial']}\n",
    "matplotlib.rc('font', **font)\n",
    "fig, ax = plt.subplots(1,1, figsize=[1.8,2.5])\n",
    "matplotlib.rcParams['pdf.fonttype'] = 42\n",
    "pal = sns.color_palette('Set2')\n",
    "pal.as_hex()[:3]\n",
    "make_box_plot(melted_df_no_trimming, ax, pal=pal)\n",
    "\n",
    "ax.spines['right'].set_visible(False)\n",
    "ax.spines['top'].set_visible(False)\n",
    "ax.yaxis.set_ticks_position('left')\n",
    "ax.xaxis.set_ticks_position('bottom')\n",
    "plt.tight_layout()"
   ]
  },
  {
   "cell_type": "markdown",
   "metadata": {},
   "source": [
    "# Perc of data covered by behavioral variables"
   ]
  },
  {
   "cell_type": "code",
   "execution_count": 3,
   "metadata": {},
   "outputs": [],
   "source": [
    "site = 'tail'\n",
    "file_name = site + '_perc_covereed_by_design_matrix_all_cues_trimmed_traces_only_tracking_mice.p'\n",
    "repro_dir = os.path.join(reproduce_figures_path, 'ED_fig4', 'exp_var')\n",
    "if not os.path.exists(os.path.join(repro_dir, file_name)):\n",
    "    processed_data_dir = os.path.join(processed_data_path, 'linear_regression_data')\n",
    "    shutil.copy(os.path.join(processed_data_dir, file_name), os.path.join(repro_dir, file_name))\n",
    "perc_covered = pd.read_pickle(os.path.join(repro_dir, file_name))"
   ]
  },
  {
   "cell_type": "code",
   "execution_count": 9,
   "metadata": {},
   "outputs": [
    {
     "data": {
      "text/plain": [
       "perc covered by design matrix    68.057125\n",
       "dtype: float64"
      ]
     },
     "execution_count": 9,
     "metadata": {},
     "output_type": "execute_result"
    }
   ],
   "source": [
    "perc_covered.groupby('mouse_id').mean().median()"
   ]
  },
  {
   "cell_type": "code",
   "execution_count": null,
   "metadata": {},
   "outputs": [],
   "source": []
  }
 ],
 "metadata": {
  "kernelspec": {
   "display_name": "Python 3 (ipykernel)",
   "language": "python",
   "name": "python3"
  },
  "language_info": {
   "codemirror_mode": {
    "name": "ipython",
    "version": 3
   },
   "file_extension": ".py",
   "mimetype": "text/x-python",
   "name": "python",
   "nbconvert_exporter": "python",
   "pygments_lexer": "ipython3",
   "version": "3.8.13"
  }
 },
 "nbformat": 4,
 "nbformat_minor": 4
}
